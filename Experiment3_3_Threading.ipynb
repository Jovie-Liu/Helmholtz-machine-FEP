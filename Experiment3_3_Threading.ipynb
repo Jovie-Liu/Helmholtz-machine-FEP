{
 "cells": [
  {
   "cell_type": "markdown",
   "id": "2425b558",
   "metadata": {},
   "source": [
    "***\n",
    "*Project:* Helmholtz Machine on Niche Construction\n",
    "\n",
    "*Author:* Jingwei Liu, Computer Music Ph.D., UC San Diego\n",
    "***\n",
    "\n",
    "# <span style=\"background-color:darkorange; color:white; padding:2px 6px\">Experiment 3_3</span> \n",
    "\n",
    "# Real-Time Synthesis (Threading)\n",
    "\n",
    "*Created:* December 24, 2023\n",
    "\n",
    "*Updated:* December 24, 2023"
   ]
  },
  {
   "cell_type": "code",
   "execution_count": 1,
   "id": "478030f6",
   "metadata": {},
   "outputs": [],
   "source": [
    "import numpy as np\n",
    "import matplotlib.pyplot as plt\n",
    "import librosa\n",
    "from IPython.display import Audio\n",
    "import pyaudio\n",
    "import wave\n",
    "import sys\n",
    "import os\n",
    "from pathlib import Path\n",
    "import time\n",
    "import threading"
   ]
  },
  {
   "cell_type": "markdown",
   "id": "103b5fc1",
   "metadata": {},
   "source": [
    "### An Example of Threading"
   ]
  },
  {
   "cell_type": "code",
   "execution_count": 10,
   "id": "2ca1b540",
   "metadata": {},
   "outputs": [
    {
     "name": "stdout",
     "output_type": "stream",
     "text": [
      "3\n",
      "6\n",
      "9\n",
      "12\n",
      "15\n",
      "18\n",
      "21\n",
      "24\n",
      "27\n"
     ]
    }
   ],
   "source": [
    "a = 0\n",
    "b = 0\n",
    "def thread1(threadname):\n",
    "    global a,b\n",
    "    while a < 10:\n",
    "        a += 1\n",
    "        b += 2\n",
    "        time.sleep(1)\n",
    "\n",
    "def thread2(threadname):\n",
    "    while a < 10:\n",
    "        print(a+b)\n",
    "        time.sleep(1)\n",
    "\n",
    "thread1 = threading.Thread(target=thread1, args=(\"Thread-1\", ) )\n",
    "thread2 = threading.Thread(target=thread2, args=(\"Thread-2\", ) )\n",
    "\n",
    "thread1.start()\n",
    "thread2.start()\n",
    "thread1.join()\n",
    "thread2.join()"
   ]
  },
  {
   "cell_type": "markdown",
   "id": "5181bb87",
   "metadata": {},
   "source": [
    "### Functions"
   ]
  },
  {
   "cell_type": "code",
   "execution_count": 4,
   "id": "e12383ee",
   "metadata": {},
   "outputs": [
    {
     "data": {
      "text/plain": [
       "{'clap': array([-5.2706543e-02,  6.8760648e-02, -1.4342493e-01, ...,\n",
       "         8.6916843e-06, -2.4170677e-06,  9.0632864e-07], dtype=float32),\n",
       " 'hihat closed': array([ 8.7055489e-02,  3.4345269e-01, -4.2524356e-01, ...,\n",
       "         5.6425459e-05,  1.7882790e-05, -3.8322993e-05], dtype=float32),\n",
       " 'hihat open': array([ 9.8636545e-02,  2.8145188e-01, -1.9611624e-01, ...,\n",
       "        -7.8135054e-07,  1.1714292e-07,  1.0206713e-07], dtype=float32),\n",
       " 'kick': array([-0.00218478, -0.00930428, -0.01938734, ..., -0.00053879,\n",
       "        -0.00056686, -0.00048317], dtype=float32),\n",
       " 'ride': array([-4.1870825e-02,  2.7795248e-02, -1.4001541e-02, ...,\n",
       "         3.8695944e-05,  6.7816058e-05, -1.5612140e-04], dtype=float32),\n",
       " 'snare': array([ 7.6284137e-04,  9.2353951e-03,  7.4334239e-04, ...,\n",
       "        -2.6067326e-05, -1.1731618e-05,  0.0000000e+00], dtype=float32),\n",
       " 'Tom': array([-1.0707259e-02, -1.9491711e-01, -3.7550956e-01, ...,\n",
       "         1.3712779e-06,  7.7723962e-07,  1.7710408e-07], dtype=float32),\n",
       " 'wood': array([ 3.2787621e-03,  1.0982427e-01,  2.9791504e-01, ...,\n",
       "        -8.9595414e-07, -6.6712528e-07, -2.0115112e-07], dtype=float32)}"
      ]
     },
     "execution_count": 4,
     "metadata": {},
     "output_type": "execute_result"
    }
   ],
   "source": [
    "txt_folder = Path('Instruments').rglob('*.wav')\n",
    "Instruments = []\n",
    "for x in txt_folder:\n",
    "    basename = os.path.basename(x)\n",
    "    filename = os.path.splitext(basename)[0]\n",
    "    Instruments.append(filename)\n",
    "instruments_sound = {}\n",
    "for i in range(len(Instruments)):\n",
    "    instruments_sound[Instruments[i]],fs = librosa.load('Instruments/'+Instruments[i]+'.wav')\n",
    "instruments_sound"
   ]
  },
  {
   "cell_type": "code",
   "execution_count": 5,
   "id": "72850eb5",
   "metadata": {},
   "outputs": [
    {
     "data": {
      "text/plain": [
       "22050"
      ]
     },
     "execution_count": 5,
     "metadata": {},
     "output_type": "execute_result"
    }
   ],
   "source": [
    "fs"
   ]
  },
  {
   "cell_type": "code",
   "execution_count": 2,
   "id": "9af98181",
   "metadata": {},
   "outputs": [],
   "source": [
    "def intrument_choice(n_instr):\n",
    "    # n_instr at most 8\n",
    "    \n",
    "    Instruments = [['kick','Tom'],['snare','clap'],['hihat closed','wood'],['ride','hihat open']]\n",
    "    instr_choice = ['']*n_instr\n",
    "    \n",
    "    choice1_group = np.random.choice(4, 4, replace=False, p = [0.4, 0.3, 0.2, 0.1])\n",
    "    choice_index = np.random.randint(2,size = 4)\n",
    "    choice1_inst = choice_index[choice1_group]\n",
    "    choice2_group = np.random.choice(4, 4, replace=False)\n",
    "    choice2_inst = np.mod(choice_index+1,2)[choice2_group]\n",
    "    choice = np.array([np.append(choice1_group,choice2_group),np.append(choice1_inst,choice2_inst)])\n",
    "    \n",
    "    for i in range(n_instr):\n",
    "        instr_choice[i] = Instruments[choice[0,i]][choice[1,i]]\n",
    "            \n",
    "    return instr_choice"
   ]
  },
  {
   "cell_type": "code",
   "execution_count": 3,
   "id": "7b1b86e3",
   "metadata": {},
   "outputs": [],
   "source": [
    "def y_init(division,BPM,fs):\n",
    "    BS = 60/BPM # beat length in seconds\n",
    "    len_gen = int(BS * fs * division + 0.5)\n",
    "    y = np.zeros((len_gen*2,))\n",
    "    return y,len_gen"
   ]
  },
  {
   "cell_type": "code",
   "execution_count": 4,
   "id": "93f59c05",
   "metadata": {},
   "outputs": [],
   "source": [
    "def synthesis(data,division,instr_choice,instruments_sound,y,deviation):\n",
    "    \"\"\"\n",
    "    Arguments:\n",
    "    data -- generated single data point of length n, numpy array of shape (n,1)\n",
    "    division -- number of beats per instrument track, integer number of 4,5,6\n",
    "    instr_choice -- based on division and data length, we compute the number of instruments is n_instr = int(n/division+0.5), \n",
    "                    instr_choice is a list of chosen instrument names of shape length n_instr\n",
    "    instruments_sound -- Python disctionary with key: instrument name & value: instrument wave form in floating number farmat [-1,1]\n",
    "    y -- residual of previous generation for adding on, numpy array of shape (int(60/BPM * fs * division + 0.5)*2, )\n",
    "    deviation -- deviation from beat grid in samples, a number likely 500-1000\n",
    "    \n",
    "    Returns:\n",
    "    y -- generated audio in floating number farmat [-1,1], numpy array of shape (int(60/BPM * fs * division + 0.5)*2, )\n",
    "    y_byte -- byte format of first half of y, namely y[:len(y)/2]\n",
    "    \"\"\"\n",
    "    n = len(data)\n",
    "    n_instr = int(n/division+0.5)\n",
    "    y_beat = int(len(y)/8 + 0.5)\n",
    "    \n",
    "    for i in range(n_instr-1):\n",
    "        notes = data[i*division:(i+1)*division]\n",
    "        y_instr = instruments_sound[instr_choice[i]]\n",
    "        for j in range(division):\n",
    "            if notes[j] != 0:\n",
    "                randomize = int(np.random.randn()*deviation)\n",
    "                st = np.max([0,y_beat*j+randomize])\n",
    "                y[st:st+len(y_instr)] += y_instr*np.random.rand()\n",
    "\n",
    "    i = i+1\n",
    "    notes = data[i*division:]\n",
    "    k = len(notes)\n",
    "    y_instr = instruments_sound[instr_choice[i]]\n",
    "    for j in range(k):\n",
    "        pos = np.random.choice(division, k, replace=False)\n",
    "        if notes[j] != 0:\n",
    "            randomize = int(np.random.randn()*deviation)\n",
    "            st = np.max([0,y_beat*pos[j]+randomize])\n",
    "            y[st:st+len(y_instr)] += y_instr*np.random.rand()\n",
    "    \n",
    "    y_max = np.max(np.abs(y))\n",
    "    if y_max > 1:\n",
    "        y = y/y_max*0.98\n",
    "    \n",
    "    # Int16 -- (-32,768 to +32,767)    \n",
    "    y_int16 = (y[:int(len(y)/2)] * 32768 - 0.5).astype('int16')\n",
    "    y_byte = y_int16.tobytes()\n",
    "    \n",
    "    return y, y_byte"
   ]
  },
  {
   "cell_type": "markdown",
   "id": "0faeddac",
   "metadata": {},
   "source": [
    "### Function Test"
   ]
  },
  {
   "cell_type": "code",
   "execution_count": 5,
   "id": "b17f9869",
   "metadata": {},
   "outputs": [],
   "source": [
    "def random_generate(k,n):\n",
    "    \n",
    "    u = np.random.rand(k,)\n",
    "    c = np.random.randint(k, size=(n,1))\n",
    "    mean = u[c]\n",
    "    prob = np.random.randn(n,1) + mean\n",
    "    random_gen = (prob>0.5).astype(int)\n",
    "    \n",
    "    return random_gen"
   ]
  },
  {
   "cell_type": "code",
   "execution_count": 11,
   "id": "835e4f56",
   "metadata": {},
   "outputs": [
    {
     "data": {
      "text/plain": [
       "array([[1],\n",
       "       [1],\n",
       "       [0],\n",
       "       [0],\n",
       "       [1],\n",
       "       [1],\n",
       "       [0],\n",
       "       [1],\n",
       "       [0],\n",
       "       [1],\n",
       "       [0],\n",
       "       [1],\n",
       "       [1],\n",
       "       [1],\n",
       "       [0]])"
      ]
     },
     "execution_count": 11,
     "metadata": {},
     "output_type": "execute_result"
    }
   ],
   "source": [
    "n = 15\n",
    "data = random_generate(5,n)\n",
    "data"
   ]
  },
  {
   "cell_type": "code",
   "execution_count": 28,
   "id": "ec5b6459",
   "metadata": {},
   "outputs": [
    {
     "data": {
      "text/plain": [
       "4"
      ]
     },
     "execution_count": 28,
     "metadata": {},
     "output_type": "execute_result"
    }
   ],
   "source": [
    "division = 4\n",
    "n_instr = int(n/division+0.5)\n",
    "n_instr"
   ]
  },
  {
   "cell_type": "code",
   "execution_count": 29,
   "id": "99238880",
   "metadata": {},
   "outputs": [
    {
     "data": {
      "text/plain": [
       "['clap', 'hihat closed', 'kick', 'hihat open']"
      ]
     },
     "execution_count": 29,
     "metadata": {},
     "output_type": "execute_result"
    }
   ],
   "source": [
    "instr_choice = intrument_choice(n_instr)\n",
    "instr_choice"
   ]
  },
  {
   "cell_type": "code",
   "execution_count": 70,
   "id": "866e1ed8",
   "metadata": {},
   "outputs": [
    {
     "data": {
      "text/plain": [
       "array([0., 0., 0., ..., 0., 0., 0.])"
      ]
     },
     "execution_count": 70,
     "metadata": {},
     "output_type": "execute_result"
    }
   ],
   "source": [
    "BPM = 120\n",
    "y,len_gen = y_init(division,BPM,fs)\n",
    "y"
   ]
  },
  {
   "cell_type": "code",
   "execution_count": 71,
   "id": "b8429dc4",
   "metadata": {},
   "outputs": [
    {
     "data": {
      "text/plain": [
       "44100"
      ]
     },
     "execution_count": 71,
     "metadata": {},
     "output_type": "execute_result"
    }
   ],
   "source": [
    "len_gen"
   ]
  },
  {
   "cell_type": "code",
   "execution_count": 67,
   "id": "be61bf3c",
   "metadata": {},
   "outputs": [],
   "source": [
    "deviation = 600\n",
    "y_out, y_byte = synthesis(data,division,instr_choice,instruments_sound,y,deviation)"
   ]
  },
  {
   "cell_type": "code",
   "execution_count": 68,
   "id": "eec0c3a1",
   "metadata": {},
   "outputs": [
    {
     "data": {
      "text/plain": [
       "array([-0.0295079 ,  0.03147832, -0.08805773, ...,  0.        ,\n",
       "        0.        ,  0.        ])"
      ]
     },
     "execution_count": 68,
     "metadata": {},
     "output_type": "execute_result"
    }
   ],
   "source": [
    "y_out"
   ]
  },
  {
   "cell_type": "markdown",
   "id": "6125e520",
   "metadata": {},
   "source": [
    "### Real-Time Synthesis\n",
    "\n",
    "Global variables: y_out,y_byte,y_byte_next,flag,event"
   ]
  },
  {
   "cell_type": "code",
   "execution_count": 53,
   "id": "e0af07b6",
   "metadata": {},
   "outputs": [
    {
     "data": {
      "text/plain": [
       "<unlocked _thread.lock object at 0x00000238147CB6C0>"
      ]
     },
     "execution_count": 53,
     "metadata": {},
     "output_type": "execute_result"
    }
   ],
   "source": [
    "# lock\n",
    "lock = threading.Lock()\n",
    "lock"
   ]
  },
  {
   "cell_type": "code",
   "execution_count": 54,
   "id": "9b1f2af9",
   "metadata": {},
   "outputs": [
    {
     "data": {
      "text/plain": [
       "<locked _thread.lock object at 0x00000238147CB6C0>"
      ]
     },
     "execution_count": 54,
     "metadata": {},
     "output_type": "execute_result"
    }
   ],
   "source": [
    "lock.acquire() # only run once after release [deadlock]\n",
    "lock"
   ]
  },
  {
   "cell_type": "code",
   "execution_count": 55,
   "id": "7a5b061e",
   "metadata": {},
   "outputs": [
    {
     "data": {
      "text/plain": [
       "<unlocked _thread.lock object at 0x00000238147CB6C0>"
      ]
     },
     "execution_count": 55,
     "metadata": {},
     "output_type": "execute_result"
    }
   ],
   "source": [
    "lock.release()\n",
    "lock"
   ]
  },
  {
   "cell_type": "code",
   "execution_count": 48,
   "id": "fd58e7b3",
   "metadata": {},
   "outputs": [
    {
     "data": {
      "text/plain": [
       "<threading.Event at 0x2381464cd90: unset>"
      ]
     },
     "execution_count": 48,
     "metadata": {},
     "output_type": "execute_result"
    }
   ],
   "source": [
    "event = threading.Event()\n",
    "event"
   ]
  },
  {
   "cell_type": "code",
   "execution_count": 76,
   "id": "927b2497",
   "metadata": {},
   "outputs": [
    {
     "data": {
      "text/plain": [
       "<threading.Event at 0x2381464cd90: set>"
      ]
     },
     "execution_count": 76,
     "metadata": {},
     "output_type": "execute_result"
    }
   ],
   "source": [
    "event.set()\n",
    "event"
   ]
  },
  {
   "cell_type": "code",
   "execution_count": 75,
   "id": "a47c8ae7",
   "metadata": {},
   "outputs": [
    {
     "data": {
      "text/plain": [
       "<threading.Event at 0x2381464cd90: unset>"
      ]
     },
     "execution_count": 75,
     "metadata": {},
     "output_type": "execute_result"
    }
   ],
   "source": [
    "event.clear()\n",
    "event"
   ]
  },
  {
   "cell_type": "code",
   "execution_count": 18,
   "id": "5b39bbc8",
   "metadata": {},
   "outputs": [],
   "source": [
    "def streaming(threadname):\n",
    "    global flag\n",
    "    pya = pyaudio.PyAudio()\n",
    "    stream = pya.open(format=pya.get_format_from_width(width=2), channels=1, rate=fs, output=True)\n",
    "\n",
    "    while np.any(y_out!=0):\n",
    "        stream.write(y_byte)\n",
    "        flag = 1\n",
    "        event.set()\n",
    "        \n",
    "        stream.write(y_byte_next)\n",
    "        flag = 2\n",
    "        event.set()\n",
    "        \n",
    "    stream.stop_stream()\n",
    "    stream.close()\n",
    "    pya.terminate()"
   ]
  },
  {
   "cell_type": "code",
   "execution_count": 19,
   "id": "540dd3ab",
   "metadata": {},
   "outputs": [],
   "source": [
    "def control(threadname):\n",
    "    global gen,y_out #, y_byte, y_byte_next, y_out\n",
    "    while gen < 5:  # gen == True\n",
    "        data = random_generate(5,n)\n",
    "        y_out, y_buffer = synthesis(data,division,instr_choice,instruments_sound,y,deviation)\n",
    "        y.fill(0)\n",
    "        y[:len_gen] = y_out[len_gen:]\n",
    "        \n",
    "        event.wait()\n",
    "        if flag == 1:\n",
    "            y_byte = y_buffer\n",
    "        elif flag == 2:\n",
    "            y_byte_next = y_buffer\n",
    "        event.clear()\n",
    "        gen += 1\n",
    "    y_out.fill(0)"
   ]
  },
  {
   "cell_type": "code",
   "execution_count": 20,
   "id": "ba1ff14b",
   "metadata": {},
   "outputs": [],
   "source": [
    "# Preparation\n",
    "n = 15\n",
    "division = 4\n",
    "n_instr = int(n/division+0.5)\n",
    "instr_choice = intrument_choice(n_instr)\n",
    "\n",
    "txt_folder = Path('Instruments').rglob('*.wav')\n",
    "Instruments = []\n",
    "for x in txt_folder:\n",
    "    basename = os.path.basename(x)\n",
    "    filename = os.path.splitext(basename)[0]\n",
    "    Instruments.append(filename)\n",
    "instruments_sound = {}\n",
    "for i in range(len(Instruments)):\n",
    "    instruments_sound[Instruments[i]],fs = librosa.load('Instruments/'+Instruments[i]+'.wav')\n",
    "\n",
    "BPM = 120\n",
    "deviation = 600\n",
    "\n",
    "y,len_gen = y_init(division,BPM,fs)\n",
    "data = random_generate(5,n)\n",
    "y_out, y_byte = synthesis(data,division,instr_choice,instruments_sound,y,deviation)\n",
    "y.fill(0)\n",
    "y[:len_gen] = y_out[len_gen:]\n",
    "data = random_generate(5,n)\n",
    "y_out, y_byte_next = synthesis(data,division,instr_choice,instruments_sound,y,deviation)"
   ]
  },
  {
   "cell_type": "code",
   "execution_count": 21,
   "id": "69957b96",
   "metadata": {},
   "outputs": [
    {
     "data": {
      "text/plain": [
       "array([-0.00066547, -0.00283404, -0.00590529, ...,  0.        ,\n",
       "        0.        ,  0.        ])"
      ]
     },
     "execution_count": 21,
     "metadata": {},
     "output_type": "execute_result"
    }
   ],
   "source": [
    "y_out"
   ]
  },
  {
   "cell_type": "code",
   "execution_count": null,
   "id": "460586d3",
   "metadata": {},
   "outputs": [],
   "source": []
  },
  {
   "cell_type": "code",
   "execution_count": null,
   "id": "fc206858",
   "metadata": {},
   "outputs": [],
   "source": []
  },
  {
   "cell_type": "code",
   "execution_count": null,
   "id": "d6e9e181",
   "metadata": {},
   "outputs": [],
   "source": []
  },
  {
   "cell_type": "code",
   "execution_count": null,
   "id": "938b09fb",
   "metadata": {},
   "outputs": [],
   "source": [
    "# Threading\n",
    "event = threading.Event()\n",
    "flag = 0\n",
    "gen = 0\n",
    "thread1 = threading.Thread(target=streaming, args=(\"Thread-1\", ) )\n",
    "thread2 = threading.Thread(target=control, args=(\"Thread-2\", ) )\n",
    "\n",
    "thread1.start()\n",
    "thread2.start()\n",
    "thread1.join()\n",
    "thread2.join()"
   ]
  },
  {
   "cell_type": "code",
   "execution_count": null,
   "id": "4ec21f19",
   "metadata": {},
   "outputs": [],
   "source": []
  }
 ],
 "metadata": {
  "kernelspec": {
   "display_name": "Python 3 (ipykernel)",
   "language": "python",
   "name": "python3"
  },
  "language_info": {
   "codemirror_mode": {
    "name": "ipython",
    "version": 3
   },
   "file_extension": ".py",
   "mimetype": "text/x-python",
   "name": "python",
   "nbconvert_exporter": "python",
   "pygments_lexer": "ipython3",
   "version": "3.11.5"
  }
 },
 "nbformat": 4,
 "nbformat_minor": 5
}
