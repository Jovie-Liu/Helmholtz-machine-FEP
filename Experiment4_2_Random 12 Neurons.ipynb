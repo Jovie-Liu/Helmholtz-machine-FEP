{
 "cells": [
  {
   "cell_type": "markdown",
   "id": "fca6df78",
   "metadata": {},
   "source": [
    "***\n",
    "*Project:* Helmholtz Machine on Niche Construction\n",
    "\n",
    "*Author:* Jingwei Liu, Computer Music Ph.D., UC San Diego\n",
    "***\n",
    "\n",
    "# <span style=\"background-color:darkorange; color:white; padding:2px 6px\">Experiment 4_2</span> \n",
    "\n",
    "# Helmholtz Machine on Self-organizing System (Expansion on Exploration)\n",
    "\n",
    "In this notebook we simulate the evolution of a self-organizing system by the training of the Helmholtz machine. By increasing the length of input layer from 10 to 12, we expanded the space from 1024 categories to 4096, which is way more difficult to fit and manipulate. Instead of fitting a given dataset, which presents bad performance with an accuracy of $0.22$ only, we construct a self-organizing system to guide the model to explore the large space by its own Helmholtz device, which expands its evidence by its self-guided exploration gradually, with steady improvement on generation accuracy and distribution error. \n",
    "\n",
    "*Experimental setup*: we start from a small randomly sampled set (100 datapoints) as the initial data input, then by the free sampling of the generative side of the Helmholtz machine, we add its frequently sampled new instances to the dataset to expand its evidence support. This process takes place gradually, with a few \"new findings of exploration\" added after every 100 epochs. In the meantime, the system keeps fitting to its current evidence by training under the wake-sleep algorithm. After a long period of thus back and forth on exploration and exploitation, the system is fitted quite well to its own constructed subspace (niche), with an accuracy of $0.82$ and distribution error $0.29$ (see the visualization below).\n",
    "\n",
    "<img src=\"self organizing result.png\" style=\"width:800px\">\n",
    "<caption><center> Self-organizing System Training Result    </center></caption>\n",
    "\n",
    "*Created:* December 26, 2023\n",
    "\n",
    "*Updated:* December 26, 2023"
   ]
  },
  {
   "cell_type": "code",
   "execution_count": 1,
   "id": "118f818e",
   "metadata": {},
   "outputs": [],
   "source": [
    "import numpy as np\n",
    "import matplotlib.pyplot as plt\n",
    "import utils as ut"
   ]
  },
  {
   "cell_type": "code",
   "execution_count": 2,
   "id": "e5cb0071",
   "metadata": {},
   "outputs": [
    {
     "data": {
      "text/plain": [
       "array([[12, 10,  8,  7,  5,  4,  3,  1]])"
      ]
     },
     "execution_count": 2,
     "metadata": {},
     "output_type": "execute_result"
    }
   ],
   "source": [
    "structure = [[12,10,8,7,5,4,3,1]]\n",
    "n_dz = np.array(structure)\n",
    "n_dz"
   ]
  },
  {
   "cell_type": "code",
   "execution_count": 60,
   "id": "30e8efb5",
   "metadata": {},
   "outputs": [],
   "source": [
    "Phi, Theta = ut.parameter_initialization(\"zero\",n_dz)  # \"zero\" or \"random\""
   ]
  },
  {
   "cell_type": "code",
   "execution_count": 3,
   "id": "3e0d756b",
   "metadata": {},
   "outputs": [],
   "source": [
    "value_set = [1,0]\n",
    "activation_type = \"tanh\"\n",
    "bias = [False,False,True] # [instantiation bias, MLP bias,data bias]"
   ]
  },
  {
   "cell_type": "code",
   "execution_count": 62,
   "id": "5985f113",
   "metadata": {},
   "outputs": [
    {
     "data": {
      "text/plain": [
       "array([[0., 0., 1., ..., 0., 1., 1.],\n",
       "       [0., 1., 0., ..., 1., 1., 1.],\n",
       "       [1., 0., 1., ..., 1., 0., 0.],\n",
       "       ...,\n",
       "       [1., 0., 0., ..., 0., 1., 1.],\n",
       "       [1., 0., 0., ..., 1., 1., 0.],\n",
       "       [0., 1., 0., ..., 1., 0., 0.]])"
      ]
     },
     "execution_count": 62,
     "metadata": {},
     "output_type": "execute_result"
    }
   ],
   "source": [
    "n_sample = 100\n",
    "init_generation = ut.generate(n_sample,n_dz,value_set,Theta,activation_type,bias)\n",
    "init_generation"
   ]
  },
  {
   "cell_type": "code",
   "execution_count": 63,
   "id": "3561db4a",
   "metadata": {},
   "outputs": [
    {
     "data": {
      "text/plain": [
       "(12, 99)"
      ]
     },
     "execution_count": 63,
     "metadata": {},
     "output_type": "execute_result"
    }
   ],
   "source": [
    "dataset = np.unique(init_generation,axis=1)\n",
    "dataset.shape"
   ]
  },
  {
   "cell_type": "code",
   "execution_count": 19,
   "id": "6b2a4d58",
   "metadata": {},
   "outputs": [],
   "source": [
    "entire_set = ut.all_comb(n, value_set)\n",
    "reordered_set = ut.reorder_all_comb(entire_set,dataset)"
   ]
  },
  {
   "cell_type": "markdown",
   "id": "fa978494",
   "metadata": {},
   "source": [
    "Self-organizing System:"
   ]
  },
  {
   "cell_type": "code",
   "execution_count": 274,
   "id": "b1e7a887",
   "metadata": {},
   "outputs": [],
   "source": [
    "lr = 0.008\n",
    "epoch = 10\n",
    "n = n_dz[0,0]\n",
    "n_data = dataset.shape[1]\n",
    "n_layer = n_dz.shape[1]"
   ]
  },
  {
   "cell_type": "code",
   "execution_count": 275,
   "id": "3ec80396",
   "metadata": {},
   "outputs": [],
   "source": [
    "update_rate = 100 # after how many epochs we update evidence\n",
    "n_add_sample = 560 # how many new samples to add at each update"
   ]
  },
  {
   "cell_type": "code",
   "execution_count": 276,
   "id": "64ba5f26",
   "metadata": {},
   "outputs": [
    {
     "name": "stdout",
     "output_type": "stream",
     "text": [
      "Total new sampled: 2517 dataset size: 679 Loss_Q: [1.96 1.87 2.27 1.42 1.14 0.69 0.   9.35] Loss_P: [ 3.18  2.54  2.27  2.54  1.4   1.12  1.07 14.12]\n",
      "Total new sampled: 2541 dataset size: 680 Loss_Q: [1.93 1.88 2.22 1.4  1.12 0.66 0.   9.21] Loss_P: [ 3.16  2.55  2.26  2.45  1.43  1.08  1.02 13.95]\n",
      "Total new sampled: 2551 dataset size: 680 Loss_Q: [1.85 1.8  2.27 1.56 1.15 0.72 0.   9.36] Loss_P: [ 3.18  2.46  2.18  2.52  1.6   1.11  1.08 14.13]\n",
      "Total new sampled: 2518 dataset size: 680 Loss_Q: [1.9  1.83 2.25 1.64 1.22 0.73 0.   9.57] Loss_P: [ 3.17  2.51  2.2   2.53  1.65  1.2   1.09 14.35]\n",
      "Total new sampled: 2554 dataset size: 680 Loss_Q: [1.92 1.82 2.27 1.65 1.2  0.69 0.   9.55] Loss_P: [ 3.17  2.51  2.23  2.56  1.65  1.15  1.03 14.31]\n",
      "Total new sampled: 2545 dataset size: 680 Loss_Q: [1.98 1.88 2.37 1.68 1.23 0.73 0.   9.87] Loss_P: [ 3.13  2.57  2.34  2.67  1.68  1.17  1.08 14.64]\n",
      "Total new sampled: 2528 dataset size: 682 Loss_Q: [1.89 2.   2.36 1.65 1.26 0.77 0.   9.93] Loss_P: [ 3.15  2.48  2.42  2.61  1.68  1.23  1.13 14.71]\n",
      "Total new sampled: 2549 dataset size: 683 Loss_Q: [1.82 1.97 2.37 1.67 1.28 0.77 0.   9.88] Loss_P: [ 3.13  2.41  2.4   2.65  1.69  1.25  1.15 14.67]\n",
      "Total new sampled: 2562 dataset size: 685 Loss_Q: [1.92 2.08 2.24 1.67 1.28 0.79 0.   9.99] Loss_P: [ 3.14  2.53  2.49  2.5   1.73  1.23  1.16 14.78]\n",
      "Total new sampled: 2564 dataset size: 685 Loss_Q: [ 1.98  1.99  2.34  1.72  1.3   0.79  0.   10.12] Loss_P: [ 3.16  2.6   2.38  2.61  1.77  1.25  1.17 14.94]\n"
     ]
    }
   ],
   "source": [
    "for e in range(epoch):\n",
    "    new_sampled = np.zeros((n,n_data*update_rate))\n",
    "    Loss_Q_total = np.zeros(n_layer)\n",
    "    Loss_P_total = np.zeros(n_layer)\n",
    "    for r in range (update_rate):\n",
    "        index = np.random.permutation(n_data)\n",
    "        for i in range(n_data):\n",
    "            d0 = dataset[:,index[i]:index[i]+1]\n",
    "            Alpha_Q = ut.wake_sample(n_dz,d0,value_set,Phi,activation_type,bias)\n",
    "            Theta,Loss_P = ut.sleep_update_delta(Theta,Alpha_Q,lr,n_dz,value_set,activation_type,bias)\n",
    "            Alpha_P = ut.sleep_sample(n_dz,value_set,Theta,activation_type,bias)\n",
    "            Phi,Loss_Q = ut.wake_update_delta(Phi,Alpha_P,lr,n_dz,value_set,activation_type,bias)\n",
    "\n",
    "            new_sampled[:,i+n_data*r:i+n_data*r+1] = Alpha_P['z0']\n",
    "\n",
    "            Loss_Q_total += Loss_Q\n",
    "            Loss_P_total += Loss_P\n",
    "\n",
    "    values,counts = np.unique(new_sampled,axis=1,return_counts = True)\n",
    "    n_new_total = np.unique(np.append(dataset,values,axis=1),axis=1).shape[1] - n_data\n",
    "    \n",
    "    new_samples = values[:,np.argsort(counts)[-n_add_sample:]]\n",
    "    dataset = np.unique(np.append(dataset,new_samples,axis=1),axis=1)  # renew dataset\n",
    "    n_data = dataset.shape[1]\n",
    "\n",
    "    Loss_Q_total = Loss_Q_total/(n_data*update_rate)\n",
    "    Loss_P_total = Loss_P_total/(n_data*update_rate)\n",
    "    print('Total new sampled: ' + str(n_new_total),'dataset size: ' + str(n_data),'Loss_Q: '+ str(np.around(Loss_Q_total,2)), 'Loss_P: '+ str(np.around(Loss_P_total,2)))"
   ]
  },
  {
   "cell_type": "markdown",
   "id": "b617ac70",
   "metadata": {},
   "source": [
    "246, 281,338,340,379,394,432,464,476,484,523,569,586,621,623,627,656,672,678,685"
   ]
  },
  {
   "cell_type": "code",
   "execution_count": 287,
   "id": "dd43e597",
   "metadata": {},
   "outputs": [
    {
     "data": {
      "text/plain": [
       "array([[0., 1., 0., ..., 1., 0., 0.],\n",
       "       [1., 0., 0., ..., 0., 1., 0.],\n",
       "       [1., 1., 1., ..., 1., 0., 0.],\n",
       "       ...,\n",
       "       [0., 0., 0., ..., 1., 0., 0.],\n",
       "       [0., 1., 0., ..., 0., 0., 0.],\n",
       "       [1., 1., 0., ..., 0., 1., 0.]])"
      ]
     },
     "execution_count": 287,
     "metadata": {},
     "output_type": "execute_result"
    }
   ],
   "source": [
    "n_sample = 10000\n",
    "generation = ut.generate(n_sample,n_dz,value_set,Theta,activation_type,bias)\n",
    "generation"
   ]
  },
  {
   "cell_type": "code",
   "execution_count": 288,
   "id": "c12f6065",
   "metadata": {},
   "outputs": [],
   "source": [
    "reordered_set = ut.reorder_all_comb(entire_set,dataset)\n",
    "distribution,data_dist,statistics, MSE, ABS_Error = ut.metrics(generation,reordered_set,dataset)\n",
    "values_t, counts_t = np.unique(distribution, return_counts=True)\n",
    "values_d, counts_d  = np.unique(data_dist, return_counts=True)\n",
    "counts_t = counts_t/n_sample*n_data"
   ]
  },
  {
   "cell_type": "code",
   "execution_count": 289,
   "id": "6be0ff02",
   "metadata": {},
   "outputs": [
    {
     "data": {
      "text/plain": [
       "0.4246129186602871"
      ]
     },
     "execution_count": 289,
     "metadata": {},
     "output_type": "execute_result"
    }
   ],
   "source": [
    "ABS_Error"
   ]
  },
  {
   "cell_type": "code",
   "execution_count": 290,
   "id": "4f0073bf",
   "metadata": {},
   "outputs": [
    {
     "data": {
      "text/plain": [
       "<matplotlib.legend.Legend at 0x1f89bb11fd0>"
      ]
     },
     "execution_count": 290,
     "metadata": {},
     "output_type": "execute_result"
    },
    {
     "data": {
      "image/png": "[encoded data removed]",
      "text/plain": [
       "<Figure size 1800x1000 with 1 Axes>"
      ]
     },
     "metadata": {},
     "output_type": "display_data"
    }
   ],
   "source": [
    "# visualization\n",
    "x_lim = reordered_set.shape[1]\n",
    "n_ticks = 8\n",
    "xtick = np.arange(0,x_lim,int(x_lim/n_ticks/100+0.5)*100)\n",
    "xtick[np.argmin(np.abs(xtick - values_d.size))] = values_d.size\n",
    "xtick[-1] = x_lim\n",
    "\n",
    "fig, ax = plt.subplots(figsize=(18, 10))\n",
    "ax.bar(values_d,counts_d,label = \"Ground Truth\")\n",
    "ax.bar(values_t,counts_t,label = \"Generation\")\n",
    "ax.set(xlim=(0, x_lim), xticks=xtick)\n",
    "plt.legend()"
   ]
  },
  {
   "cell_type": "code",
   "execution_count": 291,
   "id": "6afa7e8b",
   "metadata": {},
   "outputs": [
    {
     "data": {
      "text/plain": [
       "{'percent': 0.8111,\n",
       " 'FN': array([ 38,  93,  98, 123, 171, 233, 241, 297, 332, 471, 475, 481, 483,\n",
       "        493, 494, 513, 514, 515, 531, 549, 555, 560, 562, 567, 572, 574,\n",
       "        577, 594, 598, 600, 618, 620, 625]),\n",
       " 'n_fn': 33,\n",
       " 'FP': array([[ 628,  629,  634, ..., 4091, 4093, 4094],\n",
       "        [   1,    1,    1, ...,    2,    2,    3]], dtype=int64),\n",
       " 'n_fp': 1184}"
      ]
     },
     "execution_count": 291,
     "metadata": {},
     "output_type": "execute_result"
    }
   ],
   "source": [
    "statistics"
   ]
  },
  {
   "cell_type": "code",
   "execution_count": 292,
   "id": "5675dc53",
   "metadata": {},
   "outputs": [
    {
     "data": {
      "text/plain": [
       "0.28733247"
      ]
     },
     "execution_count": 292,
     "metadata": {},
     "output_type": "execute_result"
    }
   ],
   "source": [
    "MSE"
   ]
  },
  {
   "cell_type": "markdown",
   "id": "7861431a",
   "metadata": {},
   "source": [
    "'percent': 0.5393,0.6233, 0.6112,0.6729,0.6763,0.6908, 0.7262,0.7372,0.7601,0.7958,0.795,0.8092,0.8307,0.8224,0.8111\n",
    "\n",
    "n_fn': 17,19,11,23,23,27,23,26,28,32,36,36,38,37,33\n",
    "\n",
    "'n_fp': 1791,1593,1634,1486,1470,1402,1352,1276,1292,1181,1221,1132,1060,1087,1184\n",
    "\n",
    "MSE: 0.4562,0.4149,0.3870,0.4085,0.3982,0.3602,0.3329,0.3132,0.3042,0.3093,0.3055,0.2850,0.3021,0.2917,0.2873"
   ]
  },
  {
   "cell_type": "markdown",
   "id": "9cd7c35b",
   "metadata": {},
   "source": [
    "Save dataset, parameters!"
   ]
  },
  {
   "cell_type": "code",
   "execution_count": 245,
   "id": "8a1ba3a3",
   "metadata": {},
   "outputs": [
    {
     "data": {
      "text/plain": [
       "(12, 627)"
      ]
     },
     "execution_count": 245,
     "metadata": {},
     "output_type": "execute_result"
    }
   ],
   "source": [
    "np.unique(dataset,axis=1).shape"
   ]
  },
  {
   "cell_type": "code",
   "execution_count": 246,
   "id": "9d18e426",
   "metadata": {},
   "outputs": [],
   "source": [
    "np.save('self_org_dataset.npy',dataset)"
   ]
  },
  {
   "cell_type": "code",
   "execution_count": 247,
   "id": "5b24d4d3",
   "metadata": {},
   "outputs": [],
   "source": [
    "parameters = {'Phi': Phi, 'Theta': Theta}"
   ]
  },
  {
   "cell_type": "code",
   "execution_count": 249,
   "id": "5c8b6281",
   "metadata": {},
   "outputs": [],
   "source": [
    "np.save('self_org_parameters.npy',parameters)"
   ]
  },
  {
   "cell_type": "code",
   "execution_count": 283,
   "id": "5df71569",
   "metadata": {},
   "outputs": [],
   "source": [
    "para = np.load('self_org_parameters.npy',allow_pickle=True).item()"
   ]
  },
  {
   "cell_type": "code",
   "execution_count": 284,
   "id": "d9111457",
   "metadata": {},
   "outputs": [],
   "source": [
    "Theta = para['Theta']"
   ]
  },
  {
   "cell_type": "code",
   "execution_count": 285,
   "id": "fd9cf510",
   "metadata": {},
   "outputs": [],
   "source": [
    "dataset = np.load('self_org_dataset.npy')"
   ]
  },
  {
   "cell_type": "markdown",
   "id": "a0085802",
   "metadata": {},
   "source": [
    "A Test we can do now is to fit a default Helmholtz machine (initialized to 0) of same structure to this self-constructed dataset and see how well it could perform."
   ]
  },
  {
   "cell_type": "code",
   "execution_count": 338,
   "id": "b0fcbaab",
   "metadata": {},
   "outputs": [],
   "source": [
    "Phi, Theta = ut.parameter_initialization(\"random\",n_dz)"
   ]
  },
  {
   "cell_type": "code",
   "execution_count": 339,
   "id": "0e913091",
   "metadata": {},
   "outputs": [],
   "source": [
    "reordered_set = ut.reorder_all_comb(entire_set,dataset)"
   ]
  },
  {
   "cell_type": "code",
   "execution_count": 340,
   "id": "a9cb6d66",
   "metadata": {},
   "outputs": [],
   "source": [
    "lr = 0.015\n",
    "epoch = 1000\n",
    "n_data = dataset.shape[1]\n",
    "n_layer = n_dz.shape[1]"
   ]
  },
  {
   "cell_type": "code",
   "execution_count": 341,
   "id": "f6c13c0c",
   "metadata": {},
   "outputs": [
    {
     "name": "stdout",
     "output_type": "stream",
     "text": [
      "Loss_Q: [ 4.18  3.34  2.96  2.25  1.79  1.32  0.   15.83] Loss_P: [ 5.04  4.27  3.37  3.09  2.25  1.8   1.43 21.25]\n",
      "Loss_Q: [ 3.74  3.1   2.81  2.17  1.72  1.23  0.   14.77] Loss_P: [ 4.56  3.86  3.24  3.06  2.17  1.79  1.34 20.02]\n",
      "Loss_Q: [ 3.57  3.02  2.75  2.2   1.69  1.24  0.   14.48] Loss_P: [ 4.44  3.74  3.15  2.96  2.26  1.76  1.35 19.65]\n",
      "Loss_Q: [ 3.52  2.99  2.7   2.21  1.64  1.27  0.   14.32] Loss_P: [ 4.38  3.82  3.05  2.95  2.22  1.77  1.38 19.58]\n",
      "Loss_Q: [ 3.47  2.96  2.75  2.16  1.7   1.27  0.   14.31] Loss_P: [ 4.35  3.74  3.08  3.    2.18  1.79  1.39 19.53]\n",
      "Loss_Q: [ 3.43  2.97  2.66  2.13  1.7   1.27  0.   14.17] Loss_P: [ 4.31  3.67  3.04  2.93  2.2   1.8   1.37 19.33]\n",
      "Loss_Q: [ 3.41  2.92  2.72  2.16  1.69  1.22  0.   14.12] Loss_P: [ 4.32  3.65  3.04  2.94  2.19  1.81  1.33 19.27]\n",
      "Loss_Q: [ 3.39  2.93  2.7   2.07  1.71  1.24  0.   14.05] Loss_P: [ 4.26  3.7   3.06  2.96  2.11  1.82  1.32 19.24]\n",
      "Loss_Q: [ 3.4   2.98  2.75  2.05  1.72  1.24  0.   14.13] Loss_P: [ 4.22  3.72  3.12  2.95  2.11  1.8   1.33 19.26]\n",
      "Loss_Q: [ 3.37  2.99  2.79  2.08  1.76  1.24  0.   14.24] Loss_P: [ 4.21  3.7   3.14  2.99  2.16  1.85  1.37 19.41]\n",
      "Loss_Q: [ 3.48  2.96  2.77  2.11  1.74  1.26  0.   14.32] Loss_P: [ 4.14  3.75  3.12  2.97  2.22  1.84  1.38 19.43]\n",
      "Loss_Q: [ 3.41  2.97  2.77  2.1   1.75  1.27  0.   14.28] Loss_P: [ 4.13  3.75  3.16  3.02  2.18  1.8   1.36 19.41]\n",
      "Loss_Q: [ 3.4   2.94  2.75  2.09  1.75  1.24  0.   14.18] Loss_P: [ 4.1   3.71  3.14  2.99  2.22  1.79  1.33 19.28]\n",
      "Loss_Q: [ 3.46  2.96  2.76  2.12  1.7   1.22  0.   14.23] Loss_P: [ 4.12  3.69  3.09  2.99  2.24  1.8   1.32 19.25]\n",
      "Loss_Q: [ 3.47  2.95  2.8   2.1   1.69  1.23  0.   14.22] Loss_P: [ 4.17  3.77  3.06  3.05  2.18  1.79  1.31 19.33]\n",
      "Loss_Q: [ 3.4   2.83  2.8   2.13  1.72  1.2   0.   14.07] Loss_P: [ 4.14  3.66  2.96  3.02  2.22  1.8   1.29 19.11]\n",
      "Loss_Q: [ 3.3   2.83  2.8   2.13  1.7   1.18  0.   13.95] Loss_P: [ 4.16  3.55  2.95  3.03  2.22  1.8   1.28 18.99]\n",
      "Loss_Q: [ 3.32  2.86  2.79  2.12  1.71  1.18  0.   13.97] Loss_P: [ 4.14  3.64  2.93  2.98  2.25  1.81  1.28 19.03]\n",
      "Loss_Q: [ 3.4   2.94  2.79  2.1   1.72  1.21  0.   14.16] Loss_P: [ 4.16  3.64  3.01  2.97  2.22  1.81  1.31 19.11]\n",
      "Loss_Q: [ 3.38  2.98  2.75  2.12  1.73  1.23  0.   14.19] Loss_P: [ 4.15  3.69  3.05  2.93  2.26  1.84  1.31 19.24]\n",
      "Loss_Q: [ 3.45  3.    2.74  2.14  1.76  1.25  0.   14.34] Loss_P: [ 4.1   3.68  3.06  2.96  2.28  1.85  1.33 19.25]\n",
      "Loss_Q: [ 3.39  2.97  2.76  2.11  1.74  1.25  0.   14.21] Loss_P: [ 4.1   3.67  3.11  2.95  2.29  1.85  1.33 19.29]\n",
      "Loss_Q: [ 3.34  2.9   2.76  2.09  1.78  1.24  0.   14.1 ] Loss_P: [ 4.08  3.65  3.01  2.91  2.31  1.85  1.33 19.14]\n",
      "Loss_Q: [ 3.23  2.87  2.59  2.15  1.7   1.25  0.   13.77] Loss_P: [ 4.05  3.61  3.02  2.8   2.3   1.78  1.31 18.86]\n",
      "Loss_Q: [ 3.35  2.85  2.63  2.12  1.71  1.19  0.   13.85] Loss_P: [ 4.01  3.73  3.03  2.77  2.28  1.78  1.27 18.88]\n",
      "Loss_Q: [ 3.35  2.87  2.71  2.12  1.73  1.22  0.   14.  ] Loss_P: [ 4.    3.74  3.02  2.82  2.32  1.8   1.26 18.97]\n",
      "Loss_Q: [ 3.31  2.89  2.72  2.1   1.74  1.18  0.   13.95] Loss_P: [ 3.97  3.68  3.07  2.85  2.33  1.8   1.28 18.97]\n",
      "Loss_Q: [ 3.27  2.91  2.71  2.12  1.76  1.25  0.   14.03] Loss_P: [ 4.01  3.65  3.1   2.84  2.33  1.78  1.33 19.05]\n",
      "Loss_Q: [ 3.34  2.98  2.72  2.09  1.72  1.22  0.   14.07] Loss_P: [ 4.01  3.69  3.19  2.8   2.35  1.76  1.34 19.13]\n",
      "Loss_Q: [ 3.3   2.92  2.68  2.12  1.74  1.24  0.   13.99] Loss_P: [ 3.98  3.68  3.14  2.85  2.34  1.77  1.33 19.11]\n",
      "Loss_Q: [ 3.23  2.87  2.66  2.15  1.75  1.23  0.   13.89] Loss_P: [ 4.03  3.6   3.06  2.85  2.35  1.79  1.33 19.  ]\n",
      "Loss_Q: [ 3.2   2.94  2.74  2.13  1.79  1.28  0.   14.07] Loss_P: [ 4.    3.58  3.06  2.86  2.33  1.8   1.34 18.97]\n",
      "Loss_Q: [ 3.22  2.87  2.65  2.12  1.75  1.26  0.   13.85] Loss_P: [ 3.95  3.56  3.01  2.9   2.29  1.8   1.36 18.87]\n",
      "Loss_Q: [ 3.15  2.89  2.6   2.14  1.74  1.3   0.   13.82] Loss_P: [ 4.02  3.59  3.02  2.76  2.28  1.82  1.4  18.88]\n",
      "Loss_Q: [ 3.19  2.87  2.66  2.1   1.76  1.31  0.   13.88] Loss_P: [ 4.01  3.59  3.08  2.83  2.28  1.84  1.37 19.  ]\n",
      "Loss_Q: [ 3.14  2.91  2.68  2.09  1.75  1.32  0.   13.88] Loss_P: [ 3.94  3.57  3.11  2.84  2.26  1.83  1.37 18.93]\n",
      "Loss_Q: [ 3.17  2.88  2.7   2.05  1.77  1.32  0.   13.89] Loss_P: [ 3.98  3.59  3.07  2.85  2.24  1.87  1.39 18.96]\n",
      "Loss_Q: [ 3.06  2.84  2.63  2.03  1.79  1.33  0.   13.68] Loss_P: [ 3.93  3.48  3.06  2.82  2.19  1.87  1.37 18.73]\n",
      "Loss_Q: [ 3.15  2.75  2.61  2.04  1.8   1.26  0.   13.61] Loss_P: [ 3.89  3.45  3.01  2.73  2.21  1.86  1.36 18.51]\n",
      "Loss_Q: [ 3.07  2.7   2.62  2.03  1.75  1.23  0.   13.4 ] Loss_P: [ 3.95  3.45  2.98  2.77  2.2   1.8   1.33 18.49]\n",
      "Loss_Q: [ 2.96  2.71  2.58  1.99  1.73  1.23  0.   13.21] Loss_P: [ 3.92  3.32  2.9   2.78  2.12  1.83  1.31 18.18]\n",
      "Loss_Q: [ 3.1   2.77  2.65  2.    1.73  1.21  0.   13.45] Loss_P: [ 3.92  3.44  2.93  2.83  2.14  1.82  1.28 18.35]\n",
      "Loss_Q: [ 3.2   2.67  2.63  1.96  1.74  1.21  0.   13.41] Loss_P: [ 3.87  3.57  2.93  2.85  2.1   1.83  1.3  18.43]\n",
      "Loss_Q: [ 3.03  2.73  2.57  1.93  1.73  1.18  0.   13.16] Loss_P: [ 3.88  3.41  2.9   2.76  2.09  1.83  1.27 18.14]\n",
      "Loss_Q: [ 3.05  2.68  2.47  1.97  1.71  1.18  0.   13.05] Loss_P: [ 3.95  3.36  2.84  2.62  2.09  1.81  1.27 17.93]\n",
      "Loss_Q: [ 2.95  2.63  2.48  1.92  1.72  1.18  0.   12.87] Loss_P: [ 3.92  3.44  2.78  2.66  2.09  1.81  1.25 17.95]\n",
      "Loss_Q: [ 2.97  2.6   2.52  2.01  1.74  1.2   0.   13.05] Loss_P: [ 3.91  3.48  2.73  2.71  2.12  1.8   1.27 18.02]\n",
      "Loss_Q: [ 3.07  2.54  2.48  2.01  1.72  1.16  0.   12.99] Loss_P: [ 3.85  3.57  2.7   2.66  2.16  1.78  1.21 17.94]\n",
      "Loss_Q: [ 3.1   2.53  2.48  1.97  1.74  1.13  0.   12.95] Loss_P: [ 3.88  3.48  2.68  2.62  2.06  1.79  1.2  17.72]\n",
      "Loss_Q: [ 3.07  2.59  2.44  1.96  1.72  1.16  0.   12.94] Loss_P: [ 3.86  3.45  2.81  2.59  2.06  1.81  1.22 17.8 ]\n",
      "Loss_Q: [ 3.06  2.54  2.43  1.91  1.69  1.2   0.   12.83] Loss_P: [ 3.86  3.49  2.71  2.65  2.03  1.74  1.27 17.74]\n",
      "Loss_Q: [ 3.09  2.62  2.45  1.9   1.65  1.18  0.   12.88] Loss_P: [ 3.86  3.49  2.8   2.6   2.07  1.73  1.25 17.79]\n",
      "Loss_Q: [ 3.06  2.74  2.4   1.95  1.63  1.15  0.   12.93] Loss_P: [ 3.89  3.46  2.82  2.63  2.08  1.7   1.24 17.81]\n",
      "Loss_Q: [ 3.12  2.73  2.43  1.97  1.62  1.12  0.   12.98] Loss_P: [ 3.82  3.54  2.83  2.64  2.09  1.71  1.2  17.84]\n",
      "Loss_Q: [ 3.1   2.78  2.39  1.94  1.67  1.14  0.   13.02] Loss_P: [ 3.85  3.56  2.91  2.61  2.11  1.71  1.23 17.99]\n",
      "Loss_Q: [ 2.97  2.75  2.39  1.93  1.63  1.12  0.   12.8 ] Loss_P: [ 3.81  3.51  2.87  2.58  2.08  1.73  1.2  17.78]\n",
      "Loss_Q: [ 2.98  2.69  2.37  1.91  1.59  1.14  0.   12.68] Loss_P: [ 3.79  3.54  2.85  2.57  2.    1.67  1.21 17.63]\n",
      "Loss_Q: [ 3.05  2.81  2.47  1.91  1.58  1.15  0.   12.95] Loss_P: [ 3.83  3.45  2.83  2.66  2.06  1.63  1.25 17.7 ]\n",
      "Loss_Q: [ 3.05  2.74  2.49  1.93  1.6   1.15  0.   12.96] Loss_P: [ 3.75  3.57  2.84  2.69  2.06  1.58  1.23 17.72]\n",
      "Loss_Q: [ 3.14  2.82  2.54  1.92  1.55  1.15  0.   13.13] Loss_P: [ 3.72  3.59  2.88  2.74  2.09  1.59  1.24 17.85]\n",
      "Loss_Q: [ 3.12  2.79  2.5   1.9   1.56  1.15  0.   13.03] Loss_P: [ 3.75  3.62  2.86  2.73  2.08  1.61  1.24 17.89]\n",
      "Loss_Q: [ 3.06  2.74  2.56  1.91  1.56  1.17  0.   12.99] Loss_P: [ 3.79  3.62  2.81  2.8   2.04  1.61  1.26 17.93]\n",
      "Loss_Q: [ 3.02  2.74  2.63  1.87  1.57  1.16  0.   12.99] Loss_P: [ 3.77  3.59  2.87  2.86  2.    1.64  1.26 17.99]\n",
      "Loss_Q: [ 3.    2.83  2.59  1.89  1.49  1.17  0.   12.97] Loss_P: [ 3.76  3.52  2.92  2.85  2.02  1.63  1.26 17.95]\n",
      "Loss_Q: [ 2.98  2.76  2.51  1.88  1.56  1.11  0.   12.8 ] Loss_P: [ 3.79  3.52  2.88  2.73  1.98  1.66  1.21 17.77]\n",
      "Loss_Q: [ 2.95  2.79  2.54  1.86  1.56  1.1   0.   12.8 ] Loss_P: [ 3.82  3.46  2.88  2.79  2.    1.63  1.2  17.77]\n",
      "Loss_Q: [ 2.87  2.86  2.52  1.89  1.48  1.12  0.   12.74] Loss_P: [ 3.76  3.42  3.    2.7   2.    1.59  1.19 17.66]\n",
      "Loss_Q: [ 2.95  2.87  2.51  1.83  1.54  1.11  0.   12.81] Loss_P: [ 3.75  3.42  3.    2.7   1.98  1.59  1.22 17.66]\n",
      "Loss_Q: [ 2.86  2.84  2.52  1.78  1.55  1.09  0.   12.63] Loss_P: [ 3.73  3.44  2.86  2.69  1.92  1.58  1.24 17.46]\n",
      "Loss_Q: [ 2.91  2.81  2.48  1.83  1.49  1.1   0.   12.62] Loss_P: [ 3.71  3.4   2.91  2.68  1.97  1.55  1.18 17.4 ]\n",
      "Loss_Q: [ 2.83  2.8   2.54  1.86  1.46  1.08  0.   12.57] Loss_P: [ 3.75  3.46  2.89  2.69  2.07  1.5   1.17 17.53]\n"
     ]
    },
    {
     "name": "stdout",
     "output_type": "stream",
     "text": [
      "Loss_Q: [ 2.91  2.89  2.57  1.87  1.47  1.08  0.   12.8 ] Loss_P: [ 3.77  3.42  3.06  2.73  2.08  1.52  1.17 17.74]\n",
      "Loss_Q: [ 2.99  2.91  2.46  1.86  1.48  1.08  0.   12.79] Loss_P: [ 3.76  3.48  3.06  2.68  2.05  1.5   1.17 17.69]\n",
      "Loss_Q: [ 2.94  2.86  2.47  1.97  1.54  1.09  0.   12.87] Loss_P: [ 3.77  3.48  3.03  2.62  2.13  1.6   1.16 17.81]\n",
      "Loss_Q: [ 3.05  2.8   2.44  2.    1.61  1.08  0.   12.97] Loss_P: [ 3.77  3.5   2.97  2.65  2.19  1.65  1.18 17.91]\n",
      "Loss_Q: [ 2.99  2.83  2.47  2.01  1.65  1.05  0.   12.99] Loss_P: [ 3.74  3.4   2.93  2.61  2.2   1.71  1.16 17.74]\n",
      "Loss_Q: [ 2.91  2.79  2.53  1.93  1.67  1.07  0.   12.92] Loss_P: [ 3.76  3.48  2.93  2.69  2.15  1.7   1.16 17.87]\n",
      "Loss_Q: [ 2.87  2.85  2.52  1.92  1.68  1.12  0.   12.96] Loss_P: [ 3.79  3.35  3.    2.66  2.1   1.69  1.19 17.79]\n",
      "Loss_Q: [ 2.89  2.95  2.59  1.98  1.7   1.12  0.   13.23] Loss_P: [ 3.76  3.36  3.08  2.72  2.17  1.75  1.19 18.04]\n",
      "Loss_Q: [ 3.04  2.94  2.62  1.98  1.72  1.08  0.   13.37] Loss_P: [ 3.77  3.4   3.08  2.72  2.17  1.74  1.19 18.07]\n",
      "Loss_Q: [ 2.93  2.93  2.58  1.94  1.72  1.11  0.   13.21] Loss_P: [ 3.74  3.43  3.03  2.71  2.15  1.77  1.17 18.  ]\n",
      "Loss_Q: [ 2.98  2.89  2.47  1.95  1.73  1.1   0.   13.12] Loss_P: [ 3.77  3.51  3.12  2.66  2.16  1.76  1.19 18.17]\n",
      "Loss_Q: [ 2.94  2.95  2.5   1.97  1.7   1.09  0.   13.15] Loss_P: [ 3.77  3.51  3.11  2.57  2.14  1.72  1.16 17.97]\n",
      "Loss_Q: [ 2.92  2.96  2.48  1.93  1.7   1.08  0.   13.06] Loss_P: [ 3.75  3.45  3.13  2.56  2.13  1.74  1.17 17.93]\n",
      "Loss_Q: [ 2.81  2.94  2.48  1.99  1.72  1.14  0.   13.08] Loss_P: [ 3.78  3.37  3.11  2.59  2.19  1.79  1.23 18.05]\n",
      "Loss_Q: [ 2.85  3.    2.44  2.    1.74  1.16  0.   13.18] Loss_P: [ 3.74  3.46  3.08  2.6   2.24  1.78  1.22 18.12]\n",
      "Loss_Q: [ 2.83  3.    2.49  1.96  1.72  1.13  0.   13.13] Loss_P: [ 3.74  3.38  3.15  2.52  2.22  1.72  1.24 17.98]\n",
      "Loss_Q: [ 2.83  2.99  2.48  1.92  1.74  1.13  0.   13.09] Loss_P: [ 3.74  3.34  3.1   2.54  2.21  1.76  1.2  17.9 ]\n",
      "Loss_Q: [ 2.75  3.01  2.52  1.89  1.7   1.14  0.   13.01] Loss_P: [ 3.76  3.34  3.15  2.63  2.16  1.77  1.23 18.04]\n",
      "Loss_Q: [ 2.79  3.01  2.49  1.91  1.66  1.13  0.   12.98] Loss_P: [ 3.72  3.38  3.1   2.6   2.17  1.74  1.22 17.93]\n",
      "Loss_Q: [ 2.88  3.    2.4   1.9   1.69  1.17  0.   13.04] Loss_P: [ 3.75  3.36  3.16  2.43  2.15  1.74  1.25 17.84]\n",
      "Loss_Q: [ 2.87  3.02  2.27  1.88  1.71  1.19  0.   12.94] Loss_P: [ 3.72  3.43  3.23  2.38  2.12  1.77  1.27 17.92]\n",
      "Loss_Q: [ 2.89  3.02  2.3   1.89  1.7   1.2   0.   13.  ] Loss_P: [ 3.75  3.4   3.23  2.43  2.12  1.79  1.26 17.99]\n",
      "Loss_Q: [ 2.9   3.03  2.36  1.86  1.68  1.12  0.   12.95] Loss_P: [ 3.72  3.4   3.18  2.43  2.07  1.76  1.2  17.77]\n",
      "Loss_Q: [ 2.87  3.07  2.44  1.86  1.74  1.12  0.   13.1 ] Loss_P: [ 3.73  3.38  3.19  2.55  2.12  1.79  1.24 17.99]\n",
      "Loss_Q: [ 2.75  2.95  2.53  1.87  1.73  1.19  0.   13.02] Loss_P: [ 3.66  3.4   3.06  2.56  2.14  1.82  1.27 17.91]\n",
      "Loss_Q: [ 2.86  2.92  2.47  1.91  1.74  1.2   0.   13.1 ] Loss_P: [ 3.68  3.43  3.07  2.56  2.18  1.8   1.26 17.98]\n",
      "Loss_Q: [ 2.83  2.91  2.55  1.91  1.77  1.2   0.   13.17] Loss_P: [ 3.73  3.36  3.04  2.62  2.22  1.84  1.27 18.06]\n",
      "Loss_Q: [ 2.85  2.97  2.53  1.88  1.8   1.22  0.   13.24] Loss_P: [ 3.71  3.39  3.13  2.58  2.18  1.85  1.26 18.1 ]\n",
      "Loss_Q: [ 2.81  2.9   2.48  1.87  1.78  1.14  0.   12.98] Loss_P: [ 3.72  3.35  3.07  2.56  2.18  1.85  1.2  17.92]\n",
      "Loss_Q: [ 2.79  2.88  2.49  1.89  1.76  1.18  0.   12.99] Loss_P: [ 3.68  3.34  3.    2.53  2.15  1.85  1.24 17.8 ]\n",
      "Loss_Q: [ 2.78  2.92  2.51  1.88  1.74  1.19  0.   13.03] Loss_P: [ 3.72  3.35  3.09  2.52  2.18  1.83  1.24 17.93]\n",
      "Loss_Q: [ 2.85  2.89  2.52  1.83  1.78  1.14  0.   13.02] Loss_P: [ 3.72  3.46  3.08  2.61  2.13  1.86  1.21 18.06]\n",
      "Loss_Q: [ 2.85  2.89  2.6   1.86  1.77  1.14  0.   13.1 ] Loss_P: [ 3.69  3.43  3.05  2.62  2.13  1.82  1.21 17.95]\n",
      "Loss_Q: [ 2.79  2.92  2.55  1.84  1.78  1.11  0.   12.98] Loss_P: [ 3.72  3.36  3.1   2.63  2.08  1.84  1.17 17.9 ]\n",
      "Loss_Q: [ 2.78  2.97  2.5   1.82  1.77  1.16  0.   13.  ] Loss_P: [ 3.74  3.3   3.08  2.55  2.08  1.84  1.21 17.79]\n",
      "Loss_Q: [ 2.76  2.97  2.55  1.86  1.75  1.19  0.   13.08] Loss_P: [ 3.73  3.35  3.11  2.61  2.11  1.81  1.27 17.99]\n",
      "Loss_Q: [ 2.82  3.02  2.47  1.88  1.72  1.2   0.   13.11] Loss_P: [ 3.67  3.36  3.18  2.56  2.1   1.8   1.22 17.88]\n",
      "Loss_Q: [ 2.8   3.02  2.36  1.87  1.75  1.17  0.   12.98] Loss_P: [ 3.66  3.31  3.16  2.47  2.09  1.83  1.26 17.78]\n",
      "Loss_Q: [ 2.72  2.98  2.36  1.82  1.74  1.18  0.   12.79] Loss_P: [ 3.62  3.21  3.14  2.41  2.08  1.82  1.26 17.55]\n",
      "Loss_Q: [ 2.64  2.93  2.31  1.84  1.73  1.17  0.   12.61] Loss_P: [ 3.71  3.2   3.08  2.41  2.12  1.81  1.26 17.59]\n",
      "Loss_Q: [ 2.79  2.96  2.4   1.85  1.74  1.18  0.   12.91] Loss_P: [ 3.7   3.33  3.05  2.42  2.07  1.83  1.24 17.64]\n",
      "Loss_Q: [ 2.76  2.9   2.36  1.87  1.75  1.19  0.   12.83] Loss_P: [ 3.67  3.34  3.03  2.48  2.08  1.82  1.28 17.69]\n",
      "Loss_Q: [ 2.8   2.89  2.32  1.89  1.77  1.22  0.   12.89] Loss_P: [ 3.68  3.32  3.03  2.44  2.14  1.83  1.24 17.69]\n",
      "Loss_Q: [ 2.82  2.94  2.43  1.92  1.76  1.19  0.   13.06] Loss_P: [ 3.73  3.31  3.05  2.57  2.12  1.82  1.27 17.87]\n",
      "Loss_Q: [ 2.76  2.92  2.43  1.93  1.75  1.19  0.   12.98] Loss_P: [ 3.7   3.28  3.04  2.54  2.19  1.81  1.3  17.86]\n",
      "Loss_Q: [ 2.81  2.87  2.41  1.89  1.74  1.2   0.   12.91] Loss_P: [ 3.71  3.3   3.    2.57  2.15  1.8   1.29 17.8 ]\n",
      "Loss_Q: [ 2.82  2.88  2.46  1.88  1.71  1.15  0.   12.92] Loss_P: [ 3.69  3.3   3.02  2.56  2.16  1.74  1.26 17.72]\n",
      "Loss_Q: [ 2.79  2.86  2.39  1.94  1.69  1.13  0.   12.81] Loss_P: [ 3.68  3.35  2.95  2.55  2.19  1.72  1.24 17.68]\n",
      "Loss_Q: [ 2.85  2.84  2.44  1.99  1.68  1.18  0.   12.98] Loss_P: [ 3.66  3.35  3.01  2.57  2.24  1.73  1.29 17.86]\n",
      "Loss_Q: [ 2.77  2.89  2.38  2.01  1.68  1.16  0.   12.89] Loss_P: [ 3.61  3.4   3.03  2.5   2.27  1.73  1.28 17.81]\n",
      "Loss_Q: [ 2.81  2.95  2.37  1.92  1.69  1.15  0.   12.89] Loss_P: [ 3.64  3.34  3.02  2.59  2.25  1.71  1.24 17.79]\n",
      "Loss_Q: [ 2.69  2.95  2.3   1.96  1.73  1.15  0.   12.78] Loss_P: [ 3.64  3.25  3.07  2.46  2.21  1.78  1.24 17.65]\n",
      "Loss_Q: [ 2.7   2.91  2.3   1.95  1.73  1.18  0.   12.78] Loss_P: [ 3.65  3.21  2.97  2.45  2.21  1.79  1.25 17.53]\n",
      "Loss_Q: [ 2.66  2.9   2.38  1.95  1.72  1.15  0.   12.76] Loss_P: [ 3.7   3.22  2.97  2.54  2.24  1.77  1.22 17.67]\n",
      "Loss_Q: [ 2.73  2.83  2.27  1.9   1.69  1.16  0.   12.57] Loss_P: [ 3.67  3.25  2.89  2.42  2.19  1.77  1.2  17.38]\n",
      "Loss_Q: [ 2.67  2.83  2.26  1.88  1.72  1.13  0.   12.49] Loss_P: [ 3.62  3.29  3.    2.44  2.15  1.78  1.24 17.53]\n",
      "Loss_Q: [ 2.71  2.83  2.33  1.94  1.71  1.13  0.   12.65] Loss_P: [ 3.68  3.26  2.95  2.46  2.19  1.76  1.2  17.49]\n",
      "Loss_Q: [ 2.76  2.88  2.36  1.93  1.75  1.15  0.   12.83] Loss_P: [ 3.64  3.27  3.02  2.53  2.22  1.79  1.19 17.64]\n",
      "Loss_Q: [ 2.76  2.87  2.39  1.96  1.74  1.16  0.   12.88] Loss_P: [ 3.7   3.23  3.    2.56  2.23  1.8   1.27 17.79]\n",
      "Loss_Q: [ 2.75  2.84  2.36  1.95  1.73  1.19  0.   12.81] Loss_P: [ 3.65  3.21  2.97  2.52  2.25  1.8   1.3  17.69]\n",
      "Loss_Q: [ 2.67  2.89  2.3   1.98  1.72  1.21  0.   12.77] Loss_P: [ 3.68  3.18  2.98  2.5   2.25  1.79  1.31 17.69]\n",
      "Loss_Q: [ 2.65  2.85  2.29  1.98  1.73  1.16  0.   12.67] Loss_P: [ 3.68  3.17  2.92  2.44  2.3   1.78  1.26 17.56]\n",
      "Loss_Q: [ 2.6   2.8   2.21  1.96  1.72  1.15  0.   12.45] Loss_P: [ 3.66  3.12  3.01  2.39  2.24  1.78  1.24 17.44]\n",
      "Loss_Q: [ 2.65  2.82  2.21  1.93  1.73  1.14  0.   12.5 ] Loss_P: [ 3.66  3.12  2.95  2.36  2.23  1.75  1.23 17.3 ]\n",
      "Loss_Q: [ 2.69  2.77  2.21  1.96  1.72  1.17  0.   12.53] Loss_P: [ 3.68  3.21  2.92  2.36  2.21  1.77  1.27 17.41]\n",
      "Loss_Q: [ 2.67  2.75  2.31  1.95  1.73  1.15  0.   12.56] Loss_P: [ 3.65  3.2   2.9   2.39  2.21  1.76  1.27 17.38]\n",
      "Loss_Q: [ 2.68  2.76  2.28  1.97  1.71  1.13  0.   12.53] Loss_P: [ 3.63  3.24  2.92  2.4   2.21  1.75  1.25 17.4 ]\n",
      "Loss_Q: [ 2.71  2.79  2.36  1.88  1.73  1.13  0.   12.61] Loss_P: [ 3.63  3.23  2.87  2.51  2.2   1.75  1.23 17.41]\n",
      "Loss_Q: [ 2.66  2.71  2.29  1.92  1.67  1.1   0.   12.35] Loss_P: [ 3.66  3.13  2.87  2.5   2.2   1.72  1.16 17.23]\n",
      "Loss_Q: [ 2.64  2.79  2.29  1.92  1.65  1.06  0.   12.35] Loss_P: [ 3.64  3.12  2.89  2.49  2.2   1.69  1.15 17.17]\n",
      "Loss_Q: [ 2.62  2.71  2.31  1.89  1.7   1.11  0.   12.35] Loss_P: [ 3.67  3.17  2.85  2.5   2.14  1.71  1.19 17.22]\n"
     ]
    },
    {
     "name": "stdout",
     "output_type": "stream",
     "text": [
      "Loss_Q: [ 2.66  2.76  2.32  1.89  1.66  1.13  0.   12.42] Loss_P: [ 3.7   3.12  2.86  2.5   2.18  1.72  1.25 17.32]\n",
      "Loss_Q: [ 2.65  2.7   2.3   1.9   1.69  1.13  0.   12.37] Loss_P: [ 3.66  3.16  2.76  2.45  2.19  1.71  1.21 17.14]\n",
      "Loss_Q: [ 2.69  2.71  2.31  1.91  1.7   1.08  0.   12.41] Loss_P: [ 3.67  3.22  2.78  2.48  2.17  1.72  1.2  17.24]\n",
      "Loss_Q: [ 2.74  2.68  2.29  1.87  1.66  1.05  0.   12.29] Loss_P: [ 3.67  3.2   2.84  2.46  2.12  1.73  1.12 17.13]\n",
      "Loss_Q: [ 2.67  2.75  2.25  1.85  1.67  1.08  0.   12.27] Loss_P: [ 3.61  3.17  2.9   2.43  2.14  1.68  1.19 17.12]\n",
      "Loss_Q: [ 2.72  2.82  2.28  1.81  1.69  1.08  0.   12.39] Loss_P: [ 3.65  3.2   2.95  2.46  2.12  1.69  1.19 17.26]\n",
      "Loss_Q: [ 2.69  2.82  2.24  1.86  1.67  1.07  0.   12.35] Loss_P: [ 3.65  3.18  2.93  2.39  2.14  1.69  1.16 17.14]\n",
      "Loss_Q: [ 2.68  2.85  2.3   1.86  1.64  1.05  0.   12.38] Loss_P: [ 3.61  3.21  2.95  2.43  2.14  1.7   1.12 17.16]\n",
      "Loss_Q: [ 2.74  2.84  2.3   1.83  1.64  0.95  0.   12.3 ] Loss_P: [ 3.59  3.26  3.    2.44  2.11  1.66  1.05 17.11]\n",
      "Loss_Q: [ 2.73  2.91  2.29  1.8   1.68  0.91  0.   12.31] Loss_P: [ 3.66  3.24  3.    2.39  2.09  1.69  1.04 17.1 ]\n",
      "Loss_Q: [ 2.6   2.84  2.27  1.85  1.68  0.91  0.   12.15] Loss_P: [ 3.62  3.18  2.99  2.44  2.09  1.72  1.04 17.08]\n",
      "Loss_Q: [ 2.7   2.85  2.28  1.86  1.62  0.87  0.   12.18] Loss_P: [ 3.65  3.28  3.07  2.4   2.1   1.67  0.98 17.14]\n",
      "Loss_Q: [ 2.68  2.79  2.26  1.8   1.64  0.88  0.   12.06] Loss_P: [ 3.65  3.25  2.99  2.37  2.1   1.67  0.97 17.  ]\n",
      "Loss_Q: [ 2.63  2.79  2.25  1.82  1.61  0.9   0.   12.  ] Loss_P: [ 3.61  3.2   3.03  2.42  2.07  1.71  0.99 17.03]\n",
      "Loss_Q: [ 2.68  2.83  2.25  1.78  1.6   0.94  0.   12.08] Loss_P: [ 3.62  3.19  3.    2.38  2.02  1.66  1.01 16.89]\n",
      "Loss_Q: [ 2.69  2.69  2.31  1.71  1.61  0.9   0.   11.91] Loss_P: [ 3.6   3.3   2.96  2.39  1.9   1.63  0.96 16.73]\n",
      "Loss_Q: [ 2.6   2.7   2.26  1.67  1.6   0.88  0.   11.72] Loss_P: [ 3.59  3.24  2.94  2.38  1.95  1.68  0.99 16.76]\n",
      "Loss_Q: [ 2.65  2.7   2.2   1.68  1.61  0.9   0.   11.74] Loss_P: [ 3.6   3.25  2.89  2.36  1.93  1.66  1.   16.7 ]\n",
      "Loss_Q: [ 2.65  2.69  2.2   1.71  1.58  0.87  0.   11.7 ] Loss_P: [ 3.61  3.13  2.93  2.3   1.94  1.6   0.95 16.46]\n",
      "Loss_Q: [ 2.54  2.71  2.17  1.72  1.52  0.89  0.   11.55] Loss_P: [ 3.6   3.09  2.96  2.27  1.92  1.52  0.96 16.33]\n",
      "Loss_Q: [ 2.48  2.7   2.22  1.71  1.52  0.9   0.   11.53] Loss_P: [ 3.61  2.99  2.97  2.29  1.96  1.56  0.98 16.36]\n",
      "Loss_Q: [ 2.57  2.67  2.18  1.71  1.53  0.89  0.   11.54] Loss_P: [ 3.61  3.11  2.97  2.26  1.95  1.54  0.93 16.37]\n",
      "Loss_Q: [ 2.48  2.67  2.09  1.75  1.53  0.89  0.   11.41] Loss_P: [ 3.57  3.    2.94  2.21  1.95  1.57  0.99 16.23]\n",
      "Loss_Q: [ 2.41  2.59  2.06  1.73  1.53  0.94  0.   11.27] Loss_P: [ 3.61  2.98  2.87  2.2   1.97  1.58  1.03 16.23]\n",
      "Loss_Q: [ 2.5   2.45  2.01  1.74  1.54  0.9   0.   11.14] Loss_P: [ 3.63  3.07  2.68  2.19  1.95  1.58  0.94 16.04]\n",
      "Loss_Q: [ 2.49  2.42  2.09  1.76  1.53  0.93  0.   11.22] Loss_P: [ 3.61  3.    2.69  2.16  2.    1.55  1.   16.01]\n",
      "Loss_Q: [ 2.6   2.42  2.1   1.78  1.52  0.92  0.   11.33] Loss_P: [ 3.59  3.14  2.68  2.2   2.    1.59  1.02 16.21]\n",
      "Loss_Q: [ 2.49  2.43  2.07  1.85  1.54  0.94  0.   11.32] Loss_P: [ 3.61  3.1   2.67  2.18  2.1   1.57  1.02 16.25]\n",
      "Loss_Q: [ 2.48  2.47  2.18  1.87  1.57  0.98  0.   11.53] Loss_P: [ 3.63  3.14  2.67  2.29  2.16  1.62  1.06 16.57]\n",
      "Loss_Q: [ 2.51  2.45  2.11  1.89  1.64  1.05  0.   11.64] Loss_P: [ 3.6   3.05  2.66  2.22  2.12  1.72  1.13 16.5 ]\n",
      "Loss_Q: [ 2.43  2.4   2.2   1.84  1.67  1.09  0.   11.65] Loss_P: [ 3.62  3.07  2.68  2.27  2.05  1.7   1.17 16.56]\n",
      "Loss_Q: [ 2.45  2.49  2.25  1.8   1.68  1.09  0.   11.76] Loss_P: [ 3.66  3.01  2.71  2.29  2.05  1.72  1.2  16.62]\n",
      "Loss_Q: [ 2.51  2.57  2.24  1.83  1.69  1.15  0.   11.99] Loss_P: [ 3.6   3.11  2.74  2.31  2.09  1.75  1.23 16.82]\n",
      "Loss_Q: [ 2.51  2.61  2.14  1.89  1.72  1.23  0.   12.09] Loss_P: [ 3.58  3.14  2.82  2.22  2.12  1.74  1.28 16.9 ]\n",
      "Loss_Q: [ 2.63  2.63  2.23  1.93  1.7   1.23  0.   12.35] Loss_P: [ 3.6   3.16  2.86  2.35  2.22  1.8   1.3  17.29]\n",
      "Loss_Q: [ 2.55  2.63  2.28  1.99  1.69  1.15  0.   12.29] Loss_P: [ 3.6   3.08  2.83  2.4   2.22  1.73  1.24 17.11]\n",
      "Loss_Q: [ 2.54  2.65  2.25  1.95  1.68  1.2   0.   12.27] Loss_P: [ 3.61  3.06  2.83  2.37  2.2   1.73  1.3  17.11]\n",
      "Loss_Q: [ 2.54  2.55  2.32  1.93  1.74  1.22  0.   12.29] Loss_P: [ 3.62  3.06  2.83  2.48  2.22  1.77  1.31 17.28]\n",
      "Loss_Q: [ 2.43  2.61  2.32  1.98  1.72  1.22  0.   12.27] Loss_P: [ 3.6   2.99  2.81  2.49  2.23  1.77  1.28 17.17]\n",
      "Loss_Q: [ 2.39  2.58  2.27  1.94  1.75  1.2   0.   12.13] Loss_P: [ 3.65  2.95  2.78  2.44  2.21  1.8   1.3  17.13]\n",
      "Loss_Q: [ 2.47  2.6   2.27  1.96  1.74  1.25  0.   12.29] Loss_P: [ 3.6   2.98  2.83  2.44  2.23  1.79  1.35 17.22]\n",
      "Loss_Q: [ 2.46  2.64  2.3   1.97  1.71  1.22  0.   12.29] Loss_P: [ 3.58  2.93  2.82  2.44  2.23  1.75  1.31 17.05]\n",
      "Loss_Q: [ 2.57  2.61  2.35  1.95  1.71  1.24  0.   12.42] Loss_P: [ 3.63  3.08  2.85  2.45  2.22  1.81  1.33 17.37]\n",
      "Loss_Q: [ 2.5   2.64  2.26  1.96  1.76  1.23  0.   12.35] Loss_P: [ 3.56  3.18  2.8   2.47  2.22  1.8   1.3  17.32]\n",
      "Loss_Q: [ 2.54  2.67  2.31  1.94  1.72  1.24  0.   12.41] Loss_P: [ 3.6   3.12  2.83  2.49  2.22  1.8   1.32 17.37]\n",
      "Loss_Q: [ 2.55  2.66  2.33  1.94  1.73  1.25  0.   12.46] Loss_P: [ 3.59  3.1   2.79  2.53  2.18  1.78  1.33 17.3 ]\n",
      "Loss_Q: [ 2.55  2.63  2.3   1.88  1.73  1.23  0.   12.31] Loss_P: [ 3.62  3.1   2.84  2.41  2.15  1.79  1.3  17.22]\n",
      "Loss_Q: [ 2.47  2.57  2.35  1.86  1.72  1.18  0.   12.15] Loss_P: [ 3.59  3.03  2.78  2.48  2.1   1.79  1.26 17.03]\n",
      "Loss_Q: [ 2.43  2.63  2.36  1.89  1.69  1.16  0.   12.16] Loss_P: [ 3.57  3.05  2.78  2.53  2.17  1.72  1.24 17.06]\n",
      "Loss_Q: [ 2.5   2.65  2.38  1.84  1.71  1.13  0.   12.22] Loss_P: [ 3.54  3.05  2.85  2.51  2.15  1.76  1.23 17.09]\n",
      "Loss_Q: [ 2.49  2.63  2.35  1.86  1.72  1.18  0.   12.24] Loss_P: [ 3.54  3.04  2.9   2.52  2.17  1.76  1.28 17.2 ]\n",
      "Loss_Q: [ 2.45  2.67  2.27  1.83  1.75  1.16  0.   12.14] Loss_P: [ 3.54  3.    2.89  2.45  2.11  1.79  1.23 17.01]\n",
      "Loss_Q: [ 2.43  2.67  2.28  1.79  1.74  1.18  0.   12.08] Loss_P: [ 3.56  3.03  2.86  2.45  2.05  1.79  1.29 17.02]\n",
      "Loss_Q: [ 2.49  2.61  2.32  1.75  1.71  1.2   0.   12.06] Loss_P: [ 3.56  3.04  2.8   2.51  2.01  1.77  1.3  16.99]\n",
      "Loss_Q: [ 2.46  2.67  2.29  1.76  1.67  1.19  0.   12.04] Loss_P: [ 3.6   3.01  2.86  2.49  2.02  1.73  1.29 17.  ]\n",
      "Loss_Q: [ 2.52  2.62  2.31  1.77  1.68  1.17  0.   12.08] Loss_P: [ 3.57  3.05  2.84  2.51  2.06  1.74  1.29 17.06]\n",
      "Loss_Q: [ 2.47  2.57  2.25  1.75  1.66  1.18  0.   11.88] Loss_P: [ 3.58  3.05  2.84  2.45  2.02  1.69  1.25 16.88]\n",
      "Loss_Q: [ 2.44  2.69  2.36  1.8   1.65  1.19  0.   12.12] Loss_P: [ 3.52  2.98  2.87  2.42  2.04  1.69  1.29 16.82]\n",
      "Loss_Q: [ 2.54  2.72  2.37  1.76  1.66  1.18  0.   12.21] Loss_P: [ 3.53  3.08  2.92  2.52  1.99  1.71  1.26 17.01]\n",
      "Loss_Q: [ 2.42  2.71  2.31  1.8   1.62  1.15  0.   12.03] Loss_P: [ 3.54  3.06  2.9   2.51  2.05  1.7   1.23 17.  ]\n",
      "Loss_Q: [ 2.48  2.74  2.33  1.75  1.66  1.16  0.   12.11] Loss_P: [ 3.52  3.01  2.88  2.49  1.98  1.72  1.21 16.81]\n",
      "Loss_Q: [ 2.51  2.68  2.3   1.69  1.66  1.15  0.   12.  ] Loss_P: [ 3.56  3.05  2.88  2.49  1.97  1.74  1.24 16.93]\n",
      "Loss_Q: [ 2.41  2.69  2.26  1.58  1.65  1.13  0.   11.73] Loss_P: [ 3.51  3.04  2.92  2.46  1.87  1.72  1.23 16.74]\n",
      "Loss_Q: [ 2.51  2.72  2.32  1.68  1.69  1.15  0.   12.06] Loss_P: [ 3.56  3.05  2.87  2.43  1.91  1.74  1.25 16.8 ]\n",
      "Loss_Q: [ 2.52  2.68  2.24  1.65  1.66  1.1   0.   11.85] Loss_P: [ 3.49  3.18  2.92  2.44  1.88  1.75  1.17 16.84]\n",
      "Loss_Q: [ 2.48  2.71  2.28  1.68  1.65  1.08  0.   11.89] Loss_P: [ 3.53  3.04  2.78  2.39  1.89  1.73  1.15 16.52]\n",
      "Loss_Q: [ 2.47  2.67  2.35  1.66  1.7   1.12  0.   11.97] Loss_P: [ 3.49  3.08  2.86  2.47  1.88  1.74  1.2  16.72]\n",
      "Loss_Q: [ 2.49  2.64  2.32  1.63  1.67  1.09  0.   11.83] Loss_P: [ 3.47  3.13  2.81  2.5   1.88  1.72  1.19 16.69]\n",
      "Loss_Q: [ 2.54  2.61  2.36  1.68  1.62  1.07  0.   11.88] Loss_P: [ 3.51  3.12  2.78  2.46  1.95  1.7   1.2  16.73]\n",
      "Loss_Q: [ 2.58  2.56  2.29  1.67  1.64  1.1   0.   11.82] Loss_P: [ 3.51  3.17  2.73  2.48  1.92  1.73  1.19 16.74]\n",
      "Loss_Q: [ 2.53  2.65  2.28  1.76  1.65  1.1   0.   11.98] Loss_P: [ 3.48  3.15  2.78  2.5   2.02  1.72  1.19 16.84]\n"
     ]
    },
    {
     "name": "stdout",
     "output_type": "stream",
     "text": [
      "Loss_Q: [ 2.49  2.67  2.26  1.73  1.64  1.13  0.   11.92] Loss_P: [ 3.44  3.11  2.86  2.5   1.95  1.72  1.21 16.78]\n",
      "Loss_Q: [ 2.5   2.64  2.25  1.74  1.6   1.13  0.   11.86] Loss_P: [ 3.45  3.09  2.82  2.46  1.97  1.68  1.26 16.72]\n",
      "Loss_Q: [ 2.48  2.62  2.26  1.73  1.61  1.18  0.   11.89] Loss_P: [ 3.47  3.09  2.77  2.46  1.94  1.68  1.26 16.67]\n",
      "Loss_Q: [ 2.51  2.6   2.28  1.7   1.65  1.23  0.   11.97] Loss_P: [ 3.45  3.08  2.82  2.51  1.94  1.71  1.33 16.84]\n",
      "Loss_Q: [ 2.49  2.65  2.32  1.7   1.61  1.19  0.   11.96] Loss_P: [ 3.48  3.18  2.85  2.46  2.    1.7   1.28 16.95]\n",
      "Loss_Q: [ 2.44  2.61  2.35  1.71  1.6   1.22  0.   11.93] Loss_P: [ 3.43  3.15  2.85  2.51  1.97  1.66  1.28 16.84]\n",
      "Loss_Q: [ 2.45  2.58  2.22  1.69  1.59  1.2   0.   11.74] Loss_P: [ 3.43  3.12  2.8   2.49  2.01  1.68  1.29 16.82]\n",
      "Loss_Q: [ 2.47  2.63  2.19  1.73  1.57  1.17  0.   11.76] Loss_P: [ 3.4   3.09  2.74  2.33  1.95  1.66  1.27 16.45]\n",
      "Loss_Q: [ 2.39  2.58  2.16  1.71  1.57  1.15  0.   11.56] Loss_P: [ 3.49  3.01  2.81  2.35  1.94  1.63  1.22 16.46]\n",
      "Loss_Q: [ 2.36  2.65  2.18  1.72  1.52  1.15  0.   11.58] Loss_P: [ 3.45  2.95  2.84  2.33  2.02  1.6   1.24 16.44]\n",
      "Loss_Q: [ 2.4   2.54  2.2   1.72  1.53  1.18  0.   11.57] Loss_P: [ 3.47  2.98  2.72  2.32  1.98  1.61  1.25 16.32]\n",
      "Loss_Q: [ 2.43  2.49  2.1   1.72  1.51  1.16  0.   11.41] Loss_P: [ 3.52  3.02  2.72  2.22  1.97  1.6   1.24 16.3 ]\n",
      "Loss_Q: [ 2.39  2.44  2.13  1.69  1.49  1.15  0.   11.29] Loss_P: [ 3.51  2.96  2.71  2.21  1.91  1.57  1.27 16.14]\n",
      "Loss_Q: [ 2.46  2.48  2.24  1.65  1.56  1.18  0.   11.57] Loss_P: [ 3.53  2.93  2.71  2.31  1.91  1.62  1.24 16.24]\n",
      "Loss_Q: [ 2.36  2.57  2.36  1.68  1.52  1.16  0.   11.64] Loss_P: [ 3.52  2.96  2.8   2.38  1.95  1.58  1.24 16.44]\n",
      "Loss_Q: [ 2.35  2.58  2.37  1.74  1.57  1.17  0.   11.77] Loss_P: [ 3.54  2.97  2.76  2.44  1.98  1.59  1.27 16.54]\n",
      "Loss_Q: [ 2.4   2.62  2.31  1.74  1.52  1.2   0.   11.8 ] Loss_P: [ 3.5   3.03  2.82  2.44  1.99  1.62  1.34 16.74]\n",
      "Loss_Q: [ 2.31  2.58  2.32  1.66  1.5   1.23  0.   11.59] Loss_P: [ 3.48  3.    2.76  2.48  1.94  1.61  1.35 16.62]\n",
      "Loss_Q: [ 2.36  2.59  2.31  1.71  1.5   1.22  0.   11.67] Loss_P: [ 3.47  2.95  2.75  2.49  1.96  1.55  1.32 16.49]\n",
      "Loss_Q: [ 2.31  2.63  2.29  1.74  1.52  1.2   0.   11.69] Loss_P: [ 3.48  3.    2.84  2.4   2.04  1.6   1.31 16.66]\n",
      "Loss_Q: [ 2.39  2.65  2.22  1.75  1.49  1.23  0.   11.72] Loss_P: [ 3.46  3.    2.9   2.37  1.98  1.56  1.31 16.58]\n",
      "Loss_Q: [ 2.47  2.65  2.3   1.69  1.48  1.2   0.   11.8 ] Loss_P: [ 3.47  3.05  2.89  2.47  2.    1.55  1.27 16.69]\n",
      "Loss_Q: [ 2.39  2.61  2.35  1.68  1.48  1.14  0.   11.65] Loss_P: [ 3.42  3.05  2.82  2.51  1.92  1.52  1.26 16.5 ]\n",
      "Loss_Q: [ 2.45  2.59  2.44  1.72  1.49  1.21  0.   11.9 ] Loss_P: [ 3.48  3.04  2.84  2.54  1.98  1.58  1.29 16.73]\n",
      "Loss_Q: [ 2.55  2.63  2.32  1.75  1.47  1.2   0.   11.92] Loss_P: [ 3.44  3.2   2.89  2.52  1.96  1.55  1.25 16.82]\n",
      "Loss_Q: [ 2.56  2.64  2.36  1.72  1.43  1.13  0.   11.84] Loss_P: [ 3.45  3.14  2.87  2.56  1.92  1.51  1.21 16.66]\n",
      "Loss_Q: [ 2.52  2.49  2.34  1.73  1.43  1.13  0.   11.63] Loss_P: [ 3.49  3.09  2.79  2.47  1.97  1.54  1.21 16.56]\n",
      "Loss_Q: [ 2.51  2.42  2.37  1.79  1.4   1.12  0.   11.61] Loss_P: [ 3.46  3.1   2.73  2.45  2.02  1.5   1.19 16.45]\n",
      "Loss_Q: [ 2.48  2.51  2.36  1.78  1.44  1.08  0.   11.64] Loss_P: [ 3.48  3.08  2.71  2.43  2.02  1.5   1.16 16.37]\n",
      "Loss_Q: [ 2.45  2.48  2.34  1.78  1.41  1.05  0.   11.51] Loss_P: [ 3.42  3.1   2.79  2.37  2.08  1.5   1.14 16.4 ]\n",
      "Loss_Q: [ 2.45  2.49  2.3   1.82  1.42  1.04  0.   11.52] Loss_P: [ 3.45  3.08  2.77  2.36  2.07  1.54  1.11 16.38]\n",
      "Loss_Q: [ 2.47  2.44  2.32  1.79  1.47  1.05  0.   11.54] Loss_P: [ 3.49  3.03  2.68  2.32  2.06  1.55  1.11 16.23]\n",
      "Loss_Q: [ 2.35  2.37  2.31  1.78  1.46  1.02  0.   11.29] Loss_P: [ 3.49  2.88  2.63  2.34  2.04  1.55  1.1  16.04]\n",
      "Loss_Q: [ 2.34  2.38  2.26  1.81  1.43  1.03  0.   11.24] Loss_P: [ 3.51  2.98  2.62  2.29  2.02  1.53  1.13 16.07]\n",
      "Loss_Q: [ 2.33  2.3   2.21  1.73  1.45  1.07  0.   11.08] Loss_P: [ 3.53  3.02  2.59  2.26  1.98  1.52  1.14 16.04]\n",
      "Loss_Q: [ 2.4   2.29  2.24  1.74  1.41  1.09  0.   11.18] Loss_P: [ 3.5   2.98  2.6   2.28  2.01  1.51  1.19 16.06]\n",
      "Loss_Q: [ 2.28  2.33  2.27  1.75  1.38  1.06  0.   11.07] Loss_P: [ 3.49  2.94  2.57  2.31  2.    1.47  1.16 15.94]\n",
      "Loss_Q: [ 2.43  2.4   2.25  1.81  1.41  1.02  0.   11.33] Loss_P: [ 3.51  2.97  2.68  2.34  2.05  1.47  1.16 16.19]\n",
      "Loss_Q: [ 2.48  2.45  2.33  1.78  1.41  1.09  0.   11.53] Loss_P: [ 3.47  3.17  2.71  2.38  2.07  1.49  1.18 16.47]\n",
      "Loss_Q: [ 2.5   2.47  2.28  1.79  1.39  1.09  0.   11.52] Loss_P: [ 3.44  3.17  2.71  2.39  1.96  1.49  1.2  16.36]\n",
      "Loss_Q: [ 2.44  2.44  2.29  1.72  1.42  1.09  0.   11.39] Loss_P: [ 3.46  3.02  2.69  2.34  1.96  1.5   1.17 16.14]\n",
      "Loss_Q: [ 2.33  2.49  2.2   1.77  1.44  1.05  0.   11.29] Loss_P: [ 3.45  2.95  2.7   2.29  2.02  1.48  1.14 16.04]\n",
      "Loss_Q: [ 2.43  2.48  2.26  1.79  1.41  1.    0.   11.36] Loss_P: [ 3.48  3.01  2.73  2.27  2.04  1.49  1.09 16.11]\n",
      "Loss_Q: [ 2.39  2.53  2.21  1.85  1.42  1.03  0.   11.42] Loss_P: [ 3.49  2.94  2.78  2.26  2.06  1.5   1.12 16.14]\n",
      "Loss_Q: [ 2.37  2.54  2.04  1.86  1.4   1.    0.   11.21] Loss_P: [ 3.52  2.88  2.82  2.19  2.04  1.45  1.11 16.02]\n",
      "Loss_Q: [ 2.43  2.43  2.15  1.81  1.41  0.96  0.   11.19] Loss_P: [ 3.49  2.96  2.69  2.23  1.99  1.51  1.07 15.93]\n",
      "Loss_Q: [ 2.37  2.47  2.08  1.82  1.43  0.99  0.   11.15] Loss_P: [ 3.5   2.95  2.74  2.23  1.98  1.49  1.09 15.98]\n",
      "Loss_Q: [ 2.34  2.53  2.19  1.75  1.43  1.01  0.   11.24] Loss_P: [ 3.47  2.89  2.76  2.31  1.94  1.5   1.09 15.97]\n",
      "Loss_Q: [ 2.28  2.62  2.19  1.75  1.47  1.04  0.   11.34] Loss_P: [ 3.51  2.79  2.82  2.27  2.02  1.51  1.16 16.08]\n",
      "Loss_Q: [ 2.23  2.52  2.19  1.73  1.48  1.08  0.   11.24] Loss_P: [ 3.56  2.76  2.79  2.29  1.96  1.54  1.2  16.09]\n",
      "Loss_Q: [ 2.29  2.36  2.12  1.67  1.47  1.05  0.   10.96] Loss_P: [ 3.49  2.84  2.65  2.19  1.89  1.54  1.15 15.75]\n",
      "Loss_Q: [ 2.27  2.32  2.04  1.69  1.5   1.06  0.   10.88] Loss_P: [ 3.53  2.78  2.57  2.14  1.89  1.51  1.17 15.6 ]\n",
      "Loss_Q: [ 2.34  2.4   2.07  1.71  1.51  1.06  0.   11.09] Loss_P: [ 3.5   2.82  2.65  2.14  1.88  1.55  1.19 15.74]\n",
      "Loss_Q: [ 2.16  2.35  2.04  1.61  1.47  1.08  0.   10.72] Loss_P: [ 3.57  2.74  2.68  2.16  1.83  1.53  1.2  15.71]\n",
      "Loss_Q: [ 2.11  2.37  2.08  1.64  1.46  1.07  0.   10.72] Loss_P: [ 3.57  2.66  2.57  2.19  1.81  1.51  1.17 15.48]\n",
      "Loss_Q: [ 2.1   2.43  2.09  1.62  1.5   1.03  0.   10.78] Loss_P: [ 3.52  2.73  2.7   2.17  1.78  1.53  1.12 15.55]\n",
      "Loss_Q: [ 2.21  2.45  2.12  1.62  1.51  1.03  0.   10.95] Loss_P: [ 3.51  2.77  2.72  2.19  1.82  1.57  1.14 15.73]\n",
      "Loss_Q: [ 2.31  2.42  2.21  1.58  1.5   1.03  0.   11.05] Loss_P: [ 3.53  2.83  2.68  2.28  1.8   1.56  1.13 15.81]\n",
      "Loss_Q: [ 2.26  2.37  2.17  1.65  1.47  0.97  0.   10.89] Loss_P: [ 3.55  2.84  2.65  2.24  1.86  1.54  1.13 15.83]\n",
      "Loss_Q: [ 2.32  2.44  2.18  1.66  1.46  1.06  0.   11.12] Loss_P: [ 3.49  2.91  2.74  2.3   1.84  1.5   1.17 15.94]\n",
      "Loss_Q: [ 2.32  2.4   2.22  1.68  1.45  1.1   0.   11.17] Loss_P: [ 3.51  2.92  2.69  2.32  1.86  1.51  1.23 16.04]\n",
      "Loss_Q: [ 2.26  2.4   2.2   1.71  1.43  1.11  0.   11.12] Loss_P: [ 3.53  2.85  2.6   2.25  1.88  1.5   1.24 15.83]\n",
      "Loss_Q: [ 2.32  2.44  2.16  1.71  1.41  1.08  0.   11.13] Loss_P: [ 3.54  2.87  2.64  2.23  1.93  1.52  1.23 15.96]\n",
      "Loss_Q: [ 2.27  2.35  2.15  1.69  1.41  1.1   0.   10.98] Loss_P: [ 3.49  2.82  2.61  2.25  1.87  1.49  1.24 15.77]\n",
      "Loss_Q: [ 2.3   2.39  2.13  1.66  1.42  1.06  0.   10.96] Loss_P: [ 3.45  2.86  2.67  2.2   1.78  1.47  1.18 15.61]\n",
      "Loss_Q: [ 2.29  2.31  2.18  1.65  1.44  1.03  0.   10.89] Loss_P: [ 3.44  2.8   2.63  2.22  1.79  1.49  1.17 15.55]\n",
      "Loss_Q: [ 2.19  2.31  2.09  1.7   1.46  1.02  0.   10.78] Loss_P: [ 3.48  2.79  2.59  2.15  1.86  1.5   1.16 15.54]\n",
      "Loss_Q: [ 2.23  2.31  2.19  1.64  1.42  1.02  0.   10.82] Loss_P: [ 3.49  2.84  2.64  2.21  1.85  1.48  1.19 15.7 ]\n",
      "Loss_Q: [ 2.14  2.25  2.12  1.66  1.43  0.97  0.   10.57] Loss_P: [ 3.52  2.75  2.53  2.19  1.83  1.49  1.12 15.44]\n",
      "Loss_Q: [ 2.22  2.31  2.19  1.63  1.46  0.99  0.   10.8 ] Loss_P: [ 3.53  2.74  2.58  2.29  1.82  1.52  1.15 15.62]\n",
      "Loss_Q: [ 2.2   2.35  2.24  1.63  1.45  1.02  0.   10.89] Loss_P: [ 3.48  2.79  2.57  2.35  1.77  1.52  1.14 15.62]\n"
     ]
    },
    {
     "name": "stdout",
     "output_type": "stream",
     "text": [
      "Loss_Q: [ 2.04  2.2   2.19  1.65  1.46  1.08  0.   10.62] Loss_P: [ 3.53  2.71  2.45  2.31  1.78  1.55  1.17 15.49]\n",
      "Loss_Q: [ 2.19  2.26  2.19  1.61  1.48  1.03  0.   10.75] Loss_P: [ 3.52  2.83  2.52  2.26  1.77  1.55  1.23 15.69]\n",
      "Loss_Q: [ 2.18  2.21  2.23  1.62  1.51  1.08  0.   10.83] Loss_P: [ 3.49  2.8   2.46  2.35  1.8   1.55  1.27 15.73]\n",
      "Loss_Q: [ 2.25  2.34  2.31  1.72  1.52  1.13  0.   11.27] Loss_P: [ 3.49  2.84  2.6   2.41  1.85  1.54  1.25 15.96]\n",
      "Loss_Q: [ 2.25  2.29  2.4   1.75  1.47  1.12  0.   11.28] Loss_P: [ 3.49  2.84  2.63  2.47  1.87  1.55  1.26 16.12]\n",
      "Loss_Q: [ 2.25  2.27  2.34  1.73  1.5   1.1   0.   11.18] Loss_P: [ 3.49  2.94  2.59  2.53  1.88  1.62  1.25 16.3 ]\n",
      "Loss_Q: [ 2.28  2.25  2.28  1.71  1.53  1.14  0.   11.18] Loss_P: [ 3.49  2.88  2.55  2.4   1.91  1.59  1.26 16.08]\n",
      "Loss_Q: [ 2.24  2.27  2.29  1.76  1.49  1.06  0.   11.1 ] Loss_P: [ 3.53  2.8   2.55  2.4   1.93  1.57  1.23 16.02]\n",
      "Loss_Q: [ 2.22  2.26  2.27  1.82  1.59  1.13  0.   11.29] Loss_P: [ 3.52  2.82  2.6   2.39  1.99  1.64  1.23 16.19]\n",
      "Loss_Q: [ 2.3   2.29  2.35  1.79  1.52  1.08  0.   11.33] Loss_P: [ 3.51  2.87  2.58  2.45  1.95  1.57  1.25 16.18]\n",
      "Loss_Q: [ 2.39  2.27  2.36  1.86  1.54  1.08  0.   11.51] Loss_P: [ 3.48  2.96  2.57  2.5   2.03  1.57  1.25 16.36]\n",
      "Loss_Q: [ 2.36  2.24  2.41  1.82  1.51  1.06  0.   11.4 ] Loss_P: [ 3.5   2.96  2.48  2.47  2.02  1.55  1.21 16.19]\n",
      "Loss_Q: [ 2.31  2.2   2.34  1.86  1.48  1.04  0.   11.23] Loss_P: [ 3.5   2.89  2.55  2.46  2.    1.53  1.16 16.08]\n",
      "Loss_Q: [ 2.4   2.28  2.39  1.87  1.46  1.03  0.   11.43] Loss_P: [ 3.47  2.94  2.63  2.52  2.04  1.49  1.17 16.26]\n",
      "Loss_Q: [ 2.28  2.35  2.34  1.84  1.4   1.04  0.   11.25] Loss_P: [ 3.47  2.88  2.63  2.53  2.01  1.44  1.19 16.14]\n",
      "Loss_Q: [ 2.35  2.32  2.28  1.82  1.41  1.08  0.   11.26] Loss_P: [ 3.46  2.96  2.63  2.43  2.01  1.44  1.2  16.14]\n",
      "Loss_Q: [ 2.31  2.38  2.3   1.87  1.38  1.11  0.   11.34] Loss_P: [ 3.5   2.88  2.63  2.46  2.02  1.47  1.26 16.23]\n",
      "Loss_Q: [ 2.35  2.37  2.27  1.93  1.4   1.14  0.   11.45] Loss_P: [ 3.46  2.93  2.59  2.38  2.04  1.45  1.29 16.13]\n",
      "Loss_Q: [ 2.34  2.4   2.26  1.88  1.44  1.1   0.   11.43] Loss_P: [ 3.49  2.95  2.63  2.38  2.09  1.48  1.27 16.3 ]\n",
      "Loss_Q: [ 2.33  2.42  2.23  1.89  1.47  1.08  0.   11.43] Loss_P: [ 3.54  2.91  2.66  2.36  2.07  1.56  1.24 16.33]\n",
      "Loss_Q: [ 2.3   2.42  2.25  1.92  1.48  1.11  0.   11.47] Loss_P: [ 3.52  2.91  2.71  2.38  2.12  1.53  1.28 16.44]\n",
      "Loss_Q: [ 2.26  2.46  2.34  1.87  1.47  1.07  0.   11.48] Loss_P: [ 3.47  2.9   2.71  2.44  2.13  1.47  1.24 16.35]\n",
      "Loss_Q: [ 2.29  2.4   2.34  1.86  1.43  1.08  0.   11.39] Loss_P: [ 3.46  2.91  2.67  2.46  2.09  1.46  1.19 16.25]\n",
      "Loss_Q: [ 2.3   2.48  2.28  1.86  1.45  1.06  0.   11.43] Loss_P: [ 3.48  2.93  2.74  2.42  2.08  1.46  1.18 16.3 ]\n",
      "Loss_Q: [ 2.26  2.39  2.19  1.89  1.45  1.02  0.   11.2 ] Loss_P: [ 3.48  2.85  2.67  2.32  2.1   1.48  1.14 16.02]\n",
      "Loss_Q: [ 2.24  2.39  2.26  1.85  1.48  0.94  0.   11.15] Loss_P: [ 3.45  2.9   2.62  2.42  2.09  1.5   1.05 16.04]\n",
      "Loss_Q: [ 2.26  2.37  2.34  1.87  1.48  0.95  0.   11.28] Loss_P: [ 3.47  2.88  2.66  2.42  2.08  1.51  1.08 16.09]\n",
      "Loss_Q: [ 2.29  2.42  2.27  1.82  1.44  0.96  0.   11.2 ] Loss_P: [ 3.44  2.9   2.66  2.34  2.04  1.48  1.09 15.94]\n",
      "Loss_Q: [ 2.23  2.39  2.3   1.83  1.43  0.97  0.   11.15] Loss_P: [ 3.44  2.9   2.66  2.43  2.03  1.47  1.07 16.  ]\n",
      "Loss_Q: [ 2.23  2.39  2.35  1.8   1.38  0.93  0.   11.07] Loss_P: [ 3.47  2.83  2.6   2.42  2.06  1.46  1.04 15.87]\n",
      "Loss_Q: [ 2.2   2.36  2.39  1.89  1.38  0.93  0.   11.14] Loss_P: [ 3.46  2.81  2.59  2.46  2.13  1.41  1.09 15.96]\n",
      "Loss_Q: [ 2.23  2.39  2.33  1.88  1.41  0.99  0.   11.23] Loss_P: [ 3.44  2.91  2.62  2.46  2.09  1.43  1.11 16.06]\n",
      "Loss_Q: [ 2.21  2.35  2.36  1.81  1.43  1.    0.   11.15] Loss_P: [ 3.49  2.89  2.63  2.43  2.1   1.45  1.13 16.13]\n",
      "Loss_Q: [ 2.24  2.28  2.31  1.83  1.41  1.    0.   11.07] Loss_P: [ 3.49  2.9   2.58  2.43  2.08  1.44  1.14 16.06]\n",
      "Loss_Q: [ 2.19  2.19  2.28  1.89  1.44  1.03  0.   11.03] Loss_P: [ 3.45  2.87  2.61  2.39  2.11  1.48  1.18 16.1 ]\n",
      "Loss_Q: [ 2.22  2.33  2.32  1.86  1.48  1.03  0.   11.23] Loss_P: [ 3.48  2.78  2.61  2.46  2.05  1.52  1.17 16.07]\n",
      "Loss_Q: [ 2.14  2.34  2.39  1.79  1.53  1.03  0.   11.24] Loss_P: [ 3.49  2.72  2.62  2.49  2.03  1.57  1.14 16.07]\n",
      "Loss_Q: [ 2.24  2.27  2.23  1.79  1.55  1.01  0.   11.09] Loss_P: [ 3.45  2.8   2.49  2.4   1.95  1.57  1.15 15.82]\n",
      "Loss_Q: [ 2.19  2.31  2.22  1.8   1.53  1.05  0.   11.1 ] Loss_P: [ 3.48  2.82  2.57  2.38  1.94  1.58  1.16 15.93]\n",
      "Loss_Q: [ 2.16  2.35  2.23  1.77  1.51  1.05  0.   11.07] Loss_P: [ 3.48  2.76  2.58  2.41  1.96  1.58  1.24 16.  ]\n",
      "Loss_Q: [ 2.12  2.32  2.28  1.83  1.57  1.08  0.   11.19] Loss_P: [ 3.51  2.67  2.61  2.43  2.02  1.62  1.22 16.08]\n",
      "Loss_Q: [ 2.09  2.34  2.33  1.86  1.58  1.12  0.   11.31] Loss_P: [ 3.48  2.68  2.63  2.41  2.05  1.62  1.23 16.1 ]\n",
      "Loss_Q: [ 2.23  2.38  2.29  1.79  1.55  1.07  0.   11.3 ] Loss_P: [ 3.46  2.78  2.64  2.37  2.03  1.58  1.2  16.06]\n",
      "Loss_Q: [ 2.27  2.32  2.26  1.74  1.53  1.04  0.   11.16] Loss_P: [ 3.42  2.87  2.6   2.33  1.98  1.59  1.19 15.98]\n",
      "Loss_Q: [ 2.29  2.35  2.27  1.71  1.53  1.03  0.   11.18] Loss_P: [ 3.42  2.97  2.67  2.42  2.    1.54  1.17 16.2 ]\n",
      "Loss_Q: [ 2.21  2.36  2.23  1.74  1.54  1.03  0.   11.1 ] Loss_P: [ 3.42  2.83  2.65  2.38  1.94  1.54  1.16 15.92]\n",
      "Loss_Q: [ 2.24  2.31  2.28  1.69  1.48  0.95  0.   10.96] Loss_P: [ 3.36  2.9   2.59  2.36  1.92  1.54  1.09 15.76]\n",
      "Loss_Q: [ 2.23  2.35  2.27  1.69  1.52  0.94  0.   11.01] Loss_P: [ 3.44  2.89  2.62  2.39  1.91  1.57  1.08 15.89]\n",
      "Loss_Q: [ 2.2   2.29  2.15  1.68  1.53  0.94  0.   10.79] Loss_P: [ 3.48  2.81  2.56  2.27  1.94  1.59  1.11 15.76]\n",
      "Loss_Q: [ 2.19  2.38  2.2   1.67  1.5   0.94  0.   10.89] Loss_P: [ 3.39  2.86  2.59  2.31  1.97  1.52  1.07 15.71]\n",
      "Loss_Q: [ 2.19  2.35  2.14  1.67  1.41  0.95  0.   10.71] Loss_P: [ 3.39  2.85  2.61  2.24  1.93  1.47  1.06 15.56]\n",
      "Loss_Q: [ 2.19  2.31  2.2   1.69  1.46  0.95  0.   10.8 ] Loss_P: [ 3.44  2.85  2.59  2.2   1.96  1.45  1.11 15.6 ]\n",
      "Loss_Q: [ 2.21  2.31  2.09  1.69  1.44  0.94  0.   10.68] Loss_P: [ 3.44  2.85  2.5   2.19  1.92  1.48  1.06 15.43]\n",
      "Loss_Q: [ 2.19  2.25  2.11  1.6   1.47  0.96  0.   10.58] Loss_P: [ 3.41  2.88  2.64  2.08  1.82  1.43  1.07 15.34]\n",
      "Loss_Q: [ 2.22  2.3   2.13  1.59  1.4   0.92  0.   10.56] Loss_P: [ 3.42  2.89  2.63  2.11  1.8   1.42  1.06 15.32]\n",
      "Loss_Q: [ 2.26  2.26  2.05  1.65  1.42  0.93  0.   10.56] Loss_P: [ 3.43  2.82  2.59  2.16  1.85  1.49  1.06 15.4 ]\n",
      "Loss_Q: [ 2.2   2.21  2.11  1.61  1.43  0.87  0.   10.43] Loss_P: [ 3.43  2.82  2.5   2.16  1.86  1.47  1.05 15.29]\n",
      "Loss_Q: [ 2.23  2.22  2.16  1.61  1.42  0.91  0.   10.55] Loss_P: [ 3.38  2.9   2.52  2.26  1.88  1.45  1.05 15.44]\n",
      "Loss_Q: [ 2.23  2.21  2.12  1.63  1.36  0.91  0.   10.47] Loss_P: [ 3.36  2.86  2.52  2.18  1.85  1.41  1.08 15.25]\n",
      "Loss_Q: [ 2.22  2.22  1.94  1.66  1.32  0.87  0.   10.24] Loss_P: [ 3.41  2.84  2.55  2.02  1.85  1.4   1.07 15.13]\n",
      "Loss_Q: [ 2.18  2.2   1.91  1.64  1.36  0.91  0.   10.2 ] Loss_P: [ 3.44  2.81  2.57  2.04  1.86  1.38  1.03 15.13]\n",
      "Loss_Q: [ 2.27  2.25  1.93  1.65  1.34  0.92  0.   10.36] Loss_P: [ 3.38  2.83  2.57  1.95  1.84  1.31  1.09 14.97]\n",
      "Loss_Q: [ 2.21  2.24  1.94  1.65  1.4   0.9   0.   10.34] Loss_P: [ 3.4   2.83  2.56  1.96  1.89  1.4   1.08 15.12]\n",
      "Loss_Q: [ 2.15  2.25  1.95  1.66  1.32  0.87  0.   10.19] Loss_P: [ 3.41  2.77  2.6   1.93  1.85  1.34  1.01 14.91]\n",
      "Loss_Q: [ 2.16  2.31  1.94  1.66  1.32  0.83  0.   10.22] Loss_P: [ 3.42  2.72  2.6   1.98  1.91  1.32  0.97 14.93]\n",
      "Loss_Q: [2.03 2.23 1.85 1.68 1.35 0.8  0.   9.95] Loss_P: [ 3.47  2.66  2.57  1.93  1.9   1.4   0.95 14.87]\n",
      "Loss_Q: [ 2.1   2.24  1.81  1.72  1.39  0.84  0.   10.1 ] Loss_P: [ 3.42  2.71  2.63  1.87  2.01  1.45  0.98 15.07]\n",
      "Loss_Q: [ 2.04  2.21  1.81  1.8   1.48  0.82  0.   10.16] Loss_P: [ 3.37  2.61  2.48  1.85  2.06  1.49  0.96 14.83]\n",
      "Loss_Q: [ 1.94  2.22  1.91  1.81  1.47  0.83  0.   10.19] Loss_P: [ 3.41  2.55  2.44  1.8   2.05  1.46  0.91 14.62]\n",
      "Loss_Q: [1.87 2.15 1.89 1.81 1.41 0.76 0.   9.89] Loss_P: [ 3.46  2.53  2.5   1.86  2.07  1.43  0.9  14.74]\n",
      "Loss_Q: [1.91 2.2  1.87 1.78 1.34 0.78 0.   9.88] Loss_P: [ 3.46  2.45  2.51  1.88  2.    1.38  0.89 14.56]\n"
     ]
    },
    {
     "name": "stdout",
     "output_type": "stream",
     "text": [
      "Loss_Q: [1.98 2.21 1.9  1.72 1.34 0.76 0.   9.91] Loss_P: [ 3.46  2.5   2.58  1.92  1.96  1.39  0.9  14.71]\n",
      "Loss_Q: [1.94 2.24 1.87 1.69 1.37 0.78 0.   9.89] Loss_P: [ 3.44  2.52  2.51  1.96  1.97  1.4   0.9  14.71]\n",
      "Loss_Q: [1.98 2.23 1.87 1.74 1.36 0.73 0.   9.92] Loss_P: [ 3.43  2.54  2.46  1.87  1.94  1.38  0.85 14.47]\n",
      "Loss_Q: [1.94 2.18 1.91 1.72 1.34 0.71 0.   9.8 ] Loss_P: [ 3.42  2.58  2.5   2.01  1.94  1.38  0.85 14.68]\n",
      "Loss_Q: [1.93 2.18 1.91 1.74 1.34 0.77 0.   9.87] Loss_P: [ 3.41  2.5   2.44  2.01  1.98  1.42  0.86 14.63]\n",
      "Loss_Q: [1.92 2.19 2.01 1.75 1.34 0.75 0.   9.96] Loss_P: [ 3.4   2.49  2.45  2.05  2.02  1.36  0.84 14.62]\n",
      "Loss_Q: [1.99 2.13 1.99 1.7  1.3  0.75 0.   9.86] Loss_P: [ 3.39  2.55  2.32  2.01  1.98  1.31  0.86 14.42]\n",
      "Loss_Q: [1.91 2.08 1.92 1.72 1.31 0.77 0.   9.71] Loss_P: [ 3.4   2.54  2.37  1.98  2.    1.31  0.9  14.5 ]\n",
      "Loss_Q: [1.86 2.09 1.82 1.75 1.24 0.77 0.   9.53] Loss_P: [ 3.44  2.51  2.39  1.88  2.04  1.26  0.92 14.43]\n",
      "Loss_Q: [1.84 2.13 1.88 1.74 1.24 0.82 0.   9.64] Loss_P: [ 3.44  2.5   2.43  1.91  2.09  1.24  0.95 14.56]\n",
      "Loss_Q: [1.81 2.15 1.8  1.78 1.24 0.8  0.   9.58] Loss_P: [ 3.38  2.45  2.46  1.84  2.04  1.26  0.98 14.41]\n",
      "Loss_Q: [1.8  2.19 1.78 1.76 1.19 0.75 0.   9.48] Loss_P: [ 3.41  2.42  2.5   1.73  2.    1.18  0.91 14.14]\n",
      "Loss_Q: [1.86 2.29 1.87 1.75 1.25 0.77 0.   9.79] Loss_P: [ 3.39  2.51  2.6   2.    1.98  1.26  0.93 14.67]\n",
      "Loss_Q: [1.86 2.3  1.88 1.65 1.19 0.76 0.   9.64] Loss_P: [ 3.39  2.49  2.65  1.96  1.98  1.25  0.9  14.62]\n",
      "Loss_Q: [1.9  2.3  2.01 1.63 1.19 0.76 0.   9.8 ] Loss_P: [ 3.4   2.56  2.57  2.01  1.9   1.2   0.89 14.53]\n",
      "Loss_Q: [1.89 2.27 2.01 1.64 1.18 0.74 0.   9.73] Loss_P: [ 3.39  2.57  2.52  2.05  1.86  1.26  0.9  14.55]\n",
      "Loss_Q: [2.04 2.25 1.97 1.7  1.22 0.79 0.   9.96] Loss_P: [ 3.32  2.71  2.57  2.1   1.93  1.23  0.94 14.81]\n",
      "Loss_Q: [2.12 2.32 1.99 1.61 1.19 0.73 0.   9.96] Loss_P: [ 3.37  2.77  2.55  2.04  1.88  1.22  0.85 14.68]\n",
      "Loss_Q: [2.03 2.3  2.04 1.5  1.19 0.72 0.   9.79] Loss_P: [ 3.33  2.75  2.53  2.15  1.78  1.25  0.88 14.67]\n",
      "Loss_Q: [2.05 2.22 1.92 1.52 1.17 0.7  0.   9.58] Loss_P: [ 3.4   2.67  2.55  1.97  1.74  1.21  0.86 14.4 ]\n",
      "Loss_Q: [2.11 2.27 2.03 1.49 1.19 0.69 0.   9.77] Loss_P: [ 3.39  2.74  2.55  2.1   1.75  1.19  0.85 14.57]\n",
      "Loss_Q: [2.16 2.2  1.95 1.58 1.21 0.73 0.   9.83] Loss_P: [ 3.4   2.72  2.47  2.07  1.79  1.21  0.89 14.56]\n",
      "Loss_Q: [2.03 2.19 1.94 1.56 1.24 0.74 0.   9.7 ] Loss_P: [ 3.37  2.68  2.46  2.12  1.77  1.27  0.93 14.61]\n",
      "Loss_Q: [2.15 2.12 1.96 1.55 1.27 0.79 0.   9.83] Loss_P: [ 3.36  2.73  2.42  2.07  1.86  1.26  0.96 14.65]\n",
      "Loss_Q: [2.16 2.22 1.89 1.61 1.28 0.81 0.   9.97] Loss_P: [ 3.31  2.79  2.39  2.08  1.87  1.31  0.98 14.73]\n",
      "Loss_Q: [2.06 2.17 1.9  1.65 1.28 0.74 0.   9.8 ] Loss_P: [ 3.32  2.81  2.46  2.08  1.87  1.28  0.95 14.76]\n",
      "Loss_Q: [ 2.17  2.21  1.87  1.63  1.34  0.81  0.   10.03] Loss_P: [ 3.32  2.88  2.51  2.08  1.91  1.3   1.   15.01]\n",
      "Loss_Q: [2.15 2.27 1.9  1.62 1.27 0.77 0.   9.97] Loss_P: [ 3.34  2.9   2.49  2.02  1.9   1.31  1.   14.96]\n",
      "Loss_Q: [ 2.18  2.25  2.    1.61  1.28  0.77  0.   10.09] Loss_P: [ 3.36  2.8   2.48  2.06  1.88  1.29  0.96 14.83]\n",
      "Loss_Q: [2.11 2.16 1.89 1.57 1.3  0.75 0.   9.78] Loss_P: [ 3.36  2.78  2.36  2.    1.87  1.25  1.   14.62]\n",
      "Loss_Q: [2.17 2.11 1.84 1.58 1.29 0.8  0.   9.79] Loss_P: [ 3.34  2.77  2.35  1.93  1.82  1.22  0.99 14.41]\n",
      "Loss_Q: [2.16 2.13 1.86 1.63 1.31 0.79 0.   9.89] Loss_P: [ 3.31  2.77  2.42  1.97  1.86  1.28  1.   14.61]\n",
      "Loss_Q: [2.23 2.14 1.89 1.65 1.31 0.77 0.   9.99] Loss_P: [ 3.32  2.82  2.44  1.95  1.95  1.26  0.99 14.72]\n",
      "Loss_Q: [ 2.19  2.28  1.97  1.68  1.32  0.82  0.   10.26] Loss_P: [ 3.31  2.85  2.51  2.11  1.95  1.31  1.03 15.06]\n",
      "Loss_Q: [ 2.09  2.24  1.9   1.7   1.29  0.81  0.   10.04] Loss_P: [ 3.35  2.75  2.58  2.11  1.97  1.26  1.04 15.05]\n",
      "Loss_Q: [ 2.03  2.35  1.92  1.71  1.27  0.81  0.   10.09] Loss_P: [ 3.39  2.62  2.51  2.07  1.92  1.28  1.03 14.82]\n",
      "Loss_Q: [2.   2.21 1.94 1.66 1.3  0.8  0.   9.9 ] Loss_P: [ 3.3   2.68  2.49  1.99  1.93  1.28  1.   14.66]\n",
      "Loss_Q: [ 2.12  2.3   1.87  1.65  1.26  0.83  0.   10.02] Loss_P: [ 3.32  2.76  2.53  2.    1.92  1.29  1.06 14.89]\n",
      "Loss_Q: [2.09 2.31 1.82 1.6  1.29 0.83 0.   9.93] Loss_P: [ 3.29  2.79  2.59  1.93  1.88  1.27  1.05 14.8 ]\n",
      "Loss_Q: [2.11 2.3  1.8  1.62 1.31 0.85 0.   9.99] Loss_P: [ 3.34  2.69  2.59  1.93  1.82  1.27  1.08 14.72]\n",
      "Loss_Q: [ 2.02  2.36  1.83  1.71  1.3   0.87  0.   10.1 ] Loss_P: [ 3.26  2.67  2.6   2.05  1.99  1.28  1.06 14.92]\n",
      "Loss_Q: [ 1.95  2.41  1.81  1.73  1.32  0.78  0.   10.  ] Loss_P: [ 3.32  2.58  2.56  2.    1.99  1.29  1.01 14.75]\n",
      "Loss_Q: [1.95 2.4  1.76 1.73 1.3  0.76 0.   9.89] Loss_P: [ 3.33  2.63  2.58  1.95  1.97  1.26  0.98 14.69]\n",
      "Loss_Q: [ 1.97  2.39  1.85  1.74  1.31  0.8   0.   10.06] Loss_P: [ 3.34  2.57  2.63  1.89  1.95  1.24  0.99 14.61]\n",
      "Loss_Q: [1.99 2.39 1.68 1.74 1.31 0.79 0.   9.89] Loss_P: [ 3.33  2.58  2.59  1.81  1.96  1.29  0.99 14.54]\n",
      "Loss_Q: [ 2.04  2.41  1.8   1.66  1.32  0.77  0.   10.  ] Loss_P: [ 3.34  2.7   2.63  1.86  1.94  1.32  1.   14.78]\n",
      "Loss_Q: [ 2.09  2.48  1.72  1.74  1.36  0.75  0.   10.14] Loss_P: [ 3.33  2.71  2.76  1.92  2.03  1.27  0.98 15.  ]\n",
      "Loss_Q: [ 2.22  2.41  1.77  1.72  1.37  0.8   0.   10.28] Loss_P: [ 3.32  2.76  2.66  1.86  1.96  1.29  0.98 14.83]\n",
      "Loss_Q: [ 2.21  2.38  1.73  1.72  1.33  0.8   0.   10.16] Loss_P: [ 3.26  2.82  2.7   1.91  1.99  1.3   0.98 14.96]\n",
      "Loss_Q: [ 2.26  2.52  1.71  1.8   1.25  0.75  0.   10.31] Loss_P: [ 3.29  2.9   2.81  1.87  1.98  1.3   0.98 15.14]\n",
      "Loss_Q: [ 2.19  2.53  1.68  1.85  1.3   0.78  0.   10.33] Loss_P: [ 3.35  2.78  2.86  1.75  2.03  1.27  0.98 15.01]\n",
      "Loss_Q: [ 2.14  2.45  1.7   1.86  1.28  0.73  0.   10.15] Loss_P: [ 3.34  2.68  2.77  1.9   2.08  1.27  0.97 15.01]\n",
      "Loss_Q: [ 2.24  2.43  1.82  1.78  1.29  0.77  0.   10.32] Loss_P: [ 3.3   2.83  2.75  1.9   2.02  1.31  0.98 15.1 ]\n",
      "Loss_Q: [ 2.09  2.38  1.8   1.79  1.33  0.73  0.   10.13] Loss_P: [ 3.34  2.73  2.71  1.95  2.    1.28  0.96 14.97]\n",
      "Loss_Q: [ 2.04  2.44  1.91  1.8   1.34  0.78  0.   10.3 ] Loss_P: [ 3.37  2.65  2.68  2.07  2.04  1.33  0.98 15.13]\n",
      "Loss_Q: [ 2.04  2.46  1.94  1.88  1.34  0.75  0.   10.4 ] Loss_P: [ 3.41  2.69  2.69  2.07  2.13  1.3   0.96 15.24]\n",
      "Loss_Q: [ 2.14  2.52  1.94  1.84  1.34  0.75  0.   10.53] Loss_P: [ 3.38  2.76  2.71  2.05  2.08  1.29  0.95 15.22]\n",
      "Loss_Q: [ 2.14  2.55  2.07  1.86  1.33  0.75  0.   10.7 ] Loss_P: [ 3.32  2.74  2.79  2.19  2.14  1.31  0.99 15.48]\n",
      "Loss_Q: [ 2.1   2.46  2.03  1.84  1.33  0.75  0.   10.51] Loss_P: [ 3.31  2.7   2.71  2.21  2.12  1.32  1.02 15.4 ]\n",
      "Loss_Q: [ 2.1   2.49  1.98  1.91  1.35  0.75  0.   10.59] Loss_P: [ 3.35  2.65  2.76  2.12  2.13  1.28  0.96 15.27]\n",
      "Loss_Q: [ 2.    2.53  1.95  1.84  1.31  0.75  0.   10.38] Loss_P: [ 3.36  2.67  2.75  2.14  2.12  1.3   0.93 15.28]\n",
      "Loss_Q: [ 2.01  2.43  2.01  1.75  1.33  0.75  0.   10.29] Loss_P: [ 3.38  2.56  2.69  2.13  2.06  1.28  0.93 15.03]\n",
      "Loss_Q: [ 2.02  2.49  2.03  1.8   1.26  0.68  0.   10.28] Loss_P: [ 3.4   2.58  2.73  2.17  2.06  1.24  0.91 15.09]\n",
      "Loss_Q: [ 1.99  2.53  2.02  1.78  1.19  0.67  0.   10.18] Loss_P: [ 3.38  2.58  2.71  2.17  1.96  1.19  0.92 14.92]\n",
      "Loss_Q: [ 2.02  2.5   2.11  1.7   1.24  0.68  0.   10.25] Loss_P: [ 3.37  2.64  2.73  2.21  2.    1.15  0.88 14.97]\n",
      "Loss_Q: [ 2.04  2.48  2.08  1.71  1.18  0.68  0.   10.18] Loss_P: [ 3.36  2.68  2.73  2.29  1.95  1.19  0.89 15.09]\n",
      "Loss_Q: [ 2.09  2.36  2.05  1.72  1.14  0.67  0.   10.03] Loss_P: [ 3.35  2.78  2.66  2.28  1.86  1.15  0.87 14.95]\n",
      "Loss_Q: [ 2.17  2.46  2.05  1.74  1.18  0.67  0.   10.27] Loss_P: [ 3.33  2.78  2.68  2.21  1.88  1.13  0.86 14.87]\n",
      "Loss_Q: [ 2.09  2.4   2.1   1.64  1.15  0.67  0.   10.05] Loss_P: [ 3.33  2.74  2.65  2.22  1.84  1.17  0.85 14.79]\n",
      "Loss_Q: [ 2.13  2.49  2.09  1.62  1.16  0.68  0.   10.17] Loss_P: [ 3.29  2.81  2.68  2.27  1.82  1.17  0.87 14.92]\n",
      "Loss_Q: [ 2.19  2.48  2.06  1.71  1.15  0.64  0.   10.23] Loss_P: [ 3.38  2.72  2.75  2.21  1.92  1.17  0.85 14.99]\n",
      "Loss_Q: [ 2.13  2.6   2.02  1.68  1.13  0.66  0.   10.21] Loss_P: [ 3.38  2.73  2.76  2.21  1.9   1.14  0.84 14.96]\n",
      "Loss_Q: [ 2.18  2.54  2.04  1.63  1.12  0.63  0.   10.13] Loss_P: [ 3.38  2.72  2.77  2.18  1.78  1.18  0.86 14.88]\n",
      "Loss_Q: [ 2.22  2.51  2.    1.67  1.16  0.67  0.   10.22] Loss_P: [ 3.35  2.76  2.79  2.2   1.86  1.16  0.87 14.99]\n"
     ]
    },
    {
     "name": "stdout",
     "output_type": "stream",
     "text": [
      "Loss_Q: [2.08 2.52 1.92 1.65 1.12 0.68 0.   9.96] Loss_P: [ 3.33  2.64  2.72  2.14  1.81  1.12  0.89 14.65]\n",
      "Loss_Q: [1.99 2.47 2.01 1.62 1.16 0.68 0.   9.94] Loss_P: [ 3.36  2.66  2.69  2.17  1.76  1.15  0.9  14.69]\n",
      "Loss_Q: [2.01 2.44 2.03 1.63 1.14 0.68 0.   9.93] Loss_P: [ 3.35  2.64  2.66  2.19  1.83  1.14  0.9  14.7 ]\n",
      "Loss_Q: [1.97 2.41 1.99 1.57 1.12 0.65 0.   9.7 ] Loss_P: [ 3.38  2.59  2.68  2.18  1.78  1.09  0.86 14.56]\n",
      "Loss_Q: [2.01 2.56 1.99 1.61 1.06 0.66 0.   9.89] Loss_P: [ 3.35  2.69  2.73  2.19  1.76  1.08  0.8  14.59]\n",
      "Loss_Q: [2.   2.53 1.96 1.6  1.09 0.64 0.   9.81] Loss_P: [ 3.36  2.65  2.69  2.16  1.77  1.08  0.83 14.53]\n",
      "Loss_Q: [2.02 2.49 1.97 1.62 1.14 0.66 0.   9.9 ] Loss_P: [ 3.34  2.64  2.66  2.24  1.8   1.14  0.89 14.71]\n",
      "Loss_Q: [2.03 2.43 2.03 1.63 1.14 0.64 0.   9.9 ] Loss_P: [ 3.34  2.69  2.67  2.17  1.82  1.13  0.88 14.71]\n",
      "Loss_Q: [ 2.07  2.53  2.03  1.71  1.15  0.69  0.   10.17] Loss_P: [ 3.35  2.69  2.72  2.23  1.84  1.14  0.89 14.87]\n",
      "Loss_Q: [ 1.94  2.47  2.06  1.7   1.17  0.71  0.   10.06] Loss_P: [ 3.33  2.61  2.74  2.29  1.89  1.15  0.95 14.96]\n",
      "Loss_Q: [ 1.96  2.52  2.14  1.68  1.22  0.71  0.   10.23] Loss_P: [ 3.36  2.65  2.71  2.3   1.88  1.2   0.94 15.04]\n",
      "Loss_Q: [ 1.97  2.48  2.04  1.64  1.23  0.72  0.   10.09] Loss_P: [ 3.35  2.59  2.69  2.28  1.83  1.22  0.95 14.91]\n",
      "Loss_Q: [1.91 2.51 1.97 1.61 1.24 0.72 0.   9.96] Loss_P: [ 3.37  2.59  2.66  2.23  1.78  1.2   0.96 14.79]\n",
      "Loss_Q: [ 2.01  2.48  2.04  1.68  1.25  0.73  0.   10.19] Loss_P: [ 3.31  2.63  2.71  2.25  1.82  1.28  0.96 14.96]\n",
      "Loss_Q: [ 2.04  2.53  1.98  1.63  1.29  0.71  0.   10.18] Loss_P: [ 3.35  2.65  2.73  2.24  1.83  1.25  0.97 15.02]\n",
      "Loss_Q: [ 2.04  2.47  2.04  1.67  1.26  0.72  0.   10.2 ] Loss_P: [ 3.3   2.7   2.63  2.27  1.82  1.3   0.97 14.99]\n",
      "Loss_Q: [ 2.02  2.41  1.98  1.67  1.29  0.72  0.   10.1 ] Loss_P: [ 3.35  2.61  2.57  2.17  1.83  1.29  0.96 14.78]\n",
      "Loss_Q: [ 2.02  2.43  2.03  1.73  1.32  0.76  0.   10.3 ] Loss_P: [ 3.36  2.59  2.68  2.26  1.9   1.33  1.01 15.14]\n",
      "Loss_Q: [ 2.02  2.39  2.06  1.74  1.33  0.79  0.   10.32] Loss_P: [ 3.34  2.62  2.65  2.25  1.9   1.29  1.02 15.07]\n",
      "Loss_Q: [ 2.09  2.45  2.08  1.68  1.33  0.78  0.   10.4 ] Loss_P: [ 3.31  2.66  2.63  2.25  1.89  1.27  1.03 15.06]\n",
      "Loss_Q: [ 2.07  2.5   2.04  1.68  1.34  0.79  0.   10.42] Loss_P: [ 3.36  2.68  2.72  2.23  1.88  1.31  1.05 15.23]\n",
      "Loss_Q: [ 2.16  2.46  2.02  1.7   1.35  0.8   0.   10.49] Loss_P: [ 3.36  2.68  2.71  2.21  1.87  1.35  1.06 15.25]\n",
      "Loss_Q: [ 2.11  2.43  2.04  1.73  1.34  0.81  0.   10.47] Loss_P: [ 3.32  2.73  2.65  2.19  1.9   1.34  1.06 15.19]\n",
      "Loss_Q: [ 2.13  2.35  2.02  1.69  1.31  0.78  0.   10.28] Loss_P: [ 3.37  2.75  2.61  2.15  1.89  1.32  1.02 15.13]\n",
      "Loss_Q: [ 2.17  2.4   2.04  1.75  1.3   0.78  0.   10.43] Loss_P: [ 3.35  2.76  2.57  2.16  1.88  1.34  1.   15.06]\n",
      "Loss_Q: [ 2.14  2.35  1.98  1.7   1.29  0.73  0.   10.19] Loss_P: [ 3.32  2.74  2.54  2.14  1.9   1.29  1.   14.93]\n",
      "Loss_Q: [ 2.16  2.41  1.96  1.7   1.26  0.75  0.   10.24] Loss_P: [ 3.29  2.8   2.65  2.14  1.88  1.28  1.01 15.04]\n",
      "Loss_Q: [ 2.14  2.37  2.06  1.7   1.22  0.75  0.   10.25] Loss_P: [ 3.24  2.7   2.57  2.18  1.84  1.22  0.99 14.75]\n",
      "Loss_Q: [ 2.06  2.35  2.09  1.73  1.2   0.71  0.   10.14] Loss_P: [ 3.34  2.71  2.65  2.22  1.88  1.2   0.96 14.95]\n",
      "Loss_Q: [ 2.1   2.41  2.02  1.65  1.23  0.75  0.   10.16] Loss_P: [ 3.35  2.67  2.5   2.2   1.87  1.23  1.   14.81]\n",
      "Loss_Q: [1.99 2.31 1.99 1.68 1.26 0.73 0.   9.97] Loss_P: [ 3.29  2.7   2.53  2.21  1.84  1.26  0.98 14.81]\n",
      "Loss_Q: [ 2.07  2.19  2.02  1.65  1.32  0.79  0.   10.03] Loss_P: [ 3.25  2.71  2.42  2.24  1.81  1.31  0.99 14.73]\n",
      "Loss_Q: [2.04 2.12 1.97 1.63 1.31 0.77 0.   9.84] Loss_P: [ 3.32  2.65  2.38  2.16  1.82  1.28  1.04 14.65]\n",
      "Loss_Q: [2.04 2.21 2.03 1.63 1.25 0.8  0.   9.97] Loss_P: [ 3.36  2.59  2.42  2.18  1.86  1.25  1.03 14.68]\n",
      "Loss_Q: [ 2.06  2.28  2.12  1.68  1.29  0.75  0.   10.19] Loss_P: [ 3.35  2.66  2.52  2.28  1.86  1.29  0.99 14.94]\n",
      "Loss_Q: [ 2.1   2.2   2.15  1.69  1.28  0.75  0.   10.17] Loss_P: [ 3.32  2.73  2.43  2.26  1.89  1.29  1.02 14.94]\n",
      "Loss_Q: [ 2.1   2.19  2.1   1.74  1.27  0.75  0.   10.15] Loss_P: [ 3.28  2.7   2.45  2.24  1.89  1.21  1.01 14.78]\n",
      "Loss_Q: [ 2.03  2.26  2.07  1.71  1.27  0.78  0.   10.12] Loss_P: [ 3.33  2.67  2.54  2.27  1.92  1.23  1.05 15.01]\n",
      "Loss_Q: [ 2.06  2.39  2.15  1.76  1.22  0.8   0.   10.39] Loss_P: [ 3.28  2.68  2.52  2.34  1.92  1.24  1.08 15.05]\n",
      "Loss_Q: [ 2.01  2.4   2.17  1.76  1.28  0.82  0.   10.45] Loss_P: [ 3.29  2.62  2.6   2.38  2.01  1.25  1.1  15.25]\n",
      "Loss_Q: [ 1.92  2.37  2.18  1.75  1.3   0.83  0.   10.35] Loss_P: [ 3.35  2.6   2.65  2.38  1.99  1.27  1.09 15.34]\n",
      "Loss_Q: [ 1.96  2.46  2.15  1.78  1.33  0.85  0.   10.52] Loss_P: [ 3.32  2.54  2.64  2.31  1.96  1.32  1.12 15.21]\n",
      "Loss_Q: [ 2.09  2.44  2.24  1.8   1.34  0.87  0.   10.79] Loss_P: [ 3.27  2.73  2.7   2.4   2.02  1.34  1.14 15.6 ]\n",
      "Loss_Q: [ 2.03  2.41  2.24  1.8   1.29  0.83  0.   10.6 ] Loss_P: [ 3.3   2.73  2.71  2.37  2.11  1.31  1.14 15.66]\n",
      "Loss_Q: [ 2.02  2.44  2.19  1.81  1.3   0.84  0.   10.6 ] Loss_P: [ 3.29  2.72  2.7   2.33  2.11  1.29  1.13 15.56]\n",
      "Loss_Q: [ 2.06  2.45  2.28  1.86  1.29  0.82  0.   10.76] Loss_P: [ 3.25  2.73  2.72  2.39  2.14  1.28  1.11 15.62]\n",
      "Loss_Q: [ 2.11  2.4   2.28  1.82  1.3   0.83  0.   10.73] Loss_P: [ 3.27  2.77  2.71  2.43  2.09  1.28  1.11 15.67]\n",
      "Loss_Q: [ 2.09  2.42  2.26  1.82  1.31  0.83  0.   10.73] Loss_P: [ 3.26  2.82  2.66  2.43  2.12  1.25  1.12 15.66]\n",
      "Loss_Q: [ 2.08  2.34  2.27  1.83  1.33  0.85  0.   10.69] Loss_P: [ 3.31  2.75  2.56  2.43  2.06  1.27  1.11 15.5 ]\n",
      "Loss_Q: [ 2.13  2.39  2.29  1.81  1.36  0.88  0.   10.85] Loss_P: [ 3.29  2.8   2.66  2.38  2.08  1.34  1.15 15.71]\n",
      "Loss_Q: [ 2.09  2.54  2.34  1.82  1.39  0.87  0.   11.04] Loss_P: [ 3.22  2.82  2.77  2.44  2.06  1.37  1.15 15.84]\n",
      "Loss_Q: [ 2.08  2.53  2.36  1.84  1.38  0.87  0.   11.06] Loss_P: [ 3.28  2.75  2.7   2.48  2.04  1.36  1.12 15.73]\n",
      "Loss_Q: [ 2.14  2.46  2.38  1.82  1.41  0.86  0.   11.07] Loss_P: [ 3.3   2.82  2.69  2.48  2.08  1.35  1.16 15.88]\n",
      "Loss_Q: [ 2.07  2.52  2.35  1.84  1.36  0.86  0.   10.99] Loss_P: [ 3.3   2.77  2.72  2.5   2.03  1.36  1.13 15.81]\n",
      "Loss_Q: [ 2.14  2.46  2.37  1.88  1.33  0.89  0.   11.07] Loss_P: [ 3.27  2.8   2.76  2.51  1.99  1.31  1.14 15.78]\n",
      "Loss_Q: [ 2.13  2.47  2.4   1.75  1.32  0.87  0.   10.95] Loss_P: [ 3.32  2.76  2.7   2.5   1.94  1.27  1.15 15.65]\n",
      "Loss_Q: [ 2.13  2.38  2.38  1.75  1.24  0.87  0.   10.74] Loss_P: [ 3.32  2.79  2.68  2.49  1.92  1.25  1.1  15.54]\n",
      "Loss_Q: [ 2.17  2.29  2.4   1.71  1.26  0.83  0.   10.66] Loss_P: [ 3.27  2.87  2.61  2.46  1.88  1.25  1.05 15.39]\n",
      "Loss_Q: [ 2.13  2.26  2.36  1.71  1.28  0.81  0.   10.55] Loss_P: [ 3.31  2.79  2.53  2.54  1.9   1.31  1.04 15.44]\n",
      "Loss_Q: [ 2.13  2.19  2.36  1.74  1.25  0.82  0.   10.49] Loss_P: [ 3.26  2.88  2.48  2.46  1.9   1.28  1.08 15.34]\n",
      "Loss_Q: [ 2.2   2.23  2.27  1.72  1.23  0.82  0.   10.47] Loss_P: [ 3.28  2.83  2.51  2.4   1.87  1.23  1.08 15.2 ]\n",
      "Loss_Q: [ 2.15  2.22  2.3   1.76  1.21  0.81  0.   10.45] Loss_P: [ 3.31  2.76  2.56  2.44  1.9   1.2   0.99 15.16]\n",
      "Loss_Q: [ 2.14  2.32  2.32  1.79  1.26  0.84  0.   10.67] Loss_P: [ 3.25  2.84  2.58  2.46  1.97  1.23  1.04 15.37]\n",
      "Loss_Q: [ 2.12  2.28  2.31  1.78  1.25  0.81  0.   10.55] Loss_P: [ 3.25  2.77  2.6   2.47  1.99  1.23  1.03 15.35]\n",
      "Loss_Q: [ 2.2   2.29  2.22  1.76  1.29  0.79  0.   10.55] Loss_P: [ 3.25  2.84  2.58  2.34  1.93  1.26  1.02 15.21]\n",
      "Loss_Q: [ 2.12  2.28  2.24  1.8   1.23  0.77  0.   10.44] Loss_P: [ 3.3   2.8   2.51  2.37  1.94  1.25  1.   15.18]\n",
      "Loss_Q: [ 2.11  2.28  2.28  1.84  1.2   0.74  0.   10.45] Loss_P: [ 3.31  2.74  2.5   2.33  2.02  1.22  1.   15.12]\n",
      "Loss_Q: [ 2.16  2.24  2.23  1.79  1.2   0.76  0.   10.38] Loss_P: [ 3.29  2.8   2.59  2.32  1.99  1.19  1.02 15.2 ]\n",
      "Loss_Q: [ 2.07  2.33  2.17  1.8   1.11  0.73  0.   10.21] Loss_P: [ 3.25  2.78  2.67  2.34  2.01  1.13  0.98 15.15]\n",
      "Loss_Q: [ 2.21  2.35  2.22  1.78  1.16  0.73  0.   10.45] Loss_P: [ 3.22  2.9   2.69  2.3   1.93  1.09  0.93 15.06]\n",
      "Loss_Q: [ 2.18  2.31  2.25  1.74  1.12  0.69  0.   10.28] Loss_P: [ 3.22  2.92  2.68  2.35  1.91  1.08  0.92 15.09]\n",
      "Loss_Q: [ 2.14  2.29  2.23  1.73  1.1   0.71  0.   10.2 ] Loss_P: [ 3.25  2.84  2.58  2.4   1.89  1.1   0.91 14.97]\n"
     ]
    },
    {
     "name": "stdout",
     "output_type": "stream",
     "text": [
      "Loss_Q: [ 2.1   2.17  2.33  1.75  1.06  0.7   0.   10.12] Loss_P: [ 3.24  2.86  2.52  2.48  1.93  1.09  0.91 15.03]\n",
      "Loss_Q: [ 2.1   2.25  2.26  1.73  1.15  0.73  0.   10.21] Loss_P: [ 3.24  2.85  2.55  2.36  1.95  1.08  0.94 14.97]\n",
      "Loss_Q: [2.07 2.19 2.19 1.79 1.08 0.64 0.   9.96] Loss_P: [ 3.21  2.72  2.48  2.3   1.93  1.07  0.88 14.58]\n",
      "Loss_Q: [2.07 2.18 2.24 1.78 1.06 0.64 0.   9.97] Loss_P: [ 3.23  2.77  2.53  2.37  1.97  1.04  0.87 14.77]\n",
      "Loss_Q: [ 2.14  2.25  2.22  1.83  1.03  0.68  0.   10.16] Loss_P: [ 3.25  2.81  2.62  2.39  2.    1.07  0.9  15.05]\n",
      "Loss_Q: [ 2.19  2.33  2.21  1.84  1.09  0.71  0.   10.37] Loss_P: [ 3.23  2.87  2.65  2.28  1.95  1.05  0.89 14.92]\n",
      "Loss_Q: [ 2.21  2.31  2.14  1.85  1.05  0.68  0.   10.22] Loss_P: [ 3.23  2.91  2.62  2.26  2.05  0.99  0.87 14.92]\n",
      "Loss_Q: [ 2.16  2.31  2.11  1.84  1.07  0.7   0.   10.19] Loss_P: [ 3.23  2.89  2.62  2.24  2.05  1.05  0.91 15.  ]\n",
      "Loss_Q: [ 2.19  2.26  2.13  1.82  1.05  0.65  0.   10.09] Loss_P: [ 3.22  2.85  2.61  2.22  1.94  1.05  0.91 14.8 ]\n",
      "Loss_Q: [ 2.09  2.24  2.16  1.77  1.06  0.68  0.   10.01] Loss_P: [ 3.21  2.77  2.53  2.25  1.9   1.02  0.89 14.57]\n",
      "Loss_Q: [1.96 2.15 2.13 1.77 1.08 0.67 0.   9.76] Loss_P: [ 3.25  2.75  2.52  2.27  1.9   1.03  0.91 14.63]\n",
      "Loss_Q: [1.98 2.27 2.08 1.77 1.05 0.67 0.   9.81] Loss_P: [ 3.25  2.67  2.6   2.13  1.89  1.01  0.86 14.41]\n",
      "Loss_Q: [2.04 2.34 2.09 1.78 1.02 0.65 0.   9.92] Loss_P: [ 3.26  2.78  2.66  2.15  1.9   0.99  0.82 14.57]\n",
      "Loss_Q: [2.   2.33 2.1  1.83 1.01 0.64 0.   9.91] Loss_P: [ 3.19  2.82  2.61  2.21  1.91  1.03  0.85 14.63]\n",
      "Loss_Q: [1.97 2.26 2.06 1.74 0.98 0.64 0.   9.65] Loss_P: [ 3.21  2.69  2.57  2.18  1.95  1.    0.83 14.44]\n",
      "Loss_Q: [2.07 2.24 2.15 1.76 1.06 0.64 0.   9.93] Loss_P: [ 3.2   2.81  2.53  2.24  1.93  1.06  0.85 14.62]\n",
      "Loss_Q: [2.07 2.27 2.15 1.78 1.08 0.64 0.   9.99] Loss_P: [ 3.25  2.8   2.58  2.28  1.95  1.03  0.84 14.73]\n",
      "Loss_Q: [2.04 2.32 2.13 1.75 1.06 0.61 0.   9.91] Loss_P: [ 3.24  2.74  2.59  2.21  1.9   0.98  0.83 14.5 ]\n",
      "Loss_Q: [2.1  2.31 2.14 1.71 0.98 0.61 0.   9.86] Loss_P: [ 3.24  2.77  2.66  2.22  1.86  0.98  0.82 14.56]\n",
      "Loss_Q: [2.14 2.25 2.21 1.72 1.01 0.59 0.   9.92] Loss_P: [ 3.21  2.82  2.63  2.3   1.89  0.97  0.73 14.55]\n",
      "Loss_Q: [2.19 2.31 2.2  1.76 0.93 0.59 0.   9.99] Loss_P: [ 3.22  2.82  2.61  2.37  1.92  0.96  0.77 14.67]\n",
      "Loss_Q: [ 2.15  2.34  2.19  1.78  0.97  0.63  0.   10.07] Loss_P: [ 3.22  2.82  2.6   2.29  1.94  0.93  0.79 14.6 ]\n",
      "Loss_Q: [ 2.17  2.24  2.2   1.8   0.99  0.65  0.   10.06] Loss_P: [ 3.23  2.88  2.51  2.28  1.94  0.97  0.8  14.62]\n",
      "Loss_Q: [ 2.13  2.27  2.24  1.82  0.95  0.63  0.   10.03] Loss_P: [ 3.25  2.92  2.55  2.32  1.93  0.97  0.83 14.77]\n",
      "Loss_Q: [2.09 2.13 2.16 1.78 0.94 0.56 0.   9.66] Loss_P: [ 3.26  2.84  2.52  2.24  1.89  0.98  0.78 14.5 ]\n",
      "Loss_Q: [2.06 2.15 2.   1.72 0.92 0.55 0.   9.41] Loss_P: [ 3.29  2.81  2.42  2.08  1.85  0.95  0.72 14.11]\n",
      "Loss_Q: [2.03 2.18 1.93 1.71 0.87 0.56 0.   9.28] Loss_P: [ 3.28  2.79  2.48  2.07  1.8   0.89  0.67 13.98]\n",
      "Loss_Q: [2.08 2.11 2.02 1.71 0.84 0.55 0.   9.3 ] Loss_P: [ 3.2   2.84  2.51  2.06  1.82  0.86  0.65 13.96]\n",
      "Loss_Q: [2.05 1.99 1.99 1.75 0.89 0.57 0.   9.23] Loss_P: [ 3.26  2.88  2.33  2.05  1.85  0.9   0.66 13.93]\n",
      "Loss_Q: [2.09 2.04 1.94 1.6  0.88 0.53 0.   9.08] Loss_P: [ 3.23  2.87  2.35  2.13  1.73  0.9   0.63 13.83]\n",
      "Loss_Q: [2.07 2.01 2.06 1.58 0.84 0.49 0.   9.05] Loss_P: [ 3.2   2.85  2.34  2.22  1.73  0.9   0.66 13.9 ]\n",
      "Loss_Q: [2.08 1.98 2.08 1.63 0.86 0.49 0.   9.13] Loss_P: [ 3.25  2.81  2.31  2.2   1.7   0.86  0.6  13.74]\n",
      "Loss_Q: [2.15 1.9  2.14 1.65 0.85 0.48 0.   9.17] Loss_P: [ 3.24  2.87  2.16  2.25  1.78  0.89  0.62 13.8 ]\n",
      "Loss_Q: [2.14 1.96 2.12 1.7  0.89 0.53 0.   9.35] Loss_P: [ 3.22  2.88  2.24  2.23  1.9   0.94  0.65 14.06]\n",
      "Loss_Q: [2.07 1.94 2.11 1.68 0.87 0.5  0.   9.17] Loss_P: [ 3.3   2.81  2.2   2.23  1.85  0.92  0.64 13.94]\n",
      "Loss_Q: [2.07 1.93 2.12 1.75 0.9  0.53 0.   9.3 ] Loss_P: [ 3.26  2.83  2.21  2.23  1.91  0.91  0.71 14.06]\n",
      "Loss_Q: [2.03 2.   2.12 1.66 0.92 0.54 0.   9.27] Loss_P: [ 3.25  2.75  2.28  2.26  1.86  0.94  0.71 14.05]\n",
      "Loss_Q: [1.99 2.06 2.2  1.74 0.91 0.56 0.   9.47] Loss_P: [ 3.27  2.72  2.24  2.27  1.9   0.92  0.7  14.03]\n",
      "Loss_Q: [2.04 1.99 2.22 1.74 0.92 0.59 0.   9.5 ] Loss_P: [ 3.29  2.72  2.25  2.25  1.89  0.94  0.72 14.06]\n",
      "Loss_Q: [2.01 1.96 2.01 1.66 0.91 0.61 0.   9.16] Loss_P: [ 3.24  2.79  2.3   2.16  1.87  0.97  0.7  14.03]\n",
      "Loss_Q: [2.05 1.87 2.02 1.68 0.96 0.61 0.   9.19] Loss_P: [ 3.28  2.7   2.14  2.13  1.86  0.98  0.79 13.89]\n",
      "Loss_Q: [1.94 1.93 2.09 1.67 0.97 0.62 0.   9.23] Loss_P: [ 3.27  2.72  2.15  2.24  1.84  0.99  0.83 14.05]\n",
      "Loss_Q: [2.05 1.96 2.03 1.6  0.95 0.63 0.   9.22] Loss_P: [ 3.31  2.69  2.18  2.17  1.75  0.95  0.84 13.89]\n",
      "Loss_Q: [2.17 2.01 2.03 1.66 0.97 0.64 0.   9.48] Loss_P: [ 3.29  2.84  2.23  2.11  1.75  1.    0.84 14.06]\n",
      "Loss_Q: [2.16 1.94 1.94 1.61 0.93 0.66 0.   9.25] Loss_P: [ 3.31  2.79  2.19  2.07  1.73  0.97  0.86 13.93]\n",
      "Loss_Q: [2.08 1.97 1.92 1.61 1.02 0.64 0.   9.24] Loss_P: [ 3.31  2.77  2.25  2.02  1.74  0.93  0.81 13.83]\n",
      "Loss_Q: [2.06 2.03 1.93 1.69 1.01 0.64 0.   9.36] Loss_P: [ 3.32  2.68  2.39  2.04  1.79  0.99  0.8  14.02]\n",
      "Loss_Q: [1.97 2.06 1.95 1.73 1.   0.6  0.   9.31] Loss_P: [ 3.29  2.69  2.4   2.04  1.87  1.02  0.79 14.1 ]\n",
      "Loss_Q: [2.06 2.06 1.96 1.62 0.97 0.6  0.   9.27] Loss_P: [ 3.28  2.68  2.42  2.07  1.82  0.99  0.74 13.99]\n",
      "Loss_Q: [2.03 2.01 1.97 1.64 1.01 0.58 0.   9.24] Loss_P: [ 3.27  2.71  2.38  2.08  1.82  1.03  0.72 14.01]\n",
      "Loss_Q: [2.06 2.17 1.96 1.74 1.07 0.63 0.   9.63] Loss_P: [ 3.29  2.75  2.42  2.09  1.89  1.07  0.8  14.31]\n",
      "Loss_Q: [2.09 2.17 2.02 1.73 1.08 0.61 0.   9.7 ] Loss_P: [ 3.31  2.73  2.51  2.18  1.93  1.1   0.78 14.52]\n",
      "Loss_Q: [2.09 2.17 2.05 1.73 1.09 0.65 0.   9.79] Loss_P: [ 3.28  2.76  2.45  2.18  1.96  1.08  0.8  14.51]\n",
      "Loss_Q: [2.14 2.19 2.08 1.75 1.11 0.7  0.   9.97] Loss_P: [ 3.31  2.8   2.52  2.17  1.96  1.11  0.89 14.77]\n",
      "Loss_Q: [ 2.25  2.32  2.07  1.78  1.09  0.68  0.   10.19] Loss_P: [ 3.3   2.82  2.62  2.24  1.97  1.15  0.86 14.96]\n",
      "Loss_Q: [ 2.16  2.27  2.16  1.83  1.14  0.71  0.   10.26] Loss_P: [ 3.32  2.83  2.61  2.28  2.03  1.08  0.87 15.01]\n",
      "Loss_Q: [ 2.19  2.32  2.18  1.81  1.15  0.67  0.   10.32] Loss_P: [ 3.27  2.91  2.63  2.26  2.05  1.13  0.9  15.13]\n",
      "Loss_Q: [ 2.13  2.35  2.1   1.76  1.05  0.68  0.   10.08] Loss_P: [ 3.26  2.85  2.62  2.25  1.94  1.1   0.86 14.86]\n",
      "Loss_Q: [2.09 2.3  1.99 1.67 1.1  0.71 0.   9.86] Loss_P: [ 3.27  2.77  2.58  2.18  1.8   1.08  0.88 14.55]\n",
      "Loss_Q: [2.08 2.33 1.93 1.66 1.12 0.68 0.   9.8 ] Loss_P: [ 3.34  2.8   2.62  2.06  1.84  1.11  0.89 14.66]\n",
      "Loss_Q: [2.14 2.27 1.88 1.71 1.1  0.63 0.   9.73] Loss_P: [ 3.29  2.83  2.56  1.99  1.89  1.12  0.84 14.51]\n",
      "Loss_Q: [2.07 2.29 1.91 1.68 1.08 0.66 0.   9.69] Loss_P: [ 3.29  2.71  2.6   2.    1.82  1.11  0.88 14.41]\n",
      "Loss_Q: [ 2.02  2.36  2.03  1.84  1.2   0.74  0.   10.17] Loss_P: [ 3.26  2.71  2.62  2.08  1.95  1.14  0.9  14.66]\n",
      "Loss_Q: [1.94 2.3  1.9  1.81 1.1  0.66 0.   9.71] Loss_P: [ 3.32  2.62  2.49  2.03  1.95  1.12  0.85 14.39]\n",
      "Loss_Q: [2.05 2.27 1.98 1.74 1.18 0.67 0.   9.89] Loss_P: [ 3.33  2.64  2.55  2.05  1.93  1.13  0.87 14.51]\n",
      "Loss_Q: [ 2.09  2.32  1.98  1.77  1.2   0.66  0.   10.02] Loss_P: [ 3.26  2.82  2.63  2.09  1.96  1.16  0.9  14.83]\n",
      "Loss_Q: [2.03 2.32 1.92 1.68 1.21 0.71 0.   9.88] Loss_P: [ 3.33  2.77  2.59  2.08  1.86  1.19  0.95 14.77]\n",
      "Loss_Q: [ 2.09  2.25  1.99  1.76  1.27  0.72  0.   10.08] Loss_P: [ 3.32  2.77  2.52  2.07  1.92  1.2   0.94 14.74]\n",
      "Loss_Q: [ 2.14  2.2   2.03  1.75  1.26  0.76  0.   10.14] Loss_P: [ 3.32  2.79  2.51  2.06  1.95  1.18  0.99 14.79]\n",
      "Loss_Q: [ 2.19  2.2   2.19  1.79  1.27  0.73  0.   10.36] Loss_P: [ 3.29  2.83  2.49  2.25  2.02  1.2   0.97 15.05]\n",
      "Loss_Q: [ 2.2   2.24  2.14  1.81  1.21  0.73  0.   10.32] Loss_P: [ 3.25  2.86  2.56  2.26  2.03  1.2   0.95 15.11]\n",
      "Loss_Q: [ 2.18  2.36  2.22  1.8   1.23  0.71  0.   10.5 ] Loss_P: [ 3.3   2.83  2.61  2.37  2.01  1.13  0.96 15.22]\n",
      "Loss_Q: [ 2.19  2.37  2.21  1.79  1.18  0.71  0.   10.44] Loss_P: [ 3.3   2.89  2.62  2.35  2.02  1.2   0.98 15.36]\n",
      "Loss_Q: [ 2.16  2.42  2.22  1.8   1.19  0.74  0.   10.53] Loss_P: [ 3.32  2.83  2.68  2.42  1.96  1.17  1.   15.38]\n",
      "Loss_Q: [ 2.11  2.47  2.26  1.79  1.23  0.76  0.   10.62] Loss_P: [ 3.24  2.8   2.73  2.44  1.97  1.18  1.01 15.36]\n"
     ]
    },
    {
     "name": "stdout",
     "output_type": "stream",
     "text": [
      "Loss_Q: [ 2.13  2.47  2.24  1.73  1.17  0.73  0.   10.48] Loss_P: [ 3.33  2.81  2.73  2.42  1.94  1.13  0.97 15.33]\n",
      "Loss_Q: [ 2.11  2.57  2.26  1.82  1.19  0.71  0.   10.65] Loss_P: [ 3.28  2.71  2.82  2.46  1.95  1.17  0.98 15.37]\n",
      "Loss_Q: [ 1.9   2.6   2.26  1.76  1.16  0.79  0.   10.47] Loss_P: [ 3.29  2.63  2.88  2.43  1.92  1.16  1.   15.31]\n",
      "Loss_Q: [ 2.09  2.47  2.25  1.77  1.18  0.76  0.   10.52] Loss_P: [ 3.31  2.69  2.81  2.45  1.91  1.15  1.01 15.33]\n",
      "Loss_Q: [ 2.08  2.52  2.34  1.84  1.25  0.74  0.   10.76] Loss_P: [ 3.29  2.81  2.81  2.46  2.02  1.2   0.99 15.57]\n",
      "Loss_Q: [ 2.18  2.5   2.29  1.85  1.26  0.75  0.   10.82] Loss_P: [ 3.23  2.89  2.74  2.49  1.99  1.26  0.96 15.56]\n",
      "Loss_Q: [ 2.11  2.38  2.26  1.75  1.28  0.71  0.   10.49] Loss_P: [ 3.26  2.86  2.65  2.44  1.89  1.26  0.96 15.31]\n",
      "Loss_Q: [ 2.12  2.35  2.32  1.78  1.28  0.75  0.   10.61] Loss_P: [ 3.27  2.75  2.69  2.52  1.9   1.18  0.98 15.28]\n",
      "Loss_Q: [ 2.09  2.39  2.26  1.72  1.26  0.82  0.   10.54] Loss_P: [ 3.28  2.76  2.64  2.46  1.89  1.19  1.02 15.25]\n",
      "Loss_Q: [ 2.08  2.39  2.28  1.82  1.3   0.79  0.   10.66] Loss_P: [ 3.3   2.69  2.68  2.47  2.    1.24  1.05 15.43]\n",
      "Loss_Q: [ 2.03  2.4   2.22  1.81  1.34  0.8   0.   10.6 ] Loss_P: [ 3.3   2.73  2.74  2.38  1.98  1.3   1.07 15.5 ]\n",
      "Loss_Q: [ 2.13  2.41  2.24  1.83  1.29  0.83  0.   10.74] Loss_P: [ 3.24  2.84  2.66  2.4   2.02  1.25  1.09 15.5 ]\n",
      "Loss_Q: [ 2.05  2.43  2.28  1.87  1.31  0.88  0.   10.83] Loss_P: [ 3.27  2.79  2.64  2.49  2.03  1.23  1.11 15.56]\n",
      "Loss_Q: [ 2.11  2.38  2.17  1.84  1.3   0.88  0.   10.68] Loss_P: [ 3.24  2.82  2.64  2.34  1.98  1.21  1.08 15.32]\n",
      "Loss_Q: [ 2.13  2.38  2.17  1.86  1.22  0.79  0.   10.55] Loss_P: [ 3.25  2.9   2.65  2.39  1.98  1.19  1.03 15.38]\n",
      "Loss_Q: [ 2.03  2.4   2.28  1.79  1.26  0.8   0.   10.56] Loss_P: [ 3.24  2.8   2.63  2.41  1.95  1.2   1.05 15.27]\n",
      "Loss_Q: [ 2.17  2.41  2.36  1.87  1.27  0.77  0.   10.85] Loss_P: [ 3.27  2.84  2.65  2.48  2.01  1.22  1.03 15.49]\n",
      "Loss_Q: [ 2.15  2.42  2.26  1.83  1.28  0.78  0.   10.72] Loss_P: [ 3.24  2.89  2.66  2.44  1.99  1.24  1.01 15.49]\n",
      "Loss_Q: [ 2.13  2.41  2.16  1.83  1.23  0.75  0.   10.51] Loss_P: [ 3.27  2.77  2.63  2.37  1.96  1.17  0.98 15.13]\n",
      "Loss_Q: [ 2.12  2.33  2.08  1.79  1.09  0.73  0.   10.15] Loss_P: [ 3.29  2.82  2.58  2.29  1.96  1.08  0.99 15.01]\n",
      "Loss_Q: [ 2.01  2.36  2.24  1.83  1.19  0.75  0.   10.37] Loss_P: [ 3.28  2.73  2.64  2.32  2.03  1.09  0.99 15.08]\n",
      "Loss_Q: [ 2.1   2.36  2.14  1.82  1.11  0.72  0.   10.25] Loss_P: [ 3.28  2.73  2.68  2.31  2.03  1.11  0.98 15.13]\n",
      "Loss_Q: [ 2.13  2.42  2.23  1.87  1.05  0.76  0.   10.46] Loss_P: [ 3.3   2.76  2.63  2.37  2.03  1.05  1.   15.13]\n",
      "Loss_Q: [ 2.03  2.39  2.22  1.87  1.09  0.77  0.   10.37] Loss_P: [ 3.34  2.68  2.63  2.35  1.98  1.02  0.97 14.97]\n",
      "Loss_Q: [ 1.94  2.31  2.22  1.8   1.1   0.8   0.   10.18] Loss_P: [ 3.3   2.62  2.59  2.39  1.99  1.05  1.04 14.98]\n",
      "Loss_Q: [ 2.02  2.26  2.14  1.84  1.11  0.8   0.   10.17] Loss_P: [ 3.32  2.72  2.57  2.3   1.97  1.09  1.05 15.02]\n",
      "Loss_Q: [ 1.94  2.29  2.12  1.83  1.14  0.75  0.   10.06] Loss_P: [ 3.34  2.62  2.54  2.32  1.98  1.07  1.   14.86]\n",
      "Loss_Q: [ 1.93  2.36  2.19  1.91  1.21  0.76  0.   10.35] Loss_P: [ 3.3   2.59  2.64  2.4   2.06  1.15  1.01 15.15]\n",
      "Loss_Q: [ 1.91  2.27  2.19  1.89  1.2   0.77  0.   10.22] Loss_P: [ 3.3   2.58  2.62  2.37  2.03  1.17  1.   15.08]\n",
      "Loss_Q: [1.9  2.22 2.03 1.78 1.22 0.77 0.   9.93] Loss_P: [ 3.27  2.57  2.49  2.24  1.9   1.08  1.03 14.59]\n",
      "Loss_Q: [ 2.06  2.3   2.17  1.76  1.17  0.79  0.   10.26] Loss_P: [ 3.25  2.73  2.58  2.31  1.89  1.09  1.04 14.89]\n",
      "Loss_Q: [ 2.    2.32  2.24  1.76  1.12  0.78  0.   10.22] Loss_P: [ 3.3   2.7   2.58  2.38  1.94  1.05  1.02 14.98]\n",
      "Loss_Q: [ 2.06  2.24  2.26  1.78  1.09  0.74  0.   10.16] Loss_P: [ 3.3   2.67  2.57  2.36  1.96  1.03  1.02 14.91]\n",
      "Loss_Q: [ 2.01  2.31  2.25  1.85  1.13  0.8   0.   10.36] Loss_P: [ 3.28  2.68  2.58  2.38  2.01  1.03  1.03 14.99]\n",
      "Loss_Q: [ 1.98  2.34  2.19  1.83  1.11  0.75  0.   10.21] Loss_P: [ 3.28  2.64  2.6   2.39  2.02  1.06  1.   14.99]\n",
      "Loss_Q: [ 1.89  2.38  2.21  1.84  1.1   0.79  0.   10.19] Loss_P: [ 3.27  2.66  2.61  2.4   1.97  1.04  1.04 14.99]\n",
      "Loss_Q: [ 1.9   2.36  2.11  1.86  1.13  0.81  0.   10.17] Loss_P: [ 3.25  2.6   2.68  2.28  1.97  1.06  1.06 14.91]\n",
      "Loss_Q: [ 2.    2.3   2.15  1.79  1.09  0.78  0.   10.11] Loss_P: [ 3.33  2.62  2.59  2.31  1.91  1.06  1.08 14.91]\n",
      "Loss_Q: [ 2.08  2.3   2.16  1.8   1.06  0.81  0.   10.2 ] Loss_P: [ 3.29  2.72  2.59  2.32  1.91  1.01  1.07 14.9 ]\n",
      "Loss_Q: [ 2.    2.38  2.03  1.84  1.09  0.84  0.   10.17] Loss_P: [ 3.25  2.78  2.71  2.31  1.93  1.04  1.11 15.13]\n",
      "Loss_Q: [ 2.11  2.28  2.04  1.74  1.05  0.83  0.   10.05] Loss_P: [ 3.32  2.7   2.64  2.23  1.88  1.03  1.08 14.88]\n",
      "Loss_Q: [ 2.12  2.2   2.1   1.77  1.14  0.79  0.   10.12] Loss_P: [ 3.28  2.75  2.52  2.25  1.93  1.06  1.09 14.88]\n",
      "Loss_Q: [ 2.07  2.21  2.1   1.84  1.14  0.81  0.   10.17] Loss_P: [ 3.28  2.74  2.56  2.26  1.93  1.08  1.05 14.9 ]\n",
      "Loss_Q: [ 2.05  2.29  2.16  1.81  1.18  0.81  0.   10.3 ] Loss_P: [ 3.25  2.71  2.57  2.35  1.94  1.1   1.04 14.98]\n",
      "Loss_Q: [ 1.9   2.29  2.19  1.81  1.13  0.76  0.   10.07] Loss_P: [ 3.31  2.61  2.56  2.29  1.94  1.05  1.05 14.8 ]\n",
      "Loss_Q: [2.01 2.2  2.08 1.76 1.06 0.75 0.   9.87] Loss_P: [ 3.27  2.64  2.51  2.18  1.92  1.03  1.02 14.56]\n",
      "Loss_Q: [1.96 2.21 2.02 1.74 1.07 0.72 0.   9.72] Loss_P: [ 3.28  2.66  2.55  2.2   1.86  1.04  0.97 14.56]\n",
      "Loss_Q: [1.97 2.11 1.93 1.67 1.08 0.73 0.   9.51] Loss_P: [ 3.27  2.69  2.53  2.04  1.82  1.03  0.98 14.35]\n",
      "Loss_Q: [2.03 2.14 2.02 1.61 1.07 0.69 0.   9.56] Loss_P: [ 3.32  2.69  2.45  2.12  1.71  1.01  0.95 14.25]\n",
      "Loss_Q: [1.94 2.04 1.98 1.6  1.04 0.72 0.   9.33] Loss_P: [ 3.3   2.63  2.36  2.06  1.79  0.99  0.97 14.09]\n",
      "Loss_Q: [1.97 2.03 1.98 1.7  1.12 0.74 0.   9.53] Loss_P: [ 3.26  2.62  2.41  2.05  1.84  1.01  0.97 14.16]\n",
      "Loss_Q: [1.97 2.12 1.9  1.72 1.13 0.72 0.   9.56] Loss_P: [ 3.26  2.62  2.5   1.99  1.88  1.05  0.97 14.26]\n",
      "Loss_Q: [2.   2.2  2.   1.74 1.12 0.7  0.   9.75] Loss_P: [ 3.28  2.65  2.56  2.16  1.9   1.06  0.94 14.55]\n",
      "Loss_Q: [ 1.98  2.29  2.11  1.81  1.21  0.69  0.   10.09] Loss_P: [ 3.26  2.61  2.61  2.22  1.93  1.16  0.96 14.76]\n",
      "Loss_Q: [ 2.07  2.27  2.1   1.86  1.25  0.69  0.   10.24] Loss_P: [ 3.25  2.69  2.62  2.22  1.95  1.2   0.95 14.88]\n",
      "Loss_Q: [ 2.1   2.25  2.11  1.75  1.18  0.68  0.   10.08] Loss_P: [ 3.23  2.77  2.58  2.24  1.93  1.14  0.94 14.81]\n",
      "Loss_Q: [ 2.02  2.24  2.11  1.82  1.17  0.65  0.   10.01] Loss_P: [ 3.22  2.69  2.53  2.19  1.97  1.11  0.92 14.62]\n",
      "Loss_Q: [2.   2.24 2.08 1.76 1.16 0.63 0.   9.87] Loss_P: [ 3.31  2.69  2.51  2.18  1.96  1.13  0.88 14.67]\n",
      "Loss_Q: [2.04 2.27 2.09 1.81 1.17 0.61 0.   9.99] Loss_P: [ 3.31  2.61  2.55  2.23  1.96  1.15  0.91 14.72]\n",
      "Loss_Q: [ 1.95  2.18  2.17  1.83  1.18  0.7   0.   10.  ] Loss_P: [ 3.32  2.65  2.58  2.26  1.93  1.08  0.92 14.75]\n",
      "Loss_Q: [ 2.02  2.23  2.24  1.73  1.14  0.68  0.   10.05] Loss_P: [ 3.29  2.64  2.6   2.32  1.97  1.08  0.92 14.82]\n",
      "Loss_Q: [ 1.95  2.25  2.21  1.72  1.22  0.73  0.   10.08] Loss_P: [ 3.27  2.65  2.69  2.3   1.89  1.12  0.96 14.87]\n",
      "Loss_Q: [ 1.98  2.3   2.26  1.73  1.17  0.69  0.   10.14] Loss_P: [ 3.32  2.58  2.62  2.36  1.92  1.14  0.92 14.85]\n",
      "Loss_Q: [ 1.92  2.29  2.26  1.77  1.15  0.7   0.   10.08] Loss_P: [ 3.3   2.58  2.62  2.45  2.    1.13  0.95 15.03]\n",
      "Loss_Q: [ 1.94  2.27  2.21  1.75  1.21  0.68  0.   10.06] Loss_P: [ 3.29  2.59  2.61  2.37  1.92  1.18  0.91 14.86]\n",
      "Loss_Q: [1.89 2.29 2.14 1.75 1.19 0.66 0.   9.94] Loss_P: [ 3.31  2.56  2.64  2.22  1.87  1.13  0.88 14.62]\n",
      "Loss_Q: [1.96 2.26 2.13 1.72 1.23 0.69 0.   9.99] Loss_P: [ 3.24  2.58  2.61  2.2   1.86  1.13  0.92 14.54]\n",
      "Loss_Q: [ 1.97  2.28  2.17  1.8   1.2   0.68  0.   10.1 ] Loss_P: [ 3.29  2.56  2.61  2.31  2.    1.16  0.93 14.86]\n",
      "Loss_Q: [1.88 2.19 2.01 1.81 1.19 0.66 0.   9.74] Loss_P: [ 3.29  2.41  2.58  2.22  2.02  1.17  0.88 14.57]\n",
      "Loss_Q: [ 1.84  2.25  2.2   1.85  1.19  0.69  0.   10.02] Loss_P: [ 3.33  2.45  2.65  2.3   2.    1.18  0.89 14.79]\n",
      "Loss_Q: [ 1.86  2.29  2.2   1.91  1.26  0.67  0.   10.2 ] Loss_P: [ 3.27  2.52  2.7   2.38  2.07  1.19  0.92 15.06]\n",
      "Loss_Q: [ 2.01  2.27  2.2   1.9   1.22  0.69  0.   10.29] Loss_P: [ 3.31  2.62  2.58  2.33  2.03  1.19  0.91 14.97]\n"
     ]
    },
    {
     "name": "stdout",
     "output_type": "stream",
     "text": [
      "Loss_Q: [ 1.98  2.27  2.15  1.9   1.18  0.68  0.   10.16] Loss_P: [ 3.32  2.56  2.62  2.35  2.01  1.18  0.94 14.99]\n",
      "Loss_Q: [ 1.92  2.29  2.17  1.87  1.25  0.69  0.   10.18] Loss_P: [ 3.3   2.49  2.7   2.33  1.99  1.21  0.98 15.01]\n",
      "Loss_Q: [ 1.99  2.3   2.18  1.92  1.25  0.77  0.   10.4 ] Loss_P: [ 3.27  2.58  2.74  2.34  2.02  1.15  1.03 15.14]\n",
      "Loss_Q: [ 1.97  2.29  2.25  1.94  1.27  0.72  0.   10.44] Loss_P: [ 3.3   2.66  2.64  2.35  2.03  1.19  1.03 15.21]\n",
      "Loss_Q: [ 2.01  2.28  2.17  1.89  1.27  0.75  0.   10.37] Loss_P: [ 3.29  2.65  2.63  2.29  2.06  1.18  1.   15.11]\n",
      "Loss_Q: [ 1.95  2.2   2.08  1.91  1.27  0.77  0.   10.17] Loss_P: [ 3.34  2.55  2.55  2.2   2.04  1.19  1.03 14.9 ]\n",
      "Loss_Q: [1.82 2.2  2.03 1.87 1.29 0.73 0.   9.93] Loss_P: [ 3.34  2.55  2.59  2.09  1.99  1.17  1.04 14.77]\n",
      "Loss_Q: [ 1.91  2.23  2.01  1.89  1.25  0.73  0.   10.02] Loss_P: [ 3.32  2.52  2.68  2.14  2.    1.12  1.04 14.82]\n",
      "Loss_Q: [ 1.83  2.28  2.04  1.87  1.22  0.76  0.   10.01] Loss_P: [ 3.38  2.43  2.62  2.18  1.98  1.12  1.09 14.81]\n",
      "Loss_Q: [1.8  2.27 2.15 1.86 1.15 0.74 0.   9.96] Loss_P: [ 3.35  2.46  2.67  2.24  2.    1.05  1.04 14.81]\n",
      "Loss_Q: [1.8  2.18 2.06 1.81 1.18 0.74 0.   9.78] Loss_P: [ 3.33  2.37  2.57  2.16  1.98  1.11  1.01 14.53]\n",
      "Loss_Q: [1.8  2.17 1.97 1.79 1.16 0.77 0.   9.65] Loss_P: [ 3.29  2.47  2.55  2.14  1.9   1.13  1.05 14.53]\n",
      "Loss_Q: [1.92 2.21 2.14 1.75 1.21 0.75 0.   9.96] Loss_P: [ 3.35  2.56  2.62  2.3   1.89  1.12  1.05 14.89]\n",
      "Loss_Q: [ 1.98  2.29  2.06  1.78  1.21  0.75  0.   10.08] Loss_P: [ 3.33  2.62  2.67  2.16  1.89  1.11  1.02 14.79]\n",
      "Loss_Q: [ 1.97  2.29  2.05  1.76  1.18  0.76  0.   10.01] Loss_P: [ 3.29  2.62  2.62  2.15  1.9   1.03  1.03 14.65]\n",
      "Loss_Q: [ 2.    2.31  2.09  1.8   1.18  0.78  0.   10.16] Loss_P: [ 3.33  2.68  2.62  2.16  1.97  1.09  1.07 14.92]\n",
      "Loss_Q: [ 2.11  2.32  2.14  1.85  1.21  0.84  0.   10.47] Loss_P: [ 3.25  2.68  2.67  2.29  1.98  1.1   1.07 15.03]\n",
      "Loss_Q: [ 2.2   2.28  2.12  1.85  1.18  0.81  0.   10.44] Loss_P: [ 3.28  2.8   2.72  2.25  1.98  1.1   1.14 15.26]\n",
      "Loss_Q: [ 2.09  2.24  2.04  1.91  1.25  0.81  0.   10.33] Loss_P: [ 3.26  2.79  2.68  2.15  1.95  1.17  1.1  15.1 ]\n",
      "Loss_Q: [ 2.18  2.15  1.96  1.88  1.22  0.79  0.   10.19] Loss_P: [ 3.25  2.83  2.63  2.12  1.95  1.17  1.05 14.99]\n",
      "Loss_Q: [ 2.18  2.12  2.03  1.87  1.21  0.83  0.   10.25] Loss_P: [ 3.27  2.83  2.62  2.17  1.9   1.17  1.08 15.04]\n",
      "Loss_Q: [ 2.17  2.13  2.03  1.82  1.17  0.85  0.   10.17] Loss_P: [ 3.24  2.73  2.63  2.15  1.92  1.09  1.08 14.84]\n",
      "Loss_Q: [ 2.1   2.2   2.13  1.77  1.1   0.83  0.   10.14] Loss_P: [ 3.28  2.76  2.64  2.28  1.89  1.08  1.07 15.01]\n",
      "Loss_Q: [ 2.1   2.19  2.26  1.86  1.09  0.81  0.   10.31] Loss_P: [ 3.29  2.7   2.63  2.39  1.91  1.06  1.09 15.07]\n",
      "Loss_Q: [ 2.03  2.15  2.29  1.86  1.07  0.81  0.   10.2 ] Loss_P: [ 3.29  2.66  2.53  2.39  1.95  1.09  1.07 14.97]\n",
      "Loss_Q: [ 2.08  2.11  2.35  1.82  1.13  0.83  0.   10.33] Loss_P: [ 3.27  2.72  2.5   2.45  1.94  1.08  1.14 15.1 ]\n",
      "Loss_Q: [ 2.05  2.11  2.3   1.76  1.12  0.86  0.   10.2 ] Loss_P: [ 3.31  2.65  2.51  2.39  1.94  1.09  1.12 15.02]\n",
      "Loss_Q: [ 2.06  2.2   2.36  1.81  1.07  0.84  0.   10.33] Loss_P: [ 3.28  2.68  2.53  2.45  1.91  1.07  1.09 15.01]\n",
      "Loss_Q: [ 2.04  2.15  2.31  1.77  1.08  0.86  0.   10.2 ] Loss_P: [ 3.28  2.65  2.48  2.4   1.87  1.1   1.11 14.89]\n",
      "Loss_Q: [ 2.05  2.18  2.32  1.76  1.06  0.84  0.   10.22] Loss_P: [ 3.23  2.68  2.53  2.39  1.89  1.01  1.15 14.87]\n",
      "Loss_Q: [2.05 2.07 2.24 1.77 1.01 0.85 0.   9.97] Loss_P: [ 3.29  2.76  2.49  2.37  1.84  0.99  1.12 14.86]\n",
      "Loss_Q: [1.96 2.06 2.27 1.79 1.02 0.84 0.   9.93] Loss_P: [ 3.26  2.62  2.5   2.42  1.83  1.    1.1  14.72]\n",
      "Loss_Q: [ 2.01  2.12  2.34  1.74  1.03  0.85  0.   10.11] Loss_P: [ 3.32  2.64  2.53  2.48  1.78  0.99  1.1  14.86]\n",
      "Loss_Q: [ 2.08  2.13  2.31  1.73  1.11  0.83  0.   10.18] Loss_P: [ 3.33  2.66  2.52  2.41  1.78  1.11  1.12 14.92]\n",
      "Loss_Q: [ 2.09  2.08  2.24  1.72  1.13  0.82  0.   10.08] Loss_P: [ 3.31  2.69  2.5   2.37  1.76  1.08  1.09 14.8 ]\n",
      "Loss_Q: [ 2.17  2.11  2.25  1.72  1.09  0.81  0.   10.16] Loss_P: [ 3.29  2.75  2.52  2.37  1.78  1.07  1.06 14.84]\n",
      "Loss_Q: [2.03 2.08 2.24 1.72 1.08 0.8  0.   9.95] Loss_P: [ 3.27  2.64  2.47  2.29  1.77  1.11  1.07 14.61]\n",
      "Loss_Q: [1.96 2.08 2.19 1.69 1.05 0.78 0.   9.76] Loss_P: [ 3.3   2.54  2.52  2.3   1.74  1.01  1.06 14.47]\n",
      "Loss_Q: [1.95 2.16 2.26 1.71 1.05 0.77 0.   9.89] Loss_P: [ 3.31  2.63  2.54  2.46  1.81  0.99  1.06 14.81]\n",
      "Loss_Q: [ 2.07  2.18  2.35  1.76  1.03  0.76  0.   10.15] Loss_P: [ 3.29  2.68  2.5   2.49  1.75  0.99  1.   14.71]\n",
      "Loss_Q: [2.02 2.2  2.29 1.64 1.01 0.74 0.   9.9 ] Loss_P: [ 3.29  2.62  2.56  2.43  1.79  1.01  1.   14.68]\n",
      "Loss_Q: [ 2.05  2.18  2.28  1.74  1.05  0.7   0.   10.  ] Loss_P: [ 3.3   2.65  2.57  2.53  1.79  1.    1.01 14.84]\n",
      "Loss_Q: [ 2.05  2.14  2.33  1.74  1.06  0.71  0.   10.03] Loss_P: [ 3.26  2.71  2.52  2.45  1.82  0.99  0.99 14.74]\n",
      "Loss_Q: [2.08 2.2  2.31 1.66 0.98 0.73 0.   9.96] Loss_P: [ 3.29  2.72  2.5   2.4   1.8   0.95  0.97 14.63]\n",
      "Loss_Q: [1.99 2.12 2.29 1.68 1.01 0.7  0.   9.8 ] Loss_P: [ 3.29  2.67  2.5   2.32  1.8   0.9   0.97 14.45]\n",
      "Loss_Q: [2.02 2.11 2.26 1.76 1.03 0.71 0.   9.89] Loss_P: [ 3.3   2.7   2.46  2.37  1.84  0.95  0.98 14.59]\n",
      "Loss_Q: [1.98 2.14 2.23 1.74 0.97 0.7  0.   9.76] Loss_P: [ 3.33  2.61  2.56  2.33  1.84  0.92  0.97 14.55]\n",
      "Loss_Q: [1.95 2.17 2.36 1.78 1.04 0.7  0.   9.99] Loss_P: [ 3.29  2.56  2.45  2.45  1.89  0.95  1.01 14.62]\n",
      "Loss_Q: [1.89 2.04 2.38 1.68 1.   0.7  0.   9.69] Loss_P: [ 3.35  2.55  2.46  2.52  1.81  0.93  0.99 14.61]\n",
      "Loss_Q: [1.88 1.97 2.29 1.58 0.98 0.71 0.   9.41] Loss_P: [ 3.34  2.48  2.38  2.39  1.68  0.91  0.96 14.15]\n",
      "Loss_Q: [1.82 2.06 2.33 1.56 0.97 0.66 0.   9.39] Loss_P: [ 3.28  2.55  2.48  2.48  1.59  0.89  0.94 14.2 ]\n",
      "Loss_Q: [1.82 2.08 2.27 1.56 0.96 0.65 0.   9.34] Loss_P: [ 3.31  2.46  2.45  2.41  1.64  0.86  0.93 14.05]\n",
      "Loss_Q: [1.94 2.04 2.44 1.63 1.   0.66 0.   9.71] Loss_P: [ 3.3   2.6   2.48  2.48  1.72  0.86  0.92 14.35]\n",
      "Loss_Q: [2.05 2.05 2.36 1.61 0.99 0.7  0.   9.75] Loss_P: [ 3.29  2.7   2.45  2.5   1.74  0.87  0.95 14.5 ]\n",
      "Loss_Q: [2.08 2.03 2.33 1.53 0.91 0.7  0.   9.58] Loss_P: [ 3.29  2.7   2.43  2.41  1.64  0.84  0.94 14.25]\n",
      "Loss_Q: [2.05 2.09 2.3  1.59 0.96 0.66 0.   9.65] Loss_P: [ 3.26  2.67  2.51  2.44  1.72  0.87  0.92 14.39]\n",
      "Loss_Q: [2.09 2.17 2.29 1.54 0.91 0.67 0.   9.67] Loss_P: [ 3.25  2.7   2.55  2.44  1.75  0.87  0.92 14.47]\n",
      "Loss_Q: [2.09 2.23 2.25 1.67 0.89 0.68 0.   9.81] Loss_P: [ 3.27  2.74  2.58  2.41  1.72  0.85  0.91 14.49]\n",
      "Loss_Q: [1.95 2.21 2.22 1.66 0.92 0.69 0.   9.65] Loss_P: [ 3.33  2.6   2.6   2.4   1.69  0.81  0.95 14.38]\n",
      "Loss_Q: [2.   2.22 2.23 1.62 0.86 0.69 0.   9.62] Loss_P: [ 3.33  2.68  2.59  2.37  1.7   0.77  0.93 14.37]\n",
      "Loss_Q: [1.99 2.18 2.15 1.64 0.89 0.68 0.   9.53] Loss_P: [ 3.31  2.69  2.53  2.32  1.75  0.87  0.93 14.4 ]\n",
      "Loss_Q: [2.04 2.21 2.12 1.7  0.86 0.67 0.   9.6 ] Loss_P: [ 3.29  2.64  2.58  2.3   1.75  0.81  0.92 14.28]\n",
      "Loss_Q: [1.98 2.12 2.06 1.66 0.91 0.68 0.   9.41] Loss_P: [ 3.3   2.62  2.49  2.24  1.72  0.82  0.96 14.14]\n",
      "Loss_Q: [2.01 2.06 1.97 1.58 0.86 0.7  0.   9.18] Loss_P: [ 3.3   2.59  2.48  2.08  1.68  0.82  0.97 13.94]\n",
      "Loss_Q: [2.   2.04 1.99 1.61 0.89 0.73 0.   9.26] Loss_P: [ 3.28  2.68  2.45  2.04  1.68  0.8   0.96 13.89]\n",
      "Loss_Q: [2.05 2.13 2.06 1.61 0.91 0.72 0.   9.49] Loss_P: [ 3.32  2.7   2.5   2.14  1.72  0.81  0.96 14.16]\n",
      "Loss_Q: [2.03 2.1  2.21 1.59 0.95 0.72 0.   9.62] Loss_P: [ 3.35  2.68  2.5   2.33  1.71  0.88  0.97 14.43]\n",
      "Loss_Q: [2.03 2.21 2.33 1.63 0.93 0.76 0.   9.89] Loss_P: [ 3.31  2.67  2.56  2.49  1.69  0.87  1.01 14.61]\n",
      "Loss_Q: [ 2.05  2.26  2.29  1.7   0.95  0.76  0.   10.02] Loss_P: [ 3.3   2.72  2.6   2.5   1.75  0.91  1.03 14.82]\n",
      "Loss_Q: [2.02 2.2  2.31 1.7  0.93 0.73 0.   9.88] Loss_P: [ 3.35  2.63  2.54  2.47  1.76  0.88  0.99 14.63]\n",
      "Loss_Q: [2.01 2.2  2.32 1.74 0.88 0.73 0.   9.88] Loss_P: [ 3.26  2.71  2.52  2.49  1.81  0.85  1.   14.64]\n",
      "Loss_Q: [1.98 2.15 2.21 1.78 0.87 0.73 0.   9.73] Loss_P: [ 3.27  2.62  2.61  2.35  1.86  0.76  0.97 14.46]\n",
      "Loss_Q: [1.94 2.14 2.15 1.8  0.82 0.75 0.   9.6 ] Loss_P: [ 3.28  2.57  2.64  2.34  1.86  0.84  1.   14.54]\n",
      "Loss_Q: [1.98 2.25 2.23 1.82 0.85 0.76 0.   9.89] Loss_P: [ 3.31  2.69  2.69  2.41  1.92  0.81  1.04 14.87]\n"
     ]
    },
    {
     "name": "stdout",
     "output_type": "stream",
     "text": [
      "Loss_Q: [2.08 2.16 2.16 1.78 0.88 0.78 0.   9.83] Loss_P: [ 3.26  2.72  2.53  2.32  1.84  0.84  1.04 14.55]\n",
      "Loss_Q: [2.   2.1  2.21 1.69 0.88 0.79 0.   9.67] Loss_P: [ 3.34  2.63  2.43  2.33  1.8   0.81  1.   14.34]\n",
      "Loss_Q: [1.92 2.   2.25 1.65 0.82 0.71 0.   9.35] Loss_P: [ 3.28  2.62  2.39  2.39  1.8   0.83  0.95 14.27]\n",
      "Loss_Q: [2.02 1.98 2.36 1.66 0.85 0.72 0.   9.59] Loss_P: [ 3.27  2.67  2.39  2.43  1.78  0.77  0.93 14.24]\n",
      "Loss_Q: [2.04 2.09 2.33 1.63 0.77 0.7  0.   9.56] Loss_P: [ 3.31  2.74  2.45  2.47  1.74  0.72  0.89 14.33]\n",
      "Loss_Q: [1.96 2.07 2.36 1.66 0.81 0.72 0.   9.59] Loss_P: [ 3.35  2.62  2.52  2.51  1.81  0.77  0.92 14.52]\n",
      "Loss_Q: [1.99 2.11 2.39 1.75 0.94 0.72 0.   9.9 ] Loss_P: [ 3.29  2.62  2.44  2.47  1.87  0.89  0.96 14.52]\n",
      "Loss_Q: [1.95 1.97 2.32 1.7  0.93 0.75 0.   9.62] Loss_P: [ 3.3   2.64  2.47  2.48  1.82  0.89  0.96 14.57]\n",
      "Loss_Q: [1.98 1.97 2.28 1.83 0.94 0.76 0.   9.76] Loss_P: [ 3.29  2.65  2.35  2.42  1.88  0.91  1.   14.5 ]\n",
      "Loss_Q: [1.97 1.95 2.28 1.81 0.94 0.77 0.   9.72] Loss_P: [ 3.29  2.63  2.34  2.46  1.96  0.91  0.99 14.59]\n",
      "Loss_Q: [1.9  2.06 2.31 1.83 0.92 0.74 0.   9.77] Loss_P: [ 3.3   2.59  2.38  2.41  1.95  0.89  0.99 14.51]\n",
      "Loss_Q: [1.89 2.12 2.23 1.86 0.95 0.73 0.   9.77] Loss_P: [ 3.35  2.5   2.51  2.46  1.95  0.86  0.97 14.6 ]\n",
      "Loss_Q: [1.93 2.13 2.29 1.83 0.96 0.75 0.   9.9 ] Loss_P: [ 3.33  2.55  2.51  2.48  1.95  0.89  1.   14.72]\n",
      "Loss_Q: [1.84 2.09 2.24 1.86 0.96 0.78 0.   9.78] Loss_P: [ 3.36  2.47  2.45  2.47  1.98  0.94  0.99 14.65]\n",
      "Loss_Q: [1.87 2.17 2.31 1.87 0.94 0.78 0.   9.94] Loss_P: [ 3.31  2.47  2.52  2.5   1.97  0.88  1.04 14.69]\n",
      "Loss_Q: [ 1.91  2.23  2.33  1.81  0.94  0.8   0.   10.02] Loss_P: [ 3.29  2.59  2.57  2.58  1.97  0.88  1.06 14.93]\n",
      "Loss_Q: [ 1.94  2.27  2.45  1.91  1.01  0.79  0.   10.37] Loss_P: [ 3.24  2.65  2.64  2.72  1.97  0.89  1.06 15.17]\n",
      "Loss_Q: [ 1.98  2.28  2.4   1.89  0.98  0.74  0.   10.26] Loss_P: [ 3.28  2.6   2.66  2.63  1.99  0.92  1.04 15.11]\n",
      "Loss_Q: [ 1.93  2.3   2.35  1.95  0.96  0.75  0.   10.25] Loss_P: [ 3.3   2.58  2.66  2.6   2.01  0.89  1.01 15.05]\n",
      "Loss_Q: [ 1.99  2.39  2.42  1.87  0.94  0.75  0.   10.37] Loss_P: [ 3.26  2.68  2.63  2.72  1.96  0.83  0.98 15.06]\n",
      "Loss_Q: [ 2.03  2.28  2.45  1.83  0.91  0.69  0.   10.19] Loss_P: [ 3.25  2.62  2.57  2.66  1.98  0.83  0.92 14.84]\n",
      "Loss_Q: [1.94 2.29 2.37 1.81 0.85 0.73 0.   9.99] Loss_P: [ 3.3   2.6   2.57  2.65  1.9   0.83  0.92 14.77]\n",
      "Loss_Q: [1.86 2.23 2.35 1.83 0.86 0.71 0.   9.85] Loss_P: [ 3.28  2.51  2.53  2.61  1.93  0.82  0.95 14.63]\n",
      "Loss_Q: [1.9  2.23 2.3  1.85 0.89 0.72 0.   9.89] Loss_P: [ 3.32  2.45  2.52  2.5   1.95  0.84  0.93 14.51]\n",
      "Loss_Q: [1.82 2.23 2.34 1.86 0.91 0.69 0.   9.84] Loss_P: [ 3.3   2.46  2.53  2.57  1.96  0.86  0.93 14.61]\n",
      "Loss_Q: [1.82 2.24 2.37 1.86 0.9  0.69 0.   9.89] Loss_P: [ 3.28  2.43  2.64  2.6   1.94  0.83  0.89 14.61]\n",
      "Loss_Q: [1.95 2.25 2.27 1.9  0.87 0.66 0.   9.89] Loss_P: [ 3.3   2.53  2.61  2.6   1.97  0.83  0.88 14.72]\n",
      "Loss_Q: [1.97 2.2  2.33 1.9  0.88 0.63 0.   9.91] Loss_P: [ 3.33  2.58  2.54  2.61  2.    0.83  0.85 14.74]\n",
      "Loss_Q: [ 1.98  2.21  2.45  1.91  0.9   0.61  0.   10.08] Loss_P: [ 3.33  2.62  2.55  2.68  2.    0.87  0.84 14.88]\n",
      "Loss_Q: [ 2.03  2.24  2.43  1.91  0.92  0.62  0.   10.16] Loss_P: [ 3.3   2.66  2.59  2.68  2.02  0.88  0.86 14.99]\n",
      "Loss_Q: [ 2.02  2.31  2.39  1.91  0.94  0.61  0.   10.17] Loss_P: [ 3.26  2.68  2.63  2.65  2.01  0.88  0.79 14.89]\n",
      "Loss_Q: [ 2.05  2.29  2.4   1.96  0.98  0.61  0.   10.29] Loss_P: [ 3.28  2.65  2.66  2.67  2.02  0.93  0.84 15.04]\n",
      "Loss_Q: [ 2.03  2.27  2.42  1.91  1.04  0.6   0.   10.27] Loss_P: [ 3.31  2.66  2.66  2.68  2.02  0.95  0.87 15.15]\n",
      "Loss_Q: [ 2.03  2.28  2.38  1.92  0.99  0.65  0.   10.24] Loss_P: [ 3.23  2.64  2.68  2.59  2.03  0.93  0.89 14.98]\n",
      "Loss_Q: [ 1.96  2.18  2.32  1.93  0.95  0.65  0.   10.  ] Loss_P: [ 3.29  2.66  2.56  2.52  1.99  0.82  0.89 14.72]\n",
      "Loss_Q: [2.   2.13 2.25 1.79 0.93 0.61 0.   9.7 ] Loss_P: [ 3.28  2.62  2.55  2.38  1.88  0.87  0.87 14.45]\n",
      "Loss_Q: [1.9  2.15 2.24 1.81 0.95 0.59 0.   9.65] Loss_P: [ 3.28  2.57  2.54  2.46  1.92  0.86  0.84 14.47]\n",
      "Loss_Q: [1.99 2.13 2.17 1.78 1.   0.65 0.   9.72] Loss_P: [ 3.27  2.63  2.51  2.34  1.94  0.89  0.87 14.45]\n",
      "Loss_Q: [1.95 2.11 2.11 1.88 0.91 0.62 0.   9.59] Loss_P: [ 3.27  2.6   2.46  2.32  1.99  0.85  0.83 14.32]\n",
      "Loss_Q: [1.85 2.04 2.23 1.87 1.   0.68 0.   9.66] Loss_P: [ 3.28  2.51  2.43  2.46  1.94  0.93  0.88 14.43]\n",
      "Loss_Q: [1.82 1.95 2.21 1.89 1.07 0.7  0.   9.64] Loss_P: [ 3.24  2.48  2.39  2.4   1.95  1.01  0.94 14.4 ]\n",
      "Loss_Q: [1.89 1.9  2.21 1.91 1.02 0.68 0.   9.62] Loss_P: [ 3.32  2.56  2.36  2.41  1.99  0.98  0.91 14.53]\n",
      "Loss_Q: [1.92 1.87 2.13 1.87 1.   0.66 0.   9.45] Loss_P: [ 3.32  2.55  2.31  2.29  1.95  0.98  0.91 14.31]\n",
      "Loss_Q: [1.9  1.92 2.07 1.88 1.06 0.66 0.   9.48] Loss_P: [ 3.27  2.54  2.35  2.31  1.95  0.95  0.88 14.26]\n",
      "Loss_Q: [1.95 1.96 2.19 1.88 1.02 0.64 0.   9.64] Loss_P: [ 3.26  2.53  2.41  2.33  1.93  0.93  0.85 14.23]\n",
      "Loss_Q: [1.91 2.   2.25 1.87 1.07 0.64 0.   9.74] Loss_P: [ 3.27  2.57  2.38  2.42  1.93  1.02  0.88 14.46]\n",
      "Loss_Q: [1.9  1.96 2.28 1.9  1.03 0.63 0.   9.69] Loss_P: [ 3.24  2.61  2.38  2.5   1.96  0.97  0.85 14.51]\n",
      "Loss_Q: [1.92 1.91 2.38 1.87 1.08 0.64 0.   9.8 ] Loss_P: [ 3.26  2.64  2.29  2.5   1.92  0.99  0.88 14.49]\n",
      "Loss_Q: [1.84 1.97 2.36 1.9  1.03 0.64 0.   9.73] Loss_P: [ 3.25  2.55  2.34  2.55  1.95  0.97  0.86 14.47]\n",
      "Loss_Q: [ 1.92  2.09  2.31  1.93  1.12  0.66  0.   10.03] Loss_P: [ 3.24  2.54  2.46  2.53  1.96  1.09  0.89 14.71]\n",
      "Loss_Q: [1.85 2.05 2.34 1.92 1.12 0.67 0.   9.95] Loss_P: [ 3.25  2.51  2.43  2.51  1.94  1.05  0.91 14.6 ]\n",
      "Loss_Q: [ 1.8   2.2   2.39  1.9   1.15  0.7   0.   10.14] Loss_P: [ 3.28  2.39  2.46  2.62  1.99  1.11  0.94 14.78]\n",
      "Loss_Q: [ 1.8   2.11  2.33  1.88  1.2   0.72  0.   10.04] Loss_P: [ 3.27  2.46  2.44  2.58  1.92  1.13  0.96 14.77]\n",
      "Loss_Q: [ 1.9   2.2   2.37  1.9   1.19  0.68  0.   10.25] Loss_P: [ 3.22  2.59  2.57  2.62  1.98  1.14  0.92 15.03]\n",
      "Loss_Q: [ 1.89  2.19  2.41  1.93  1.21  0.69  0.   10.33] Loss_P: [ 3.22  2.58  2.5   2.61  1.99  1.18  0.95 15.03]\n",
      "Loss_Q: [ 1.95  2.11  2.39  1.89  1.2   0.7   0.   10.24] Loss_P: [ 3.21  2.58  2.49  2.58  1.97  1.14  0.96 14.95]\n",
      "Loss_Q: [ 1.95  2.14  2.31  1.92  1.19  0.73  0.   10.24] Loss_P: [ 3.21  2.64  2.46  2.57  2.    1.15  0.98 14.99]\n",
      "Loss_Q: [ 1.89  2.07  2.32  1.91  1.16  0.71  0.   10.07] Loss_P: [ 3.22  2.57  2.43  2.55  2.    1.14  0.97 14.89]\n",
      "Loss_Q: [1.81 2.04 2.29 1.85 1.12 0.75 0.   9.86] Loss_P: [ 3.26  2.52  2.41  2.52  1.99  1.08  0.99 14.77]\n",
      "Loss_Q: [ 1.89  2.14  2.38  1.92  1.09  0.73  0.   10.15] Loss_P: [ 3.26  2.54  2.5   2.57  2.01  1.05  1.   14.92]\n",
      "Loss_Q: [1.79 2.08 2.34 1.93 1.04 0.72 0.   9.9 ] Loss_P: [ 3.22  2.57  2.39  2.59  2.05  1.    0.97 14.78]\n",
      "Loss_Q: [ 1.95  2.09  2.39  1.96  1.09  0.68  0.   10.17] Loss_P: [ 3.2   2.59  2.43  2.6   2.04  1.03  0.92 14.81]\n",
      "Loss_Q: [1.82 2.02 2.37 1.96 1.09 0.68 0.   9.94] Loss_P: [ 3.26  2.51  2.35  2.59  2.04  1.01  0.89 14.65]\n",
      "Loss_Q: [1.83 2.05 2.44 1.89 1.07 0.69 0.   9.97] Loss_P: [ 3.25  2.47  2.42  2.65  1.99  1.09  0.92 14.79]\n",
      "Loss_Q: [1.81 2.05 2.37 1.89 1.06 0.72 0.   9.91] Loss_P: [ 3.24  2.49  2.42  2.67  1.98  1.08  0.93 14.8 ]\n",
      "Loss_Q: [1.83 2.01 2.41 1.88 1.07 0.73 0.   9.91] Loss_P: [ 3.3   2.47  2.27  2.6   1.96  1.02  0.96 14.58]\n",
      "Loss_Q: [1.8  1.98 2.3  1.83 1.06 0.75 0.   9.72] Loss_P: [ 3.26  2.49  2.29  2.53  1.91  0.93  0.94 14.35]\n",
      "Loss_Q: [1.82 1.99 2.36 1.83 1.05 0.72 0.   9.78] Loss_P: [ 3.22  2.49  2.33  2.63  1.94  1.02  0.99 14.62]\n",
      "Loss_Q: [1.84 2.03 2.24 1.8  1.05 0.73 0.   9.69] Loss_P: [ 3.32  2.47  2.36  2.57  1.82  0.98  0.99 14.51]\n",
      "Loss_Q: [1.87 1.99 2.3  1.77 1.09 0.74 0.   9.77] Loss_P: [ 3.26  2.58  2.3   2.48  1.8   1.    1.   14.42]\n",
      "Loss_Q: [1.92 1.93 2.34 1.82 1.12 0.74 0.   9.85] Loss_P: [ 3.25  2.64  2.28  2.55  1.86  1.08  1.02 14.69]\n",
      "Loss_Q: [1.92 1.88 2.31 1.87 1.18 0.79 0.   9.95] Loss_P: [ 3.27  2.61  2.18  2.56  1.91  1.1   1.09 14.71]\n",
      "Loss_Q: [1.95 1.87 2.32 1.82 1.19 0.84 0.   9.97] Loss_P: [ 3.28  2.59  2.22  2.53  1.88  1.1   1.09 14.69]\n",
      "Loss_Q: [2.02 1.93 2.32 1.71 1.21 0.79 0.   9.99] Loss_P: [ 3.27  2.7   2.28  2.56  1.79  1.12  1.12 14.83]\n",
      "Loss_Q: [ 2.04  2.    2.33  1.79  1.2   0.85  0.   10.22] Loss_P: [ 3.27  2.71  2.34  2.55  1.8   1.11  1.15 14.94]\n"
     ]
    },
    {
     "name": "stdout",
     "output_type": "stream",
     "text": [
      "Loss_Q: [ 2.1   2.08  2.3   1.81  1.24  0.83  0.   10.35] Loss_P: [ 3.26  2.63  2.4   2.52  1.84  1.14  1.15 14.94]\n",
      "Loss_Q: [ 2.    2.17  2.37  1.81  1.25  0.86  0.   10.46] Loss_P: [ 3.25  2.66  2.48  2.57  1.84  1.17  1.21 15.19]\n",
      "Loss_Q: [ 2.06  2.18  2.37  1.84  1.23  0.87  0.   10.55] Loss_P: [ 3.28  2.67  2.45  2.58  1.84  1.15  1.16 15.12]\n",
      "Loss_Q: [ 2.05  2.18  2.37  1.78  1.18  0.84  0.   10.39] Loss_P: [ 3.26  2.67  2.54  2.6   1.85  1.07  1.14 15.13]\n",
      "Loss_Q: [ 2.03  2.17  2.38  1.8   1.15  0.83  0.   10.36] Loss_P: [ 3.31  2.63  2.5   2.54  1.8   1.08  1.13 14.99]\n",
      "Loss_Q: [ 2.06  2.13  2.45  1.81  1.18  0.77  0.   10.41] Loss_P: [ 3.28  2.64  2.45  2.57  1.85  1.07  1.11 14.97]\n",
      "Loss_Q: [ 2.02  2.11  2.42  1.79  1.17  0.77  0.   10.28] Loss_P: [ 3.23  2.63  2.49  2.6   1.9   1.06  1.05 14.96]\n",
      "Loss_Q: [ 2.02  2.08  2.37  1.83  1.17  0.74  0.   10.22] Loss_P: [ 3.28  2.61  2.47  2.6   1.87  1.11  1.06 15.01]\n",
      "Loss_Q: [ 2.03  2.1   2.35  1.83  1.14  0.79  0.   10.25] Loss_P: [ 3.27  2.66  2.45  2.6   1.87  1.12  1.07 15.05]\n",
      "Loss_Q: [ 1.93  2.12  2.37  1.9   1.17  0.81  0.   10.31] Loss_P: [ 3.29  2.6   2.51  2.54  1.94  1.11  1.12 15.12]\n",
      "Loss_Q: [ 1.92  2.17  2.25  1.86  1.18  0.85  0.   10.23] Loss_P: [ 3.31  2.55  2.48  2.5   1.95  1.11  1.15 15.04]\n",
      "Loss_Q: [ 1.97  2.21  2.26  1.89  1.24  0.76  0.   10.34] Loss_P: [ 3.32  2.57  2.56  2.47  1.92  1.15  1.13 15.12]\n",
      "Loss_Q: [ 1.95  2.22  2.29  1.89  1.25  0.79  0.   10.39] Loss_P: [ 3.31  2.62  2.55  2.5   1.91  1.2   1.09 15.18]\n",
      "Loss_Q: [ 2.01  2.26  2.31  1.82  1.25  0.73  0.   10.37] Loss_P: [ 3.3   2.6   2.5   2.5   1.84  1.15  1.05 14.94]\n",
      "Loss_Q: [ 1.9   2.26  2.32  1.84  1.23  0.73  0.   10.28] Loss_P: [ 3.32  2.57  2.57  2.5   1.86  1.16  1.03 15.  ]\n",
      "Loss_Q: [ 2.03  2.29  2.33  1.82  1.23  0.72  0.   10.41] Loss_P: [ 3.29  2.64  2.6   2.52  1.87  1.17  1.01 15.1 ]\n",
      "Loss_Q: [ 2.03  2.3   2.34  1.87  1.2   0.71  0.   10.45] Loss_P: [ 3.29  2.71  2.62  2.47  1.92  1.12  1.01 15.13]\n",
      "Loss_Q: [ 1.97  2.26  2.26  1.89  1.2   0.71  0.   10.3 ] Loss_P: [ 3.29  2.66  2.64  2.42  1.93  1.11  1.04 15.08]\n",
      "Loss_Q: [ 1.96  2.22  2.25  1.88  1.2   0.73  0.   10.24] Loss_P: [ 3.27  2.64  2.65  2.48  1.9   1.11  1.04 15.1 ]\n",
      "Loss_Q: [1.87 2.12 2.22 1.83 1.2  0.72 0.   9.96] Loss_P: [ 3.31  2.53  2.44  2.4   1.9   1.1   1.01 14.68]\n",
      "Loss_Q: [1.99 2.04 2.14 1.79 1.24 0.69 0.   9.88] Loss_P: [ 3.32  2.6   2.44  2.26  1.86  1.1   1.02 14.59]\n",
      "Loss_Q: [2.   2.05 2.15 1.71 1.25 0.65 0.   9.8 ] Loss_P: [ 3.32  2.59  2.44  2.28  1.78  1.14  0.94 14.49]\n",
      "Loss_Q: [1.99 2.06 2.15 1.76 1.2  0.62 0.   9.78] Loss_P: [ 3.35  2.53  2.45  2.33  1.82  1.13  0.92 14.54]\n",
      "Loss_Q: [1.97 2.06 2.15 1.73 1.24 0.64 0.   9.8 ] Loss_P: [ 3.35  2.51  2.51  2.33  1.82  1.12  0.91 14.55]\n",
      "Loss_Q: [1.91 2.12 2.21 1.73 1.21 0.65 0.   9.83] Loss_P: [ 3.3   2.53  2.5   2.39  1.81  1.11  0.91 14.54]\n",
      "Loss_Q: [1.98 2.08 2.29 1.72 1.18 0.66 0.   9.9 ] Loss_P: [ 3.32  2.59  2.53  2.45  1.84  1.11  0.9  14.76]\n",
      "Loss_Q: [ 1.97  2.17  2.32  1.77  1.2   0.67  0.   10.1 ] Loss_P: [ 3.32  2.56  2.54  2.54  1.88  1.08  0.9  14.83]\n",
      "Loss_Q: [ 2.02  2.26  2.42  1.76  1.26  0.63  0.   10.34] Loss_P: [ 3.27  2.63  2.53  2.59  1.89  1.15  0.89 14.95]\n",
      "Loss_Q: [ 2.08  2.17  2.4   1.8   1.23  0.62  0.   10.3 ] Loss_P: [ 3.29  2.69  2.56  2.56  1.9   1.14  0.9  15.04]\n",
      "Loss_Q: [ 2.11  2.22  2.37  1.82  1.25  0.61  0.   10.38] Loss_P: [ 3.29  2.74  2.52  2.56  1.89  1.18  0.89 15.08]\n",
      "Loss_Q: [ 2.08  2.14  2.37  1.75  1.23  0.61  0.   10.18] Loss_P: [ 3.33  2.71  2.49  2.59  1.84  1.1   0.9  14.96]\n",
      "Loss_Q: [ 2.08  2.16  2.31  1.76  1.2   0.63  0.   10.14] Loss_P: [ 3.33  2.72  2.57  2.51  1.81  1.11  0.89 14.94]\n",
      "Loss_Q: [ 2.09  2.17  2.35  1.78  1.24  0.65  0.   10.29] Loss_P: [ 3.29  2.74  2.58  2.47  1.84  1.17  0.9  14.99]\n",
      "Loss_Q: [ 2.16  2.17  2.34  1.77  1.23  0.64  0.   10.32] Loss_P: [ 3.33  2.69  2.56  2.52  1.84  1.14  0.89 14.98]\n",
      "Loss_Q: [ 2.04  2.16  2.41  1.8   1.24  0.67  0.   10.33] Loss_P: [ 3.32  2.61  2.54  2.57  1.89  1.2   0.92 15.05]\n",
      "Loss_Q: [ 1.98  2.14  2.37  1.79  1.28  0.63  0.   10.19] Loss_P: [ 3.31  2.57  2.53  2.52  1.88  1.19  0.88 14.88]\n",
      "Loss_Q: [1.92 2.1  2.2  1.81 1.23 0.6  0.   9.86] Loss_P: [ 3.35  2.53  2.54  2.38  1.9   1.15  0.85 14.71]\n",
      "Loss_Q: [1.85 2.14 2.17 1.72 1.18 0.63 0.   9.69] Loss_P: [ 3.31  2.46  2.47  2.35  1.86  1.1   0.88 14.43]\n",
      "Loss_Q: [1.87 2.1  2.2  1.82 1.22 0.63 0.   9.84] Loss_P: [ 3.34  2.58  2.57  2.35  1.89  1.11  0.87 14.7 ]\n",
      "Loss_Q: [1.98 2.21 2.16 1.77 1.19 0.65 0.   9.96] Loss_P: [ 3.28  2.49  2.62  2.34  1.87  1.1   0.9  14.61]\n",
      "Loss_Q: [ 1.96  2.23  2.23  1.79  1.17  0.62  0.   10.  ] Loss_P: [ 3.31  2.6   2.58  2.39  1.86  1.1   0.88 14.72]\n",
      "Loss_Q: [ 1.98  2.26  2.22  1.76  1.12  0.65  0.   10.  ] Loss_P: [ 3.27  2.64  2.67  2.45  1.86  1.01  0.86 14.75]\n",
      "Loss_Q: [1.98 2.22 2.19 1.78 1.13 0.62 0.   9.93] Loss_P: [ 3.29  2.64  2.66  2.41  1.93  1.07  0.86 14.86]\n",
      "Loss_Q: [ 2.02  2.22  2.3   1.83  1.16  0.61  0.   10.15] Loss_P: [ 3.24  2.69  2.66  2.41  1.92  1.08  0.87 14.86]\n",
      "Loss_Q: [ 2.01  2.17  2.26  1.84  1.17  0.58  0.   10.03] Loss_P: [ 3.28  2.67  2.65  2.44  1.93  1.16  0.84 14.97]\n",
      "Loss_Q: [1.97 2.13 2.12 1.77 1.17 0.59 0.   9.76] Loss_P: [ 3.27  2.61  2.57  2.26  1.9   1.11  0.79 14.52]\n",
      "Loss_Q: [1.96 2.16 2.1  1.83 1.14 0.56 0.   9.75] Loss_P: [ 3.27  2.59  2.65  2.3   1.92  1.15  0.83 14.71]\n",
      "Loss_Q: [2.02 2.21 2.15 1.78 1.22 0.58 0.   9.96] Loss_P: [ 3.23  2.65  2.66  2.28  1.87  1.21  0.8  14.7 ]\n",
      "Loss_Q: [ 2.03  2.32  2.15  1.74  1.24  0.59  0.   10.08] Loss_P: [ 3.28  2.7   2.75  2.24  1.82  1.21  0.7  14.69]\n",
      "Loss_Q: [ 2.04  2.27  2.16  1.8   1.25  0.56  0.   10.07] Loss_P: [ 3.22  2.69  2.73  2.32  1.9   1.2   0.73 14.79]\n",
      "Loss_Q: [ 2.06  2.32  2.1   1.77  1.22  0.58  0.   10.05] Loss_P: [ 3.22  2.7   2.86  2.24  1.86  1.18  0.79 14.85]\n",
      "Loss_Q: [ 2.09  2.29  2.16  1.73  1.22  0.57  0.   10.06] Loss_P: [ 3.25  2.65  2.75  2.28  1.88  1.2   0.76 14.76]\n",
      "Loss_Q: [1.92 2.3  2.07 1.76 1.24 0.56 0.   9.86] Loss_P: [ 3.27  2.51  2.81  2.24  1.88  1.17  0.76 14.63]\n",
      "Loss_Q: [1.93 2.29 2.09 1.79 1.25 0.57 0.   9.92] Loss_P: [ 3.26  2.58  2.78  2.21  1.84  1.2   0.76 14.63]\n",
      "Loss_Q: [1.88 2.25 2.02 1.85 1.23 0.59 0.   9.82] Loss_P: [ 3.29  2.55  2.74  2.17  1.9   1.2   0.82 14.66]\n",
      "Loss_Q: [ 1.89  2.32  2.13  1.83  1.27  0.57  0.   10.02] Loss_P: [ 3.27  2.5   2.73  2.22  1.95  1.18  0.81 14.65]\n",
      "Loss_Q: [1.9  2.24 2.14 1.77 1.3  0.57 0.   9.93] Loss_P: [ 3.27  2.48  2.66  2.31  1.84  1.19  0.8  14.54]\n",
      "Loss_Q: [1.85 2.23 2.   1.78 1.27 0.57 0.   9.7 ] Loss_P: [ 3.33  2.46  2.64  2.24  1.83  1.21  0.83 14.54]\n",
      "Loss_Q: [1.91 2.18 1.99 1.76 1.25 0.62 0.   9.72] Loss_P: [ 3.28  2.58  2.6   2.16  1.85  1.18  0.8  14.44]\n",
      "Loss_Q: [1.9  2.1  1.95 1.75 1.28 0.58 0.   9.56] Loss_P: [ 3.29  2.59  2.57  2.19  1.84  1.18  0.82 14.47]\n",
      "Loss_Q: [1.98 2.12 2.17 1.79 1.26 0.57 0.   9.9 ] Loss_P: [ 3.27  2.67  2.58  2.33  1.88  1.21  0.8  14.74]\n",
      "Loss_Q: [ 2.01  2.2   2.2   1.75  1.3   0.57  0.   10.03] Loss_P: [ 3.25  2.62  2.57  2.44  1.78  1.24  0.76 14.66]\n",
      "Loss_Q: [ 2.01  2.24  2.21  1.8   1.35  0.58  0.   10.19] Loss_P: [ 3.24  2.64  2.6   2.38  1.87  1.22  0.79 14.74]\n",
      "Loss_Q: [ 1.98  2.21  2.2   1.79  1.34  0.61  0.   10.12] Loss_P: [ 3.22  2.66  2.62  2.41  1.91  1.22  0.82 14.87]\n",
      "Loss_Q: [ 2.09  2.14  2.16  1.78  1.32  0.61  0.   10.09] Loss_P: [ 3.25  2.7   2.58  2.29  1.9   1.19  0.84 14.75]\n",
      "Loss_Q: [1.98 2.08 2.08 1.75 1.24 0.6  0.   9.74] Loss_P: [ 3.24  2.68  2.48  2.22  1.86  1.17  0.82 14.47]\n",
      "Loss_Q: [1.91 1.96 2.06 1.73 1.27 0.58 0.   9.51] Loss_P: [ 3.25  2.65  2.43  2.24  1.84  1.15  0.83 14.39]\n",
      "Loss_Q: [1.93 2.02 2.2  1.75 1.26 0.59 0.   9.74] Loss_P: [ 3.28  2.59  2.45  2.33  1.82  1.19  0.81 14.48]\n",
      "Loss_Q: [1.88 2.03 2.25 1.83 1.3  0.58 0.   9.86] Loss_P: [ 3.24  2.57  2.48  2.44  1.89  1.17  0.84 14.65]\n",
      "Loss_Q: [1.94 2.01 2.27 1.78 1.24 0.56 0.   9.8 ] Loss_P: [ 3.26  2.52  2.47  2.47  1.93  1.15  0.81 14.59]\n",
      "Loss_Q: [1.89 2.02 2.27 1.85 1.27 0.57 0.   9.87] Loss_P: [ 3.21  2.6   2.48  2.42  1.91  1.18  0.78 14.58]\n",
      "Loss_Q: [1.99 2.05 2.26 1.81 1.25 0.55 0.   9.91] Loss_P: [ 3.23  2.63  2.52  2.4   1.88  1.17  0.76 14.58]\n",
      "Loss_Q: [1.94 2.07 2.25 1.77 1.25 0.54 0.   9.83] Loss_P: [ 3.21  2.68  2.49  2.39  1.89  1.23  0.73 14.62]\n"
     ]
    },
    {
     "name": "stdout",
     "output_type": "stream",
     "text": [
      "Loss_Q: [2.03 2.02 2.17 1.77 1.27 0.55 0.   9.8 ] Loss_P: [ 3.26  2.7   2.47  2.28  1.88  1.22  0.74 14.56]\n",
      "Loss_Q: [2.1  2.02 2.22 1.78 1.28 0.54 0.   9.94] Loss_P: [ 3.22  2.84  2.48  2.32  1.87  1.17  0.72 14.61]\n",
      "Loss_Q: [2.05 2.01 2.15 1.76 1.3  0.51 0.   9.78] Loss_P: [ 3.23  2.73  2.51  2.29  1.86  1.22  0.7  14.53]\n",
      "Loss_Q: [2.14 2.01 2.18 1.73 1.29 0.52 0.   9.87] Loss_P: [ 3.21  2.77  2.53  2.33  1.89  1.21  0.71 14.66]\n",
      "Loss_Q: [2.02 2.01 2.16 1.8  1.28 0.51 0.   9.78] Loss_P: [ 3.25  2.64  2.51  2.35  1.92  1.18  0.75 14.6 ]\n",
      "Loss_Q: [2.03 1.97 2.09 1.76 1.27 0.53 0.   9.65] Loss_P: [ 3.22  2.72  2.42  2.22  1.82  1.18  0.69 14.28]\n",
      "Loss_Q: [1.92 1.98 2.03 1.74 1.27 0.56 0.   9.5 ] Loss_P: [ 3.25  2.65  2.4   2.22  1.82  1.19  0.72 14.24]\n",
      "Loss_Q: [1.9  1.94 2.01 1.75 1.29 0.54 0.   9.43] Loss_P: [ 3.24  2.63  2.39  2.17  1.86  1.16  0.76 14.2 ]\n",
      "Loss_Q: [2.04 2.03 1.99 1.77 1.23 0.6  0.   9.66] Loss_P: [ 3.26  2.66  2.47  2.15  1.9   1.13  0.8  14.37]\n",
      "Loss_Q: [2.02 2.06 1.96 1.83 1.29 0.6  0.   9.76] Loss_P: [ 3.21  2.67  2.57  2.05  1.93  1.2   0.82 14.44]\n",
      "Loss_Q: [1.97 2.12 2.07 1.83 1.23 0.57 0.   9.79] Loss_P: [ 3.22  2.69  2.59  2.24  1.95  1.17  0.79 14.64]\n",
      "Loss_Q: [1.9  2.12 2.15 1.86 1.21 0.59 0.   9.83] Loss_P: [ 3.21  2.65  2.55  2.3   1.95  1.17  0.77 14.59]\n",
      "Loss_Q: [ 2.03  2.18  2.09  1.88  1.23  0.62  0.   10.03] Loss_P: [ 3.19  2.73  2.7   2.3   1.99  1.17  0.82 14.9 ]\n",
      "Loss_Q: [ 2.04  2.17  2.22  1.88  1.18  0.57  0.   10.06] Loss_P: [ 3.21  2.7   2.6   2.3   2.02  1.15  0.79 14.76]\n",
      "Loss_Q: [1.94 2.04 2.2  1.82 1.14 0.58 0.   9.72] Loss_P: [ 3.24  2.67  2.49  2.33  2.01  1.15  0.81 14.7 ]\n",
      "Loss_Q: [1.97 1.98 2.11 1.86 1.19 0.59 0.   9.71] Loss_P: [ 3.29  2.65  2.41  2.24  2.01  1.13  0.78 14.51]\n",
      "Loss_Q: [1.95 2.06 2.09 1.8  1.16 0.56 0.   9.61] Loss_P: [ 3.26  2.65  2.44  2.23  2.    1.09  0.78 14.45]\n",
      "Loss_Q: [1.98 2.06 2.15 1.85 1.16 0.55 0.   9.75] Loss_P: [ 3.28  2.63  2.52  2.22  1.99  1.06  0.77 14.48]\n",
      "Loss_Q: [1.98 2.05 2.08 1.81 1.18 0.56 0.   9.66] Loss_P: [ 3.28  2.63  2.47  2.2   2.01  1.1   0.8  14.5 ]\n",
      "Loss_Q: [2.   2.1  2.1  1.88 1.2  0.61 0.   9.88] Loss_P: [ 3.32  2.61  2.51  2.18  2.01  1.1   0.8  14.54]\n",
      "Loss_Q: [1.97 2.07 2.14 1.86 1.12 0.56 0.   9.72] Loss_P: [ 3.36  2.55  2.52  2.29  2.02  1.05  0.81 14.62]\n",
      "Loss_Q: [1.88 2.13 2.16 1.9  1.2  0.59 0.   9.85] Loss_P: [ 3.29  2.51  2.57  2.38  2.01  1.11  0.81 14.7 ]\n",
      "Loss_Q: [1.92 2.11 2.23 1.91 1.18 0.61 0.   9.97] Loss_P: [ 3.26  2.57  2.56  2.41  2.04  1.09  0.83 14.75]\n",
      "Loss_Q: [1.98 2.09 2.19 1.88 1.09 0.58 0.   9.8 ] Loss_P: [ 3.26  2.7   2.52  2.39  2.03  1.04  0.83 14.77]\n",
      "Loss_Q: [1.92 2.11 2.2  1.91 1.09 0.58 0.   9.81] Loss_P: [ 3.22  2.6   2.52  2.3   2.03  0.98  0.81 14.47]\n",
      "Loss_Q: [1.97 2.14 2.18 1.88 1.12 0.55 0.   9.84] Loss_P: [ 3.22  2.62  2.51  2.33  2.08  1.03  0.8  14.59]\n",
      "Loss_Q: [2.02 2.22 2.12 1.9  1.1  0.56 0.   9.92] Loss_P: [ 3.25  2.65  2.56  2.29  2.04  1.01  0.82 14.61]\n",
      "Loss_Q: [2.   2.11 2.17 1.89 1.1  0.58 0.   9.86] Loss_P: [ 3.21  2.68  2.54  2.36  2.03  1.    0.81 14.63]\n",
      "Loss_Q: [2.1  2.15 2.21 1.86 1.1  0.56 0.   9.99] Loss_P: [ 3.28  2.75  2.54  2.4   2.01  0.95  0.81 14.74]\n",
      "Loss_Q: [2.08 2.22 2.17 1.88 1.06 0.56 0.   9.96] Loss_P: [ 3.22  2.7   2.61  2.36  2.01  0.99  0.79 14.68]\n",
      "Loss_Q: [1.98 2.23 2.18 1.87 1.09 0.57 0.   9.93] Loss_P: [ 3.25  2.71  2.61  2.42  2.01  1.07  0.79 14.86]\n",
      "Loss_Q: [ 2.05  2.24  2.24  1.84  1.12  0.55  0.   10.05] Loss_P: [ 3.26  2.69  2.64  2.39  2.03  1.05  0.79 14.85]\n",
      "Loss_Q: [ 2.02  2.24  2.22  1.87  1.1   0.58  0.   10.03] Loss_P: [ 3.23  2.71  2.65  2.37  2.03  1.02  0.81 14.81]\n",
      "Loss_Q: [2.01 2.19 2.22 1.8  1.1  0.58 0.   9.9 ] Loss_P: [ 3.24  2.66  2.58  2.44  1.99  1.03  0.79 14.72]\n",
      "Loss_Q: [1.93 2.13 2.24 1.83 1.07 0.58 0.   9.78] Loss_P: [ 3.27  2.64  2.57  2.38  1.97  0.99  0.8  14.62]\n",
      "Loss_Q: [1.92 2.07 2.18 1.83 1.02 0.6  0.   9.62] Loss_P: [ 3.3   2.57  2.51  2.38  2.02  1.    0.81 14.58]\n",
      "Loss_Q: [1.97 2.11 2.15 1.79 1.03 0.62 0.   9.66] Loss_P: [ 3.29  2.51  2.52  2.32  1.99  0.99  0.82 14.44]\n",
      "Loss_Q: [1.88 2.26 2.12 1.79 1.09 0.62 0.   9.75] Loss_P: [ 3.28  2.52  2.61  2.29  1.98  1.04  0.85 14.58]\n",
      "Loss_Q: [2.06 2.17 2.18 1.79 1.11 0.6  0.   9.92] Loss_P: [ 3.27  2.66  2.56  2.33  1.95  1.07  0.85 14.69]\n",
      "Loss_Q: [ 1.98  2.18  2.37  1.73  1.16  0.61  0.   10.04] Loss_P: [ 3.21  2.73  2.62  2.55  1.92  1.11  0.85 14.98]\n",
      "Loss_Q: [ 2.03  2.2   2.38  1.81  1.26  0.64  0.   10.32] Loss_P: [ 3.21  2.68  2.59  2.59  1.94  1.18  0.82 15.02]\n",
      "Loss_Q: [ 2.05  2.19  2.36  1.77  1.25  0.63  0.   10.26] Loss_P: [ 3.24  2.65  2.6   2.51  1.93  1.14  0.84 14.91]\n",
      "Loss_Q: [1.98 2.13 2.29 1.76 1.18 0.59 0.   9.93] Loss_P: [ 3.27  2.62  2.49  2.52  1.94  1.11  0.85 14.78]\n",
      "Loss_Q: [1.89 2.11 2.31 1.81 1.14 0.57 0.   9.83] Loss_P: [ 3.24  2.59  2.49  2.45  1.91  1.09  0.82 14.59]\n",
      "Loss_Q: [1.92 2.13 2.34 1.81 1.15 0.59 0.   9.95] Loss_P: [ 3.24  2.64  2.56  2.51  2.04  1.13  0.83 14.94]\n",
      "Loss_Q: [1.92 2.09 2.34 1.79 1.2  0.61 0.   9.95] Loss_P: [ 3.27  2.57  2.46  2.5   1.99  1.15  0.8  14.75]\n",
      "Loss_Q: [1.85 2.08 2.17 1.87 1.15 0.61 0.   9.74] Loss_P: [ 3.24  2.47  2.49  2.35  1.99  1.14  0.85 14.54]\n",
      "Loss_Q: [1.87 2.09 2.25 1.84 1.17 0.61 0.   9.84] Loss_P: [ 3.26  2.55  2.49  2.41  1.99  1.11  0.82 14.63]\n",
      "Loss_Q: [1.82 2.06 2.23 1.77 1.13 0.62 0.   9.64] Loss_P: [ 3.25  2.47  2.46  2.42  1.87  1.09  0.81 14.37]\n",
      "Loss_Q: [1.75 1.94 2.26 1.74 1.14 0.61 0.   9.44] Loss_P: [ 3.23  2.44  2.35  2.38  1.86  1.11  0.82 14.2 ]\n",
      "Loss_Q: [1.81 1.98 2.27 1.79 1.16 0.56 0.   9.58] Loss_P: [ 3.26  2.43  2.39  2.42  1.94  1.14  0.77 14.36]\n",
      "Loss_Q: [1.82 2.   2.33 1.79 1.12 0.57 0.   9.62] Loss_P: [ 3.24  2.45  2.34  2.41  1.85  1.11  0.8  14.2 ]\n",
      "Loss_Q: [1.72 1.94 2.32 1.73 1.17 0.59 0.   9.48] Loss_P: [ 3.29  2.39  2.35  2.47  1.86  1.09  0.8  14.25]\n",
      "Loss_Q: [1.73 1.87 2.19 1.69 1.12 0.6  0.   9.2 ] Loss_P: [ 3.23  2.36  2.27  2.37  1.85  1.07  0.78 13.94]\n",
      "Loss_Q: [1.71 1.85 2.23 1.67 1.11 0.56 0.   9.13] Loss_P: [ 3.23  2.42  2.25  2.38  1.77  1.1   0.77 13.91]\n",
      "Loss_Q: [1.76 1.94 2.27 1.65 1.11 0.58 0.   9.31] Loss_P: [ 3.22  2.39  2.23  2.36  1.74  1.1   0.79 13.84]\n",
      "Loss_Q: [1.7  1.93 2.14 1.69 1.15 0.58 0.   9.19] Loss_P: [ 3.26  2.36  2.29  2.29  1.8   1.11  0.78 13.89]\n",
      "Loss_Q: [1.78 1.92 2.1  1.73 1.15 0.58 0.   9.26] Loss_P: [ 3.31  2.44  2.33  2.28  1.84  1.15  0.78 14.12]\n",
      "Loss_Q: [1.69 1.92 2.08 1.7  1.11 0.57 0.   9.06] Loss_P: [ 3.34  2.36  2.3   2.18  1.8   1.11  0.76 13.84]\n",
      "Loss_Q: [1.71 1.88 2.08 1.71 1.06 0.57 0.   9.  ] Loss_P: [ 3.31  2.35  2.23  2.21  1.75  1.04  0.77 13.65]\n",
      "Loss_Q: [1.69 1.93 2.11 1.68 1.04 0.54 0.   9.  ] Loss_P: [ 3.24  2.47  2.31  2.26  1.82  1.07  0.78 13.94]\n",
      "Loss_Q: [1.79 1.94 2.17 1.67 1.1  0.56 0.   9.23] Loss_P: [ 3.25  2.46  2.31  2.27  1.74  1.1   0.77 13.89]\n",
      "Loss_Q: [1.71 1.94 2.2  1.59 1.11 0.57 0.   9.11] Loss_P: [ 3.27  2.43  2.37  2.37  1.69  1.09  0.77 13.99]\n",
      "Loss_Q: [1.59 1.96 2.1  1.61 1.11 0.56 0.   8.94] Loss_P: [ 3.28  2.27  2.36  2.27  1.66  1.13  0.76 13.72]\n",
      "Loss_Q: [1.51 1.86 2.13 1.56 1.09 0.57 0.   8.72] Loss_P: [ 3.25  2.24  2.29  2.22  1.62  1.09  0.76 13.47]\n",
      "Loss_Q: [1.49 1.83 2.06 1.53 1.14 0.57 0.   8.63] Loss_P: [ 3.25  2.24  2.23  2.21  1.58  1.09  0.74 13.33]\n",
      "Loss_Q: [1.58 1.86 2.22 1.45 1.08 0.54 0.   8.72] Loss_P: [ 3.29  2.23  2.28  2.34  1.48  1.05  0.75 13.43]\n",
      "Loss_Q: [1.42 1.79 2.17 1.43 1.02 0.57 0.   8.4 ] Loss_P: [ 3.31  2.16  2.24  2.26  1.45  0.99  0.76 13.17]\n",
      "Loss_Q: [1.5  1.82 2.15 1.51 1.04 0.54 0.   8.56] Loss_P: [ 3.29  2.15  2.26  2.23  1.56  0.99  0.75 13.23]\n",
      "Loss_Q: [1.53 1.78 2.04 1.44 0.96 0.54 0.   8.3 ] Loss_P: [ 3.32  2.24  2.23  2.19  1.48  0.97  0.71 13.15]\n",
      "Loss_Q: [1.45 1.78 1.96 1.37 0.91 0.54 0.   8.01] Loss_P: [ 3.3   2.19  2.21  2.08  1.43  0.88  0.71 12.8 ]\n",
      "Loss_Q: [1.55 1.8  1.97 1.34 0.92 0.53 0.   8.12] Loss_P: [ 3.35  2.21  2.23  2.14  1.45  0.86  0.71 12.95]\n",
      "Loss_Q: [1.61 1.82 1.96 1.42 1.01 0.53 0.   8.35] Loss_P: [ 3.31  2.32  2.25  2.14  1.46  0.93  0.72 13.14]\n",
      "Loss_Q: [1.67 1.88 1.92 1.39 1.01 0.55 0.   8.42] Loss_P: [ 3.33  2.33  2.28  2.08  1.43  0.93  0.7  13.1 ]\n",
      "Loss_Q: [1.77 1.83 2.03 1.48 1.02 0.52 0.   8.64] Loss_P: [ 3.27  2.45  2.28  2.1   1.56  0.96  0.71 13.33]\n",
      "Loss_Q: [1.74 1.82 2.03 1.55 1.05 0.55 0.   8.75] Loss_P: [ 3.26  2.39  2.25  2.15  1.6   1.06  0.74 13.45]\n"
     ]
    },
    {
     "name": "stdout",
     "output_type": "stream",
     "text": [
      "Loss_Q: [1.71 1.87 2.16 1.55 1.07 0.54 0.   8.91] Loss_P: [ 3.29  2.36  2.26  2.28  1.63  1.02  0.73 13.57]\n",
      "Loss_Q: [1.71 1.81 2.13 1.54 1.12 0.54 0.   8.85] Loss_P: [ 3.29  2.36  2.21  2.3   1.58  1.01  0.72 13.47]\n",
      "Loss_Q: [1.71 1.74 2.06 1.5  1.11 0.55 0.   8.67] Loss_P: [ 3.33  2.34  2.17  2.19  1.54  1.04  0.77 13.37]\n",
      "Loss_Q: [1.65 1.73 2.07 1.51 1.15 0.55 0.   8.67] Loss_P: [ 3.33  2.31  2.1   2.27  1.57  1.12  0.79 13.5 ]\n",
      "Loss_Q: [1.66 1.82 2.09 1.5  1.14 0.57 0.   8.78] Loss_P: [ 3.28  2.28  2.17  2.29  1.56  1.14  0.78 13.5 ]\n",
      "Loss_Q: [1.62 1.81 2.15 1.56 1.12 0.62 0.   8.88] Loss_P: [ 3.36  2.26  2.15  2.31  1.62  1.07  0.8  13.57]\n",
      "Loss_Q: [1.68 1.86 2.18 1.57 1.1  0.65 0.   9.04] Loss_P: [ 3.32  2.32  2.24  2.37  1.63  1.03  0.82 13.74]\n",
      "Loss_Q: [1.68 1.84 2.12 1.57 1.08 0.61 0.   8.9 ] Loss_P: [ 3.32  2.31  2.25  2.28  1.63  1.07  0.82 13.67]\n",
      "Loss_Q: [1.66 1.9  2.11 1.55 1.14 0.6  0.   8.96] Loss_P: [ 3.29  2.29  2.22  2.3   1.61  1.05  0.81 13.57]\n",
      "Loss_Q: [1.64 1.79 2.05 1.49 1.03 0.6  0.   8.61] Loss_P: [ 3.33  2.3   2.24  2.17  1.6   1.02  0.8  13.45]\n",
      "Loss_Q: [1.68 1.85 2.08 1.46 1.04 0.6  0.   8.72] Loss_P: [ 3.3   2.23  2.27  2.25  1.56  1.03  0.77 13.4 ]\n",
      "Loss_Q: [1.63 1.86 2.14 1.45 1.06 0.6  0.   8.74] Loss_P: [ 3.31  2.22  2.26  2.32  1.53  1.03  0.77 13.44]\n",
      "Loss_Q: [1.65 1.8  2.14 1.55 1.12 0.6  0.   8.86] Loss_P: [ 3.26  2.29  2.24  2.36  1.59  1.09  0.77 13.59]\n",
      "Loss_Q: [1.67 1.84 2.14 1.46 1.05 0.59 0.   8.75] Loss_P: [ 3.33  2.28  2.18  2.28  1.57  1.05  0.77 13.45]\n",
      "Loss_Q: [1.74 1.83 2.13 1.45 1.12 0.62 0.   8.89] Loss_P: [ 3.31  2.37  2.13  2.23  1.48  1.05  0.76 13.33]\n",
      "Loss_Q: [1.66 1.76 2.07 1.53 1.12 0.63 0.   8.77] Loss_P: [ 3.27  2.35  2.19  2.25  1.6   1.15  0.78 13.6 ]\n",
      "Loss_Q: [1.67 1.8  2.08 1.54 1.16 0.63 0.   8.89] Loss_P: [ 3.31  2.33  2.2   2.2   1.61  1.11  0.77 13.52]\n",
      "Loss_Q: [1.68 1.88 2.07 1.57 1.09 0.63 0.   8.92] Loss_P: [ 3.32  2.23  2.21  2.22  1.66  1.05  0.84 13.51]\n",
      "Loss_Q: [1.67 1.83 2.17 1.59 1.08 0.67 0.   9.01] Loss_P: [ 3.34  2.28  2.22  2.3   1.69  1.05  0.83 13.71]\n",
      "Loss_Q: [1.68 1.82 2.17 1.6  1.07 0.67 0.   9.  ] Loss_P: [ 3.32  2.34  2.22  2.37  1.71  1.02  0.86 13.85]\n",
      "Loss_Q: [1.65 1.71 2.13 1.56 1.03 0.68 0.   8.76] Loss_P: [ 3.33  2.31  2.19  2.28  1.67  1.07  0.87 13.72]\n",
      "Loss_Q: [1.64 1.87 2.19 1.59 1.12 0.67 0.   9.08] Loss_P: [ 3.3   2.3   2.23  2.34  1.65  1.11  0.85 13.78]\n",
      "Loss_Q: [1.67 1.89 2.18 1.65 1.16 0.65 0.   9.21] Loss_P: [ 3.32  2.29  2.3   2.35  1.71  1.17  0.86 14.01]\n",
      "Loss_Q: [1.73 1.82 2.1  1.61 1.17 0.68 0.   9.1 ] Loss_P: [ 3.33  2.34  2.27  2.23  1.61  1.1   0.85 13.72]\n",
      "Loss_Q: [1.76 1.82 2.16 1.59 1.12 0.63 0.   9.08] Loss_P: [ 3.27  2.45  2.28  2.29  1.61  1.07  0.86 13.83]\n",
      "Loss_Q: [1.73 1.8  2.18 1.59 1.06 0.6  0.   8.96] Loss_P: [ 3.31  2.34  2.28  2.38  1.64  1.05  0.8  13.81]\n",
      "Loss_Q: [1.65 1.81 2.27 1.61 1.08 0.61 0.   9.03] Loss_P: [ 3.3   2.29  2.23  2.4   1.69  1.06  0.82 13.79]\n",
      "Loss_Q: [1.62 1.88 2.27 1.61 1.08 0.61 0.   9.07] Loss_P: [ 3.34  2.23  2.27  2.4   1.64  1.05  0.81 13.76]\n",
      "Loss_Q: [1.58 1.83 2.29 1.68 1.08 0.65 0.   9.11] Loss_P: [ 3.32  2.21  2.28  2.44  1.73  1.06  0.85 13.88]\n",
      "Loss_Q: [1.65 1.94 2.18 1.64 1.12 0.65 0.   9.19] Loss_P: [ 3.3   2.28  2.29  2.37  1.73  1.12  0.83 13.91]\n",
      "Loss_Q: [1.59 1.94 2.1  1.72 1.16 0.66 0.   9.17] Loss_P: [ 3.31  2.27  2.36  2.23  1.8   1.12  0.86 13.95]\n",
      "Loss_Q: [1.57 1.88 2.08 1.69 1.14 0.65 0.   9.02] Loss_P: [ 3.33  2.26  2.38  2.26  1.74  1.15  0.87 13.99]\n",
      "Loss_Q: [1.62 1.87 2.11 1.64 1.15 0.72 0.   9.11] Loss_P: [ 3.27  2.26  2.28  2.3   1.69  1.13  0.88 13.82]\n",
      "Loss_Q: [1.62 1.91 2.12 1.62 1.12 0.74 0.   9.12] Loss_P: [ 3.28  2.28  2.32  2.32  1.68  1.09  0.92 13.87]\n",
      "Loss_Q: [1.67 1.86 2.26 1.63 1.04 0.69 0.   9.15] Loss_P: [ 3.3   2.28  2.29  2.41  1.64  1.05  0.91 13.88]\n",
      "Loss_Q: [1.63 1.91 2.21 1.6  1.03 0.69 0.   9.07] Loss_P: [ 3.29  2.31  2.35  2.42  1.72  1.03  0.91 14.02]\n",
      "Loss_Q: [1.61 1.84 2.26 1.66 1.05 0.74 0.   9.16] Loss_P: [ 3.26  2.32  2.22  2.39  1.7   1.01  0.96 13.86]\n",
      "Loss_Q: [1.65 1.81 2.24 1.66 1.06 0.76 0.   9.18] Loss_P: [ 3.29  2.3   2.22  2.36  1.72  0.99  0.97 13.85]\n",
      "Loss_Q: [1.76 1.88 2.18 1.61 1.08 0.71 0.   9.22] Loss_P: [ 3.32  2.34  2.24  2.33  1.65  1.05  0.92 13.85]\n",
      "Loss_Q: [1.67 1.77 2.11 1.56 1.07 0.71 0.   8.89] Loss_P: [ 3.3   2.32  2.18  2.26  1.65  1.04  0.93 13.68]\n",
      "Loss_Q: [1.63 1.78 2.09 1.6  1.07 0.71 0.   8.88] Loss_P: [ 3.33  2.27  2.23  2.31  1.62  1.02  0.92 13.7 ]\n",
      "Loss_Q: [1.64 1.84 2.18 1.61 1.06 0.7  0.   9.04] Loss_P: [ 3.32  2.28  2.28  2.38  1.66  1.06  0.89 13.86]\n",
      "Loss_Q: [1.69 1.89 2.19 1.6  1.1  0.68 0.   9.15] Loss_P: [ 3.29  2.31  2.28  2.33  1.55  1.09  0.88 13.74]\n",
      "Loss_Q: [1.61 1.66 2.12 1.56 1.1  0.67 0.   8.73] Loss_P: [ 3.34  2.29  2.18  2.3   1.55  1.07  0.88 13.62]\n",
      "Loss_Q: [1.71 1.73 2.16 1.51 1.09 0.69 0.   8.89] Loss_P: [ 3.3   2.27  2.21  2.41  1.58  1.    0.89 13.66]\n",
      "Loss_Q: [1.81 1.8  2.16 1.59 1.09 0.73 0.   9.17] Loss_P: [ 3.28  2.36  2.22  2.3   1.58  1.02  0.93 13.7 ]\n",
      "Loss_Q: [1.83 1.72 2.24 1.61 1.13 0.66 0.   9.19] Loss_P: [ 3.29  2.46  2.2   2.36  1.61  1.04  0.92 13.87]\n",
      "Loss_Q: [1.8  1.62 2.09 1.57 1.14 0.66 0.   8.88] Loss_P: [ 3.3   2.42  2.11  2.28  1.6   1.12  0.92 13.75]\n",
      "Loss_Q: [1.77 1.67 2.   1.54 1.18 0.67 0.   8.85] Loss_P: [ 3.24  2.48  2.18  2.24  1.56  1.18  0.9  13.78]\n",
      "Loss_Q: [1.72 1.64 2.04 1.55 1.13 0.68 0.   8.76] Loss_P: [ 3.31  2.29  2.1   2.24  1.54  1.07  0.9  13.46]\n",
      "Loss_Q: [1.68 1.71 2.03 1.51 1.16 0.69 0.   8.79] Loss_P: [ 3.33  2.3   2.14  2.22  1.54  1.1   0.93 13.55]\n",
      "Loss_Q: [1.69 1.69 2.03 1.54 1.1  0.7  0.   8.75] Loss_P: [ 3.29  2.28  2.17  2.19  1.53  1.02  0.9  13.38]\n",
      "Loss_Q: [1.71 1.67 1.95 1.5  1.03 0.67 0.   8.52] Loss_P: [ 3.32  2.31  2.14  2.15  1.53  0.98  0.89 13.31]\n",
      "Loss_Q: [1.71 1.69 1.98 1.54 1.02 0.67 0.   8.62] Loss_P: [ 3.35  2.32  2.14  2.19  1.58  0.99  0.9  13.47]\n"
     ]
    }
   ],
   "source": [
    "for e in range (epoch):\n",
    "    index = np.random.permutation(n_data)\n",
    "    Loss_Q_total = np.zeros(n_layer)\n",
    "    Loss_P_total = np.zeros(n_layer)\n",
    "    for i in range(n_data):\n",
    "        d0 = dataset[:,index[i]:index[i]+1]\n",
    "        Alpha_Q = ut.wake_sample(n_dz,d0,value_set,Phi,activation_type,bias)\n",
    "        Theta,Loss_P = ut.sleep_update_delta(Theta,Alpha_Q,lr,n_dz,value_set,activation_type,bias)\n",
    "        Alpha_P = ut.sleep_sample(n_dz,value_set,Theta,activation_type,bias)\n",
    "        Phi,Loss_Q = ut.wake_update_delta(Phi,Alpha_P,lr,n_dz,value_set,activation_type,bias)\n",
    "        \n",
    "        Loss_Q_total += Loss_Q\n",
    "        Loss_P_total += Loss_P\n",
    "    Loss_Q_total = Loss_Q_total/n_data\n",
    "    Loss_P_total = Loss_P_total/n_data\n",
    "    print('Loss_Q: '+ str(np.around(Loss_Q_total,2)), 'Loss_P: '+ str(np.around(Loss_P_total,2)))"
   ]
  },
  {
   "cell_type": "code",
   "execution_count": 342,
   "id": "3c84f94d",
   "metadata": {},
   "outputs": [],
   "source": [
    "n_sample = 10000\n",
    "generation = ut.generate(n_sample,n_dz,value_set,Theta,activation_type,bias)\n",
    "\n",
    "distribution,data_dist,statistics, MSE, ABS_Error = ut.metrics(generation,reordered_set,dataset)\n",
    "values_t, counts_t = np.unique(distribution, return_counts=True)\n",
    "values_d, counts_d  = np.unique(data_dist, return_counts=True)\n",
    "counts_t = counts_t/n_sample*n_data"
   ]
  },
  {
   "cell_type": "code",
   "execution_count": 343,
   "id": "71875d3f",
   "metadata": {},
   "outputs": [
    {
     "data": {
      "text/plain": [
       "<matplotlib.legend.Legend at 0x1f8ad071fd0>"
      ]
     },
     "execution_count": 343,
     "metadata": {},
     "output_type": "execute_result"
    },
    {
     "data": {
      "image/png": "[encoded data removed]",
      "text/plain": [
       "<Figure size 1800x1000 with 1 Axes>"
      ]
     },
     "metadata": {},
     "output_type": "display_data"
    }
   ],
   "source": [
    "# visualization\n",
    "x_lim = reordered_set.shape[1]\n",
    "n_ticks = 8\n",
    "xtick = np.arange(0,x_lim,int(x_lim/n_ticks/100+0.5)*100)\n",
    "xtick[np.argmin(np.abs(xtick - values_d.size))] = values_d.size\n",
    "xtick[-1] = x_lim\n",
    "\n",
    "fig, ax = plt.subplots(figsize=(18, 10))\n",
    "ax.bar(values_d,counts_d,label = \"Ground Truth\")\n",
    "ax.bar(values_t,counts_t,label = \"Generation\")\n",
    "ax.set(xlim=(0, x_lim), xticks=xtick)\n",
    "plt.legend()"
   ]
  },
  {
   "cell_type": "code",
   "execution_count": 344,
   "id": "1910a72c",
   "metadata": {},
   "outputs": [
    {
     "data": {
      "text/plain": [
       "{'percent': 0.8083,\n",
       " 'FN': array([ 38,  41,  74,  93, 123, 159, 163, 171, 183, 233, 241, 297, 383,\n",
       "        395, 450, 475, 479, 481, 493, 494, 508, 513, 514, 515, 536, 555,\n",
       "        560, 562, 564, 567, 572, 574, 594, 598, 600, 615, 618]),\n",
       " 'n_fn': 37,\n",
       " 'FP': array([[ 627,  629,  631, ..., 4093, 4094, 4095],\n",
       "        [   1,    2,    1, ...,    1,    3,    5]], dtype=int64),\n",
       " 'n_fp': 1192}"
      ]
     },
     "execution_count": 344,
     "metadata": {},
     "output_type": "execute_result"
    }
   ],
   "source": [
    "statistics"
   ]
  },
  {
   "cell_type": "code",
   "execution_count": 345,
   "id": "30a9c6eb",
   "metadata": {},
   "outputs": [
    {
     "data": {
      "text/plain": [
       "0.31989347"
      ]
     },
     "execution_count": 345,
     "metadata": {},
     "output_type": "execute_result"
    }
   ],
   "source": [
    "MSE"
   ]
  },
  {
   "cell_type": "markdown",
   "id": "60885f5b",
   "metadata": {},
   "source": [
    "The result is too good. Maybe by self-organization we find a subspace of the entire space that fits the given Helmholtz machine structure best, so that it converges easily to this dataset. In the next notebook I will look closer to the internal structure of this model and see if there is an immediate answer."
   ]
  },
  {
   "cell_type": "markdown",
   "id": "8124667c",
   "metadata": {},
   "source": [
    "For self-organizing system, we are not restricted to a fixed dataset. We can use pure samples as data in each updation, which forgets the original dataset as input."
   ]
  },
  {
   "cell_type": "code",
   "execution_count": 372,
   "id": "996478f6",
   "metadata": {},
   "outputs": [
    {
     "data": {
      "text/plain": [
       "(12, 627)"
      ]
     },
     "execution_count": 372,
     "metadata": {},
     "output_type": "execute_result"
    }
   ],
   "source": [
    "para = np.load('self_org_parameters.npy',allow_pickle=True).item()\n",
    "Phi = para['Phi']\n",
    "Theta = para['Theta']\n",
    "dataset = np.load('self_org_dataset.npy')\n",
    "dataset.shape"
   ]
  },
  {
   "cell_type": "code",
   "execution_count": 432,
   "id": "5452d79d",
   "metadata": {},
   "outputs": [],
   "source": [
    "lr = 0.01\n",
    "epoch = 10\n",
    "n = n_dz[0,0]\n",
    "n_data = dataset.shape[1]\n",
    "n_layer = n_dz.shape[1]"
   ]
  },
  {
   "cell_type": "code",
   "execution_count": 455,
   "id": "e81188c5",
   "metadata": {},
   "outputs": [],
   "source": [
    "update_rate = 100 # after how many epochs we update evidence\n",
    "n_new_sample = 880 # how many samples are chosen as evidence at each update"
   ]
  },
  {
   "cell_type": "code",
   "execution_count": 456,
   "id": "b0f6b746",
   "metadata": {},
   "outputs": [
    {
     "name": "stdout",
     "output_type": "stream",
     "text": [
      "New sampled: 20 dataset size: 880 Loss_Q: [1.73 2.15 1.98 1.66 1.43 0.9  0.   9.85] Loss_P: [ 2.94  2.53  2.38  2.21  1.87  1.41  1.13 14.49]\n",
      "New sampled: 8 dataset size: 880 Loss_Q: [ 1.74  2.2   2.05  1.71  1.49  0.97  0.   10.16] Loss_P: [ 3.01  2.57  2.45  2.31  1.92  1.49  1.21 14.95]\n",
      "New sampled: 5 dataset size: 880 Loss_Q: [ 1.66  2.2   2.11  1.76  1.55  0.93  0.   10.21] Loss_P: [ 3.01  2.49  2.44  2.4   1.96  1.53  1.15 14.98]\n",
      "New sampled: 1 dataset size: 880 Loss_Q: [1.6  2.19 2.11 1.71 1.47 0.87 0.   9.96] Loss_P: [ 2.99  2.44  2.46  2.42  1.85  1.48  1.08 14.72]\n",
      "New sampled: 1 dataset size: 880 Loss_Q: [1.46 2.18 1.93 1.7  1.34 0.85 0.   9.47] Loss_P: [ 3.02  2.29  2.45  2.22  1.89  1.35  1.02 14.23]\n",
      "New sampled: 0 dataset size: 880 Loss_Q: [1.5  2.1  2.06 1.68 1.38 1.05 0.   9.76] Loss_P: [ 3.    2.33  2.36  2.34  1.83  1.45  1.24 14.55]\n",
      "New sampled: 0 dataset size: 880 Loss_Q: [1.61 1.96 1.93 1.62 1.42 0.98 0.   9.51] Loss_P: [ 2.95  2.45  2.23  2.2   1.83  1.46  1.18 14.3 ]\n",
      "New sampled: 0 dataset size: 880 Loss_Q: [1.67 1.98 1.97 1.57 1.39 0.94 0.   9.51] Loss_P: [ 3.    2.46  2.27  2.21  1.79  1.44  1.13 14.3 ]\n",
      "New sampled: 0 dataset size: 880 Loss_Q: [1.75 2.05 2.07 1.59 1.43 1.03 0.   9.92] Loss_P: [ 2.97  2.57  2.32  2.31  1.8   1.49  1.24 14.7 ]\n",
      "New sampled: 0 dataset size: 880 Loss_Q: [1.81 2.02 2.07 1.62 1.45 0.95 0.   9.91] Loss_P: [ 2.96  2.63  2.28  2.32  1.81  1.5   1.2  14.7 ]\n"
     ]
    }
   ],
   "source": [
    "for e in range(epoch):\n",
    "    new_sampled = np.zeros((n,n_data*update_rate))\n",
    "    Loss_Q_total = np.zeros(n_layer)\n",
    "    Loss_P_total = np.zeros(n_layer)\n",
    "    for r in range (update_rate):\n",
    "        index = np.random.permutation(n_data)\n",
    "        for i in range(n_data):\n",
    "            d0 = dataset[:,index[i]:index[i]+1]\n",
    "            Alpha_Q = ut.wake_sample(n_dz,d0,value_set,Phi,activation_type,bias)\n",
    "            Theta,Loss_P = ut.sleep_update_delta(Theta,Alpha_Q,lr,n_dz,value_set,activation_type,bias)\n",
    "            Alpha_P = ut.sleep_sample(n_dz,value_set,Theta,activation_type,bias)\n",
    "            Phi,Loss_Q = ut.wake_update_delta(Phi,Alpha_P,lr,n_dz,value_set,activation_type,bias)\n",
    "\n",
    "            new_sampled[:,i+n_data*r:i+n_data*r+1] = Alpha_P['z0']\n",
    "\n",
    "            Loss_Q_total += Loss_Q\n",
    "            Loss_P_total += Loss_P\n",
    "\n",
    "    values,counts = np.unique(new_sampled,axis=1,return_counts = True)\n",
    "    new_samples = values[:,np.argsort(counts)[-n_new_sample:]]\n",
    "    \n",
    "    if counts.size < n_new_sample:\n",
    "        print('Number of samples reached system maximum')\n",
    "        \n",
    "    n_new_total = np.unique(np.append(dataset,new_samples,axis=1),axis=1).shape[1] - n_data\n",
    "    dataset = new_samples  # renew dataset\n",
    "    n_data = dataset.shape[1]\n",
    "\n",
    "    Loss_Q_total = Loss_Q_total/(n_data*update_rate)\n",
    "    Loss_P_total = Loss_P_total/(n_data*update_rate)\n",
    "    print('New sampled: ' + str(n_new_total),'dataset size: ' + str(n_data),'Loss_Q: '+ str(np.around(Loss_Q_total,2)), 'Loss_P: '+ str(np.around(Loss_P_total,2)))"
   ]
  },
  {
   "cell_type": "code",
   "execution_count": 457,
   "id": "c0576d28",
   "metadata": {},
   "outputs": [
    {
     "data": {
      "text/plain": [
       "1301"
      ]
     },
     "execution_count": 457,
     "metadata": {},
     "output_type": "execute_result"
    }
   ],
   "source": [
    "counts[np.argsort(counts)].size"
   ]
  },
  {
   "cell_type": "code",
   "execution_count": 458,
   "id": "b5f218a7",
   "metadata": {},
   "outputs": [],
   "source": [
    "if counts.size < n_new_sample:\n",
    "    print('Number of samples reached system maximum')"
   ]
  },
  {
   "cell_type": "code",
   "execution_count": 459,
   "id": "7d9a5bc2",
   "metadata": {},
   "outputs": [],
   "source": [
    "n_sample = 10000\n",
    "generation = ut.generate(n_sample,n_dz,value_set,Theta,activation_type,bias)\n",
    "reordered_set = ut.reorder_all_comb(entire_set,dataset)\n",
    "distribution,data_dist,statistics, MSE, ABS_Error = ut.metrics(generation,reordered_set,dataset)\n",
    "values_t, counts_t = np.unique(distribution, return_counts=True)\n",
    "values_d, counts_d  = np.unique(data_dist, return_counts=True)\n",
    "counts_t = counts_t/n_sample*n_data"
   ]
  },
  {
   "cell_type": "code",
   "execution_count": 460,
   "id": "9b841d04",
   "metadata": {},
   "outputs": [
    {
     "data": {
      "text/plain": [
       "<matplotlib.legend.Legend at 0x1f8bcc41fd0>"
      ]
     },
     "execution_count": 460,
     "metadata": {},
     "output_type": "execute_result"
    },
    {
     "data": {
      "image/png": "[encoded data removed]",
      "text/plain": [
       "<Figure size 1800x1000 with 1 Axes>"
      ]
     },
     "metadata": {},
     "output_type": "display_data"
    }
   ],
   "source": [
    "# visualization\n",
    "x_lim = reordered_set.shape[1]\n",
    "n_ticks = 8\n",
    "xtick = np.arange(0,x_lim,int(x_lim/n_ticks/100+0.5)*100)\n",
    "xtick[np.argmin(np.abs(xtick - values_d.size))] = values_d.size\n",
    "xtick[-1] = x_lim\n",
    "\n",
    "fig, ax = plt.subplots(figsize=(18, 10))\n",
    "ax.bar(values_d,counts_d,label = \"Ground Truth\")\n",
    "ax.bar(values_t,counts_t,label = \"Generation\")\n",
    "ax.set(xlim=(0, x_lim), xticks=xtick)\n",
    "plt.legend()"
   ]
  },
  {
   "cell_type": "code",
   "execution_count": 461,
   "id": "79971c20",
   "metadata": {},
   "outputs": [
    {
     "data": {
      "text/plain": [
       "{'percent': 0.982,\n",
       " 'FN': array([], dtype=int32),\n",
       " 'n_fn': 0,\n",
       " 'FP': array([[ 886,  893,  907,  953,  997, 1013, 1073, 1126, 1190, 1193, 1200,\n",
       "         1207, 1246, 1260, 1267, 1311, 1325, 1373, 1387, 1447, 1486, 1553,\n",
       "         1560, 1567, 1619, 1627, 1666, 1678, 1687, 1731, 1740, 1747, 1800,\n",
       "         1807, 2068, 2069, 2137, 2181, 2289, 2327, 2422, 2427, 2464, 2489,\n",
       "         2510, 2513, 2514, 2547, 2560, 2597, 2601, 2607, 2608, 2649, 2656,\n",
       "         2687, 2747, 2803, 2859, 2866, 2871, 2911, 2912, 2918, 2922, 2923,\n",
       "         2963, 2965, 2973, 3014, 3016, 3024, 3025, 3069, 3077, 3079, 3135,\n",
       "         3191, 3235, 3247, 3291, 3333, 3343, 3344, 3355, 3395, 3396, 3405,\n",
       "         3446, 3447, 3449, 3454, 3501, 3509, 3511, 3613, 3698, 3707, 3738,\n",
       "         3744, 3745, 3784, 3791, 3833, 3872, 3879, 3950, 3957, 3968, 4012,\n",
       "         4019, 4034, 4037, 4039, 4052, 4054, 4066, 4068, 4071, 4076, 4077,\n",
       "         4083, 4084, 4087, 4092, 4095],\n",
       "        [   1,    2,    1,    1,    1,    1,    1,    1,    1,    1,    1,\n",
       "            1,    1,    1,    3,    1,    1,    2,    2,    1,    1,    1,\n",
       "            1,    1,    1,    1,    1,    1,    3,    1,    2,    1,    1,\n",
       "            2,    1,    1,    1,    1,    1,    1,    1,    1,    1,    1,\n",
       "            2,    1,    1,    1,    1,    1,    2,    1,    1,    1,    1,\n",
       "            1,    1,    1,    1,    1,    1,    2,    2,    1,    1,    1,\n",
       "            2,    1,    1,    1,    1,    1,    1,    1,    1,    2,    1,\n",
       "            1,    1,    1,    2,    1,    1,    1,    1,    2,    1,    2,\n",
       "            1,    2,    1,    1,    1,    4,    1,    4,    2,    2,    3,\n",
       "            2,    1,    5,    3,    1,    5,    1,    1,    4,    1,    3,\n",
       "            2,    1,    2,    1,    3,    1,    2,    1,    1,    1,    1,\n",
       "            1,    2,    3,    2,    1]], dtype=int64),\n",
       " 'n_fp': 126}"
      ]
     },
     "execution_count": 461,
     "metadata": {},
     "output_type": "execute_result"
    }
   ],
   "source": [
    "statistics"
   ]
  },
  {
   "cell_type": "code",
   "execution_count": 462,
   "id": "088f8f8a",
   "metadata": {},
   "outputs": [
    {
     "data": {
      "text/plain": [
       "0.1298224"
      ]
     },
     "execution_count": 462,
     "metadata": {},
     "output_type": "execute_result"
    }
   ],
   "source": [
    "MSE"
   ]
  },
  {
   "cell_type": "code",
   "execution_count": 463,
   "id": "3aecd396",
   "metadata": {},
   "outputs": [
    {
     "data": {
      "text/plain": [
       "537"
      ]
     },
     "execution_count": 463,
     "metadata": {},
     "output_type": "execute_result"
    }
   ],
   "source": [
    "org_dataset = np.load('self_org_dataset.npy')\n",
    "union = np.unique(np.append(dataset,org_dataset,axis=1),axis=1).shape[1]\n",
    "intersection = dataset.shape[1] + org_dataset.shape[1] - union\n",
    "intersection"
   ]
  },
  {
   "cell_type": "markdown",
   "id": "c8b8410f",
   "metadata": {},
   "source": [
    "percent: 0.9461, 0.9711,0.9784,0.9792,0.98,0.98,0.982\n",
    "\n",
    "n_fn: 0,0,0,0,0,0,0\n",
    "\n",
    "n_fp: 333,211,176,155,126,111,126\n",
    "\n",
    "MSE: 0.1459,0.1451,0.1248,0.1175,0.1431,0.1254,0.1298\n",
    "\n",
    "intersection (max 672): 532,537,535,535,536,536,537"
   ]
  },
  {
   "cell_type": "code",
   "execution_count": 465,
   "id": "12bde376",
   "metadata": {},
   "outputs": [
    {
     "data": {
      "text/plain": [
       "970"
      ]
     },
     "execution_count": 465,
     "metadata": {},
     "output_type": "execute_result"
    }
   ],
   "source": [
    "union"
   ]
  },
  {
   "cell_type": "code",
   "execution_count": 466,
   "id": "aef232d5",
   "metadata": {},
   "outputs": [],
   "source": [
    "parameters = {'Phi': Phi, 'Theta': Theta}\n",
    "np.save('self_org_dataset_98.npy',dataset)\n",
    "np.save('self_org_parameters_98.npy',parameters)"
   ]
  },
  {
   "cell_type": "markdown",
   "id": "ccb54f16",
   "metadata": {},
   "source": [
    "For self-organizing system, we not only can extend upon an original samll subspace, as time goes by, some undersampled instances in the original set could also be discarded. By shifting from one space to another (with overlap), we find a better niche to fit."
   ]
  },
  {
   "cell_type": "code",
   "execution_count": 12,
   "id": "6721e1c9",
   "metadata": {},
   "outputs": [
    {
     "data": {
      "text/plain": [
       "(12, 627)"
      ]
     },
     "execution_count": 12,
     "metadata": {},
     "output_type": "execute_result"
    }
   ],
   "source": [
    "para = np.load('self_org_parameters.npy',allow_pickle=True).item()\n",
    "Phi = para['Phi']\n",
    "Theta = para['Theta']\n",
    "dataset = np.load('self_org_dataset.npy')\n",
    "dataset.shape"
   ]
  },
  {
   "cell_type": "code",
   "execution_count": 16,
   "id": "14d3151b",
   "metadata": {},
   "outputs": [],
   "source": [
    "org_dataset = np.load('self_org_dataset.npy')"
   ]
  },
  {
   "cell_type": "code",
   "execution_count": 13,
   "id": "96541b67",
   "metadata": {},
   "outputs": [],
   "source": [
    "lr = 0.01\n",
    "epoch = 10\n",
    "n = n_dz[0,0]\n",
    "n_data = dataset.shape[1]\n",
    "n_layer = n_dz.shape[1]"
   ]
  },
  {
   "cell_type": "code",
   "execution_count": 36,
   "id": "c102a331",
   "metadata": {},
   "outputs": [],
   "source": [
    "update_rate = 100 # after how many epochs we update evidence\n",
    "n_add_sample = 700\n",
    "n_del_sample = 50"
   ]
  },
  {
   "cell_type": "code",
   "execution_count": 37,
   "id": "fc37b88e",
   "metadata": {},
   "outputs": [
    {
     "name": "stdout",
     "output_type": "stream",
     "text": [
      "Total new sampled: 2258 dataset size: 784 delete samples: 0\n",
      "Total new sampled: 2231 dataset size: 789 delete samples: 1\n",
      "Total new sampled: 2226 dataset size: 793 delete samples: 1\n",
      "Total new sampled: 2188 dataset size: 799 delete samples: 1\n",
      "Total new sampled: 2190 dataset size: 801 delete samples: 0\n",
      "Total new sampled: 2198 dataset size: 801 delete samples: 0\n",
      "Total new sampled: 2135 dataset size: 804 delete samples: 0\n",
      "Total new sampled: 2192 dataset size: 808 delete samples: 0\n",
      "Total new sampled: 2169 dataset size: 811 delete samples: 0\n",
      "Total new sampled: 2151 dataset size: 814 delete samples: 0\n"
     ]
    }
   ],
   "source": [
    "for e in range(epoch):\n",
    "    new_sampled = np.zeros((n,n_data*update_rate))\n",
    "    Loss_Q_total = np.zeros(n_layer)\n",
    "    Loss_P_total = np.zeros(n_layer)\n",
    "    for r in range (update_rate):\n",
    "        index = np.random.permutation(n_data)\n",
    "        for i in range(n_data):\n",
    "            d0 = dataset[:,index[i]:index[i]+1]\n",
    "            Alpha_Q = ut.wake_sample(n_dz,d0,value_set,Phi,activation_type,bias)\n",
    "            Theta,Loss_P = ut.sleep_update_delta(Theta,Alpha_Q,lr,n_dz,value_set,activation_type,bias)\n",
    "            Alpha_P = ut.sleep_sample(n_dz,value_set,Theta,activation_type,bias)\n",
    "            Phi,Loss_Q = ut.wake_update_delta(Phi,Alpha_P,lr,n_dz,value_set,activation_type,bias)\n",
    "\n",
    "            new_sampled[:,i+n_data*r:i+n_data*r+1] = Alpha_P['z0']\n",
    "\n",
    "            Loss_Q_total += Loss_Q\n",
    "            Loss_P_total += Loss_P\n",
    "\n",
    "    values,counts = np.unique(new_sampled,axis=1,return_counts = True)\n",
    "    n_new_total = np.unique(np.append(dataset,values,axis=1),axis=1).shape[1] - n_data\n",
    "    \n",
    "    new_samples = values[:,np.argsort(counts)[-n_add_sample:]]\n",
    "    del_samples = values[:,np.argsort(counts)[n_del_sample:]]\n",
    "    \n",
    "    index = []\n",
    "    for j in range(n_del_sample):\n",
    "        for k in range(n_data):\n",
    "            if np.array_equal(del_samples[:,j], dataset[:,k]):\n",
    "                index.append(k)\n",
    "                break\n",
    "    dataset = np.delete(dataset,index,axis=1) # remove undersampled data points\n",
    "    dataset = np.unique(np.append(dataset,new_samples,axis=1),axis=1)  # expand dataset        \n",
    "    n_data = dataset.shape[1]\n",
    "\n",
    "    Loss_Q_total = Loss_Q_total/(n_data*update_rate)\n",
    "    Loss_P_total = Loss_P_total/(n_data*update_rate)\n",
    "    print('Total new sampled: ' + str(n_new_total),'dataset size: ' + str(n_data),'delete samples: ' + str(len(index)))"
   ]
  },
  {
   "cell_type": "code",
   "execution_count": 31,
   "id": "75868ea1",
   "metadata": {},
   "outputs": [],
   "source": [
    "n_sample = 10000\n",
    "generation = ut.generate(n_sample,n_dz,value_set,Theta,activation_type,bias)\n",
    "reordered_set = ut.reorder_all_comb(entire_set,np.append(dataset,org_dataset,axis=1))\n",
    "distribution,data_dist,statistics, MSE, ABS_Error = ut.metrics(generation,reordered_set,dataset)\n",
    "values_t, counts_t = np.unique(distribution, return_counts=True)\n",
    "values_d, counts_d  = np.unique(data_dist, return_counts=True)\n",
    "counts_t = counts_t/n_sample*n_data"
   ]
  },
  {
   "cell_type": "code",
   "execution_count": 32,
   "id": "91a50d83",
   "metadata": {},
   "outputs": [
    {
     "data": {
      "text/plain": [
       "<matplotlib.legend.Legend at 0x161892dfe90>"
      ]
     },
     "execution_count": 32,
     "metadata": {},
     "output_type": "execute_result"
    },
    {
     "data": {
      "image/png": "[encoded data removed]",
      "text/plain": [
       "<Figure size 1800x1000 with 1 Axes>"
      ]
     },
     "metadata": {},
     "output_type": "display_data"
    }
   ],
   "source": [
    "# visualization\n",
    "x_lim = reordered_set.shape[1]\n",
    "n_ticks = 8\n",
    "xtick = np.arange(0,x_lim,int(x_lim/n_ticks/100+0.5)*100)\n",
    "xtick[np.argmin(np.abs(xtick - values_d.size))] = values_d.size\n",
    "xtick[-1] = x_lim\n",
    "\n",
    "fig, ax = plt.subplots(figsize=(18, 10))\n",
    "ax.bar(values_d,counts_d,label = \"Ground Truth\")\n",
    "ax.bar(values_t,counts_t,label = \"Generation\")\n",
    "ax.set(xlim=(0, x_lim), xticks=xtick)\n",
    "plt.legend()"
   ]
  },
  {
   "cell_type": "code",
   "execution_count": 33,
   "id": "c3df8652",
   "metadata": {},
   "outputs": [
    {
     "data": {
      "text/plain": [
       "{'percent': 0.8323,\n",
       " 'FN': array([ 18,  23,  46,  53,  86, 148, 153, 194, 209, 225, 228, 279, 281,\n",
       "        346, 453, 465, 555, 562, 578, 581, 602, 621, 635, 636, 637, 640,\n",
       "        642, 657, 662, 675, 687, 688, 693, 700, 704, 705, 706, 707, 708,\n",
       "        717, 720, 721, 722, 739, 743, 745, 767, 768, 769]),\n",
       " 'n_fn': 49,\n",
       " 'FP': array([[ 771,  772,  773, ..., 4093, 4094, 4095],\n",
       "        [   5,    8,   14, ...,    4,    1,    2]], dtype=int64),\n",
       " 'n_fp': 929}"
      ]
     },
     "execution_count": 33,
     "metadata": {},
     "output_type": "execute_result"
    }
   ],
   "source": [
    "statistics"
   ]
  },
  {
   "cell_type": "code",
   "execution_count": 34,
   "id": "1addc2b1",
   "metadata": {},
   "outputs": [
    {
     "data": {
      "text/plain": [
       "0.28591193000000004"
      ]
     },
     "execution_count": 34,
     "metadata": {},
     "output_type": "execute_result"
    }
   ],
   "source": [
    "MSE"
   ]
  },
  {
   "cell_type": "markdown",
   "id": "606d63cf",
   "metadata": {},
   "source": [
    "'percent': 0.8111; 0.8234\n",
    "\n",
    "n_fn': 33; 35\n",
    "\n",
    "'n_fp': 1184; 1058\n",
    "\n",
    "MSE: 0.2873; 0.3159"
   ]
  }
 ],
 "metadata": {
  "kernelspec": {
   "display_name": "Python 3 (ipykernel)",
   "language": "python",
   "name": "python3"
  },
  "language_info": {
   "codemirror_mode": {
    "name": "ipython",
    "version": 3
   },
   "file_extension": ".py",
   "mimetype": "text/x-python",
   "name": "python",
   "nbconvert_exporter": "python",
   "pygments_lexer": "ipython3",
   "version": "3.11.5"
  }
 },
 "nbformat": 4,
 "nbformat_minor": 5
}
