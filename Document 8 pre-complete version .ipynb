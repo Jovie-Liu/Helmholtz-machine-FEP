{
 "cells": [
  {
   "cell_type": "markdown",
   "id": "3794f5b5",
   "metadata": {},
   "source": [
    "***\n",
    "*Project:* Helmholtz Machine on Niche Construction\n",
    "\n",
    "*Author:* Jingwei Liu, Computer Music Ph.D., UC San Diego\n",
    "***\n",
    "\n",
    "# <span style=\"background-color:darkorange; color:white; padding:2px 6px\">Document 8 pre1</span> \n",
    "\n",
    "# Helmholtz Machine Complete Version\n",
    "\n",
    "\n",
    "*Updated:* Jan 12, 2024\n"
   ]
  },
  {
   "cell_type": "code",
   "execution_count": 3,
   "id": "9d0d2398",
   "metadata": {},
   "outputs": [],
   "source": [
    "import numpy as np\n",
    "import matplotlib.pyplot as plt"
   ]
  },
  {
   "cell_type": "code",
   "execution_count": 4,
   "id": "e40e1b45",
   "metadata": {},
   "outputs": [],
   "source": [
    "def sigmoid(x):\n",
    "    y = 1/(1+np.exp(-x))\n",
    "    return y"
   ]
  },
  {
   "cell_type": "code",
   "execution_count": 5,
   "id": "eff7d310",
   "metadata": {},
   "outputs": [],
   "source": [
    "def one_step_para_init(n_dz_slice,init_type):\n",
    "    \"\"\"\n",
    "    Arguments:\n",
    "    n_dz_slice -- 2 columns of n_dz\n",
    "    init_type -- \"zero\" or \"random\", \"zero\" assigns 0 to all parameters, \"random\" samples from standard Gaussian\n",
    "\n",
    "    Returns:\n",
    "    Phi, Theta -- -2 column bias, -1 column scale\n",
    "    norm_set -- statistical mean and variance of each pre-activation layer. Python dictionary of length l, with each value \n",
    "    a numpy array of shape (n_neuron+1,2), last row is counts, column 1: sum(z_i); column 2: sum(z_i**2); column 3: bias placeholder\n",
    "    \"\"\"\n",
    "    l = np.where(n_dz_slice[:,0] != 0)[0].size  # number of layers\n",
    "    layer_vt = np.append(n_dz_slice[:l,0],n_dz_slice[0,1])\n",
    "    Phi = {}\n",
    "    Theta = {}\n",
    "    norm_wake = {}\n",
    "    norm_sleep = {}\n",
    "    for i in range(l):\n",
    "        if init_type == \"zero\":\n",
    "            Phi[\"Phi_\" + str(i) + str(i+1)] = np.zeros((layer_vt[i+1],layer_vt[i]+2))\n",
    "            Theta[\"Theta_\" + str(l-i) + str(l-i-1)] = np.zeros((layer_vt[l-i-1],layer_vt[l-i]+2))\n",
    "        elif init_type == \"random\":\n",
    "            Phi[\"Phi_\" + str(i) + str(i+1)] = np.random.randn(layer_vt[i+1],layer_vt[i]+2)\n",
    "            Theta[\"Theta_\" + str(l-i) + str(l-i-1)] = np.random.randn(layer_vt[l-i-1],layer_vt[l-i]+2)\n",
    "        else:\n",
    "            raise Exception(\"Wrong Init Type\")\n",
    "        Phi[\"Phi_\" + str(i) + str(i+1)][:,-1] = 1          #scale\n",
    "        Theta[\"Theta_\" + str(l-i) + str(l-i-1)][:,-1] = 1\n",
    "        Phi[\"Phi_\" + str(i) + str(i+1)][:,-2] = 0              #bias\n",
    "        Theta[\"Theta_\" + str(l-i) + str(l-i-1)][:,-2] = 0\n",
    "        \n",
    "        norm_wake[\"l_\" + str(i+1)] = np.zeros((layer_vt[i+1]+1,3))\n",
    "        norm_sleep[\"l_\" + str(l-i-1)] = np.zeros((layer_vt[l-i-1]+1,3))\n",
    "        \n",
    "    return Phi,Theta,norm_wake,norm_sleep"
   ]
  },
  {
   "cell_type": "code",
   "execution_count": 6,
   "id": "5f90d9d6",
   "metadata": {},
   "outputs": [],
   "source": [
    "def one_step_forward(x,activation_type,parameter_set,norm_set,add_norm):\n",
    "    \"\"\"\n",
    "    Arguments:\n",
    "    x -- input instantiation layer, numpy array of shape (n,1)\n",
    "    activation_type -- we provide 2 choices of activation functions: tanh(x) and sigmoid(x)\n",
    "    parameter_set -- parameters from x to y. Python dictionary of length l. The keys are ordered sequentially from layer x to y.\n",
    "    norm_set -- statistical mean and variance of each pre-activation layer. Python dictionary of length l, with each value \n",
    "    a numpy array of shape (n_neuron+1,2), last row: counts; column 1: sum(z_i); column 2: sum(z_i**2); column 3: bias placeholder\n",
    "    add_norm -- True or False. Update norm matrix or not\n",
    "    \n",
    "    Returns:\n",
    "    G -- activation of each layer including x\n",
    "    q -- probability of layer y\n",
    "    \"\"\"\n",
    "    l = len(parameter_set)\n",
    "    p_keys = [*parameter_set]\n",
    "    n_keys = [*norm_set]\n",
    "    G = {'z0': x}\n",
    "    g = x\n",
    "    \n",
    "    for i in range(l):\n",
    "        phi = parameter_set[p_keys[i]]\n",
    "        norm = norm_set[n_keys[i]]\n",
    "        \n",
    "        pre_ac = np.matmul(phi[:,:-2],g)+norm[:-1,2:]  # pre-activation; bias placeholder\n",
    "        K = phi[:,-1:] * pre_ac + phi[:,-2:-1]  # rescale linear term\n",
    "        if activation_type == \"sigmoid\":\n",
    "            g = sigmoid(K)\n",
    "        elif activation_type == \"tanh\":\n",
    "            g = np.tanh(K)\n",
    "        if i == l-1:\n",
    "            g = sigmoid(K)\n",
    "        G['z'+str(i+1)] = g\n",
    "        \n",
    "        if add_norm == True:\n",
    "            norm[:-1,0:1] += pre_ac\n",
    "            norm[-1,0] += 1\n",
    "            norm[:-1,1:2] += pre_ac**2\n",
    "            norm[-1,1] += 1\n",
    "            norm_set[n_keys[i]] = norm        \n",
    "    return G,g"
   ]
  },
  {
   "cell_type": "code",
   "execution_count": 7,
   "id": "d609eeac",
   "metadata": {},
   "outputs": [],
   "source": [
    "def one_step_update(x,y,G,activation_type,parameter_set,value_set,norm_set,lr,\\\n",
    "                    fz_binary,fz_scale,fz_W,layer_norm,layer_norm_rate,check_lr):\n",
    "    \"\"\"\n",
    "    Arguments:\n",
    "    x -- input sampling layer, numpy array of shape (n,1)\n",
    "    y -- target sampling layer, numpy array of shape (m,1)\n",
    "    G -- output of one_step_forward_norm, activation of each layer including x\n",
    "    activation_type -- we provide 2 choices of activation functions: tanh(x) and sigmoid(x)\n",
    "    parameter_set -- parameters from x to y. Each array phi: -2 column bias, -1 column scale\n",
    "    value_set -- list or array [[a_x,b_x],[a_y,b_y]], where a is the positive outcome and b is the negative outcome of a Bernoulli experiment\n",
    "    norm_set -- statistical mean and variance of each pre-activation layer. Python dictionary of length l, with each value \n",
    "    a numpy array of shape (n_neuron+1,3), last row: counts; column 1: sum(z_i); column 2: sum(z_i**2); column 3: bias placeholder\n",
    "    lr -- learning rate, decimals\n",
    "    fz_binary -- True or Flase. If True, [a_x,b_x] are fixed values; if False, update [a_x,b_x]\n",
    "    fz_scale -- True or Flase. If True, last 2 columns of phi are fixed; if False, update adaptive scale and bias\n",
    "    fz_W -- True or Flase. If True, freeze weights; if False, update weights\n",
    "    layer_norm -- True or Flase, whether to adjust row distribution of W (more evenly distributed) by adjusting the \n",
    "    updating rate \"layer_norm_rate\" of dW\n",
    "    check_lr -- True or Flase. If True, check current lr and update it as needed\n",
    "    \n",
    "    Returns:\n",
    "    parameter_set -- updated parameters\n",
    "    loss -- value of loss function before updating, a number\n",
    "    grad_set -- gradients of parameters\n",
    "    lr -- updated learning rate\n",
    "    \"\"\"\n",
    "    \n",
    "    a_x = value_set[0,0]\n",
    "    b_x = value_set[0,1]\n",
    "    a_y = value_set[1,0]\n",
    "    b_y = value_set[1,1]\n",
    "    l = len(parameter_set)\n",
    "    p_keys = [*parameter_set]\n",
    "    n_keys = [*norm_set]\n",
    "    grad_set = {}\n",
    "    \n",
    "    # derivatives\n",
    "    q = G['z'+str(l)]\n",
    "    u = q - (y-b_y)/(a_y-b_y)   #[n_y,1]\n",
    "    loss = -np.sum(((y-b_y)*np.log(q) + (a_y-y)*np.log(1-q))/(a_y-b_y))  # layer entropy loss\n",
    "    if np.where(np.abs(y - a_y) < 1e-8)[0].size + np.where(np.abs(y - b_y) < 1e-8)[0].size != y.size:\n",
    "        raise Exception(\"Incorrect output layer\" + str(a_y)+ \" \"+str(b_y)+ \" \"+str(y))\n",
    "    # a = g(scale * [(Wz+b-mean)/deviation] + bias)\n",
    "    for i in range(l-1,-1,-1):\n",
    "        phi = parameter_set[p_keys[i]]\n",
    "        grad_set['d_'+p_keys[i]] = np.zeros(phi.shape)\n",
    "        W = phi[:,:-2]        #[n_y,n_z]\n",
    "        bias = phi[:,-2:-1]   #[n_y,1]\n",
    "        scale = phi[:,-1:]    #[n_y,1]\n",
    "        \n",
    "        z = G['z'+str(i)]      #[n_z,1]\n",
    "        \n",
    "        if fz_W == False:\n",
    "            dW = np.outer(u*scale,z)     #[n_y,n_z]\n",
    "            grad_set['d_'+p_keys[i]][:,:-2] = dW\n",
    "            # update weights\n",
    "            if layer_norm == True:\n",
    "                dW = layer_lr(W, dW, rate=layer_norm_rate)\n",
    "            parameter_set[p_keys[i]][:,:-2] -= lr * dW\n",
    "        \n",
    "        if fz_scale == False:\n",
    "#             norm = norm_set[n_keys[i]]      #[n_y,3]\n",
    "#             b = norm[:-1,2:]                #[n_y,1]\n",
    "#             N = np.matmul(W,z)+b   #[n_y,1]\n",
    "#             d_scale = u * N/np.sqrt((N**2).sum())     #[n_y,1]\n",
    "            d_bias = u             #[n_y,1]\n",
    "#             parameter_set[p_keys[i]][:,-1:] -= lr * d_scale\n",
    "            parameter_set[p_keys[i]][:,-2:-1] -= lr * d_bias\n",
    "#             grad_set['d_'+p_keys[i]][:,-1:] = d_scale\n",
    "            grad_set['d_'+p_keys[i]][:,-2:-1] = d_bias\n",
    "        \n",
    "        dz = np.matmul(W.T,u*scale)  #[n_z,1]\n",
    "        if i > 0:\n",
    "            if activation_type == \"sigmoid\":\n",
    "                u = dz * z * (1-z)\n",
    "            elif activation_type == \"tanh\":\n",
    "                u = dz * (1-z**2)\n",
    "        else:\n",
    "            # input layer, parameters a_x, b_x\n",
    "            if fz_binary == False:\n",
    "                d_ax = np.mean(dz[np.where(np.abs(x - a_x) < 1e-8)[0]]) # use mean instead of sum\n",
    "                d_bx = np.mean(dz[np.where(np.abs(x - b_x) < 1e-8)[0]])\n",
    "                if np.where(np.abs(x - a_x) < 1e-8)[0].size + np.where(np.abs(x - b_x) < 1e-8)[0].size != dz.size:\n",
    "                    raise Exception(\"Incorrect input layer\" + str(a_x)+ \" \"+str(b_x)+ \" \"+str(x))\n",
    "                a_x -= lr * d_ax\n",
    "                b_x -= lr * d_bx\n",
    "            x_values = [a_x,b_x]\n",
    "    \n",
    "    if check_lr == True:\n",
    "        G,q = one_step_forward(x,activation_type,parameter_set,norm_set,add_norm=False)\n",
    "        loss_new = -np.sum(((y-b_y)*np.log(q) + (a_y-y)*np.log(1-q))/(a_y-b_y))  # layer entropy loss\n",
    "        delta_loss = loss - loss_new\n",
    "        delta_f = 0\n",
    "        for keys in grad_set:\n",
    "            delta_f += np.sum(grad_set[keys]**2)\n",
    "        delta_f *= lr\n",
    "        print(\"delta_loss: \"+ str(delta_loss), \"delta_f: \"+ str(delta_f))\n",
    "        if delta_loss < delta_f:\n",
    "            lr /= delta_f/delta_loss\n",
    "            print(\"learning rate change: \" + str(lr))\n",
    "    \n",
    "    return x_values,lr,loss,grad_set"
   ]
  },
  {
   "cell_type": "code",
   "execution_count": 8,
   "id": "dc31ef32",
   "metadata": {},
   "outputs": [],
   "source": [
    "def layer_lr(W, dW, rate):\n",
    "    \"\"\"\n",
    "    adjust row distribution of W (more evenly distributed) by adjusting the updating rate of dW\n",
    "    Arguments:\n",
    "    W -- phi[:,:-2], numpy array of sahpe (n_z,n_x)\n",
    "    dW -- derivatives of W\n",
    "    rate -- 10 folds, x rate; 100 folds, x 2 rate\n",
    "    \n",
    "    Returns:\n",
    "    layer_lr\n",
    "    \"\"\"\n",
    "    multiple = np.log10(np.abs(W)/np.min(np.abs(W),axis=1,keepdims=True)).astype(int)\n",
    "    index = np.where((multiple > 0) & (W*dW > 0))\n",
    "    dW[index] *= rate\n",
    "    return dW"
   ]
  },
  {
   "cell_type": "code",
   "execution_count": 9,
   "id": "f9d737c5",
   "metadata": {},
   "outputs": [],
   "source": [
    "def one_step_norm_update(parameter_set,norm_set):\n",
    "    \"\"\"\n",
    "    Arguments:\n",
    "    parameter_set -- parameters from x to y. Python dictionary of length l. The keys are ordered sequentially from layer x to y.\n",
    "    Each array phi has: -2 column bias, -1 column scale\n",
    "    norm_set -- statistical mean and variance of each pre-activation layer. Python dictionary of length l, with each value \n",
    "    a numpy array of shape (n_neuron+1,2), last row: counts; column 1: sum(z_i); column 2: sum(z_i**2); column 3: bias placeholder\n",
    "    \n",
    "    Returns:\n",
    "    parameter_set -- updated parameters\n",
    "    norm_set -- reset mean, variance; update bias placeholder\n",
    "    \"\"\"\n",
    "    l = len(parameter_set)\n",
    "    p_keys = [*parameter_set]\n",
    "    n_keys = [*norm_set]\n",
    "    \n",
    "    for i in range(l):\n",
    "        phi = parameter_set[p_keys[i]]  #[n_z,n_x+2]\n",
    "        norm = norm_set[n_keys[i]]      #[n_z,1]\n",
    "        mean = norm[:-1,0:1]/norm[-1,0]\n",
    "        variance = norm[:-1,1:2]/norm[-1,1] - mean**2\n",
    "#         print(\"mean: \", mean)\n",
    "#         print(\"variance: \", variance)\n",
    "        \n",
    "        parameter_set[p_keys[i]][:,:-2] = phi[:,:-2]/np.sqrt(variance)  # scale every row of W by deviations\n",
    "        b = norm[:-1,2:]\n",
    "        norm_set[n_keys[i]][:-1,2:] = (b-mean)/np.sqrt(variance) # update bias placeholder\n",
    "        norm_set[n_keys[i]][:,:2] = 0\n",
    "    return parameter_set,norm_set"
   ]
  },
  {
   "cell_type": "code",
   "execution_count": 10,
   "id": "60b27e17",
   "metadata": {},
   "outputs": [],
   "source": [
    "def one_step_prob_matrix(x_dist,activation_type,n_x,parameter_set,norm_set):\n",
    "    \"\"\"\n",
    "    Arguments:\n",
    "    x_dist -- probability distribution of input x, numpy array of shape (n_x, )\n",
    "    Returns:\n",
    "    prob_ft -- probability matrix of x to neurons in y layer, numpy array of shape (2**n_x+1, n_y+1)\n",
    "    prob_cat -- probability matrix of x to categories of y, numpy array of shape (2**n_x+1, 2**n_y+1)\n",
    "    last row is unconditioned probability p(y), last column is entropy H(Y|x), H(Y|X)\n",
    "    \"\"\"\n",
    "    if n_x == 1:\n",
    "        x_ind = np.array([1])\n",
    "    else:\n",
    "        x_ind = np.arange(2**n_x)\n",
    "    \n",
    "    X = binarilize(x_ind,n_x)  #(n_x,2**n_x)\n",
    "    G,q = one_step_forward(X,activation_type,parameter_set,norm_set,add_norm=False)\n",
    "    \n",
    "    n_y = q.shape[0]           # q:(n_y,2**n_x)\n",
    "    prob_ft = np.zeros((x_ind.size+1,n_y+1))\n",
    "    for i in range(x_ind.size):\n",
    "        prob_ft[:-1,:-1] = q.T\n",
    "    prob_ft[:-1,-1] = entropy_bernoulli(q.T).sum(axis=1)    \n",
    "    prob_ft[-1,:] = (x_dist.reshape(-1,1)*prob_ft[:-1,:]).sum(axis=0)\n",
    "    \n",
    "    y_ind = np.arange(2**n_y)\n",
    "    Y = binarilize(y_ind,n_y)  #(n_y,2**n_y)\n",
    "    prob_cat = np.zeros((x_ind.size+1,2**n_y+1))\n",
    "    for i in range(x_ind.size):\n",
    "        prob_cat[i,:-1] = np.prod(q[:,i:i+1]**Y * (1-q[:,i:i+1])**(1-Y),axis=0)\n",
    "    prob_cat[:-1,-1] = entropy(prob_cat[:-1,:-1])\n",
    "    prob_cat[-1,:] = (x_dist.reshape(-1,1)*prob_cat[:-1,:]).sum(axis=0)\n",
    "    return prob_ft,prob_cat"
   ]
  },
  {
   "cell_type": "code",
   "execution_count": 11,
   "id": "58c80b1b",
   "metadata": {},
   "outputs": [],
   "source": [
    "def decimalize(bnr):\n",
    "    \"\"\"\n",
    "    Arguments: bnr -- numpy array of binary values {0,1}, of shape (width,n)\n",
    "    Returns: dcm -- a decimalized intger array in range [0,2**width), shape (n,)\n",
    "    \"\"\"\n",
    "    width = bnr.shape[0]\n",
    "    n = bnr.shape[1]\n",
    "    dcm = np.zeros(n,dtype=int)\n",
    "    for i in range(n):\n",
    "        binary = ''.join(bnr[:,i].reshape(width,).astype(str))\n",
    "        dcm[i] = int(binary,2)\n",
    "    return dcm"
   ]
  },
  {
   "cell_type": "code",
   "execution_count": 12,
   "id": "cc1ef0a5",
   "metadata": {},
   "outputs": [],
   "source": [
    "def binarilize(dcm,width):\n",
    "    \"\"\"\n",
    "    Arguments: dcm -- a decimalized intger array in range [0,2**width), shape (n,)\n",
    "    Returns:   bnr -- numpy array of binary values {0,1}, of shape (width,n)\n",
    "    \"\"\"\n",
    "    n = len(dcm)\n",
    "    bnr = np.zeros((width,n),dtype=int)\n",
    "    for i in range(n):\n",
    "        bnr[:,i:i+1] = np.array(list(np.binary_repr(dcm[i], width=width))).astype(int).reshape(-1,1)\n",
    "    return bnr"
   ]
  },
  {
   "cell_type": "code",
   "execution_count": 351,
   "id": "58e9bf3a",
   "metadata": {},
   "outputs": [],
   "source": [
    "def entropy(arr):\n",
    "    \"\"\"\n",
    "    row entropy\n",
    "    \"\"\"\n",
    "    p = arr/arr.sum(axis=1,keepdims=True)\n",
    "    H = -(p*np.ma.log(p)).sum(axis=1)\n",
    "    H = np.array(H)\n",
    "    return H"
   ]
  },
  {
   "cell_type": "code",
   "execution_count": 352,
   "id": "ae9b597a",
   "metadata": {},
   "outputs": [],
   "source": [
    "def entropy_bernoulli(p):\n",
    "    \"\"\"\n",
    "    Entropy of multi-variate independent Bernoulli distributions\n",
    "    Arguments:\n",
    "    p -- numpy array of bernoulli probabilities p(x=1)\n",
    "    Returns:\n",
    "    entropy_b -- entropy of each variable, same shape as p\n",
    "    \"\"\"\n",
    "    entropy_b = -(p*np.ma.log(p) + (1-p)*np.ma.log(1-p))\n",
    "    entropy_b = np.array(entropy_b)\n",
    "    return entropy_b"
   ]
  },
  {
   "cell_type": "code",
   "execution_count": 580,
   "id": "5051c7e1",
   "metadata": {},
   "outputs": [],
   "source": [
    "class Helmholtz_machine:\n",
    "\n",
    "    def __init__(self, n_dz, activation_type, init_lr = 0.1):\n",
    "        \"\"\"\n",
    "        Arguments:\n",
    "        n_dz -- number of neurons for each layer, numpy array of shape (n+1,m), where m is the number of instantiation layers, \n",
    "        n is the maximum number of inserted layers between adjacent instantiation layers\n",
    "        activation_type -- we provide 2 choices of activation functions: tanh(x) and sigmoid(x)\n",
    "        init_lr -- initial learning rate, decimal number\n",
    "        \n",
    "        Returns:\n",
    "        n_layer -- number of instantiation layers\n",
    "        lr -- different learning rate for each submodule, numpy array of shape (2,m-1)\n",
    "        \"\"\"\n",
    "        self.n_dz = n_dz\n",
    "        self.n_layer = self.n_dz.shape[1]\n",
    "        self.n_d = n_dz[0,0]\n",
    "        self.ac = activation_type\n",
    "        self.lr = np.ones((2,self.n_layer-1))*init_lr\n",
    "        \n",
    "    def parameter_init(self,init_type,value_set):\n",
    "        \"\"\"\n",
    "        Arguments:\n",
    "        init_type -- \"zero\" or \"random\", \"zero\" assigns 0 to all parameters, \"random\" samples from standard Gaussian\n",
    "        value_set -- numpy array [a,b], binary outcomes as {positive, negative}\n",
    "\n",
    "        Returns:\n",
    "        Phi, Theta -- -2 column bias, -1 column scale. \n",
    "        Eg. {Phi_01:{Phi_01,Phi_12}, Phi_12:{Phi_01,Phi_12,Phi_23}}, dictionary of dictionary\n",
    "        Norm_wake, Norm_sleep -- statistical mean and variance of each pre-activation layer. Norm_wake's last dic is idle.\n",
    "        Dictionary of dictionary, numpy array of shape (n_neuron+1,3), \n",
    "        last row is counts, column 1: sum(z_i); column 2: sum(z_i**2); column 3: bias placeholder\n",
    "        Scalar -- numpy array of shape (n_layer,2), binary outcomes of every sample layer, shared between wake and sleep phases\n",
    "        \"\"\"\n",
    "        Phi = {}\n",
    "        Theta = {}\n",
    "        Norm_wake = {}\n",
    "        Norm_sleep = {}\n",
    "        \n",
    "        for i in range(self.n_layer-1):\n",
    "            Phi[\"Phi_\"+str(i)+str(i+1)],Theta[\"Theta_\"+str(i+1)+str(i)],Norm_wake['sl_'+str(i+1)], Norm_sleep['sl_'+str(i)] \\\n",
    "            = one_step_para_init(self.n_dz[:,i:i+2],init_type)\n",
    "            \n",
    "        self.Phi = Phi\n",
    "        self.Theta = Theta\n",
    "        self.Norm_wake = Norm_wake\n",
    "        self.Norm_sleep = Norm_sleep\n",
    "        self.Scalar = np.repeat(value_set.reshape(1,-1),self.n_layer,axis=0)\n",
    "    \n",
    "    def set_control(self,Fz_binary,fz_scale=True,fz_W=False,layer_norm=False,layer_norm_rate=2):\n",
    "        \"\"\"\n",
    "        Arguments:\n",
    "        Fz_binary -- Boolean list of size n_layer, with last entry always as True\n",
    "        Fz_scale -- Boolean list of size n_layer-1, with last entry always as True. \n",
    "        If True, last 2 columns of phi are fixed; if False, update adaptive scale and bias\n",
    "        fz_W -- True or Flase. If True, freeze weights; if False, update weights\n",
    "        layer_norm -- True or Flase, whether to adjust row distribution of W (more evenly distributed) by adjusting the \n",
    "        updating rate \"layer_norm_rate\" of dW\n",
    "        \"\"\"\n",
    "        self.Fz_binary = Fz_binary\n",
    "        self.fz_scale = fz_scale\n",
    "        self.fz_W = fz_W\n",
    "        self.layer_norm = layer_norm\n",
    "        self.ln_rate = layer_norm_rate\n",
    "        if np.any(np.array(Fz_binary) == False):\n",
    "            self.Scalar = self.Scalar.astype(float)\n",
    "    \n",
    "    def wake_sample(self,d0,add_norm=True):\n",
    "        \"\"\"\n",
    "        Stochastic sample in wake phase\n",
    "        Arguments:\n",
    "        d0 -- input pattern in {0,1}, numpy array of shape (n_d, 1)\n",
    "\n",
    "        Returns:\n",
    "        Alpha_Q -- assignment of each neuron (binary value), Python dictionary of length m with each key-value pair being \n",
    "        a numpy array of shape (n_dz[0,i], 1),i = 0,...m-1\n",
    "        Norm -- updated mean and variance on every sampling\n",
    "        \"\"\"\n",
    "        a = self.Scalar[0,0]\n",
    "        b = self.Scalar[0,1]\n",
    "        S = d0*(a-b)+b  # input layer\n",
    "        Alpha_Q = {\"z0\":S}\n",
    "        for i in range(self.n_layer-2):\n",
    "            G,q = one_step_forward(S,self.ac,self.Phi[\"Phi_\"+str(i)+str(i+1)],self.Norm_wake['sl_'+str(i+1)],add_norm)\n",
    "            a = self.Scalar[i+1,0]\n",
    "            b = self.Scalar[i+1,1]\n",
    "            S = ((q > np.random.rand(len(q),1)).astype(int))*(a-b)+b\n",
    "            Alpha_Q[\"z\"+str(i+1)] = S\n",
    "        Alpha_Q[\"z\"+str(self.n_layer-1)] = [[1]]\n",
    "        return Alpha_Q\n",
    "    \n",
    "    def sleep_sample(self,add_norm=True):\n",
    "        \"\"\"\n",
    "        Stochastic sample in sleep phase\n",
    "        Returns:\n",
    "        Alpha_P -- assignment of each neuron (binary value), Python dictionary of length m with each key-value pair being \n",
    "        a numpy array of shape (n_dz[0,i], 1),i = m-1,...,0\n",
    "        \"\"\"\n",
    "        S = [[1]]\n",
    "        Alpha_P = {\"z\"+str(self.n_layer-1):S}\n",
    "        for i in range(self.n_layer-1,0,-1):\n",
    "            G,p = one_step_forward(S,self.ac,self.Theta[\"Theta_\"+str(i)+str(i-1)],self.Norm_sleep['sl_'+str(i-1)],add_norm)\n",
    "            a = self.Scalar[i-1,0]\n",
    "            b = self.Scalar[i-1,1]\n",
    "            S = ((p > np.random.rand(len(p),1)).astype(int))*(a-b)+b   # rejection sampling as a or b\n",
    "            Alpha_P[\"z\"+str(i-1)] = S\n",
    "        return Alpha_P\n",
    "    \n",
    "    def wake_update(self,Alpha_P,add_norm=True,check_lr=False):\n",
    "        \"\"\"\n",
    "        Arguments:\n",
    "        Alpha_P -- assignment of each neuron (binary value), Python dictionary of length m with each key-value pair being \n",
    "        a numpy array of shape (n_dz[0,i], 1),i = m-1,...,0\n",
    "\n",
    "        Returns:\n",
    "        Phi, [a_x,b_x]\n",
    "        Loss -- numpy array of length m-1; the first m-2 values are layer loss, the last term is the total loss\n",
    "        Grad_set -- gradients of parameters\n",
    "        \"\"\"\n",
    "        Loss = np.zeros(self.n_layer)\n",
    "        Grad_set = {}\n",
    "        for i in range(self.n_layer-2):\n",
    "            x = Alpha_P['z'+str(i)]\n",
    "            y = Alpha_P['z'+str(i+1)]\n",
    "            G,q = one_step_forward(x,self.ac,self.Phi[\"Phi_\"+str(i)+str(i+1)],self.Norm_wake['sl_'+str(i+1)],add_norm)    \n",
    "            \n",
    "            self.Scalar[i,:],self.lr[0,i],loss,Grad_set[\"grad_Phi_\"+str(i)+str(i+1)] = one_step_update(x,y,G,self.ac,\\\n",
    "             self.Phi[\"Phi_\"+str(i)+str(i+1)],self.Scalar[[i,i+1],:],self.Norm_wake['sl_'+str(i+1)],self.lr[0,i],\\\n",
    "                self.Fz_binary[i],self.fz_scale,self.fz_W,self.layer_norm,self.ln_rate,check_lr)\n",
    "            Loss[i] = loss\n",
    "            Loss[-1] += loss\n",
    "        return Loss,Grad_set\n",
    "    \n",
    "    def sleep_update(self,Alpha_Q,add_norm=True,check_lr=False):\n",
    "        \"\"\"\n",
    "        Arguments:\n",
    "        Alpha_Q -- assignment of each neuron (binary value), Python dictionary of length m with each key-value pair being \n",
    "        a numpy array of shape (n_dz[0,i], 1),i = m-1,...,0\n",
    "\n",
    "        Returns:\n",
    "        Theta, [a_x,b_x]\n",
    "        Loss -- numpy array of length m-1; the first m-2 values are layer loss, the last term is the total loss\n",
    "        Grad_set -- gradients of parameters\n",
    "        \"\"\"\n",
    "        Loss = np.zeros(self.n_layer)\n",
    "        Grad_set = {}\n",
    "        for i in range(self.n_layer-1,0,-1):\n",
    "            x = Alpha_Q['z'+str(i)]\n",
    "            y = Alpha_Q['z'+str(i-1)]\n",
    "            G,p = one_step_forward(x,self.ac,self.Theta[\"Theta_\"+str(i)+str(i-1)],self.Norm_sleep['sl_'+str(i-1)],add_norm)\n",
    "            \n",
    "            self.Scalar[i,:],self.lr[1,i-1],loss,Grad_set[\"grad_Theta_\"+str(i)+str(i-1)] = one_step_update(x,y,G,self.ac,\\\n",
    "                self.Theta[\"Theta_\"+str(i)+str(i-1)],self.Scalar[[i,i-1],:],self.Norm_sleep['sl_'+str(i-1)],self.lr[1,i-1],\\\n",
    "                self.Fz_binary[i],self.fz_scale,self.fz_W,self.layer_norm,self.ln_rate,check_lr)\n",
    "            Loss[i-1] = loss\n",
    "            Loss[-1] += loss\n",
    "        return Loss,Grad_set\n",
    "    \n",
    "    # update statistics\n",
    "    def norm_update(self):\n",
    "        \"\"\"\n",
    "        After eg.1000 steps,\n",
    "        Normalize layer pre-activation linear term to mean 0, variance 1 and offset norm matrices to count 0\n",
    "        Check current learning rate, and update it if needed\n",
    "        Check parameters, see if each matrix rows are evenly distributed, consider turning layer_norm on\n",
    "        \n",
    "        After enough training,\n",
    "        For last 2 columns of parameter matrix, adaptive scale and bias, may turn it on\n",
    "        For Scalar, binary values for each layer, could modify it by training\n",
    "        \"\"\"\n",
    "        for i in range(self.n_layer-2):\n",
    "            one_step_norm_update(self.Phi[\"Phi_\"+str(i)+str(i+1)],self.Norm_wake['sl_'+str(i+1)])\n",
    "        for i in range(self.n_layer-1,0,-1):\n",
    "            one_step_norm_update(self.Theta[\"Theta_\"+str(i)+str(i-1)],self.Norm_sleep['sl_'+str(i-1)])\n",
    "            \n",
    "    def check_learning_rate(self,Alpha_P,Alpha_Q):\n",
    "        self.wake_update(Alpha_P,add_norm=False,check_lr=True) # see self.lr\n",
    "        self.sleep_update(Alpha_Q,add_norm=False,check_lr=True)\n",
    "    \n",
    "    # Compute latent statistics\n",
    "    def wake_sample_batch(self,D,add_norm=False):\n",
    "        \"\"\"\n",
    "        Arguments:\n",
    "        D -- data distriution represented in {0,1}, numpy array of shape (n_d, n_data)\n",
    "        Returns:\n",
    "        Alpha_Q_bnr -- assignment of each neuron as {1,0}, Python dictionary of length m with each key-value pair being \n",
    "        a numpy array of shape (n_dz[0,i], n_data),i = 0,...m-1\n",
    "        Norm -- updated mean and variance on every sampling\n",
    "        \"\"\"\n",
    "        n_data = D.shape[1]\n",
    "        a = self.Scalar[0,0]\n",
    "        b = self.Scalar[0,1]\n",
    "        S = D*(a-b)+b  # input layer\n",
    "        Alpha_Q_bnr = {\"z0\":D}\n",
    "        for i in range(self.n_layer-2):\n",
    "            G,q = one_step_forward(S,self.ac,self.Phi[\"Phi_\"+str(i)+str(i+1)],self.Norm_wake['sl_'+str(i+1)],add_norm)\n",
    "            a = self.Scalar[i+1,0]\n",
    "            b = self.Scalar[i+1,1]\n",
    "            S_bnr = (q > np.random.rand(len(q),n_data)).astype(int)\n",
    "            S = S_bnr*(a-b)+b\n",
    "            Alpha_Q_bnr[\"z\"+str(i+1)] = S_bnr\n",
    "        return Alpha_Q_bnr\n",
    "    \n",
    "    def sleep_sample_batch(self,n_sample,add_norm=False):\n",
    "        \"\"\"\n",
    "        Returns:\n",
    "        Alpha_P_bnr -- assignment of each neuron (binary value) as {1,0}, Python dictionary of length m with each key-value pair \n",
    "        being a numpy array of shape (n_dz[0,i], n_data),i = m-1,...,0\n",
    "        \"\"\"\n",
    "        S = np.ones((1,n_sample))\n",
    "        Alpha_P_bnr = {\"z\"+str(self.n_layer-1):S}\n",
    "        for i in range(self.n_layer-1,0,-1):\n",
    "            G,p = one_step_forward(S,self.ac,self.Theta[\"Theta_\"+str(i)+str(i-1)],self.Norm_sleep['sl_'+str(i-1)],add_norm)\n",
    "            a = self.Scalar[i-1,0]\n",
    "            b = self.Scalar[i-1,1]\n",
    "            S_bnr = (p > np.random.rand(len(p),n_sample)).astype(int)\n",
    "            S = S_bnr*(a-b)+b   # rejection sampling as a or b\n",
    "            Alpha_P_bnr[\"z\"+str(i-1)] = S_bnr\n",
    "        return Alpha_P_bnr\n",
    "    \n",
    "    # Compute latent distribution\n",
    "    def prob_matrix(self,data_dist):\n",
    "        # H(Y|x) & H(Y|X)\n",
    "        self.Prob_ft_wake = {}\n",
    "        self.Prob_cat_wake = {}\n",
    "        self.Prob_ft_sleep = {}\n",
    "        self.Prob_cat_sleep = {}\n",
    "        dist = data_dist\n",
    "        for i in range(self.n_layer-2):\n",
    "            self.Prob_ft_wake[\"Prob_\"+str(i)+str(i+1)],self.Prob_cat_wake[\"Prob_\"+str(i)+str(i+1)] = one_step_prob_matrix(\\\n",
    "                dist,self.ac,self.n_dz[0,i],self.Phi[\"Phi_\"+str(i)+str(i+1)],self.Norm_wake['sl_'+str(i+1)])\n",
    "            dist = self.Prob_cat_wake[\"Prob_\"+str(i)+str(i+1)][-1,:-1]\n",
    "        \n",
    "        dist = np.array([[1]])\n",
    "        for i in range(self.n_layer-1,0,-1):\n",
    "            self.Prob_ft_sleep[\"Prob_\"+str(i)+str(i-1)],self.Prob_cat_sleep[\"Prob_\"+str(i)+str(i-1)] = one_step_prob_matrix(\\\n",
    "                dist,self.ac,self.n_dz[0,i],self.Theta[\"Theta_\"+str(i)+str(i-1)],self.Norm_sleep['sl_'+str(i-1)])\n",
    "            dist = self.Prob_cat_sleep[\"Prob_\"+str(i)+str(i-1)][-1,:-1]\n",
    "            \n",
    "    def MI_wake_sample(self,d0,Count_ft,Count_cat,add_norm=True):\n",
    "        \"\"\"\n",
    "        Sample by maximizing mutual information\n",
    "        Arguments:\n",
    "        d0 -- input pattern in {0,1}, numpy array of shape (n_d, 1)\n",
    "\n",
    "        Returns:\n",
    "        Alpha_Q -- assignment of each neuron (binary value), Python dictionary of length m with each key-value pair being \n",
    "        a numpy array of shape (n_dz[0,i], 1),i = 0,...m-1\n",
    "        Norm -- updated mean and variance on every sampling\n",
    "        \"\"\"\n",
    "        a = self.Scalar[0,0]\n",
    "        b = self.Scalar[0,1]\n",
    "        S = d0*(a-b)+b  # input layer\n",
    "        Alpha_Q = {\"z0\":S}\n",
    "        keys = [*Count_ft]\n",
    "        for i in range(self.n_layer-2):\n",
    "            G,q = one_step_forward(S,self.ac,self.Phi[\"Phi_\"+str(i)+str(i+1)],self.Norm_wake['sl_'+str(i+1)],add_norm)\n",
    "            a = self.Scalar[i+1,0]\n",
    "            b = self.Scalar[i+1,1]\n",
    "            S = Mutual_inform(q,Count_ft[keys[i]],Count_cat[keys[i]])\n",
    "            Alpha_Q[\"z\"+str(i+1)] = S*(a-b)+b\n",
    "        Alpha_Q[\"z\"+str(self.n_layer-1)] = [[1]]\n",
    "        return Alpha_Q\n",
    "        "
   ]
  },
  {
   "cell_type": "markdown",
   "id": "63b18a02",
   "metadata": {},
   "source": [
    "#### Initialize model"
   ]
  },
  {
   "cell_type": "code",
   "execution_count": 1021,
   "id": "d873ec25",
   "metadata": {},
   "outputs": [
    {
     "data": {
      "text/plain": [
       "array([[12, 10,  8,  6,  3,  1],\n",
       "       [ 0,  0,  0,  0,  0,  0],\n",
       "       [ 0,  0,  0,  0,  0,  0]])"
      ]
     },
     "execution_count": 1021,
     "metadata": {},
     "output_type": "execute_result"
    }
   ],
   "source": [
    "structure = [[12,10,8,6,3,1],\n",
    "             [0,0, 0,0,0,0],\n",
    "             [0,0, 0,0,0,0]]\n",
    "n_dz = np.array(structure)\n",
    "n_dz"
   ]
  },
  {
   "cell_type": "code",
   "execution_count": 778,
   "id": "2ca95682",
   "metadata": {},
   "outputs": [
    {
     "data": {
      "text/plain": [
       "array([[10,  8,  6,  3,  1]])"
      ]
     },
     "execution_count": 778,
     "metadata": {},
     "output_type": "execute_result"
    }
   ],
   "source": [
    "structure = [[10,8,6,3,1]]\n",
    "n_dz = np.array(structure)\n",
    "n_dz"
   ]
  },
  {
   "cell_type": "code",
   "execution_count": 1022,
   "id": "1f4e77d0",
   "metadata": {},
   "outputs": [],
   "source": [
    "HM = Helmholtz_machine(n_dz,'sigmoid',init_lr=0.1)"
   ]
  },
  {
   "cell_type": "code",
   "execution_count": 1023,
   "id": "827dc9c0",
   "metadata": {},
   "outputs": [
    {
     "data": {
      "text/plain": [
       "array([1, 0])"
      ]
     },
     "execution_count": 1023,
     "metadata": {},
     "output_type": "execute_result"
    }
   ],
   "source": [
    "value_set = np.array([1,0])\n",
    "value_set"
   ]
  },
  {
   "cell_type": "code",
   "execution_count": 1024,
   "id": "598d02be",
   "metadata": {},
   "outputs": [],
   "source": [
    "HM.parameter_init('zero',value_set)"
   ]
  },
  {
   "cell_type": "code",
   "execution_count": 1025,
   "id": "7c575a99",
   "metadata": {},
   "outputs": [],
   "source": [
    "Fz_binary = [True]*HM.n_layer"
   ]
  },
  {
   "cell_type": "code",
   "execution_count": 1026,
   "id": "040fb3e0",
   "metadata": {},
   "outputs": [],
   "source": [
    "HM.set_control(Fz_binary,fz_scale=True,fz_W=False,layer_norm=False,layer_norm_rate=2)"
   ]
  },
  {
   "cell_type": "markdown",
   "id": "b3b0adb5",
   "metadata": {},
   "source": [
    "#### Dataset"
   ]
  },
  {
   "cell_type": "code",
   "execution_count": 22,
   "id": "0fe4a62c",
   "metadata": {},
   "outputs": [
    {
     "data": {
      "text/plain": [
       "(12, 627)"
      ]
     },
     "execution_count": 22,
     "metadata": {},
     "output_type": "execute_result"
    }
   ],
   "source": [
    "dataset = np.load('self_org_dataset.npy')\n",
    "dataset = dataset.astype(int)\n",
    "dataset.shape"
   ]
  },
  {
   "cell_type": "code",
   "execution_count": 936,
   "id": "d248015a",
   "metadata": {},
   "outputs": [],
   "source": [
    "def random_generate(k,n,n_data):\n",
    "    \"\"\"\n",
    "    The dataset is generated in a favor of Bayesian mixure of Gaussians. Given k mixture Gaussian components, we sample their \n",
    "    means u_1...u_k uniformly from [0,1]. Then we randomly assign each data to one of the components, and sample from its \n",
    "    Gaussian distribution (u_k, sigma). sigma is a hyperparameter, we default it to 1.\n",
    "    \n",
    "    The \"Bayesian mixure of Gaussians\" generation is just a way to generate dataset with non-singular distributions. The \n",
    "    generated data distribution is not identified with the mixure of Gaussian distributions that generated it. In other words, \n",
    "    the data is treated as sole evidence without any prior on how it's been generated thus its reconstruction is not convolved \n",
    "    with it's generative distributions, which is a major difference from varietional inference.\n",
    "        \n",
    "    Arguments:\n",
    "    k -- number of Gaussian components\n",
    "    n -- length of input layer (single data point)\n",
    "    n_data -- number of datapoints to generate\n",
    "    value_set -- list or array [a,b], where a is the positive outcome and b is the negative outcome of a Bernoulli experiment\n",
    "    \n",
    "    Returns:\n",
    "    random_set -- generated dataset, numpy array of shape (n,n_data), n_data is the number of datapoints in the generated dataset\n",
    "    \"\"\"\n",
    "    u = np.random.rand(n,k)\n",
    "    c = np.random.randint(k, size=(n_data,))\n",
    "    data_mean = u[:,c]\n",
    "    prob = np.random.randn(n,n_data) + data_mean\n",
    "    random_set = (prob>0.5).astype(int)\n",
    "    \n",
    "    values_c, counts_c = np.unique(c,return_counts=True)\n",
    "    component_p = counts_c/n_data\n",
    "    \n",
    "    return random_set,u,component_p"
   ]
  },
  {
   "cell_type": "code",
   "execution_count": 944,
   "id": "7cbda8cb",
   "metadata": {},
   "outputs": [
    {
     "data": {
      "text/plain": [
       "(10, 383)"
      ]
     },
     "execution_count": 944,
     "metadata": {},
     "output_type": "execute_result"
    }
   ],
   "source": [
    "k = 8\n",
    "n_data = 500\n",
    "random_set,u,component_p = random_generate(k,HM.n_d,n_data)\n",
    "dataset = random_set\n",
    "np.unique(random_set,axis=1).shape"
   ]
  },
  {
   "cell_type": "code",
   "execution_count": 945,
   "id": "edc2b520",
   "metadata": {},
   "outputs": [
    {
     "data": {
      "text/plain": [
       "array([0.126, 0.132, 0.114, 0.12 , 0.146, 0.13 , 0.116, 0.116])"
      ]
     },
     "execution_count": 945,
     "metadata": {},
     "output_type": "execute_result"
    }
   ],
   "source": [
    "component_p"
   ]
  },
  {
   "cell_type": "code",
   "execution_count": 946,
   "id": "18d301ae",
   "metadata": {},
   "outputs": [
    {
     "data": {
      "text/plain": [
       "array([[0.31000691, 0.70705492, 0.66282804, 0.33058292, 0.99734494,\n",
       "        0.82825578, 0.86543457, 0.41716147],\n",
       "       [0.25026408, 0.82457611, 0.52687069, 0.87229525, 0.60063354,\n",
       "        0.10969735, 0.1359569 , 0.96229185],\n",
       "       [0.52422602, 0.32307349, 0.48598781, 0.29753016, 0.07446851,\n",
       "        0.97631161, 0.38990349, 0.28920829],\n",
       "       [0.27460795, 0.52722363, 0.39706085, 0.92661888, 0.59253813,\n",
       "        0.99632016, 0.62128343, 0.38777109],\n",
       "       [0.4335757 , 0.75956661, 0.23836805, 0.31720062, 0.93048861,\n",
       "        0.10344993, 0.15122345, 0.0087226 ],\n",
       "       [0.81590984, 0.07676552, 0.34931641, 0.50871421, 0.97451889,\n",
       "        0.69881946, 0.64738423, 0.93252376],\n",
       "       [0.65442177, 0.18794601, 0.20403671, 0.02694528, 0.48370759,\n",
       "        0.69817888, 0.27195381, 0.70968829],\n",
       "       [0.07703212, 0.92356707, 0.90895442, 0.93595839, 0.70656691,\n",
       "        0.68224315, 0.47666406, 0.44134758],\n",
       "       [0.66515227, 0.1912888 , 0.81388124, 0.11849184, 0.88872096,\n",
       "        0.62979729, 0.32008572, 0.05697686],\n",
       "       [0.80834158, 0.62704257, 0.89085536, 0.41584824, 0.2610916 ,\n",
       "        0.24074829, 0.64659141, 0.09400462]])"
      ]
     },
     "execution_count": 946,
     "metadata": {},
     "output_type": "execute_result"
    }
   ],
   "source": [
    "u"
   ]
  },
  {
   "cell_type": "markdown",
   "id": "b0879612",
   "metadata": {},
   "source": [
    "#### Instrument component dataset"
   ]
  },
  {
   "cell_type": "code",
   "execution_count": 1102,
   "id": "75937e9a",
   "metadata": {},
   "outputs": [
    {
     "data": {
      "text/plain": [
       "{2: array([[0.86388174],\n",
       "        [0.45670124],\n",
       "        [0.54593412],\n",
       "        [0.55418471],\n",
       "        [0.16047088],\n",
       "        [0.66627381]]),\n",
       " 3: array([[0.49835991],\n",
       "        [0.53809182],\n",
       "        [0.94986381],\n",
       "        [0.06240019]]),\n",
       " 4: array([[0.0442892 ],\n",
       "        [0.20041164],\n",
       "        [0.47470232]]),\n",
       " 6: array([[0.15522686],\n",
       "        [0.85507215]]),\n",
       " 8: array([[0.15052243]]),\n",
       " 10: array([[0.65007622]])}"
      ]
     },
     "execution_count": 1102,
     "metadata": {},
     "output_type": "execute_result"
    }
   ],
   "source": [
    "n_instr = 6\n",
    "st = 4\n",
    "step = np.array([2,3,4,6,8,10]) # same length as n_instr\n",
    "n_neuron = 12\n",
    "period = (n_neuron/step).astype(int)\n",
    "p_instr = {}\n",
    "for i in range(n_instr):\n",
    "    p_instr[step[i]] = np.random.rand(period[i],1)\n",
    "p_instr"
   ]
  },
  {
   "cell_type": "code",
   "execution_count": 1137,
   "id": "840bdf60",
   "metadata": {},
   "outputs": [],
   "source": [
    "n_data = 1000\n",
    "keys_p = [*p_instr]\n",
    "dataset = np.zeros((n_neuron,n_data))\n",
    "for i in range(n_instr):\n",
    "    q = p_instr[keys_p[i]]\n",
    "    sample = (q > np.random.rand(len(q),n_data)).astype(int)\n",
    "    start = np.random.randint(st,size=n_data)\n",
    "    \n",
    "    step = keys_p[i]\n",
    "    for j in range(n_data):\n",
    "        x = np.arange(start[j],n_neuron,step)\n",
    "        dataset[x,j] += sample[:x.size,j]"
   ]
  },
  {
   "cell_type": "code",
   "execution_count": 1138,
   "id": "ade3b227",
   "metadata": {},
   "outputs": [
    {
     "data": {
      "text/plain": [
       "array([0.511, 0.457, 0.551, 0.611, 0.397, 0.361, 0.662, 0.581, 0.579,\n",
       "       0.584, 0.454, 0.436])"
      ]
     },
     "execution_count": 1138,
     "metadata": {},
     "output_type": "execute_result"
    }
   ],
   "source": [
    "dataset = (dataset>0).astype(int)\n",
    "dataset.sum(axis=1)/n_data"
   ]
  },
  {
   "cell_type": "code",
   "execution_count": 1139,
   "id": "1b481c17",
   "metadata": {},
   "outputs": [
    {
     "data": {
      "text/plain": [
       "(12, 692)"
      ]
     },
     "execution_count": 1139,
     "metadata": {},
     "output_type": "execute_result"
    }
   ],
   "source": [
    "np.unique(dataset,axis=1).shape"
   ]
  },
  {
   "cell_type": "code",
   "execution_count": 1140,
   "id": "137485a8",
   "metadata": {},
   "outputs": [
    {
     "data": {
      "text/plain": [
       "array([0., 0., 0., ..., 0., 0., 0.])"
      ]
     },
     "execution_count": 1140,
     "metadata": {},
     "output_type": "execute_result"
    }
   ],
   "source": [
    "n_data = dataset.shape[1]\n",
    "data_dcm = decimalize(dataset)\n",
    "values_d,counts_d = np.unique(data_dcm,return_counts=True)\n",
    "data_dist = np.zeros(2**HM.n_d)\n",
    "data_dist[values_d]=counts_d/n_data\n",
    "data_dist"
   ]
  },
  {
   "cell_type": "code",
   "execution_count": 1141,
   "id": "fc9705c4",
   "metadata": {},
   "outputs": [
    {
     "data": {
      "text/plain": [
       "array([[0, 0, 0, ..., 1, 1, 1],\n",
       "       [0, 0, 0, ..., 1, 1, 1],\n",
       "       [0, 0, 0, ..., 1, 1, 1],\n",
       "       ...,\n",
       "       [0, 0, 0, ..., 1, 1, 1],\n",
       "       [0, 0, 1, ..., 0, 1, 1],\n",
       "       [0, 1, 0, ..., 1, 0, 1]])"
      ]
     },
     "execution_count": 1141,
     "metadata": {},
     "output_type": "execute_result"
    }
   ],
   "source": [
    "entire_set = binarilize(np.arange(2**HM.n_d),HM.n_d)\n",
    "entire_set"
   ]
  },
  {
   "cell_type": "code",
   "execution_count": 1142,
   "id": "720afc55",
   "metadata": {},
   "outputs": [
    {
     "data": {
      "text/plain": [
       "array([511, 457, 551, 611, 397, 361, 662, 581, 579, 584, 454, 436])"
      ]
     },
     "execution_count": 1142,
     "metadata": {},
     "output_type": "execute_result"
    }
   ],
   "source": [
    "dataset.sum(axis=1)"
   ]
  },
  {
   "cell_type": "markdown",
   "id": "2052aa57",
   "metadata": {},
   "source": [
    "#### Train the model"
   ]
  },
  {
   "cell_type": "code",
   "execution_count": 1143,
   "id": "5dd3291d",
   "metadata": {},
   "outputs": [],
   "source": [
    "epoch = 100\n",
    "add_norm = False"
   ]
  },
  {
   "cell_type": "code",
   "execution_count": 1144,
   "id": "7e4d8def",
   "metadata": {},
   "outputs": [
    {
     "name": "stdout",
     "output_type": "stream",
     "text": [
      "Loss_Q: [2.71 1.12 1.65 1.02 0.   6.51] Loss_P: [ 5.81  3.65  1.48  1.99  1.26 14.19]\n",
      "Loss_Q: [2.78 1.14 1.57 1.01 0.   6.5 ] Loss_P: [ 5.84  3.71  1.44  2.06  1.24 14.3 ]\n",
      "Loss_Q: [3.12 1.15 2.1  1.03 0.   7.41] Loss_P: [ 5.78  4.03  1.48  2.43  1.32 15.04]\n",
      "Loss_Q: [2.99 1.19 2.08 0.92 0.   7.18] Loss_P: [ 5.83  4.07  1.42  2.37  1.21 14.91]\n",
      "Loss_Q: [3.18 1.14 2.01 0.97 0.   7.3 ] Loss_P: [ 5.76  4.27  1.3   2.33  1.37 15.03]\n",
      "Loss_Q: [3.06 1.14 2.   0.93 0.   7.14] Loss_P: [ 5.94  3.97  1.24  2.16  1.5  14.81]\n",
      "Loss_Q: [2.92 1.05 1.92 1.09 0.   6.98] Loss_P: [ 5.91  3.79  1.29  2.1   1.53 14.61]\n",
      "Loss_Q: [3.11 1.11 1.88 1.19 0.   7.29] Loss_P: [ 5.88  3.98  1.31  2.11  1.55 14.83]\n",
      "Loss_Q: [2.98 1.06 1.83 1.24 0.   7.1 ] Loss_P: [ 6.    3.88  1.31  2.05  1.58 14.82]\n",
      "Loss_Q: [2.98 1.14 1.73 1.27 0.   7.12] Loss_P: [ 5.93  3.9   1.26  2.06  1.67 14.82]\n",
      "Loss_Q: [3.23 1.25 1.97 1.23 0.   7.68] Loss_P: [ 5.94  4.03  1.35  2.19  1.71 15.22]\n",
      "Loss_Q: [3.54 1.26 1.91 1.11 0.   7.82] Loss_P: [ 5.86  4.42  1.37  2.2   1.6  15.45]\n",
      "Loss_Q: [3.48 1.5  1.73 1.16 0.   7.87] Loss_P: [ 5.82  4.27  1.51  2.16  1.61 15.37]\n",
      "Loss_Q: [3.51 1.34 1.9  0.82 0.   7.57] Loss_P: [ 5.93  4.25  1.44  2.29  1.32 15.23]\n",
      "Loss_Q: [3.37 1.4  1.56 1.05 0.   7.38] Loss_P: [ 5.94  4.04  1.53  1.99  1.47 14.96]\n",
      "Loss_Q: [3.54 1.32 1.77 1.09 0.   7.71] Loss_P: [ 5.93  4.16  1.43  2.18  1.57 15.28]\n",
      "Loss_Q: [3.57 1.37 1.82 1.07 0.   7.82] Loss_P: [ 5.9   4.29  1.41  2.18  1.61 15.39]\n",
      "Loss_Q: [3.4  1.29 1.79 1.1  0.   7.59] Loss_P: [ 5.9   4.29  1.36  2.16  1.6  15.32]\n",
      "Loss_Q: [3.59 1.17 1.71 1.02 0.   7.49] Loss_P: [ 5.89  4.39  1.27  2.04  1.53 15.11]\n",
      "Loss_Q: [3.44 1.35 1.55 1.14 0.   7.47] Loss_P: [ 5.81  4.37  1.28  1.99  1.57 15.02]\n",
      "Loss_Q: [3.4  1.46 1.45 1.21 0.   7.51] Loss_P: [ 5.9   4.38  1.34  1.9   1.77 15.29]\n",
      "Loss_Q: [3.48 1.37 1.66 1.27 0.   7.78] Loss_P: [ 6.01  4.12  1.45  1.94  1.89 15.42]\n",
      "Loss_Q: [3.34 1.04 1.64 1.11 0.   7.13] Loss_P: [ 6.01  4.22  1.13  1.72  1.72 14.79]\n",
      "Loss_Q: [3.7  1.25 1.8  1.05 0.   7.8 ] Loss_P: [ 5.82  4.46  1.33  1.95  1.8  15.36]\n",
      "Loss_Q: [3.37 1.4  1.64 1.17 0.   7.57] Loss_P: [ 5.98  4.21  1.32  1.91  1.87 15.29]\n",
      "Loss_Q: [3.55 1.28 1.8  1.03 0.   7.66] Loss_P: [ 5.96  4.34  1.26  1.95  1.79 15.3 ]\n",
      "Loss_Q: [3.42 1.31 1.85 1.13 0.   7.72] Loss_P: [ 5.81  4.22  1.34  2.07  1.84 15.28]\n",
      "Loss_Q: [3.48 1.36 1.81 1.12 0.   7.76] Loss_P: [ 5.68  4.37  1.4   2.13  1.8  15.37]\n",
      "Loss_Q: [3.73 1.44 1.85 1.15 0.   8.17] Loss_P: [ 5.74  4.51  1.44  2.1   1.86 15.65]\n",
      "Loss_Q: [3.67 1.45 2.01 1.21 0.   8.35] Loss_P: [ 5.87  4.5   1.5   2.19  1.93 16.  ]\n",
      "Loss_Q: [3.93 1.6  2.02 1.08 0.   8.62] Loss_P: [ 5.79  4.81  1.43  2.31  1.72 16.07]\n",
      "Loss_Q: [3.77 1.4  1.95 1.1  0.   8.22] Loss_P: [ 5.85  4.54  1.55  2.2   1.7  15.85]\n",
      "Loss_Q: [3.95 1.4  2.04 1.07 0.   8.45] Loss_P: [ 5.86  4.74  1.33  2.38  1.66 15.98]\n",
      "Loss_Q: [3.83 1.44 2.17 0.98 0.   8.43] Loss_P: [ 5.76  4.88  1.27  2.44  1.62 15.97]\n",
      "Loss_Q: [3.49 1.36 1.99 1.1  0.   7.94] Loss_P: [ 5.96  4.49  1.27  2.25  1.64 15.61]\n",
      "Loss_Q: [3.6  1.29 2.18 1.15 0.   8.23] Loss_P: [ 5.83  4.52  1.3   2.64  1.6  15.89]\n",
      "Loss_Q: [3.93 1.45 2.41 1.2  0.   9.  ] Loss_P: [ 5.83  4.73  1.45  2.74  1.83 16.57]\n",
      "Loss_Q: [3.77 1.51 2.41 1.06 0.   8.75] Loss_P: [ 5.8   4.68  1.54  2.74  1.61 16.37]\n",
      "Loss_Q: [3.75 1.47 2.39 1.14 0.   8.75] Loss_P: [ 5.89  4.48  1.57  2.84  1.63 16.41]\n",
      "Loss_Q: [3.69 1.53 2.44 1.2  0.   8.85] Loss_P: [ 5.98  4.52  1.55  2.79  1.76 16.61]\n",
      "Loss_Q: [3.87 1.55 2.56 1.21 0.   9.19] Loss_P: [ 5.89  4.49  1.55  2.9   1.77 16.6 ]\n",
      "Loss_Q: [3.85 1.72 2.43 1.33 0.   9.33] Loss_P: [ 6.04  4.41  1.8   2.74  1.92 16.91]\n",
      "Loss_Q: [4.02 1.74 2.48 1.26 0.   9.5 ] Loss_P: [ 5.96  4.46  1.87  2.85  1.84 16.98]\n",
      "Loss_Q: [3.94 1.75 2.42 1.27 0.   9.39] Loss_P: [ 5.96  4.4   1.81  2.71  1.85 16.73]\n",
      "Loss_Q: [3.99 1.62 2.61 1.26 0.   9.48] Loss_P: [ 6.    4.34  1.91  2.95  1.82 17.02]\n",
      "Loss_Q: [4.1  1.81 2.42 1.33 0.   9.66] Loss_P: [ 5.93  4.56  1.94  2.86  1.91 17.21]\n",
      "Loss_Q: [4.06 1.61 2.42 1.15 0.   9.24] Loss_P: [ 5.91  4.61  1.77  2.85  1.71 16.85]\n",
      "Loss_Q: [3.86 1.77 2.23 0.99 0.   8.86] Loss_P: [ 5.85  4.44  1.87  2.62  1.53 16.31]\n",
      "Loss_Q: [3.88 1.87 2.29 0.86 0.   8.89] Loss_P: [ 5.91  4.35  2.14  2.67  1.36 16.44]\n",
      "Loss_Q: [3.96 1.72 2.24 0.94 0.   8.86] Loss_P: [ 5.86  4.55  1.99  2.69  1.44 16.53]\n",
      "Loss_Q: [4.31 1.74 2.44 1.06 0.   9.55] Loss_P: [ 5.93  4.71  1.91  2.86  1.66 17.07]\n",
      "Loss_Q: [4.22 1.79 2.44 1.06 0.   9.51] Loss_P: [ 5.86  4.72  1.85  2.79  1.7  16.93]\n",
      "Loss_Q: [4.22 1.69 2.44 1.03 0.   9.37] Loss_P: [ 5.81  4.9   1.62  2.75  1.66 16.74]\n",
      "Loss_Q: [3.88 1.69 2.04 1.14 0.   8.75] Loss_P: [ 5.75  4.75  1.75  2.54  1.68 16.47]\n",
      "Loss_Q: [3.74 1.87 1.78 1.27 0.   8.66] Loss_P: [ 5.84  4.41  1.81  2.27  1.85 16.18]\n",
      "Loss_Q: [4.04 1.88 1.86 1.23 0.   9.02] Loss_P: [ 5.8   4.74  1.83  2.3   1.86 16.52]\n",
      "Loss_Q: [4.15 1.87 2.23 1.16 0.   9.4 ] Loss_P: [ 5.7   4.95  1.82  2.53  1.91 16.9 ]\n",
      "Loss_Q: [4.05 2.03 1.77 1.17 0.   9.03] Loss_P: [ 5.85  4.74  1.8   2.25  1.88 16.52]\n",
      "Loss_Q: [3.9  2.05 1.49 1.28 0.   8.72] Loss_P: [ 5.75  4.56  2.11  1.96  1.86 16.24]\n",
      "Loss_Q: [3.91 2.19 1.92 1.22 0.   9.24] Loss_P: [ 5.75  4.63  2.12  2.34  1.82 16.67]\n",
      "Loss_Q: [3.92 2.23 2.05 1.21 0.   9.41] Loss_P: [ 5.83  4.52  2.25  2.44  1.91 16.95]\n",
      "Loss_Q: [3.89 2.35 1.93 1.28 0.   9.45] Loss_P: [ 5.69  4.62  2.29  2.51  1.85 16.96]\n",
      "Loss_Q: [4.13 2.01 2.4  0.95 0.   9.48] Loss_P: [ 5.67  5.01  1.97  2.74  1.66 17.04]\n",
      "Loss_Q: [4.05 2.   2.24 0.94 0.   9.23] Loss_P: [ 5.63  5.13  1.89  2.65  1.64 16.95]\n",
      "Loss_Q: [3.94 2.23 2.1  0.95 0.   9.21] Loss_P: [ 5.73  4.66  2.3   2.52  1.65 16.86]\n",
      "Loss_Q: [3.8  2.42 1.95 0.99 0.   9.16] Loss_P: [ 5.74  4.54  2.39  2.36  1.72 16.75]\n",
      "Loss_Q: [3.97 2.2  2.08 1.04 0.   9.29] Loss_P: [ 5.74  4.71  2.25  2.46  1.76 16.92]\n",
      "Loss_Q: [3.98 2.23 2.16 1.09 0.   9.46] Loss_P: [ 5.61  4.83  2.11  2.61  1.74 16.89]\n",
      "Loss_Q: [3.86 2.37 2.1  1.08 0.   9.41] Loss_P: [ 5.69  4.75  2.43  2.48  1.75 17.1 ]\n",
      "Loss_Q: [3.89 2.48 2.01 1.13 0.   9.51] Loss_P: [ 5.62  4.64  2.36  2.53  1.79 16.94]\n",
      "Loss_Q: [3.91 2.38 2.06 1.13 0.   9.48] Loss_P: [ 5.58  4.63  2.35  2.46  1.82 16.84]\n",
      "Loss_Q: [3.95 2.12 2.18 1.05 0.   9.3 ] Loss_P: [ 5.73  4.76  2.11  2.6   1.78 16.98]\n",
      "Loss_Q: [3.98 2.33 1.98 1.2  0.   9.49] Loss_P: [ 5.57  4.8   2.29  2.56  1.87 17.09]\n",
      "Loss_Q: [3.88 2.49 1.91 1.24 0.   9.52] Loss_P: [ 5.63  4.59  2.46  2.37  1.9  16.95]\n",
      "Loss_Q: [3.88 2.44 1.95 1.09 0.   9.37] Loss_P: [ 5.58  4.63  2.31  2.43  1.86 16.81]\n",
      "Loss_Q: [3.83 2.41 2.08 1.14 0.   9.45] Loss_P: [ 5.61  4.48  2.48  2.53  1.84 16.94]\n",
      "Loss_Q: [3.89 2.15 2.06 1.06 0.   9.16] Loss_P: [ 5.57  4.62  2.31  2.5   1.76 16.77]\n",
      "Loss_Q: [4.02 2.09 2.14 1.01 0.   9.26] Loss_P: [ 5.57  4.77  2.18  2.48  1.77 16.76]\n",
      "Loss_Q: [4.04 2.15 2.07 1.03 0.   9.29] Loss_P: [ 5.67  4.75  2.21  2.37  1.75 16.74]\n",
      "Loss_Q: [3.89 2.28 2.06 1.05 0.   9.28] Loss_P: [ 5.48  4.75  2.31  2.48  1.71 16.73]\n",
      "Loss_Q: [3.94 2.25 2.14 1.05 0.   9.39] Loss_P: [ 5.51  4.79  2.11  2.5   1.73 16.64]\n",
      "Loss_Q: [3.83 2.36 2.03 0.99 0.   9.21] Loss_P: [ 5.56  4.55  2.43  2.51  1.75 16.81]\n",
      "Loss_Q: [3.85 2.48 1.93 1.15 0.   9.41] Loss_P: [ 5.63  4.45  2.64  2.45  1.8  16.98]\n",
      "Loss_Q: [3.82 2.49 2.04 1.03 0.   9.38] Loss_P: [ 5.53  4.5   2.54  2.47  1.67 16.71]\n",
      "Loss_Q: [3.82 2.24 1.76 1.16 0.   8.98] Loss_P: [ 5.6   4.52  2.3   2.25  1.79 16.45]\n",
      "Loss_Q: [3.84 2.35 1.77 1.06 0.   9.02] Loss_P: [ 5.46  4.62  2.46  2.41  1.74 16.69]\n",
      "Loss_Q: [3.78 2.56 1.93 1.   0.   9.27] Loss_P: [ 5.58  4.57  2.55  2.44  1.67 16.82]\n",
      "Loss_Q: [3.96 2.39 2.13 1.01 0.   9.49] Loss_P: [ 5.61  4.76  2.5   2.58  1.7  17.15]\n",
      "Loss_Q: [3.77 2.44 2.04 1.04 0.   9.29] Loss_P: [ 5.58  4.63  2.41  2.42  1.74 16.77]\n",
      "Loss_Q: [3.87 2.54 2.06 1.07 0.   9.54] Loss_P: [ 5.66  4.51  2.72  2.55  1.77 17.2 ]\n",
      "Loss_Q: [3.85 2.31 2.16 0.96 0.   9.28] Loss_P: [ 5.58  4.38  2.6   2.52  1.73 16.81]\n",
      "Loss_Q: [3.71 2.26 1.92 0.92 0.   8.8 ] Loss_P: [ 5.68  4.34  2.42  2.33  1.62 16.39]\n",
      "Loss_Q: [3.82 2.29 1.99 0.88 0.   9.  ] Loss_P: [ 5.68  4.61  2.34  2.44  1.61 16.68]\n",
      "Loss_Q: [3.86 2.39 1.91 1.04 0.   9.2 ] Loss_P: [ 5.71  4.4   2.55  2.35  1.67 16.68]\n",
      "Loss_Q: [3.92 2.42 1.8  0.95 0.   9.1 ] Loss_P: [ 5.65  4.55  2.39  2.3   1.61 16.49]\n",
      "Loss_Q: [3.77 2.26 1.79 0.96 0.   8.78] Loss_P: [ 5.76  4.34  2.45  2.14  1.58 16.27]\n"
     ]
    },
    {
     "name": "stdout",
     "output_type": "stream",
     "text": [
      "Loss_Q: [3.68 2.49 1.75 0.88 0.   8.8 ] Loss_P: [ 5.74  4.25  2.53  2.19  1.57 16.28]\n",
      "Loss_Q: [3.84 2.59 1.82 0.96 0.   9.21] Loss_P: [ 5.57  4.38  2.77  2.31  1.66 16.69]\n",
      "Loss_Q: [3.76 2.3  1.88 0.93 0.   8.87] Loss_P: [ 5.63  4.46  2.5   2.24  1.64 16.47]\n",
      "Loss_Q: [3.72 2.13 1.61 0.89 0.   8.36] Loss_P: [ 5.63  4.54  2.23  2.16  1.44 16.01]\n",
      "delta_loss: 0.33311213682354923 delta_f: 0.34506870885234503\n",
      "learning rate change: 0.08123525779299882\n",
      "delta_loss: 0.2135397971063253 delta_f: 0.2184592553900928\n",
      "learning rate change: 0.0886623991209052\n",
      "delta_loss: 0.12228436887453897 delta_f: 0.12337272030329874\n",
      "learning rate change: 0.09731053414740813\n",
      "delta_loss: 0.0071887579083800834 delta_f: 0.00724590840955282\n",
      "learning rate change: 0.09269912191501456\n",
      "delta_loss: 0.06357546178180429 delta_f: 0.06425918531922972\n",
      "learning rate change: 0.09622177197082898\n",
      "delta_loss: 0.0 delta_f: 0.0\n",
      "delta_loss: 0.0841081677989517 delta_f: 0.08699235910641648\n",
      "learning rate change: 0.0898638795173487\n",
      "delta_loss: 0.0 delta_f: 0.0\n",
      "delta_loss: 0.22867198066595895 delta_f: 0.2392220176128498\n",
      "learning rate change: 0.08191673513154328\n"
     ]
    }
   ],
   "source": [
    "for e in range (epoch):\n",
    "    index = np.random.permutation(n_data)\n",
    "    Loss_Q_total = np.zeros(HM.n_layer)\n",
    "    Loss_P_total = np.zeros(HM.n_layer)\n",
    "    for i in range(n_data):\n",
    "        d0 = dataset[:,index[i]:index[i]+1]\n",
    "        Alpha_Q = HM.wake_sample(d0,add_norm)\n",
    "        Loss_P,Grad_P = HM.sleep_update(Alpha_Q,add_norm)\n",
    "        Alpha_P = HM.sleep_sample(add_norm)\n",
    "        Loss_Q,Grad_Q = HM.wake_update(Alpha_P,add_norm)\n",
    "        \n",
    "        Loss_Q_total += Loss_Q\n",
    "        Loss_P_total += Loss_P\n",
    "    Loss_Q_total = Loss_Q_total/n_data\n",
    "    Loss_P_total = Loss_P_total/n_data\n",
    "    print('Loss_Q: '+ str(np.around(Loss_Q_total,2)), 'Loss_P: '+ str(np.around(Loss_P_total,2)))\n",
    "    if add_norm == True and e % 100 == 0:\n",
    "        HM.norm_update()\n",
    "HM.check_learning_rate(Alpha_P,Alpha_Q)"
   ]
  },
  {
   "cell_type": "code",
   "execution_count": 28,
   "id": "e0b076af",
   "metadata": {},
   "outputs": [],
   "source": [
    "# HM.Norm_wake"
   ]
  },
  {
   "cell_type": "code",
   "execution_count": 29,
   "id": "65f8afc2",
   "metadata": {},
   "outputs": [],
   "source": [
    "# HM.Norm_sleep"
   ]
  },
  {
   "cell_type": "code",
   "execution_count": 787,
   "id": "7b59f690",
   "metadata": {},
   "outputs": [
    {
     "data": {
      "text/plain": [
       "array([[0.09324628, 0.09706558, 0.09270122, 0.1       ],\n",
       "       [0.09544868, 0.09764918, 0.09585396, 0.09827682]])"
      ]
     },
     "execution_count": 787,
     "metadata": {},
     "output_type": "execute_result"
    }
   ],
   "source": [
    "HM.lr"
   ]
  },
  {
   "cell_type": "code",
   "execution_count": 31,
   "id": "1fbbd580",
   "metadata": {},
   "outputs": [],
   "source": [
    "# Fz_binary = [True,False,False,False,False,True]\n",
    "# HM.set_control(Fz_binary,fz_scale=False,fz_W=False,layer_norm=False,layer_norm_rate=5)"
   ]
  },
  {
   "cell_type": "code",
   "execution_count": 32,
   "id": "da475ec9",
   "metadata": {},
   "outputs": [],
   "source": [
    "# HM.Scalar"
   ]
  },
  {
   "cell_type": "code",
   "execution_count": 33,
   "id": "8e803811",
   "metadata": {},
   "outputs": [],
   "source": [
    "# HM.Phi"
   ]
  },
  {
   "cell_type": "code",
   "execution_count": 34,
   "id": "ced951af",
   "metadata": {},
   "outputs": [],
   "source": [
    "# HM.Theta"
   ]
  },
  {
   "cell_type": "markdown",
   "id": "8eb35deb",
   "metadata": {},
   "source": [
    "#### Generation"
   ]
  },
  {
   "cell_type": "code",
   "execution_count": 1145,
   "id": "b33fb8d9",
   "metadata": {},
   "outputs": [
    {
     "data": {
      "text/plain": [
       "array([[1, 0, 1, ..., 1, 1, 1],\n",
       "       [0, 1, 0, ..., 1, 0, 0],\n",
       "       [1, 0, 0, ..., 1, 1, 0],\n",
       "       ...,\n",
       "       [1, 0, 0, ..., 0, 1, 1],\n",
       "       [1, 0, 1, ..., 1, 1, 0],\n",
       "       [0, 1, 1, ..., 0, 0, 1]])"
      ]
     },
     "execution_count": 1145,
     "metadata": {},
     "output_type": "execute_result"
    }
   ],
   "source": [
    "c = 10\n",
    "n_sample = n_data * c\n",
    "Alpha_P_bnr = HM.sleep_sample_batch(n_sample)\n",
    "generation = Alpha_P_bnr['z0']\n",
    "generation"
   ]
  },
  {
   "cell_type": "code",
   "execution_count": 1146,
   "id": "3b56e5a2",
   "metadata": {},
   "outputs": [],
   "source": [
    "Alpha_Q_bnr = HM.wake_sample_batch(np.repeat(dataset,c,axis=1),n_sample)\n",
    "# new_set,nt,impt = random_generate(8,HM.n_d,n_sample)\n",
    "# Alpha_Q_bnr = HM.wake_sample_batch(new_set,n_sample)"
   ]
  },
  {
   "cell_type": "code",
   "execution_count": 1147,
   "id": "662d09ab",
   "metadata": {},
   "outputs": [
    {
     "name": "stdout",
     "output_type": "stream",
     "text": [
      "[[0. 0. 0. ... 0. 0. 0.]\n",
      " [1. 1. 1. ... 1. 1. 1.]]\n",
      "2661\n",
      "D_KL(q||p) z0 1.9923838797833935\n",
      "D_KL(p||q) z0 5.684742599291905\n",
      "[[ 1.  4.  4. ...  0.  2.  1.]\n",
      " [17.  1.  9. ...  2.  0.  3.]]\n",
      "974\n",
      "D_KL(q||p) z1 0.4428532988182179\n",
      "D_KL(p||q) z1 0.5675331753931921\n",
      "[[1.228e+03 3.291e+03 2.800e+01 6.100e+01 5.700e+01 1.380e+02 6.000e+00\n",
      "  3.000e+00 5.200e+01 1.480e+02 2.000e+00 6.000e+00 1.000e+01 1.400e+01\n",
      "  1.000e+00 0.000e+00 1.000e+01 3.500e+01 0.000e+00 8.000e+00 3.000e+00\n",
      "  1.000e+01 0.000e+00 3.000e+00 3.000e+00 9.000e+00 0.000e+00 2.000e+00\n",
      "  2.000e+00 0.000e+00 7.450e+02 8.350e+02 2.000e+01 2.700e+01 8.200e+01\n",
      "  7.600e+01 7.000e+00 1.000e+01 1.640e+02 1.600e+02 1.100e+01 9.000e+00\n",
      "  3.000e+01 1.800e+01 3.000e+00 3.000e+00 1.700e+01 2.000e+01 1.000e+00\n",
      "  4.000e+00 1.100e+01 8.000e+00 4.000e+00 2.000e+00 9.000e+00 7.000e+00\n",
      "  0.000e+00 4.000e+00 9.000e+00 2.000e+00 0.000e+00 0.000e+00 8.500e+01\n",
      "  3.680e+02 5.000e+00 2.000e+01 1.600e+01 3.900e+01 1.000e+00 0.000e+00\n",
      "  6.000e+00 3.700e+01 1.000e+00 8.000e+00 1.000e+00 7.000e+00 2.000e+00\n",
      "  0.000e+00 1.000e+00 1.600e+01 4.000e+00 4.000e+00 5.000e+00 2.000e+00\n",
      "  0.000e+00 3.000e+00 1.000e+00 0.000e+00 2.000e+00 1.000e+00 1.000e+00\n",
      "  0.000e+00 0.000e+00 5.900e+01 6.400e+01 5.000e+00 5.000e+00 2.100e+01\n",
      "  2.000e+01 5.000e+00 2.000e+00 2.200e+01 3.500e+01 5.000e+00 6.000e+00\n",
      "  1.000e+01 4.000e+00 2.000e+00 1.000e+00 1.000e+00 8.000e+00 0.000e+00\n",
      "  0.000e+00 6.000e+00 4.000e+00 2.000e+00 1.000e+00 3.000e+00 1.000e+00\n",
      "  0.000e+00 1.000e+00 4.000e+00 1.000e+00 2.000e+00 1.000e+00 1.260e+02\n",
      "  4.640e+02 3.000e+00 1.200e+01 9.000e+00 2.000e+01 1.000e+00 1.000e+00\n",
      "  1.400e+01 5.000e+01 3.000e+00 7.000e+00 1.000e+00 3.000e+00 2.000e+00\n",
      "  1.000e+00 3.000e+00 4.000e+00 1.000e+00 2.000e+00 1.000e+00 2.000e+00\n",
      "  1.000e+00 0.000e+00 0.000e+00 6.000e+00 1.000e+00 1.000e+00 1.690e+02\n",
      "  2.790e+02 6.000e+00 1.600e+01 1.500e+01 2.500e+01 2.000e+00 4.000e+00\n",
      "  3.600e+01 6.700e+01 3.000e+00 8.000e+00 9.000e+00 6.000e+00 3.000e+00\n",
      "  1.000e+00 4.000e+00 1.500e+01 0.000e+00 0.000e+00 1.000e+00 5.000e+00\n",
      "  3.000e+00 6.000e+00 7.000e+00 1.000e+00 1.000e+00 2.000e+00 0.000e+00\n",
      "  1.000e+00 0.000e+00 1.000e+01 5.100e+01 0.000e+00 4.000e+00 0.000e+00\n",
      "  8.000e+00 0.000e+00 0.000e+00 2.000e+00 1.000e+01 0.000e+00 3.000e+00\n",
      "  0.000e+00 0.000e+00 0.000e+00 3.000e+00 0.000e+00 0.000e+00 0.000e+00\n",
      "  2.000e+00 0.000e+00 2.000e+00 1.000e+00 0.000e+00 1.000e+00 0.000e+00\n",
      "  1.400e+01 3.000e+01 1.000e+00 7.000e+00 4.000e+00 5.000e+00 2.000e+00\n",
      "  1.000e+00 3.000e+00 1.800e+01 1.000e+00 2.000e+00 2.000e+00 1.000e+00\n",
      "  1.000e+00 0.000e+00 1.000e+00 4.000e+00 1.000e+00 0.000e+00 1.000e+00\n",
      "  0.000e+00 0.000e+00 2.000e+00 0.000e+00 0.000e+00 0.000e+00 0.000e+00\n",
      "  1.000e+00 1.000e+00 1.000e+00]\n",
      " [1.164e+03 3.291e+03 1.300e+01 8.400e+01 6.100e+01 1.290e+02 2.000e+00\n",
      "  2.300e+01 7.500e+01 1.610e+02 1.000e+00 1.600e+01 2.500e+01 9.000e+00\n",
      "  5.000e+00 1.000e+00 1.200e+01 4.100e+01 2.000e+00 3.000e+00 8.000e+00\n",
      "  1.100e+01 3.000e+00 1.000e+00 7.000e+00 1.000e+01 5.000e+00 5.000e+00\n",
      "  1.000e+00 3.000e+00 6.570e+02 8.330e+02 1.500e+01 2.100e+01 6.800e+01\n",
      "  9.600e+01 6.000e+00 1.000e+01 1.330e+02 2.720e+02 6.000e+00 9.000e+00\n",
      "  2.900e+01 3.900e+01 2.000e+00 4.000e+00 2.000e+01 4.900e+01 2.000e+00\n",
      "  1.000e+00 6.000e+00 1.300e+01 1.000e+00 3.000e+00 1.600e+01 2.000e+01\n",
      "  3.000e+00 3.000e+00 8.000e+00 1.200e+01 1.000e+00 3.000e+00 6.800e+01\n",
      "  2.900e+02 2.000e+00 5.600e+01 6.000e+00 3.600e+01 0.000e+00 9.000e+00\n",
      "  1.000e+01 2.900e+01 2.000e+00 5.000e+00 2.000e+00 3.000e+00 1.000e+00\n",
      "  1.000e+00 4.000e+00 1.800e+01 6.000e+00 1.000e+00 5.000e+00 2.000e+00\n",
      "  2.000e+00 2.000e+00 3.000e+00 2.000e+00 3.000e+00 1.000e+00 0.000e+00\n",
      "  2.000e+00 1.000e+00 4.500e+01 4.500e+01 1.000e+00 8.000e+00 5.000e+00\n",
      "  7.000e+00 3.000e+00 2.000e+00 1.700e+01 2.200e+01 1.000e+00 4.000e+00\n",
      "  1.500e+01 6.000e+00 1.000e+00 1.000e+00 7.000e+00 5.000e+00 4.000e+00\n",
      "  5.000e+00 3.000e+00 5.000e+00 1.000e+00 1.000e+00 1.000e+00 6.000e+00\n",
      "  1.000e+00 2.000e+00 3.000e+00 2.000e+00 1.000e+00 3.000e+00 1.130e+02\n",
      "  4.210e+02 5.000e+00 1.800e+01 9.000e+00 1.800e+01 4.000e+00 3.000e+00\n",
      "  2.000e+01 2.500e+01 0.000e+00 2.000e+00 2.000e+00 4.000e+00 1.000e+00\n",
      "  2.000e+00 4.000e+00 1.400e+01 0.000e+00 4.000e+00 1.000e+00 1.000e+00\n",
      "  0.000e+00 1.000e+00 3.000e+00 6.000e+00 0.000e+00 2.000e+00 1.520e+02\n",
      "  3.160e+02 3.000e+00 2.100e+01 1.600e+01 4.200e+01 0.000e+00 1.000e+00\n",
      "  4.300e+01 9.300e+01 4.000e+00 5.000e+00 8.000e+00 1.000e+01 1.000e+00\n",
      "  1.000e+00 7.000e+00 2.900e+01 1.000e+00 3.000e+00 1.000e+00 2.000e+00\n",
      "  2.000e+00 3.000e+00 6.000e+00 1.000e+00 0.000e+00 2.000e+00 3.000e+00\n",
      "  0.000e+00 1.000e+00 1.200e+01 3.700e+01 4.000e+00 5.000e+00 3.000e+00\n",
      "  5.000e+00 1.000e+00 1.000e+00 5.000e+00 8.000e+00 3.000e+00 2.000e+00\n",
      "  3.000e+00 2.000e+00 1.000e+00 2.000e+00 2.000e+00 1.000e+00 4.000e+00\n",
      "  1.000e+00 2.000e+00 1.000e+00 1.000e+00 1.000e+00 1.000e+00 1.000e+00\n",
      "  8.000e+00 2.700e+01 3.000e+00 3.000e+00 1.000e+00 5.000e+00 0.000e+00\n",
      "  0.000e+00 4.000e+00 6.000e+00 3.000e+00 2.000e+00 0.000e+00 2.000e+00\n",
      "  0.000e+00 2.000e+00 3.000e+00 5.000e+00 4.000e+00 2.000e+00 0.000e+00\n",
      "  1.000e+00 1.000e+00 1.000e+00 1.000e+00 1.000e+00 1.000e+00 1.000e+00\n",
      "  3.000e+00 3.000e+00 0.000e+00]]\n",
      "241\n",
      "D_KL(q||p) z2 0.05976477938616975\n",
      "D_KL(p||q) z2 0.12885651513442534\n",
      "[[ 297.  450.  449.  811.  480. 1057. 1890. 2089.   51.   39.   60.   47.\n",
      "    39.   46.  126.   92.   74.   47.   82.   52.   95.   60.  232.   79.\n",
      "    25.   23.   28.   22.   22.   19.   48.   21.   34.   34.   40.   36.\n",
      "    60.   59.  122.   83.   14.   15.   27.   17.   26.   17.   19.   25.\n",
      "    25.   16.   31.   19.   39.   14.   71.   18.   23.   20.   24.   24.\n",
      "    20.   24.   31.   21.]\n",
      " [ 275.  708.  436.  593.  412.  934. 1876. 2056.   41.   86.   44.   41.\n",
      "    42.   54.  103.   71.   38.   48.   57.   45.   66.   52.  228.  121.\n",
      "    40.   32.   29.   32.   29.   32.   34.   22.   34.   40.   65.   39.\n",
      "    58.   43.  188.  104.   32.   21.   27.   27.   32.   35.   31.   29.\n",
      "    27.   24.   29.   39.   39.   28.   53.   36.   26.   34.   34.   22.\n",
      "    31.   32.   34.   30.]]\n",
      "64\n",
      "D_KL(q||p) z3 0.02510062067653474\n",
      "D_KL(p||q) z3 0.02717974905298419\n",
      "[[1706.  926.  111.   63. 3826. 3048.  220.  100.]\n",
      " [1886. 1149.   91.   57. 3916. 2593.  193.  115.]]\n",
      "8\n",
      "D_KL(q||p) z4 0.007607137554640563\n",
      "D_KL(p||q) z4 0.007595934741235474\n"
     ]
    }
   ],
   "source": [
    "for key in Alpha_Q_bnr:\n",
    "    Q_dcm = decimalize(Alpha_Q_bnr[key])\n",
    "    P_dcm = decimalize(Alpha_P_bnr[key])\n",
    "    values_q, counts_q = np.unique(Q_dcm,return_counts=True)\n",
    "    values_p, counts_p = np.unique(P_dcm,return_counts=True)\n",
    "    values_qp = np.unique(np.append(values_q,values_p))\n",
    "    xy, q_ind, qp_ind_q = np.intersect1d(values_q, values_qp, return_indices=True)\n",
    "    xy, p_ind, qp_ind_p = np.intersect1d(values_p, values_qp, return_indices=True)\n",
    "    \n",
    "    dist = np.zeros((2,values_qp.size))\n",
    "    dist[0,qp_ind_q] = counts_q\n",
    "    dist[1,qp_ind_p] = counts_p\n",
    "    q = dist[0,:]/n_sample\n",
    "    p = dist[1,:]/n_sample\n",
    "    print(dist)\n",
    "    print(values_qp.size)\n",
    "#     print(np.sum((dist[0,:] - dist[1,:])**2))\n",
    "    print('D_KL(q||p)',key, np.sum(q*np.log(q+1e-8)-q*np.log(p+1e-8)))  # D_KL(q||p)\n",
    "    print('D_KL(p||q)',key, np.sum(p*np.log(p+1e-8)-p*np.log(q+1e-8)))  # D_KL(q||p)"
   ]
  },
  {
   "cell_type": "code",
   "execution_count": 1150,
   "id": "80868312",
   "metadata": {},
   "outputs": [],
   "source": [
    "n_data = n_sample\n",
    "keys_p = [*p_instr]\n",
    "dataset = np.zeros((n_neuron,n_data))\n",
    "for i in range(n_instr):\n",
    "    q = p_instr[keys_p[i]]\n",
    "    sample = (q > np.random.rand(len(q),n_data)).astype(int)\n",
    "    start = np.random.randint(st,size=n_data)\n",
    "    \n",
    "    step = keys_p[i]\n",
    "    for j in range(n_data):\n",
    "        x = np.arange(start[j],n_neuron,step)\n",
    "        dataset[x,j] += sample[:x.size,j]\n",
    "dataset = (dataset>0).astype(int)"
   ]
  },
  {
   "cell_type": "code",
   "execution_count": 1151,
   "id": "51759d8f",
   "metadata": {},
   "outputs": [
    {
     "name": "stdout",
     "output_type": "stream",
     "text": [
      "D_KL(d||g) 1.2328662441386418\n",
      "D_KL(g||d) 1.5356972841830165\n"
     ]
    }
   ],
   "source": [
    "data_dcm = decimalize(dataset)\n",
    "gen_dcm = decimalize(generation)\n",
    "values_d, counts_d = np.unique(data_dcm, return_counts=True)\n",
    "values_g, counts_g = np.unique(gen_dcm, return_counts=True)\n",
    "values_dg = np.unique(np.append(values_d,values_g))\n",
    "dist_d = counts_d/n_data\n",
    "dist_g = counts_g/n_sample\n",
    "dist = np.zeros((2,values_dg.size))\n",
    "xy, d_ind, dg_ind_d = np.intersect1d(values_d, values_dg, return_indices=True)\n",
    "xy, g_ind, dg_ind_g = np.intersect1d(values_g, values_dg, return_indices=True)\n",
    "dist[0,dg_ind_d] = dist_d\n",
    "dist[1,dg_ind_g] = dist_g\n",
    "d = dist[0,:]\n",
    "g = dist[1,:]\n",
    "print('D_KL(d||g)', np.sum(d*np.log(d+1e-8)-d*np.log(g+1e-8)))  # D_KL(q||p)\n",
    "print('D_KL(g||d)', np.sum(g*np.log(g+1e-8)-g*np.log(d+1e-8)))  # D_KL(q||p)"
   ]
  },
  {
   "cell_type": "code",
   "execution_count": 1135,
   "id": "f8735b0a",
   "metadata": {},
   "outputs": [
    {
     "name": "stdout",
     "output_type": "stream",
     "text": [
      "D_KL(d||g) 16.468614939082382\n",
      "D_KL(g||d) 6.856224622316369\n"
     ]
    }
   ],
   "source": [
    "# # new_dataset,nt,impt = random_generate(8,HM.n_d,n_sample)\n",
    "# # data_dcm = decimalize(new_dataset)\n",
    "\n",
    "# data_dcm = decimalize(dataset_new)\n",
    "# gen_dcm = decimalize(generation)\n",
    "# values_d, counts_d = np.unique(data_dcm, return_counts=True)\n",
    "# values_g, counts_g = np.unique(gen_dcm, return_counts=True)\n",
    "# values_dg = np.unique(np.append(values_d,values_g))\n",
    "# dist_d = counts_d/n_sample\n",
    "# dist_g = counts_g/n_sample\n",
    "# dist = np.zeros((2,values_dg.size))\n",
    "# xy, d_ind, dg_ind_d = np.intersect1d(values_d, values_dg, return_indices=True)\n",
    "# xy, g_ind, dg_ind_g = np.intersect1d(values_g, values_dg, return_indices=True)\n",
    "# dist[0,dg_ind_d] = dist_d\n",
    "# dist[1,dg_ind_g] = dist_g\n",
    "# d = dist[0,:]\n",
    "# g = dist[1,:]\n",
    "# print('D_KL(d||g)', np.sum(d*np.log(d+1e-8)-d*np.log(g+1e-8)))  # D_KL(q||p)\n",
    "# print('D_KL(g||d)', np.sum(g*np.log(g+1e-8)-g*np.log(d+1e-8)))  # D_KL(q||p)"
   ]
  },
  {
   "cell_type": "code",
   "execution_count": 1152,
   "id": "9a4a7b9b",
   "metadata": {},
   "outputs": [
    {
     "data": {
      "text/plain": [
       "0.8673"
      ]
     },
     "execution_count": 1152,
     "metadata": {},
     "output_type": "execute_result"
    }
   ],
   "source": [
    "# statistics\n",
    "percent = np.in1d(gen_dcm,values_d).sum()/gen_dcm.size\n",
    "percent"
   ]
  },
  {
   "cell_type": "code",
   "execution_count": 1153,
   "id": "14488b30",
   "metadata": {},
   "outputs": [
    {
     "data": {
      "text/plain": [
       "723"
      ]
     },
     "execution_count": 1153,
     "metadata": {},
     "output_type": "execute_result"
    }
   ],
   "source": [
    "outlier_n = np.in1d(values_g,values_d,invert=True).sum()\n",
    "outlier_n"
   ]
  },
  {
   "cell_type": "code",
   "execution_count": 1154,
   "id": "678a1a84",
   "metadata": {},
   "outputs": [
    {
     "data": {
      "text/plain": [
       "0.1327"
      ]
     },
     "execution_count": 1154,
     "metadata": {},
     "output_type": "execute_result"
    }
   ],
   "source": [
    "outlier_index = np.where(np.in1d(values_g,values_d,invert=True))\n",
    "outlier = np.array([values_g[outlier_index],counts_g[outlier_index]])\n",
    "counts_g[outlier_index].sum()/n_sample"
   ]
  },
  {
   "cell_type": "code",
   "execution_count": 1155,
   "id": "d81f9101",
   "metadata": {},
   "outputs": [
    {
     "data": {
      "text/plain": [
       "513"
      ]
     },
     "execution_count": 1155,
     "metadata": {},
     "output_type": "execute_result"
    }
   ],
   "source": [
    "fp_n = np.in1d(values_d,values_g,invert=True).sum()\n",
    "fp_n"
   ]
  },
  {
   "cell_type": "code",
   "execution_count": 1156,
   "id": "6e2e21b1",
   "metadata": {},
   "outputs": [
    {
     "data": {
      "text/plain": [
       "0.094"
      ]
     },
     "execution_count": 1156,
     "metadata": {},
     "output_type": "execute_result"
    }
   ],
   "source": [
    "fp_index = np.where(np.in1d(values_d,values_g,invert=True))\n",
    "fp = np.array([values_d[fp_index],counts_d[fp_index]])\n",
    "counts_d[fp_index].sum()/n_sample"
   ]
  },
  {
   "cell_type": "code",
   "execution_count": 1157,
   "id": "371ddf10",
   "metadata": {},
   "outputs": [
    {
     "data": {
      "text/plain": [
       "<matplotlib.legend.Legend at 0x2328d6412d0>"
      ]
     },
     "execution_count": 1157,
     "metadata": {},
     "output_type": "execute_result"
    },
    {
     "data": {
      "image/png": "[encoded data removed]",
      "text/plain": [
       "<Figure size 1800x1000 with 1 Axes>"
      ]
     },
     "metadata": {},
     "output_type": "display_data"
    }
   ],
   "source": [
    "# visualization (original order)\n",
    "x_lim = 2**HM.n_d\n",
    "fig, ax = plt.subplots(figsize=(18, 10))\n",
    "ax.bar(values_d, dist_d,label = \"Ground Truth\")\n",
    "ax.bar(values_g,dist_g,label = \"Generation\")\n",
    "ax.set(xlim=(0, x_lim))\n",
    "plt.legend()"
   ]
  },
  {
   "cell_type": "code",
   "execution_count": 1158,
   "id": "0cfe7f2a",
   "metadata": {},
   "outputs": [
    {
     "data": {
      "text/plain": [
       "array([   8,   17,   20, ..., 4090, 4092, 4095], dtype=int64)"
      ]
     },
     "execution_count": 1158,
     "metadata": {},
     "output_type": "execute_result"
    }
   ],
   "source": [
    "reordered_set = np.append(values_d,np.where(np.in1d(np.arange(0,2**HM.n_d),values_d,invert=True)))\n",
    "reordered_set"
   ]
  },
  {
   "cell_type": "code",
   "execution_count": 1159,
   "id": "85f11975",
   "metadata": {},
   "outputs": [],
   "source": [
    "xy, g_ind, re_ind = np.intersect1d(values_g, reordered_set, return_indices=True)"
   ]
  },
  {
   "cell_type": "code",
   "execution_count": 1160,
   "id": "0d316121",
   "metadata": {},
   "outputs": [
    {
     "data": {
      "text/plain": [
       "<matplotlib.legend.Legend at 0x23290a73650>"
      ]
     },
     "execution_count": 1160,
     "metadata": {},
     "output_type": "execute_result"
    },
    {
     "data": {
      "image/png": "[encoded data removed]",
      "text/plain": [
       "<Figure size 1800x1000 with 1 Axes>"
      ]
     },
     "metadata": {},
     "output_type": "display_data"
    }
   ],
   "source": [
    "# visualization (re-order)\n",
    "x_lim = 2**HM.n_d\n",
    "n_ticks = 8\n",
    "xtick = np.arange(0,x_lim,int(x_lim/n_ticks/100+0.5)*100)\n",
    "xtick[np.argmin(np.abs(xtick - counts_d.size))] = counts_d.size\n",
    "xtick[-1] = x_lim\n",
    "\n",
    "fig, ax = plt.subplots(figsize=(18, 10))\n",
    "ax.bar(np.arange(counts_d.size),dist_d,label = \"Ground Truth\")\n",
    "ax.bar(np.sort(re_ind),dist_g[np.argsort(re_ind)],label = \"Generation\")\n",
    "ax.set(xlim=(0, x_lim), xticks=xtick)\n",
    "plt.legend()"
   ]
  },
  {
   "cell_type": "markdown",
   "id": "6ea84184",
   "metadata": {},
   "source": [
    "#### Mutual Information"
   ]
  },
  {
   "cell_type": "code",
   "execution_count": 446,
   "id": "79ecf623",
   "metadata": {},
   "outputs": [
    {
     "data": {
      "text/plain": [
       "{'Prob_01': array([[9.76562500e-04, 9.76562500e-04, 9.76562500e-04, ...,\n",
       "         9.76562500e-04, 9.76562500e-04, 6.93147181e+00],\n",
       "        [6.40662995e-03, 1.56487192e-03, 6.25979709e-03, ...,\n",
       "         2.67931555e-08, 6.54444803e-09, 4.78841939e+00],\n",
       "        [2.17838284e-02, 4.43198222e-03, 1.41175962e-02, ...,\n",
       "         4.69481721e-08, 9.55173995e-09, 5.02377140e+00],\n",
       "        ...,\n",
       "        [2.97058984e-01, 2.44997185e-04, 1.30785988e-04, ...,\n",
       "         9.09079560e-27, 7.49756598e-30, 1.92973739e+00],\n",
       "        [2.09712418e-01, 4.22465948e-05, 9.02138647e-05, ...,\n",
       "         2.68396949e-32, 5.40686015e-36, 1.79774299e+00],\n",
       "        [5.77589697e-03, 2.66826123e-04, 2.12035168e-04, ...,\n",
       "         5.22976266e-06, 7.80681573e-07, 2.46647812e+00]]),\n",
       " 'Prob_12': array([[3.90625000e-03, 3.90625000e-03, 3.90625000e-03, ...,\n",
       "         3.90625000e-03, 3.90625000e-03, 5.54517744e+00],\n",
       "        [4.33828117e-02, 2.49633735e-02, 8.10792742e-02, ...,\n",
       "         1.90354056e-05, 1.09533689e-05, 4.26368010e+00],\n",
       "        [1.58463774e-01, 2.50926872e-02, 1.02531706e-02, ...,\n",
       "         2.62410079e-06, 4.15525510e-07, 3.58403632e+00],\n",
       "        ...,\n",
       "        [8.49212699e-01, 4.23101194e-04, 2.60711438e-05, ...,\n",
       "         2.81374864e-22, 1.40188720e-25, 5.56188305e-01],\n",
       "        [9.83493104e-01, 2.81958160e-04, 5.64296142e-05, ...,\n",
       "         1.42983057e-25, 4.09918884e-29, 1.02143770e-01],\n",
       "        [2.95880599e-02, 9.51268962e-03, 4.11898782e-03, ...,\n",
       "         3.21009455e-04, 7.86274271e-05, 3.22133095e+00]]),\n",
       " 'Prob_23': array([[1.56250000e-02, 1.56250000e-02, 1.56250000e-02, ...,\n",
       "         1.56250000e-02, 1.56250000e-02, 4.15888308e+00],\n",
       "        [2.88598194e-02, 1.90291727e-02, 4.64842232e-03, ...,\n",
       "         1.45206796e-03, 9.57443694e-04, 3.25237742e+00],\n",
       "        [8.09767525e-02, 7.33322599e-02, 9.97284812e-02, ...,\n",
       "         3.07389536e-04, 2.78370874e-04, 3.35708560e+00],\n",
       "        ...,\n",
       "        [3.93571416e-01, 1.45420713e-02, 5.34391403e-01, ...,\n",
       "         2.13486384e-09, 7.88810896e-11, 1.04439612e+00],\n",
       "        [7.46371202e-01, 1.81837685e-02, 1.63231044e-01, ...,\n",
       "         2.03701788e-10, 4.96276671e-12, 8.69031244e-01],\n",
       "        [5.07072070e-02, 3.01700389e-02, 9.06180185e-02, ...,\n",
       "         9.57153165e-03, 7.61614572e-03, 2.91947795e+00]]),\n",
       " 'Prob_34': array([[1.25000000e-01, 1.25000000e-01, 1.25000000e-01, 1.25000000e-01,\n",
       "         1.25000000e-01, 1.25000000e-01, 1.25000000e-01, 1.25000000e-01,\n",
       "         2.07944154e+00],\n",
       "        [3.08278958e-01, 1.53272081e-01, 6.75060555e-02, 3.35630874e-02,\n",
       "         2.39655453e-01, 1.19153413e-01, 5.24790742e-02, 2.60918778e-02,\n",
       "         1.79177349e+00],\n",
       "        [7.67436137e-02, 7.26782234e-03, 7.66361593e-01, 7.25764612e-02,\n",
       "         6.40678027e-03, 6.06738965e-04, 6.39780966e-02, 6.05889425e-03,\n",
       "         8.70796520e-01],\n",
       "        [2.81428168e-01, 1.32510042e-02, 6.15400577e-01, 2.89760464e-02,\n",
       "         1.82645333e-02, 8.59982886e-04, 3.99391590e-02, 1.88052947e-03,\n",
       "         1.03509002e+00],\n",
       "        [6.06567800e-01, 1.10021598e-01, 8.97864834e-02, 1.62858172e-02,\n",
       "         1.30755697e-01, 2.37169705e-02, 1.93549578e-02, 3.51067659e-03,\n",
       "         1.28048842e+00],\n",
       "        [7.60957394e-01, 6.86243285e-02, 2.46655498e-02, 2.22437788e-03,\n",
       "         1.27521978e-01, 1.15001315e-02, 4.13347676e-03, 3.72763402e-04,\n",
       "         8.36246166e-01],\n",
       "        [3.89696759e-01, 6.69402679e-03, 5.76036350e-01, 9.89488024e-03,\n",
       "         7.01302916e-03, 1.20466501e-04, 1.03664186e-02, 1.78069440e-04,\n",
       "         8.48938766e-01],\n",
       "        [7.38734629e-01, 6.30911264e-03, 2.39116972e-01, 2.04216217e-03,\n",
       "         1.03350062e-02, 8.82654143e-05, 3.34528163e-03, 2.85701493e-05,\n",
       "         6.77884878e-01],\n",
       "        [4.95393122e-01, 3.81835681e-01, 9.38510636e-03, 7.23378731e-03,\n",
       "         5.88323060e-02, 4.53463575e-02, 1.11456422e-03, 8.59076095e-04,\n",
       "         1.11564912e+00],\n",
       "        [6.59113885e-01, 2.52584193e-01, 2.73431495e-03, 1.04783824e-03,\n",
       "         6.08512903e-02, 2.33192995e-02, 2.52439823e-04, 9.67394416e-05,\n",
       "         9.06615744e-01],\n",
       "        [7.76014084e-01, 5.66445586e-02, 1.46808201e-01, 1.07161531e-02,\n",
       "         7.69366171e-03, 5.61592993e-04, 1.45550533e-03, 1.06243506e-04,\n",
       "         7.41819559e-01],\n",
       "        [9.19506592e-01, 3.33704922e-02, 3.80920556e-02, 1.38242690e-03,\n",
       "         7.08698906e-03, 2.57199149e-04, 2.93590044e-04, 1.06548929e-05,\n",
       "         3.63915536e-01],\n",
       "        [8.53050565e-01, 1.19261401e-01, 2.39218968e-03, 3.34441947e-04,\n",
       "         2.18384565e-02, 3.05314248e-03, 6.12410710e-05, 8.56185580e-06,\n",
       "         5.08186058e-01],\n",
       "        [9.16200267e-01, 6.36846428e-02, 5.62613437e-04, 3.91069912e-05,\n",
       "         1.82339606e-02, 1.26743389e-03, 1.11969747e-05, 7.78296363e-07,\n",
       "         3.41779224e-01],\n",
       "        [9.58000880e-01, 1.26839084e-02, 2.68273781e-02, 3.55193835e-04,\n",
       "         2.04743752e-03, 2.71080230e-05, 5.73354176e-05, 7.59119537e-07,\n",
       "         2.09923888e-01],\n",
       "        [9.85767611e-01, 6.48904678e-03, 6.04485262e-03, 3.97916619e-05,\n",
       "         1.63780701e-03, 1.07812493e-05, 1.00432413e-05, 6.61119945e-08,\n",
       "         8.88492217e-02],\n",
       "        [7.62512628e-02, 2.86639052e-03, 6.55123925e-02, 2.46270152e-03,\n",
       "         4.42137741e-01, 1.66205697e-02, 3.79869135e-01, 1.42798066e-02,\n",
       "         1.26367832e+00],\n",
       "        [1.50010571e-01, 2.80368588e-03, 2.82226074e-02, 5.27478331e-04,\n",
       "         6.76201057e-01, 1.26381450e-02, 1.27218747e-01, 2.37770846e-03,\n",
       "         1.00220951e+00],\n",
       "        [7.00896888e-02, 2.49519509e-04, 6.01342692e-01, 2.14078184e-03,\n",
       "         3.39283128e-02, 1.20784898e-04, 2.91091932e-01, 1.03628818e-03,\n",
       "         9.89611558e-01],\n",
       "        [2.51948422e-01, 4.45944887e-04, 4.73345658e-01, 8.37814638e-04,\n",
       "         9.48119778e-02, 1.67815763e-04, 1.78127085e-01, 3.15282240e-04,\n",
       "         1.24540355e+00],\n",
       "        [3.91637583e-01, 2.67036898e-03, 4.98072302e-02, 3.39609088e-04,\n",
       "         4.89526465e-01, 3.33782135e-03, 6.22564289e-02, 4.24493572e-04,\n",
       "         1.07992714e+00],\n",
       "        [4.91766148e-01, 1.66711176e-03, 1.36951095e-02, 4.64271039e-05,\n",
       "         4.77852515e-01, 1.61994385e-03, 1.33076312e-02, 4.51135330e-05,\n",
       "         8.40134072e-01],\n",
       "        [3.98648105e-01, 2.57417859e-04, 5.06278190e-01, 3.26917515e-04,\n",
       "         4.15986371e-02, 2.68613646e-05, 5.28297576e-02, 3.41136027e-05,\n",
       "         1.00424604e+00],\n",
       "        [7.23472556e-01, 2.32268440e-04, 2.01196502e-01, 6.45934629e-05,\n",
       "         5.86887544e-02, 1.88418279e-05, 1.63212440e-02, 5.23988069e-06,\n",
       "         7.93210356e-01],\n",
       "        [5.66308176e-01, 1.64084548e-02, 9.21761316e-03, 2.67075059e-04,\n",
       "         3.89968276e-01, 1.12991073e-02, 6.34738622e-03, 1.83911878e-04,\n",
       "         8.86428785e-01],\n",
       "        [6.39796725e-01, 9.21671246e-03, 2.28037625e-03, 3.28503904e-05,\n",
       "         3.42501038e-01, 4.93396333e-03, 1.22074903e-03, 1.75857305e-05,\n",
       "         7.44716375e-01],\n",
       "        [8.11198622e-01, 2.22589214e-03, 1.31851276e-01, 3.61793906e-04,\n",
       "         4.66338461e-02, 1.27961154e-04, 7.57981083e-03, 2.07986563e-05,\n",
       "         6.34670921e-01],\n",
       "        [9.23063042e-01, 1.25929490e-03, 3.28539313e-02, 4.48211946e-05,\n",
       "         4.12523625e-02, 5.62788104e-05, 1.46826622e-03, 2.00309197e-06,\n",
       "         3.36644281e-01],\n",
       "        [8.64110450e-01, 4.54132629e-03, 2.08193187e-03, 1.09415781e-05,\n",
       "         1.28270554e-01, 6.74124979e-04, 3.09046783e-04, 1.62419316e-06,\n",
       "         4.34545559e-01],\n",
       "        [8.93732312e-01, 2.33528603e-03, 4.71523743e-04, 1.23207228e-06,\n",
       "         1.03135601e-01, 2.69489114e-04, 5.44132556e-05, 1.42179614e-07,\n",
       "         3.55234967e-01],\n",
       "        [9.64072701e-01, 4.79827674e-04, 2.31952217e-02, 1.15444709e-05,\n",
       "         1.19471711e-02, 5.94621475e-06, 2.87444382e-04, 1.43063660e-07,\n",
       "         1.81685567e-01],\n",
       "        [9.85023465e-01, 2.43748109e-04, 5.18960338e-03, 1.28418871e-06,\n",
       "         9.48954317e-03, 2.34822650e-06, 4.99957281e-05, 1.23716486e-08,\n",
       "         8.89360485e-02],\n",
       "        [5.61813530e-01, 1.52446916e-01, 5.44979747e-02, 1.47879105e-02,\n",
       "         1.55200267e-01, 4.21132650e-02, 1.50549956e-02, 4.08514130e-03,\n",
       "         1.33973377e+00],\n",
       "        [7.10266186e-01, 9.58223376e-02, 1.50871830e-02, 2.03541879e-03,\n",
       "         1.52533361e-01, 2.05783459e-02, 3.24005110e-03, 4.37116783e-04,\n",
       "         9.32298708e-01],\n",
       "        [4.84065346e-01, 1.24392014e-02, 4.68903688e-01, 1.20495868e-02,\n",
       "         1.11635378e-02, 2.86873448e-04, 1.08138789e-02, 2.77888138e-04,\n",
       "         9.17897974e-01],\n",
       "        [8.00247154e-01, 1.02242584e-02, 1.69747209e-01, 2.16875415e-03,\n",
       "         1.43471429e-02, 1.83304490e-04, 3.04329413e-03, 3.88822696e-05,\n",
       "         6.20019703e-01],\n",
       "        [8.86790740e-01, 4.36461755e-02, 1.27332988e-02, 6.26709062e-04,\n",
       "         5.28083605e-02, 2.59912837e-03, 7.58267538e-04, 3.73205048e-05,\n",
       "         4.80026564e-01],\n",
       "        [9.30000904e-01, 2.27576591e-02, 2.92416584e-03, 7.15560266e-05,\n",
       "         4.30534876e-02, 1.05354370e-03, 1.35371415e-04, 3.31261668e-06,\n",
       "         3.15210507e-01],\n",
       "        [8.66230115e-01, 4.03757294e-03, 1.24206563e-01, 5.78937453e-04,\n",
       "         4.30638047e-03, 2.00724091e-05, 6.17481091e-04, 2.87813238e-06,\n",
       "         4.38313650e-01],\n",
       "        [9.63591536e-01, 2.23305413e-03, 3.02554134e-02, 7.01147461e-05,\n",
       "         3.72405022e-03, 8.63021872e-06, 1.16929918e-04, 2.70976680e-07,\n",
       "         1.77867246e-01],\n",
       "        [7.99289535e-01, 1.67169527e-01, 1.46886378e-03, 3.07209407e-04,\n",
       "         2.62222706e-02, 5.48432625e-03, 4.81889752e-05, 1.00786109e-05,\n",
       "         6.14781646e-01],\n",
       "        [8.82926529e-01, 9.18114244e-02, 3.55304585e-04, 3.69464717e-05,\n",
       "         2.25182256e-02, 2.34156558e-03, 9.06171527e-06, 9.42285635e-07,\n",
       "         4.32104889e-01],\n",
       "        [9.60277148e-01, 1.90200493e-02, 1.76224171e-02, 3.49044276e-04,\n",
       "         2.63002784e-03, 5.20925228e-05, 4.82646574e-05, 9.55970019e-07,\n",
       "         2.04864828e-01],\n",
       "        [9.84189433e-01, 9.69198903e-03, 3.95499947e-03, 3.89475950e-05,\n",
       "         2.09549140e-03, 2.06357424e-05, 8.42080506e-06, 8.29254486e-08,\n",
       "         9.61462589e-02],\n",
       "        [9.56424610e-01, 3.62829278e-02, 2.60171516e-04, 9.86986768e-06,\n",
       "         6.76391555e-03, 2.56595927e-04, 1.83995492e-06, 6.98005371e-08,\n",
       "         2.01142679e-01],\n",
       "        [9.76063214e-01, 1.84097843e-02, 5.81414423e-05, 1.09662099e-06,\n",
       "         5.36622418e-03, 1.01213762e-04, 3.19651442e-07, 6.02902967e-09,\n",
       "         1.26763344e-01],\n",
       "        [9.93134491e-01, 3.56797419e-03, 2.69779259e-03, 9.69219618e-06,\n",
       "         5.86344807e-04, 2.10652551e-06, 1.59277186e-06, 5.72225510e-09,\n",
       "         4.74325729e-02],\n",
       "        [9.97165875e-01, 1.78114886e-03, 5.93153024e-04, 1.05949658e-06,\n",
       "         4.57673596e-04, 8.17501708e-07, 2.72242046e-07, 4.86281794e-10,\n",
       "         2.20621992e-02],\n",
       "        [3.51197480e-01, 3.58233469e-03, 2.92695456e-02, 2.98559399e-04,\n",
       "         5.62551397e-01, 5.73821711e-03, 4.68842310e-02, 4.78235229e-04,\n",
       "         9.93808953e-01],\n",
       "        [4.35196302e-01, 2.20708539e-03, 7.94234294e-03, 4.02793613e-05,\n",
       "         5.41925324e-01, 2.74835852e-03, 9.89015013e-03, 5.01576088e-05,\n",
       "         8.08733137e-01],\n",
       "        [4.80936441e-01, 4.64584280e-04, 4.00261446e-01, 3.86652289e-04,\n",
       "         6.43126027e-02, 6.21259312e-05, 5.35244435e-02, 5.17045766e-05,\n",
       "         1.05943811e+00],\n",
       "        [7.65829532e-01, 3.67813874e-04, 1.39568379e-01, 6.70321318e-05,\n",
       "         7.96129915e-02, 3.82366591e-05, 1.45090463e-02, 6.96842876e-06,\n",
       "         7.46066103e-01],\n",
       "        [7.32916139e-01, 1.35602485e-03, 9.04170813e-03, 1.67287637e-05,\n",
       "         2.53073323e-01, 4.68230534e-04, 3.12206950e-03, 5.77638232e-06,\n",
       "         6.48835555e-01],\n",
       "        [7.85527866e-01, 7.22593633e-04, 2.12205504e-03, 1.95204210e-06,\n",
       "         2.10861412e-01, 1.93967803e-04, 5.69629090e-04, 5.23992046e-07,\n",
       "         5.42078107e-01],\n",
       "        [8.65221420e-01, 1.51601215e-04, 1.06589628e-01, 1.86762796e-05,\n",
       "         2.49411762e-02, 4.37010981e-06, 3.07259001e-03, 5.38368988e-07,\n",
       "         4.75325193e-01],\n",
       "        [9.52306483e-01, 8.29604946e-05, 2.56899510e-02, 2.23798859e-06,\n",
       "         2.13407580e-02, 1.85910720e-06, 5.75700193e-04, 5.01523130e-08,\n",
       "         2.27834974e-01],\n",
       "        [8.32306282e-01, 6.54371653e-03, 1.31412594e-03, 1.03318548e-05,\n",
       "         1.58328788e-01, 1.24480462e-03, 2.49984858e-04, 1.96541836e-06,\n",
       "         4.96759375e-01],\n",
       "        [8.67476415e-01, 3.39092475e-03, 2.99923394e-04, 1.17238652e-06,\n",
       "         1.28285575e-01, 5.01462314e-04, 4.43537648e-05, 1.73376793e-07,\n",
       "         4.12749820e-01],\n",
       "        [9.68366899e-01, 7.21013337e-04, 1.52681085e-02, 1.13681187e-05,\n",
       "         1.53785092e-02, 1.14503193e-05, 2.42470851e-04, 1.80535619e-07,\n",
       "         1.66677841e-01],\n",
       "        [9.84041777e-01, 3.64280623e-04, 3.39748610e-03, 1.25770915e-06,\n",
       "         1.21487409e-02, 4.49732012e-06, 4.19445385e-05, 1.55273718e-08,\n",
       "         9.21060727e-02],\n",
       "        [9.59016259e-01, 1.36762134e-03, 2.24135886e-04, 3.19632768e-07,\n",
       "         3.93263783e-02, 5.60820463e-05, 9.19113992e-06, 1.31071804e-08,\n",
       "         1.78949920e-01],\n",
       "        [9.68369911e-01, 6.86594560e-04, 4.95593454e-05, 3.51386145e-08,\n",
       "         3.08704316e-02, 2.18877829e-05, 1.57989046e-06, 1.12017544e-09,\n",
       "         1.44239337e-01],\n",
       "        [9.94133543e-01, 1.34260013e-04, 2.32017979e-03, 3.13345597e-07,\n",
       "         3.40330047e-03, 4.59623527e-07, 7.94286544e-06, 1.07270218e-09,\n",
       "         4.05663955e-02],\n",
       "        [9.96769355e-01, 6.69292265e-05, 5.09413487e-04, 3.42051554e-08,\n",
       "         2.65273383e-03, 1.78120869e-07, 1.35571823e-06, 9.10312625e-11,\n",
       "         2.34893657e-02],\n",
       "        [5.02461053e-01, 3.73688841e-02, 2.01580802e-01, 1.62996429e-02,\n",
       "         1.48089156e-01, 1.47831314e-02, 7.05661963e-02, 8.85113365e-03,\n",
       "         8.51834133e-01]])}"
      ]
     },
     "execution_count": 446,
     "metadata": {},
     "output_type": "execute_result"
    }
   ],
   "source": [
    "HM.prob_matrix(data_dist)\n",
    "HM.Prob_cat_wake"
   ]
  },
  {
   "cell_type": "code",
   "execution_count": 228,
   "id": "101de65b",
   "metadata": {},
   "outputs": [],
   "source": [
    "key = 'Prob_01'"
   ]
  },
  {
   "cell_type": "code",
   "execution_count": 229,
   "id": "f033e2cb",
   "metadata": {},
   "outputs": [
    {
     "data": {
      "text/plain": [
       "array([0.54899936, 0.23878196, 0.43361982, 0.65364778, 0.11177801,\n",
       "       0.2131588 , 0.08128675, 0.08877533, 0.07838986, 0.07146696])"
      ]
     },
     "execution_count": 229,
     "metadata": {},
     "output_type": "execute_result"
    }
   ],
   "source": [
    "# p = HM.Prob_cat_wake[key][-1,:-1]  # categorical probability of this layer\n",
    "p = HM.Prob_ft_wake[key][-1,:-1]   # factorized probability of this layer\n",
    "p"
   ]
  },
  {
   "cell_type": "code",
   "execution_count": 268,
   "id": "495c3280",
   "metadata": {},
   "outputs": [
    {
     "data": {
      "text/plain": [
       "4.5496379052138085"
      ]
     },
     "execution_count": 268,
     "metadata": {},
     "output_type": "execute_result"
    }
   ],
   "source": [
    "# H_prev = entropy(HM.Prob_cat_wake[key][-1:,:-1])[0]\n",
    "H_prev = entropy_bernoulli(HM.Prob_ft_wake[key][-1:,:-1]).sum()\n",
    "H_prev"
   ]
  },
  {
   "cell_type": "code",
   "execution_count": 231,
   "id": "d60b023d",
   "metadata": {},
   "outputs": [],
   "source": [
    "def entropy_itr(H_prev,s,a):\n",
    "    \"\"\"\n",
    "    Iterative formula for entropy:\n",
    "    H_+1 = (s(H-log(s)) + (s+1)log(s+1) + [alog(a) - (a+1)log(a+1)])/(s+1)\n",
    "    \n",
    "    Arguments:\n",
    "    H_prev -- previous entropy\n",
    "    s -- total counts\n",
    "    a -- counts for the category being modified\n",
    "     \n",
    "    Returns:\n",
    "    H -- updated entropy\n",
    "    \"\"\"\n",
    "    H = (s*(H_prev-np.log(s)) + (s+1)*np.log(s+1) + [a*np.log(a) - (a+1)*np.log(a+1)])/(s+1)\n",
    "    return H"
   ]
  },
  {
   "cell_type": "code",
   "execution_count": 266,
   "id": "522e3000",
   "metadata": {},
   "outputs": [
    {
     "data": {
      "text/plain": [
       "array([0.])"
      ]
     },
     "execution_count": 266,
     "metadata": {},
     "output_type": "execute_result"
    }
   ],
   "source": [
    "entropy_itr(0,1,1)"
   ]
  },
  {
   "cell_type": "code",
   "execution_count": 223,
   "id": "5d33a35d",
   "metadata": {},
   "outputs": [
    {
     "data": {
      "text/plain": [
       "array([-0.03527652])"
      ]
     },
     "execution_count": 223,
     "metadata": {},
     "output_type": "execute_result"
    }
   ],
   "source": [
    "s = 100\n",
    "d = 0\n",
    "for i in range(p.size):\n",
    "    a = p[i]*s\n",
    "    diff = entropy_itr(H_prev,s,a) - H_prev\n",
    "    d += diff\n",
    "d/p.size"
   ]
  },
  {
   "cell_type": "markdown",
   "id": "909a65ec",
   "metadata": {},
   "source": [
    "34: 0.01551925,0.01222263\n",
    "\n",
    "23: 0.00142507,0.01296877\n",
    "\n",
    "12: 0.01083906,0.00781174\n",
    "\n",
    "01: 0.00903954,0.01031023\n",
    "\n",
    "Base 100, categorical entropy change 0.01 for all layers"
   ]
  },
  {
   "cell_type": "code",
   "execution_count": 250,
   "id": "9794ce24",
   "metadata": {},
   "outputs": [
    {
     "data": {
      "text/plain": [
       "array([164.69980869,  71.63458732, 130.08594482, 196.09433406,\n",
       "        33.53340158,  63.94763947,  24.38602566,  26.63259969,\n",
       "        23.51695892,  21.44008756])"
      ]
     },
     "execution_count": 250,
     "metadata": {},
     "output_type": "execute_result"
    }
   ],
   "source": [
    "s = 300\n",
    "count = p*s\n",
    "count"
   ]
  },
  {
   "cell_type": "code",
   "execution_count": 251,
   "id": "b29a653d",
   "metadata": {},
   "outputs": [
    {
     "data": {
      "text/plain": [
       "array([[0, 0, 0, ..., 1, 1, 1],\n",
       "       [0, 0, 0, ..., 1, 1, 1],\n",
       "       [0, 0, 0, ..., 1, 1, 1],\n",
       "       ...,\n",
       "       [0, 0, 0, ..., 1, 1, 1],\n",
       "       [0, 0, 1, ..., 0, 1, 1],\n",
       "       [0, 1, 0, ..., 1, 0, 1]])"
      ]
     },
     "execution_count": 251,
     "metadata": {},
     "output_type": "execute_result"
    }
   ],
   "source": [
    "comb = binarilize(np.arange(2**count.size),count.size)\n",
    "comb"
   ]
  },
  {
   "cell_type": "code",
   "execution_count": 252,
   "id": "92ded91f",
   "metadata": {},
   "outputs": [
    {
     "data": {
      "text/plain": [
       "array([[0.54717544, 0.54717544, 0.54717544, ..., 0.5504977 , 0.5504977 ,\n",
       "        0.5504977 ],\n",
       "       [0.23798866, 0.23798866, 0.23798866, ..., 0.24131092, 0.24131092,\n",
       "        0.24131092],\n",
       "       [0.43217922, 0.43217922, 0.43217922, ..., 0.43550148, 0.43550148,\n",
       "        0.43550148],\n",
       "       ...,\n",
       "       [0.0884804 , 0.0884804 , 0.0884804 , ..., 0.09180266, 0.09180266,\n",
       "        0.09180266],\n",
       "       [0.07812943, 0.07812943, 0.08145169, ..., 0.07812943, 0.08145169,\n",
       "        0.08145169],\n",
       "       [0.07122953, 0.07455179, 0.07122953, ..., 0.07455179, 0.07122953,\n",
       "        0.07455179]])"
      ]
     },
     "execution_count": 252,
     "metadata": {},
     "output_type": "execute_result"
    }
   ],
   "source": [
    "p_comb = (count.reshape(-1,1) + comb)/(s+1)\n",
    "p_comb"
   ]
  },
  {
   "cell_type": "code",
   "execution_count": 253,
   "id": "9c7b8c9f",
   "metadata": {},
   "outputs": [
    {
     "data": {
      "text/plain": [
       "0.01880876956171562"
      ]
     },
     "execution_count": 253,
     "metadata": {},
     "output_type": "execute_result"
    }
   ],
   "source": [
    "entropy_bernoulli(p_comb).sum(axis=0).mean() - H_prev"
   ]
  },
  {
   "cell_type": "markdown",
   "id": "006c3d6d",
   "metadata": {},
   "source": [
    "Factorized entropy +1 with base 100\n",
    "\n",
    "34: 0.01353517685061778, 0.014576282609702895\n",
    "\n",
    "23: 0.02094969259531121, 0.004340326260527494\n",
    "\n",
    "12: 0.027016930883997148, 0.01679027774906583\n",
    "\n",
    "01: 0.05793475883632837, 0.05497309139037743"
   ]
  },
  {
   "cell_type": "code",
   "execution_count": 259,
   "id": "45ba75eb",
   "metadata": {},
   "outputs": [],
   "source": [
    "ur = 0.05 # update rate\n",
    "base = 100"
   ]
  },
  {
   "cell_type": "code",
   "execution_count": 422,
   "id": "300cc879",
   "metadata": {},
   "outputs": [],
   "source": [
    "def init_base(Prob_ft_wake,Prob_cat_wake,base):\n",
    "    Count_ft = {}\n",
    "    Count_cat = {}\n",
    "    for key in Prob_ft_wake:\n",
    "        Count_ft[key] = Prob_ft_wake[key][-1,:-1] * base\n",
    "        Count_ft[key] = np.append(Count_ft[key],base)\n",
    "        Count_ft[key] = np.append(Count_ft[key],entropy_bernoulli(Prob_ft_wake[key][-1,:-1]))\n",
    "        \n",
    "        Count_cat[key] = Prob_cat_wake[key][-1,:-1] * base\n",
    "        Count_cat[key] = np.append(Count_cat[key],base)\n",
    "        Count_cat[key] = np.append(Count_cat[key],entropy(Prob_cat_wake[key][-1:,:-1]))\n",
    "    return Count_ft,Count_cat"
   ]
  },
  {
   "cell_type": "code",
   "execution_count": 423,
   "id": "c764e546",
   "metadata": {},
   "outputs": [
    {
     "data": {
      "text/plain": [
       "{'Prob_01': array([ 54.89993623,  23.87819577,  43.36198161,  65.36477802,\n",
       "         11.17780053,  21.31587982,   8.12867522,   8.87753323,\n",
       "          7.83898631,   7.14669585, 100.        ,   0.68833759,\n",
       "          0.54967184,   0.68430845,   0.64515923,   0.35021662,\n",
       "          0.51811188,   0.28190087,   0.2996952 ,   0.27481914,\n",
       "          0.25741709]),\n",
       " 'Prob_12': array([ 66.10852028,  12.18391613,  26.72407105,  39.57380534,\n",
       "         31.04852621,  36.17000155,  25.70052392,  31.83021006,\n",
       "        100.        ,   0.64031304,   0.37057345,   0.58049503,\n",
       "          0.67124571,   0.61948838,   0.65439006,   0.56990113,\n",
       "          0.625583  ]),\n",
       " 'Prob_23': array([ 31.26477724,  49.47404222,  32.15622618,  30.29453617,\n",
       "         50.11200557,  41.66563225, 100.        ,   0.62120284,\n",
       "          0.69309185,   0.62804144,   0.61333928,   0.69314467,\n",
       "          0.67918979]),\n",
       " 'Prob_34': array([ 24.22896174,  29.7297775 ,   7.7302792 , 100.        ,\n",
       "          0.55370478,   0.6085573 ,   0.27213192])}"
      ]
     },
     "execution_count": 423,
     "metadata": {},
     "output_type": "execute_result"
    }
   ],
   "source": [
    "Count_ft,Count_cat = init_base(HM.Prob_ft_wake,HM.Prob_cat_wake,base)\n",
    "Count_ft"
   ]
  },
  {
   "cell_type": "code",
   "execution_count": 435,
   "id": "e1656cfb",
   "metadata": {},
   "outputs": [],
   "source": [
    "def Mutual_inform(q,Count_ft_arr,Count_cat_arr):\n",
    "    base = Count_cat_arr[-2]\n",
    "    n_neuron = q.size\n",
    "    \n",
    "    comb = binarilize(np.arange(2**n_neuron),n_neuron)\n",
    "    count_q = q * base\n",
    "    q_comb = count_q**comb * (base-count_q)**(1-comb)\n",
    "    entropy_q = entropy_bernoulli(q) #(n_neuron,1)\n",
    "    new_entropy_q = entropy_itr(entropy_q,base,q_comb)[0]  #(n_neuron,2**n_neuron)\n",
    "    \n",
    "    count_ft = Count_ft_arr[:n_neuron].reshape(-1,1)\n",
    "    ft_comb = count_ft**comb * (base-count_ft)**(1-comb)\n",
    "    entropy_ft = Count_ft_arr[-n_neuron:].reshape(-1,1) #(n_neuron,1)\n",
    "    new_entropy_ft = entropy_itr(entropy_ft,base,ft_comb)[0] #(n_neuron,2**n_neuron)\n",
    "    \n",
    "    count_cat = Count_cat_arr[:-2]\n",
    "    entropy_cat = Count_cat_arr[-1]\n",
    "    new_entropy_cat = entropy_itr(entropy_cat,base,count_cat)[0] #(2**n_neuron,)\n",
    "    \n",
    "    MI = (new_entropy_ft.sum(axis=0) + new_entropy_cat)/2 - new_entropy_q.sum(axis=0) #(2**n_neuron,)\n",
    "    choice = MI.argmax()\n",
    "    Count_ft_arr[:n_neuron] += comb[:,choice]\n",
    "    Count_ft_arr[n_neuron] += 1\n",
    "    Count_ft_arr[-n_neuron:] = new_entropy_ft[:,choice]\n",
    "    \n",
    "    Count_cat_arr[choice] += 1\n",
    "    Count_cat_arr[-2] += 1\n",
    "    Count_cat_arr[-1] = new_entropy_cat[choice]\n",
    "    return [new_entropy_ft.sum(axis=0),new_entropy_cat,new_entropy_q.sum(axis=0),MI],Count_ft_arr,Count_cat_arr"
   ]
  },
  {
   "cell_type": "code",
   "execution_count": 436,
   "id": "12836e95",
   "metadata": {},
   "outputs": [
    {
     "data": {
      "text/plain": [
       "array([[0.32626378],\n",
       "       [0.95672509],\n",
       "       [0.03167473]])"
      ]
     },
     "execution_count": 436,
     "metadata": {},
     "output_type": "execute_result"
    }
   ],
   "source": [
    "q = np.random.rand(3,1)\n",
    "q"
   ]
  },
  {
   "cell_type": "code",
   "execution_count": 437,
   "id": "1441416b",
   "metadata": {},
   "outputs": [],
   "source": [
    "Count_ft_arr = Count_ft['Prob_34']\n",
    "Count_cat_arr = Count_cat['Prob_34']"
   ]
  },
  {
   "cell_type": "code",
   "execution_count": 438,
   "id": "96759b65",
   "metadata": {},
   "outputs": [
    {
     "data": {
      "text/plain": [
       "array([[[0.62915831, 0.62915831, 0.62915831, 0.62915831, 0.63619186,\n",
       "         0.63619186, 0.63619186, 0.63619186],\n",
       "        [0.2062585 , 0.2062585 , 0.17690018, 0.17690018, 0.2062585 ,\n",
       "         0.2062585 , 0.17690018, 0.17690018],\n",
       "        [0.13945271, 0.17163887, 0.13945271, 0.17163887, 0.13945271,\n",
       "         0.17163887, 0.13945271, 0.17163887]]])"
      ]
     },
     "execution_count": 438,
     "metadata": {},
     "output_type": "execute_result"
    }
   ],
   "source": [
    "base = Count_cat_arr[-2]\n",
    "n_neuron = q.size\n",
    "\n",
    "comb = binarilize(np.arange(2**n_neuron),n_neuron)\n",
    "count_q = q * base\n",
    "q_comb = count_q**comb * (base-count_q)**(1-comb)\n",
    "entropy_q = entropy_bernoulli(q) #(n_neuron,1)\n",
    "new_entropy_q = entropy_itr(entropy_q,base,q_comb)  #(n_neuron,2**n_neuron)\n",
    "new_entropy_q"
   ]
  },
  {
   "cell_type": "code",
   "execution_count": 439,
   "id": "3c02afec",
   "metadata": {},
   "outputs": [
    {
     "data": {
      "text/plain": [
       "array([[[0.559397  , 0.559397  , 0.559397  , 0.559397  , 0.57005123,\n",
       "         0.57005123, 0.57005123, 0.57005123],\n",
       "        [0.61193849, 0.61193849, 0.61995909, 0.61995909, 0.61193849,\n",
       "         0.61193849, 0.61995909, 0.61995909],\n",
       "        [0.26835733, 0.29221647, 0.26835733, 0.29221647, 0.26835733,\n",
       "         0.29221647, 0.26835733, 0.29221647]]])"
      ]
     },
     "execution_count": 439,
     "metadata": {},
     "output_type": "execute_result"
    }
   ],
   "source": [
    "count_ft = Count_ft_arr[:n_neuron].reshape(-1,1)\n",
    "ft_comb = count_ft**comb * (base-count_ft)**(1-comb)\n",
    "entropy_ft = Count_ft_arr[-n_neuron:].reshape(-1,1) #(n_neuron,1)\n",
    "new_entropy_ft = entropy_itr(entropy_ft,base,ft_comb) #(n_neuron,2**n_neuron)\n",
    "new_entropy_ft"
   ]
  },
  {
   "cell_type": "code",
   "execution_count": 442,
   "id": "6a590255",
   "metadata": {},
   "outputs": [
    {
     "data": {
      "text/plain": [
       "array([[0.559397  , 0.559397  , 0.559397  , 0.559397  , 0.57005123,\n",
       "        0.57005123, 0.57005123, 0.57005123],\n",
       "       [0.61193849, 0.61193849, 0.61995909, 0.61995909, 0.61193849,\n",
       "        0.61193849, 0.61995909, 0.61995909],\n",
       "       [0.26835733, 0.29221647, 0.26835733, 0.29221647, 0.26835733,\n",
       "        0.29221647, 0.26835733, 0.29221647]])"
      ]
     },
     "execution_count": 442,
     "metadata": {},
     "output_type": "execute_result"
    }
   ],
   "source": [
    "entropy_bernoulli((count_ft + comb)/(base+1))"
   ]
  },
  {
   "cell_type": "code",
   "execution_count": 369,
   "id": "31c0696b",
   "metadata": {},
   "outputs": [
    {
     "data": {
      "text/plain": [
       "array([[1.425234  , 1.44984113, 1.43413311, 1.45671968, 1.43710094,\n",
       "        1.45746599, 1.44409663, 1.46111183]])"
      ]
     },
     "execution_count": 369,
     "metadata": {},
     "output_type": "execute_result"
    }
   ],
   "source": [
    "count_cat = Count_cat_arr[:-2]\n",
    "entropy_cat = Count_cat_arr[-1]\n",
    "new_entropy_cat = entropy_itr(entropy_cat,base,count_cat) #(2**n_neuron,)\n",
    "new_entropy_cat"
   ]
  },
  {
   "cell_type": "code",
   "execution_count": 331,
   "id": "bdbb5b3b",
   "metadata": {},
   "outputs": [
    {
     "data": {
      "text/plain": [
       "masked_array(data=[1.4271884045666865, 1.451177625588427,\n",
       "                   1.435610663545397, 1.4595998845671374,\n",
       "                   1.4383406736179039, 1.4623298946396444,\n",
       "                   1.4467629325966138, 1.4707521536183545],\n",
       "             mask=[False, False, False, False, False, False, False, False],\n",
       "       fill_value=1e+20)"
      ]
     },
     "execution_count": 331,
     "metadata": {},
     "output_type": "execute_result"
    }
   ],
   "source": [
    "new_entropy_ft[0].sum(axis=0)"
   ]
  },
  {
   "cell_type": "code",
   "execution_count": 405,
   "id": "da45b338",
   "metadata": {},
   "outputs": [
    {
     "data": {
      "text/plain": [
       "(1, 3, 8)"
      ]
     },
     "execution_count": 405,
     "metadata": {},
     "output_type": "execute_result"
    }
   ],
   "source": [
    "new_entropy_q.shape"
   ]
  },
  {
   "cell_type": "code",
   "execution_count": 403,
   "id": "360b3949",
   "metadata": {},
   "outputs": [
    {
     "data": {
      "text/plain": [
       "array([[0.01555497, 0.0090099 , 0.03334331, 0.02578795, 0.03390484,\n",
       "        0.02523872, 0.05074146, 0.04040042]])"
      ]
     },
     "execution_count": 403,
     "metadata": {},
     "output_type": "execute_result"
    }
   ],
   "source": [
    "MI = (new_entropy_ft[0].sum(axis=0) + new_entropy_cat)/2 - new_entropy_q[0].sum(axis=0)\n",
    "MI"
   ]
  },
  {
   "cell_type": "code",
   "execution_count": 404,
   "id": "91370ed8",
   "metadata": {},
   "outputs": [
    {
     "data": {
      "text/plain": [
       "6"
      ]
     },
     "execution_count": 404,
     "metadata": {},
     "output_type": "execute_result"
    }
   ],
   "source": [
    "MI.argmax()"
   ]
  },
  {
   "cell_type": "code",
   "execution_count": 443,
   "id": "8886c07f",
   "metadata": {},
   "outputs": [],
   "source": [
    "MI_,Count_ft_arr,Count_cat_arr = Mutual_inform(q,Count_ft['Prob_34'],Count_cat['Prob_34'])"
   ]
  },
  {
   "cell_type": "code",
   "execution_count": 444,
   "id": "a457c02a",
   "metadata": {},
   "outputs": [],
   "source": [
    "def check_M(n_neuron,Count_ft_arr,Count_cat_arr):\n",
    "    check1 = Count_cat_arr[:-2].sum() - Count_cat_arr[-2]\n",
    "    check2 = Count_ft_arr[n_neuron] - Count_cat_arr[-2]\n",
    "    check3 = entropy(Count_cat_arr[:-2].reshape(1,-1)) - Count_cat_arr[-1]\n",
    "    check4 = (entropy_bernoulli(Count_ft_arr[:n_neuron]/Count_ft_arr[n_neuron]) - Count_ft_arr[-n_neuron:]).mean()\n",
    "    return [check1,check2,check3,check4]"
   ]
  },
  {
   "cell_type": "code",
   "execution_count": 445,
   "id": "3b246596",
   "metadata": {},
   "outputs": [
    {
     "data": {
      "text/plain": [
       "[2.842170943040401e-14, 0.0, array([1.55431223e-15]), 1.4802973661668755e-15]"
      ]
     },
     "execution_count": 445,
     "metadata": {},
     "output_type": "execute_result"
    }
   ],
   "source": [
    "check_M(3,Count_ft_arr,Count_cat_arr)"
   ]
  },
  {
   "cell_type": "code",
   "execution_count": 289,
   "id": "5d94d522",
   "metadata": {},
   "outputs": [
    {
     "data": {
      "text/plain": [
       "array([[0, 0, 0, 0, 1, 1, 1, 1],\n",
       "       [0, 0, 1, 1, 0, 0, 1, 1],\n",
       "       [0, 1, 0, 1, 0, 1, 0, 1]])"
      ]
     },
     "execution_count": 289,
     "metadata": {},
     "output_type": "execute_result"
    }
   ],
   "source": [
    "comb = binarilize(np.arange(2**q.size),q.size)\n",
    "comb"
   ]
  },
  {
   "cell_type": "code",
   "execution_count": 428,
   "id": "aa060ca9",
   "metadata": {},
   "outputs": [
    {
     "data": {
      "text/plain": [
       "array([[66.78149883],\n",
       "       [71.7573143 ],\n",
       "       [ 4.06544106]])"
      ]
     },
     "execution_count": 428,
     "metadata": {},
     "output_type": "execute_result"
    }
   ],
   "source": [
    "count_q = q * base\n",
    "count_q"
   ]
  },
  {
   "cell_type": "code",
   "execution_count": 429,
   "id": "e0aa687c",
   "metadata": {},
   "outputs": [
    {
     "data": {
      "text/plain": [
       "array([[33.21850117, 33.21850117, 33.21850117, 33.21850117, 66.78149883,\n",
       "        66.78149883, 66.78149883, 66.78149883],\n",
       "       [28.2426857 , 28.2426857 , 71.7573143 , 71.7573143 , 28.2426857 ,\n",
       "        28.2426857 , 71.7573143 , 71.7573143 ],\n",
       "       [95.93455894,  4.06544106, 95.93455894,  4.06544106, 95.93455894,\n",
       "         4.06544106, 95.93455894,  4.06544106]])"
      ]
     },
     "execution_count": 429,
     "metadata": {},
     "output_type": "execute_result"
    }
   ],
   "source": [
    "q_comb = count_q**comb * (100-count_q)**(1-comb)\n",
    "q_comb"
   ]
  },
  {
   "cell_type": "code",
   "execution_count": 430,
   "id": "37142bf9",
   "metadata": {},
   "outputs": [
    {
     "data": {
      "text/plain": [
       "array([[0.63571524],\n",
       "       [0.59523081],\n",
       "       [0.17001835]])"
      ]
     },
     "execution_count": 430,
     "metadata": {},
     "output_type": "execute_result"
    }
   ],
   "source": [
    "entropy_q = entropy_bernoulli(q)\n",
    "entropy_q"
   ]
  },
  {
   "cell_type": "code",
   "execution_count": 431,
   "id": "ed839e81",
   "metadata": {},
   "outputs": [
    {
     "data": {
      "text/plain": [
       "array([[[0.64023434, 0.64023434, 0.64023434, 0.64023434, 0.63339408,\n",
       "         0.63339408, 0.63339408, 0.63339408],\n",
       "        [0.6017317 , 0.6017317 , 0.59260405, 0.59260405, 0.6017317 ,\n",
       "         0.6017317 , 0.59260405, 0.59260405],\n",
       "        [0.16874385, 0.19896515, 0.16874385, 0.19896515, 0.16874385,\n",
       "         0.19896515, 0.16874385, 0.19896515]]])"
      ]
     },
     "execution_count": 431,
     "metadata": {},
     "output_type": "execute_result"
    }
   ],
   "source": [
    "entropy_itr(entropy_q,base,q_comb)"
   ]
  },
  {
   "cell_type": "code",
   "execution_count": 432,
   "id": "f49998ed",
   "metadata": {},
   "outputs": [
    {
     "data": {
      "text/plain": [
       "array([[0.64023434, 0.64023434, 0.64023434, 0.64023434, 0.63339408,\n",
       "        0.63339408, 0.63339408, 0.63339408],\n",
       "       [0.6017317 , 0.6017317 , 0.59260405, 0.59260405, 0.6017317 ,\n",
       "        0.6017317 , 0.59260405, 0.59260405],\n",
       "       [0.16874385, 0.19896515, 0.16874385, 0.19896515, 0.16874385,\n",
       "        0.19896515, 0.16874385, 0.19896515]])"
      ]
     },
     "execution_count": 432,
     "metadata": {},
     "output_type": "execute_result"
    }
   ],
   "source": [
    "entropy_bernoulli((q*base+comb)/101)"
   ]
  },
  {
   "cell_type": "code",
   "execution_count": 434,
   "id": "b2b75cd9",
   "metadata": {},
   "outputs": [
    {
     "data": {
      "text/plain": [
       "-1.295260195396016e-16"
      ]
     },
     "execution_count": 434,
     "metadata": {},
     "output_type": "execute_result"
    }
   ],
   "source": [
    "(entropy_itr(entropy_q,base,q_comb)-entropy_bernoulli((q*base+comb)/101)).mean()"
   ]
  },
  {
   "cell_type": "markdown",
   "id": "00632e10",
   "metadata": {},
   "source": [
    "#### Mutual Information Summary"
   ]
  },
  {
   "cell_type": "code",
   "execution_count": 967,
   "id": "de70e473",
   "metadata": {},
   "outputs": [],
   "source": [
    "HM.prob_matrix(data_dist)"
   ]
  },
  {
   "cell_type": "code",
   "execution_count": 448,
   "id": "6a907cd4",
   "metadata": {},
   "outputs": [],
   "source": [
    "def entropy_itr(H_prev,s,a):\n",
    "    \"\"\"\n",
    "    Iterative formula for entropy:\n",
    "    H_+1 = (s(H-log(s)) + (s+1)log(s+1) + [alog(a) - (a+1)log(a+1)])/(s+1)\n",
    "    \n",
    "    Arguments:\n",
    "    H_prev -- previous entropy\n",
    "    s -- total counts\n",
    "    a -- counts for the category being modified\n",
    "     \n",
    "    Returns:\n",
    "    H -- updated entropy\n",
    "    \"\"\"\n",
    "    H = (s*(H_prev-np.log(s)) + (s+1)*np.log(s+1) + [a*np.log(a) - (a+1)*np.log(a+1)])/(s+1)\n",
    "    return H"
   ]
  },
  {
   "cell_type": "code",
   "execution_count": 449,
   "id": "ede5d0a3",
   "metadata": {},
   "outputs": [],
   "source": [
    "def init_base(Prob_ft_wake,Prob_cat_wake,base=100):\n",
    "    Count_ft = {}\n",
    "    Count_cat = {}\n",
    "    for key in Prob_ft_wake:\n",
    "        Count_ft[key] = Prob_ft_wake[key][-1,:-1] * base\n",
    "        Count_ft[key] = np.append(Count_ft[key],base)\n",
    "        Count_ft[key] = np.append(Count_ft[key],entropy_bernoulli(Prob_ft_wake[key][-1,:-1]))\n",
    "        \n",
    "        Count_cat[key] = Prob_cat_wake[key][-1,:-1] * base\n",
    "        Count_cat[key] = np.append(Count_cat[key],base)\n",
    "        Count_cat[key] = np.append(Count_cat[key],entropy(Prob_cat_wake[key][-1:,:-1]))\n",
    "    return Count_ft,Count_cat"
   ]
  },
  {
   "cell_type": "code",
   "execution_count": 450,
   "id": "ec6e609f",
   "metadata": {},
   "outputs": [],
   "source": [
    "Count_ft,Count_cat = init_base(HM.Prob_ft_wake,HM.Prob_cat_wake,base=100)"
   ]
  },
  {
   "cell_type": "code",
   "execution_count": 481,
   "id": "935669cc",
   "metadata": {},
   "outputs": [],
   "source": [
    "def Mutual_inform(q,Count_ft_arr,Count_cat_arr):\n",
    "    base = Count_cat_arr[-2]\n",
    "    n_neuron = q.size\n",
    "    \n",
    "    comb = binarilize(np.arange(2**n_neuron),n_neuron)\n",
    "    count_q = q * base\n",
    "    q_comb = count_q**comb * (base-count_q)**(1-comb)\n",
    "    entropy_q = entropy_bernoulli(q) #(n_neuron,1)\n",
    "    new_entropy_q = entropy_itr(entropy_q,base,q_comb)[0]  #(n_neuron,2**n_neuron)\n",
    "    \n",
    "    count_ft = Count_ft_arr[:n_neuron].reshape(-1,1)\n",
    "    ft_comb = count_ft**comb * (base-count_ft)**(1-comb)\n",
    "    entropy_ft = Count_ft_arr[-n_neuron:].reshape(-1,1) #(n_neuron,1)\n",
    "    new_entropy_ft = entropy_itr(entropy_ft,base,ft_comb)[0] #(n_neuron,2**n_neuron)\n",
    "    \n",
    "    count_cat = Count_cat_arr[:-2]\n",
    "    entropy_cat = Count_cat_arr[-1]\n",
    "    new_entropy_cat = entropy_itr(entropy_cat,base,count_cat)[0] #(2**n_neuron,)\n",
    "    \n",
    "    MI = (new_entropy_ft.sum(axis=0) + new_entropy_cat)/2 - new_entropy_q.sum(axis=0) #(2**n_neuron,)\n",
    "    choice = MI.argmax()\n",
    "    # update count matrices\n",
    "    Count_ft_arr[:n_neuron] += comb[:,choice]\n",
    "    Count_ft_arr[n_neuron] += 1\n",
    "    Count_ft_arr[-n_neuron:] = new_entropy_ft[:,choice]\n",
    "    \n",
    "    Count_cat_arr[choice] += 1\n",
    "    Count_cat_arr[-2] += 1\n",
    "    Count_cat_arr[-1] = new_entropy_cat[choice]\n",
    "    \n",
    "    sample = comb[:,choice:choice+1]\n",
    "    # return [new_entropy_ft.sum(axis=0),new_entropy_cat,new_entropy_q.sum(axis=0),MI]\n",
    "    return sample"
   ]
  },
  {
   "cell_type": "code",
   "execution_count": 482,
   "id": "a7ba73c9",
   "metadata": {},
   "outputs": [
    {
     "data": {
      "text/plain": [
       "array([[0.90760582],\n",
       "       [0.34271788],\n",
       "       [0.81738018]])"
      ]
     },
     "execution_count": 482,
     "metadata": {},
     "output_type": "execute_result"
    }
   ],
   "source": [
    "q = np.random.rand(3,1)\n",
    "q"
   ]
  },
  {
   "cell_type": "code",
   "execution_count": 485,
   "id": "fa5b8509",
   "metadata": {},
   "outputs": [
    {
     "data": {
      "text/plain": [
       "array([[1],\n",
       "       [0],\n",
       "       [1]])"
      ]
     },
     "execution_count": 485,
     "metadata": {},
     "output_type": "execute_result"
    }
   ],
   "source": [
    "Mutual_inform(q,Count_ft['Prob_34'],Count_cat['Prob_34'])"
   ]
  },
  {
   "cell_type": "code",
   "execution_count": 487,
   "id": "bcd44365",
   "metadata": {},
   "outputs": [
    {
     "data": {
      "text/plain": [
       "{'Prob_01': array([ 54.89993623,  23.87819577,  43.36198161,  65.36477802,\n",
       "         11.17780053,  21.31587982,   8.12867522,   8.87753323,\n",
       "          7.83898631,   7.14669585, 100.        ,   0.68833759,\n",
       "          0.54967184,   0.68430845,   0.64515923,   0.35021662,\n",
       "          0.51811188,   0.28190087,   0.2996952 ,   0.27481914,\n",
       "          0.25741709]),\n",
       " 'Prob_12': array([ 66.10852028,  12.18391613,  26.72407105,  39.57380534,\n",
       "         31.04852621,  36.17000155,  25.70052392,  31.83021006,\n",
       "        100.        ,   0.64031304,   0.37057345,   0.58049503,\n",
       "          0.67124571,   0.61948838,   0.65439006,   0.56990113,\n",
       "          0.625583  ]),\n",
       " 'Prob_23': array([ 31.26477724,  49.47404222,  32.15622618,  30.29453617,\n",
       "         50.11200557,  41.66563225, 100.        ,   0.62120284,\n",
       "          0.69309185,   0.62804144,   0.61333928,   0.69314467,\n",
       "          0.67918979]),\n",
       " 'Prob_34': array([ 42.22896174,  39.7297775 ,  24.7302792 , 119.        ,\n",
       "          0.65040649,   0.63688114,   0.51105059])}"
      ]
     },
     "execution_count": 487,
     "metadata": {},
     "output_type": "execute_result"
    }
   ],
   "source": [
    "Count_ft"
   ]
  },
  {
   "cell_type": "code",
   "execution_count": 463,
   "id": "fc4cde4f",
   "metadata": {},
   "outputs": [],
   "source": [
    "def check_M(n_neuron,Count_ft_arr,Count_cat_arr):\n",
    "    check1 = Count_cat_arr[:-2].sum() - Count_cat_arr[-2]\n",
    "    check2 = Count_ft_arr[n_neuron] - Count_cat_arr[-2]\n",
    "    check3 = entropy(Count_cat_arr[:-2].reshape(1,-1)) - Count_cat_arr[-1]\n",
    "    check4 = (entropy_bernoulli(Count_ft_arr[:n_neuron]/Count_ft_arr[n_neuron]) - Count_ft_arr[-n_neuron:]).mean()\n",
    "    return [check1,check2,check3,check4]"
   ]
  },
  {
   "cell_type": "code",
   "execution_count": 454,
   "id": "9b3afd6e",
   "metadata": {},
   "outputs": [
    {
     "data": {
      "text/plain": [
       "[2.842170943040401e-14, 0.0, array([8.8817842e-16]), 6.291263806209221e-16]"
      ]
     },
     "execution_count": 454,
     "metadata": {},
     "output_type": "execute_result"
    }
   ],
   "source": [
    "check_M(3,Count_ft_arr,Count_cat_arr)"
   ]
  },
  {
   "cell_type": "code",
   "execution_count": 999,
   "id": "5991bc15",
   "metadata": {},
   "outputs": [],
   "source": [
    "epoch = 500\n",
    "add_norm = False"
   ]
  },
  {
   "cell_type": "code",
   "execution_count": 1000,
   "id": "9ce68f5e",
   "metadata": {},
   "outputs": [
    {
     "name": "stdout",
     "output_type": "stream",
     "text": [
      "Loss_Q: [1.62 1.6  0.44 0.   3.66] Loss_P: [ 5.9   1.78  1.68  1.05 10.4 ]\n",
      "Loss_Q: [1.55 1.43 0.47 0.   3.44] Loss_P: [ 5.76  1.78  1.54  1.26 10.34]\n",
      "Loss_Q: [1.57 1.5  0.51 0.   3.58] Loss_P: [ 5.9   1.78  1.6   1.14 10.41]\n",
      "Loss_Q: [1.51 1.58 0.61 0.   3.7 ] Loss_P: [ 6.11  1.66  1.7   1.27 10.75]\n",
      "Loss_Q: [1.65 1.81 0.61 0.   4.06] Loss_P: [ 6.05  1.69  2.07  1.29 11.09]\n",
      "Loss_Q: [1.33 1.   0.43 0.   2.76] Loss_P: [ 4.07  2.61  2.14  1.93 10.74]\n",
      "Loss_Q: [2.19 1.78 0.8  0.   4.77] Loss_P: [ 4.24  3.01  2.48  1.78 11.51]\n",
      "Loss_Q: [2.28 1.98 0.79 0.   5.04] Loss_P: [ 4.79  2.85  2.49  1.72 11.85]\n",
      "Loss_Q: [2.35 1.97 0.64 0.   4.96] Loss_P: [ 4.96  2.81  2.41  1.67 11.86]\n",
      "Loss_Q: [2.32 1.93 0.63 0.   4.88] Loss_P: [ 5.24  2.66  2.52  1.44 11.86]\n",
      "Loss_Q: [1.07 0.73 0.37 0.   2.16] Loss_P: [ 3.33  2.41  2.43  1.92 10.08]\n",
      "Loss_Q: [2.15 1.8  0.84 0.   4.8 ] Loss_P: [ 3.92  2.85  2.82  1.79 11.38]\n",
      "Loss_Q: [2.29 1.75 0.7  0.   4.75] Loss_P: [ 4.41  2.69  2.77  1.68 11.54]\n",
      "Loss_Q: [2.37 1.82 0.78 0.   4.97] Loss_P: [ 4.7   2.76  2.55  1.83 11.85]\n",
      "Loss_Q: [2.41 1.78 0.71 0.   4.9 ] Loss_P: [ 4.83  2.87  2.39  1.81 11.9 ]\n",
      "Loss_Q: [0.85 0.56 0.23 0.   1.65] Loss_P: [2.81 2.25 2.56 1.9  9.53]\n",
      "Loss_Q: [1.7  1.42 0.81 0.   3.93] Loss_P: [ 3.47  2.67  2.76  1.78 10.68]\n",
      "Loss_Q: [1.84 1.51 0.78 0.   4.13] Loss_P: [ 3.82  2.93  2.64  1.71 11.11]\n",
      "Loss_Q: [2.13 1.77 0.74 0.   4.64] Loss_P: [ 4.15  2.87  2.69  1.66 11.38]\n",
      "Loss_Q: [1.97 1.51 0.76 0.   4.23] Loss_P: [ 4.28  2.82  2.51  1.63 11.24]\n",
      "Loss_Q: [0.67 0.46 0.21 0.   1.35] Loss_P: [2.56 1.95 2.73 1.82 9.07]\n",
      "Loss_Q: [1.75 1.56 0.82 0.   4.13] Loss_P: [ 3.33  2.52  3.08  1.59 10.53]\n",
      "Loss_Q: [1.99 1.78 0.69 0.   4.46] Loss_P: [ 4.16  2.82  3.19  1.47 11.64]\n",
      "Loss_Q: [2.19 1.98 0.71 0.   4.88] Loss_P: [ 4.33  2.92  3.05  1.58 11.89]\n",
      "Loss_Q: [2.47 2.08 0.66 0.   5.2 ] Loss_P: [ 4.78  3.    2.93  1.46 12.18]\n",
      "Loss_Q: [0.74 0.5  0.21 0.   1.45] Loss_P: [2.61 2.01 2.81 1.76 9.19]\n",
      "Loss_Q: [1.66 1.44 0.79 0.   3.89] Loss_P: [ 3.17  2.66  3.02  1.67 10.52]\n",
      "Loss_Q: [2.04 1.71 0.78 0.   4.52] Loss_P: [ 3.71  2.91  3.25  1.46 11.33]\n",
      "Loss_Q: [2.41 2.19 0.76 0.   5.36] Loss_P: [ 4.39  3.15  3.21  1.53 12.28]\n",
      "Loss_Q: [2.72 2.26 0.73 0.   5.71] Loss_P: [ 4.85  3.05  3.3   1.39 12.6 ]\n",
      "Loss_Q: [0.76 0.41 0.24 0.   1.41] Loss_P: [2.48 2.07 2.83 1.74 9.12]\n",
      "Loss_Q: [1.83 1.64 0.84 0.   4.31] Loss_P: [ 3.29  3.02  2.94  1.7  10.94]\n",
      "Loss_Q: [2.25 1.92 0.72 0.   4.89] Loss_P: [ 4.08  3.01  3.03  1.68 11.79]\n",
      "Loss_Q: [2.35 2.11 0.87 0.   5.33] Loss_P: [ 4.44  3.26  3.06  1.67 12.43]\n",
      "Loss_Q: [2.72 2.29 0.7  0.   5.72] Loss_P: [ 4.81  3.11  3.02  1.65 12.59]\n",
      "Loss_Q: [0.75 0.44 0.17 0.   1.36] Loss_P: [2.48 2.09 2.79 1.71 9.06]\n",
      "Loss_Q: [1.87 1.59 0.82 0.   4.29] Loss_P: [ 3.23  2.83  2.97  1.67 10.7 ]\n",
      "Loss_Q: [2.17 1.87 0.82 0.   4.86] Loss_P: [ 3.71  3.03  3.04  1.66 11.44]\n",
      "Loss_Q: [2.59 2.07 0.87 0.   5.53] Loss_P: [ 4.38  3.27  3.    1.72 12.37]\n",
      "Loss_Q: [2.58 2.37 0.87 0.   5.82] Loss_P: [ 4.73  3.17  3.11  1.63 12.64]\n",
      "Loss_Q: [0.72 0.44 0.19 0.   1.35] Loss_P: [2.42 2.16 2.75 1.74 9.07]\n",
      "Loss_Q: [1.71 1.4  0.74 0.   3.85] Loss_P: [ 3.26  2.66  2.92  1.61 10.44]\n",
      "Loss_Q: [2.43 1.76 0.74 0.   4.93] Loss_P: [ 4.14  3.05  3.04  1.55 11.78]\n",
      "Loss_Q: [2.65 2.14 0.64 0.   5.43] Loss_P: [ 4.93  2.85  3.32  1.34 12.44]\n",
      "Loss_Q: [2.85 2.35 0.78 0.   5.98] Loss_P: [ 5.01  3.12  3.1   1.59 12.82]\n",
      "Loss_Q: [0.67 0.42 0.19 0.   1.27] Loss_P: [2.37 2.17 2.69 1.75 8.97]\n",
      "Loss_Q: [1.9  1.55 0.75 0.   4.21] Loss_P: [ 3.34  2.77  3.06  1.59 10.75]\n",
      "Loss_Q: [2.34 1.8  0.73 0.   4.87] Loss_P: [ 4.22  2.88  3.18  1.48 11.77]\n",
      "Loss_Q: [2.77 2.14 0.73 0.   5.64] Loss_P: [ 4.7   2.91  3.06  1.52 12.19]\n",
      "Loss_Q: [2.85 2.21 0.75 0.   5.81] Loss_P: [ 5.    3.16  3.03  1.57 12.77]\n",
      "Loss_Q: [0.71 0.37 0.19 0.   1.27] Loss_P: [2.36 2.09 2.74 1.77 8.96]\n",
      "Loss_Q: [1.96 1.65 0.74 0.   4.35] Loss_P: [ 3.36  2.88  2.94  1.64 10.83]\n",
      "Loss_Q: [2.39 2.06 0.72 0.   5.17] Loss_P: [ 4.31  3.05  3.19  1.53 12.09]\n",
      "Loss_Q: [2.59 2.38 0.8  0.   5.77] Loss_P: [ 4.74  3.16  3.25  1.53 12.67]\n",
      "Loss_Q: [2.85 2.56 0.72 0.   6.13] Loss_P: [ 5.11  3.03  3.33  1.4  12.88]\n",
      "Loss_Q: [0.74 0.37 0.22 0.   1.33] Loss_P: [2.46 2.09 2.74 1.74 9.03]\n",
      "Loss_Q: [1.74 1.57 0.77 0.   4.08] Loss_P: [ 3.18  2.95  3.    1.63 10.76]\n",
      "Loss_Q: [2.31 1.89 0.7  0.   4.91] Loss_P: [ 4.16  3.14  3.08  1.55 11.93]\n",
      "Loss_Q: [2.73 2.19 0.68 0.   5.6 ] Loss_P: [ 4.73  3.14  3.21  1.45 12.54]\n",
      "Loss_Q: [2.85 2.39 0.79 0.   6.03] Loss_P: [ 4.83  3.41  3.16  1.52 12.92]\n",
      "Loss_Q: [0.73 0.39 0.21 0.   1.33] Loss_P: [2.43 2.1  2.76 1.74 9.02]\n",
      "Loss_Q: [1.73 1.51 0.77 0.   4.01] Loss_P: [ 3.18  2.8   2.93  1.62 10.53]\n",
      "Loss_Q: [2.39 1.98 0.72 0.   5.1 ] Loss_P: [ 4.16  3.09  3.14  1.52 11.92]\n",
      "Loss_Q: [2.66 2.27 0.71 0.   5.65] Loss_P: [ 4.87  3.17  3.18  1.52 12.73]\n",
      "Loss_Q: [2.94 2.26 0.71 0.   5.91] Loss_P: [ 4.92  3.14  3.1   1.51 12.67]\n",
      "Loss_Q: [0.7  0.35 0.21 0.   1.26] Loss_P: [2.34 2.15 2.72 1.74 8.95]\n",
      "Loss_Q: [2.15 1.58 0.71 0.   4.44] Loss_P: [ 3.56  2.9   3.12  1.46 11.03]\n",
      "Loss_Q: [2.66 2.09 0.66 0.   5.41] Loss_P: [ 4.45  3.11  3.32  1.3  12.19]\n",
      "Loss_Q: [3.   2.37 0.65 0.   6.01] Loss_P: [ 5.1   3.05  3.38  1.28 12.81]\n",
      "Loss_Q: [3.03 2.41 0.77 0.   6.2 ] Loss_P: [ 5.09  3.28  3.14  1.55 13.06]\n",
      "Loss_Q: [0.74 0.34 0.2  0.   1.27] Loss_P: [2.41 2.2  2.66 1.75 9.03]\n",
      "Loss_Q: [1.77 1.36 0.79 0.   3.92] Loss_P: [ 3.1   2.71  2.81  1.68 10.29]\n",
      "Loss_Q: [2.29 1.67 0.72 0.   4.68] Loss_P: [ 3.95  3.08  3.02  1.59 11.62]\n",
      "Loss_Q: [2.58 1.95 0.73 0.   5.26] Loss_P: [ 4.37  3.23  2.88  1.62 12.1 ]\n",
      "Loss_Q: [2.89 2.33 0.74 0.   5.96] Loss_P: [ 4.93  3.28  3.06  1.52 12.79]\n",
      "Loss_Q: [0.71 0.41 0.2  0.   1.31] Loss_P: [2.43 2.12 2.74 1.72 9.02]\n",
      "Loss_Q: [1.94 1.63 0.73 0.   4.3 ] Loss_P: [ 3.33  2.69  3.    1.58 10.61]\n",
      "Loss_Q: [2.4  1.88 0.67 0.   4.95] Loss_P: [ 4.37  3.04  3.06  1.55 12.02]\n",
      "Loss_Q: [2.74 2.29 0.78 0.   5.81] Loss_P: [ 4.85  3.16  3.01  1.64 12.67]\n",
      "Loss_Q: [2.86 2.7  0.72 0.   6.28] Loss_P: [ 5.27  3.09  3.32  1.44 13.13]\n",
      "Loss_Q: [0.79 0.37 0.2  0.   1.36] Loss_P: [2.41 2.2  2.7  1.75 9.06]\n",
      "Loss_Q: [2.03 1.63 0.76 0.   4.42] Loss_P: [ 3.4   2.76  2.88  1.65 10.69]\n",
      "Loss_Q: [2.38 1.77 0.77 0.   4.91] Loss_P: [ 4.26  3.05  3.03  1.62 11.96]\n",
      "Loss_Q: [2.69 2.01 0.71 0.   5.41] Loss_P: [ 4.81  3.04  3.08  1.52 12.44]\n",
      "Loss_Q: [2.86 2.1  0.78 0.   5.73] Loss_P: [ 4.75  3.22  2.97  1.59 12.54]\n",
      "Loss_Q: [0.7  0.34 0.17 0.   1.22] Loss_P: [2.45 2.07 2.65 1.75 8.92]\n",
      "Loss_Q: [1.7  1.44 0.72 0.   3.87] Loss_P: [ 3.19  2.72  3.05  1.56 10.52]\n",
      "Loss_Q: [2.26 1.89 0.73 0.   4.88] Loss_P: [ 4.15  3.01  3.19  1.46 11.81]\n",
      "Loss_Q: [2.6  1.96 0.7  0.   5.26] Loss_P: [ 4.48  3.18  3.13  1.49 12.28]\n",
      "Loss_Q: [2.78 2.08 0.78 0.   5.64] Loss_P: [ 4.64  3.11  3.18  1.49 12.42]\n",
      "Loss_Q: [0.68 0.36 0.23 0.   1.27] Loss_P: [2.4  2.18 2.64 1.78 9.01]\n",
      "Loss_Q: [1.86 1.56 0.76 0.   4.18] Loss_P: [ 3.45  2.72  2.89  1.61 10.66]\n",
      "Loss_Q: [2.28 1.53 0.67 0.   4.49] Loss_P: [ 4.    2.8   3.16  1.42 11.38]\n",
      "Loss_Q: [2.58 2.1  0.69 0.   5.38] Loss_P: [ 4.53  3.21  3.01  1.5  12.26]\n",
      "Loss_Q: [2.91 2.31 0.68 0.   5.9 ] Loss_P: [ 4.99  3.22  3.14  1.47 12.82]\n",
      "Loss_Q: [0.71 0.33 0.26 0.   1.31] Loss_P: [2.39 2.12 2.73 1.76 9.  ]\n",
      "Loss_Q: [1.68 1.36 0.74 0.   3.78] Loss_P: [ 3.13  2.61  3.23  1.34 10.31]\n",
      "Loss_Q: [2.28 1.66 0.6  0.   4.55] Loss_P: [ 4.12  2.81  3.38  1.22 11.53]\n",
      "Loss_Q: [2.72 2.12 0.66 0.   5.5 ] Loss_P: [ 4.74  2.8   3.37  1.2  12.12]\n",
      "Loss_Q: [2.83 2.51 0.58 0.   5.92] Loss_P: [ 5.37  2.91  3.46  1.21 12.95]\n",
      "Loss_Q: [0.74 0.29 0.27 0.   1.3 ] Loss_P: [2.44 2.1  2.72 1.79 9.05]\n",
      "Loss_Q: [1.97 1.62 0.77 0.   4.36] Loss_P: [ 3.38  2.8   2.94  1.6  10.73]\n",
      "Loss_Q: [2.1  1.65 0.69 0.   4.44] Loss_P: [ 3.82  3.07  3.07  1.49 11.46]\n",
      "Loss_Q: [2.51 2.01 0.65 0.   5.17] Loss_P: [ 4.36  3.26  3.21  1.38 12.21]\n",
      "Loss_Q: [2.87 2.26 0.69 0.   5.83] Loss_P: [ 4.73  3.34  3.1   1.5  12.67]\n",
      "Loss_Q: [0.7  0.37 0.23 0.   1.31] Loss_P: [2.38 2.07 2.88 1.69 9.02]\n",
      "Loss_Q: [1.75 1.61 0.8  0.   4.17] Loss_P: [ 3.27  2.82  3.03  1.6  10.72]\n",
      "Loss_Q: [2.09 1.67 0.77 0.   4.53] Loss_P: [ 3.78  3.1   2.91  1.63 11.43]\n",
      "Loss_Q: [2.72 2.01 0.74 0.   5.47] Loss_P: [ 4.49  3.09  3.02  1.58 12.18]\n",
      "Loss_Q: [2.82 2.17 0.71 0.   5.69] Loss_P: [ 4.93  3.02  3.04  1.57 12.57]\n",
      "Loss_Q: [0.74 0.34 0.21 0.   1.28] Loss_P: [2.44 2.01 2.8  1.73 8.98]\n"
     ]
    },
    {
     "name": "stdout",
     "output_type": "stream",
     "text": [
      "Loss_Q: [1.92 1.4  0.75 0.   4.06] Loss_P: [ 3.47  2.6   3.11  1.54 10.72]\n",
      "Loss_Q: [2.35 1.84 0.67 0.   4.86] Loss_P: [ 4.11  2.95  3.15  1.5  11.71]\n",
      "Loss_Q: [2.56 2.09 0.75 0.   5.4 ] Loss_P: [ 4.48  3.22  3.    1.64 12.34]\n",
      "Loss_Q: [2.8  2.21 0.82 0.   5.84] Loss_P: [ 4.84  3.4   2.82  1.7  12.77]\n",
      "Loss_Q: [0.64 0.4  0.21 0.   1.24] Loss_P: [2.4  2.08 2.76 1.75 8.99]\n",
      "Loss_Q: [1.81 1.26 0.8  0.   3.87] Loss_P: [ 3.12  2.52  3.02  1.58 10.25]\n",
      "Loss_Q: [2.19 1.61 0.69 0.   4.49] Loss_P: [ 4.02  2.77  3.22  1.42 11.43]\n",
      "Loss_Q: [2.69 2.02 0.63 0.   5.34] Loss_P: [ 4.67  2.89  3.2   1.42 12.18]\n",
      "Loss_Q: [2.77 2.38 0.64 0.   5.79] Loss_P: [ 5.03  3.05  3.32  1.33 12.73]\n",
      "Loss_Q: [0.7  0.32 0.27 0.   1.29] Loss_P: [2.49 2.01 2.75 1.76 9.  ]\n",
      "Loss_Q: [1.95 1.49 0.74 0.   4.18] Loss_P: [ 3.33  2.53  3.15  1.48 10.49]\n",
      "Loss_Q: [2.15 1.64 0.6  0.   4.39] Loss_P: [ 3.83  2.88  3.22  1.37 11.3 ]\n",
      "Loss_Q: [2.54 2.13 0.65 0.   5.32] Loss_P: [ 4.51  3.14  3.22  1.43 12.3 ]\n",
      "Loss_Q: [2.72 2.21 0.65 0.   5.59] Loss_P: [ 4.8   3.1   3.27  1.41 12.58]\n",
      "Loss_Q: [0.68 0.32 0.21 0.   1.21] Loss_P: [2.41 2.   2.81 1.74 8.95]\n",
      "Loss_Q: [1.94 1.63 0.75 0.   4.33] Loss_P: [ 3.45  2.85  2.89  1.64 10.84]\n",
      "Loss_Q: [2.43 1.93 0.74 0.   5.1 ] Loss_P: [ 4.2   3.11  2.96  1.68 11.94]\n",
      "Loss_Q: [2.68 2.14 0.79 0.   5.62] Loss_P: [ 4.59  3.01  3.09  1.58 12.26]\n",
      "Loss_Q: [2.67 2.44 0.76 0.   5.87] Loss_P: [ 4.97  3.09  3.29  1.5  12.85]\n",
      "Loss_Q: [0.73 0.38 0.21 0.   1.32] Loss_P: [2.45 2.04 2.82 1.72 9.03]\n",
      "Loss_Q: [1.88 1.6  0.82 0.   4.3 ] Loss_P: [ 3.39  2.68  3.13  1.56 10.75]\n",
      "Loss_Q: [2.38 1.92 0.68 0.   4.99] Loss_P: [ 4.29  2.83  3.35  1.39 11.85]\n",
      "Loss_Q: [2.56 2.14 0.72 0.   5.42] Loss_P: [ 4.79  2.71  3.46  1.3  12.27]\n",
      "Loss_Q: [2.74 2.45 0.78 0.   5.98] Loss_P: [ 5.18  2.95  3.33  1.35 12.82]\n",
      "Loss_Q: [0.76 0.39 0.24 0.   1.38] Loss_P: [2.53 1.96 2.87 1.73 9.08]\n",
      "Loss_Q: [1.77 1.23 0.8  0.   3.8 ] Loss_P: [ 3.26  2.39  3.19  1.46 10.31]\n",
      "Loss_Q: [1.86 1.63 0.72 0.   4.21] Loss_P: [ 3.7   3.03  3.07  1.58 11.38]\n",
      "Loss_Q: [2.4  1.86 0.74 0.   5.01] Loss_P: [ 4.24  2.94  2.94  1.65 11.76]\n",
      "Loss_Q: [2.86 2.05 0.81 0.   5.72] Loss_P: [ 4.92  3.04  3.02  1.65 12.64]\n",
      "Loss_Q: [0.68 0.36 0.19 0.   1.24] Loss_P: [2.49 1.96 2.88 1.69 9.01]\n",
      "Loss_Q: [1.85 1.26 0.72 0.   3.83] Loss_P: [ 3.43  2.46  3.15  1.48 10.52]\n",
      "Loss_Q: [2.22 1.67 0.63 0.   4.52] Loss_P: [ 3.95  2.76  3.32  1.3  11.34]\n",
      "Loss_Q: [2.71 2.06 0.65 0.   5.43] Loss_P: [ 4.67  2.98  3.1   1.35 12.1 ]\n",
      "Loss_Q: [2.73 2.14 0.73 0.   5.6 ] Loss_P: [ 4.84  3.17  2.99  1.49 12.49]\n",
      "Loss_Q: [0.66 0.36 0.19 0.   1.21] Loss_P: [2.45 2.01 2.86 1.67 9.  ]\n",
      "Loss_Q: [1.86 1.55 0.77 0.   4.18] Loss_P: [ 3.29  2.75  3.18  1.44 10.66]\n",
      "Loss_Q: [2.4  1.87 0.66 0.   4.93] Loss_P: [ 4.17  2.96  3.24  1.44 11.82]\n",
      "Loss_Q: [2.81 2.21 0.75 0.   5.76] Loss_P: [ 4.87  3.16  3.25  1.45 12.73]\n",
      "Loss_Q: [2.9  2.33 0.78 0.   6.01] Loss_P: [ 5.02  3.17  3.    1.64 12.84]\n",
      "Loss_Q: [0.7  0.37 0.21 0.   1.29] Loss_P: [2.45 2.16 2.76 1.73 9.09]\n",
      "Loss_Q: [1.94 1.43 0.74 0.   4.1 ] Loss_P: [ 3.27  2.73  2.93  1.61 10.54]\n",
      "Loss_Q: [2.33 1.77 0.73 0.   4.83] Loss_P: [ 3.96  3.04  2.97  1.58 11.56]\n",
      "Loss_Q: [2.83 2.16 0.71 0.   5.7 ] Loss_P: [ 4.81  3.07  3.15  1.51 12.53]\n",
      "Loss_Q: [2.91 2.49 0.79 0.   6.19] Loss_P: [ 5.25  3.04  3.15  1.55 13.  ]\n",
      "Loss_Q: [0.7  0.42 0.22 0.   1.34] Loss_P: [2.47 2.13 2.83 1.7  9.13]\n",
      "Loss_Q: [1.78 1.48 0.68 0.   3.94] Loss_P: [ 3.36  2.64  3.09  1.46 10.55]\n",
      "Loss_Q: [2.35 1.74 0.66 0.   4.75] Loss_P: [ 4.14  3.1   3.02  1.5  11.76]\n",
      "Loss_Q: [2.76 2.17 0.66 0.   5.6 ] Loss_P: [ 4.68  3.19  3.16  1.49 12.52]\n",
      "Loss_Q: [2.95 2.41 0.69 0.   6.06] Loss_P: [ 5.25  3.12  3.19  1.44 13.01]\n",
      "Loss_Q: [0.71 0.4  0.22 0.   1.33] Loss_P: [2.43 2.1  2.8  1.71 9.04]\n",
      "Loss_Q: [2.08 1.56 0.75 0.   4.39] Loss_P: [ 3.45  2.71  3.12  1.48 10.76]\n",
      "Loss_Q: [2.57 2.01 0.72 0.   5.3 ] Loss_P: [ 4.39  3.2   3.01  1.57 12.17]\n",
      "Loss_Q: [2.83 2.22 0.73 0.   5.79] Loss_P: [ 4.74  3.26  3.04  1.56 12.6 ]\n",
      "Loss_Q: [2.91 2.23 0.84 0.   5.98] Loss_P: [ 5.01  3.22  2.97  1.63 12.83]\n",
      "Loss_Q: [0.67 0.37 0.2  0.   1.24] Loss_P: [2.47 2.02 2.9  1.68 9.06]\n",
      "Loss_Q: [1.79 1.57 0.71 0.   4.06] Loss_P: [ 3.32  2.78  2.97  1.61 10.68]\n",
      "Loss_Q: [2.17 1.66 0.75 0.   4.58] Loss_P: [ 3.93  3.06  2.84  1.65 11.48]\n",
      "Loss_Q: [2.66 1.94 0.69 0.   5.3 ] Loss_P: [ 4.54  3.06  2.97  1.57 12.15]\n",
      "Loss_Q: [2.76 2.01 0.78 0.   5.55] Loss_P: [ 4.73  3.13  3.03  1.57 12.45]\n",
      "Loss_Q: [0.64 0.33 0.21 0.   1.19] Loss_P: [2.43 1.93 2.89 1.7  8.94]\n",
      "Loss_Q: [1.81 1.71 0.85 0.   4.36] Loss_P: [ 3.31  2.89  3.01  1.58 10.8 ]\n",
      "Loss_Q: [2.49 1.84 0.71 0.   5.03] Loss_P: [ 4.31  2.94  3.2   1.48 11.94]\n",
      "Loss_Q: [2.6  2.06 0.73 0.   5.38] Loss_P: [ 4.72  3.    3.21  1.46 12.4 ]\n",
      "Loss_Q: [2.93 2.36 0.81 0.   6.11] Loss_P: [ 4.92  3.35  3.18  1.53 12.98]\n",
      "Loss_Q: [0.75 0.34 0.2  0.   1.29] Loss_P: [2.44 2.02 2.85 1.7  9.01]\n",
      "Loss_Q: [1.86 1.53 0.75 0.   4.14] Loss_P: [ 3.3   2.78  2.91  1.6  10.58]\n",
      "Loss_Q: [2.3  1.72 0.7  0.   4.71] Loss_P: [ 4.12  3.08  3.07  1.55 11.82]\n",
      "Loss_Q: [2.98 2.23 0.68 0.   5.89] Loss_P: [ 4.92  3.11  3.26  1.45 12.75]\n",
      "Loss_Q: [2.96 2.5  0.76 0.   6.23] Loss_P: [ 5.07  3.3   3.18  1.51 13.06]\n",
      "Loss_Q: [0.75 0.33 0.22 0.   1.3 ] Loss_P: [2.47 2.05 2.89 1.69 9.1 ]\n",
      "Loss_Q: [1.83 1.17 0.76 0.   3.75] Loss_P: [ 3.2   2.5   3.01  1.57 10.28]\n",
      "Loss_Q: [2.28 1.57 0.69 0.   4.53] Loss_P: [ 3.96  2.85  3.06  1.52 11.4 ]\n",
      "Loss_Q: [2.68 1.9  0.73 0.   5.31] Loss_P: [ 4.57  2.99  3.26  1.45 12.28]\n",
      "Loss_Q: [2.91 2.13 0.7  0.   5.74] Loss_P: [ 4.95  3.1   3.24  1.45 12.74]\n",
      "Loss_Q: [0.78 0.3  0.22 0.   1.3 ] Loss_P: [2.49 2.02 2.81 1.73 9.05]\n",
      "Loss_Q: [2.18 1.45 0.72 0.   4.36] Loss_P: [ 3.69  2.51  3.15  1.43 10.77]\n",
      "Loss_Q: [2.45 1.65 0.67 0.   4.77] Loss_P: [ 4.32  2.7   3.15  1.41 11.58]\n",
      "Loss_Q: [2.92 2.08 0.68 0.   5.67] Loss_P: [ 4.96  2.83  3.16  1.43 12.37]\n",
      "Loss_Q: [2.86 2.43 0.73 0.   6.02] Loss_P: [ 5.18  3.01  3.17  1.53 12.91]\n",
      "Loss_Q: [0.75 0.33 0.19 0.   1.26] Loss_P: [2.45 2.1  2.67 1.77 8.99]\n",
      "Loss_Q: [1.71 1.52 0.78 0.   4.  ] Loss_P: [ 3.16  2.56  2.8   1.68 10.2 ]\n",
      "Loss_Q: [2.09 1.57 0.82 0.   4.48] Loss_P: [ 3.73  3.13  2.8   1.73 11.38]\n",
      "Loss_Q: [2.51 1.93 0.7  0.   5.14] Loss_P: [ 4.22  3.09  3.09  1.46 11.87]\n",
      "Loss_Q: [2.69 2.16 0.74 0.   5.59] Loss_P: [ 4.79  2.99  3.14  1.49 12.41]\n",
      "Loss_Q: [0.73 0.36 0.18 0.   1.27] Loss_P: [2.48 2.05 2.79 1.71 9.03]\n",
      "Loss_Q: [1.88 1.51 0.77 0.   4.16] Loss_P: [ 3.1   2.72  3.04  1.49 10.35]\n",
      "Loss_Q: [2.04 1.76 0.71 0.   4.52] Loss_P: [ 3.86  3.    3.11  1.52 11.49]\n",
      "Loss_Q: [2.71 2.22 0.74 0.   5.66] Loss_P: [ 4.57  3.3   3.14  1.48 12.49]\n",
      "Loss_Q: [2.85 2.31 0.64 0.   5.8 ] Loss_P: [ 5.02  2.91  3.42  1.27 12.62]\n",
      "Loss_Q: [0.74 0.35 0.21 0.   1.31] Loss_P: [2.46 2.06 2.83 1.67 9.02]\n",
      "Loss_Q: [1.9  1.28 0.74 0.   3.92] Loss_P: [ 3.39  2.45  3.2   1.39 10.44]\n",
      "Loss_Q: [2.32 1.48 0.67 0.   4.47] Loss_P: [ 4.12  2.72  3.24  1.39 11.46]\n",
      "Loss_Q: [2.68 1.89 0.71 0.   5.28] Loss_P: [ 4.52  3.03  3.24  1.39 12.17]\n",
      "Loss_Q: [2.75 2.11 0.62 0.   5.47] Loss_P: [ 4.77  2.96  3.31  1.32 12.36]\n",
      "Loss_Q: [0.69 0.28 0.23 0.   1.2 ] Loss_P: [2.41 2.   2.82 1.7  8.93]\n",
      "Loss_Q: [1.9  1.43 0.7  0.   4.03] Loss_P: [ 3.25  2.63  3.03  1.55 10.46]\n",
      "Loss_Q: [2.31 1.67 0.7  0.   4.68] Loss_P: [ 3.93  2.91  3.22  1.44 11.5 ]\n",
      "Loss_Q: [2.72 2.09 0.74 0.   5.55] Loss_P: [ 4.62  3.01  3.39  1.36 12.39]\n",
      "Loss_Q: [2.96 2.25 0.8  0.   6.02] Loss_P: [ 4.96  3.15  3.29  1.46 12.87]\n",
      "Loss_Q: [0.72 0.37 0.2  0.   1.29] Loss_P: [2.45 2.04 2.82 1.71 9.02]\n",
      "Loss_Q: [1.93 1.43 0.75 0.   4.11] Loss_P: [ 3.29  2.7   3.    1.61 10.6 ]\n",
      "Loss_Q: [2.29 1.78 0.86 0.   4.92] Loss_P: [ 4.18  3.03  3.04  1.57 11.82]\n",
      "Loss_Q: [2.59 2.03 0.72 0.   5.33] Loss_P: [ 4.69  2.89  3.38  1.33 12.29]\n",
      "Loss_Q: [2.92 2.28 0.73 0.   5.94] Loss_P: [ 5.31  2.68  3.36  1.36 12.71]\n",
      "Loss_Q: [0.82 0.45 0.21 0.   1.48] Loss_P: [2.56 2.18 2.78 1.72 9.23]\n",
      "Loss_Q: [1.9  1.7  0.79 0.   4.4 ] Loss_P: [ 3.38  2.92  2.74  1.68 10.73]\n",
      "Loss_Q: [2.41 1.81 0.72 0.   4.94] Loss_P: [ 4.2   2.99  2.96  1.6  11.75]\n",
      "Loss_Q: [2.48 2.04 0.75 0.   5.28] Loss_P: [ 4.72  2.89  3.15  1.56 12.33]\n",
      "Loss_Q: [2.79 2.17 0.73 0.   5.69] Loss_P: [ 4.85  2.95  3.17  1.55 12.52]\n",
      "Loss_Q: [0.72 0.32 0.2  0.   1.24] Loss_P: [2.43 2.06 2.81 1.73 9.03]\n",
      "Loss_Q: [1.87 1.5  0.71 0.   4.07] Loss_P: [ 3.36  2.64  2.95  1.61 10.57]\n"
     ]
    },
    {
     "name": "stdout",
     "output_type": "stream",
     "text": [
      "Loss_Q: [2.38 1.81 0.73 0.   4.92] Loss_P: [ 4.02  2.95  3.05  1.62 11.65]\n",
      "Loss_Q: [2.67 2.24 0.72 0.   5.64] Loss_P: [ 4.94  2.92  3.27  1.51 12.64]\n",
      "Loss_Q: [2.81 2.43 0.71 0.   5.96] Loss_P: [ 5.27  2.89  3.25  1.47 12.87]\n",
      "Loss_Q: [0.73 0.35 0.19 0.   1.27] Loss_P: [2.49 2.01 2.84 1.69 9.03]\n",
      "Loss_Q: [1.75 1.52 0.78 0.   4.05] Loss_P: [ 3.22  2.64  2.98  1.63 10.46]\n",
      "Loss_Q: [2.38 1.76 0.75 0.   4.9 ] Loss_P: [ 4.12  3.05  3.29  1.44 11.9 ]\n",
      "Loss_Q: [2.54 2.03 0.75 0.   5.32] Loss_P: [ 4.44  3.07  3.31  1.41 12.23]\n",
      "Loss_Q: [2.82 2.35 0.79 0.   5.95] Loss_P: [ 4.82  3.17  3.35  1.4  12.74]\n",
      "Loss_Q: [0.74 0.39 0.23 0.   1.36] Loss_P: [2.53 1.99 2.9  1.71 9.12]\n",
      "Loss_Q: [1.73 1.51 0.78 0.   4.03] Loss_P: [ 3.1   2.73  2.91  1.63 10.37]\n",
      "Loss_Q: [2.1  1.8  0.71 0.   4.62] Loss_P: [ 3.8   3.07  3.04  1.62 11.52]\n",
      "Loss_Q: [2.7  2.25 0.67 0.   5.62] Loss_P: [ 4.73  2.95  3.18  1.45 12.32]\n",
      "Loss_Q: [2.87 2.68 0.7  0.   6.26] Loss_P: [ 5.47  3.02  3.24  1.46 13.18]\n",
      "Loss_Q: [0.79 0.41 0.2  0.   1.41] Loss_P: [2.52 2.1  2.87 1.68 9.17]\n",
      "Loss_Q: [1.85 1.5  0.78 0.   4.13] Loss_P: [ 3.09  2.71  3.    1.58 10.39]\n",
      "Loss_Q: [2.38 1.79 0.74 0.   4.9 ] Loss_P: [ 3.84  3.35  2.78  1.69 11.66]\n",
      "Loss_Q: [2.52 2.11 0.73 0.   5.36] Loss_P: [ 4.69  3.02  3.1   1.55 12.37]\n",
      "Loss_Q: [2.7  2.02 0.67 0.   5.4 ] Loss_P: [ 4.88  2.86  3.25  1.39 12.38]\n",
      "Loss_Q: [0.75 0.34 0.23 0.   1.32] Loss_P: [2.42 2.06 2.8  1.72 8.99]\n",
      "Loss_Q: [1.86 1.6  0.77 0.   4.23] Loss_P: [ 3.3   2.84  2.86  1.7  10.69]\n",
      "Loss_Q: [2.28 1.71 0.74 0.   4.73] Loss_P: [ 4.07  3.2   2.97  1.65 11.9 ]\n",
      "Loss_Q: [2.67 2.12 0.78 0.   5.57] Loss_P: [ 4.54  3.2   3.19  1.53 12.46]\n",
      "Loss_Q: [2.93 2.48 0.78 0.   6.19] Loss_P: [ 5.14  3.2   3.11  1.58 13.03]\n",
      "Loss_Q: [0.76 0.4  0.2  0.   1.36] Loss_P: [2.42 2.11 2.78 1.74 9.06]\n",
      "Loss_Q: [1.75 1.45 0.76 0.   3.97] Loss_P: [ 3.26  2.59  3.01  1.6  10.46]\n",
      "Loss_Q: [2.21 1.68 0.74 0.   4.64] Loss_P: [ 3.9   2.98  3.16  1.54 11.58]\n",
      "Loss_Q: [2.57 2.02 0.76 0.   5.35] Loss_P: [ 4.34  3.    3.35  1.44 12.12]\n",
      "Loss_Q: [2.84 2.23 0.73 0.   5.8 ] Loss_P: [ 4.88  3.22  3.2   1.53 12.82]\n",
      "Loss_Q: [0.74 0.31 0.21 0.   1.27] Loss_P: [2.43 2.05 2.7  1.78 8.96]\n",
      "Loss_Q: [1.81 1.43 0.73 0.   3.97] Loss_P: [ 3.26  2.53  3.06  1.55 10.4 ]\n",
      "Loss_Q: [2.17 1.83 0.69 0.   4.68] Loss_P: [ 4.22  2.88  3.2   1.49 11.78]\n",
      "Loss_Q: [2.67 2.11 0.77 0.   5.55] Loss_P: [ 4.56  3.27  3.1   1.57 12.5 ]\n",
      "Loss_Q: [2.84 2.39 0.78 0.   6.02] Loss_P: [ 4.95  3.31  3.08  1.63 12.97]\n",
      "Loss_Q: [0.73 0.39 0.19 0.   1.3 ] Loss_P: [2.38 2.1  2.72 1.75 8.94]\n",
      "Loss_Q: [1.78 1.44 0.81 0.   4.02] Loss_P: [ 3.25  2.74  3.    1.63 10.61]\n",
      "Loss_Q: [2.1  1.71 0.72 0.   4.53] Loss_P: [ 3.93  2.92  3.07  1.55 11.47]\n",
      "Loss_Q: [2.5  1.81 0.66 0.   4.97] Loss_P: [ 4.44  2.85  3.13  1.5  11.92]\n",
      "Loss_Q: [2.78 2.03 0.71 0.   5.52] Loss_P: [ 4.71  3.02  3.01  1.62 12.36]\n",
      "Loss_Q: [0.68 0.32 0.18 0.   1.17] Loss_P: [2.4  2.04 2.62 1.78 8.84]\n",
      "Loss_Q: [1.77 1.36 0.71 0.   3.84] Loss_P: [ 3.26  2.47  2.84  1.62 10.19]\n",
      "Loss_Q: [2.28 1.7  0.74 0.   4.72] Loss_P: [ 4.06  2.85  2.95  1.6  11.46]\n",
      "Loss_Q: [2.62 1.97 0.61 0.   5.2 ] Loss_P: [ 4.72  2.9   3.08  1.5  12.2 ]\n",
      "Loss_Q: [2.77 2.41 0.72 0.   5.91] Loss_P: [ 4.97  2.96  3.3   1.39 12.61]\n",
      "Loss_Q: [0.76 0.37 0.21 0.   1.33] Loss_P: [2.45 2.04 2.75 1.73 8.97]\n",
      "Loss_Q: [1.64 1.37 0.71 0.   3.72] Loss_P: [ 3.25  2.56  2.91  1.63 10.35]\n",
      "Loss_Q: [2.29 1.74 0.72 0.   4.75] Loss_P: [ 3.95  3.06  3.    1.59 11.6 ]\n",
      "Loss_Q: [2.69 2.11 0.71 0.   5.51] Loss_P: [ 4.62  3.06  3.26  1.41 12.35]\n",
      "Loss_Q: [2.86 2.44 0.69 0.   5.99] Loss_P: [ 5.07  3.12  3.25  1.45 12.89]\n",
      "Loss_Q: [0.69 0.3  0.19 0.   1.18] Loss_P: [2.4  2.07 2.66 1.76 8.9 ]\n",
      "Loss_Q: [1.82 1.51 0.75 0.   4.08] Loss_P: [ 3.31  2.77  3.01  1.61 10.71]\n",
      "Loss_Q: [2.25 1.87 0.7  0.   4.82] Loss_P: [ 4.11  2.98  3.07  1.55 11.7 ]\n",
      "Loss_Q: [2.78 1.99 0.75 0.   5.52] Loss_P: [ 4.41  3.15  3.04  1.58 12.18]\n",
      "Loss_Q: [2.71 2.64 0.69 0.   6.04] Loss_P: [ 5.27  3.07  3.32  1.39 13.05]\n",
      "Loss_Q: [0.72 0.41 0.24 0.   1.36] Loss_P: [2.4  2.26 2.54 1.83 9.02]\n",
      "Loss_Q: [1.86 1.48 0.77 0.   4.11] Loss_P: [ 3.27  2.68  2.9   1.59 10.44]\n",
      "Loss_Q: [2.24 1.67 0.69 0.   4.6 ] Loss_P: [ 3.94  3.15  2.95  1.58 11.62]\n",
      "Loss_Q: [2.75 1.97 0.72 0.   5.44] Loss_P: [ 4.59  3.05  3.06  1.47 12.17]\n",
      "Loss_Q: [2.85 2.45 0.69 0.   6.  ] Loss_P: [ 5.13  3.06  3.39  1.31 12.89]\n",
      "Loss_Q: [0.75 0.35 0.23 0.   1.34] Loss_P: [2.44 2.11 2.74 1.74 9.03]\n",
      "Loss_Q: [1.86 1.56 0.74 0.   4.16] Loss_P: [ 3.39  2.64  2.9   1.61 10.55]\n",
      "Loss_Q: [2.32 1.7  0.68 0.   4.7 ] Loss_P: [ 4.2   2.89  2.96  1.61 11.66]\n",
      "Loss_Q: [2.76 2.03 0.79 0.   5.58] Loss_P: [ 4.73  3.02  3.08  1.55 12.37]\n",
      "Loss_Q: [2.83 2.02 0.7  0.   5.56] Loss_P: [ 4.92  3.    3.09  1.54 12.54]\n",
      "Loss_Q: [0.68 0.32 0.22 0.   1.22] Loss_P: [2.43 2.   2.76 1.73 8.93]\n",
      "Loss_Q: [1.66 1.37 0.78 0.   3.8 ] Loss_P: [ 3.05  2.62  2.84  1.64 10.15]\n",
      "Loss_Q: [2.3  1.53 0.68 0.   4.5 ] Loss_P: [ 4.03  2.81  3.07  1.53 11.44]\n",
      "Loss_Q: [2.75 1.94 0.66 0.   5.35] Loss_P: [ 4.71  2.74  3.36  1.33 12.14]\n",
      "Loss_Q: [2.82 2.45 0.66 0.   5.93] Loss_P: [ 5.15  2.88  3.52  1.19 12.75]\n",
      "Loss_Q: [0.78 0.3  0.25 0.   1.33] Loss_P: [2.46 2.12 2.65 1.78 9.02]\n",
      "Loss_Q: [1.79 1.46 0.78 0.   4.03] Loss_P: [ 3.41  2.63  2.8   1.75 10.58]\n",
      "Loss_Q: [2.29 1.71 0.76 0.   4.76] Loss_P: [ 4.05  2.94  3.01  1.63 11.63]\n",
      "Loss_Q: [2.57 1.95 0.78 0.   5.29] Loss_P: [ 4.53  2.9   2.98  1.68 12.09]\n",
      "Loss_Q: [2.77 2.23 0.74 0.   5.75] Loss_P: [ 5.24  2.75  3.17  1.52 12.67]\n",
      "Loss_Q: [0.75 0.36 0.18 0.   1.29] Loss_P: [2.52 2.07 2.76 1.72 9.07]\n",
      "Loss_Q: [1.81 1.76 0.7  0.   4.27] Loss_P: [ 3.26  2.79  2.9   1.64 10.59]\n",
      "Loss_Q: [2.47 2.07 0.74 0.   5.27] Loss_P: [ 4.26  3.25  2.95  1.64 12.1 ]\n",
      "Loss_Q: [2.7  2.35 0.8  0.   5.85] Loss_P: [ 4.87  3.22  3.1   1.63 12.82]\n",
      "Loss_Q: [2.89 2.59 0.75 0.   6.24] Loss_P: [ 5.12  3.24  3.18  1.54 13.09]\n",
      "Loss_Q: [0.77 0.38 0.2  0.   1.35] Loss_P: [2.52 2.1  2.81 1.71 9.14]\n",
      "Loss_Q: [1.82 1.59 0.8  0.   4.21] Loss_P: [ 3.27  2.59  3.12  1.49 10.47]\n",
      "Loss_Q: [2.6  1.88 0.68 0.   5.16] Loss_P: [ 4.41  3.07  3.26  1.37 12.12]\n",
      "Loss_Q: [2.75 2.2  0.71 0.   5.66] Loss_P: [ 4.84  3.05  3.35  1.38 12.62]\n",
      "Loss_Q: [2.82 2.26 0.7  0.   5.79] Loss_P: [ 4.91  3.04  3.28  1.39 12.63]\n",
      "Loss_Q: [0.69 0.33 0.24 0.   1.26] Loss_P: [2.36 2.13 2.75 1.75 9.  ]\n",
      "Loss_Q: [1.76 1.56 0.72 0.   4.04] Loss_P: [ 3.2   2.89  2.98  1.58 10.64]\n",
      "Loss_Q: [2.31 1.93 0.72 0.   4.96] Loss_P: [ 4.19  3.06  3.11  1.48 11.85]\n",
      "Loss_Q: [2.55 2.16 0.69 0.   5.4 ] Loss_P: [ 4.61  3.05  3.27  1.4  12.33]\n",
      "Loss_Q: [2.96 2.48 0.72 0.   6.16] Loss_P: [ 5.07  3.12  3.24  1.42 12.85]\n",
      "Loss_Q: [0.72 0.33 0.2  0.   1.25] Loss_P: [2.43 2.08 2.78 1.72 9.01]\n",
      "Loss_Q: [1.84 1.52 0.75 0.   4.11] Loss_P: [ 3.26  2.66  3.09  1.51 10.53]\n",
      "Loss_Q: [2.36 1.8  0.64 0.   4.8 ] Loss_P: [ 4.16  2.96  3.22  1.4  11.75]\n",
      "Loss_Q: [2.59 2.04 0.75 0.   5.39] Loss_P: [ 4.48  3.22  3.13  1.51 12.35]\n",
      "Loss_Q: [2.89 2.21 0.73 0.   5.83] Loss_P: [ 4.97  3.2   3.03  1.51 12.71]\n",
      "Loss_Q: [0.73 0.32 0.16 0.   1.21] Loss_P: [2.46 2.08 2.7  1.74 8.98]\n",
      "Loss_Q: [1.75 1.49 0.74 0.   3.98] Loss_P: [ 3.14  2.66  2.86  1.65 10.3 ]\n",
      "Loss_Q: [2.17 1.64 0.7  0.   4.5 ] Loss_P: [ 3.95  2.97  3.07  1.5  11.49]\n",
      "Loss_Q: [2.53 1.97 0.8  0.   5.3 ] Loss_P: [ 4.44  3.07  3.01  1.64 12.17]\n",
      "Loss_Q: [2.65 2.03 0.86 0.   5.54] Loss_P: [ 4.89  3.    2.93  1.71 12.53]\n",
      "Loss_Q: [0.67 0.5  0.14 0.   1.32] Loss_P: [2.49 2.21 2.67 1.73 9.1 ]\n",
      "Loss_Q: [1.71 1.57 0.81 0.   4.09] Loss_P: [ 3.07  2.73  2.92  1.57 10.29]\n",
      "Loss_Q: [2.25 1.8  0.59 0.   4.64] Loss_P: [ 4.17  2.82  3.37  1.24 11.6 ]\n",
      "Loss_Q: [2.69 2.42 0.58 0.   5.68] Loss_P: [ 5.03  3.03  3.45  1.25 12.75]\n",
      "Loss_Q: [2.86 2.53 0.7  0.   6.08] Loss_P: [ 5.17  3.08  3.36  1.39 13.  ]\n",
      "Loss_Q: [0.76 0.38 0.2  0.   1.35] Loss_P: [2.51 2.08 2.78 1.71 9.08]\n",
      "Loss_Q: [1.95 1.58 0.8  0.   4.33] Loss_P: [ 3.52  2.68  2.99  1.59 10.79]\n",
      "Loss_Q: [2.43 1.89 0.78 0.   5.1 ] Loss_P: [ 4.18  3.21  2.89  1.68 11.95]\n",
      "Loss_Q: [2.63 2.06 0.83 0.   5.52] Loss_P: [ 4.37  3.33  2.86  1.78 12.35]\n",
      "Loss_Q: [2.77 2.21 0.92 0.   5.9 ] Loss_P: [ 4.77  3.5   2.84  1.77 12.89]\n",
      "Loss_Q: [0.66 0.42 0.16 0.   1.24] Loss_P: [2.38 2.14 2.74 1.72 8.99]\n",
      "Loss_Q: [1.8  1.67 0.81 0.   4.28] Loss_P: [ 3.2   2.9   2.72  1.77 10.59]\n",
      "Loss_Q: [2.18 1.84 0.77 0.   4.78] Loss_P: [ 3.83  3.36  2.73  1.8  11.73]\n"
     ]
    },
    {
     "name": "stdout",
     "output_type": "stream",
     "text": [
      "Loss_Q: [2.63 2.19 0.69 0.   5.5 ] Loss_P: [ 4.76  3.14  3.1   1.59 12.58]\n",
      "Loss_Q: [2.95 2.54 0.72 0.   6.22] Loss_P: [ 5.38  3.06  3.15  1.55 13.13]\n",
      "Loss_Q: [0.74 0.36 0.2  0.   1.31] Loss_P: [2.46 2.16 2.64 1.78 9.04]\n",
      "Loss_Q: [1.74 1.42 0.65 0.   3.82] Loss_P: [ 3.17  2.74  2.82  1.64 10.36]\n",
      "Loss_Q: [2.22 1.71 0.7  0.   4.63] Loss_P: [ 3.83  3.3   2.77  1.65 11.56]\n",
      "Loss_Q: [2.61 1.94 0.68 0.   5.23] Loss_P: [ 4.42  3.22  2.9   1.58 12.12]\n",
      "Loss_Q: [2.82 2.19 0.66 0.   5.68] Loss_P: [ 4.86  3.24  3.11  1.48 12.69]\n",
      "Loss_Q: [0.73 0.28 0.22 0.   1.23] Loss_P: [2.43 2.1  2.65 1.76 8.94]\n",
      "Loss_Q: [1.6  1.43 0.74 0.   3.77] Loss_P: [ 3.14  2.74  2.82  1.64 10.34]\n",
      "Loss_Q: [2.19 1.67 0.7  0.   4.56] Loss_P: [ 3.82  3.03  2.97  1.58 11.41]\n",
      "Loss_Q: [2.72 2.19 0.73 0.   5.64] Loss_P: [ 4.74  3.31  3.09  1.56 12.71]\n",
      "Loss_Q: [2.97 2.42 0.69 0.   6.08] Loss_P: [ 5.05  3.17  3.27  1.41 12.9 ]\n",
      "Loss_Q: [0.75 0.35 0.2  0.   1.3 ] Loss_P: [2.47 2.06 2.75 1.74 9.03]\n",
      "Loss_Q: [1.8  1.31 0.72 0.   3.83] Loss_P: [ 3.21  2.63  2.93  1.58 10.35]\n",
      "Loss_Q: [2.31 1.73 0.65 0.   4.69] Loss_P: [ 4.02  2.84  3.2   1.41 11.47]\n",
      "Loss_Q: [2.62 1.85 0.67 0.   5.15] Loss_P: [ 4.54  2.73  3.24  1.39 11.9 ]\n",
      "Loss_Q: [2.64 2.24 0.7  0.   5.57] Loss_P: [ 4.87  2.76  3.45  1.3  12.38]\n",
      "Loss_Q: [0.76 0.31 0.22 0.   1.29] Loss_P: [2.49 1.99 2.75 1.74 8.97]\n",
      "Loss_Q: [1.68 1.27 0.74 0.   3.69] Loss_P: [ 3.24  2.45  2.95  1.64 10.27]\n",
      "Loss_Q: [2.19 1.68 0.79 0.   4.66] Loss_P: [ 3.79  2.96  2.98  1.6  11.33]\n",
      "Loss_Q: [2.54 1.98 0.79 0.   5.3 ] Loss_P: [ 4.45  3.03  3.22  1.5  12.21]\n",
      "Loss_Q: [2.95 2.32 0.78 0.   6.06] Loss_P: [ 5.15  3.01  3.17  1.59 12.92]\n",
      "Loss_Q: [0.74 0.32 0.18 0.   1.24] Loss_P: [2.47 2.   2.77 1.74 8.99]\n",
      "Loss_Q: [1.67 1.38 0.78 0.   3.82] Loss_P: [ 3.1   2.61  2.99  1.6  10.3 ]\n",
      "Loss_Q: [2.25 1.67 0.75 0.   4.67] Loss_P: [ 3.82  2.93  3.19  1.51 11.44]\n",
      "Loss_Q: [2.7  2.   0.68 0.   5.38] Loss_P: [ 4.66  2.86  3.36  1.36 12.23]\n",
      "Loss_Q: [2.82 2.25 0.68 0.   5.76] Loss_P: [ 5.03  2.9   3.27  1.43 12.63]\n",
      "Loss_Q: [0.75 0.31 0.22 0.   1.28] Loss_P: [2.43 2.02 2.76 1.74 8.94]\n",
      "Loss_Q: [1.88 1.63 0.78 0.   4.29] Loss_P: [ 3.31  2.87  2.95  1.62 10.75]\n",
      "Loss_Q: [2.4  1.76 0.69 0.   4.85] Loss_P: [ 4.19  3.1   3.29  1.37 11.94]\n",
      "Loss_Q: [2.75 2.   0.65 0.   5.4 ] Loss_P: [ 4.7   2.96  3.3   1.34 12.29]\n",
      "Loss_Q: [2.74 2.11 0.63 0.   5.48] Loss_P: [ 4.95  2.91  3.29  1.28 12.43]\n",
      "Loss_Q: [0.77 0.34 0.25 0.   1.36] Loss_P: [2.44 2.11 2.71 1.78 9.04]\n",
      "Loss_Q: [1.84 1.4  0.72 0.   3.97] Loss_P: [ 3.22  2.7   2.93  1.59 10.44]\n",
      "Loss_Q: [2.21 1.7  0.71 0.   4.62] Loss_P: [ 4.19  2.78  3.08  1.49 11.54]\n",
      "Loss_Q: [2.75 2.09 0.7  0.   5.54] Loss_P: [ 4.65  3.17  3.15  1.5  12.47]\n",
      "Loss_Q: [2.79 2.23 0.73 0.   5.75] Loss_P: [ 4.83  3.21  3.11  1.56 12.71]\n",
      "Loss_Q: [0.66 0.34 0.21 0.   1.21] Loss_P: [2.33 2.1  2.72 1.76 8.9 ]\n",
      "Loss_Q: [1.66 1.58 0.8  0.   4.03] Loss_P: [ 3.14  2.84  2.86  1.64 10.48]\n",
      "Loss_Q: [1.98 1.77 0.72 0.   4.48] Loss_P: [ 3.81  3.35  2.83  1.67 11.66]\n",
      "Loss_Q: [2.39 2.01 0.79 0.   5.19] Loss_P: [ 4.13  3.44  2.96  1.64 12.17]\n",
      "Loss_Q: [2.75 2.25 0.74 0.   5.74] Loss_P: [ 4.76  3.18  3.32  1.42 12.68]\n",
      "Loss_Q: [0.71 0.34 0.2  0.   1.24] Loss_P: [2.38 2.16 2.74 1.73 9.01]\n",
      "Loss_Q: [1.64 1.47 0.77 0.   3.87] Loss_P: [ 3.19  2.7   2.89  1.66 10.44]\n",
      "Loss_Q: [2.25 1.91 0.71 0.   4.87] Loss_P: [ 3.95  3.18  3.    1.58 11.71]\n",
      "Loss_Q: [2.55 2.13 0.75 0.   5.42] Loss_P: [ 4.55  3.2   2.99  1.59 12.34]\n",
      "Loss_Q: [2.91 2.39 0.72 0.   6.02] Loss_P: [ 5.07  3.07  3.05  1.54 12.73]\n",
      "Loss_Q: [0.7  0.37 0.18 0.   1.25] Loss_P: [2.42 2.15 2.69 1.76 9.01]\n",
      "Loss_Q: [1.6  1.46 0.76 0.   3.82] Loss_P: [ 3.08  2.7   2.94  1.62 10.34]\n",
      "Loss_Q: [1.85 1.5  0.65 0.   4.  ] Loss_P: [ 3.61  2.92  3.19  1.41 11.13]\n",
      "Loss_Q: [2.6  1.99 0.73 0.   5.32] Loss_P: [ 4.42  3.19  3.15  1.48 12.25]\n",
      "Loss_Q: [2.69 2.18 0.76 0.   5.63] Loss_P: [ 4.83  3.04  3.18  1.48 12.53]\n",
      "Loss_Q: [0.65 0.35 0.17 0.   1.18] Loss_P: [2.5  2.06 2.6  1.76 8.92]\n",
      "Loss_Q: [1.91 1.61 0.82 0.   4.34] Loss_P: [ 3.42  2.84  2.88  1.65 10.79]\n",
      "Loss_Q: [2.39 2.06 0.71 0.   5.16] Loss_P: [ 4.28  3.23  2.95  1.63 12.08]\n",
      "Loss_Q: [2.86 2.29 0.77 0.   5.92] Loss_P: [ 4.71  3.56  2.83  1.74 12.85]\n",
      "Loss_Q: [2.92 2.43 0.68 0.   6.02] Loss_P: [ 5.15  3.18  3.16  1.47 12.96]\n",
      "Loss_Q: [0.75 0.32 0.2  0.   1.28] Loss_P: [2.51 2.14 2.6  1.75 9.  ]\n",
      "Loss_Q: [1.73 1.41 0.73 0.   3.88] Loss_P: [ 3.16  2.69  2.88  1.62 10.35]\n",
      "Loss_Q: [2.28 1.82 0.73 0.   4.84] Loss_P: [ 3.9   3.27  3.01  1.5  11.68]\n",
      "Loss_Q: [2.77 2.32 0.68 0.   5.77] Loss_P: [ 4.82  3.35  3.32  1.38 12.87]\n",
      "Loss_Q: [3.06 2.56 0.68 0.   6.3 ] Loss_P: [ 5.26  3.34  3.17  1.42 13.19]\n",
      "Loss_Q: [0.8  0.41 0.21 0.   1.43] Loss_P: [2.5  2.22 2.65 1.76 9.13]\n",
      "Loss_Q: [1.84 1.47 0.73 0.   4.04] Loss_P: [ 3.2   2.77  2.82  1.64 10.43]\n",
      "Loss_Q: [2.36 1.56 0.66 0.   4.58] Loss_P: [ 4.11  2.91  3.01  1.54 11.57]\n",
      "Loss_Q: [2.83 2.02 0.68 0.   5.52] Loss_P: [ 4.79  2.99  3.25  1.39 12.43]\n",
      "Loss_Q: [2.95 2.18 0.78 0.   5.9 ] Loss_P: [ 5.19  3.    3.18  1.45 12.83]\n",
      "Loss_Q: [0.72 0.34 0.16 0.   1.22] Loss_P: [2.5  2.09 2.56 1.79 8.93]\n",
      "Loss_Q: [1.64 1.3  0.79 0.   3.73] Loss_P: [ 3.04  2.71  2.65  1.68 10.08]\n",
      "Loss_Q: [2.18 1.64 0.71 0.   4.53] Loss_P: [ 3.77  3.1   2.71  1.67 11.25]\n",
      "Loss_Q: [2.5  1.83 0.64 0.   4.97] Loss_P: [ 4.71  2.86  2.98  1.51 12.05]\n",
      "Loss_Q: [2.72 2.17 0.73 0.   5.62] Loss_P: [ 5.01  2.96  2.99  1.59 12.55]\n",
      "Loss_Q: [0.74 0.42 0.19 0.   1.35] Loss_P: [2.47 2.16 2.71 1.74 9.07]\n",
      "Loss_Q: [1.68 1.51 0.75 0.   3.95] Loss_P: [ 3.19  2.79  2.62  1.72 10.32]\n",
      "Loss_Q: [2.23 1.67 0.67 0.   4.57] Loss_P: [ 3.79  3.09  2.72  1.67 11.27]\n",
      "Loss_Q: [2.52 1.88 0.69 0.   5.09] Loss_P: [ 4.41  3.25  2.77  1.61 12.04]\n",
      "Loss_Q: [2.73 2.18 0.76 0.   5.67] Loss_P: [ 4.88  3.19  2.88  1.7  12.66]\n",
      "Loss_Q: [0.64 0.36 0.17 0.   1.17] Loss_P: [2.43 2.08 2.6  1.76 8.86]\n",
      "Loss_Q: [1.72 1.4  0.74 0.   3.86] Loss_P: [ 3.19  2.62  2.86  1.57 10.24]\n",
      "Loss_Q: [2.09 1.55 0.66 0.   4.3 ] Loss_P: [ 3.76  3.06  2.82  1.62 11.27]\n",
      "Loss_Q: [2.51 1.77 0.66 0.   4.94] Loss_P: [ 4.4   3.06  2.91  1.55 11.91]\n",
      "Loss_Q: [2.77 2.17 0.73 0.   5.67] Loss_P: [ 4.61  3.22  3.07  1.57 12.47]\n",
      "Loss_Q: [0.68 0.29 0.18 0.   1.15] Loss_P: [2.36 2.08 2.62 1.78 8.84]\n",
      "Loss_Q: [1.82 1.4  0.65 0.   3.87] Loss_P: [ 3.3   2.72  2.79  1.69 10.51]\n",
      "Loss_Q: [2.23 1.82 0.7  0.   4.75] Loss_P: [ 3.88  3.21  2.85  1.62 11.56]\n",
      "Loss_Q: [2.6  2.02 0.68 0.   5.3 ] Loss_P: [ 4.58  3.16  3.21  1.39 12.34]\n",
      "Loss_Q: [2.96 2.44 0.61 0.   6.01] Loss_P: [ 5.34  2.99  3.32  1.29 12.94]\n",
      "Loss_Q: [0.8  0.38 0.27 0.   1.45] Loss_P: [2.5  2.12 2.72 1.78 9.13]\n",
      "Loss_Q: [1.74 1.47 0.74 0.   3.94] Loss_P: [ 3.28  2.72  2.79  1.71 10.51]\n",
      "Loss_Q: [2.27 1.79 0.68 0.   4.74] Loss_P: [ 3.99  3.04  2.88  1.67 11.59]\n",
      "Loss_Q: [2.84 2.12 0.74 0.   5.7 ] Loss_P: [ 4.83  3.08  3.16  1.56 12.63]\n",
      "Loss_Q: [2.85 2.26 0.75 0.   5.87] Loss_P: [ 4.8   3.22  3.15  1.57 12.75]\n",
      "Loss_Q: [0.7  0.29 0.22 0.   1.22] Loss_P: [2.46 2.08 2.65 1.78 8.97]\n",
      "Loss_Q: [1.83 1.36 0.74 0.   3.93] Loss_P: [ 3.1   2.64  2.85  1.59 10.17]\n",
      "Loss_Q: [2.31 1.77 0.7  0.   4.78] Loss_P: [ 4.08  3.    2.88  1.59 11.56]\n",
      "Loss_Q: [2.66 2.   0.75 0.   5.41] Loss_P: [ 4.72  3.12  3.06  1.53 12.43]\n",
      "Loss_Q: [2.88 2.36 0.8  0.   6.04] Loss_P: [ 5.06  3.13  3.16  1.54 12.88]\n",
      "Loss_Q: [0.72 0.37 0.2  0.   1.29] Loss_P: [2.41 2.1  2.73 1.76 9.  ]\n",
      "Loss_Q: [1.76 1.6  0.73 0.   4.08] Loss_P: [ 3.01  2.81  2.79  1.71 10.32]\n",
      "Loss_Q: [2.17 1.7  0.73 0.   4.6 ] Loss_P: [ 3.77  3.12  2.96  1.61 11.46]\n",
      "Loss_Q: [2.78 1.94 0.75 0.   5.48] Loss_P: [ 4.61  3.23  2.88  1.63 12.36]\n",
      "Loss_Q: [2.98 2.37 0.86 0.   6.21] Loss_P: [ 4.99  3.33  2.96  1.68 12.97]\n",
      "Loss_Q: [0.71 0.4  0.17 0.   1.29] Loss_P: [2.42 2.16 2.73 1.71 9.03]\n",
      "Loss_Q: [1.71 1.54 0.71 0.   3.96] Loss_P: [ 3.21  2.77  2.73  1.7  10.41]\n",
      "Loss_Q: [2.33 1.75 0.69 0.   4.77] Loss_P: [ 4.01  3.16  2.93  1.62 11.72]\n",
      "Loss_Q: [2.58 1.9  0.74 0.   5.22] Loss_P: [ 4.47  3.08  2.96  1.6  12.1 ]\n",
      "Loss_Q: [2.61 1.87 0.72 0.   5.2 ] Loss_P: [ 4.72  3.25  2.66  1.6  12.22]\n",
      "Loss_Q: [0.66 0.39 0.17 0.   1.22] Loss_P: [2.38 2.05 2.73 1.75 8.91]\n",
      "Loss_Q: [1.62 1.44 0.74 0.   3.79] Loss_P: [ 3.33  2.71  2.76  1.67 10.48]\n",
      "Loss_Q: [2.22 1.73 0.76 0.   4.71] Loss_P: [ 3.82  3.19  2.97  1.61 11.59]\n",
      "Loss_Q: [2.81 2.14 0.75 0.   5.7 ] Loss_P: [ 4.69  3.26  2.93  1.64 12.52]\n"
     ]
    },
    {
     "name": "stdout",
     "output_type": "stream",
     "text": [
      "Loss_Q: [2.84 2.33 0.81 0.   5.98] Loss_P: [ 4.8   3.33  3.05  1.57 12.74]\n",
      "Loss_Q: [0.7  0.35 0.21 0.   1.26] Loss_P: [2.37 2.07 2.77 1.75 8.96]\n",
      "Loss_Q: [1.62 1.43 0.75 0.   3.81] Loss_P: [ 3.2   2.73  3.01  1.59 10.52]\n",
      "Loss_Q: [2.12 1.8  0.71 0.   4.63] Loss_P: [ 3.91  3.21  3.01  1.6  11.73]\n",
      "Loss_Q: [2.62 2.13 0.71 0.   5.46] Loss_P: [ 4.5   3.19  3.18  1.48 12.36]\n",
      "Loss_Q: [2.9  2.33 0.71 0.   5.94] Loss_P: [ 5.25  2.9   3.42  1.29 12.86]\n",
      "Loss_Q: [0.75 0.33 0.23 0.   1.31] Loss_P: [2.41 2.11 2.82 1.73 9.07]\n",
      "Loss_Q: [1.61 1.35 0.75 0.   3.71] Loss_P: [ 3.    2.56  3.06  1.51 10.14]\n",
      "Loss_Q: [2.24 1.72 0.65 0.   4.62] Loss_P: [ 3.93  2.99  3.2   1.35 11.47]\n",
      "Loss_Q: [2.51 1.98 0.69 0.   5.18] Loss_P: [ 4.43  3.09  3.2   1.41 12.13]\n",
      "Loss_Q: [2.82 2.23 0.68 0.   5.72] Loss_P: [ 4.89  3.03  3.37  1.28 12.57]\n",
      "Loss_Q: [0.68 0.31 0.21 0.   1.2 ] Loss_P: [2.39 2.1  2.72 1.76 8.96]\n",
      "Loss_Q: [1.56 1.49 0.78 0.   3.84] Loss_P: [ 3.1   2.73  2.83  1.7  10.36]\n",
      "Loss_Q: [2.28 1.78 0.67 0.   4.73] Loss_P: [ 3.95  3.04  3.14  1.51 11.64]\n",
      "Loss_Q: [2.86 2.25 0.78 0.   5.89] Loss_P: [ 4.89  3.13  3.16  1.52 12.7 ]\n",
      "Loss_Q: [2.77 2.35 0.7  0.   5.82] Loss_P: [ 5.09  2.92  3.3   1.44 12.75]\n",
      "Loss_Q: [0.74 0.33 0.21 0.   1.28] Loss_P: [2.44 2.09 2.72 1.76 9.02]\n",
      "Loss_Q: [1.82 1.47 0.79 0.   4.08] Loss_P: [ 3.15  2.71  2.86  1.69 10.42]\n",
      "Loss_Q: [2.2  1.68 0.74 0.   4.62] Loss_P: [ 3.91  3.05  3.03  1.58 11.56]\n",
      "Loss_Q: [2.56 1.95 0.75 0.   5.26] Loss_P: [ 4.65  2.88  3.26  1.46 12.25]\n",
      "Loss_Q: [2.75 2.23 0.77 0.   5.75] Loss_P: [ 4.89  2.88  3.32  1.43 12.52]\n",
      "Loss_Q: [0.74 0.36 0.2  0.   1.3 ] Loss_P: [2.44 2.02 2.79 1.73 8.97]\n",
      "Loss_Q: [1.65 1.46 0.74 0.   3.85] Loss_P: [ 3.11  2.58  3.13  1.48 10.3 ]\n",
      "Loss_Q: [2.21 1.77 0.75 0.   4.73] Loss_P: [ 3.97  2.88  3.2   1.54 11.59]\n",
      "Loss_Q: [2.75 2.14 0.78 0.   5.67] Loss_P: [ 4.58  3.14  3.16  1.58 12.46]\n",
      "Loss_Q: [2.7  2.44 0.77 0.   5.91] Loss_P: [ 5.03  3.17  3.08  1.59 12.87]\n",
      "Loss_Q: [0.74 0.37 0.19 0.   1.3 ] Loss_P: [2.5  2.05 2.85 1.7  9.09]\n",
      "Loss_Q: [1.82 1.47 0.79 0.   4.08] Loss_P: [ 3.31  2.6   2.97  1.63 10.5 ]\n",
      "Loss_Q: [2.15 1.9  0.72 0.   4.77] Loss_P: [ 3.92  3.    3.3   1.39 11.6 ]\n",
      "Loss_Q: [2.64 2.07 0.7  0.   5.41] Loss_P: [ 4.62  3.11  3.18  1.51 12.41]\n",
      "Loss_Q: [2.61 2.15 0.78 0.   5.54] Loss_P: [ 4.87  3.03  3.17  1.55 12.64]\n",
      "Loss_Q: [0.68 0.32 0.18 0.   1.19] Loss_P: [2.43 2.04 2.83 1.71 9.01]\n",
      "Loss_Q: [1.74 1.43 0.82 0.   3.99] Loss_P: [ 3.13  2.49  3.12  1.49 10.23]\n",
      "Loss_Q: [2.11 1.57 0.71 0.   4.39] Loss_P: [ 3.7   2.78  3.29  1.44 11.21]\n",
      "Loss_Q: [2.44 1.99 0.69 0.   5.12] Loss_P: [ 4.46  2.95  3.34  1.4  12.15]\n",
      "Loss_Q: [2.71 2.32 0.72 0.   5.75] Loss_P: [ 4.88  3.03  3.36  1.41 12.68]\n",
      "Loss_Q: [0.7  0.33 0.2  0.   1.23] Loss_P: [2.44 2.01 2.81 1.72 8.98]\n",
      "Loss_Q: [1.94 1.52 0.75 0.   4.21] Loss_P: [ 3.26  2.7   3.08  1.51 10.55]\n",
      "Loss_Q: [2.17 1.84 0.74 0.   4.76] Loss_P: [ 4.02  3.03  3.12  1.6  11.75]\n",
      "Loss_Q: [2.69 1.95 0.71 0.   5.35] Loss_P: [ 4.61  2.92  3.09  1.54 12.16]\n",
      "Loss_Q: [2.88 2.28 0.73 0.   5.89] Loss_P: [ 5.03  3.01  3.22  1.51 12.77]\n",
      "Loss_Q: [0.74 0.34 0.23 0.   1.31] Loss_P: [2.45 2.04 2.73 1.78 9.  ]\n",
      "Loss_Q: [1.7  1.34 0.73 0.   3.77] Loss_P: [ 3.24  2.47  2.89  1.6  10.2 ]\n",
      "Loss_Q: [2.34 1.58 0.62 0.   4.54] Loss_P: [ 3.99  2.84  3.07  1.43 11.34]\n",
      "Loss_Q: [2.48 1.78 0.65 0.   4.91] Loss_P: [ 4.36  2.89  3.24  1.35 11.83]\n",
      "Loss_Q: [2.77 1.93 0.71 0.   5.4 ] Loss_P: [ 4.78  2.86  3.21  1.3  12.14]\n",
      "Loss_Q: [0.74 0.31 0.23 0.   1.29] Loss_P: [2.45 1.97 2.84 1.73 8.99]\n",
      "Loss_Q: [1.67 1.59 0.75 0.   4.01] Loss_P: [ 3.25  2.69  3.03  1.6  10.57]\n",
      "Loss_Q: [2.2  1.76 0.66 0.   4.62] Loss_P: [ 3.89  2.99  3.09  1.48 11.46]\n",
      "Loss_Q: [2.71 2.17 0.74 0.   5.63] Loss_P: [ 4.55  3.18  2.99  1.59 12.32]\n",
      "Loss_Q: [2.89 2.39 0.72 0.   6.  ] Loss_P: [ 5.07  3.31  3.    1.63 13.  ]\n",
      "Loss_Q: [0.74 0.42 0.2  0.   1.37] Loss_P: [2.42 2.12 2.76 1.76 9.05]\n",
      "Loss_Q: [1.51 1.53 0.77 0.   3.81] Loss_P: [ 3.01  2.79  2.86  1.63 10.29]\n",
      "Loss_Q: [2.03 1.76 0.68 0.   4.47] Loss_P: [ 3.9   2.99  3.15  1.44 11.49]\n",
      "Loss_Q: [2.64 2.26 0.71 0.   5.61] Loss_P: [ 4.88  2.92  3.47  1.26 12.53]\n",
      "Loss_Q: [2.81 2.48 0.65 0.   5.94] Loss_P: [ 5.22  2.93  3.49  1.25 12.89]\n",
      "delta_loss: 0.16636236457758535 delta_f: 0.16925635916809875\n",
      "learning rate change: 0.07206804803966739\n",
      "delta_loss: 0.052544716723581075 delta_f: 0.05391201295000403\n",
      "learning rate change: 0.07733330698617003\n",
      "delta_loss: 0.014260614884744893 delta_f: 0.014515213185432715\n",
      "learning rate change: 0.0840730393339677\n",
      "delta_loss: 0.00822546312512773 delta_f: 0.008285062012012361\n",
      "learning rate change: 0.09214383586779996\n",
      "delta_loss: 0.0 delta_f: 0.0\n",
      "delta_loss: 0.07837379717639714 delta_f: 0.08067367214615576\n",
      "learning rate change: 0.08471550184908748\n",
      "delta_loss: 0.457575382143002 delta_f: 0.4666971993818375\n",
      "learning rate change: 0.08067124112697743\n"
     ]
    }
   ],
   "source": [
    "for e in range (epoch):\n",
    "    index = np.random.permutation(n_data)\n",
    "    Loss_Q_total = np.zeros(HM.n_layer)\n",
    "    Loss_P_total = np.zeros(HM.n_layer)\n",
    "    \n",
    "    if e>0 and e % 5 == 0:\n",
    "        HM.prob_matrix(data_dist)\n",
    "        Count_ft,Count_cat = init_base(HM.Prob_ft_wake,HM.Prob_cat_wake,base=100)\n",
    "        c = 0\n",
    "        for i in range(n_data):\n",
    "            d0 = dataset[:,index[i]:index[i]+1]\n",
    "            Alpha_Q = HM.MI_wake_sample(d0,Count_ft,Count_cat,add_norm)\n",
    "            Loss_P,Grad_P = HM.sleep_update(Alpha_Q,add_norm)\n",
    "            Loss_Q,Grad_Q = HM.wake_update(Alpha_Q,add_norm)\n",
    "            \n",
    "            Loss_Q_total += Loss_Q\n",
    "            Loss_P_total += Loss_P\n",
    "            \n",
    "            c += 1\n",
    "            if c % 100 == 0:\n",
    "                HM.prob_matrix(data_dist)\n",
    "                Count_ft,Count_cat = init_base(HM.Prob_ft_wake,HM.Prob_cat_wake,base=100)\n",
    "                c = 0\n",
    "    else:\n",
    "        for i in range(n_data):  \n",
    "            d0 = dataset[:,index[i]:index[i]+1]\n",
    "            Alpha_Q = HM.wake_sample(d0,add_norm)\n",
    "            Loss_P,Grad_P = HM.sleep_update(Alpha_Q,add_norm)\n",
    "            Alpha_P = HM.sleep_sample(add_norm)\n",
    "            Loss_Q,Grad_Q = HM.wake_update(Alpha_P,add_norm)\n",
    "            \n",
    "            Loss_Q_total += Loss_Q\n",
    "            Loss_P_total += Loss_P\n",
    "            \n",
    "    Loss_Q_total = Loss_Q_total/n_data\n",
    "    Loss_P_total = Loss_P_total/n_data\n",
    "    print('Loss_Q: '+ str(np.around(Loss_Q_total,2)), 'Loss_P: '+ str(np.around(Loss_P_total,2)))\n",
    "HM.check_learning_rate(Alpha_P,Alpha_Q)"
   ]
  },
  {
   "cell_type": "code",
   "execution_count": 859,
   "id": "74ad3014",
   "metadata": {},
   "outputs": [
    {
     "data": {
      "text/plain": [
       "{'Prob_01': array([ 43.07148843,  47.61834263,  65.48284013,  46.15759739,\n",
       "         50.67524855,  45.89181787,  43.71077623,  55.49952632,\n",
       "        100.        ,   0.68351536,   0.69201229,   0.64440632,\n",
       "          0.69019146,   0.69305599,   0.68976794,   0.68521532,\n",
       "          0.68708597]),\n",
       " 'Prob_12': array([ 33.61019477,  43.9792131 ,  30.62607299,  36.86180876,\n",
       "         54.8340931 ,  48.31780781, 100.        ,   0.638416  ,\n",
       "          0.68587958,   0.61607605,   0.65821611,   0.68846618,\n",
       "          0.69258112]),\n",
       " 'Prob_23': array([ 41.84468604,  64.55375643,  43.90932605, 100.        ,\n",
       "          0.67978574,   0.65016538,   0.68570946])}"
      ]
     },
     "execution_count": 859,
     "metadata": {},
     "output_type": "execute_result"
    }
   ],
   "source": [
    "Count_ft"
   ]
  },
  {
   "cell_type": "code",
   "execution_count": 860,
   "id": "7a137e29",
   "metadata": {},
   "outputs": [
    {
     "data": {
      "text/plain": [
       "{'Prob_01': array([5.51645608e-03, 3.24380283e-02, 2.59094598e-02, 7.68773094e-02,\n",
       "        4.38157545e-02, 2.45520582e-01, 1.30311909e-01, 3.36690303e-01,\n",
       "        8.48725993e-03, 1.00615694e-01, 5.00753321e-02, 2.27330636e-01,\n",
       "        6.11562356e-02, 3.16019793e-01, 1.25054320e-01, 7.03414589e-01,\n",
       "        1.52271655e-02, 1.37427611e-01, 9.89631833e-02, 3.30452567e-01,\n",
       "        1.29109178e-01, 8.03103617e-01, 3.32173870e-01, 6.35652994e-01,\n",
       "        2.54020709e-02, 3.32490649e-01, 1.39752240e-01, 5.87991489e-01,\n",
       "        1.81771190e-01, 1.06998839e+00, 2.95133300e-01, 8.10315473e-01,\n",
       "        1.01347043e-01, 1.23432106e+00, 4.40271855e-01, 1.29353106e+00,\n",
       "        1.60940916e-01, 1.84940168e+00, 5.76131281e-01, 1.10711444e+00,\n",
       "        9.49942774e-02, 7.19525337e-01, 3.57513393e-01, 1.65891297e+00,\n",
       "        1.43198901e-01, 1.08435799e+00, 1.24525933e-01, 6.16442775e-01,\n",
       "        1.00428852e-01, 6.00014745e-01, 3.00770986e-01, 8.00004685e-01,\n",
       "        1.83698648e-01, 9.88064447e-01, 3.86390039e-01, 4.79861891e-01,\n",
       "        8.59004438e-02, 7.01803989e-01, 2.31307117e-01, 7.80211428e-01,\n",
       "        1.63325603e-01, 5.40309683e-01, 9.54166533e-02, 1.63745298e-01,\n",
       "        3.55064886e-02, 5.53363870e-02, 5.87456676e-02, 2.54927234e-02,\n",
       "        1.73691857e-01, 2.10794228e-01, 1.28394799e-01, 6.64989022e-02,\n",
       "        9.35174449e-02, 1.61432424e-01, 2.67546839e-01, 8.90480238e-02,\n",
       "        2.50246913e-01, 2.99753088e-01, 1.47265788e-01, 7.03786614e-02,\n",
       "        1.50085717e-01, 1.81399614e-01, 2.33270262e-01, 7.67523444e-02,\n",
       "        7.15984101e-01, 9.21819673e-01, 5.44396336e-01, 1.69032669e-01,\n",
       "        3.19152973e-01, 4.95616971e-01, 6.81812141e-01, 2.12162249e-01,\n",
       "        6.35194462e-01, 9.66617460e-01, 3.92870849e-01, 1.54789136e-01,\n",
       "        6.93538284e-01, 1.05184319e+00, 9.59982303e-01, 3.48758615e-01,\n",
       "        1.18094169e+00, 8.83450330e-01, 3.80172909e-01, 1.59056498e-01,\n",
       "        1.49462943e+00, 1.53058413e+00, 1.39292078e+00, 4.94546656e-01,\n",
       "        7.61040141e-01, 1.25413648e+00, 2.11808617e-01, 1.23463318e-01,\n",
       "        6.31058215e-01, 8.26237285e-01, 4.38491092e-01, 1.62743766e-01,\n",
       "        9.50162409e-01, 7.50221629e-01, 4.56675802e-01, 9.91170615e-02,\n",
       "        8.26389800e-01, 7.71611009e-01, 1.02527565e+00, 2.42807810e-01,\n",
       "        3.78847553e-01, 6.25816970e-01, 1.90580546e-01, 6.90203495e-02,\n",
       "        3.69467592e-02, 9.13728170e-02, 2.09253892e-01, 2.35200075e-01,\n",
       "        2.59660380e-01, 2.54375267e-01, 3.82651669e-01, 2.32361461e-01,\n",
       "        5.87149531e-02, 3.00446457e-01, 1.94393123e-01, 4.80314134e-01,\n",
       "        1.28186669e-01, 4.17122092e-01, 2.29129812e-01, 3.49070191e-01,\n",
       "        1.78501005e-01, 3.64383726e-01, 3.14527323e-01, 4.71091342e-01,\n",
       "        5.77906611e-01, 8.89954915e-01, 4.30938994e-01, 2.78355971e-01,\n",
       "        1.97698975e-01, 4.28458007e-01, 4.14474419e-01, 4.23432632e-01,\n",
       "        2.53399818e-01, 4.16910976e-01, 3.21445430e-01, 2.28645089e-01,\n",
       "        3.28100865e-01, 1.28363767e+00, 1.05295589e+00, 9.62195574e-01,\n",
       "        4.63382212e-01, 7.18407216e-01, 8.18474032e-01, 3.45824301e-01,\n",
       "        3.06815550e-01, 1.31513305e+00, 1.13200194e+00, 1.38873798e+00,\n",
       "        1.37169890e-01, 7.18022028e-01, 1.74721025e-01, 2.09344719e-01,\n",
       "        2.96691930e-01, 5.86946047e-01, 2.44952564e-01, 3.60330630e-01,\n",
       "        2.42699161e-01, 4.66407712e-01, 1.52486567e-01, 1.14082478e-01,\n",
       "        2.07309451e-01, 6.68592713e-01, 3.28148267e-01, 3.28696948e-01,\n",
       "        7.60630649e-02, 2.37391548e-01, 5.62295598e-02, 3.24057395e-02,\n",
       "        8.20803610e-02, 6.23548827e-02, 1.20821064e-01, 3.48257911e-02,\n",
       "        2.22511054e-01, 1.38996639e-01, 1.47251696e-01, 3.47478037e-02,\n",
       "        1.74231399e-01, 1.64653517e-01, 4.56503478e-01, 8.70734099e-02,\n",
       "        2.97600709e-01, 1.68199073e-01, 1.72946601e-01, 4.36502837e-02,\n",
       "        2.62112863e-01, 1.68497428e-01, 3.73566994e-01, 8.83655801e-02,\n",
       "        4.48248827e-01, 3.34438480e-01, 2.55711740e-01, 4.24957125e-02,\n",
       "        5.46707133e-01, 3.30802733e-01, 5.07231942e-01, 1.24312916e-01,\n",
       "        6.56241176e-01, 3.56633318e-01, 1.29971758e-01, 3.52526817e-02,\n",
       "        8.57152229e-01, 3.46006550e-01, 9.57154963e-01, 1.77690089e-01,\n",
       "        5.13653827e-01, 2.28827005e-01, 2.38305749e-01, 3.83411421e-02,\n",
       "        1.07908275e+00, 6.05641375e-01, 1.17908703e+00, 2.12394226e-01,\n",
       "        3.36608916e-01, 1.98418274e-01, 1.19704585e-01, 2.54742798e-02,\n",
       "        6.31007904e-01, 1.99349126e-01, 2.80738246e-01, 7.12943195e-02,\n",
       "        3.40820060e-01, 1.83027403e-01, 8.00214506e-02, 1.81409522e-02,\n",
       "        3.89148714e-01, 3.05544055e-01, 2.52119562e-01, 6.60601272e-02,\n",
       "        1.31108409e-01, 8.63264221e-02, 4.07699742e-02, 9.74636862e-03,\n",
       "        1.00000000e+02, 5.17382792e+00]),\n",
       " 'Prob_12': array([1.35404471e+00, 2.70625433e+00, 4.18883705e+00, 6.17743415e+00,\n",
       "        7.93747302e-01, 1.55166561e+00, 1.70970025e+00, 2.54487759e+00,\n",
       "        1.59148849e+00, 1.59827851e+00, 3.09599735e+00, 2.96773660e+00,\n",
       "        1.28080836e+00, 1.18645625e+00, 2.20300028e+00, 1.66845300e+00,\n",
       "        3.21816652e+00, 4.52456196e+00, 3.15111313e+00, 3.49924322e+00,\n",
       "        1.45177033e+00, 1.40770716e+00, 4.90130226e-01, 4.91082315e-01,\n",
       "        2.80833150e+00, 1.77183951e+00, 1.94878368e+00, 1.30308514e+00,\n",
       "        1.75774730e+00, 1.05144701e+00, 5.51212366e-01, 3.44804002e-01,\n",
       "        1.22245732e+00, 1.33289783e+00, 2.98450628e+00, 2.60422461e+00,\n",
       "        1.80592617e+00, 1.57562238e+00, 3.47646609e+00, 2.18111042e+00,\n",
       "        1.44268317e-01, 6.96958964e-02, 4.15617631e-01, 1.31354468e-01,\n",
       "        4.13259988e-01, 1.93326414e-01, 6.35504826e-01, 2.15768414e-01,\n",
       "        2.50622869e+00, 1.58474831e+00, 2.21163716e+00, 1.48604437e+00,\n",
       "        2.12321816e+00, 1.27260693e+00, 1.11835033e+00, 6.27546095e-01,\n",
       "        2.33331979e-01, 7.33336321e-02, 1.80345886e-01, 5.23029925e-02,\n",
       "        4.70675408e-01, 8.99945953e-02, 1.45519104e-01, 3.23040819e-02,\n",
       "        1.00000000e+02, 3.83259137e+00]),\n",
       " 'Prob_23': array([  8.01302866,   8.2853553 ,  22.38583637,  19.47109363,\n",
       "         11.1183112 ,   8.02954842,  14.57349773,   8.1233287 ,\n",
       "        100.        ,   1.99361239])}"
      ]
     },
     "execution_count": 860,
     "metadata": {},
     "output_type": "execute_result"
    }
   ],
   "source": [
    "Count_cat"
   ]
  },
  {
   "cell_type": "code",
   "execution_count": 863,
   "id": "86dfafc9",
   "metadata": {},
   "outputs": [
    {
     "data": {
      "text/plain": [
       "[1.4210854715202004e-14, 0.0, array([0.]), 0.0]"
      ]
     },
     "execution_count": 863,
     "metadata": {},
     "output_type": "execute_result"
    }
   ],
   "source": [
    "check_M(3,Count_ft['Prob_23'],Count_cat['Prob_23'])"
   ]
  },
  {
   "cell_type": "markdown",
   "id": "ea505651",
   "metadata": {},
   "source": [
    "#### Post-processing"
   ]
  },
  {
   "cell_type": "code",
   "execution_count": 1001,
   "id": "f1f15b10",
   "metadata": {},
   "outputs": [],
   "source": [
    "HM.prob_matrix(data_dist)"
   ]
  },
  {
   "cell_type": "code",
   "execution_count": 123,
   "id": "d00a19f8",
   "metadata": {},
   "outputs": [],
   "source": [
    "# HM.Prob_ft_wake"
   ]
  },
  {
   "cell_type": "code",
   "execution_count": 124,
   "id": "e37d4969",
   "metadata": {},
   "outputs": [],
   "source": [
    "# HM.Prob_cat_wake"
   ]
  },
  {
   "cell_type": "code",
   "execution_count": 756,
   "id": "5d4eb9c0",
   "metadata": {},
   "outputs": [],
   "source": [
    "def bernoulli_to_cat(p):\n",
    "    \"\"\"\n",
    "    Convert independent multi-variate Bernoulli probability to its counterpart categorical probabilities of all comninations 2**n_p\n",
    "    Arguments:\n",
    "    p -- numpy array of bernoulli probabilities p(x=1), of shape (n_p, )\n",
    "    Returns:\n",
    "    p_cat -- categorical probability, of shape (2**n_p, )\n",
    "    \"\"\"\n",
    "    n_p = len(p)\n",
    "    comb = binarilize(np.arange(2**n_p),n_p) #(n_p,2**n_p)\n",
    "    p = p.reshape(-1,1)\n",
    "    p_cat = np.prod(p**comb * (1-p)**(1-comb),axis=0)\n",
    "    \n",
    "    return p_cat"
   ]
  },
  {
   "cell_type": "code",
   "execution_count": 1002,
   "id": "137034cc",
   "metadata": {},
   "outputs": [
    {
     "name": "stdout",
     "output_type": "stream",
     "text": [
      "Prob_01 H(Y|X) 2.4251367841181173\n",
      "Prob_01 H(Y) [4.12391012]\n",
      "Prob_01 H(Y|X) 2.4251367841181173\n",
      "Prob_01 H(Y) 4.19919656116626\n",
      "Prob_12 H(Y|X) 2.5793884895564756\n",
      "Prob_12 H(Y) [3.99275542]\n",
      "Prob_12 H(Y|X) 2.579388489556475\n",
      "Prob_12 H(Y) 4.048481700207032\n",
      "Prob_23 H(Y|X) 0.6564339673231744\n",
      "Prob_23 H(Y) [1.33359434]\n",
      "Prob_23 H(Y|X) 0.6564339673231744\n",
      "Prob_23 H(Y) 1.3368923328209736\n"
     ]
    }
   ],
   "source": [
    "for key in HM.Prob_ft_wake:\n",
    "#     print((HM.Prob_ft_wake[key][:,-1]-HM.Prob_cat_wake[key][:,-1]).sum())\n",
    "#     q = HM.Prob_ft_wake[key][-1,:-1]\n",
    "#     print(key,bernoulli_to_cat(q))\n",
    "#     print(key,HM.Prob_cat_wake[key][-1,:-1])  # not equal\n",
    "\n",
    "    # categorical\n",
    "    print(key,'H(Y|X)',HM.Prob_cat_wake[key][-1,-1])\n",
    "    print(key,'H(Y)',entropy(HM.Prob_cat_wake[key][-1:,:-1]))\n",
    "    \n",
    "    # multi-variate Bernoulli\n",
    "    print(key,'H(Y|X)',HM.Prob_ft_wake[key][-1,-1])\n",
    "    print(key,'H(Y)',entropy_bernoulli(HM.Prob_ft_wake[key][-1,:-1]).sum())    # H(Y) not equal"
   ]
  },
  {
   "cell_type": "markdown",
   "id": "97ca7f8c",
   "metadata": {},
   "source": [
    "Categorical distribution cannot be derived from statistics of independent components."
   ]
  },
  {
   "cell_type": "code",
   "execution_count": 926,
   "id": "78318af8",
   "metadata": {},
   "outputs": [
    {
     "data": {
      "text/plain": [
       "{'Theta_10': {'Theta_10': array([[-1.12836791e+01,  1.02398815e+00,  3.35778047e-01,\n",
       "           3.53290746e-01,  8.95066496e-01, -8.75128118e-01,\n",
       "          -3.70945638e-02,  9.84799751e-01,  0.00000000e+00,\n",
       "           1.00000000e+00],\n",
       "         [ 1.49204337e-01,  1.27435606e+00,  1.68715217e-01,\n",
       "          -1.16930014e-01,  4.83087540e-01, -3.96008547e-01,\n",
       "          -1.11366470e+01,  1.47646972e+00,  0.00000000e+00,\n",
       "           1.00000000e+00],\n",
       "         [-2.50979396e-01,  7.46475153e-01, -1.07021840e+01,\n",
       "          -3.48762614e-01,  3.88225305e-01, -4.01664447e-01,\n",
       "           9.06067755e-02,  1.42687671e+00,  0.00000000e+00,\n",
       "           1.00000000e+00],\n",
       "         [-1.41974601e+00,  6.85248093e+00, -9.15917156e-01,\n",
       "          -1.75800228e+00, -1.35994273e+00, -7.29164364e-01,\n",
       "          -1.21413123e+00, -8.37469075e+00,  0.00000000e+00,\n",
       "           1.00000000e+00],\n",
       "         [-5.84428472e-01, -1.94516931e+00, -9.50359128e-01,\n",
       "          -1.37552819e+00, -1.06448485e+00,  5.30569889e+00,\n",
       "          -1.63733230e+00, -2.14088459e+00,  0.00000000e+00,\n",
       "           1.00000000e+00],\n",
       "         [ 7.55063259e-01, -8.96211744e-02,  9.66924723e-02,\n",
       "          -9.32537237e-02,  1.87546875e-01,  4.25494664e-02,\n",
       "           2.25780815e-01, -1.72371074e-01,  0.00000000e+00,\n",
       "           1.00000000e+00],\n",
       "         [-2.86581046e-01,  6.39997875e-01, -9.67267949e-02,\n",
       "           5.63145093e-01, -1.07992262e+01, -6.23049467e-03,\n",
       "          -3.43081741e-01,  1.28288722e+00,  0.00000000e+00,\n",
       "           1.00000000e+00],\n",
       "         [ 1.25587663e-01,  1.09387355e+00,  4.06246589e-01,\n",
       "          -1.12900965e+01, -1.20783025e+00, -6.07478155e-01,\n",
       "           3.93906982e-01,  1.35045689e+00,  0.00000000e+00,\n",
       "           1.00000000e+00],\n",
       "         [-2.47666641e-01,  4.51192724e-01,  1.18341938e-01,\n",
       "          -3.82302819e-02,  8.26662822e-02,  3.04978944e-02,\n",
       "          -1.25093162e-01,  3.20191264e-01,  0.00000000e+00,\n",
       "           1.00000000e+00],\n",
       "         [ 8.27383811e-01, -5.32047564e-01,  3.57654975e-01,\n",
       "           2.30917613e-01,  3.99817134e-03, -6.08683316e-01,\n",
       "           1.57229360e-01, -3.62887053e-01,  0.00000000e+00,\n",
       "           1.00000000e+00]])},\n",
       " 'Theta_21': {'Theta_10': array([[  0.14737203,   0.16372948,  -0.18802288, -11.04069038,\n",
       "            0.26505536,   0.57936827,   0.        ,   1.        ],\n",
       "         [  1.2656722 ,   1.48323516,   1.41877059,   1.2578424 ,\n",
       "           -9.04116189,   1.25490607,   0.        ,   1.        ],\n",
       "         [-11.44941105,   0.56147301,   0.18950386,   0.73952011,\n",
       "           -0.32671816,   0.85666109,   0.        ,   1.        ],\n",
       "         [  0.14973016,  -0.14587685,  -8.92180201,   0.66120158,\n",
       "           -0.74193965,  -0.53283032,   0.        ,   1.        ],\n",
       "         [ -0.22077897,   0.22096927,  -0.06525647,   0.39820474,\n",
       "            0.07165311, -11.09986617,   0.        ,   1.        ],\n",
       "         [  0.31468658,  -0.10522686,  -8.18398865,  -0.36584744,\n",
       "            0.36302065,   0.94939667,   0.        ,   1.        ],\n",
       "         [  0.3538899 , -11.16253675,   0.84795095,   0.54850139,\n",
       "           -0.40770273,   0.08705914,   0.        ,   1.        ],\n",
       "         [ -0.65652976,  -0.38228094,  -0.59332399,  -0.36697153,\n",
       "            6.76137891,  -1.0346473 ,   0.        ,   1.        ]])},\n",
       " 'Theta_32': {'Theta_10': array([[ -7.88424514,  -0.16608846,   0.36809763,   0.        ,\n",
       "            1.        ],\n",
       "         [  0.03572861,   1.019378  , -10.1967842 ,   0.        ,\n",
       "            1.        ],\n",
       "         [  0.21959261,  -9.4830774 ,  -0.35279124,   0.        ,\n",
       "            1.        ],\n",
       "         [ -8.25804256,   0.99661871,  -0.18013353,   0.        ,\n",
       "            1.        ],\n",
       "         [ -0.86921608,  -0.64073858,  -0.24497503,   0.        ,\n",
       "            1.        ],\n",
       "         [  0.54900371,   0.32712493,   0.52756163,   0.        ,\n",
       "            1.        ]])},\n",
       " 'Theta_43': {'Theta_10': array([[-2.15293368,  0.        ,  1.        ],\n",
       "         [ 0.0983248 ,  0.        ,  1.        ],\n",
       "         [-1.65478167,  0.        ,  1.        ]])}}"
      ]
     },
     "execution_count": 926,
     "metadata": {},
     "output_type": "execute_result"
    }
   ],
   "source": [
    "HM.Theta"
   ]
  },
  {
   "cell_type": "markdown",
   "id": "adbe4499",
   "metadata": {},
   "source": [
    "#### Visualization"
   ]
  },
  {
   "cell_type": "code",
   "execution_count": 692,
   "id": "0269ae10",
   "metadata": {},
   "outputs": [],
   "source": [
    "HM.prob_matrix(data_dist)"
   ]
  },
  {
   "cell_type": "code",
   "execution_count": 693,
   "id": "1b035c7e",
   "metadata": {},
   "outputs": [
    {
     "data": {
      "text/plain": [
       "{'Prob_43': array([[0.41979283, 0.05427514, 0.1862548 , 0.02408094, 0.19357736,\n",
       "         0.02502767, 0.08588692, 0.01110434, 1.59624773],\n",
       "        [0.41979283, 0.05427514, 0.1862548 , 0.02408094, 0.19357736,\n",
       "         0.02502767, 0.08588692, 0.01110434, 1.59624773]]),\n",
       " 'Prob_32': array([[1.56250000e-02, 1.56250000e-02, 1.56250000e-02, 1.56250000e-02,\n",
       "         1.56250000e-02, 1.56250000e-02, 1.56250000e-02, 1.56250000e-02,\n",
       "         1.56250000e-02, 1.56250000e-02, 1.56250000e-02, 1.56250000e-02,\n",
       "         1.56250000e-02, 1.56250000e-02, 1.56250000e-02, 1.56250000e-02,\n",
       "         1.56250000e-02, 1.56250000e-02, 1.56250000e-02, 1.56250000e-02,\n",
       "         1.56250000e-02, 1.56250000e-02, 1.56250000e-02, 1.56250000e-02,\n",
       "         1.56250000e-02, 1.56250000e-02, 1.56250000e-02, 1.56250000e-02,\n",
       "         1.56250000e-02, 1.56250000e-02, 1.56250000e-02, 1.56250000e-02,\n",
       "         1.56250000e-02, 1.56250000e-02, 1.56250000e-02, 1.56250000e-02,\n",
       "         1.56250000e-02, 1.56250000e-02, 1.56250000e-02, 1.56250000e-02,\n",
       "         1.56250000e-02, 1.56250000e-02, 1.56250000e-02, 1.56250000e-02,\n",
       "         1.56250000e-02, 1.56250000e-02, 1.56250000e-02, 1.56250000e-02,\n",
       "         1.56250000e-02, 1.56250000e-02, 1.56250000e-02, 1.56250000e-02,\n",
       "         1.56250000e-02, 1.56250000e-02, 1.56250000e-02, 1.56250000e-02,\n",
       "         1.56250000e-02, 1.56250000e-02, 1.56250000e-02, 1.56250000e-02,\n",
       "         1.56250000e-02, 1.56250000e-02, 1.56250000e-02, 1.56250000e-02,\n",
       "         4.15888308e+00],\n",
       "        [4.77306320e-02, 2.69429312e-04, 8.59510208e-02, 4.85175316e-04,\n",
       "         3.08778311e-02, 1.74298819e-04, 5.56033096e-02, 3.13868910e-04,\n",
       "         5.19783156e-02, 2.93406587e-04, 9.36000447e-02, 5.28352436e-04,\n",
       "         3.36257364e-02, 1.89810163e-04, 6.05516050e-02, 3.41800990e-04,\n",
       "         5.50332512e-02, 3.10651052e-04, 9.91012255e-02, 5.59405437e-04,\n",
       "         3.56020309e-02, 2.00965927e-04, 6.41104208e-02, 3.61889753e-04,\n",
       "         5.99308155e-02, 3.38296765e-04, 1.07920523e-01, 6.09188505e-04,\n",
       "         3.87703561e-02, 2.18850452e-04, 6.98157881e-02, 3.94095343e-04,\n",
       "         2.01680361e-04, 1.13844294e-06, 3.63176270e-04, 2.05005316e-06,\n",
       "         1.30470766e-04, 7.36479852e-07, 2.34945465e-04, 1.32621741e-06,\n",
       "         2.19628465e-04, 1.23975619e-06, 3.95496352e-04, 2.23249317e-06,\n",
       "         1.42081728e-04, 8.02021273e-07, 2.55853925e-04, 1.44424124e-06,\n",
       "         2.32536749e-04, 1.31262071e-06, 4.18740966e-04, 2.36370410e-06,\n",
       "         1.50432336e-04, 8.49158686e-07, 2.70891297e-04, 1.52912402e-06,\n",
       "         2.53230850e-04, 1.42943454e-06, 4.56005906e-04, 2.57405680e-06,\n",
       "         1.63819734e-04, 9.24727714e-07, 2.94998678e-04, 1.66520508e-06,\n",
       "         2.76645234e+00],\n",
       "        [2.39046066e-02, 5.66322097e-02, 2.68471359e-02, 6.36033320e-02,\n",
       "         5.84839737e-05, 1.38553908e-04, 6.56830382e-05, 1.55609154e-04,\n",
       "         1.52616113e-04, 3.61561596e-04, 1.71402341e-04, 4.06067896e-04,\n",
       "         3.73383963e-07, 8.84580920e-07, 4.19345533e-07, 9.93468103e-07,\n",
       "         3.45521008e-02, 8.18571020e-02, 3.88052797e-02, 9.19332737e-02,\n",
       "         8.45336713e-05, 2.00268036e-04, 9.49393144e-05, 2.24919960e-04,\n",
       "         2.20593771e-04, 5.22606916e-04, 2.47747686e-04, 5.86937034e-04,\n",
       "         5.39695154e-07, 1.27858742e-06, 6.06128742e-07, 1.43597469e-06,\n",
       "         3.27636590e-02, 7.76201190e-02, 3.67966903e-02, 8.71747407e-02,\n",
       "         8.01581471e-05, 1.89902017e-04, 9.00251865e-05, 2.13277940e-04,\n",
       "         2.09175678e-04, 4.95556403e-04, 2.34924085e-04, 5.56556747e-04,\n",
       "         5.11760141e-07, 1.21240680e-06, 5.74755078e-07, 1.36164760e-06,\n",
       "         4.73571169e-02, 1.12193362e-01, 5.31865249e-02, 1.26003765e-01,\n",
       "         1.15861868e-04, 2.74487413e-04, 1.30123845e-04, 3.08275347e-04,\n",
       "         3.02345871e-04, 7.16285153e-04, 3.39563032e-04, 8.04456027e-04,\n",
       "         7.39706296e-07, 1.75243219e-06, 8.30760187e-07, 1.96814723e-06,\n",
       "         2.71249533e+00],\n",
       "        [1.20703985e-01, 1.61417706e-03, 2.44113514e-01, 3.26453543e-03,\n",
       "         1.91040956e-04, 2.55479494e-06, 3.86364039e-04, 5.16685486e-06,\n",
       "         8.39199877e-04, 1.12226386e-05, 1.69721017e-03, 2.26968293e-05,\n",
       "         1.32822083e-06, 1.77623266e-08, 2.68621334e-06, 3.59227906e-08,\n",
       "         2.01160381e-01, 2.69012224e-03, 4.06829714e-01, 5.44054279e-03,\n",
       "         3.18381134e-04, 4.25771797e-06, 6.43898689e-04, 8.61087145e-06,\n",
       "         1.39857659e-03, 1.87031958e-05, 2.82850187e-03, 3.78256182e-05,\n",
       "         2.21355914e-06, 2.96019755e-08, 4.47673457e-06, 5.98674707e-08,\n",
       "         6.99034851e-04, 9.34820857e-06, 1.41373836e-03, 1.89059545e-05,\n",
       "         1.10637844e-06, 1.47956234e-08, 2.23755603e-06, 2.99228864e-08,\n",
       "         4.86007122e-06, 6.49938402e-08, 9.82907951e-06, 1.31444498e-07,\n",
       "         7.69214582e-09, 1.02867237e-10, 1.55567088e-08, 2.08040212e-10,\n",
       "         1.16498323e-03, 1.55793465e-05, 2.35607921e-03, 3.15078995e-05,\n",
       "         1.84384558e-06, 2.46577879e-08, 3.72902043e-06, 4.98682729e-08,\n",
       "         8.09959823e-06, 1.08316107e-07, 1.63807466e-05, 2.19060087e-07,\n",
       "         1.28194193e-08, 1.71434378e-10, 2.59261821e-08, 3.46711408e-10,\n",
       "         1.45502154e+00],\n",
       "        [1.49870602e-02, 2.27512396e-02, 3.23048191e-02, 4.90406169e-02,\n",
       "         8.87752994e-03, 1.34766130e-02, 1.91356406e-02, 2.90490288e-02,\n",
       "         1.42487153e-02, 2.16303884e-02, 3.07133061e-02, 4.66246065e-02,\n",
       "         8.44017401e-03, 1.28126809e-02, 1.81929138e-02, 2.76179140e-02,\n",
       "         1.57154093e-05, 2.38569164e-05, 3.38747858e-05, 5.14239187e-05,\n",
       "         9.30896484e-06, 1.41315566e-05, 2.00656046e-05, 3.04607689e-05,\n",
       "         1.49411819e-05, 2.26815935e-05, 3.22059276e-05, 4.88904938e-05,\n",
       "         8.85035405e-06, 1.34353584e-05, 1.90770626e-05, 2.89601040e-05,\n",
       "         2.54866620e-02, 3.86902531e-02, 5.49368584e-02, 8.33973847e-02,\n",
       "         1.50969304e-02, 2.29180290e-02, 3.25416458e-02, 4.94001337e-02,\n",
       "         2.42310489e-02, 3.67841585e-02, 5.22303667e-02, 7.92887710e-02,\n",
       "         1.43531726e-02, 2.17889609e-02, 3.09384654e-02, 4.69664116e-02,\n",
       "         2.67252763e-05, 4.05705425e-05, 5.76067089e-05, 8.74503749e-05,\n",
       "         1.58306190e-05, 2.40318115e-05, 3.41231219e-05, 5.18009076e-05,\n",
       "         2.54086423e-05, 3.85718145e-05, 5.47686858e-05, 8.31420887e-05,\n",
       "         1.50507157e-05, 2.28478723e-05, 3.24420293e-05, 4.92489101e-05,\n",
       "         3.31652858e+00],\n",
       "        [7.15451432e-02, 6.13078980e-04, 2.77705750e-01, 2.37969414e-03,\n",
       "         2.74160859e-02, 2.34931754e-04, 1.06416793e-01, 9.11898365e-04,\n",
       "         7.40737666e-02, 6.34747060e-04, 2.87520718e-01, 2.46379979e-03,\n",
       "         2.83850540e-02, 2.43234959e-04, 1.10177887e-01, 9.44127633e-04,\n",
       "         8.65002549e-05, 7.41231140e-07, 3.35754701e-04, 2.87712262e-06,\n",
       "         3.31468820e-05, 2.84039639e-07, 1.28661141e-04, 1.10251287e-06,\n",
       "         8.95574376e-05, 7.67428508e-07, 3.47621296e-04, 2.97880890e-06,\n",
       "         3.43183939e-05, 2.94078466e-07, 1.33208418e-04, 1.14147903e-06,\n",
       "         5.14094656e-04, 4.40533925e-06, 1.99548195e-03, 1.70995261e-05,\n",
       "         1.97000979e-04, 1.68812520e-06, 7.64668324e-04, 6.55253530e-06,\n",
       "         5.32264329e-04, 4.56103737e-06, 2.06600837e-03, 1.77038755e-05,\n",
       "         2.03963595e-04, 1.74778870e-06, 7.91694034e-04, 6.78412187e-06,\n",
       "         6.21556081e-07, 5.32618919e-09, 2.41259840e-06, 2.06738473e-08,\n",
       "         2.38180178e-07, 2.04099473e-09, 9.24507270e-07, 7.92221454e-09,\n",
       "         6.43523768e-07, 5.51443295e-09, 2.49786698e-06, 2.14045241e-08,\n",
       "         2.46598191e-07, 2.11312971e-09, 9.57182175e-07, 8.20220976e-09,\n",
       "         1.89085314e+00],\n",
       "        [1.89226376e-02, 6.80537702e-02, 4.58087976e-02, 1.64747719e-01,\n",
       "         2.74228531e-05, 9.86241233e-05, 6.63865131e-05, 2.38753846e-04,\n",
       "         1.14857594e-04, 4.13076256e-04, 2.78052584e-04, 9.99994136e-04,\n",
       "         1.66452637e-07, 5.98633750e-07, 4.02956254e-07, 1.44920031e-06,\n",
       "         2.86803055e-05, 1.03146452e-04, 6.94306122e-05, 2.49701708e-04,\n",
       "         4.15637515e-08, 1.49480746e-07, 1.00619455e-07, 3.61869915e-07,\n",
       "         1.74085186e-07, 6.26083609e-07, 4.21433483e-07, 1.51565220e-06,\n",
       "         2.52285785e-10, 9.07325883e-10, 6.10745116e-10, 2.19649653e-09,\n",
       "         4.41051167e-02, 1.58620565e-01, 1.06771710e-01, 3.83996012e-01,\n",
       "         6.39175237e-05, 2.29874321e-04, 1.54734502e-04, 5.56490404e-04,\n",
       "         2.67711494e-04, 9.62803224e-04, 6.48088386e-04, 2.33079864e-03,\n",
       "         3.87969856e-07, 1.39530292e-06, 9.39215399e-07, 3.37781393e-06,\n",
       "         6.68484093e-05, 2.40415019e-04, 1.61829726e-04, 5.82007815e-04,\n",
       "         9.68773037e-08, 3.48411564e-07, 2.34525064e-07, 8.43450854e-07,\n",
       "         4.05759895e-07, 1.45928339e-06, 9.82282350e-07, 3.53270082e-06,\n",
       "         5.88030815e-10, 2.11480634e-09, 1.42353224e-09, 5.11962115e-09,\n",
       "         1.79817463e+00],\n",
       "        [1.79422673e-01, 3.64246593e-03, 7.82165035e-01, 1.58787596e-02,\n",
       "         1.68212355e-04, 3.41488487e-06, 7.33295409e-04, 1.48866556e-05,\n",
       "         1.18598824e-03, 2.40767885e-05, 5.17012993e-03, 1.04958988e-04,\n",
       "         1.11188776e-06, 2.25724721e-08, 4.84710051e-06, 9.84011562e-08,\n",
       "         3.13550437e-04, 6.36539833e-06, 1.36687401e-03, 2.77489568e-05,\n",
       "         2.93959824e-07, 5.96768862e-09, 1.28147180e-06, 2.60152036e-08,\n",
       "         2.07257602e-06, 4.20754380e-08, 9.03507048e-06, 1.83421280e-07,\n",
       "         1.94308159e-09, 3.94465671e-11, 8.47055981e-09, 1.71961130e-10,\n",
       "         1.76705900e-03, 3.58731263e-05, 7.70321690e-03, 1.56383275e-04,\n",
       "         1.65665326e-06, 3.36317755e-08, 7.22192036e-06, 1.46612457e-07,\n",
       "         1.16803030e-05, 2.37122239e-07, 5.09184513e-05, 1.03369725e-06,\n",
       "         1.09505184e-08, 2.22306855e-10, 4.77370694e-08, 9.69111909e-10,\n",
       "         3.08802736e-06, 6.26901509e-08, 1.34617715e-05, 2.73287892e-07,\n",
       "         2.89508759e-09, 5.87732739e-11, 1.26206808e-08, 2.56212880e-10,\n",
       "         2.04119360e-08, 4.14383424e-10, 8.89826374e-08, 1.80643962e-09,\n",
       "         1.91365995e-11, 3.88492772e-13, 8.34230074e-11, 1.69357338e-12,\n",
       "         6.93577837e-01],\n",
       "        [2.48182048e-02, 2.74656229e-02, 4.79267739e-02, 4.23893436e-02,\n",
       "         1.06595276e-02, 9.21774620e-03, 1.59801139e-02, 1.22721336e-02,\n",
       "         1.40641844e-02, 1.08815853e-02, 2.49348802e-02, 1.58383011e-02,\n",
       "         1.07286710e-02, 9.05611424e-03, 1.61251731e-02, 1.19479577e-02,\n",
       "         2.08369778e-02, 2.19007491e-02, 2.89986085e-02, 2.38754328e-02,\n",
       "         8.51761818e-03, 6.61032934e-03, 1.00791806e-02, 6.62695978e-03,\n",
       "         9.89195350e-03, 6.67987654e-03, 1.25459923e-02, 6.71222827e-03,\n",
       "         8.66625532e-03, 6.57398812e-03, 1.03557720e-02, 6.58655616e-03,\n",
       "         2.14436133e-02, 4.21301671e-02, 3.34068853e-02, 7.19227881e-02,\n",
       "         9.51416313e-03, 1.10508707e-02, 1.29206696e-02, 1.62097678e-02,\n",
       "         1.13372866e-02, 1.38550207e-02, 1.68432724e-02, 2.22121989e-02,\n",
       "         9.35065730e-03, 1.07775453e-02, 1.25821386e-02, 1.56516886e-02,\n",
       "         1.54313930e-02, 2.74847649e-02, 1.65702328e-02, 3.00958754e-02,\n",
       "         6.59213064e-03, 6.61511618e-03, 6.60494044e-03, 6.62686499e-03,\n",
       "         6.63448518e-03, 6.70034676e-03, 6.65840225e-03, 6.72564008e-03,\n",
       "         6.57121203e-03, 6.56406257e-03, 6.58173348e-03, 6.56925399e-03,\n",
       "         3.28774233e+00]]),\n",
       " 'Prob_21': array([[3.90625000e-03, 3.90625000e-03, 3.90625000e-03, ...,\n",
       "         3.90625000e-03, 3.90625000e-03, 5.54517744e+00],\n",
       "        [4.45254544e-05, 2.83963084e-05, 4.58188652e-05, ...,\n",
       "         1.68382378e-03, 1.07386617e-03, 4.36746118e+00],\n",
       "        [4.19044442e-04, 1.79454170e-03, 1.42777364e-03, ...,\n",
       "         2.80867600e-06, 1.20280469e-05, 4.07762371e+00],\n",
       "        ...,\n",
       "        [7.35477319e-04, 2.28020280e-05, 6.51322599e-06, ...,\n",
       "         1.85013788e-13, 5.73598865e-15, 6.97324388e-01],\n",
       "        [3.81715566e-03, 7.54740374e-05, 3.47858565e-05, ...,\n",
       "         3.63130691e-11, 7.17993759e-13, 1.54585475e+00],\n",
       "        [3.63189620e-04, 6.75949165e-04, 6.32449029e-04, ...,\n",
       "         3.05236557e-04, 1.28305355e-04, 2.73323746e+00]]),\n",
       " 'Prob_10': array([[9.76562500e-04, 9.76562500e-04, 9.76562500e-04, ...,\n",
       "         9.76562500e-04, 9.76562500e-04, 6.93147181e+00],\n",
       "        [3.33969926e-06, 1.53884479e-06, 1.49124234e-06, ...,\n",
       "         1.89373598e-04, 8.72583283e-05, 5.45085614e+00],\n",
       "        [2.21419211e-05, 1.14475250e-03, 1.52543203e-05, ...,\n",
       "         5.78199387e-06, 2.98933045e-04, 5.39170214e+00],\n",
       "        ...,\n",
       "        [1.08444300e-03, 3.31321010e-03, 6.26672919e-06, ...,\n",
       "         2.92688251e-09, 8.94226503e-09, 4.30065203e+00],\n",
       "        [2.25218919e-04, 3.17054977e-04, 5.81138883e-07, ...,\n",
       "         3.44679536e-08, 4.85227276e-08, 4.11274768e+00],\n",
       "        [2.54631222e-05, 9.37126193e-05, 8.32084352e-05, ...,\n",
       "         5.39414844e-04, 1.41964842e-04, 3.90649324e+00]])}"
      ]
     },
     "execution_count": 693,
     "metadata": {},
     "output_type": "execute_result"
    }
   ],
   "source": [
    "HM.Prob_cat_sleep"
   ]
  },
  {
   "cell_type": "code",
   "execution_count": 851,
   "id": "003a50fc",
   "metadata": {},
   "outputs": [
    {
     "ename": "KeyError",
     "evalue": "'Prob_54'",
     "output_type": "error",
     "traceback": [
      "\u001b[1;31m---------------------------------------------------------------------------\u001b[0m",
      "\u001b[1;31mKeyError\u001b[0m                                  Traceback (most recent call last)",
      "Cell \u001b[1;32mIn[851], line 1\u001b[0m\n\u001b[1;32m----> 1\u001b[0m HM\u001b[38;5;241m.\u001b[39mProb_cat_sleep[\u001b[38;5;124m'\u001b[39m\u001b[38;5;124mProb_54\u001b[39m\u001b[38;5;124m'\u001b[39m]\n",
      "\u001b[1;31mKeyError\u001b[0m: 'Prob_54'"
     ]
    }
   ],
   "source": [
    "HM.Prob_cat_sleep['Prob_54']"
   ]
  },
  {
   "cell_type": "code",
   "execution_count": 927,
   "id": "32139dc0",
   "metadata": {},
   "outputs": [
    {
     "data": {
      "image/png": "[encoded data removed]",
      "text/plain": [
       "<Figure size 1800x1000 with 1 Axes>"
      ]
     },
     "metadata": {},
     "output_type": "display_data"
    }
   ],
   "source": [
    "fig, ax = plt.subplots(figsize=(18, 10))\n",
    "prob_mtx = HM.Prob_cat_wake['Prob_23'][:-1,:-1]\n",
    "x_size = prob_mtx.shape[0]\n",
    "y_size = prob_mtx.shape[1]\n",
    "for i in range(x_size):\n",
    "    ax.bar(np.arange(y_size)+i/x_size, prob_mtx[i,:], width=1/x_size, edgecolor=\"white\", linewidth=0.7,align='edge')\n",
    "plt.show()"
   ]
  },
  {
   "cell_type": "code",
   "execution_count": 697,
   "id": "a66c25e8",
   "metadata": {},
   "outputs": [
    {
     "ename": "KeyError",
     "evalue": "'Prob_34'",
     "output_type": "error",
     "traceback": [
      "\u001b[1;31m---------------------------------------------------------------------------\u001b[0m",
      "\u001b[1;31mKeyError\u001b[0m                                  Traceback (most recent call last)",
      "Cell \u001b[1;32mIn[697], line 2\u001b[0m\n\u001b[0;32m      1\u001b[0m fig, ax \u001b[38;5;241m=\u001b[39m plt\u001b[38;5;241m.\u001b[39msubplots(figsize\u001b[38;5;241m=\u001b[39m(\u001b[38;5;241m18\u001b[39m, \u001b[38;5;241m10\u001b[39m))\n\u001b[1;32m----> 2\u001b[0m prob_mtx \u001b[38;5;241m=\u001b[39m HM\u001b[38;5;241m.\u001b[39mProb_cat_wake[\u001b[38;5;124m'\u001b[39m\u001b[38;5;124mProb_34\u001b[39m\u001b[38;5;124m'\u001b[39m][\u001b[38;5;241m-\u001b[39m\u001b[38;5;241m1\u001b[39m:,:\u001b[38;5;241m-\u001b[39m\u001b[38;5;241m1\u001b[39m]\n\u001b[0;32m      3\u001b[0m x_size \u001b[38;5;241m=\u001b[39m prob_mtx\u001b[38;5;241m.\u001b[39mshape[\u001b[38;5;241m0\u001b[39m]\n\u001b[0;32m      4\u001b[0m y_size \u001b[38;5;241m=\u001b[39m prob_mtx\u001b[38;5;241m.\u001b[39mshape[\u001b[38;5;241m1\u001b[39m]\n",
      "\u001b[1;31mKeyError\u001b[0m: 'Prob_34'"
     ]
    },
    {
     "data": {
      "image/png": "[encoded data removed]",
      "text/plain": [
       "<Figure size 1800x1000 with 1 Axes>"
      ]
     },
     "metadata": {},
     "output_type": "display_data"
    }
   ],
   "source": [
    "fig, ax = plt.subplots(figsize=(18, 10))\n",
    "prob_mtx = HM.Prob_cat_wake['Prob_34'][-1:,:-1]\n",
    "x_size = prob_mtx.shape[0]\n",
    "y_size = prob_mtx.shape[1]\n",
    "for i in range(x_size):\n",
    "    ax.bar(np.arange(y_size)+i/x_size, prob_mtx[i,:], width=1/x_size, edgecolor=\"white\", linewidth=0.7,align='edge')\n",
    "plt.show()"
   ]
  },
  {
   "cell_type": "code",
   "execution_count": 632,
   "id": "0db6e2e0",
   "metadata": {},
   "outputs": [
    {
     "data": {
      "image/png": "[encoded data removed]",
      "text/plain": [
       "<Figure size 1800x1000 with 1 Axes>"
      ]
     },
     "metadata": {},
     "output_type": "display_data"
    }
   ],
   "source": [
    "fig, ax = plt.subplots(figsize=(18, 10))\n",
    "prob_mtx = HM.Prob_cat_sleep['Prob_54'][-1:,:-1]\n",
    "x_size = prob_mtx.shape[0]\n",
    "y_size = prob_mtx.shape[1]\n",
    "for i in range(x_size):\n",
    "    ax.bar(np.arange(y_size)+i/x_size, prob_mtx[i,:], width=1/x_size, edgecolor=\"white\", linewidth=0.7,align='edge')\n",
    "plt.show()"
   ]
  },
  {
   "cell_type": "code",
   "execution_count": 928,
   "id": "afe20cd6",
   "metadata": {},
   "outputs": [
    {
     "data": {
      "image/png": "[encoded data removed]",
      "text/plain": [
       "<Figure size 1800x1000 with 1 Axes>"
      ]
     },
     "metadata": {},
     "output_type": "display_data"
    }
   ],
   "source": [
    "fig, ax = plt.subplots(figsize=(18, 10))\n",
    "prob_mtx = HM.Prob_ft_wake['Prob_23'][:-1,:-1]\n",
    "x_size = prob_mtx.shape[0]\n",
    "y_size = prob_mtx.shape[1]\n",
    "for i in range(x_size):\n",
    "    ax.bar(np.arange(y_size)+i/x_size, prob_mtx[i,:], width=1/x_size, edgecolor=\"white\", linewidth=0.7,align='edge')\n",
    "plt.show()"
   ]
  },
  {
   "cell_type": "code",
   "execution_count": 634,
   "id": "ce500008",
   "metadata": {},
   "outputs": [
    {
     "data": {
      "image/png": "[encoded data removed]",
      "text/plain": [
       "<Figure size 1800x1000 with 1 Axes>"
      ]
     },
     "metadata": {},
     "output_type": "display_data"
    }
   ],
   "source": [
    "fig, ax = plt.subplots(figsize=(18, 10))\n",
    "prob_mtx = HM.Prob_ft_wake['Prob_34'][-1:,:-1]\n",
    "x_size = prob_mtx.shape[0]\n",
    "y_size = prob_mtx.shape[1]\n",
    "for i in range(x_size):\n",
    "    ax.bar(np.arange(y_size)+i/x_size, prob_mtx[i,:], width=1/x_size, edgecolor=\"white\", linewidth=0.7,align='edge')\n",
    "plt.show()"
   ]
  },
  {
   "cell_type": "code",
   "execution_count": 635,
   "id": "0107ae9c",
   "metadata": {},
   "outputs": [
    {
     "data": {
      "image/png": "[encoded data removed]",
      "text/plain": [
       "<Figure size 1800x1000 with 1 Axes>"
      ]
     },
     "metadata": {},
     "output_type": "display_data"
    }
   ],
   "source": [
    "fig, ax = plt.subplots(figsize=(18, 10))\n",
    "prob_mtx = HM.Prob_ft_sleep['Prob_54'][-1:,:-1]\n",
    "x_size = prob_mtx.shape[0]\n",
    "y_size = prob_mtx.shape[1]\n",
    "for i in range(x_size):\n",
    "    ax.bar(np.arange(y_size)+i/x_size, prob_mtx[i,:], width=1/x_size, edgecolor=\"white\", linewidth=0.7,align='edge')\n",
    "plt.show()"
   ]
  },
  {
   "cell_type": "code",
   "execution_count": 636,
   "id": "55712c06",
   "metadata": {},
   "outputs": [],
   "source": [
    "start_pattern = HM.Prob_cat_sleep['Prob_43'][0,:-1]\n",
    "target_layer = 0"
   ]
  },
  {
   "cell_type": "code",
   "execution_count": 637,
   "id": "bbfd0073",
   "metadata": {},
   "outputs": [],
   "source": [
    "p = (start_pattern.reshape(-1,1) * HM.Prob_cat_sleep['Prob_32'][:-1,:-1]).sum(axis=0)\n",
    "p = (p.reshape(-1,1) * HM.Prob_cat_sleep['Prob_21'][:-1,:-1]).sum(axis=0)\n",
    "p = (p.reshape(-1,1) * HM.Prob_cat_sleep['Prob_10'][:-1,:-1]).sum(axis=0)"
   ]
  },
  {
   "cell_type": "code",
   "execution_count": 638,
   "id": "d9cf6c0a",
   "metadata": {},
   "outputs": [],
   "source": [
    "def gen_dist(key_num,p_row,tg_layer):\n",
    "    \"\"\"\n",
    "    Generation distriution from a given pattern at upper layer\n",
    "    Arguments:\n",
    "    key_num -- start layer number, integer\n",
    "    p_row -- specific pattern chosen at start layer, integer\n",
    "    tg_layer -- target layer number, integer\n",
    "    Returns:\n",
    "    tg_dist -- target distribution at target layer, numpy array of shape (n_tg, ), n_tg is the size of target layer\n",
    "    \"\"\"\n",
    "    keys = [*HM.Prob_cat_sleep]\n",
    "    p = HM.Prob_cat_sleep[keys[key_num]][p_row,:-1]\n",
    "    for i in range(key_num+1,len(keys)-tg_layer):\n",
    "        p = (p.reshape(-1,1) * HM.Prob_cat_sleep[keys[i]][:-1,:-1]).sum(axis=0)\n",
    "    tg_dist = p\n",
    "    return tg_dist"
   ]
  },
  {
   "cell_type": "code",
   "execution_count": 970,
   "id": "73312656",
   "metadata": {},
   "outputs": [
    {
     "name": "stdout",
     "output_type": "stream",
     "text": [
      "8\n",
      "1024\n"
     ]
    }
   ],
   "source": [
    "key_num = 1 # ['Prob_43']\n",
    "tg_layer = 0 # generation\n",
    "keys = [*HM.Prob_cat_sleep]\n",
    "p_row_max = HM.Prob_cat_sleep[keys[key_num]].shape[0]-1\n",
    "n_tg = HM.Prob_cat_sleep[keys[len(keys)-tg_layer-1]].shape[1]-1\n",
    "print(p_row_max)\n",
    "print(n_tg)"
   ]
  },
  {
   "cell_type": "code",
   "execution_count": 872,
   "id": "b5d65e83",
   "metadata": {},
   "outputs": [
    {
     "data": {
      "image/png": "[encoded data removed]",
      "text/plain": [
       "<Figure size 1800x1000 with 1 Axes>"
      ]
     },
     "metadata": {},
     "output_type": "display_data"
    }
   ],
   "source": [
    "p_row = 0\n",
    "tg_dist = gen_dist(key_num,p_row,tg_layer)\n",
    "\n",
    "# x_lim = n_tg\n",
    "# n_ticks = 8\n",
    "# xtick = np.arange(0,x_lim,int(x_lim/n_ticks/100+0.5)*100)\n",
    "# xtick[np.argmin(np.abs(xtick - counts_d.size))] = counts_d.size\n",
    "# xtick[-1] = x_lim\n",
    "\n",
    "fig, ax = plt.subplots(figsize=(18, 10))\n",
    "ax.bar(np.arange(tg_dist.size), tg_dist[reordered_set], align='edge')\n",
    "# ax.set(xlim=(0, x_lim), xticks=xtick)\n",
    "ax.set(xlim=(0, n_data))\n",
    "plt.show()"
   ]
  },
  {
   "cell_type": "code",
   "execution_count": 1003,
   "id": "13627bc5",
   "metadata": {},
   "outputs": [
    {
     "data": {
      "image/png": "[encoded data removed]",
      "text/plain": [
       "<Figure size 1800x1000 with 8 Axes>"
      ]
     },
     "metadata": {},
     "output_type": "display_data"
    }
   ],
   "source": [
    "comb = binarilize(np.arange(p_row_max),int(np.log2(p_row_max)))\n",
    "fig, ax = plt.subplots(int(p_row_max/2), 2,figsize=(18, 10))\n",
    "for i in range(p_row_max):\n",
    "    tg_dist = gen_dist(key_num,i,tg_layer)\n",
    "    ax[int(i/2),np.mod(i,2)].bar(np.arange(tg_dist.size), tg_dist, align='edge')\n",
    "#     ax[int(i/2),np.mod(i,2)].set(xlim=(0, n_data))\n",
    "    ax[int(i/2),np.mod(i,2)].set_title(str(comb[:,i]))\n",
    "plt.show()"
   ]
  },
  {
   "cell_type": "code",
   "execution_count": 998,
   "id": "72f451e4",
   "metadata": {},
   "outputs": [
    {
     "data": {
      "image/png": "[encoded data removed]",
      "text/plain": [
       "<Figure size 1800x1000 with 8 Axes>"
      ]
     },
     "metadata": {},
     "output_type": "display_data"
    }
   ],
   "source": [
    "fig, ax = plt.subplots(int(p_row_max/2), 2,figsize=(18, 10))\n",
    "for i in range(p_row_max):\n",
    "    prob = np.random.randn(HM.n_d,n_sample) + u[:,i:i+1]\n",
    "    index = decimalize((prob>0.5).astype(int))\n",
    "    values_i, counts_i = np.unique(index, return_counts=True)\n",
    "    y = np.zeros((2**HM.n_d,))\n",
    "    y[values_i] = counts_i/n_sample\n",
    "    \n",
    "    ax[int(i/2),np.mod(i,2)].bar(np.arange(2**HM.n_d), y, align='edge')\n",
    "#     ax[int(i/2),np.mod(i,2)].set(xlim=(0, n_data))\n",
    "    ax[int(i/2),np.mod(i,2)].set_title(str(comb[:,i]))\n",
    "plt.show()"
   ]
  },
  {
   "cell_type": "code",
   "execution_count": 109,
   "id": "68b0d576",
   "metadata": {},
   "outputs": [],
   "source": [
    "# fig, ax = plt.subplots(figsize=(18, 10))\n",
    "# x_size = p_row_max\n",
    "# y_size = n_data\n",
    "# for i in range(x_size):\n",
    "#     tg_dist = gen_dist(key_num,i,tg_layer)\n",
    "# #     ax.bar(np.arange(y_size)+i/x_size, tg_dist[reordered_set][:n_data], width=1/x_size, align='edge')\n",
    "#     ax.bar(np.arange(tg_dist.size), tg_dist[reordered_set], align='edge')\n",
    "# ax.set(xlim=(0, y_size))\n",
    "# plt.show()"
   ]
  },
  {
   "cell_type": "code",
   "execution_count": null,
   "id": "90f72fc5",
   "metadata": {},
   "outputs": [],
   "source": []
  },
  {
   "cell_type": "markdown",
   "id": "008fe9c6",
   "metadata": {},
   "source": [
    "#### Auralization"
   ]
  },
  {
   "cell_type": "code",
   "execution_count": null,
   "id": "4d557454",
   "metadata": {},
   "outputs": [],
   "source": []
  },
  {
   "cell_type": "code",
   "execution_count": null,
   "id": "136d2b18",
   "metadata": {},
   "outputs": [],
   "source": []
  },
  {
   "cell_type": "code",
   "execution_count": null,
   "id": "864617f5",
   "metadata": {},
   "outputs": [],
   "source": []
  },
  {
   "cell_type": "code",
   "execution_count": null,
   "id": "8bdec446",
   "metadata": {},
   "outputs": [],
   "source": []
  },
  {
   "cell_type": "code",
   "execution_count": null,
   "id": "2681559d",
   "metadata": {},
   "outputs": [],
   "source": []
  },
  {
   "cell_type": "code",
   "execution_count": null,
   "id": "c49b08c2",
   "metadata": {},
   "outputs": [],
   "source": []
  },
  {
   "cell_type": "markdown",
   "id": "3b80305b",
   "metadata": {},
   "source": [
    "#### Categorical entropy corner"
   ]
  },
  {
   "cell_type": "code",
   "execution_count": 276,
   "id": "bc394533",
   "metadata": {},
   "outputs": [
    {
     "data": {
      "text/plain": [
       "array([[0.18393857],\n",
       "       [0.35554527],\n",
       "       [0.14186142],\n",
       "       [0.70877719],\n",
       "       [0.67456713],\n",
       "       [0.81605959],\n",
       "       [0.65112462],\n",
       "       [0.13938567],\n",
       "       [0.29808115],\n",
       "       [0.32371686]])"
      ]
     },
     "execution_count": 276,
     "metadata": {},
     "output_type": "execute_result"
    }
   ],
   "source": [
    "p = np.random.rand(10,1)\n",
    "p"
   ]
  },
  {
   "cell_type": "code",
   "execution_count": 277,
   "id": "656b442f",
   "metadata": {},
   "outputs": [
    {
     "data": {
      "text/plain": [
       "array([[0, 0, 0, ..., 1, 1, 1],\n",
       "       [0, 0, 0, ..., 1, 1, 1],\n",
       "       [0, 0, 0, ..., 1, 1, 1],\n",
       "       ...,\n",
       "       [0, 0, 0, ..., 1, 1, 1],\n",
       "       [0, 0, 1, ..., 0, 1, 1],\n",
       "       [0, 1, 0, ..., 1, 0, 1]])"
      ]
     },
     "execution_count": 277,
     "metadata": {},
     "output_type": "execute_result"
    }
   ],
   "source": [
    "comb = binarilize(np.arange(2**10),10)\n",
    "comb"
   ]
  },
  {
   "cell_type": "code",
   "execution_count": 282,
   "id": "c2d16555",
   "metadata": {},
   "outputs": [
    {
     "data": {
      "text/plain": [
       "array([5.53737328])"
      ]
     },
     "execution_count": 282,
     "metadata": {},
     "output_type": "execute_result"
    }
   ],
   "source": [
    "p_cat = np.prod(p**comb * (1-p)**(1-comb),axis=0)\n",
    "entropy(p_cat.reshape(1,-1))"
   ]
  },
  {
   "cell_type": "code",
   "execution_count": 285,
   "id": "07a7ab36",
   "metadata": {},
   "outputs": [
    {
     "data": {
      "text/plain": [
       "5.537373276539462"
      ]
     },
     "execution_count": 285,
     "metadata": {},
     "output_type": "execute_result"
    }
   ],
   "source": [
    "-(p*np.log(p) + (1-p)*np.log(1-p)).sum()"
   ]
  },
  {
   "cell_type": "markdown",
   "id": "c6f3db2b",
   "metadata": {},
   "source": [
    "Conclusion: H(all combinations) = $\\sum_i H(p_i)$"
   ]
  },
  {
   "cell_type": "code",
   "execution_count": 332,
   "id": "3691ac4f",
   "metadata": {},
   "outputs": [
    {
     "data": {
      "text/plain": [
       "array([39, 27, 13, 17, 45, 12, 14, 34, 44, 20,  3, 24,  8, 18, 43, 43, 29,\n",
       "       46, 45, 20, 18, 17,  8, 20,  3, 43,  3, 40, 18, 44, 34,  2])"
      ]
     },
     "execution_count": 332,
     "metadata": {},
     "output_type": "execute_result"
    }
   ],
   "source": [
    "count_cat = np.random.randint(50,size=2**5)\n",
    "count_cat"
   ]
  },
  {
   "cell_type": "code",
   "execution_count": 333,
   "id": "378747e5",
   "metadata": {},
   "outputs": [
    {
     "data": {
      "text/plain": [
       "794"
      ]
     },
     "execution_count": 333,
     "metadata": {},
     "output_type": "execute_result"
    }
   ],
   "source": [
    "count_cat.sum() # total count"
   ]
  },
  {
   "cell_type": "code",
   "execution_count": 334,
   "id": "4a78860f",
   "metadata": {},
   "outputs": [
    {
     "data": {
      "text/plain": [
       "masked_array(data=[3.267929992522557],\n",
       "             mask=[False],\n",
       "       fill_value=1e+20)"
      ]
     },
     "execution_count": 334,
     "metadata": {},
     "output_type": "execute_result"
    }
   ],
   "source": [
    "p_cat = count_cat/count_cat.sum()\n",
    "entropy(p_cat.reshape(1,-1))"
   ]
  },
  {
   "cell_type": "code",
   "execution_count": 335,
   "id": "0a8d9aef",
   "metadata": {},
   "outputs": [
    {
     "data": {
      "text/plain": [
       "array([[390],\n",
       "       [390],\n",
       "       [378],\n",
       "       [363],\n",
       "       [427]])"
      ]
     },
     "execution_count": 335,
     "metadata": {},
     "output_type": "execute_result"
    }
   ],
   "source": [
    "comb = binarilize(np.arange(2**5),5)\n",
    "count_1 = (count_cat*comb).sum(axis=1,keepdims=True) # number of 1\n",
    "count_1"
   ]
  },
  {
   "cell_type": "code",
   "execution_count": 336,
   "id": "6a46976f",
   "metadata": {},
   "outputs": [],
   "source": [
    "p = count_1/count_cat.sum()\n",
    "# p_cat = np.prod(p**comb * (1-p)**(1-comb),axis=0)\n",
    "# entropy(p_cat.reshape(1,-1))"
   ]
  },
  {
   "cell_type": "code",
   "execution_count": 337,
   "id": "715c936d",
   "metadata": {},
   "outputs": [
    {
     "data": {
      "text/plain": [
       "3.4577496240197028"
      ]
     },
     "execution_count": 337,
     "metadata": {},
     "output_type": "execute_result"
    }
   ],
   "source": [
    "-(p*np.log(p) + (1-p)*np.log(1-p)).sum()"
   ]
  },
  {
   "cell_type": "code",
   "execution_count": null,
   "id": "ba15d83f",
   "metadata": {},
   "outputs": [],
   "source": []
  },
  {
   "cell_type": "code",
   "execution_count": null,
   "id": "afff88fc",
   "metadata": {},
   "outputs": [],
   "source": []
  }
 ],
 "metadata": {
  "kernelspec": {
   "display_name": "Python 3 (ipykernel)",
   "language": "python",
   "name": "python3"
  },
  "language_info": {
   "codemirror_mode": {
    "name": "ipython",
    "version": 3
   },
   "file_extension": ".py",
   "mimetype": "text/x-python",
   "name": "python",
   "nbconvert_exporter": "python",
   "pygments_lexer": "ipython3",
   "version": "3.11.5"
  }
 },
 "nbformat": 4,
 "nbformat_minor": 5
}
