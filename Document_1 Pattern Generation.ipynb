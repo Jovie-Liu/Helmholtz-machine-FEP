{
 "cells": [
  {
   "cell_type": "markdown",
   "metadata": {},
   "source": [
    "***\n",
    "*Project:* Helmholtz Machine on Niche Construction\n",
    "\n",
    "*Author:* Jingwei Liu, Computer Music Ph.D., UC San Diego\n",
    "\n",
    "*Supervisor:* Shlomo Dubnov, Professor in Music and CSE department, UC San Diego\n",
    "***\n",
    "\n",
    "# <span style=\"background-color:darkorange; color:white; padding:2px 6px\">Document 1</span> \n",
    "\n",
    "# Ground Truth Generation by Well-formedness and Preference Rules\n",
    "\n",
    "*Updated:* March 27, 2023\n"
   ]
  },
  {
   "cell_type": "code",
   "execution_count": 2,
   "metadata": {},
   "outputs": [],
   "source": [
    "import numpy as np\n",
    "from music21 import *"
   ]
  },
  {
   "cell_type": "markdown",
   "metadata": {},
   "source": [
    "The idea of rule-based music generation can be traced back to [counterpoint](https://en.wikipedia.org/wiki/Counterpoint). The construction of two sets of rules, well-formedness rules and preference rules, lies in the core of composing species counterpoint, which lays the foundation for the western music composition.\n",
    "\n",
    "The well-formedness and preference rules also function in the musical gestalt, the perceptual grouping structure as illustrated in [A Generative Theory of Tonal Music](https://direct.mit.edu/books/book/4673/A-Generative-Theory-of-Tonal-Music), Chapter 3. The merit of having two sets of rules is that, the well-formedness rules establish the formal structure of grouping patterns and the preference rules give a refinement over it that fits the listener's actual intuitions better. The well-formedness rules work as a sturdy boundary that defines what is legal and what's not. In analogy to the premise of Free Energy Principle (FEP), adaptive agents or phenotypes must occupy a limited repertoire of states ([Reinforcement Learning or Active Inference? (Friston 2009)](https://www.fil.ion.ucl.ac.uk/spm/doc/papers/Reinforcement_Learning_or_Active_Inference.pdf)). Friston argued that, for a phenotype to exist it must possess defining characteristics or traits. These traits essentially limit the agent to a bounded region in the space of all states it could be in. Once outside these bounds, it ceases to possess that trait (cf, a fish out of water). This bounded region corresponds to the well-formed region in Figure 1 which is constrained by the well-formedness rules. In biological sense, once this bound is transgressed, the phenotype's survival status is challenged, like extreme climates, low oxygen proportions, shortage of water, etc. In musical analogy, this bound defines what is considered as music. This definition is generally open-ended but in our imagination, there should be some defining traits that distinguish music from other acoustic events such as oral languages or pure noise.\n",
    "\n",
    "The preferred region occupies a subspace inside the well-formed region. Within all the states the phenotype could possible be in (could survive), the adaptive agents are inclined to form niches to ensure its survival status based on a better information exchange with its environment (equilibrium state). The preferred region of a phenotype denotes the ecological/cultural niche that it's immersed within. We all were born in a local world and communities that are formed by relevant social cultural groups. It's widely acknowledged that there is a thing as *culture* because there are culture differences. One thing to note is that, although we were born in our own cultural niche which may be isolated from some other culture in this world, moving from one niche to another normally won't jeopardize the phenotype's life. It could take certain amount of time for the phenotype to adapt to the new environment but in general, this migration won't give rise to any direct cause that endangers the phenotype's survival status.\n",
    "\n",
    "The preferred region, or the niche, is not static. It's under active construction and evolution all the time. According to the Niche Construction Theory (NCT), Reciprocal causal dynamics that pertain to niche construction are expressed at two temporal scales: the timescale of ontogeny and the timescale of phylogeny. Developmental niche construction (DNC) allows for the optimization of phenotypes over ontogenetic timescales, via feedback interactions between organisms and resources of the niche. Selective niche construction (SNC) acts in tandem with natural selection to optimize phenotypes over intergenerational timescales by modifying selection pressures ([A variational approach to niche construction](https://royalsocietypublishing.org/doi/epdf/10.1098/rsif.2017.0685)). In our study, we foucs on the ontogenetic level of developmental niche construction. To show that the niche is dynamic thus the preferred region is malleable by the agent, we give a classical example of DNC called *desire path*: rushing on their way to work, people might cut the corner of the path through the park. While initially this might almost leave no trace, over time a path emerges, in turn attracting more agents to take the shortcut and underwrite the path's existence. This new path is added on to the preferred region thus updated the preferred rules of set.\n",
    "\n",
    "One musical example for this cultural evolution and developmental niche construction is called *troping*: In Gregorian chant and early polyphony, troping means the interpolation of new notes within an existing melody. Over several years or decades, the decorative notes get longer and more established and spawn a new chant; the older notes drop out, and the process starts all over again based on the new chant. New chants give birth to baby chants in an endless cycle. Troping is not confined to the West; similar techniques are found in India and China, owing to parallel invention rather than cultural diffusion. Even the whales use troping in their musical theme transitions, as stated in [The Musical Human (Spitzer 2021, pp.302)](https://www.google.com/books/edition/The_Musical_Human/WCkfEAAAQBAJ?hl=en&gbpv=0)."
   ]
  },
  {
   "cell_type": "markdown",
   "metadata": {},
   "source": [
    "<img src=\"Venn.jpg\" style=\"width:550px;height:500px;\">\n",
    "<caption><center> **Figure 1**: Venn Diagram for Rule Sets  </center></caption>"
   ]
  },
  {
   "cell_type": "markdown",
   "metadata": {},
   "source": [
    "A better formulation of the abstraction in Figure 1 under musical context is as follows. We say that, **music is a social and cultural construct that strongly reflects the historical context in which it is created**, thus the formation of music style is niche-based. The acoustic event that is recognized as music is also not universal. People from different cultural backgrounds may have distinct taste and judgement on what can be categorized as music. Therefore, a music style is constrained in our preferred region. \n",
    "\n",
    "**Musicking is the set of observed cultural behaviors that surround and encompass music making.** This corresponds to the active participation in cultural practices and niche construction by agents immersed in this culture. From the niche construction theory we know that its process is dynamic and evolutionary. Therefore, the preferred region is malleable and subject to change. A natural historical line of black music from Jazz to Hip-Hop denotes this shift of preferrence in different eras. \n",
    "\n",
    "But what defines our well-formed region? Is there a boundary that we cannot transgress in music making? It seems difficult to delineate such a boundary especially after the emergence of avant-garde, free jazz and noise music, the well-formed boundary keeps being pushed back and becomes more and more obscure. However, we still believe there is some form, or first principle that contends what is music, and we know that in this broad acoustic space, \"musical events\" only occupies a compact subspace. \n",
    "\n",
    "Although its boundary is difficult to define, one potential criteria comes from the following description of musicality: **musicality is the set of mental processes that underlie musical behavior and perception; these are much more stable across place and time.** The universal gestalt of cognition and perception may serve as a basis for what is considered music in general for human beings but such a theory is not validated yet (due to the author's limited knowledge).\n",
    "\n",
    "One thing to note is that, we use the majority's aesthetic in a cutural niche as baseline. It means that any acoustic events outside of the preferred region would be considered non-musical. This account has a solid foundation from reality. Virtually every new music style was dismissed as noise by the mainstream, and we also tend to describe the sounds of other people - especially those less like us - as noisy ([Black Noise, Rose 1994](https://www.cambridge.org/core/journals/popular-music/article/black-noise-rap-music-and-black-culture-in-contemporary-america-by-tricia-rose-hanover-london-wesleyan-university-press-1994-xvi-241-pp/6B0C15EF1914AC34C7ABDED2F53D3A10))."
   ]
  },
  {
   "cell_type": "markdown",
   "metadata": {},
   "source": [
    "### Ground Truth Generation\n",
    "\n",
    "In the following I will illustrate the design of our simulated ground truth data. By solving a toy problem with binary inputs, we explore our prototype's potential both experimentally and theoretically.\n",
    "\n",
    "Each input is designed as a sequence of length 10. The classic Helmholtz machine can only take patterns with fixed length. Before generalizing it to include the temporal feature, we will stick to this convention and provide data patterns with equal length. The input for each neuron is a binary value, $0$ or $1$, thus the total possiilities for input data is $2^{10} = 1024$. The cadinality for our entire space set is $1024$.\n",
    "\n",
    "Now let's introduce the well-formedness rules and preference rules. First, we want to design this experiment with musical essence so we need to find some analogy between the binary numbers and music. Here we define a natural mapping which maps $0$ to rest and $1$ to attack. Therefore, this ten-note sequence corresponds to a rhythmic pattern that can be played with pitched or unpitched instruments.\n",
    "\n",
    "If we have a rhythmic pattern purely denoted by $0$ and $1$, it's natural to think about grouping conceptually and perceptually. Such as $1100111001$, by the law of proximity ([Gestalt psychology](https://en.wikipedia.org/wiki/Gestalt_psychology)), we would naturally group the $1$'s into three subgroups delineated by $0$'s. The reason why we focus on $1$ instead of $0$ comes from the reification of the sequence perceptually, where $1$ is when the sound event happens that grabs our attention and $0$ is the silence or rest that serves for the structure of such a pattern. Based on the musical gestalt, we give following sets of rules.\n",
    "\n",
    "#### Rule 1: Boundary Conditions\n",
    "\n",
    "As a musical pattern that is assumed to be extracted from some existing corpus, we impose some boundary conditions on these short sequences. We always assume that the sequence is chopped off tightly, starting from where the sound kicks in, ideally (but not necessarily) ends when the sound is turned off. It means there could be some room where the sequence ends with rests, instead of being chopped off immediately.\n",
    "\n",
    "This principle could be formulated as the well-formedness rule (WFR) and preference rule (PR) as follows:\n",
    "\n",
    "**WFR 1**.  The sequence always starts with 1.\n",
    "\n",
    "**PR 1**.  The sequence starts with 1, and ends with 1.\n",
    "\n",
    "#### Rule 2: Pattern Formations\n",
    "\n",
    "Here we borrow the first local detail rule in [A Generative Theory of Tonal Music](https://direct.mit.edu/books/book/4673/A-Generative-Theory-of-Tonal-Music), Section 3.3. The statement is: **strongly avoid groups containing a single event.** The context is different but we intend to have some \"pattened structures\" within the sequence, and a single-pitch event (or a single attack) isolated from other sound events fails to function as an interesting constituent of a larger rhythmic pattern. This statement is not validated and may incur objections. We suggest the reader just take it as an imposed constraint over the data that helps establishing a compact subspace of the entire space, instead of treating it as serious as a theoretical contention.\n",
    "\n",
    "This principle could be formulated into WFR and PR based on the degree of isolation of the single sound event:\n",
    "\n",
    "**WFR 2**. Forbid single event that's strongly isolated from other groups (00100), and also avoid isolated event at the beginning (100) and the end (001) of the sequence.\n",
    "\n",
    "**PR 2**.  Forbid single event that's isolated from other groups (010), and also avoid isolated event at the beginning (10) and the end (01) of the sequence.\n",
    "\n",
    "#### Rule 3: Stopping Criteria\n",
    "\n",
    "To extract a pattern from existing corpus, we need to know where to cut the sequence into shorter frames that fit our input restrictions. Intuitively we would take an extended silence as a break point, which indicates the separation of two sounding parts. Therefore, in our short sequence, we will forbid the extended silence pattern since if such a pattern occurs, the two sound events before and after it are supposed to be separated into two short sequneces as the ground truth inputs.\n",
    "\n",
    "**WFR 3**. Forbid the extended break (0000).\n",
    "\n",
    "**PR 3**.  Forbid the long silence (000).\n",
    "\n",
    "*Remark*: Although the datasets are generated by the well-formedness rules and preference rules, all these rules are implicit for the agents. In other words, the interactive agents only have access to the ground truth data without the knowlegde of the rules governing them. This corresponds to the *implicit cultural learning* where the rules and facts about the world are not explicitly taught, but the agent learns the patterned cultural practices through immersive participation and is able to form \"a large and stable set of implicit beliefs that govern action without needing to be stated explicitly, described, or explained\" ([Thinking through other minds (Veissière 2019)](https://www.cambridge.org/core/journals/behavioral-and-brain-sciences/article/thinking-through-other-minds-a-variational-approach-to-cognition-and-culture/9A10399BA85F428D5943DD847092C14A)). "
   ]
  },
  {
   "cell_type": "markdown",
   "metadata": {},
   "source": [
    "### Preferred sequence generation\n",
    "\n",
    "1. Start with 1, end with 1\n",
    "2. Forbid 010 (no 10, 01 on the boundary)\n",
    "3. Forbid 000"
   ]
  },
  {
   "cell_type": "code",
   "execution_count": 3,
   "metadata": {},
   "outputs": [
    {
     "data": {
      "text/plain": [
       "array([[1., 1., 0., 0., 0., 0., 0., 0., 1., 1.]])"
      ]
     },
     "execution_count": 3,
     "metadata": {},
     "output_type": "execute_result"
    }
   ],
   "source": [
    "n = 10\n",
    "preferred_set = np.zeros([1,10])\n",
    "preferred_set[0,:2] = 1\n",
    "preferred_set[0,-2:] = 1\n",
    "preferred_set"
   ]
  },
  {
   "cell_type": "code",
   "execution_count": 4,
   "metadata": {},
   "outputs": [
    {
     "data": {
      "text/plain": [
       "array([[1., 1., 1., 1., 1., 1., 1., 1., 1., 1.],\n",
       "       [1., 1., 0., 1., 1., 1., 1., 1., 1., 1.],\n",
       "       [1., 1., 1., 0., 1., 1., 1., 1., 1., 1.],\n",
       "       [1., 1., 0., 0., 1., 1., 1., 1., 1., 1.],\n",
       "       [1., 1., 1., 1., 0., 1., 1., 1., 1., 1.],\n",
       "       [1., 1., 1., 0., 0., 1., 1., 1., 1., 1.],\n",
       "       [1., 1., 1., 1., 1., 0., 1., 1., 1., 1.],\n",
       "       [1., 1., 0., 1., 1., 0., 1., 1., 1., 1.],\n",
       "       [1., 1., 1., 1., 0., 0., 1., 1., 1., 1.],\n",
       "       [1., 1., 1., 1., 1., 1., 0., 1., 1., 1.],\n",
       "       [1., 1., 0., 1., 1., 1., 0., 1., 1., 1.],\n",
       "       [1., 1., 1., 0., 1., 1., 0., 1., 1., 1.],\n",
       "       [1., 1., 0., 0., 1., 1., 0., 1., 1., 1.],\n",
       "       [1., 1., 1., 1., 1., 0., 0., 1., 1., 1.],\n",
       "       [1., 1., 0., 1., 1., 0., 0., 1., 1., 1.],\n",
       "       [1., 1., 1., 1., 1., 1., 1., 0., 1., 1.],\n",
       "       [1., 1., 0., 1., 1., 1., 1., 0., 1., 1.],\n",
       "       [1., 1., 1., 0., 1., 1., 1., 0., 1., 1.],\n",
       "       [1., 1., 0., 0., 1., 1., 1., 0., 1., 1.],\n",
       "       [1., 1., 1., 1., 0., 1., 1., 0., 1., 1.],\n",
       "       [1., 1., 1., 0., 0., 1., 1., 0., 1., 1.],\n",
       "       [1., 1., 1., 1., 1., 1., 0., 0., 1., 1.],\n",
       "       [1., 1., 0., 1., 1., 1., 0., 0., 1., 1.],\n",
       "       [1., 1., 1., 0., 1., 1., 0., 0., 1., 1.],\n",
       "       [1., 1., 0., 0., 1., 1., 0., 0., 1., 1.]])"
      ]
     },
     "execution_count": 4,
     "metadata": {},
     "output_type": "execute_result"
    }
   ],
   "source": [
    "for i in range(2, n-2):\n",
    "    for j in range(np.shape(preferred_set)[0]):\n",
    "        \n",
    "        prefix = preferred_set[j,i-2:i]\n",
    "        if np.array_equal(prefix, [0,0]) or np.array_equal(prefix, [0,1]):\n",
    "            preferred_set[j,i] = 1\n",
    "        else:\n",
    "            preferred_set = np.append(preferred_set, preferred_set[j:j+1,:], axis=0)\n",
    "            preferred_set[j,i] = 1\n",
    "preferred_set   "
   ]
  },
  {
   "cell_type": "code",
   "execution_count": 5,
   "metadata": {},
   "outputs": [
    {
     "data": {
      "text/plain": [
       "(25, 10)"
      ]
     },
     "execution_count": 5,
     "metadata": {},
     "output_type": "execute_result"
    }
   ],
   "source": [
    "np.shape(preferred_set)"
   ]
  },
  {
   "cell_type": "code",
   "execution_count": 6,
   "metadata": {},
   "outputs": [
    {
     "data": {
      "text/plain": [
       "array([1., 1., 0., 0., 1., 1., 0., 0., 1., 1.])"
      ]
     },
     "execution_count": 6,
     "metadata": {},
     "output_type": "execute_result"
    }
   ],
   "source": [
    "play = preferred_set[-1,:]\n",
    "play"
   ]
  },
  {
   "cell_type": "code",
   "execution_count": 8,
   "metadata": {},
   "outputs": [],
   "source": [
    "# false example\n",
    "play = np.array([1., 1., 0., 0., 1., 0, 1, 0., 1., 1.])"
   ]
  },
  {
   "cell_type": "code",
   "execution_count": 9,
   "metadata": {},
   "outputs": [],
   "source": [
    "play = np.array([1., 1., 0., 0., 0, 1., 0., 1, 1., 1.])"
   ]
  },
  {
   "cell_type": "code",
   "execution_count": 7,
   "metadata": {},
   "outputs": [],
   "source": [
    "llist = stream.Stream()\n",
    "for i in range(n-1):\n",
    "    if play[i] == 0:\n",
    "        nt = note.Rest()\n",
    "        llist.append(nt)\n",
    "    else:\n",
    "        nt = note.Note()\n",
    "        nt.pitch.midi = 60\n",
    "        nt.duration.quarterLength = 1/8\n",
    "        llist.append(nt)\n",
    "        rest = note.Rest()\n",
    "        rest.duration.quarterLength = 3/8\n",
    "        llist.append(rest)\n",
    "\n",
    "if play[-1] == 0:\n",
    "    nt = note.Rest()\n",
    "    llist.append(nt)\n",
    "else:\n",
    "    nt = note.Note()\n",
    "    nt.pitch.midi = 60\n",
    "    nt.duration.quarterLength = 1\n",
    "    llist.append(nt)"
   ]
  },
  {
   "cell_type": "code",
   "execution_count": 8,
   "metadata": {},
   "outputs": [
    {
     "data": {
      "image/png": "[encoded data removed]",
      "text/plain": [
       "<IPython.core.display.Image object>"
      ]
     },
     "metadata": {
      "image/png": {
       "height": 49,
       "width": 674
      }
     },
     "output_type": "display_data"
    }
   ],
   "source": [
    "llist.show()"
   ]
  },
  {
   "cell_type": "code",
   "execution_count": 9,
   "metadata": {},
   "outputs": [
    {
     "data": {
      "text/html": [
       "\n",
       "                <div id='midiPlayerDiv581'></div>\n",
       "                <link rel=\"stylesheet\" href=\"//cuthbertLab.github.io/music21j/css/m21.css\"\n",
       "                    type=\"text/css\" />\n",
       "                <script>\n",
       "                require.config({\n",
       "                    paths: {'music21': '//cuthbertLab.github.io/music21j/src/music21'}\n",
       "                });\n",
       "                require(['music21'], function() {\n",
       "                               mp = new music21.miditools.MidiPlayer();\n",
       "                               mp.addPlayer('#midiPlayerDiv581');\n",
       "                               mp.base64Load('data:audio/midi;base64,TVRoZAAAAAYAAQABBABNVHJrAAAASQD/AwAA4ABAiACQPFqBAIA8AIMAkDxagQCAPACTAJA8WoEAgDwAgwCQPFqBAIA8AJMAkDxagQCAPACDAJA8WogAgDwAiAD/LwA=');\n",
       "                        });\n",
       "                </script>"
      ],
      "text/plain": [
       "<IPython.core.display.HTML object>"
      ]
     },
     "metadata": {},
     "output_type": "display_data"
    }
   ],
   "source": [
    "llist.show('midi')"
   ]
  },
  {
   "cell_type": "markdown",
   "metadata": {},
   "source": [
    "### Well-formed sequence generation\n",
    "\n",
    "1. Start with 1\n",
    "2. Forbid 00100 (no 100, 001 on the boundary)\n",
    "3. Forbid 0000"
   ]
  },
  {
   "cell_type": "code",
   "execution_count": 10,
   "metadata": {},
   "outputs": [
    {
     "data": {
      "text/plain": [
       "array([[1., 0., 0., 0., 0., 0., 0., 0., 0., 0.]])"
      ]
     },
     "execution_count": 10,
     "metadata": {},
     "output_type": "execute_result"
    }
   ],
   "source": [
    "n = 10\n",
    "well_formed_set = np.zeros([1,10])\n",
    "well_formed_set[0,0] = 1\n",
    "well_formed_set"
   ]
  },
  {
   "cell_type": "code",
   "execution_count": 11,
   "metadata": {},
   "outputs": [
    {
     "data": {
      "text/plain": [
       "array([[1., 1., 1., ..., 1., 1., 1.],\n",
       "       [1., 0., 1., ..., 1., 1., 1.],\n",
       "       [1., 1., 0., ..., 1., 1., 1.],\n",
       "       ...,\n",
       "       [1., 1., 1., ..., 0., 0., 0.],\n",
       "       [1., 0., 1., ..., 0., 0., 0.],\n",
       "       [1., 1., 0., ..., 0., 0., 0.]])"
      ]
     },
     "execution_count": 11,
     "metadata": {},
     "output_type": "execute_result"
    }
   ],
   "source": [
    "for i in range(1,n):\n",
    "    for j in range(np.shape(well_formed_set)[0]):\n",
    "        if i == 2 and np.array_equal(well_formed_set[j,i-2:i], [1,0]):\n",
    "            well_formed_set[j,i] = 1\n",
    "        elif i > 3 and np.array_equal(well_formed_set[j,i-3:i], [0,0,0]):\n",
    "            well_formed_set[j,i] = 1\n",
    "        elif i > 3 and np.array_equal(well_formed_set[j,i-4:i], [0,0,1,0]):\n",
    "            well_formed_set[j,i] = 1\n",
    "        else:\n",
    "            well_formed_set = np.append(well_formed_set, well_formed_set[j:j+1,:], axis=0)\n",
    "            well_formed_set[j,i] = 1\n",
    "            \n",
    "well_formed_set"
   ]
  },
  {
   "cell_type": "code",
   "execution_count": 12,
   "metadata": {},
   "outputs": [
    {
     "data": {
      "text/plain": [
       "(256, 10)"
      ]
     },
     "execution_count": 12,
     "metadata": {},
     "output_type": "execute_result"
    }
   ],
   "source": [
    "ind = np.array([], dtype=np.int8)\n",
    "for i in range(well_formed_set.shape[0]):\n",
    "    if np.array_equal(well_formed_set[i,-3:], [0,0,1]):\n",
    "        ind = np.append(ind,i)\n",
    "\n",
    "well_formed_set = np.delete(well_formed_set,ind,0)\n",
    "well_formed_set.shape"
   ]
  },
  {
   "cell_type": "code",
   "execution_count": 13,
   "metadata": {},
   "outputs": [
    {
     "data": {
      "text/plain": [
       "array([1., 1., 1., 0., 0., 1., 1., 0., 1., 1.])"
      ]
     },
     "execution_count": 13,
     "metadata": {},
     "output_type": "execute_result"
    }
   ],
   "source": [
    "num = 52\n",
    "play = well_formed_set[num,:]\n",
    "play"
   ]
  },
  {
   "cell_type": "code",
   "execution_count": 22,
   "metadata": {},
   "outputs": [],
   "source": [
    "# false example\n",
    "play = np.array([1., 1., 0., 0., 0, 0, 1, 0., 1., 1.])"
   ]
  },
  {
   "cell_type": "code",
   "execution_count": 23,
   "metadata": {},
   "outputs": [],
   "source": [
    "play = np.array([1., 1.,1, 0., 0, 1., 0., 0., 1., 1.])"
   ]
  },
  {
   "cell_type": "code",
   "execution_count": 24,
   "metadata": {},
   "outputs": [],
   "source": [
    "play = np.array([0, 1., 0., 0., 0, 1., 1, 0., 0,1])"
   ]
  },
  {
   "cell_type": "code",
   "execution_count": 14,
   "metadata": {},
   "outputs": [],
   "source": [
    "llist = stream.Stream()\n",
    "for i in range(n-1):\n",
    "    if play[i] == 0:\n",
    "        nt = note.Rest()\n",
    "        llist.append(nt)\n",
    "    else:\n",
    "        nt = note.Note()\n",
    "        nt.pitch.midi = 60\n",
    "        nt.duration.quarterLength = 1/8\n",
    "        llist.append(nt)\n",
    "        rest = note.Rest()\n",
    "        rest.duration.quarterLength = 3/8\n",
    "        llist.append(rest)\n",
    "\n",
    "if play[-1] == 0:\n",
    "    nt = note.Rest()\n",
    "    llist.append(nt)\n",
    "else:\n",
    "    nt = note.Note()\n",
    "    nt.pitch.midi = 60\n",
    "    nt.duration.quarterLength = 1\n",
    "    llist.append(nt)"
   ]
  },
  {
   "cell_type": "code",
   "execution_count": 15,
   "metadata": {},
   "outputs": [
    {
     "data": {
      "image/png": "[encoded data removed]",
      "text/plain": [
       "<IPython.core.display.Image object>"
      ]
     },
     "metadata": {
      "image/png": {
       "height": 49,
       "width": 674
      }
     },
     "output_type": "display_data"
    }
   ],
   "source": [
    "llist.show()"
   ]
  },
  {
   "cell_type": "code",
   "execution_count": 16,
   "metadata": {},
   "outputs": [
    {
     "data": {
      "text/html": [
       "\n",
       "                <div id='midiPlayerDiv1199'></div>\n",
       "                <link rel=\"stylesheet\" href=\"//cuthbertLab.github.io/music21j/css/m21.css\"\n",
       "                    type=\"text/css\" />\n",
       "                <script>\n",
       "                require.config({\n",
       "                    paths: {'music21': '//cuthbertLab.github.io/music21j/src/music21'}\n",
       "                });\n",
       "                require(['music21'], function() {\n",
       "                               mp = new music21.miditools.MidiPlayer();\n",
       "                               mp.addPlayer('#midiPlayerDiv1199');\n",
       "                               mp.base64Load('data:audio/midi;base64,TVRoZAAAAAYAAQABBABNVHJrAAAAUwD/AwAA4ABAiACQPFqBAIA8AIMAkDxagQCAPACDAJA8WoEAgDwAkwCQPFqBAIA8AIMAkDxagQCAPACLAJA8WoEAgDwAgwCQPFqIAIA8AIgA/y8A');\n",
       "                        });\n",
       "                </script>"
      ],
      "text/plain": [
       "<IPython.core.display.HTML object>"
      ]
     },
     "metadata": {},
     "output_type": "display_data"
    }
   ],
   "source": [
    "llist.show('midi')"
   ]
  },
  {
   "cell_type": "markdown",
   "metadata": {},
   "source": [
    "The cadinality of these sets based on our data simulation is summarized below:\n",
    "\n",
    "<img src=\"Venn_1.jpg\" style=\"width:550px;height:500px;\">\n",
    "<caption><center> **Figure 2**: Venn Diagram for Ground Truth Data  </center></caption>"
   ]
  },
  {
   "cell_type": "code",
   "execution_count": null,
   "metadata": {},
   "outputs": [],
   "source": []
  }
 ],
 "metadata": {
  "kernelspec": {
   "display_name": "Python 3",
   "language": "python",
   "name": "python3"
  },
  "language_info": {
   "codemirror_mode": {
    "name": "ipython",
    "version": 3
   },
   "file_extension": ".py",
   "mimetype": "text/x-python",
   "name": "python",
   "nbconvert_exporter": "python",
   "pygments_lexer": "ipython3",
   "version": "3.7.6"
  }
 },
 "nbformat": 4,
 "nbformat_minor": 4
}
