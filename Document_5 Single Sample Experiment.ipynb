{
 "cells": [
  {
   "cell_type": "markdown",
   "metadata": {},
   "source": [
    "***\n",
    "*Project:* Helmholtz Machine on Niche Construction\n",
    "\n",
    "*Author:* Jingwei Liu, Computer Music Ph.D., UC San Diego\n",
    "\n",
    "*Supervisor:* Shlomo Dubnov, Professor in Music and CSE department, UC San Diego\n",
    "***\n",
    "\n",
    "# <span style=\"background-color:darkorange; color:white; padding:2px 6px\">Document 5</span> \n",
    "\n",
    "# Single Sample Experiment\n",
    "\n",
    "*Updated:* May 24, 2023\n"
   ]
  },
  {
   "cell_type": "code",
   "execution_count": 2,
   "metadata": {},
   "outputs": [],
   "source": [
    "import numpy as np"
   ]
  },
  {
   "cell_type": "markdown",
   "metadata": {},
   "source": [
    "### 1. Ground Truth"
   ]
  },
  {
   "cell_type": "code",
   "execution_count": 5,
   "metadata": {},
   "outputs": [
    {
     "data": {
      "text/plain": [
       "array([[ 1.,  1.,  1.,  1.,  1.,  1.,  1.,  1.,  1.,  1.],\n",
       "       [ 1.,  1., -1.,  1.,  1.,  1.,  1.,  1.,  1.,  1.],\n",
       "       [ 1.,  1.,  1., -1.,  1.,  1.,  1.,  1.,  1.,  1.],\n",
       "       [ 1.,  1., -1., -1.,  1.,  1.,  1.,  1.,  1.,  1.],\n",
       "       [ 1.,  1.,  1.,  1., -1.,  1.,  1.,  1.,  1.,  1.],\n",
       "       [ 1.,  1.,  1., -1., -1.,  1.,  1.,  1.,  1.,  1.],\n",
       "       [ 1.,  1.,  1.,  1.,  1., -1.,  1.,  1.,  1.,  1.],\n",
       "       [ 1.,  1., -1.,  1.,  1., -1.,  1.,  1.,  1.,  1.],\n",
       "       [ 1.,  1.,  1.,  1., -1., -1.,  1.,  1.,  1.,  1.],\n",
       "       [ 1.,  1.,  1.,  1.,  1.,  1., -1.,  1.,  1.,  1.],\n",
       "       [ 1.,  1., -1.,  1.,  1.,  1., -1.,  1.,  1.,  1.],\n",
       "       [ 1.,  1.,  1., -1.,  1.,  1., -1.,  1.,  1.,  1.],\n",
       "       [ 1.,  1., -1., -1.,  1.,  1., -1.,  1.,  1.,  1.],\n",
       "       [ 1.,  1.,  1.,  1.,  1., -1., -1.,  1.,  1.,  1.],\n",
       "       [ 1.,  1., -1.,  1.,  1., -1., -1.,  1.,  1.,  1.],\n",
       "       [ 1.,  1.,  1.,  1.,  1.,  1.,  1., -1.,  1.,  1.],\n",
       "       [ 1.,  1., -1.,  1.,  1.,  1.,  1., -1.,  1.,  1.],\n",
       "       [ 1.,  1.,  1., -1.,  1.,  1.,  1., -1.,  1.,  1.],\n",
       "       [ 1.,  1., -1., -1.,  1.,  1.,  1., -1.,  1.,  1.],\n",
       "       [ 1.,  1.,  1.,  1., -1.,  1.,  1., -1.,  1.,  1.],\n",
       "       [ 1.,  1.,  1., -1., -1.,  1.,  1., -1.,  1.,  1.],\n",
       "       [ 1.,  1.,  1.,  1.,  1.,  1., -1., -1.,  1.,  1.],\n",
       "       [ 1.,  1., -1.,  1.,  1.,  1., -1., -1.,  1.,  1.],\n",
       "       [ 1.,  1.,  1., -1.,  1.,  1., -1., -1.,  1.,  1.],\n",
       "       [ 1.,  1., -1., -1.,  1.,  1., -1., -1.,  1.,  1.]])"
      ]
     },
     "execution_count": 5,
     "metadata": {},
     "output_type": "execute_result"
    }
   ],
   "source": [
    "n = 10\n",
    "preferred_set = np.zeros([1,10])\n",
    "preferred_set[0,:2] = 1\n",
    "preferred_set[0,-2:] = 1\n",
    "\n",
    "for i in range(2, n-2):\n",
    "    for j in range(np.shape(preferred_set)[0]):\n",
    "        \n",
    "        prefix = preferred_set[j,i-2:i]\n",
    "        if np.array_equal(prefix, [0,0]) or np.array_equal(prefix, [0,1]):\n",
    "            preferred_set[j,i] = 1\n",
    "        else:\n",
    "            preferred_set = np.append(preferred_set, preferred_set[j:j+1,:], axis=0)\n",
    "            preferred_set[j,i] = 1\n",
    "preferred_set = (preferred_set - 0.5)*2\n",
    "preferred_set"
   ]
  },
  {
   "cell_type": "code",
   "execution_count": 6,
   "metadata": {},
   "outputs": [
    {
     "data": {
      "text/plain": [
       "(25, 10)"
      ]
     },
     "execution_count": 6,
     "metadata": {},
     "output_type": "execute_result"
    }
   ],
   "source": [
    "np.shape(preferred_set)"
   ]
  },
  {
   "cell_type": "code",
   "execution_count": 91,
   "metadata": {},
   "outputs": [
    {
     "data": {
      "text/plain": [
       "array([[ 1.,  1.,  1., ...,  1.,  1.,  1.],\n",
       "       [ 1., -1.,  1., ...,  1.,  1.,  1.],\n",
       "       [ 1.,  1., -1., ...,  1.,  1.,  1.],\n",
       "       ...,\n",
       "       [ 1.,  1.,  1., ..., -1., -1., -1.],\n",
       "       [ 1., -1.,  1., ..., -1., -1., -1.],\n",
       "       [ 1.,  1., -1., ..., -1., -1., -1.]])"
      ]
     },
     "execution_count": 91,
     "metadata": {},
     "output_type": "execute_result"
    }
   ],
   "source": [
    "n = 10\n",
    "well_formed_set = np.zeros([1,10])\n",
    "well_formed_set[0,0] = 1\n",
    "\n",
    "for i in range(1,n):\n",
    "    for j in range(np.shape(well_formed_set)[0]):\n",
    "        if i == 2 and np.array_equal(well_formed_set[j,i-2:i], [1,0]):\n",
    "            well_formed_set[j,i] = 1\n",
    "        elif i > 3 and np.array_equal(well_formed_set[j,i-3:i], [0,0,0]):\n",
    "            well_formed_set[j,i] = 1\n",
    "        elif i > 3 and np.array_equal(well_formed_set[j,i-4:i], [0,0,1,0]):\n",
    "            well_formed_set[j,i] = 1\n",
    "        else:\n",
    "            well_formed_set = np.append(well_formed_set, well_formed_set[j:j+1,:], axis=0)\n",
    "            well_formed_set[j,i] = 1\n",
    "            \n",
    "ind = np.array([], dtype=np.int8)\n",
    "for i in range(well_formed_set.shape[0]):\n",
    "    if np.array_equal(well_formed_set[i,-3:], [0,0,1]):\n",
    "        ind = np.append(ind,i)\n",
    "\n",
    "well_formed_set = np.delete(well_formed_set,ind,0)\n",
    "well_formed_set = (well_formed_set - 0.5)*2\n",
    "well_formed_set"
   ]
  },
  {
   "cell_type": "markdown",
   "metadata": {},
   "source": [
    "There are $2^{10} = 1024$ possible sequences in total, thus the Venn diagram for the ground truth is \n",
    "\n",
    "<img src=\"Venn_1.jpg\" style=\"width:550px;height:500px;\">\n",
    "<caption><center> **Figure 2**: Venn Diagram for Ground Truth Data  </center></caption>"
   ]
  },
  {
   "cell_type": "markdown",
   "metadata": {},
   "source": [
    "### 2. Experiments\n",
    "\n",
    "The Helmholtz machine is designed as follows\n",
    "\n",
    "<img src=\"niche.jpg\">\n",
    "<caption><center> **Figure 1**: Helmholtz Machine in Niche Construction  </center></caption>\n",
    "\n",
    "where\n",
    "\n",
    "- Input layer $d_i$ with 10 neurons $i = 1, \\dots, 10, 2^{10} = 1024$ possibilities\n",
    "- Hidden layer $x_l$ wiht 8 neurons $l = 1, \\dots, 8, 2^{8} = 256$ possibilities\n",
    "- Cause layer $y_j$ wiht 5 neurons $j = 1, \\dots, 5, 2^{5} = 32$ possibilities\n",
    "- Hyper layer $z_k$ wiht 3 neurons $k = 1, \\dots, 3, 2^{3} = 8$ possibilities\n",
    "- Generative bias is always $1$ (**Ursatz** in Schenkerian analysis)"
   ]
  },
  {
   "cell_type": "markdown",
   "metadata": {},
   "source": [
    "#### 2.2 Functions"
   ]
  },
  {
   "cell_type": "code",
   "execution_count": 9,
   "metadata": {},
   "outputs": [],
   "source": [
    "def sigmoid(x):\n",
    "    y = 1/(1+np.exp(-x))\n",
    "    return y"
   ]
  },
  {
   "cell_type": "code",
   "execution_count": 10,
   "metadata": {},
   "outputs": [],
   "source": [
    "def wake_forward(data,Phi_12,Phi_23,Phi_34,b_12,b_23,b_34,n_x,n_y,n_z):\n",
    "    q_2 = sigmoid(np.matmul(Phi_12,data) + b_12)\n",
    "    x = ((q_2 > np.random.rand(n_x,1)).astype(int) - 0.5)*2    # rejection sampling\n",
    "    # x = np.where(q_2 > 0.5,1,-1)  # deterministic\n",
    "    \n",
    "    q_3 = sigmoid(np.matmul(Phi_23,x) + b_23)\n",
    "    y = ((q_3 > np.random.rand(n_y,1)).astype(int) - 0.5)*2\n",
    "    \n",
    "    q_4 = sigmoid(np.matmul(Phi_34,y) + b_34)\n",
    "    z = ((q_4 > np.random.rand(n_z,1)).astype(int) - 0.5)*2\n",
    "    \n",
    "    Q_2 = (np.cumprod(q_2[np.where(x == 1)])[-1] if q_2[np.where(x == 1)].size != 0 else 1) * (np.cumprod(1-q_2[np.where(x == -1)])[-1] if q_2[np.where(x == -1)].size != 0 else 1)*(1.5**n_x)\n",
    "    Q_3 = (np.cumprod(q_3[np.where(y == 1)])[-1] if q_3[np.where(y == 1)].size != 0 else 1) * (np.cumprod(1-q_3[np.where(y == -1)])[-1] if q_3[np.where(y == -1)].size != 0 else 1)*(1.5**n_y)\n",
    "    Q_4 = (np.cumprod(q_4[np.where(z == 1)])[-1] if q_4[np.where(z == 1)].size != 0 else 1) * (np.cumprod(1-q_4[np.where(z == -1)])[-1] if q_4[np.where(z == -1)].size != 0 else 1)*(1.5**n_z)\n",
    "    Q = Q_2 * Q_3 * Q_4\n",
    "    \n",
    "    return q_2,q_3,q_4,x,y,z,Q"
   ]
  },
  {
   "cell_type": "code",
   "execution_count": 11,
   "metadata": {},
   "outputs": [],
   "source": [
    "def sleep_forward(Theta,Theta_43,Theta_32,Theta_21,b_43,b_32,b_21,n_z,n_y,n_x,n_d):\n",
    "    p_4 = sigmoid(Theta)\n",
    "    z = ((p_4 > np.random.rand(n_z,1)).astype(int) - 0.5)*2    # rejection sampling\n",
    "    \n",
    "    p_3 = sigmoid(np.matmul(Theta_43,z) + b_43)\n",
    "    y = ((p_3 > np.random.rand(n_y,1)).astype(int) - 0.5)*2\n",
    "    \n",
    "    p_2 = sigmoid(np.matmul(Theta_32,y) + b_32)\n",
    "    x = ((p_2 > np.random.rand(n_x,1)).astype(int) - 0.5)*2\n",
    "    \n",
    "    p_1 = sigmoid(np.matmul(Theta_21,x) + b_21)\n",
    "    d = ((p_1 > np.random.rand(n_d,1)).astype(int) - 0.5)*2  # sampling\n",
    "    # d = np.where(p_1 > 0.5,1,-1)  # deterministic\n",
    "    \n",
    "    P_4 = (np.cumprod(p_4[np.where(z == 1)])[-1] if p_4[np.where(z == 1)].size != 0 else 1)* (np.cumprod(1-p_4[np.where(z == -1)])[-1] if p_4[np.where(z == -1)].size != 0 else 1)*(1.5**n_z)\n",
    "    P_3 = (np.cumprod(p_3[np.where(y == 1)])[-1] if p_3[np.where(y == 1)].size != 0 else 1)* (np.cumprod(1-p_3[np.where(y == -1)])[-1] if p_3[np.where(y == -1)].size != 0 else 1)*(1.5**n_y)\n",
    "    P_2 = (np.cumprod(p_2[np.where(x == 1)])[-1] if p_2[np.where(x == 1)].size != 0 else 1)* (np.cumprod(1-p_2[np.where(x == -1)])[-1] if p_2[np.where(x == -1)].size != 0 else 1)*(1.5**n_x)\n",
    "    P_1 = (np.cumprod(p_1[np.where(d == 1)])[-1] if p_1[np.where(d == 1)].size != 0 else 1)* (np.cumprod(1-p_1[np.where(d == -1)])[-1] if p_1[np.where(d == -1)].size != 0 else 1)*(1.5**n_d)\n",
    "    \n",
    "    P = P_1 * P_2 * P_3 * P_4\n",
    "    \n",
    "    return p_4,p_3,p_2,p_1,z,y,x,d,P"
   ]
  },
  {
   "cell_type": "code",
   "execution_count": 12,
   "metadata": {},
   "outputs": [],
   "source": [
    "def wake_update_delta(z,y,x,d,Theta,Theta_43,Theta_32,Theta_21,b_43,b_32,b_21,lr):\n",
    "    p_4 = sigmoid(Theta)\n",
    "    Theta -= lr * (p_4 - (1+z)/2)\n",
    "    \n",
    "    p_3 = sigmoid(np.matmul(Theta_43,z) + b_43)\n",
    "    Theta_43 -= lr * np.outer((p_3 - (1+y)/2), z)\n",
    "    b_43 -= lr * (p_3 - (1+y)/2)\n",
    "    \n",
    "    p_2 = sigmoid(np.matmul(Theta_32,y) + b_32)\n",
    "    Theta_32 -= lr * np.outer((p_2 - (1+x)/2), y)\n",
    "    b_32 -= lr * (p_2 - (1+x)/2)\n",
    "    \n",
    "    p_1 = sigmoid(np.matmul(Theta_21,x) + b_21)\n",
    "    Theta_21 -= lr * np.outer((p_1 - (1+d)/2), x)\n",
    "    b_21 -= lr * (p_1 - (1+d)/2)\n",
    "    \n",
    "    return Theta,Theta_43,Theta_32,Theta_21,b_43,b_32,b_21"
   ]
  },
  {
   "cell_type": "code",
   "execution_count": 13,
   "metadata": {},
   "outputs": [],
   "source": [
    "def sleep_update_delta(z,y,x,d,Phi_12,Phi_23,Phi_34,b_12,b_23,b_34,lr):\n",
    "    \n",
    "    q_2 = sigmoid(np.matmul(Phi_12,d) + b_12)\n",
    "    Phi_12 -= lr * np.outer((q_2 - (1+x)/2), d)\n",
    "    b_12 -= lr * (q_2 - (1+x)/2)\n",
    "    \n",
    "    q_3 = sigmoid(np.matmul(Phi_23,x) + b_23)\n",
    "    Phi_23 -= lr * np.outer((q_3 - (1+y)/2), x)\n",
    "    b_23 -= lr * (q_3 - (1+y)/2)\n",
    "    \n",
    "    q_4 = sigmoid(np.matmul(Phi_34,y) + b_34)\n",
    "    Phi_34 -= lr * np.outer((q_4 - (1+z)/2), y)\n",
    "    b_34 -= lr * (q_4 - (1+z)/2)\n",
    "    \n",
    "    return Phi_12,Phi_23,Phi_34,b_12,b_23,b_34"
   ]
  },
  {
   "cell_type": "code",
   "execution_count": 14,
   "metadata": {},
   "outputs": [],
   "source": [
    "def wake_update_delta_weighted(z,y,x,d,Q,Theta,Theta_43,Theta_32,Theta_21,b_43,b_32,b_21,lr):\n",
    "    \n",
    "    p_4 = sigmoid(Theta)\n",
    "    Theta -= lr * Q * (p_4 - (1+z)/2)\n",
    "    \n",
    "    p_3 = sigmoid(np.matmul(Theta_43,z) + b_43)\n",
    "    Theta_43 -= lr * Q * np.outer((p_3 - (1+y)/2), z)\n",
    "    b_43 -= lr * Q * (p_3 - (1+y)/2)\n",
    "    \n",
    "    p_2 = sigmoid(np.matmul(Theta_32,y) + b_32)\n",
    "    Theta_32 -= lr * Q * np.outer((p_2 - (1+x)/2), y)\n",
    "    b_32 -= lr * Q * (p_2 - (1+x)/2)\n",
    "    \n",
    "    p_1 = sigmoid(np.matmul(Theta_21,x) + b_21)\n",
    "    Theta_21 -= lr * Q * np.outer((p_1 - (1+d)/2), x)\n",
    "    b_21 -= lr * Q * (p_1 - (1+d)/2)\n",
    "    \n",
    "    return Theta,Theta_43,Theta_32,Theta_21,b_43,b_32,b_21"
   ]
  },
  {
   "cell_type": "code",
   "execution_count": 15,
   "metadata": {},
   "outputs": [],
   "source": [
    "def sleep_update_delta_weighted(z,y,x,d,P,Phi_12,Phi_23,Phi_34,b_12,b_23,b_34,lr):\n",
    "    \n",
    "    q_2 = sigmoid(np.matmul(Phi_12,d) + b_12)\n",
    "    Phi_12 -= lr * P * np.outer((q_2 - (1+x)/2), d)\n",
    "    b_12 -= lr * P * (q_2 - (1+x)/2)\n",
    "    \n",
    "    q_3 = sigmoid(np.matmul(Phi_23,x) + b_23)\n",
    "    Phi_23 -= lr * P * np.outer((q_3 - (1+y)/2), x)\n",
    "    b_23 -= lr * P * (q_3 - (1+y)/2)\n",
    "    \n",
    "    q_4 = sigmoid(np.matmul(Phi_34,y) + b_34)\n",
    "    Phi_34 -= lr * P * np.outer((q_4 - (1+z)/2), y)\n",
    "    b_34 -= lr * P * (q_4 - (1+z)/2)\n",
    "    \n",
    "    return Phi_12,Phi_23,Phi_34,b_12,b_23,b_34"
   ]
  },
  {
   "cell_type": "code",
   "execution_count": 16,
   "metadata": {},
   "outputs": [],
   "source": [
    "def sleep_forward_batch(Theta,Theta_43,Theta_32,Theta_21,b_43,b_32,b_21,n_z,n_y,n_x,n_d,batch_size):\n",
    "    p_4 = sigmoid(Theta)\n",
    "    z = ((p_4 > np.random.rand(n_z,batch_size)).astype(int) - 0.5)*2    # rejection sampling\n",
    "    \n",
    "    p_3 = sigmoid(np.matmul(Theta_43,z) + b_43)\n",
    "    y = ((p_3 > np.random.rand(n_y,batch_size)).astype(int) - 0.5)*2\n",
    "    \n",
    "    p_2 = sigmoid(np.matmul(Theta_32,y) + b_32)\n",
    "    x = ((p_2 > np.random.rand(n_x,batch_size)).astype(int) - 0.5)*2\n",
    "    \n",
    "    p_1 = sigmoid(np.matmul(Theta_21,x) + b_21)\n",
    "    d = ((p_1 > np.random.rand(n_d,batch_size)).astype(int) - 0.5)*2\n",
    "    \n",
    "    P_4 = np.cumprod(np.where(z == 1,p_4,1),axis=0)[-1] * np.cumprod(np.where(z == -1,1-p_4,1),axis=0)[-1]*(1.5**n_z)\n",
    "    P_3 = np.cumprod(np.where(y == 1,p_3,1),axis=0)[-1] * np.cumprod(np.where(y == -1,1-p_3,1),axis=0)[-1]*(1.5**n_y)\n",
    "    P_2 = np.cumprod(np.where(x == 1,p_2,1),axis=0)[-1] * np.cumprod(np.where(x == -1,1-p_2,1),axis=0)[-1]*(1.5**n_x)\n",
    "    P_1 = np.cumprod(np.where(d == 1,p_1,1),axis=0)[-1] * np.cumprod(np.where(d == -1,1-p_1,1),axis=0)[-1]*(1.5**n_d)\n",
    "    \n",
    "    P = P_1 * P_2 * P_3 * P_4\n",
    "    \n",
    "    return p_4,p_3,p_2,p_1,z,y,x,d,P"
   ]
  },
  {
   "cell_type": "markdown",
   "metadata": {},
   "source": [
    "#### 2.1 Parameter Initialization"
   ]
  },
  {
   "cell_type": "code",
   "execution_count": 17,
   "metadata": {},
   "outputs": [],
   "source": [
    "n_z = 3\n",
    "n_y = 5\n",
    "n_x = 8\n",
    "n_d = 10"
   ]
  },
  {
   "cell_type": "code",
   "execution_count": 18,
   "metadata": {},
   "outputs": [],
   "source": [
    "# Random initialization\n",
    "\n",
    "Phi_12 = np.random.rand(n_x,n_d) *2-1\n",
    "Phi_23 = np.random.rand(n_y,n_x) *2-1\n",
    "Phi_34 = np.random.rand(n_z,n_y) *2-1\n",
    "b_12 = np.random.rand(n_x,1) *2-1\n",
    "b_23 = np.random.rand(n_y,1) *2-1\n",
    "b_34 = np.random.rand(n_z,1) *2-1\n",
    "\n",
    "Theta = np.random.rand(n_z,1) *2-1\n",
    "Theta_43 = np.random.rand(n_y,n_z) *2-1\n",
    "Theta_32 = np.random.rand(n_x,n_y) *2-1\n",
    "Theta_21 = np.random.rand(n_d,n_x) *2-1\n",
    "b_43 = np.random.rand(n_y,1) *2-1\n",
    "b_32 = np.random.rand(n_x,1) *2-1\n",
    "b_21 = np.random.rand(n_d,1) *2-1"
   ]
  },
  {
   "cell_type": "code",
   "execution_count": 19,
   "metadata": {},
   "outputs": [],
   "source": [
    "# Zero initialization\n",
    "\n",
    "Phi_12 = np.zeros((n_x,n_d))\n",
    "Phi_23 = np.zeros((n_y,n_x))\n",
    "Phi_34 = np.zeros((n_z,n_y))\n",
    "b_12 = np.zeros((n_x,1))\n",
    "b_23 = np.zeros((n_y,1))\n",
    "b_34 = np.zeros((n_z,1))\n",
    "\n",
    "Theta = np.zeros((n_z,1))\n",
    "Theta_43 = np.zeros((n_y,n_z))\n",
    "Theta_32 = np.zeros((n_x,n_y))\n",
    "Theta_21 = np.zeros((n_d,n_x))\n",
    "b_43 = np.zeros((n_y,1))\n",
    "b_32 = np.zeros((n_x,1))\n",
    "b_21 = np.zeros((n_d,1))"
   ]
  },
  {
   "cell_type": "code",
   "execution_count": 20,
   "metadata": {},
   "outputs": [
    {
     "name": "stdout",
     "output_type": "stream",
     "text": [
      "Phi_12: [[0. 0. 0. 0. 0. 0. 0. 0. 0. 0.]\n",
      " [0. 0. 0. 0. 0. 0. 0. 0. 0. 0.]\n",
      " [0. 0. 0. 0. 0. 0. 0. 0. 0. 0.]\n",
      " [0. 0. 0. 0. 0. 0. 0. 0. 0. 0.]\n",
      " [0. 0. 0. 0. 0. 0. 0. 0. 0. 0.]\n",
      " [0. 0. 0. 0. 0. 0. 0. 0. 0. 0.]\n",
      " [0. 0. 0. 0. 0. 0. 0. 0. 0. 0.]\n",
      " [0. 0. 0. 0. 0. 0. 0. 0. 0. 0.]]\n",
      "Phi_23: [[0. 0. 0. 0. 0. 0. 0. 0.]\n",
      " [0. 0. 0. 0. 0. 0. 0. 0.]\n",
      " [0. 0. 0. 0. 0. 0. 0. 0.]\n",
      " [0. 0. 0. 0. 0. 0. 0. 0.]\n",
      " [0. 0. 0. 0. 0. 0. 0. 0.]]\n",
      "Phi_34: [[0. 0. 0. 0. 0.]\n",
      " [0. 0. 0. 0. 0.]\n",
      " [0. 0. 0. 0. 0.]]\n",
      "b_12: [[0.]\n",
      " [0.]\n",
      " [0.]\n",
      " [0.]\n",
      " [0.]\n",
      " [0.]\n",
      " [0.]\n",
      " [0.]]\n",
      "b_23: [[0.]\n",
      " [0.]\n",
      " [0.]\n",
      " [0.]\n",
      " [0.]]\n",
      "b_34: [[0.]\n",
      " [0.]\n",
      " [0.]]\n"
     ]
    }
   ],
   "source": [
    "print (\"Phi_12: \" + str(Phi_12))\n",
    "print (\"Phi_23: \" + str(Phi_23))\n",
    "print (\"Phi_34: \" + str(Phi_34))\n",
    "print (\"b_12: \" + str(b_12))\n",
    "print (\"b_23: \" + str(b_23))\n",
    "print (\"b_34: \" + str(b_34))"
   ]
  },
  {
   "cell_type": "code",
   "execution_count": 21,
   "metadata": {},
   "outputs": [
    {
     "name": "stdout",
     "output_type": "stream",
     "text": [
      "Theta: [[0.]\n",
      " [0.]\n",
      " [0.]]\n",
      "Theta_43: [[0. 0. 0.]\n",
      " [0. 0. 0.]\n",
      " [0. 0. 0.]\n",
      " [0. 0. 0.]\n",
      " [0. 0. 0.]]\n",
      "Theta_32: [[0. 0. 0. 0. 0.]\n",
      " [0. 0. 0. 0. 0.]\n",
      " [0. 0. 0. 0. 0.]\n",
      " [0. 0. 0. 0. 0.]\n",
      " [0. 0. 0. 0. 0.]\n",
      " [0. 0. 0. 0. 0.]\n",
      " [0. 0. 0. 0. 0.]\n",
      " [0. 0. 0. 0. 0.]]\n",
      "Theta_21: [[0. 0. 0. 0. 0. 0. 0. 0.]\n",
      " [0. 0. 0. 0. 0. 0. 0. 0.]\n",
      " [0. 0. 0. 0. 0. 0. 0. 0.]\n",
      " [0. 0. 0. 0. 0. 0. 0. 0.]\n",
      " [0. 0. 0. 0. 0. 0. 0. 0.]\n",
      " [0. 0. 0. 0. 0. 0. 0. 0.]\n",
      " [0. 0. 0. 0. 0. 0. 0. 0.]\n",
      " [0. 0. 0. 0. 0. 0. 0. 0.]\n",
      " [0. 0. 0. 0. 0. 0. 0. 0.]\n",
      " [0. 0. 0. 0. 0. 0. 0. 0.]]\n",
      "b_43: [[0.]\n",
      " [0.]\n",
      " [0.]\n",
      " [0.]\n",
      " [0.]]\n",
      "b_32: [[0.]\n",
      " [0.]\n",
      " [0.]\n",
      " [0.]\n",
      " [0.]\n",
      " [0.]\n",
      " [0.]\n",
      " [0.]]\n",
      "b_21: [[0.]\n",
      " [0.]\n",
      " [0.]\n",
      " [0.]\n",
      " [0.]\n",
      " [0.]\n",
      " [0.]\n",
      " [0.]\n",
      " [0.]\n",
      " [0.]]\n"
     ]
    }
   ],
   "source": [
    "print (\"Theta: \" + str(Theta))\n",
    "print (\"Theta_43: \" + str(Theta_43))\n",
    "print (\"Theta_32: \" + str(Theta_32))\n",
    "print (\"Theta_21: \" + str(Theta_21))\n",
    "print (\"b_43: \" + str(b_43))\n",
    "print (\"b_32: \" + str(b_32))\n",
    "print (\"b_21: \" + str(b_21))"
   ]
  },
  {
   "cell_type": "markdown",
   "metadata": {},
   "source": [
    "#### 2.3 Training"
   ]
  },
  {
   "cell_type": "code",
   "execution_count": 22,
   "metadata": {},
   "outputs": [
    {
     "data": {
      "text/plain": [
       "(10, 256)"
      ]
     },
     "execution_count": 22,
     "metadata": {},
     "output_type": "execute_result"
    }
   ],
   "source": [
    "train_set = np.transpose(well_formed_set)\n",
    "train_set.shape"
   ]
  },
  {
   "cell_type": "code",
   "execution_count": 23,
   "metadata": {},
   "outputs": [],
   "source": [
    "lr = 0.01\n",
    "epoch = 10"
   ]
  },
  {
   "cell_type": "code",
   "execution_count": 24,
   "metadata": {},
   "outputs": [],
   "source": [
    "Phi_12_cache = np.copy(Phi_12)\n",
    "Phi_23_cache = np.copy(Phi_23)\n",
    "Phi_34_cache = np.copy(Phi_34)\n",
    "b_12_cache = np.copy(b_12)\n",
    "b_23_cache = np.copy(b_23)\n",
    "b_34_cache = np.copy(b_34)\n",
    "\n",
    "Theta_cache = np.copy(Theta)\n",
    "Theta_43_cache = np.copy(Theta_43)\n",
    "Theta_32_cache = np.copy(Theta_32)\n",
    "Theta_21_cache = np.copy(Theta_21)\n",
    "b_43_cache = np.copy(b_43)\n",
    "b_32_cache = np.copy(b_32)\n",
    "b_21_cache = np.copy(b_21)"
   ]
  },
  {
   "cell_type": "code",
   "execution_count": 25,
   "metadata": {},
   "outputs": [
    {
     "name": "stdout",
     "output_type": "stream",
     "text": [
      "recog_phi: 0.5278343205890828\n",
      "recog_b: 0.06773745205921824\n",
      "gener_theta: 0.5247527994250258\n",
      "gener_b: 1.4000741714444334\n",
      "\n",
      "recog_phi: 0.6844551973574243\n",
      "recog_b: 0.052660068459397816\n",
      "gener_theta: 0.6088347026421053\n",
      "gener_b: 1.1674213602286703\n",
      "\n",
      "recog_phi: 0.545773577229776\n",
      "recog_b: 0.10543820484727884\n",
      "gener_theta: 0.6906909182174604\n",
      "gener_b: 1.1416271877225102\n",
      "\n",
      "recog_phi: 0.6607595799573603\n",
      "recog_b: 0.0840353478290182\n",
      "gener_theta: 0.7659866011941036\n",
      "gener_b: 0.7438823196312874\n",
      "\n",
      "recog_phi: 0.6194136692823695\n",
      "recog_b: 0.06766370050302825\n",
      "gener_theta: 0.6944877183118023\n",
      "gener_b: 1.5852356328649413\n",
      "\n",
      "recog_phi: 0.5437435516814214\n",
      "recog_b: 0.054862567432751336\n",
      "gener_theta: 0.729105451603815\n",
      "gener_b: 1.0014820923424366\n",
      "\n",
      "recog_phi: 0.5685328999934512\n",
      "recog_b: 0.059690211527544876\n",
      "gener_theta: 0.7625081012158575\n",
      "gener_b: 0.6421799408087538\n",
      "\n",
      "recog_phi: 0.759839849864565\n",
      "recog_b: 0.14264987053037154\n",
      "gener_theta: 0.7262494647788666\n",
      "gener_b: 0.4020322241661389\n",
      "\n",
      "recog_phi: 0.7553151342086318\n",
      "recog_b: 0.09454652601739204\n",
      "gener_theta: 0.8061668840959275\n",
      "gener_b: 1.2145552300976694\n",
      "\n",
      "recog_phi: 0.673686698726013\n",
      "recog_b: 0.08087387609370644\n",
      "gener_theta: 0.7892411368001878\n",
      "gener_b: 1.217879643319143\n",
      "\n"
     ]
    }
   ],
   "source": [
    "# Sample-based training\n",
    "# Local delta rule\n",
    "for e in range(epoch):\n",
    "    num_samples = train_set.shape[1]\n",
    "    train_set = train_set[:,np.random.permutation(num_samples)]\n",
    "    \n",
    "    for i in range(num_samples):\n",
    "        data = train_set[:,i:i+1]\n",
    "        q_2,q_3,q_4,x_w,y_w,z_w,Q = wake_forward(data,Phi_12,Phi_23,Phi_34,b_12,b_23,b_34,n_x,n_y,n_z)\n",
    "        Theta,Theta_43,Theta_32,Theta_21,b_43,b_32,b_21 = wake_update_delta(z_w,y_w,x_w,data,Theta,Theta_43,Theta_32,Theta_21,b_43,b_32,b_21,lr)\n",
    "        p_4,p_3,p_2,p_1,z_s,y_s,x_s,d_s,P = sleep_forward(Theta,Theta_43,Theta_32,Theta_21,b_43,b_32,b_21,n_z,n_y,n_x,n_d)\n",
    "        Phi_12,Phi_23,Phi_34,b_12,b_23,b_34 = sleep_update_delta(z_s,y_s,x_s,d_s,Phi_12,Phi_23,Phi_34,b_12,b_23,b_34,lr)\n",
    "\n",
    "    recog_phi = np.sum((Phi_12 - Phi_12_cache)**2) + np.sum((Phi_23 - Phi_23_cache)**2) + np.sum((Phi_34 - Phi_34_cache)**2) \n",
    "    recog_b = np.sum((b_12 - b_12_cache)**2) + np.sum((b_23 - b_23_cache)**2) + np.sum((b_34 - b_34_cache)**2)\n",
    "    gener_theta = np.sum((Theta - Theta_cache)**2) + np.sum((Theta_43 - Theta_43_cache)**2) + np.sum((Theta_32 - Theta_32_cache)**2) + np.sum((Theta_21 - Theta_21_cache)**2)\n",
    "    gener_b = np.sum((b_43 - b_43_cache)**2) + np.sum((b_32 - b_32_cache)**2) + np.sum((b_21 - b_21_cache)**2)\n",
    "    print (\"recog_phi: \" + str(recog_phi))\n",
    "    print (\"recog_b: \" + str(recog_b))\n",
    "    print (\"gener_theta: \" + str(gener_theta))\n",
    "    print (\"gener_b: \" + str(gener_b))\n",
    "    print('')\n",
    "    \n",
    "    Phi_12_cache = np.copy(Phi_12)\n",
    "    Phi_23_cache = np.copy(Phi_23)\n",
    "    Phi_34_cache = np.copy(Phi_34)\n",
    "    b_12_cache = np.copy(b_12)\n",
    "    b_23_cache = np.copy(b_23)\n",
    "    b_34_cache = np.copy(b_34)\n",
    "\n",
    "    Theta_cache = np.copy(Theta)\n",
    "    Theta_43_cache = np.copy(Theta_43)\n",
    "    Theta_32_cache = np.copy(Theta_32)\n",
    "    Theta_21_cache = np.copy(Theta_21)\n",
    "    b_43_cache = np.copy(b_43)\n",
    "    b_32_cache = np.copy(b_32)\n",
    "    b_21_cache = np.copy(b_21)\n",
    "    "
   ]
  },
  {
   "cell_type": "code",
   "execution_count": 26,
   "metadata": {},
   "outputs": [
    {
     "name": "stdout",
     "output_type": "stream",
     "text": [
      "Phi_12: [[ 0.01269094  0.08083073 -0.33741222  0.22574226  0.22196432  0.02084409\n",
      "   0.09840083 -0.19056728 -0.07662406 -0.18836081]\n",
      " [ 0.11409806 -0.2900551   0.04338411  0.03775277 -0.03048923 -0.22424151\n",
      "  -0.2109864   0.1903914   0.0173626  -0.14135155]\n",
      " [-0.26998221 -0.00530961 -0.14752935 -0.08597504 -0.09100886  0.05028176\n",
      "  -0.0944872  -0.2053698  -0.04158364  0.10034402]\n",
      " [ 0.28203606 -0.02737827  0.05730215 -0.07281887 -0.06462181  0.05099204\n",
      "  -0.02054051  0.18146126  0.15031234 -0.05797329]\n",
      " [ 0.02497399  0.08854256 -0.00866404  0.02017437 -0.06149543 -0.09807922\n",
      "  -0.06304517  0.27244518 -0.16097253  0.14635416]\n",
      " [-0.21195625 -0.17571827 -0.10649344  0.11263758 -0.27275239  0.37912878\n",
      "   0.3220075   0.20435035 -0.03906301  0.08978343]\n",
      " [ 0.06552464  0.18665177  0.0709286   0.04118831  0.06897558  0.24974118\n",
      "  -0.12773212  0.1899817  -0.11489227 -0.08983448]\n",
      " [-0.02301479  0.10170016 -0.10646368 -0.23993506  0.17242982 -0.26678978\n",
      "   0.01427172  0.09989383  0.01885934  0.22331722]]\n",
      "Phi_12_cache: [[ 0.01269094  0.08083073 -0.33741222  0.22574226  0.22196432  0.02084409\n",
      "   0.09840083 -0.19056728 -0.07662406 -0.18836081]\n",
      " [ 0.11409806 -0.2900551   0.04338411  0.03775277 -0.03048923 -0.22424151\n",
      "  -0.2109864   0.1903914   0.0173626  -0.14135155]\n",
      " [-0.26998221 -0.00530961 -0.14752935 -0.08597504 -0.09100886  0.05028176\n",
      "  -0.0944872  -0.2053698  -0.04158364  0.10034402]\n",
      " [ 0.28203606 -0.02737827  0.05730215 -0.07281887 -0.06462181  0.05099204\n",
      "  -0.02054051  0.18146126  0.15031234 -0.05797329]\n",
      " [ 0.02497399  0.08854256 -0.00866404  0.02017437 -0.06149543 -0.09807922\n",
      "  -0.06304517  0.27244518 -0.16097253  0.14635416]\n",
      " [-0.21195625 -0.17571827 -0.10649344  0.11263758 -0.27275239  0.37912878\n",
      "   0.3220075   0.20435035 -0.03906301  0.08978343]\n",
      " [ 0.06552464  0.18665177  0.0709286   0.04118831  0.06897558  0.24974118\n",
      "  -0.12773212  0.1899817  -0.11489227 -0.08983448]\n",
      " [-0.02301479  0.10170016 -0.10646368 -0.23993506  0.17242982 -0.26678978\n",
      "   0.01427172  0.09989383  0.01885934  0.22331722]]\n",
      "Phi_23: [[ 0.0322239   0.05671584 -0.09173583 -0.1233634  -0.1424123  -0.09534283\n",
      "   0.26681836  0.0939506 ]\n",
      " [ 0.09388269  0.00166094 -0.14933478  0.0982112  -0.08549419  0.14345717\n",
      "  -0.03262447 -0.09103427]\n",
      " [-0.08349925  0.03853127 -0.07603313  0.08217443  0.03321725 -0.12704177\n",
      "   0.1203249  -0.03943393]\n",
      " [ 0.31688037 -0.07521013 -0.01515982 -0.10494778  0.08044741 -0.01523865\n",
      "   0.01632098 -0.03141923]\n",
      " [ 0.27691233  0.13913026 -0.14734946  0.03456314 -0.05074811 -0.13495275\n",
      "   0.05276619  0.14165694]]\n",
      "Phi_34: [[ 0.03625607 -0.07516947 -0.0074472   0.24502302  0.08172553]\n",
      " [ 0.22460383  0.09331762  0.19353074 -0.08953027  0.08117661]\n",
      " [ 0.18240163 -0.11537131  0.10590587  0.31633629  0.09260537]]\n",
      "b_12: [[-0.18096886]\n",
      " [-0.08477996]\n",
      " [-0.27828112]\n",
      " [ 0.14718813]\n",
      " [-0.14048417]\n",
      " [ 0.31727757]\n",
      " [ 0.12671155]\n",
      " [-0.30483422]]\n",
      "b_12_cache: [[-0.18096886]\n",
      " [-0.08477996]\n",
      " [-0.27828112]\n",
      " [ 0.14718813]\n",
      " [-0.14048417]\n",
      " [ 0.31727757]\n",
      " [ 0.12671155]\n",
      " [-0.30483422]]\n",
      "b_23: [[-0.17210139]\n",
      " [ 0.44266544]\n",
      " [ 0.26653261]\n",
      " [-0.01147311]\n",
      " [ 0.0020616 ]]\n",
      "b_34: [[-0.04684794]\n",
      " [ 0.12502834]\n",
      " [ 0.02916427]]\n"
     ]
    }
   ],
   "source": [
    "print (\"Phi_12: \" + str(Phi_12))\n",
    "print (\"Phi_12_cache: \" + str(Phi_12_cache))\n",
    "print (\"Phi_23: \" + str(Phi_23))\n",
    "print (\"Phi_34: \" + str(Phi_34))\n",
    "print (\"b_12: \" + str(b_12))\n",
    "print (\"b_12_cache: \" + str(b_12_cache))\n",
    "print (\"b_23: \" + str(b_23))\n",
    "print (\"b_34: \" + str(b_34))"
   ]
  },
  {
   "cell_type": "code",
   "execution_count": 27,
   "metadata": {},
   "outputs": [
    {
     "name": "stdout",
     "output_type": "stream",
     "text": [
      "Theta: [[-0.12217145]\n",
      " [ 0.24169577]\n",
      " [ 0.19546966]]\n",
      "Theta_43: [[ 0.10024706  0.27534641  0.21101696]\n",
      " [-0.12589586 -0.03081535 -0.126246  ]\n",
      " [-0.06335384  0.1273391   0.0527027 ]\n",
      " [ 0.23820324 -0.02301156  0.40356071]\n",
      " [ 0.14773894  0.12859999  0.12961827]]\n",
      "Theta_32: [[-0.02104694  0.09708293 -0.00505736  0.36729245  0.2599389 ]\n",
      " [ 0.06952781  0.02063866  0.02925366 -0.19896809  0.1020676 ]\n",
      " [-0.12821052 -0.00872108 -0.00931587  0.04265344 -0.20767271]\n",
      " [-0.31890651  0.12299659  0.11043773 -0.11313152 -0.04460242]\n",
      " [-0.08963751 -0.09559329  0.10858764  0.01825911 -0.06670121]\n",
      " [-0.15777583  0.18736284 -0.17633823  0.00821422 -0.19340131]\n",
      " [ 0.31011713  0.02495789  0.21986423  0.04483086 -0.09155359]\n",
      " [ 0.01673651 -0.14768291  0.01477214  0.08268317  0.03630028]]\n",
      "Theta_21: [[ 0.0248763   0.0922205  -0.19252678  0.26304035 -0.19901236 -0.20207646\n",
      "   0.00155397 -0.06545104]\n",
      " [ 0.27419298 -0.31451541 -0.01870987 -0.13220658  0.11061607 -0.21794075\n",
      "   0.14526793 -0.01211787]\n",
      " [-0.3101829  -0.00125657 -0.27015091  0.16373261 -0.03407886  0.07676484\n",
      "   0.18888646 -0.18153061]\n",
      " [ 0.13511397  0.06142719  0.06556588 -0.07627881 -0.0263135  -0.0882253\n",
      "   0.0741322  -0.263023  ]\n",
      " [ 0.25915266  0.02479187 -0.03876701 -0.02418119 -0.07777537 -0.32424015\n",
      "   0.05913524  0.16278996]\n",
      " [ 0.07065612 -0.04968733  0.22097632 -0.17477296  0.05867515  0.40634992\n",
      "   0.13922861 -0.14198985]\n",
      " [ 0.03654194 -0.16872464  0.02824343 -0.06248049 -0.14240284  0.27362093\n",
      "  -0.19767561  0.07037399]\n",
      " [-0.138369    0.21653508 -0.22143754  0.05207283  0.30897875  0.20501939\n",
      "   0.01329035  0.08359038]\n",
      " [-0.01606135 -0.0508706  -0.0213525   0.07977274 -0.07647276 -0.18456487\n",
      "  -0.24408144 -0.01796656]\n",
      " [-0.22298572 -0.12841006  0.03982023 -0.02716717  0.30845275  0.10064177\n",
      "  -0.12179233  0.24453235]]\n",
      "b_43: [[-0.15061556]\n",
      " [ 0.50963345]\n",
      " [ 0.33131457]\n",
      " [-0.04551701]\n",
      " [ 0.05823864]]\n",
      "b_32: [[-0.42920893]\n",
      " [-0.11308154]\n",
      " [-0.35841583]\n",
      " [ 0.28300938]\n",
      " [-0.12542066]\n",
      " [ 0.44718977]\n",
      " [ 0.22453948]\n",
      " [-0.22768526]]\n",
      "b_21: [[0.85649173]\n",
      " [0.26187799]\n",
      " [1.1125238 ]\n",
      " [0.3924689 ]\n",
      " [0.36672725]\n",
      " [0.99053765]\n",
      " [0.58533449]\n",
      " [0.24740821]\n",
      " [0.09824362]\n",
      " [0.66121458]]\n"
     ]
    }
   ],
   "source": [
    "print (\"Theta: \" + str(Theta))\n",
    "print (\"Theta_43: \" + str(Theta_43))\n",
    "print (\"Theta_32: \" + str(Theta_32))\n",
    "print (\"Theta_21: \" + str(Theta_21))\n",
    "print (\"b_43: \" + str(b_43))\n",
    "print (\"b_32: \" + str(b_32))\n",
    "print (\"b_21: \" + str(b_21))"
   ]
  },
  {
   "cell_type": "markdown",
   "metadata": {},
   "source": [
    "#### 2.4 Testing"
   ]
  },
  {
   "cell_type": "code",
   "execution_count": 128,
   "metadata": {},
   "outputs": [],
   "source": [
    "test_size = 100"
   ]
  },
  {
   "cell_type": "code",
   "execution_count": 129,
   "metadata": {},
   "outputs": [],
   "source": [
    "def generation(Theta,Theta_43,Theta_32,Theta_21,b_43,b_32,b_21,n_z,n_y,n_x,n_d,batch_size):\n",
    "    p_4 = sigmoid(Theta)\n",
    "    z = ((p_4 > np.random.rand(n_z,batch_size)).astype(int) - 0.5)*2    # rejection sampling\n",
    "    \n",
    "    p_3 = sigmoid(np.matmul(Theta_43,z) + b_43)\n",
    "    y = ((p_3 > np.random.rand(n_y,batch_size)).astype(int) - 0.5)*2\n",
    "    \n",
    "    p_2 = sigmoid(np.matmul(Theta_32,y) + b_32)\n",
    "    x = ((p_2 > np.random.rand(n_x,batch_size)).astype(int) - 0.5)*2\n",
    "    # x = np.where(p_2 > 0.5,1,-1)\n",
    "    \n",
    "    p_1 = sigmoid(np.matmul(Theta_21,x) + b_21)\n",
    "    # d = ((p_1 > np.random.rand(n_d,batch_size)).astype(int) - 0.5)*2\n",
    "    d = np.where(p_1 > 0.5,1,-1)\n",
    "    \n",
    "    P_4 = np.cumprod(np.where(z == 1,p_4,1),axis=0)[-1] * np.cumprod(np.where(z == -1,1-p_4,1),axis=0)[-1]*(1.5**n_z)\n",
    "    P_3 = np.cumprod(np.where(y == 1,p_3,1),axis=0)[-1] * np.cumprod(np.where(y == -1,1-p_3,1),axis=0)[-1]*(1.5**n_y)\n",
    "    P_2 = np.cumprod(np.where(x == 1,p_2,1),axis=0)[-1] * np.cumprod(np.where(x == -1,1-p_2,1),axis=0)[-1]*(1.5**n_x)\n",
    "    P_1 = np.cumprod(np.where(d == 1,p_1,1),axis=0)[-1] * np.cumprod(np.where(d == -1,1-p_1,1),axis=0)[-1]*(1.5**n_d)\n",
    "    \n",
    "    P = P_1 * P_2 * P_3 * P_4\n",
    "    \n",
    "    return p_4,p_3,p_2,p_1,z,y,x,d,P"
   ]
  },
  {
   "cell_type": "code",
   "execution_count": 130,
   "metadata": {},
   "outputs": [
    {
     "name": "stdout",
     "output_type": "stream",
     "text": [
      "p_4_gen: [[0.3294903 ]\n",
      " [0.27233043]\n",
      " [0.44289062]]\n",
      "p_3_gen: [[0.30817678 0.24037749 0.30817678 0.24178852 0.30817678 0.1027548\n",
      "  0.30817678 0.24178852 0.55174302 0.1027548 ]\n",
      " [0.74072593 0.34366951 0.74072593 0.4731572  0.74072593 0.67480047\n",
      "  0.74072593 0.4731572  0.41891791 0.67480047]\n",
      " [0.73860602 0.6853437  0.73860602 0.56622165 0.73860602 0.80019904\n",
      "  0.73860602 0.56622165 0.60578689 0.80019904]\n",
      " [0.32358227 0.57375755 0.32358227 0.45747034 0.32358227 0.19238977\n",
      "  0.32358227 0.45747034 0.72995561 0.19238977]\n",
      " [0.45284208 0.46698078 0.45284208 0.60251117 0.45284208 0.61016369\n",
      "  0.45284208 0.60251117 0.31659513 0.61016369]]\n",
      "p_2_gen: [[0.17241702 0.57957026 0.17153076 0.26099509 0.17241702 0.04445418\n",
      "  0.47642158 0.04505287 0.47642158 0.17153076]\n",
      " [0.05208408 0.38452675 0.4354822  0.34576433 0.05208408 0.24044855\n",
      "  0.09554491 0.29984136 0.09554491 0.4354822 ]\n",
      " [0.48464898 0.6785059  0.49379921 0.36612868 0.48464898 0.38913097\n",
      "  0.49648007 0.39441562 0.49648007 0.49379921]\n",
      " [0.4310812  0.69970658 0.19105375 0.50049502 0.4310812  0.48685812\n",
      "  0.67119478 0.44334376 0.67119478 0.19105375]\n",
      " [0.09154124 0.15359392 0.09796545 0.67817367 0.09154124 0.1685162\n",
      "  0.23193225 0.4268208  0.23193225 0.09796545]\n",
      " [0.23668956 0.43479722 0.26150665 0.22565512 0.23668956 0.3619205\n",
      "  0.12111547 0.66225139 0.12111547 0.26150665]\n",
      " [0.63440612 0.28181826 0.50260367 0.41560295 0.63440612 0.57177\n",
      "  0.56382203 0.37680872 0.56382203 0.50260367]\n",
      " [0.45689735 0.86189076 0.34793199 0.28723504 0.45689735 0.36425911\n",
      "  0.59983475 0.3235061  0.59983475 0.34793199]]\n",
      "p_1_gen: [[0.96741679 0.97716683 0.98892818 0.97190355 0.97731447 0.96482412\n",
      "  0.95586926 0.95967979 0.98094077 0.98771419]\n",
      " [0.86290236 0.88908213 0.28830919 0.23299962 0.97449022 0.76863238\n",
      "  0.49207918 0.58791273 0.92335216 0.33804994]\n",
      " [0.55944095 0.28097712 0.99788784 0.99698968 0.17014268 0.69140221\n",
      "  0.78215785 0.91520148 0.50225609 0.99044882]\n",
      " [0.60387997 0.30830044 0.65946277 0.68878846 0.5780885  0.55918483\n",
      "  0.32267517 0.47780541 0.41002987 0.59880055]\n",
      " [0.05468551 0.71204666 0.38559606 0.67157287 0.76952489 0.2268428\n",
      "  0.78177357 0.94122105 0.40914613 0.30646149]\n",
      " [0.588972   0.72386982 0.66976245 0.29798261 0.80772004 0.77238859\n",
      "  0.16010297 0.72264352 0.45027774 0.73268105]\n",
      " [0.90975695 0.89588085 0.66257209 0.38951856 0.85686567 0.81767015\n",
      "  0.74322923 0.44514803 0.91050682 0.78872204]\n",
      " [0.61961419 0.87914175 0.86290901 0.81845654 0.7241078  0.78795338\n",
      "  0.42946481 0.83407075 0.9457275  0.53527469]\n",
      " [0.73776471 0.377431   0.76153936 0.80833849 0.59530696 0.57490912\n",
      "  0.79820561 0.2265314  0.26691118 0.91709347]\n",
      " [0.30657573 0.4292193  0.65512584 0.62519776 0.2117346  0.35170825\n",
      "  0.65859461 0.6391846  0.45100535 0.58627361]]\n",
      "z_s_gen: [[ 1. -1.  1. -1.  1. -1.  1. -1.  1. -1.]\n",
      " [-1.  1. -1.  1. -1. -1. -1.  1.  1. -1.]\n",
      " [-1.  1. -1. -1. -1. -1. -1. -1.  1. -1.]]\n",
      "y_s_gen: [[-1.  1. -1.  1. -1. -1.  1. -1.  1. -1.]\n",
      " [ 1.  1.  1. -1.  1.  1.  1. -1.  1.  1.]\n",
      " [ 1. -1.  1.  1.  1. -1.  1. -1.  1.  1.]\n",
      " [-1.  1.  1. -1. -1. -1. -1. -1. -1.  1.]\n",
      " [-1. -1.  1.  1. -1.  1. -1.  1. -1.  1.]]\n",
      "x_s_gen: [[ 1. -1. -1. -1. -1. -1.  1. -1.  1. -1.]\n",
      " [-1.  1. -1. -1. -1.  1. -1.  1. -1. -1.]\n",
      " [ 1.  1. -1. -1.  1.  1. -1. -1.  1. -1.]\n",
      " [ 1.  1. -1. -1.  1.  1.  1. -1. -1.  1.]\n",
      " [-1. -1. -1.  1. -1. -1.  1. -1. -1. -1.]\n",
      " [-1. -1. -1. -1.  1. -1. -1.  1. -1. -1.]\n",
      " [ 1. -1.  1.  1. -1.  1. -1. -1. -1.  1.]\n",
      " [ 1.  1. -1. -1.  1.  1. -1. -1.  1. -1.]]\n",
      "d_s_gen: [[ 1  1  1  1  1  1  1  1  1  1]\n",
      " [ 1  1 -1 -1  1  1 -1  1  1 -1]\n",
      " [ 1 -1  1  1 -1  1  1  1  1  1]\n",
      " [ 1 -1  1  1  1  1 -1 -1 -1  1]\n",
      " [-1  1 -1  1  1 -1  1  1 -1 -1]\n",
      " [ 1  1  1 -1  1  1 -1  1 -1  1]\n",
      " [ 1  1  1 -1  1  1  1 -1  1  1]\n",
      " [ 1  1  1  1  1  1 -1  1  1  1]\n",
      " [ 1 -1  1  1  1  1  1 -1 -1  1]\n",
      " [-1 -1  1  1 -1 -1  1  1 -1  1]]\n",
      "P_gen: [0.22025551 0.03449672 0.63780811 0.13183904 0.34496527 0.12137298\n",
      " 0.06158272 0.14145767 0.01459874 0.25861696]\n"
     ]
    }
   ],
   "source": [
    "p_4_gen,p_3_gen,p_2_gen,p_1_gen,z_s_gen,y_s_gen,x_s_gen,d_s_gen,P_gen = generation(Theta,Theta_43,Theta_32,Theta_21,b_43,b_32,b_21,n_z,n_y,n_x,n_d,test_size)\n",
    "print (\"p_4_gen: \" + str(p_4_gen[:,0:10]))\n",
    "print (\"p_3_gen: \" + str(p_3_gen[:,0:10]))\n",
    "print (\"p_2_gen: \" + str(p_2_gen[:,0:10]))\n",
    "print (\"p_1_gen: \" + str(p_1_gen[:,0:10]))\n",
    "print (\"z_s_gen: \" + str(z_s_gen[:,0:10]))\n",
    "print (\"y_s_gen: \" + str(y_s_gen[:,0:10]))\n",
    "print (\"x_s_gen: \" + str(x_s_gen[:,0:10]))\n",
    "print (\"d_s_gen: \" + str(d_s_gen[:,0:10]))\n",
    "print (\"P_gen: \" + str(P_gen[0:10]))"
   ]
  },
  {
   "cell_type": "markdown",
   "metadata": {},
   "source": [
    "#### Check with the rules (well-formedness rules)\n",
    "\n",
    "1. Start with 1\n",
    "2. Forbid 00100 (no 100, 001 on the boundary)\n",
    "3. Forbid 0000\n"
   ]
  },
  {
   "cell_type": "code",
   "execution_count": 131,
   "metadata": {},
   "outputs": [
    {
     "data": {
      "text/plain": [
       "array([[1., 1., 1., 1., 1., 1., 1., 1., 1., 1.],\n",
       "       [1., 1., 0., 0., 1., 1., 0., 1., 1., 0.],\n",
       "       [1., 0., 1., 1., 0., 1., 1., 1., 1., 1.],\n",
       "       [1., 0., 1., 1., 1., 1., 0., 0., 0., 1.],\n",
       "       [0., 1., 0., 1., 1., 0., 1., 1., 0., 0.],\n",
       "       [1., 1., 1., 0., 1., 1., 0., 1., 0., 1.],\n",
       "       [1., 1., 1., 0., 1., 1., 1., 0., 1., 1.],\n",
       "       [1., 1., 1., 1., 1., 1., 0., 1., 1., 1.],\n",
       "       [1., 0., 1., 1., 1., 1., 1., 0., 0., 1.],\n",
       "       [0., 0., 1., 1., 0., 0., 1., 1., 0., 1.]])"
      ]
     },
     "execution_count": 131,
     "metadata": {},
     "output_type": "execute_result"
    }
   ],
   "source": [
    "test_set = (d_s_gen+1)/2\n",
    "test_set[:,0:10]"
   ]
  },
  {
   "cell_type": "code",
   "execution_count": 132,
   "metadata": {},
   "outputs": [
    {
     "name": "stdout",
     "output_type": "stream",
     "text": [
      "[[1. 1. 1. 1. 1. 1. 1. 1. 1. 1. 1. 1. 1. 1. 1. 1. 1. 1. 1. 1. 1. 1. 1. 1.\n",
      "  1. 1. 1. 1. 1. 1. 1. 1. 1. 1. 1. 1. 1. 1. 1. 1. 1. 1. 1. 1. 1. 1. 1. 1.\n",
      "  1. 1. 1.]\n",
      " [0. 0. 0. 0. 0. 0. 0. 0. 0. 0. 0. 0. 0. 0. 1. 1. 1. 1. 1. 1. 1. 1. 1. 1.\n",
      "  1. 1. 1. 1. 1. 1. 1. 1. 1. 1. 1. 1. 1. 1. 1. 1. 1. 1. 1. 1. 1. 1. 1. 1.\n",
      "  1. 1. 1.]\n",
      " [1. 1. 1. 1. 1. 1. 1. 1. 1. 1. 1. 1. 1. 1. 0. 0. 0. 0. 0. 0. 0. 0. 0. 0.\n",
      "  0. 1. 1. 1. 1. 1. 1. 1. 1. 1. 1. 1. 1. 1. 1. 1. 1. 1. 1. 1. 1. 1. 1. 1.\n",
      "  1. 1. 1.]\n",
      " [0. 0. 0. 0. 0. 1. 1. 1. 1. 1. 1. 1. 1. 1. 0. 0. 0. 0. 0. 0. 1. 1. 1. 1.\n",
      "  1. 0. 0. 0. 0. 0. 0. 0. 0. 0. 0. 0. 0. 1. 1. 1. 1. 1. 1. 1. 1. 1. 1. 1.\n",
      "  1. 1. 1.]\n",
      " [0. 1. 1. 1. 1. 0. 0. 0. 0. 1. 1. 1. 1. 1. 0. 1. 1. 1. 1. 1. 0. 1. 1. 1.\n",
      "  1. 0. 1. 1. 1. 1. 1. 1. 1. 1. 1. 1. 1. 0. 0. 0. 0. 0. 0. 0. 1. 1. 1. 1.\n",
      "  1. 1. 1.]\n",
      " [1. 0. 0. 0. 1. 0. 1. 1. 1. 0. 0. 0. 0. 1. 1. 0. 0. 0. 1. 1. 1. 0. 0. 1.\n",
      "  1. 0. 0. 0. 0. 0. 0. 1. 1. 1. 1. 1. 1. 0. 0. 1. 1. 1. 1. 1. 0. 0. 0. 1.\n",
      "  1. 1. 1.]\n",
      " [1. 1. 1. 1. 1. 1. 1. 1. 1. 0. 0. 0. 1. 0. 1. 1. 1. 1. 1. 1. 0. 0. 1. 1.\n",
      "  1. 1. 0. 0. 1. 1. 1. 0. 1. 1. 1. 1. 1. 0. 1. 0. 1. 1. 1. 1. 0. 0. 1. 0.\n",
      "  0. 1. 1.]\n",
      " [1. 0. 1. 1. 1. 1. 0. 1. 1. 0. 1. 1. 0. 0. 1. 1. 1. 1. 0. 1. 0. 1. 1. 1.\n",
      "  1. 1. 0. 1. 0. 1. 1. 1. 0. 0. 1. 1. 1. 1. 1. 1. 0. 1. 1. 1. 0. 1. 0. 1.\n",
      "  1. 0. 1.]\n",
      " [1. 1. 0. 1. 1. 1. 1. 0. 1. 1. 0. 1. 1. 1. 0. 0. 1. 1. 0. 0. 1. 0. 1. 0.\n",
      "  1. 0. 1. 0. 1. 0. 1. 0. 1. 1. 0. 0. 1. 1. 1. 0. 1. 0. 1. 1. 1. 0. 1. 0.\n",
      "  1. 1. 0.]\n",
      " [1. 1. 1. 1. 1. 1. 1. 1. 1. 0. 1. 1. 1. 0. 0. 0. 0. 1. 0. 0. 0. 0. 0. 0.\n",
      "  0. 0. 1. 1. 1. 1. 1. 1. 0. 1. 0. 1. 1. 0. 0. 1. 0. 0. 0. 1. 0. 0. 0. 0.\n",
      "  0. 0. 0.]]\n",
      "[ 1  1  1  1  1  4  1  2  9  1  1  2  1  2  1  1  2  2  1  4  1  1  1  3\n",
      "  2  2  1  1  1  2  2  2  2  1  1  5  5  1  1  1  3  1 11  1  1  1  1  1\n",
      "  2  1  2]\n"
     ]
    },
    {
     "data": {
      "text/plain": [
       "(10, 51)"
      ]
     },
     "execution_count": 132,
     "metadata": {},
     "output_type": "execute_result"
    }
   ],
   "source": [
    "st, counts = np.unique(test_set, axis=1,return_counts=True)\n",
    "print(st)\n",
    "print(counts)\n",
    "st.shape"
   ]
  },
  {
   "cell_type": "code",
   "execution_count": 133,
   "metadata": {},
   "outputs": [],
   "source": [
    "violation_rule1 = 0\n",
    "violation_rule1_index = []\n",
    "violation_rule2 = 0\n",
    "violation_rule2_index = []\n",
    "violation_rule2_bd = 0\n",
    "violation_rule2_bd_index = []\n",
    "violation_rule3 = 0\n",
    "violation_rule3_index = []\n",
    "valid_num = 0\n",
    "valid_index = []\n",
    "\n",
    "pattern_len = test_set.shape[0]\n",
    "for i in range(test_set.shape[1]):\n",
    "    flag = 0\n",
    "    pattern = test_set[:,i]\n",
    "    if pattern[0] != 1:\n",
    "        violation_rule1 += 1\n",
    "        violation_rule1_index.append(i)\n",
    "        flag = 1\n",
    "    if np.array_equal(pattern[0:3], [1,0,0]) or np.array_equal(pattern[-3:], [0,0,1]):\n",
    "        violation_rule2_bd += 1\n",
    "        violation_rule2_bd_index.append(i)\n",
    "        flag = 1\n",
    "    for j in range(pattern_len - 5):\n",
    "        if np.array_equal(pattern[j:j+5],[0,0,1,0,0]):\n",
    "            violation_rule2 += 1\n",
    "            violation_rule2_index.append(i)\n",
    "            flag = 1\n",
    "            break\n",
    "    for j in range(pattern_len - 4):\n",
    "        if np.array_equal(pattern[j:j+4],[0,0,0,0]):\n",
    "            violation_rule3 += 1\n",
    "            violation_rule3_index.append(i)\n",
    "            flag = 1\n",
    "            break\n",
    "    if flag == 0:\n",
    "        valid_num += 1\n",
    "        valid_index.append(i)"
   ]
  },
  {
   "cell_type": "code",
   "execution_count": 134,
   "metadata": {},
   "outputs": [
    {
     "name": "stdout",
     "output_type": "stream",
     "text": [
      "violation_rule1: 0\n",
      "violation_rule1_index: []\n",
      "violation_rule2: 0\n",
      "violation_rule2_index: []\n",
      "violation_rule2_bd: 0\n",
      "violation_rule2_bd_index: []\n",
      "violation_rule3: 0\n",
      "violation_rule3_index: []\n",
      "valid_num: 100\n",
      "valid_index: [0, 1, 2, 3, 4, 5, 6, 7, 8, 9, 10, 11, 12, 13, 14, 15, 16, 17, 18, 19, 20, 21, 22, 23, 24, 25, 26, 27, 28, 29, 30, 31, 32, 33, 34, 35, 36, 37, 38, 39, 40, 41, 42, 43, 44, 45, 46, 47, 48, 49, 50, 51, 52, 53, 54, 55, 56, 57, 58, 59, 60, 61, 62, 63, 64, 65, 66, 67, 68, 69, 70, 71, 72, 73, 74, 75, 76, 77, 78, 79, 80, 81, 82, 83, 84, 85, 86, 87, 88, 89, 90, 91, 92, 93, 94, 95, 96, 97, 98, 99]\n",
      "valid_percentage: 1.0\n"
     ]
    }
   ],
   "source": [
    "print (\"violation_rule1: \" + str(violation_rule1))\n",
    "print (\"violation_rule1_index: \" + str(violation_rule1_index))\n",
    "print (\"violation_rule2: \" + str(violation_rule2))\n",
    "print (\"violation_rule2_index: \" + str(violation_rule2_index))\n",
    "print (\"violation_rule2_bd: \" + str(violation_rule2_bd))\n",
    "print (\"violation_rule2_bd_index: \" + str(violation_rule2_bd_index))\n",
    "print (\"violation_rule3: \" + str(violation_rule3))\n",
    "print (\"violation_rule3_index: \" + str(violation_rule3_index))\n",
    "print (\"valid_num: \" + str(valid_num))\n",
    "print (\"valid_index: \" + str(valid_index))\n",
    "print (\"valid_percentage: \" + str(valid_num/test_size))"
   ]
  },
  {
   "cell_type": "code",
   "execution_count": 135,
   "metadata": {},
   "outputs": [
    {
     "data": {
      "text/plain": [
       "array([1., 0., 1., 0., 1., 0., 1., 0., 1., 1.])"
      ]
     },
     "execution_count": 135,
     "metadata": {},
     "output_type": "execute_result"
    }
   ],
   "source": [
    "test_set[:,6]"
   ]
  },
  {
   "cell_type": "markdown",
   "metadata": {},
   "source": [
    "#### Train with selective sampling\n",
    "\n",
    "We fine-tune the pre-trained model with valid generations within the well-formed set, shrinking the input data by active sampling to construct a niche within the well-formed set."
   ]
  },
  {
   "cell_type": "code",
   "execution_count": 45,
   "metadata": {},
   "outputs": [
    {
     "data": {
      "text/plain": [
       "(25, 10)"
      ]
     },
     "execution_count": 45,
     "metadata": {},
     "output_type": "execute_result"
    }
   ],
   "source": [
    "preferred_set.shape"
   ]
  },
  {
   "cell_type": "code",
   "execution_count": 94,
   "metadata": {},
   "outputs": [
    {
     "data": {
      "text/plain": [
       "(10, 256)"
      ]
     },
     "execution_count": 94,
     "metadata": {},
     "output_type": "execute_result"
    }
   ],
   "source": [
    "init_set = np.transpose(well_formed_set)\n",
    "init_set.shape"
   ]
  },
  {
   "cell_type": "code",
   "execution_count": 95,
   "metadata": {},
   "outputs": [
    {
     "data": {
      "text/plain": [
       "array([[ 1.,  1.,  1., ...,  1.,  1.,  1.],\n",
       "       [ 1., -1.,  1., ...,  1.,  1.,  1.],\n",
       "       [ 1.,  1., -1., ...,  1.,  1.,  1.],\n",
       "       ...,\n",
       "       [ 1.,  1.,  1., ..., -1., -1., -1.],\n",
       "       [ 1., -1.,  1., ..., -1., -1., -1.],\n",
       "       [ 1.,  1., -1., ..., -1., -1., -1.]])"
      ]
     },
     "execution_count": 95,
     "metadata": {},
     "output_type": "execute_result"
    }
   ],
   "source": [
    "well_formed_set"
   ]
  },
  {
   "cell_type": "code",
   "execution_count": 48,
   "metadata": {},
   "outputs": [],
   "source": [
    "def wake_forward(data,Phi_12,Phi_23,Phi_34,b_12,b_23,b_34,n_x,n_y,n_z):\n",
    "    q_2 = sigmoid(np.matmul(Phi_12,data) + b_12)\n",
    "    x = ((q_2 > np.random.rand(n_x,1)).astype(int) - 0.5)*2    # rejection sampling\n",
    "    # x = np.where(q_2 > 0.5,1,-1)  # deterministic\n",
    "    \n",
    "    q_3 = sigmoid(np.matmul(Phi_23,x) + b_23)\n",
    "    y = ((q_3 > np.random.rand(n_y,1)).astype(int) - 0.5)*2\n",
    "    \n",
    "    q_4 = sigmoid(np.matmul(Phi_34,y) + b_34)\n",
    "    z = ((q_4 > np.random.rand(n_z,1)).astype(int) - 0.5)*2\n",
    "    \n",
    "    Q_2 = (np.cumprod(q_2[np.where(x == 1)])[-1] if q_2[np.where(x == 1)].size != 0 else 1) * (np.cumprod(1-q_2[np.where(x == -1)])[-1] if q_2[np.where(x == -1)].size != 0 else 1)*(1.5**n_x)\n",
    "    Q_3 = (np.cumprod(q_3[np.where(y == 1)])[-1] if q_3[np.where(y == 1)].size != 0 else 1) * (np.cumprod(1-q_3[np.where(y == -1)])[-1] if q_3[np.where(y == -1)].size != 0 else 1)*(1.5**n_y)\n",
    "    Q_4 = (np.cumprod(q_4[np.where(z == 1)])[-1] if q_4[np.where(z == 1)].size != 0 else 1) * (np.cumprod(1-q_4[np.where(z == -1)])[-1] if q_4[np.where(z == -1)].size != 0 else 1)*(1.5**n_z)\n",
    "    Q = Q_2 * Q_3 * Q_4\n",
    "    \n",
    "    return q_2,q_3,q_4,x,y,z,Q"
   ]
  },
  {
   "cell_type": "code",
   "execution_count": 49,
   "metadata": {},
   "outputs": [],
   "source": [
    "def sleep_forward(Theta,Theta_43,Theta_32,Theta_21,b_43,b_32,b_21,n_z,n_y,n_x,n_d):\n",
    "    p_4 = sigmoid(Theta)\n",
    "    z = ((p_4 > np.random.rand(n_z,1)).astype(int) - 0.5)*2    # rejection sampling\n",
    "    \n",
    "    p_3 = sigmoid(np.matmul(Theta_43,z) + b_43)\n",
    "    y = ((p_3 > np.random.rand(n_y,1)).astype(int) - 0.5)*2\n",
    "    \n",
    "    p_2 = sigmoid(np.matmul(Theta_32,y) + b_32)\n",
    "    x = ((p_2 > np.random.rand(n_x,1)).astype(int) - 0.5)*2\n",
    "    \n",
    "    p_1 = sigmoid(np.matmul(Theta_21,x) + b_21)\n",
    "    d = ((p_1 > np.random.rand(n_d,1)).astype(int) - 0.5)*2  # sampling\n",
    "    # d = np.where(p_1 > 0.5,1,-1)  # deterministic\n",
    "    \n",
    "    P_4 = (np.cumprod(p_4[np.where(z == 1)])[-1] if p_4[np.where(z == 1)].size != 0 else 1)* (np.cumprod(1-p_4[np.where(z == -1)])[-1] if p_4[np.where(z == -1)].size != 0 else 1)*(1.5**n_z)\n",
    "    P_3 = (np.cumprod(p_3[np.where(y == 1)])[-1] if p_3[np.where(y == 1)].size != 0 else 1)* (np.cumprod(1-p_3[np.where(y == -1)])[-1] if p_3[np.where(y == -1)].size != 0 else 1)*(1.5**n_y)\n",
    "    P_2 = (np.cumprod(p_2[np.where(x == 1)])[-1] if p_2[np.where(x == 1)].size != 0 else 1)* (np.cumprod(1-p_2[np.where(x == -1)])[-1] if p_2[np.where(x == -1)].size != 0 else 1)*(1.5**n_x)\n",
    "    P_1 = (np.cumprod(p_1[np.where(d == 1)])[-1] if p_1[np.where(d == 1)].size != 0 else 1)* (np.cumprod(1-p_1[np.where(d == -1)])[-1] if p_1[np.where(d == -1)].size != 0 else 1)*(1.5**n_d)\n",
    "    \n",
    "    P = P_1 * P_2 * P_3 * P_4\n",
    "    \n",
    "    return p_4,p_3,p_2,p_1,z,y,x,d,P"
   ]
  },
  {
   "cell_type": "code",
   "execution_count": 50,
   "metadata": {},
   "outputs": [],
   "source": [
    "lr = 0.01\n",
    "epoch = 10\n",
    "gen_size = 10"
   ]
  },
  {
   "cell_type": "code",
   "execution_count": 51,
   "metadata": {},
   "outputs": [],
   "source": [
    "Phi_12_cache = np.copy(Phi_12)\n",
    "Phi_23_cache = np.copy(Phi_23)\n",
    "Phi_34_cache = np.copy(Phi_34)\n",
    "b_12_cache = np.copy(b_12)\n",
    "b_23_cache = np.copy(b_23)\n",
    "b_34_cache = np.copy(b_34)\n",
    "\n",
    "Theta_cache = np.copy(Theta)\n",
    "Theta_43_cache = np.copy(Theta_43)\n",
    "Theta_32_cache = np.copy(Theta_32)\n",
    "Theta_21_cache = np.copy(Theta_21)\n",
    "b_43_cache = np.copy(b_43)\n",
    "b_32_cache = np.copy(b_32)\n",
    "b_21_cache = np.copy(b_21)"
   ]
  },
  {
   "cell_type": "code",
   "execution_count": 52,
   "metadata": {},
   "outputs": [],
   "source": [
    " # check if \"d_s_gen\" is in the well-formed set\n",
    "def check(d_s_gen):\n",
    "    d_s = 0\n",
    "    pattern_len = d_s_gen.shape[0]\n",
    "    for j in range(d_s_gen.shape[1]):\n",
    "        flag = 0\n",
    "        pattern = d_s_gen[:,j]\n",
    "        if pattern[0] != 1:\n",
    "            flag = 1\n",
    "            continue\n",
    "        if np.array_equal(pattern[0:3], [1,-1,-1]) or np.array_equal(pattern[-3:], [-1,-1,1]):\n",
    "            flag = 1\n",
    "            continue\n",
    "        for k in range(pattern_len - 5):\n",
    "            if np.array_equal(pattern[k:k+5],[-1,-1,1,-1,-1]):\n",
    "                flag = 1\n",
    "                break\n",
    "        if flag == 1:\n",
    "            continue\n",
    "        for k in range(pattern_len - 4):\n",
    "            if np.array_equal(pattern[k:k+4],[-1,-1,-1,-1]):\n",
    "                flag = 1\n",
    "                break\n",
    "\n",
    "        if flag == 0:\n",
    "            d_s = d_s_gen[:,j:j+1]\n",
    "            break\n",
    "    return d_s,j,flag"
   ]
  },
  {
   "cell_type": "code",
   "execution_count": 370,
   "metadata": {},
   "outputs": [
    {
     "name": "stdout",
     "output_type": "stream",
     "text": [
      "recog_phi: 0.7349899693855896\n",
      "recog_b: 0.0813074131317329\n",
      "gener_theta: 0.6462999096540598\n",
      "gener_b: 0.5125110833739853\n",
      "\n",
      "recog_phi: 0.5987970005071059\n",
      "recog_b: 0.05086063070849918\n",
      "gener_theta: 0.7014794593430442\n",
      "gener_b: 0.36441255894450203\n",
      "\n",
      "recog_phi: 0.6670757257884118\n",
      "recog_b: 0.047587619836476434\n",
      "gener_theta: 0.8474320839651933\n",
      "gener_b: 1.6334136648855495\n",
      "\n",
      "recog_phi: 0.4642463466402632\n",
      "recog_b: 0.06245242370118425\n",
      "gener_theta: 0.6120000876487652\n",
      "gener_b: 0.5164247299010561\n",
      "\n",
      "recog_phi: 0.5617871581795073\n",
      "recog_b: 0.04229802735489639\n",
      "gener_theta: 0.6013339969229351\n",
      "gener_b: 1.2905311484224713\n",
      "\n",
      "recog_phi: 0.6157211074597526\n",
      "recog_b: 0.06682830630299874\n",
      "gener_theta: 0.8019779129267365\n",
      "gener_b: 1.3737961931059228\n",
      "\n",
      "recog_phi: 0.46947315883304896\n",
      "recog_b: 0.0559122999588843\n",
      "gener_theta: 0.6997650442020075\n",
      "gener_b: 1.0162307320850723\n",
      "\n",
      "recog_phi: 0.6975212483934968\n",
      "recog_b: 0.07255134167401417\n",
      "gener_theta: 0.6991822214406869\n",
      "gener_b: 0.8074166868114242\n",
      "\n",
      "recog_phi: 0.5506299959697056\n",
      "recog_b: 0.025203521992486703\n",
      "gener_theta: 0.7095497288702355\n",
      "gener_b: 1.226071779354933\n",
      "\n",
      "recog_phi: 0.6340197595325308\n",
      "recog_b: 0.08983875880911049\n",
      "gener_theta: 0.7136205218347088\n",
      "gener_b: 1.032667106905396\n",
      "\n"
     ]
    }
   ],
   "source": [
    "## Sample-based training\n",
    "## Local delta rule\n",
    "#\n",
    "#for e in range(epoch):\n",
    "#    num_samples = train_set.shape[1]\n",
    "#    train_set = train_set[:,np.random.permutation(num_samples)]\n",
    "#    for i in range(num_samples):\n",
    "#        data = init_set[:,i:i+1]\n",
    "#        q_2,q_3,q_4,x_w,y_w,z_w,Q = wake_forward(data,Phi_12,Phi_23,Phi_34,b_12,b_23,b_34,n_x,n_y,n_z)\n",
    "#        Theta,Theta_43,Theta_32,Theta_21,b_43,b_32,b_21 = wake_update_delta(z_w,y_w,x_w,data,Theta,Theta_43,Theta_32,Theta_21,b_43,b_32,b_21,lr)\n",
    "#        \n",
    "#        # check if \"d_s_gen\" is in the well-formed set\n",
    "#        flag = 1\n",
    "#        while flag == 1:\n",
    "#            p_4_gen,p_3_gen,p_2_gen,p_1_gen,z_s_gen,y_s_gen,x_s_gen,d_s_gen,P_gen = sleep_forward_batch(Theta,Theta_43,Theta_32,Theta_21,b_43,b_32,b_21,n_z,n_y,n_x,n_d,gen_size)\n",
    "#            d_s,j,flag = check(d_s_gen)\n",
    "#        \n",
    "#        \n",
    "#        Phi_12,Phi_23,Phi_34,b_12,b_23,b_34 = sleep_update_delta(z_s_gen[:,j:j+1],y_s_gen[:,j:j+1],x_s_gen[:,j:j+1],d_s,Phi_12,Phi_23,Phi_34,b_12,b_23,b_34,lr)\n",
    "#\n",
    "#        \n",
    "#    recog_phi = np.sum((Phi_12 - Phi_12_cache)**2) + np.sum((Phi_23 - Phi_23_cache)**2) + np.sum((Phi_34 - Phi_34_cache)**2) \n",
    "#    recog_b = np.sum((b_12 - b_12_cache)**2) + np.sum((b_23 - b_23_cache)**2) + np.sum((b_34 - b_34_cache)**2)\n",
    "#    gener_theta = np.sum((Theta - Theta_cache)**2) + np.sum((Theta_43 - Theta_43_cache)**2) + np.sum((Theta_32 - Theta_32_cache)**2) + np.sum((Theta_21 - Theta_21_cache)**2)\n",
    "#    gener_b = np.sum((b_43 - b_43_cache)**2) + np.sum((b_32 - b_32_cache)**2) + np.sum((b_21 - b_21_cache)**2)\n",
    "#    \n",
    "#    print (\"recog_phi: \" + str(recog_phi))\n",
    "#    print (\"recog_b: \" + str(recog_b))\n",
    "#    print (\"gener_theta: \" + str(gener_theta))\n",
    "#    print (\"gener_b: \" + str(gener_b))\n",
    "#    print('')\n",
    "#    \n",
    "#    Phi_12_cache = np.copy(Phi_12)\n",
    "#    Phi_23_cache = np.copy(Phi_23)\n",
    "#    Phi_34_cache = np.copy(Phi_34)\n",
    "#    b_12_cache = np.copy(b_12)\n",
    "#    b_23_cache = np.copy(b_23)\n",
    "#    b_34_cache = np.copy(b_34)\n",
    "#\n",
    "#    Theta_cache = np.copy(Theta)\n",
    "#    Theta_43_cache = np.copy(Theta_43)\n",
    "#    Theta_32_cache = np.copy(Theta_32)\n",
    "#    Theta_21_cache = np.copy(Theta_21)\n",
    "#    b_43_cache = np.copy(b_43)\n",
    "#    b_32_cache = np.copy(b_32)\n",
    "#    b_21_cache = np.copy(b_21)\n",
    "#    \n"
   ]
  },
  {
   "cell_type": "code",
   "execution_count": 43,
   "metadata": {},
   "outputs": [],
   "source": [
    "itr = 1000"
   ]
  },
  {
   "cell_type": "code",
   "execution_count": 119,
   "metadata": {},
   "outputs": [
    {
     "name": "stdout",
     "output_type": "stream",
     "text": [
      "recog_phi: 0.19630824462182533\n",
      "recog_b: 0.033274577180828026\n",
      "gener_theta: 0.2174204709789268\n",
      "gener_b: 0.04694824737319091\n",
      "\n",
      "recog_phi: 0.1974373711534326\n",
      "recog_b: 0.022394477787204648\n",
      "gener_theta: 0.23034748004321065\n",
      "gener_b: 0.03228536976830171\n",
      "\n",
      "recog_phi: 0.2074176906199024\n",
      "recog_b: 0.021132176326729733\n",
      "gener_theta: 0.2451829527040998\n",
      "gener_b: 0.05962253755930787\n",
      "\n",
      "recog_phi: 0.14407807856124097\n",
      "recog_b: 0.01617998424295098\n",
      "gener_theta: 0.20753410264652386\n",
      "gener_b: 0.02747368226665267\n",
      "\n",
      "recog_phi: 0.18974339475355934\n",
      "recog_b: 0.02913015550984792\n",
      "gener_theta: 0.25157954772801805\n",
      "gener_b: 0.04854065349110813\n",
      "\n",
      "recog_phi: 0.20565373565515277\n",
      "recog_b: 0.020447132776876153\n",
      "gener_theta: 0.24203902140701067\n",
      "gener_b: 0.02249866377929991\n",
      "\n",
      "recog_phi: 0.1949093479902472\n",
      "recog_b: 0.03865683647852858\n",
      "gener_theta: 0.2636950784822019\n",
      "gener_b: 0.04408732802328894\n",
      "\n",
      "recog_phi: 0.28333814307876204\n",
      "recog_b: 0.027981415211649367\n",
      "gener_theta: 0.20568617669739636\n",
      "gener_b: 0.03847589867210321\n",
      "\n",
      "recog_phi: 0.1787690134144923\n",
      "recog_b: 0.02010607544557977\n",
      "gener_theta: 0.24857703010441978\n",
      "gener_b: 0.04255739154695522\n",
      "\n",
      "recog_phi: 0.23825148458309284\n",
      "recog_b: 0.029872103316423832\n",
      "gener_theta: 0.25502387881682054\n",
      "gener_b: 0.02646411761952993\n",
      "\n"
     ]
    }
   ],
   "source": [
    "# Sample-based training\n",
    "# Local delta rule\n",
    "# Sample environment\n",
    "\n",
    "\n",
    "for i in range(itr):\n",
    "    sample = np.random.randint(init_set.shape[1])\n",
    "    data = init_set[:,sample:sample+1]\n",
    "    q_2,q_3,q_4,x_w,y_w,z_w,Q = wake_forward(data,Phi_12,Phi_23,Phi_34,b_12,b_23,b_34,n_x,n_y,n_z)\n",
    "    Theta,Theta_43,Theta_32,Theta_21,b_43,b_32,b_21 = wake_update_delta(z_w,y_w,x_w,data,Theta,Theta_43,Theta_32,Theta_21,b_43,b_32,b_21,lr)\n",
    "\n",
    "    # check if \"d_s_gen\" is in the well-formed set\n",
    "    flag = 1\n",
    "    while flag == 1:\n",
    "        p_4_gen,p_3_gen,p_2_gen,p_1_gen,z_s_gen,y_s_gen,x_s_gen,d_s_gen,P_gen = sleep_forward_batch(Theta,Theta_43,Theta_32,Theta_21,b_43,b_32,b_21,n_z,n_y,n_x,n_d,gen_size)\n",
    "        d_s,j,flag = check(d_s_gen)\n",
    "\n",
    "\n",
    "    Phi_12,Phi_23,Phi_34,b_12,b_23,b_34 = sleep_update_delta(z_s_gen[:,j:j+1],y_s_gen[:,j:j+1],x_s_gen[:,j:j+1],d_s,Phi_12,Phi_23,Phi_34,b_12,b_23,b_34,lr)\n",
    "    init_set = np.append(init_set,d_s,axis=1)\n",
    "\n",
    "    \n",
    "    if i%100 == 0:\n",
    "        \n",
    "        recog_phi = np.sum((Phi_12 - Phi_12_cache)**2) + np.sum((Phi_23 - Phi_23_cache)**2) + np.sum((Phi_34 - Phi_34_cache)**2) \n",
    "        recog_b = np.sum((b_12 - b_12_cache)**2) + np.sum((b_23 - b_23_cache)**2) + np.sum((b_34 - b_34_cache)**2)\n",
    "        gener_theta = np.sum((Theta - Theta_cache)**2) + np.sum((Theta_43 - Theta_43_cache)**2) + np.sum((Theta_32 - Theta_32_cache)**2) + np.sum((Theta_21 - Theta_21_cache)**2)\n",
    "        gener_b = np.sum((b_43 - b_43_cache)**2) + np.sum((b_32 - b_32_cache)**2) + np.sum((b_21 - b_21_cache)**2)\n",
    "\n",
    "        print (\"recog_phi: \" + str(recog_phi))\n",
    "        print (\"recog_b: \" + str(recog_b))\n",
    "        print (\"gener_theta: \" + str(gener_theta))\n",
    "        print (\"gener_b: \" + str(gener_b))\n",
    "        print('')\n",
    "\n",
    "        Phi_12_cache = np.copy(Phi_12)\n",
    "        Phi_23_cache = np.copy(Phi_23)\n",
    "        Phi_34_cache = np.copy(Phi_34)\n",
    "        b_12_cache = np.copy(b_12)\n",
    "        b_23_cache = np.copy(b_23)\n",
    "        b_34_cache = np.copy(b_34)\n",
    "\n",
    "        Theta_cache = np.copy(Theta)\n",
    "        Theta_43_cache = np.copy(Theta_43)\n",
    "        Theta_32_cache = np.copy(Theta_32)\n",
    "        Theta_21_cache = np.copy(Theta_21)\n",
    "        b_43_cache = np.copy(b_43)\n",
    "        b_32_cache = np.copy(b_32)\n",
    "        b_21_cache = np.copy(b_21)\n"
   ]
  },
  {
   "cell_type": "code",
   "execution_count": 120,
   "metadata": {},
   "outputs": [
    {
     "data": {
      "text/plain": [
       "(10, 2256)"
      ]
     },
     "execution_count": 120,
     "metadata": {},
     "output_type": "execute_result"
    }
   ],
   "source": [
    "init_set.shape"
   ]
  },
  {
   "cell_type": "code",
   "execution_count": 121,
   "metadata": {},
   "outputs": [
    {
     "data": {
      "text/plain": [
       "(10, 271)"
      ]
     },
     "execution_count": 121,
     "metadata": {},
     "output_type": "execute_result"
    }
   ],
   "source": [
    "np.unique(init_set,axis = 1).shape"
   ]
  },
  {
   "cell_type": "code",
   "execution_count": 124,
   "metadata": {},
   "outputs": [
    {
     "data": {
      "text/plain": [
       "array([1., 1., 1., ..., 1., 1., 1.])"
      ]
     },
     "execution_count": 124,
     "metadata": {},
     "output_type": "execute_result"
    }
   ],
   "source": [
    "init_set[0,:]"
   ]
  },
  {
   "cell_type": "code",
   "execution_count": 125,
   "metadata": {},
   "outputs": [
    {
     "data": {
      "text/plain": [
       "array([[ 1.],\n",
       "       [-1.],\n",
       "       [ 1.],\n",
       "       [ 1.],\n",
       "       [ 1.],\n",
       "       [-1.],\n",
       "       [ 1.],\n",
       "       [ 1.],\n",
       "       [-1.],\n",
       "       [ 1.]])"
      ]
     },
     "execution_count": 125,
     "metadata": {},
     "output_type": "execute_result"
    }
   ],
   "source": [
    "d_s"
   ]
  },
  {
   "cell_type": "code",
   "execution_count": 126,
   "metadata": {},
   "outputs": [],
   "source": [
    "values, counts = np.unique(init_set, axis = 1, return_counts=True)"
   ]
  },
  {
   "cell_type": "code",
   "execution_count": 127,
   "metadata": {},
   "outputs": [
    {
     "data": {
      "text/plain": [
       "array([ 5,  7,  6,  9,  5,  8,  2,  1,  8, 12,  1,  9, 12,  4, 16,  9, 17,\n",
       "        1,  2,  4,  9,  4,  6,  4,  9,  5, 10, 15,  7,  9,  3,  2,  4, 11,\n",
       "        8,  9,  1,  5,  7, 10, 18, 14, 18,  5,  5,  3,  8,  9,  6,  6, 10,\n",
       "       14, 11,  1,  6,  8,  4,  7,  8,  8,  4,  8, 10, 12, 12, 23, 18,  3,\n",
       "        3,  2,  8,  8,  8,  3,  4,  3,  7, 12,  6, 10,  2,  4,  3,  6, 11,\n",
       "        8,  7,  3,  5,  9, 10, 12, 14, 13,  4,  2,  3,  4,  3,  4,  3, 13,\n",
       "        6,  9,  3,  6,  4,  3, 13,  8, 15,  7,  2,  5,  2, 10,  8,  4,  3,\n",
       "        3,  4,  3, 16,  9, 12, 10,  4,  4,  6,  2,  4,  1,  7,  3,  4,  6,\n",
       "        2,  2,  3,  4,  3,  2,  4,  3,  2,  6,  7,  9,  6,  2,  2,  5,  2,\n",
       "        8,  4,  1,  3,  4,  9,  9, 13,  4,  4,  3,  2,  8,  4,  9,  7,  6,\n",
       "        9,  5, 11, 11, 10,  9, 10,  3, 14, 12,  8,  8,  3,  9,  5, 12,  5,\n",
       "       10,  6, 15, 11,  8, 24,  1,  5,  4, 11,  9, 11,  5,  7,  9, 16, 15,\n",
       "       16, 22,  2,  4,  4, 17, 18,  9, 12,  9,  6,  6, 14, 32, 20, 23,  8,\n",
       "        4,  7, 11,  5,  8, 16,  6, 15, 13,  4,  7,  5, 12,  9, 13, 10,  3,\n",
       "       12, 10, 18, 19, 29, 15,  7,  2, 11, 14, 15, 17,  4, 10,  6, 16, 16,\n",
       "       17, 12,  2,  6,  5, 13, 18, 19, 18,  8,  7, 14, 28, 17, 24, 26],\n",
       "      dtype=int64)"
      ]
     },
     "execution_count": 127,
     "metadata": {},
     "output_type": "execute_result"
    }
   ],
   "source": [
    "counts"
   ]
  },
  {
   "cell_type": "code",
   "execution_count": 103,
   "metadata": {},
   "outputs": [
    {
     "data": {
      "text/plain": [
       "0"
      ]
     },
     "execution_count": 103,
     "metadata": {},
     "output_type": "execute_result"
    }
   ],
   "source": [
    "j"
   ]
  },
  {
   "cell_type": "code",
   "execution_count": 104,
   "metadata": {},
   "outputs": [
    {
     "data": {
      "text/plain": [
       "0"
      ]
     },
     "execution_count": 104,
     "metadata": {},
     "output_type": "execute_result"
    }
   ],
   "source": [
    "flag"
   ]
  },
  {
   "cell_type": "code",
   "execution_count": 105,
   "metadata": {},
   "outputs": [
    {
     "data": {
      "text/plain": [
       "array([[ 1.,  1.,  1.,  1.,  1.,  1.,  1.,  1.,  1.,  1.],\n",
       "       [ 1.,  1.,  1.,  1., -1., -1., -1.,  1.,  1.,  1.],\n",
       "       [ 1., -1., -1.,  1.,  1.,  1.,  1.,  1.,  1., -1.],\n",
       "       [-1.,  1., -1.,  1.,  1., -1.,  1., -1.,  1., -1.],\n",
       "       [ 1.,  1.,  1., -1., -1.,  1., -1., -1., -1.,  1.],\n",
       "       [ 1.,  1.,  1.,  1.,  1., -1., -1.,  1.,  1.,  1.],\n",
       "       [ 1.,  1., -1.,  1., -1.,  1., -1.,  1., -1.,  1.],\n",
       "       [ 1.,  1.,  1.,  1.,  1.,  1.,  1.,  1.,  1., -1.],\n",
       "       [ 1., -1., -1.,  1., -1., -1.,  1.,  1.,  1.,  1.],\n",
       "       [ 1., -1., -1.,  1., -1.,  1., -1.,  1.,  1.,  1.]])"
      ]
     },
     "execution_count": 105,
     "metadata": {},
     "output_type": "execute_result"
    }
   ],
   "source": [
    "d_s_gen"
   ]
  },
  {
   "cell_type": "code",
   "execution_count": 381,
   "metadata": {},
   "outputs": [
    {
     "name": "stdout",
     "output_type": "stream",
     "text": [
      "Phi_12: [[ 6.70304076e-02 -3.73388615e-01 -1.63960751e-01 -2.16131417e-01\n",
      "  -9.97556859e-03  2.76467603e-01  4.19593708e-01 -2.78304046e-02\n",
      "   1.30092957e-02 -1.51694461e-01]\n",
      " [-1.41964575e-01  7.99138412e-02  7.94223034e-02 -1.50949491e-01\n",
      "  -1.15934233e-01 -1.20204384e-01 -5.44691138e-02  1.68590382e-01\n",
      "  -5.69710922e-02 -6.88087712e-02]\n",
      " [-2.87411222e-02  2.30729124e-01  1.82844179e-01 -1.85021868e-01\n",
      "  -5.16913403e-02 -5.90269264e-02  6.32247240e-02  1.30343294e-01\n",
      "  -2.53688233e-01 -1.05411366e-01]\n",
      " [-8.60785949e-02  6.58448419e-02  6.94285080e-02 -7.02602679e-02\n",
      "  -2.75067542e-01  8.98170289e-02 -3.07255035e-01  8.23371208e-02\n",
      "  -1.41944336e-01 -8.70622018e-03]\n",
      " [ 2.96104232e-01 -5.58831697e-02 -4.57095438e-02  1.25584588e-01\n",
      "  -1.52799171e-01 -2.24888644e-01  2.08746679e-01  1.97274501e-01\n",
      "   2.36990478e-01 -1.63690976e-02]\n",
      " [ 8.73696020e-03  3.25784046e-01 -6.95272142e-02 -1.33765298e-01\n",
      "   8.27284299e-03 -2.41048524e-01  3.18509507e-01  3.34778127e-01\n",
      "  -1.86048194e-02 -1.63252750e-01]\n",
      " [ 2.42456871e-01  8.06389039e-02 -4.27022243e-02 -1.02245696e-01\n",
      "  -2.80472472e-02 -1.54861215e-01  1.18887932e-02  1.39200161e-01\n",
      "  -2.56079857e-01  4.84004420e-01]\n",
      " [ 4.42803689e-02 -2.79929357e-01  4.21831368e-01 -1.87956195e-01\n",
      "   4.56111061e-01 -2.56268014e-01 -2.99066412e-01 -3.07116185e-02\n",
      "  -3.70636223e-04 -6.67344992e-02]]\n",
      "Phi_12_cache: [[ 6.70304076e-02 -3.73388615e-01 -1.63960751e-01 -2.16131417e-01\n",
      "  -9.97556859e-03  2.76467603e-01  4.19593708e-01 -2.78304046e-02\n",
      "   1.30092957e-02 -1.51694461e-01]\n",
      " [-1.41964575e-01  7.99138412e-02  7.94223034e-02 -1.50949491e-01\n",
      "  -1.15934233e-01 -1.20204384e-01 -5.44691138e-02  1.68590382e-01\n",
      "  -5.69710922e-02 -6.88087712e-02]\n",
      " [-2.87411222e-02  2.30729124e-01  1.82844179e-01 -1.85021868e-01\n",
      "  -5.16913403e-02 -5.90269264e-02  6.32247240e-02  1.30343294e-01\n",
      "  -2.53688233e-01 -1.05411366e-01]\n",
      " [-8.60785949e-02  6.58448419e-02  6.94285080e-02 -7.02602679e-02\n",
      "  -2.75067542e-01  8.98170289e-02 -3.07255035e-01  8.23371208e-02\n",
      "  -1.41944336e-01 -8.70622018e-03]\n",
      " [ 2.96104232e-01 -5.58831697e-02 -4.57095438e-02  1.25584588e-01\n",
      "  -1.52799171e-01 -2.24888644e-01  2.08746679e-01  1.97274501e-01\n",
      "   2.36990478e-01 -1.63690976e-02]\n",
      " [ 8.73696020e-03  3.25784046e-01 -6.95272142e-02 -1.33765298e-01\n",
      "   8.27284299e-03 -2.41048524e-01  3.18509507e-01  3.34778127e-01\n",
      "  -1.86048194e-02 -1.63252750e-01]\n",
      " [ 2.42456871e-01  8.06389039e-02 -4.27022243e-02 -1.02245696e-01\n",
      "  -2.80472472e-02 -1.54861215e-01  1.18887932e-02  1.39200161e-01\n",
      "  -2.56079857e-01  4.84004420e-01]\n",
      " [ 4.42803689e-02 -2.79929357e-01  4.21831368e-01 -1.87956195e-01\n",
      "   4.56111061e-01 -2.56268014e-01 -2.99066412e-01 -3.07116185e-02\n",
      "  -3.70636223e-04 -6.67344992e-02]]\n",
      "Phi_23: [[-0.05293473  0.32280515  0.28797078  0.20498108 -0.01386009 -0.1383549\n",
      "   0.10338996 -0.00271381]\n",
      " [ 0.28521003 -0.17513073  0.08293501  0.09812352 -0.10821247 -0.10211775\n",
      "   0.06249679 -0.1447947 ]\n",
      " [-0.09101781 -0.23085073  0.28843995  0.03755586  0.06563488 -0.16588233\n",
      "   0.28286728  0.0121716 ]\n",
      " [-0.03434033 -0.16061667 -0.18910669  0.06545367 -0.24659336 -0.21142831\n",
      "   0.25469674  0.30852721]\n",
      " [ 0.18839649  0.36538453  0.07978831 -0.27066806  0.18567509  0.34699146\n",
      "   0.09453064  0.01075233]]\n",
      "Phi_34: [[-0.12193947  0.08833996  0.0293386  -0.26330606 -0.2092028 ]\n",
      " [ 0.49525778 -0.06113233 -0.17732422 -0.36736999  0.00944409]\n",
      " [-0.35568883  0.03498445  0.38344994 -0.32910543 -0.28912942]]\n",
      "b_12: [[ 0.06703041]\n",
      " [-0.14196458]\n",
      " [-0.02874112]\n",
      " [-0.08607859]\n",
      " [ 0.29610423]\n",
      " [ 0.00873696]\n",
      " [ 0.24245687]\n",
      " [ 0.04428037]]\n",
      "b_12_cache: [[ 0.06703041]\n",
      " [-0.14196458]\n",
      " [-0.02874112]\n",
      " [-0.08607859]\n",
      " [ 0.29610423]\n",
      " [ 0.00873696]\n",
      " [ 0.24245687]\n",
      " [ 0.04428037]]\n",
      "b_23: [[ 0.14089891]\n",
      " [-0.12431489]\n",
      " [ 0.16128675]\n",
      " [ 0.02919561]\n",
      " [ 0.34366632]]\n",
      "b_34: [[ 0.09489816]\n",
      " [-0.05659375]\n",
      " [-0.29049276]]\n"
     ]
    }
   ],
   "source": [
    "print (\"Phi_12: \" + str(Phi_12))\n",
    "print (\"Phi_12_cache: \" + str(Phi_12_cache))\n",
    "print (\"Phi_23: \" + str(Phi_23))\n",
    "print (\"Phi_34: \" + str(Phi_34))\n",
    "print (\"b_12: \" + str(b_12))\n",
    "print (\"b_12_cache: \" + str(b_12_cache))\n",
    "print (\"b_23: \" + str(b_23))\n",
    "print (\"b_34: \" + str(b_34))"
   ]
  },
  {
   "cell_type": "code",
   "execution_count": 382,
   "metadata": {},
   "outputs": [
    {
     "name": "stdout",
     "output_type": "stream",
     "text": [
      "Theta: [[ 0.06253023]\n",
      " [-0.01487972]\n",
      " [-0.28486964]]\n",
      "Theta_43: [[-9.94255529e-02  4.23195755e-01 -3.02006492e-01]\n",
      " [ 1.61060068e-01  5.86730450e-02  3.32050566e-03]\n",
      " [-2.01882237e-02 -1.70899744e-01  3.66044352e-01]\n",
      " [-1.54737915e-01 -3.92730503e-01 -1.02534180e-01]\n",
      " [-2.69227673e-01 -2.43616792e-05 -2.23089907e-01]]\n",
      "Theta_32: [[ 0.04354973  0.28636852  0.05405697 -0.03337999  0.21674713]\n",
      " [ 0.24610642 -0.26511892 -0.14940207 -0.0758484   0.29655569]\n",
      " [ 0.21304746  0.01641003  0.23495516 -0.05855409  0.14937039]\n",
      " [ 0.13637395  0.06217949  0.01030109  0.00979549 -0.23933665]\n",
      " [ 0.0760769  -0.11660622  0.05139357 -0.31070488  0.2403705 ]\n",
      " [-0.11264108 -0.06255997 -0.14635127 -0.14745946  0.29195211]\n",
      " [ 0.13886869 -0.14666988  0.21746681  0.11431326  0.11738221]\n",
      " [-0.08852564 -0.07800745 -0.0463812   0.30717341 -0.04243015]]\n",
      "Theta_21: [[ 0.13286708  0.00117581 -0.07153182 -0.11504868  0.40984214  0.03924191\n",
      "   0.24171774  0.04667672]\n",
      " [-0.45095442  0.1400039   0.23078029  0.06121901 -0.08989577  0.29205262\n",
      "   0.13825179 -0.35199501]\n",
      " [-0.13065779  0.08535926  0.01676895  0.08634636 -0.13083752 -0.10194365\n",
      "   0.01169844  0.47400433]\n",
      " [-0.19329056 -0.01574151 -0.23761122  0.08064619 -0.0980591  -0.19773489\n",
      "  -0.24835591 -0.17478801]\n",
      " [-0.03152015 -0.01329858 -0.06502144 -0.12252866 -0.28378829 -0.05706153\n",
      "  -0.11867815  0.50186502]\n",
      " [ 0.30155729 -0.00708133  0.10350838  0.11382838 -0.35015528 -0.21473777\n",
      "  -0.20819884 -0.28423471]\n",
      " [ 0.34218322 -0.0725304   0.29380717 -0.4014782   0.17296255  0.39418669\n",
      "   0.00629822 -0.27382471]\n",
      " [-0.02555731  0.03209088  0.11874277  0.05183913  0.15752371  0.24141658\n",
      "   0.09638898  0.04555111]\n",
      " [ 0.04683839  0.03222775 -0.19353865 -0.19764019  0.17704594 -0.0545285\n",
      "  -0.34613351  0.01043733]\n",
      " [-0.26639001 -0.14527356 -0.14824599  0.07844843 -0.02721375 -0.03278974\n",
      "   0.53500547 -0.01969523]]\n",
      "b_43: [[ 0.15911362]\n",
      " [-0.08472228]\n",
      " [ 0.2543707 ]\n",
      " [-0.14090029]\n",
      " [ 0.28007727]]\n",
      "b_32: [[-0.0633311 ]\n",
      " [-0.21939114]\n",
      " [ 0.07510792]\n",
      " [-0.05726277]\n",
      " [ 0.30822603]\n",
      " [ 0.14721005]\n",
      " [ 0.25668973]\n",
      " [ 0.09488832]]\n",
      "b_21: [[0.30272948]\n",
      " [0.64479438]\n",
      " [0.32783127]\n",
      " [0.13644589]\n",
      " [0.97504741]\n",
      " [0.48308678]\n",
      " [0.3205837 ]\n",
      " [1.23888202]\n",
      " [0.49752403]\n",
      " [0.74298852]]\n"
     ]
    }
   ],
   "source": [
    "print (\"Theta: \" + str(Theta))\n",
    "print (\"Theta_43: \" + str(Theta_43))\n",
    "print (\"Theta_32: \" + str(Theta_32))\n",
    "print (\"Theta_21: \" + str(Theta_21))\n",
    "print (\"b_43: \" + str(b_43))\n",
    "print (\"b_32: \" + str(b_32))\n",
    "print (\"b_21: \" + str(b_21))"
   ]
  },
  {
   "cell_type": "markdown",
   "metadata": {},
   "source": [
    "The model can be pre-trained in the free version to narrow down to the shortest description length, but it doesn't eliminate the failed generations (examples don't observe the well-formed rules). The goal is to form the cache (narrow down the set further) to cater to the structure of the brain (Helmholtz machine) so that the generation is accurate (well within the phenotype boundary) while keeping the diversity of generated examples (avoid the dark-room problem).\n",
    "\n",
    "There is a discrepency between the dataset and the machine capacity. The machine cannot process and generate the data distribution precisely. In order to fill in the gap, we either change the brain structure (the inner structure of the machine) or the data distribution. The sampling in active inference fulfills the later option. Here we assume the neuron connection of the brain is fixed (which is not true), namely the neural network is of some shitty, poor design (maybe some coelenterate's brain which is in a primitive stage and not been fully developed, which is a shittier analogy). But the parameters of the neuron connections are modifiable, so the internal representation is trainable which corresponds to the inference and model-fitting part of traditional statistical learning.\n",
    "\n",
    "The brain is designed as a poor processor as a driven force to change the data. If the processor is too powerful, universal let's say, then any data distribution can be learned and recovered, there is no need to reshape the data distribution by active sampling because any input signal can be fully understand (means it can be represented internally and precisely recovered by synthesis). \n",
    "\n",
    "The stochastic sampling of binary neurons is helpful to construct the shortest description length and generate the data set in a distributional sense. It means that the distribution of the generated data should be asymptotically approaching the real distribution (ideally). However, down to each single sample, the accuracy of generation is not guaranteed. Unlike VAE which is governed by local variables, the Helmholtz machine is subject to global hierarchical controls which attributs to \"1\". It may not be a good idea to compact global and local variables into one control signal but it's the potential we want to explore in Helmholtz machine.\n",
    "\n",
    "Question: how to design the training mechanism as fine-tuning? \n",
    "First, we have preferred set, which is much smaller than the well-formed set. The preferred set could be seen as a start point for the active sampling process, which means the preferred set doesn't conform to a distribution that the brain can simulate, thus the agent will active shaping the niche to conform to its cognition. Using preferred set as the initial niche, "
   ]
  },
  {
   "cell_type": "markdown",
   "metadata": {},
   "source": [
    "#### Generative Model (Preserved)\n",
    "\n",
    "We first study the generative part (sleep phase) of Helmholtz machine. It works by pure generation with feedback (the discriminator designed by well-formed rules). It works like GAN but with generative model trained with deterministic feedback. Let's see how it works."
   ]
  },
  {
   "cell_type": "code",
   "execution_count": null,
   "metadata": {},
   "outputs": [],
   "source": [
    "def generation(Theta,Theta_43,Theta_32,Theta_21,b_43,b_32,b_21,n_z,n_y,n_x,n_d,batch_size):\n",
    "    p_4 = sigmoid(Theta)\n",
    "    z = ((p_4 > np.random.rand(n_z,batch_size)).astype(int) - 0.5)*2    # rejection sampling\n",
    "    \n",
    "    p_3 = sigmoid(np.matmul(Theta_43,z) + b_43)\n",
    "    y = ((p_3 > np.random.rand(n_y,batch_size)).astype(int) - 0.5)*2\n",
    "    \n",
    "    p_2 = sigmoid(np.matmul(Theta_32,y) + b_32)\n",
    "    x = ((p_2 > np.random.rand(n_x,batch_size)).astype(int) - 0.5)*2\n",
    "    # x = np.where(p_2 > 0.5,1,-1)\n",
    "    \n",
    "    p_1 = sigmoid(np.matmul(Theta_21,x) + b_21)\n",
    "    # d = ((p_1 > np.random.rand(n_d,batch_size)).astype(int) - 0.5)*2\n",
    "    d = np.where(p_1 > 0.5,1,-1)\n",
    "    \n",
    "    P_4 = np.cumprod(np.where(z == 1,p_4,1),axis=0)[-1] * np.cumprod(np.where(z == -1,1-p_4,1),axis=0)[-1]*(1.5**n_z)\n",
    "    P_3 = np.cumprod(np.where(y == 1,p_3,1),axis=0)[-1] * np.cumprod(np.where(y == -1,1-p_3,1),axis=0)[-1]*(1.5**n_y)\n",
    "    P_2 = np.cumprod(np.where(x == 1,p_2,1),axis=0)[-1] * np.cumprod(np.where(x == -1,1-p_2,1),axis=0)[-1]*(1.5**n_x)\n",
    "    P_1 = np.cumprod(np.where(d == 1,p_1,1),axis=0)[-1] * np.cumprod(np.where(d == -1,1-p_1,1),axis=0)[-1]*(1.5**n_d)\n",
    "    \n",
    "    P = P_1 * P_2 * P_3 * P_4\n",
    "    \n",
    "    return p_4,p_3,p_2,p_1,z,y,x,d,P"
   ]
  },
  {
   "cell_type": "code",
   "execution_count": null,
   "metadata": {},
   "outputs": [],
   "source": [
    "p_4_gen,p_3_gen,p_2_gen,p_1_gen,z_s_gen,y_s_gen,x_s_gen,d_s_gen,P_gen = generation(Theta,Theta_43,Theta_32,Theta_21,b_43,b_32,b_21,n_z,n_y,n_x,n_d,test_size)\n",
    "print (\"p_4_gen: \" + str(p_4_gen[:,0:10]))\n",
    "print (\"p_3_gen: \" + str(p_3_gen[:,0:10]))\n",
    "print (\"p_2_gen: \" + str(p_2_gen[:,0:10]))\n",
    "print (\"p_1_gen: \" + str(p_1_gen[:,0:10]))\n",
    "print (\"z_s_gen: \" + str(z_s_gen[:,0:10]))\n",
    "print (\"y_s_gen: \" + str(y_s_gen[:,0:10]))\n",
    "print (\"x_s_gen: \" + str(x_s_gen[:,0:10]))\n",
    "print (\"d_s_gen: \" + str(d_s_gen[:,0:10]))\n",
    "print (\"P_gen: \" + str(P_gen[0:10]))"
   ]
  },
  {
   "cell_type": "code",
   "execution_count": 633,
   "metadata": {},
   "outputs": [],
   "source": [
    " # check if \"d_s_gen\" is in the well-formed set\n",
    "def check(d_s_gen):\n",
    "    d_s = 0\n",
    "    pattern_len = d_s_gen.shape[0]\n",
    "    for j in range(d_s_gen.shape[1]):\n",
    "        flag = 0\n",
    "        pattern = d_s_gen[:,j]\n",
    "        if pattern[0] != 1:\n",
    "            flag = 1\n",
    "            continue\n",
    "        if np.array_equal(pattern[0:3], [1,-1,-1]) or np.array_equal(pattern[-3:], [-1,-1,1]):\n",
    "            flag = 1\n",
    "            continue\n",
    "        for k in range(pattern_len - 5):\n",
    "            if np.array_equal(pattern[k:k+5],[-1,-1,1,-1,-1]):\n",
    "                flag = 1\n",
    "                break\n",
    "        if flag == 1:\n",
    "            continue\n",
    "        for k in range(pattern_len - 4):\n",
    "            if np.array_equal(pattern[k:k+4],[-1,-1,-1,-1]):\n",
    "                flag = 1\n",
    "                break\n",
    "\n",
    "        if flag == 0:\n",
    "            d_s = d_s_gen[:,j:j+1]\n",
    "            break\n",
    "    return d_s,j,flag"
   ]
  },
  {
   "cell_type": "code",
   "execution_count": null,
   "metadata": {},
   "outputs": [],
   "source": [
    "def gen_update_delta(z,y,x,d,Theta,Theta_43,Theta_32,Theta_21,b_43,b_32,b_21,lr):\n",
    "    p_4 = sigmoid(Theta)\n",
    "    Theta -= lr * (p_4 - (1+z)/2)\n",
    "    \n",
    "    p_3 = sigmoid(np.matmul(Theta_43,z) + b_43)\n",
    "    Theta_43 -= lr * np.outer((p_3 - (1+y)/2), z)\n",
    "    b_43 -= lr * (p_3 - (1+y)/2)\n",
    "    \n",
    "    p_2 = sigmoid(np.matmul(Theta_32,y) + b_32)\n",
    "    Theta_32 -= lr * np.outer((p_2 - (1+x)/2), y)\n",
    "    b_32 -= lr * (p_2 - (1+x)/2)\n",
    "    \n",
    "    p_1 = sigmoid(np.matmul(Theta_21,x) + b_21)\n",
    "    Theta_21 -= lr * np.outer((p_1 - (1+d)/2), x)\n",
    "    b_21 -= lr * (p_1 - (1+d)/2)\n",
    "    \n",
    "    return Theta,Theta_43,Theta_32,Theta_21,b_43,b_32,b_21"
   ]
  },
  {
   "cell_type": "code",
   "execution_count": null,
   "metadata": {},
   "outputs": [],
   "source": []
  }
 ],
 "metadata": {
  "kernelspec": {
   "display_name": "Python 3 (ipykernel)",
   "language": "python",
   "name": "python3"
  },
  "language_info": {
   "codemirror_mode": {
    "name": "ipython",
    "version": 3
   },
   "file_extension": ".py",
   "mimetype": "text/x-python",
   "name": "python",
   "nbconvert_exporter": "python",
   "pygments_lexer": "ipython3",
   "version": "3.11.5"
  }
 },
 "nbformat": 4,
 "nbformat_minor": 4
}
