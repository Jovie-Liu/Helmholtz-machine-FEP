{
 "cells": [
  {
   "cell_type": "code",
   "execution_count": 2,
   "id": "466a668c",
   "metadata": {},
   "outputs": [],
   "source": [
    "import numpy as np\n",
    "import matplotlib.pyplot as plt"
   ]
  },
  {
   "cell_type": "code",
   "execution_count": 20,
   "id": "aff339d5",
   "metadata": {},
   "outputs": [],
   "source": [
    "n_instr = 6\n",
    "st = 4"
   ]
  },
  {
   "cell_type": "code",
   "execution_count": 21,
   "id": "fd696d3f",
   "metadata": {},
   "outputs": [
    {
     "data": {
      "text/plain": [
       "array([ 2,  3,  4,  6,  8, 10])"
      ]
     },
     "execution_count": 21,
     "metadata": {},
     "output_type": "execute_result"
    }
   ],
   "source": [
    "step = np.array([2,3,4,6,8,10]) # same length as n_instr\n",
    "step"
   ]
  },
  {
   "cell_type": "code",
   "execution_count": 22,
   "id": "dc9d561c",
   "metadata": {},
   "outputs": [],
   "source": [
    "n_neuron = 12"
   ]
  },
  {
   "cell_type": "code",
   "execution_count": 23,
   "id": "03ef9869",
   "metadata": {},
   "outputs": [
    {
     "data": {
      "text/plain": [
       "array([6, 4, 3, 2, 1, 1])"
      ]
     },
     "execution_count": 23,
     "metadata": {},
     "output_type": "execute_result"
    }
   ],
   "source": [
    "period = (n_neuron/step).astype(int)\n",
    "period"
   ]
  },
  {
   "cell_type": "code",
   "execution_count": 32,
   "id": "c1a68e8e",
   "metadata": {},
   "outputs": [
    {
     "data": {
      "text/plain": [
       "{2: array([[0.56446758],\n",
       "        [0.457069  ],\n",
       "        [0.49377983],\n",
       "        [0.3842398 ],\n",
       "        [0.56403352],\n",
       "        [0.51888178]]),\n",
       " 3: array([[0.27463944],\n",
       "        [0.68424481],\n",
       "        [0.90349501],\n",
       "        [0.04255045]]),\n",
       " 4: array([[0.67890196],\n",
       "        [0.69249261],\n",
       "        [0.86750381]]),\n",
       " 6: array([[0.81450892],\n",
       "        [0.36538072]]),\n",
       " 8: array([[0.63499174]]),\n",
       " 10: array([[0.69943108]])}"
      ]
     },
     "execution_count": 32,
     "metadata": {},
     "output_type": "execute_result"
    }
   ],
   "source": [
    "p = {}\n",
    "for i in range(n_instr):\n",
    "    p[step[i]] = np.random.rand(period[i],1)\n",
    "p"
   ]
  },
  {
   "cell_type": "code",
   "execution_count": 54,
   "id": "462748a0",
   "metadata": {},
   "outputs": [],
   "source": [
    "n_data = 800\n",
    "keys_p = [*p]\n",
    "dataset = np.zeros((n_neuron,n_data))\n",
    "for i in range(n_instr):\n",
    "    q = p[keys_p[i]]\n",
    "    sample = (q > np.random.rand(len(q),n_data)).astype(int)\n",
    "    start = np.random.randint(st,size=n_data)\n",
    "    \n",
    "    step = keys_p[i]\n",
    "    for j in range(n_data):\n",
    "        x = np.arange(start[j],n_neuron,step)\n",
    "        dataset[x,j] += sample[:x.size,j]"
   ]
  },
  {
   "cell_type": "code",
   "execution_count": 61,
   "id": "3ccfaa1c",
   "metadata": {},
   "outputs": [],
   "source": [
    "dataset = (dataset>0).astype(int)"
   ]
  },
  {
   "cell_type": "code",
   "execution_count": 63,
   "id": "4e214d33",
   "metadata": {},
   "outputs": [
    {
     "data": {
      "text/plain": [
       "array([0.65375, 0.64875, 0.68625, 0.75375, 0.48375, 0.48375, 0.64875,\n",
       "       0.54   , 0.6375 , 0.65875, 0.59125, 0.63875])"
      ]
     },
     "execution_count": 63,
     "metadata": {},
     "output_type": "execute_result"
    }
   ],
   "source": [
    "dataset.sum(axis=1)/n_data"
   ]
  },
  {
   "cell_type": "markdown",
   "id": "97185631",
   "metadata": {},
   "source": [
    "### New Attempt"
   ]
  },
  {
   "cell_type": "code",
   "execution_count": 3,
   "id": "4632ef2c",
   "metadata": {},
   "outputs": [
    {
     "data": {
      "text/plain": [
       "array([2, 3, 4])"
      ]
     },
     "execution_count": 3,
     "metadata": {},
     "output_type": "execute_result"
    }
   ],
   "source": [
    "step = np.array([2,3,4]) # same length as n_instr\n",
    "step"
   ]
  },
  {
   "cell_type": "code",
   "execution_count": 4,
   "id": "f7c301af",
   "metadata": {},
   "outputs": [
    {
     "data": {
      "text/plain": [
       "array([6, 4, 3])"
      ]
     },
     "execution_count": 4,
     "metadata": {},
     "output_type": "execute_result"
    }
   ],
   "source": [
    "n_neuron = 12\n",
    "period = (n_neuron/step).astype(int)\n",
    "period"
   ]
  },
  {
   "cell_type": "code",
   "execution_count": 154,
   "id": "b687dcc7",
   "metadata": {},
   "outputs": [],
   "source": [
    "n_data = 500"
   ]
  },
  {
   "cell_type": "code",
   "execution_count": 155,
   "id": "744dc62f",
   "metadata": {},
   "outputs": [],
   "source": [
    "d = np.zeros((n_neuron,n_data),dtype=int)\n",
    "for i in range(step.size):\n",
    "    d[np.arange(0,n_neuron,step[i]),:] += (np.random.rand(period[i],n_data)>0.5).astype(int)\n",
    "dataset1 = (d>0).astype(int)"
   ]
  },
  {
   "cell_type": "code",
   "execution_count": 156,
   "id": "b01ce202",
   "metadata": {},
   "outputs": [
    {
     "data": {
      "text/plain": [
       "array([0.88 , 0.   , 0.462, 0.48 , 0.768, 0.   , 0.73 , 0.   , 0.71 ,\n",
       "       0.448, 0.514, 0.   ])"
      ]
     },
     "execution_count": 156,
     "metadata": {},
     "output_type": "execute_result"
    }
   ],
   "source": [
    "dataset1.sum(axis=1)/n_data"
   ]
  },
  {
   "cell_type": "code",
   "execution_count": 157,
   "id": "96e52f8d",
   "metadata": {},
   "outputs": [],
   "source": [
    "d = np.zeros((n_neuron,n_data),dtype=int)\n",
    "d[np.arange(1,n_neuron,step[0]),:] += (np.random.rand(period[0],n_data)>0.5).astype(int)\n",
    "for i in range(1,step.size):\n",
    "    d[np.arange(0,n_neuron,step[i]),:] += (np.random.rand(period[i],n_data)>0.5).astype(int)\n",
    "dataset2 = (d>0).astype(int)"
   ]
  },
  {
   "cell_type": "code",
   "execution_count": 158,
   "id": "9907e7fb",
   "metadata": {},
   "outputs": [
    {
     "data": {
      "text/plain": [
       "array([0.742, 0.488, 0.   , 0.776, 0.52 , 0.488, 0.544, 0.522, 0.532,\n",
       "       0.726, 0.   , 0.508])"
      ]
     },
     "execution_count": 158,
     "metadata": {},
     "output_type": "execute_result"
    }
   ],
   "source": [
    "dataset2.sum(axis=1)/n_data"
   ]
  },
  {
   "cell_type": "code",
   "execution_count": 159,
   "id": "d5dee6ad",
   "metadata": {},
   "outputs": [
    {
     "data": {
      "text/plain": [
       "(12, 1000)"
      ]
     },
     "execution_count": 159,
     "metadata": {},
     "output_type": "execute_result"
    }
   ],
   "source": [
    "dataset = np.append(dataset1,dataset2,axis=1)\n",
    "dataset.shape"
   ]
  },
  {
   "cell_type": "code",
   "execution_count": 160,
   "id": "58043059",
   "metadata": {},
   "outputs": [
    {
     "data": {
      "text/plain": [
       "array([0.811, 0.244, 0.231, 0.628, 0.644, 0.244, 0.637, 0.261, 0.621,\n",
       "       0.587, 0.257, 0.254])"
      ]
     },
     "execution_count": 160,
     "metadata": {},
     "output_type": "execute_result"
    }
   ],
   "source": [
    "dataset.sum(axis=1)/(n_data*2)"
   ]
  },
  {
   "cell_type": "code",
   "execution_count": null,
   "id": "00d55125",
   "metadata": {},
   "outputs": [],
   "source": []
  }
 ],
 "metadata": {
  "kernelspec": {
   "display_name": "Python 3 (ipykernel)",
   "language": "python",
   "name": "python3"
  },
  "language_info": {
   "codemirror_mode": {
    "name": "ipython",
    "version": 3
   },
   "file_extension": ".py",
   "mimetype": "text/x-python",
   "name": "python",
   "nbconvert_exporter": "python",
   "pygments_lexer": "ipython3",
   "version": "3.11.5"
  }
 },
 "nbformat": 4,
 "nbformat_minor": 5
}
