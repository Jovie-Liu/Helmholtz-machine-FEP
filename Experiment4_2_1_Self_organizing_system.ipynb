{
 "cells": [
  {
   "cell_type": "markdown",
   "id": "fca6df78",
   "metadata": {},
   "source": [
    "***\n",
    "*Project:* Helmholtz Machine on Niche Construction\n",
    "\n",
    "*Author:* Jingwei Liu, Computer Music Ph.D., UC San Diego\n",
    "***\n",
    "\n",
    "# <span style=\"background-color:darkorange; color:white; padding:2px 6px\">Experiment 4_2_1</span> \n",
    "\n",
    "# Helmholtz Machine on Self-organizing System without Root\n",
    "\n",
    "In this experiment, the self-organizing system doesn't root on any fixed dataset, instead it uses its pure sampled instances as dataset on each iteration. The question is, given the dataset size, can we find the best subset that the model could fit? This problem is not trivial, as even if we remove the restriction of fixed set, its still impossible for the model to traverse the whole space and construct the optimal subsapce in one training process. Here we perform an extension on datasize first then concentrate it on its original size. By performing it back and forth, we distrurb the parameters from its local optima to a better optimal status globally. \n",
    "\n",
    "*Created:* December 27, 2023\n",
    "\n",
    "*Updated:* December 27, 2023"
   ]
  },
  {
   "cell_type": "code",
   "execution_count": 1,
   "id": "118f818e",
   "metadata": {},
   "outputs": [],
   "source": [
    "import numpy as np\n",
    "import matplotlib.pyplot as plt\n",
    "import utils as ut"
   ]
  },
  {
   "cell_type": "code",
   "execution_count": 2,
   "id": "e5cb0071",
   "metadata": {},
   "outputs": [
    {
     "data": {
      "text/plain": [
       "array([[12, 10,  8,  7,  5,  4,  3,  1]])"
      ]
     },
     "execution_count": 2,
     "metadata": {},
     "output_type": "execute_result"
    }
   ],
   "source": [
    "structure = [[12,10,8,7,5,4,3,1]]\n",
    "n_dz = np.array(structure)\n",
    "n_dz"
   ]
  },
  {
   "cell_type": "code",
   "execution_count": 3,
   "id": "3e0d756b",
   "metadata": {},
   "outputs": [],
   "source": [
    "value_set = [1,0]\n",
    "activation_type = \"tanh\"\n",
    "bias = [False,False,False] # [instantiation bias, MLP bias,data bias]"
   ]
  },
  {
   "cell_type": "code",
   "execution_count": 6,
   "id": "c94153d9",
   "metadata": {},
   "outputs": [],
   "source": [
    "n = n_dz[0,0]"
   ]
  },
  {
   "cell_type": "code",
   "execution_count": 7,
   "id": "45b71b08",
   "metadata": {},
   "outputs": [],
   "source": [
    "entire_set = ut.all_comb(n, value_set)"
   ]
  },
  {
   "cell_type": "markdown",
   "id": "fa978494",
   "metadata": {},
   "source": [
    "Self-organizing System:"
   ]
  },
  {
   "cell_type": "code",
   "execution_count": 8,
   "id": "30e8efb5",
   "metadata": {},
   "outputs": [],
   "source": [
    "Phi, Theta = ut.parameter_initialization(\"zero\",n_dz)  # \"zero\" or \"random\""
   ]
  },
  {
   "cell_type": "code",
   "execution_count": 81,
   "id": "b1e7a887",
   "metadata": {},
   "outputs": [],
   "source": [
    "lr = 0.01\n",
    "epoch = 50"
   ]
  },
  {
   "cell_type": "code",
   "execution_count": 87,
   "id": "3ec80396",
   "metadata": {},
   "outputs": [],
   "source": [
    "update_rate = 100 # after how many epochs we update evidence\n",
    "d_size = 600 # how many new samples to add at each update"
   ]
  },
  {
   "cell_type": "code",
   "execution_count": 88,
   "id": "08b49ba4",
   "metadata": {},
   "outputs": [],
   "source": [
    "dataset = ut.generate(d_size,n_dz,value_set,Theta,activation_type,bias)"
   ]
  },
  {
   "cell_type": "code",
   "execution_count": 89,
   "id": "394d73b2",
   "metadata": {},
   "outputs": [],
   "source": [
    "# rate of dataset size expansion\n",
    "diff_criteria = 5\n",
    "n_add = 10\n",
    "prev_n_sampled = 0\n",
    "prev_perct = 0\n",
    "# rev = 0\n",
    "hold = 3"
   ]
  },
  {
   "cell_type": "code",
   "execution_count": 90,
   "id": "b2106d8d",
   "metadata": {},
   "outputs": [
    {
     "name": "stdout",
     "output_type": "stream",
     "text": [
      "New sampled: 818 dataset size: 600 sample difference: 3 percentage: 0.9959166666666667\n",
      "New sampled: 1138 dataset size: 600 sample difference: 16 percentage: 0.9856333333333334\n",
      "New sampled: 1123 dataset size: 600 sample difference: 18 percentage: 0.9797\n",
      "New sampled: 1076 dataset size: 600 sample difference: 9 percentage: 0.9768833333333333\n",
      "New sampled: 1001 dataset size: 600 sample difference: 3 percentage: 0.97795\n",
      "New sampled: 960 dataset size: 600 sample difference: 3 percentage: 0.9803166666666666\n",
      "New sampled: 924 dataset size: 600 sample difference: 2 percentage: 0.9805166666666667\n",
      "New sampled: 944 dataset size: 610 sample difference: 3 percentage: 0.9800333333333333\n",
      "New sampled: 948 dataset size: 610 sample difference: 1 percentage: 0.9846229508196721\n",
      "New sampled: 941 dataset size: 610 sample difference: 2 percentage: 0.984655737704918\n",
      "New sampled: 936 dataset size: 610 sample difference: 2 percentage: 0.984983606557377\n",
      "New sampled: 893 dataset size: 610 sample difference: 2 percentage: 0.9855081967213115\n",
      "New sampled: 867 dataset size: 610 sample difference: 2 percentage: 0.9855081967213115\n",
      "New sampled: 869 dataset size: 620 sample difference: 2 percentage: 0.9857704918032787\n",
      "New sampled: 865 dataset size: 620 sample difference: 7 percentage: 0.9852903225806452\n",
      "New sampled: 850 dataset size: 620 sample difference: 7 percentage: 0.9845967741935484\n",
      "New sampled: 875 dataset size: 620 sample difference: 7 percentage: 0.9838225806451613\n",
      "New sampled: 862 dataset size: 620 sample difference: 7 percentage: 0.9830645161290322\n",
      "New sampled: 871 dataset size: 620 sample difference: 6 percentage: 0.9831290322580645\n",
      "New sampled: 856 dataset size: 620 sample difference: 5 percentage: 0.9836935483870968\n",
      "New sampled: 854 dataset size: 620 sample difference: 6 percentage: 0.983241935483871\n",
      "New sampled: 818 dataset size: 620 sample difference: 5 percentage: 0.9849032258064516\n",
      "New sampled: 827 dataset size: 620 sample difference: 4 percentage: 0.9831129032258065\n",
      "New sampled: 831 dataset size: 620 sample difference: 6 percentage: 0.9844193548387097\n",
      "New sampled: 815 dataset size: 620 sample difference: 5 percentage: 0.9845645161290323\n",
      "New sampled: 793 dataset size: 620 sample difference: 5 percentage: 0.9848064516129033\n",
      "New sampled: 803 dataset size: 620 sample difference: 6 percentage: 0.984225806451613\n",
      "New sampled: 822 dataset size: 620 sample difference: 6 percentage: 0.9845967741935484\n",
      "New sampled: 834 dataset size: 620 sample difference: 4 percentage: 0.9834838709677419\n",
      "New sampled: 826 dataset size: 620 sample difference: 4 percentage: 0.9843709677419354\n",
      "New sampled: 794 dataset size: 620 sample difference: 3 percentage: 0.9853709677419354\n",
      "New sampled: 805 dataset size: 620 sample difference: 6 percentage: 0.9845645161290323\n",
      "New sampled: 793 dataset size: 620 sample difference: 3 percentage: 0.9850967741935484\n",
      "New sampled: 781 dataset size: 620 sample difference: 5 percentage: 0.9842580645161291\n",
      "New sampled: 801 dataset size: 620 sample difference: 6 percentage: 0.983741935483871\n",
      "New sampled: 819 dataset size: 620 sample difference: 4 percentage: 0.985241935483871\n",
      "New sampled: 825 dataset size: 620 sample difference: 2 percentage: 0.9836935483870968\n",
      "New sampled: 823 dataset size: 620 sample difference: 4 percentage: 0.9839516129032259\n",
      "New sampled: 804 dataset size: 620 sample difference: 3 percentage: 0.9843870967741936\n",
      "New sampled: 783 dataset size: 620 sample difference: 5 percentage: 0.9847258064516129\n",
      "New sampled: 812 dataset size: 620 sample difference: 4 percentage: 0.982516129032258\n",
      "New sampled: 801 dataset size: 620 sample difference: 5 percentage: 0.984225806451613\n",
      "New sampled: 809 dataset size: 620 sample difference: 3 percentage: 0.9843548387096774\n",
      "New sampled: 801 dataset size: 620 sample difference: 5 percentage: 0.9849193548387096\n",
      "New sampled: 788 dataset size: 620 sample difference: 3 percentage: 0.9847096774193549\n",
      "New sampled: 792 dataset size: 620 sample difference: 5 percentage: 0.9853387096774193\n",
      "New sampled: 792 dataset size: 620 sample difference: 5 percentage: 0.9840806451612903\n",
      "New sampled: 819 dataset size: 620 sample difference: 4 percentage: 0.9850967741935484\n",
      "New sampled: 820 dataset size: 620 sample difference: 5 percentage: 0.9846451612903225\n",
      "New sampled: 833 dataset size: 620 sample difference: 3 percentage: 0.9842096774193548\n"
     ]
    }
   ],
   "source": [
    "for e in range(epoch):\n",
    "    new_sampled = np.zeros((n,d_size*update_rate))\n",
    "#     Loss_Q_total = np.zeros(n_layer)\n",
    "#     Loss_P_total = np.zeros(n_layer)\n",
    "\n",
    "    for r in range (update_rate):\n",
    "        index = np.random.permutation(d_size)\n",
    "        for i in range(d_size):\n",
    "            d0 = dataset[:,index[i]:index[i]+1]\n",
    "            Alpha_Q = ut.wake_sample(n_dz,d0,value_set,Phi,activation_type,bias)\n",
    "            Theta,Loss_P = ut.sleep_update_delta(Theta,Alpha_Q,lr,n_dz,value_set,activation_type,bias)\n",
    "            Alpha_P = ut.sleep_sample(n_dz,value_set,Theta,activation_type,bias)\n",
    "            Phi,Loss_Q = ut.wake_update_delta(Phi,Alpha_P,lr,n_dz,value_set,activation_type,bias)\n",
    "\n",
    "            new_sampled[:,i+d_size*r:i+d_size*r+1] = Alpha_P['z0']\n",
    "\n",
    "    values,counts = np.unique(new_sampled,axis=1,return_counts = True)\n",
    "    n_sampled = counts.size\n",
    "    new_samples = values[:,np.argsort(counts)[-d_size:]]\n",
    "    perct = counts[np.argsort(counts)[-d_size:]].sum()/counts.sum()\n",
    "    n_diff = np.unique(np.append(dataset,new_samples,axis=1),axis=1).shape[1] - d_size\n",
    "    \n",
    "    if n_diff < diff_criteria:\n",
    "        rev += 1\n",
    "        if rev > hold:\n",
    "            if prev_n_sampled < n_sampled or prev_perct > perct:\n",
    "                d_size += n_add\n",
    "                new_samples = values[:,np.argsort(counts)[-d_size:]]\n",
    "                rev = 0\n",
    "    else:\n",
    "        rev = 0\n",
    "    prev_n_sampled = n_sampled\n",
    "    prev_perct = perct\n",
    "    \n",
    "    if n_sampled < d_size:\n",
    "        print('Complete')\n",
    "        break\n",
    "    dataset = new_samples  # renew dataset\n",
    "    print('New sampled: ' + str(n_sampled),'dataset size: ' + str(d_size),'sample difference: ' + str(n_diff), 'percentage: ' + str(perct))"
   ]
  },
  {
   "cell_type": "code",
   "execution_count": 57,
   "id": "36b93940",
   "metadata": {},
   "outputs": [
    {
     "data": {
      "text/plain": [
       "0.97304"
      ]
     },
     "execution_count": 57,
     "metadata": {},
     "output_type": "execute_result"
    }
   ],
   "source": [
    "prev_perct"
   ]
  },
  {
   "cell_type": "code",
   "execution_count": 45,
   "id": "55ef98ee",
   "metadata": {},
   "outputs": [],
   "source": [
    "n_sample = 10000\n",
    "generation = ut.generate(n_sample,n_dz,value_set,Theta,activation_type,bias)\n",
    "reordered_set = ut.reorder_all_comb(entire_set,dataset)\n",
    "distribution,data_dist,statistics, MSE, ABS_Error = ut.metrics(generation,reordered_set,dataset)\n",
    "values_t, counts_t = np.unique(distribution, return_counts=True)\n",
    "values_d, counts_d  = np.unique(data_dist, return_counts=True)\n",
    "counts_t = counts_t/n_sample*d_size"
   ]
  },
  {
   "cell_type": "code",
   "execution_count": 46,
   "id": "35ce6e03",
   "metadata": {},
   "outputs": [
    {
     "data": {
      "text/plain": [
       "<matplotlib.legend.Legend at 0x1429bff2190>"
      ]
     },
     "execution_count": 46,
     "metadata": {},
     "output_type": "execute_result"
    },
    {
     "data": {
      "image/png": "[encoded data removed]",
      "text/plain": [
       "<Figure size 1800x1000 with 1 Axes>"
      ]
     },
     "metadata": {},
     "output_type": "display_data"
    }
   ],
   "source": [
    "# visualization\n",
    "x_lim = reordered_set.shape[1]\n",
    "n_ticks = 8\n",
    "xtick = np.arange(0,x_lim,int(x_lim/n_ticks/100+0.5)*100)\n",
    "xtick[np.argmin(np.abs(xtick - values_d.size))] = values_d.size\n",
    "xtick[-1] = x_lim\n",
    "\n",
    "fig, ax = plt.subplots(figsize=(18, 10))\n",
    "ax.bar(values_d,counts_d,label = \"Ground Truth\")\n",
    "ax.bar(values_t,counts_t,label = \"Generation\")\n",
    "ax.set(xlim=(0, x_lim), xticks=xtick)\n",
    "plt.legend()"
   ]
  },
  {
   "cell_type": "code",
   "execution_count": 47,
   "id": "c0635af2",
   "metadata": {},
   "outputs": [
    {
     "data": {
      "text/plain": [
       "{'percent': 0.964,\n",
       " 'FN': array([], dtype=int32),\n",
       " 'n_fn': 0,\n",
       " 'FP': array([[ 562,  964, 1207, 1288, 1289, 1290, 1291, 1306, 1307, 1320, 1321,\n",
       "         1337, 1349, 1350, 1351, 1352, 1366, 1367, 1381, 1382, 1395, 1397,\n",
       "         1398, 1409, 1411, 1412, 1427, 1428, 1440, 1441, 1442, 1443, 1457,\n",
       "         1458, 1459, 1473, 1487, 1489, 1502, 1503, 1516, 1518, 1519, 1785,\n",
       "         1786, 1787, 1788, 1790, 1800, 1816, 1823, 1836, 1838, 1849, 1851,\n",
       "         1852, 1854, 1855, 1861, 1875, 1880, 1881, 1885, 1893, 1897, 1898,\n",
       "         1905, 1912, 1913, 1919, 1928, 1929, 1948, 1962, 1965, 1966, 1978,\n",
       "         1979, 1981, 2009, 2014, 2199, 2296, 2297, 2298, 2299, 2310, 2311,\n",
       "         2324, 2325, 2326, 2327, 2336, 2353, 2354, 2355, 2364, 2366, 2367,\n",
       "         2380, 2381, 2382, 2383, 2395, 2398, 2408, 2409, 2410, 2411, 2420,\n",
       "         2422, 2423, 2424, 2426, 2427, 2436, 2437, 2438, 2439, 2448, 2451,\n",
       "         2454, 2464, 2465, 2466, 2467, 2481, 2482, 2483, 2492, 2493, 2494,\n",
       "         2495, 2506, 2507, 2776, 2799, 2809, 2813, 2824, 2826, 2862, 2872,\n",
       "         2883, 2887, 2904, 2920, 2952, 2955, 2956, 2971, 2981, 2988, 3000,\n",
       "         3019, 3021, 3288, 3290, 3291, 3297, 3301, 3303, 3304, 3310, 3325,\n",
       "         3332, 3333, 3334, 3335, 3337, 3340, 3347, 3350, 3352, 3353, 3354,\n",
       "         3355, 3359, 3420, 3421, 3422, 3423, 3440, 3441, 3442, 3444, 3449,\n",
       "         3450, 3479, 3621, 3666, 3670, 3713, 3714, 3716, 3717, 3718, 3720,\n",
       "         3728, 3730, 3731, 3732, 3734, 3741, 3745, 3750, 3751, 3762, 3763,\n",
       "         3764, 3788, 3895, 4046, 4051, 4052, 4068, 4071, 4081, 4095],\n",
       "        [   1,    1,    1,    1,    1,    1,    1,    1,    7,    2,    4,\n",
       "            4,    1,    2,    3,    3,    1,    2,    3,    2,    1,    2,\n",
       "            3,    1,    1,    2,    2,    3,    1,    2,    1,    8,    1,\n",
       "            1,    6,    2,    1,    3,    3,    1,    1,    3,    4,    1,\n",
       "            1,    1,    1,    1,    1,    1,    1,    1,    1,    1,    1,\n",
       "            1,    1,    1,    1,    1,    1,    1,    1,    1,    1,    2,\n",
       "            1,    1,    1,    2,    1,    1,    1,    1,    2,    1,    1,\n",
       "            1,    1,    1,    2,    1,    3,    6,    3,    5,    1,    1,\n",
       "            1,    2,    2,    1,    1,    1,    1,    2,    1,    1,    1,\n",
       "            1,    2,    1,    2,    1,    1,    3,    4,    6,    5,    1,\n",
       "            2,    1,    1,    1,    1,    5,    4,    2,    4,    1,    1,\n",
       "            1,    1,    4,    1,    1,    1,    1,    1,    1,    3,    2,\n",
       "            2,    1,    1,    1,    1,    1,    1,    1,    1,    1,    1,\n",
       "            1,    1,    1,    1,    1,    1,    1,    1,    1,    1,    1,\n",
       "            1,    1,    1,    1,    1,    1,    1,    1,    1,    1,    2,\n",
       "            1,    5,    7,    1,    1,    1,    1,    1,    2,    2,    3,\n",
       "            3,    1,    2,    4,    1,    2,    4,    1,    2,    2,    1,\n",
       "            2,    1,    1,    1,    1,    1,    1,    2,    1,    1,    1,\n",
       "            1,    1,    2,    2,    2,    1,    1,    1,    1,    1,    2,\n",
       "            1,    1,    1,    1,    2,    1,    1,    1,    1,    1]],\n",
       "       dtype=int64),\n",
       " 'n_fp': 219}"
      ]
     },
     "execution_count": 47,
     "metadata": {},
     "output_type": "execute_result"
    }
   ],
   "source": [
    "statistics"
   ]
  },
  {
   "cell_type": "code",
   "execution_count": 48,
   "id": "272f20f6",
   "metadata": {},
   "outputs": [
    {
     "data": {
      "text/plain": [
       "0.1157252"
      ]
     },
     "execution_count": 48,
     "metadata": {},
     "output_type": "execute_result"
    }
   ],
   "source": [
    "MSE"
   ]
  },
  {
   "cell_type": "code",
   "execution_count": 419,
   "id": "f49e6428",
   "metadata": {},
   "outputs": [],
   "source": [
    "# parameters = {'Phi': Phi, 'Theta': Theta}\n",
    "# np.save('self_org_dataset_97.npy',dataset)\n",
    "# np.save('self_org_parameters_97.npy',parameters)"
   ]
  },
  {
   "cell_type": "code",
   "execution_count": null,
   "id": "57652d86",
   "metadata": {},
   "outputs": [],
   "source": []
  }
 ],
 "metadata": {
  "kernelspec": {
   "display_name": "Python 3 (ipykernel)",
   "language": "python",
   "name": "python3"
  },
  "language_info": {
   "codemirror_mode": {
    "name": "ipython",
    "version": 3
   },
   "file_extension": ".py",
   "mimetype": "text/x-python",
   "name": "python",
   "nbconvert_exporter": "python",
   "pygments_lexer": "ipython3",
   "version": "3.11.5"
  }
 },
 "nbformat": 4,
 "nbformat_minor": 5
}
