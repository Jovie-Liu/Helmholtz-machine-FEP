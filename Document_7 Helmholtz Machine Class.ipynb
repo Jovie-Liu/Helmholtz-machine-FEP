{
 "cells": [
  {
   "cell_type": "markdown",
   "id": "af70d803",
   "metadata": {},
   "source": [
    "***\n",
    "*Project:* Helmholtz Machine on Niche Construction\n",
    "\n",
    "*Author:* Jingwei Liu, Computer Music Ph.D., UC San Diego\n",
    "***\n",
    "\n",
    "# <span style=\"background-color:darkorange; color:white; padding:2px 6px\">Document 7</span> \n",
    "\n",
    "# Helmholtz Machine Class\n",
    "\n",
    "In this version, we made some improvements based on previous development and experiments:\n",
    "\n",
    "- We struggled with adding bias to different types of layers, including instantiation layer, MLP hidden layer, data layer. Based on our first round of experiments, the effect of having bias seems ambiguous, only data bias improved the model performance. In this version, we got rid of the confusing and redundant bias choice, integrating it into a more scientific framework -- batch normalization. By performing batch normalization, we recentered the pre-activation term in each layer which gives better structured layer values and derivatives. By adaptive scaling and bias, we attain some control over the mean and variance of all layers.\n",
    "- In the previous version, we pointed out the effect and variability of binary outcomes of sampling layers. We tried to change the classical binary outcomes {0,1} to {-1,1}, and hoped for better performance. However, the modified values seem down-performed the vanillas version for certain reasons. In this version, we add an option to parameterize the binary outcomes of each sampling layer, which may improve the results comparing to predefined values.\n",
    "- We retained the deep structure of hidden layers, although this feature didn't make much difference in the control experiments. As means to promote the correlation between two adjacent sampling layers, we believe this feature will take effect in following experiments.\n",
    "\n",
    "Something new:\n",
    "\n",
    "- **Adaptive learning rate.** In the previous experiments, we set the learning rate manually, which is quite inconvenient and confusing, since it's difficult to know what learning rate is suitable and when to change it. Due to the nature of wake-sleep algorithm, it's infeasible to train a decreasing loss curve and use it to evaluate the model performance. In this version we take the advantage of Taylor expansion and designed some mechanism to modify the learning rate. This feature is applicable to parameter-specific learning rate design (instead of one learning rate for all parameters), but this feature is still under test.\n",
    "\n",
    "- **Layer normalization learning rate.** In Document 6, we pointed out that the values of derivatives are not necessary for achieving decreasing loss, only its sign (+ or -) matters. In this version we made our first attempt on this feature. For the parameter matrix $W$, its rows are normalized by batch normalization, while the inside row distribution is not modifiable. We designed a layer-norm learning rate, which adjusts the learning rate of each parameter within a row separately to diversify the row distribution, namely increasing its entropy.\n",
    "\n",
    "- **MI (mutual information) diversifying training algorithm.** Experimented on the wake-sleep algorithm in previous experiments, it produces too many outliers due to its training on stochastic sampling. It works in certain cases but not applicable to any data distribution. Therefore, based on my understanding, I proposed a new traning algorithm based on maximizing mutual information of adjacent sampling layers, and hope this algorithm could improve model performance and training accuracy."
   ]
  },
  {
   "cell_type": "code",
   "execution_count": 1,
   "id": "96291179",
   "metadata": {},
   "outputs": [],
   "source": [
    "import numpy as np\n",
    "import matplotlib.pyplot as plt"
   ]
  },
  {
   "cell_type": "markdown",
   "id": "3904cb37",
   "metadata": {},
   "source": [
    "The model structure looks like below:\n",
    "\n",
    "<img src=\"Modern.jpg\" style=\"width:800px\">\n",
    "<caption><center> **Figure 1**: Modern Helmholtz Machine. Blue neurons represent sampling layers, where the neurons take binary values. Orange neurons indicate the inserted activations, where the neurons take value in real numbers in given range.    </center></caption>"
   ]
  },
  {
   "cell_type": "markdown",
   "id": "6a9a31b6",
   "metadata": {},
   "source": [
    "The skeleton of the model is given by the sampling layers (blue neurons) where each neuron represents a Bernoulli variable. \n",
    "\n",
    "<img src=\"Helm_global.jpg\" style=\"width:700px\">\n",
    "<caption><center> **Figure 2**: External structure of the Helmholtz Machine, composed of sampling layers. Each adjacent pair may be concatenated by hidden activation layers.    </center></caption>"
   ]
  },
  {
   "cell_type": "markdown",
   "id": "93d965bf",
   "metadata": {},
   "source": [
    "The internal structure of adjacent sampling layers:\n",
    "\n",
    "<img src=\"muti-bernoulli.jpg\" style=\"width:800px\">\n",
    "<caption><center> **Figure 3**: Multivariate Bernoulli Distribution. In wake phase, we go from input $\\mathbf{x}$ to output $\\mathbf{y}$ by weight $\\Phi$. Blue neurons represent sampling layers, where each neuron takes binary value and is computed as an independent Bernoulli variable. Orange neurons are inserted activations, which transform a shallow neural network with one-step prameter updating to deep neural network with backpropogation.\n",
    "</center></caption>"
   ]
  },
  {
   "cell_type": "markdown",
   "id": "a255f1cb",
   "metadata": {},
   "source": [
    "The computation and parameter updation of the Helmholtz machine is layer-separated by instance sampling. Therefore, the programming architecture of this model is modular -- we perform all functions on the submodule in Figure 3 then assemble them as the skeleton in Figure 2 to achieve the Helmholtz machine as shown in Figure 1. The `Helmholtz_machine class` describes this skeleton in Figure 2."
   ]
  },
  {
   "cell_type": "code",
   "execution_count": 2,
   "id": "57b1e5d6",
   "metadata": {},
   "outputs": [],
   "source": [
    "def sigmoid(x):\n",
    "    y = 1/(1+np.exp(-x))\n",
    "    return y"
   ]
  },
  {
   "cell_type": "markdown",
   "id": "161be893",
   "metadata": {},
   "source": [
    "#### Define model structure\n",
    "\n",
    "n_dz -- number of neurons for each layer, numpy array of shape (n+1,m), where m is the number of instantiation layers, \n",
    "n is the maximum number of inserted layers between adjacent instantiation layers.\n",
    "\n",
    "A neural network in Figure 1 has structure ndarray:\n",
    "$$\n",
    "n_{dz} = \n",
    "\\begin{pmatrix}\n",
    "10 & 8 & 6 & 3 & 1 \\\\\n",
    "9 & 0 & 5 & 0 & 0 \\\\\n",
    "0 & 0 & 4 & 0 & 0  \\\\\n",
    "\\end{pmatrix}\n",
    "$$\n",
    "\n",
    "The first row gives the number of neurons in each instantiation layer. The second row represents the first inserted layer, and there is a 9-neuron layer inserted between $d_0$ and $z_1$, a 5-neuron layer inserted between $z_2$ and $z_3$. The third row represents the second inserted layer, and there is only one 4-neuron layer inserted between $z_2$ and $z_3$ above the first 5-neuron inserted layer. Obviously, $n_{dz}(i,k) \\ne 0$ if and only if $n_{dz}(i,j) \\ne 0, \\forall j < k$; the last column of  $n_{dz}$ is all zero except for the value in the first row."
   ]
  },
  {
   "cell_type": "markdown",
   "id": "12ca19f5",
   "metadata": {},
   "source": [
    "In this class, we have following quantities for computation:\n",
    "\n",
    "- Parameters\n",
    "    - Matrix $\\phi$, of shape $(n_l,n_x+2)$. The first $(n_l,n_x)$ is weight matrix from layer $x$ to $l$, penultimate column $(n_l,1)$ is adaptive bias, last column $(n_l,1)$ is adaptive scale. Matrix $\\phi$'s are for every concatenated layers, dictionary of dictionary.\n",
    "    - Binary outcomes of every sampling layer, matrix $Scalar$ of shape $(n_{layer},2)$, in this example $n_{layer}=5$. This matrix, the sampled binary values, are shared between wake and sleep phases.\n",
    "    \n",
    "- Statistics\n",
    "    - Batch normalization statistics, statistical mean and variance of each layer, matrix $norm$ of shape $(n_l,3)$, same length as parameter set. First column is batch summation $\\sum_i z_i$; second column is batch square sum $\\sum_i z_i^2$; third column is fixed bias placeholder that pulls the pre-activition mean to $0$. Separate statistics for wake and sleep phases, dictionary of dictionary.\n",
    "    - Learning rate update criteria. \n",
    "    - Latent assignment distribution\n",
    "- Control variables\n",
    "    - add_norm: control whether to add the current instance to batch normalization counts.\n",
    "    - \n",
    "    - learning rate: assign different learning rate to each submodule, matrix of shape $(2,n_{layer}-1)$. First row stores lr for wake phase modules (last entry is idle), 3 modules; second row stores lr for sleep phase modules, 4 modules.\n",
    "    \n",
    "- Derivatives\n",
    "    - "
   ]
  },
  {
   "cell_type": "code",
   "execution_count": 394,
   "id": "e0206308",
   "metadata": {},
   "outputs": [],
   "source": [
    "def one_step_para_init(n_dz_slice,init_type):\n",
    "    \"\"\"\n",
    "    Arguments:\n",
    "    n_dz_slice -- 2 columns of n_dz\n",
    "    init_type -- \"zero\" or \"random\", \"zero\" assigns 0 to all parameters, \"random\" samples from standard Gaussian\n",
    "\n",
    "    Returns:\n",
    "    Phi, Theta -- -2 column bias, -1 column scale\n",
    "    norm_set -- statistical mean and variance of each pre-activation layer. Python dictionary of length l, with each value \n",
    "    a numpy array of shape (n_neuron+1,2), last row is counts, column 1: sum(z_i); column 2: sum(z_i**2); column 3: bias placeholder\n",
    "    \"\"\"\n",
    "    l = np.where(n_dz_slice[:,0] != 0)[0].size  # number of layers\n",
    "    layer_vt = np.append(n_dz_slice[:l,0],n_dz_slice[0,1])\n",
    "    Phi = {}\n",
    "    Theta = {}\n",
    "    norm_wake = {}\n",
    "    norm_sleep = {}\n",
    "    for i in range(l):\n",
    "        if init_type == \"zero\":\n",
    "            Phi[\"Phi_\" + str(i) + str(i+1)] = np.zeros((layer_vt[i+1],layer_vt[i]+2))\n",
    "            Theta[\"Theta_\" + str(l-i) + str(l-i-1)] = np.zeros((layer_vt[l-i-1],layer_vt[l-i]+2))\n",
    "        elif init_type == \"random\":\n",
    "            Phi[\"Phi_\" + str(i) + str(i+1)] = np.random.randn(layer_vt[i+1],layer_vt[i]+2)\n",
    "            Theta[\"Theta_\" + str(l-i) + str(l-i-1)] = np.random.randn(layer_vt[l-i-1],layer_vt[l-i]+2)\n",
    "        else:\n",
    "            raise Exception(\"Wrong Init Type\")\n",
    "        Phi[\"Phi_\" + str(i) + str(i+1)][:,-1] = 1          #scale\n",
    "        Theta[\"Theta_\" + str(l-i) + str(l-i-1)][:,-1] = 1\n",
    "        Phi[\"Phi_\" + str(i) + str(i+1)][:,-2] = 0              #bias\n",
    "        Theta[\"Theta_\" + str(l-i) + str(l-i-1)][:,-2] = 0\n",
    "        \n",
    "        norm_wake[\"l_\" + str(i+1)] = np.zeros((layer_vt[i+1]+1,3))\n",
    "        norm_sleep[\"l_\" + str(l-i-1)] = np.zeros((layer_vt[l-i-1]+1,3))\n",
    "        \n",
    "    return Phi,Theta,norm_wake,norm_sleep"
   ]
  },
  {
   "cell_type": "code",
   "execution_count": 395,
   "id": "89431a03",
   "metadata": {},
   "outputs": [],
   "source": [
    "def one_step_forward(x,activation_type,parameter_set,norm_set,add_norm):\n",
    "    \"\"\"\n",
    "    Arguments:\n",
    "    x -- input instantiation layer, numpy array of shape (n,1)\n",
    "    activation_type -- we provide 2 choices of activation functions: tanh(x) and sigmoid(x)\n",
    "    parameter_set -- parameters from x to y. Python dictionary of length l. The keys are ordered sequentially from layer x to y.\n",
    "    norm_set -- statistical mean and variance of each pre-activation layer. Python dictionary of length l, with each value \n",
    "    a numpy array of shape (n_neuron+1,2), last row: counts; column 1: sum(z_i); column 2: sum(z_i**2); column 3: bias placeholder\n",
    "    add_norm -- True or False. Update norm matrix or not\n",
    "    \n",
    "    Returns:\n",
    "    G -- activation of each layer including x\n",
    "    q -- probability of layer y\n",
    "    \"\"\"\n",
    "    l = len(parameter_set)\n",
    "    p_keys = [*parameter_set]\n",
    "    n_keys = [*norm_set]\n",
    "    G = {'z0': x}\n",
    "    g = x\n",
    "    \n",
    "    for i in range(l):\n",
    "        phi = parameter_set[p_keys[i]]\n",
    "        norm = norm_set[n_keys[i]]\n",
    "        \n",
    "        pre_ac = np.matmul(phi[:,:-2],g)+norm[:-1,2:]  # pre-activation; bias placeholder\n",
    "        K = phi[:,-1:] * pre_ac + phi[:,-2:-1]  # rescale linear term\n",
    "        if activation_type == \"sigmoid\":\n",
    "            g = sigmoid(K)\n",
    "        elif activation_type == \"tanh\":\n",
    "            g = np.tanh(K)\n",
    "        if i == l-1:\n",
    "            g = sigmoid(K)\n",
    "        G['z'+str(i+1)] = g\n",
    "        \n",
    "        if add_norm == True:\n",
    "            norm[:-1,0:1] += pre_ac\n",
    "            norm[-1,0] += 1\n",
    "            norm[:-1,1:2] += pre_ac**2\n",
    "            norm[-1,1] += 1\n",
    "            norm_set[n_keys[i]] = norm        \n",
    "    return G,g"
   ]
  },
  {
   "cell_type": "code",
   "execution_count": 669,
   "id": "7f1e8c5b",
   "metadata": {},
   "outputs": [],
   "source": [
    "def one_step_update(x,y,G,activation_type,parameter_set,value_set,norm_set,lr,\\\n",
    "                    fz_binary,fz_scale,fz_W,layer_norm,layer_norm_rate,check_lr):\n",
    "    \"\"\"\n",
    "    Arguments:\n",
    "    x -- input sampling layer, numpy array of shape (n,1)\n",
    "    y -- target sampling layer, numpy array of shape (m,1)\n",
    "    G -- output of one_step_forward_norm, activation of each layer including x\n",
    "    activation_type -- we provide 2 choices of activation functions: tanh(x) and sigmoid(x)\n",
    "    parameter_set -- parameters from x to y. Each array phi: -2 column bias, -1 column scale\n",
    "    value_set -- list or array [[a_x,b_x],[a_y,b_y]], where a is the positive outcome and b is the negative outcome of a Bernoulli experiment\n",
    "    norm_set -- statistical mean and variance of each pre-activation layer. Python dictionary of length l, with each value \n",
    "    a numpy array of shape (n_neuron+1,3), last row: counts; column 1: sum(z_i); column 2: sum(z_i**2); column 3: bias placeholder\n",
    "    lr -- learning rate, decimals\n",
    "    fz_binary -- True or Flase. If True, [a_x,b_x] are fixed values; if False, update [a_x,b_x]\n",
    "    fz_scale -- True or Flase. If True, last 2 columns of phi are fixed; if False, update adaptive scale and bias\n",
    "    fz_W -- True or Flase. If True, freeze weights; if False, update weights\n",
    "    layer_norm -- True or Flase, whether to adjust row distribution of W (more evenly distributed) by adjusting the \n",
    "    updating rate \"layer_norm_rate\" of dW\n",
    "    check_lr -- True or Flase. If True, check current lr and update it as needed\n",
    "    \n",
    "    Returns:\n",
    "    parameter_set -- updated parameters\n",
    "    loss -- value of loss function before updating, a number\n",
    "    grad_set -- gradients of parameters\n",
    "    lr -- updated learning rate\n",
    "    \"\"\"\n",
    "    \n",
    "    a_x = value_set[0,0]\n",
    "    b_x = value_set[0,1]\n",
    "    a_y = value_set[1,0]\n",
    "    b_y = value_set[1,1]\n",
    "    l = len(parameter_set)\n",
    "    p_keys = [*parameter_set]\n",
    "    n_keys = [*norm_set]\n",
    "    grad_set = {}\n",
    "    \n",
    "    # derivatives\n",
    "    q = G['z'+str(l)]\n",
    "    u = q - (y-b_y)/(a_y-b_y)   #[n_y,1]\n",
    "    loss = -np.sum(((y-b_y)*np.log(q) + (a_y-y)*np.log(1-q))/(a_y-b_y))  # layer entropy loss\n",
    "    if np.where(np.abs(y - a_y) < 1e-8)[0].size + np.where(np.abs(y - b_y) < 1e-8)[0].size != y.size:\n",
    "        raise Exception(\"Incorrect output layer\" + str(a_y)+ \" \"+str(b_y)+ \" \"+str(y))\n",
    "    # a = g(scale * [(Wz+b-mean)/deviation] + bias)\n",
    "    for i in range(l-1,-1,-1):\n",
    "        phi = parameter_set[p_keys[i]]\n",
    "        grad_set['d_'+p_keys[i]] = np.zeros(phi.shape)\n",
    "        W = phi[:,:-2]        #[n_y,n_z]\n",
    "        bias = phi[:,-2:-1]   #[n_y,1]\n",
    "        scale = phi[:,-1:]    #[n_y,1]\n",
    "        \n",
    "        z = G['z'+str(i)]      #[n_z,1]\n",
    "        \n",
    "        if fz_W == False:\n",
    "            dW = np.outer(u*scale,z)     #[n_y,n_z]\n",
    "            grad_set['d_'+p_keys[i]][:,:-2] = dW\n",
    "            # update weights\n",
    "            if layer_norm == True:\n",
    "                dW = layer_lr(W, dW, rate=layer_norm_rate)\n",
    "            parameter_set[p_keys[i]][:,:-2] -= lr * dW\n",
    "        \n",
    "        if fz_scale == False:\n",
    "            norm = norm_set[n_keys[i]]      #[n_y,3]\n",
    "            b = norm[:-1,2:]                #[n_y,1]\n",
    "            N = np.matmul(W,z)+b   #[n_y,1]\n",
    "            d_scale = u * N        #[n_y,1]\n",
    "            d_bias = u             #[n_y,1]\n",
    "            parameter_set[p_keys[i]][:,-1:] -= lr * d_scale\n",
    "            parameter_set[p_keys[i]][:,-2:-1] -= lr * d_bias\n",
    "            grad_set['d_'+p_keys[i]][:,-1:] = d_scale\n",
    "            grad_set['d_'+p_keys[i]][:,-2:-1] = d_bias\n",
    "        \n",
    "        dz = np.matmul(W.T,u*scale)  #[n_z,1]\n",
    "        if i > 0:\n",
    "            if activation_type == \"sigmoid\":\n",
    "                u = dz * z * (1-z)\n",
    "            elif activation_type == \"tanh\":\n",
    "                u = dz * (1-z**2)\n",
    "        else:\n",
    "            # input layer, parameters a_x, b_x\n",
    "            if fz_binary == False:\n",
    "                d_ax = np.mean(dz[np.where(np.abs(x - a_x) < 1e-8)[0]]) # use mean instead of sum\n",
    "                d_bx = np.mean(dz[np.where(np.abs(x - b_x) < 1e-8)[0]])\n",
    "                if np.where(np.abs(x - a_x) < 1e-8)[0].size + np.where(np.abs(x - b_x) < 1e-8)[0].size != dz.size:\n",
    "                    raise Exception(\"Incorrect input layer\" + str(a_x)+ \" \"+str(b_x)+ \" \"+str(x))\n",
    "                a_x -= lr * d_ax\n",
    "                b_x -= lr * d_bx\n",
    "                value_set[0,:] = [a_x,b_x]\n",
    "    \n",
    "    if check_lr == True:\n",
    "        G,q = one_step_forward(x,activation_type,parameter_set,norm_set,add_norm=False)\n",
    "        loss_new = -np.sum(((y-b_y)*np.log(q) + (a_y-y)*np.log(1-q))/(a_y-b_y))  # layer entropy loss\n",
    "        delta_loss = loss - loss_new\n",
    "        delta_f = 0\n",
    "        for keys in grad_set:\n",
    "            delta_f += np.sum(grad_set[keys]**2)\n",
    "        delta_f *= lr\n",
    "        print(\"delta_loss: \"+ str(delta_loss), \"delta_f: \"+ str(delta_f))\n",
    "        if delta_loss < delta_f:\n",
    "            lr /= delta_f/delta_loss\n",
    "            print(\"learning rate change: \" + str(lr))\n",
    "    \n",
    "    return lr,loss,grad_set"
   ]
  },
  {
   "cell_type": "code",
   "execution_count": 661,
   "id": "e988f488",
   "metadata": {},
   "outputs": [],
   "source": [
    "def layer_lr(W, dW, rate):\n",
    "    \"\"\"\n",
    "    adjust row distribution of W (more evenly distributed) by adjusting the updating rate of dW\n",
    "    Arguments:\n",
    "    W -- phi[:,:-2], numpy array of sahpe (n_z,n_x)\n",
    "    dW -- derivatives of W\n",
    "    rate -- 10 folds, x rate; 100 folds, x 2 rate\n",
    "    \n",
    "    Returns:\n",
    "    layer_lr\n",
    "    \"\"\"\n",
    "    multiple = np.log10(np.abs(W)/np.min(np.abs(W),axis=1,keepdims=True)).astype(int)\n",
    "    index = np.where((multiple > 0) & (W*dW > 0))\n",
    "    dW[index] *= rate\n",
    "    return dW"
   ]
  },
  {
   "cell_type": "code",
   "execution_count": 662,
   "id": "b2e078ce",
   "metadata": {},
   "outputs": [],
   "source": [
    "def one_step_norm_update(parameter_set,norm_set):\n",
    "    \"\"\"\n",
    "    Arguments:\n",
    "    parameter_set -- parameters from x to y. Python dictionary of length l. The keys are ordered sequentially from layer x to y.\n",
    "    Each array phi has: -2 column bias, -1 column scale\n",
    "    norm_set -- statistical mean and variance of each pre-activation layer. Python dictionary of length l, with each value \n",
    "    a numpy array of shape (n_neuron+1,2), last row: counts; column 1: sum(z_i); column 2: sum(z_i**2); column 3: bias placeholder\n",
    "    \n",
    "    Returns:\n",
    "    parameter_set -- updated parameters\n",
    "    norm_set -- reset mean, variance; update bias placeholder\n",
    "    \"\"\"\n",
    "    l = len(parameter_set)\n",
    "    p_keys = [*parameter_set]\n",
    "    n_keys = [*norm_set]\n",
    "    \n",
    "    for i in range(l):\n",
    "        phi = parameter_set[p_keys[i]]  #[n_z,n_x+2]\n",
    "        norm = norm_set[n_keys[i]]      #[n_z,1]\n",
    "        mean = norm[:-1,0:1]/norm[-1,0]\n",
    "        variance = norm[:-1,1:2]/norm[-1,1] - mean**2\n",
    "        print(\"mean: \", mean)\n",
    "        print(\"variance: \", variance)\n",
    "        \n",
    "        parameter_set[p_keys[i]][:,:-2] = phi[:,:-2]/np.sqrt(variance)  # scale every row of W by deviations\n",
    "        b = norm[:-1,2:]\n",
    "        norm_set[n_keys[i]][:-1,2:] = (b-mean)/np.sqrt(variance) # update bias placeholder\n",
    "        norm_set[n_keys[i]][:,:2] = 0\n",
    "    return parameter_set,norm_set"
   ]
  },
  {
   "cell_type": "code",
   "execution_count": 663,
   "id": "70349164",
   "metadata": {},
   "outputs": [],
   "source": [
    "def decimalize(bnr):\n",
    "    \"\"\"\n",
    "    Arguments: bnr -- numpy array of binary values {0,1}, of shape (width,n)\n",
    "    Returns: dcm -- a decimalized intger array in range [0,2**width), shape (n,)\n",
    "    \"\"\"\n",
    "    width = bnr.shape[0]\n",
    "    n = bnr.shape[1]\n",
    "    dcm = np.zeros(n,dtype=int)\n",
    "    for i in range(n):\n",
    "        binary = ''.join(bnr[:,i].reshape(width,).astype(str))\n",
    "        dcm[i] = int(binary,2)\n",
    "    return dcm"
   ]
  },
  {
   "cell_type": "code",
   "execution_count": 664,
   "id": "6772442f",
   "metadata": {},
   "outputs": [],
   "source": [
    "def binarilize(dcm,width):\n",
    "    \"\"\"\n",
    "    Arguments: dcm -- a decimalized intger array in range [0,2**width), shape (n,)\n",
    "    Returns:   bnr -- numpy array of binary values {0,1}, of shape (width,n)\n",
    "    \"\"\"\n",
    "    n = len(dcm)\n",
    "    bnr = np.zeros((width,n),dtype=int)\n",
    "    for i in range(n):\n",
    "        bnr[:,i:i+1] = np.array(list(np.binary_repr(dcm[i], width=width))).astype(int).reshape(-1,1)\n",
    "    return bnr"
   ]
  },
  {
   "cell_type": "code",
   "execution_count": 1623,
   "id": "c8d27075",
   "metadata": {},
   "outputs": [],
   "source": [
    "def one_step_prob_matrix(activation_type,n_x,parameter_set,norm_set):\n",
    "    x_ind = np.arange(2**n_x)\n",
    "    X = binarilize(x_ind,n_x)  #(n_x,2**n_x)\n",
    "    G,q = one_step_forward(X,activation_type,parameter_set,norm_set,add_norm=False)\n",
    "    \n",
    "    n_y = q.shape[0]           # q:(n_y,2**n_x)\n",
    "    y_ind = np.arange(2**n_y)\n",
    "    Y = binarilize(y_ind,n_y)  #(n_y,2**n_y)\n",
    "    \n",
    "    prob_mtx = np.zeros((2**n_x+1,2**n_y+1)) \n",
    "    # probability from X to Y, last row is sum, last column is row entropy\n",
    "    for i in range(2**n_x):\n",
    "        prob_mtx[i,:-1] = np.prod(q[:,i:i+1]**Y * (1-q[:,i:i+1])**(1-Y),axis=0)\n",
    "    prob_mtx[-1,:-1] = np.mean(prob_mtx[:-1,:-1],axis=0)\n",
    "    prob_mtx[:,-1] = -np.sum(prob_mtx[:,:-1]*np.log(prob_mtx[:,:-1]),axis=1)\n",
    "    return prob_mtx"
   ]
  },
  {
   "cell_type": "code",
   "execution_count": 1624,
   "id": "2a837ebd",
   "metadata": {},
   "outputs": [
    {
     "data": {
      "text/plain": [
       "array([10,  8,  6,  3,  1])"
      ]
     },
     "execution_count": 1624,
     "metadata": {},
     "output_type": "execute_result"
    }
   ],
   "source": [
    "np.sum(n_dz,axis=0)"
   ]
  },
  {
   "cell_type": "code",
   "execution_count": 1625,
   "id": "9ac27545",
   "metadata": {},
   "outputs": [],
   "source": [
    "def init_M(n_x,n_y):\n",
    "    \"\"\"\n",
    "    Arguments:\n",
    "    n_x -- number of neurons in input layer\n",
    "    n_y -- number of neurons in output layer\n",
    "    \n",
    "    Returns:\n",
    "    M -- count matrix, numpy array of shape (2**n_x+1, 2**n_y+2), last row: summation; -2 column: summation; \n",
    "    last column: row entropy\n",
    "    \"\"\"\n",
    "#     M = np.zeros((2**n_x+1,2**n_y+2))\n",
    "#     epsilon = 1e-10\n",
    "#     M[0:2**n_x,0:2**n_y] = epsilon\n",
    "#     M[-1,:-2] = np.sum(M[:-1,:-2],axis=0)\n",
    "#     M[:,-2] = np.sum(M[:,:-2],axis=1)\n",
    "# #     M[:,-1] = np.log(2**n_y)\n",
    "\n",
    "    M = np.zeros((2**n_x+1,2**n_y+1)) #last row: sum; last column: entropy\n",
    "    \n",
    "    return M"
   ]
  },
  {
   "cell_type": "code",
   "execution_count": 1626,
   "id": "9cc8735a",
   "metadata": {},
   "outputs": [],
   "source": [
    "def entropy(H_prev,s,a):\n",
    "    \"\"\"\n",
    "    Iterative formula for entropy:\n",
    "    H_+1 = (s(H-log(s)) + (s+1)log(s+1) + [alog(a) - (a+1)log(a+1)])/(s+1)\n",
    "    \n",
    "    Arguments:\n",
    "    H_prev -- previous entropy\n",
    "    s -- total counts\n",
    "    a -- counts for the category being modified\n",
    "     \n",
    "    Returns:\n",
    "    H -- updated entropy\n",
    "    \"\"\"\n",
    "    H = (s*(H_prev-np.log(s)) + (s+1)*np.log(s+1) + [a*np.log(a) - (a+1)*np.log(a+1)])/(s+1)\n",
    "    return H"
   ]
  },
  {
   "cell_type": "code",
   "execution_count": 1644,
   "id": "04de8af2",
   "metadata": {},
   "outputs": [],
   "source": [
    "def mutual_info(Input):\n",
    "    \"\"\"\n",
    "    Find y for given x that increases the layer-wise accumulative mutual information\n",
    "    Iterative formula for entropy:\n",
    "    H_+1 = (s(H-log(s)) + (s+1)log(s+1) + [alog(a) - (a+1)log(a+1)])/(s+1)\n",
    "    \n",
    "    s = 1 -> H_+1 = H/2 + log(2) + [alog(a) - (a+1)log(a+1)]/2\n",
    "    \n",
    "    Arguments:\n",
    "    Input -- numpy array of shape (2,m+2), with each row comprises \n",
    "    [counts for m categories separately, sum of counts, entropy of this row]\n",
    "    first row: H(Y|x)    second row: H(Y) [summation over x]\n",
    "    \n",
    "    Returns:\n",
    "    MI_index -- list of indices of Y where the mutual information increases when this category counts +1, numpy array of shape (k, )\n",
    "    MI -- mutual information of each choice, numpy array of shape (k, )\n",
    "    \"\"\"\n",
    "#     s = Input[:,-2:-1]   #(2,1)\n",
    "#     H = Input[:,-1:]     #(2,1)\n",
    "#     C = s*(H - np.log(s)) + (s+1)*np.log(s+1)   #(2,1)\n",
    "    \n",
    "#     M = Input[:,:-2]     #(2,m)\n",
    "#     D = M*np.log(M) - (M+1)*np.log(M+1)     #(2,m)\n",
    "#     H_new = (C + D)/(s+1)      #(2,m)\n",
    "\n",
    "    H = Input[:,-1:]     #(2,1)\n",
    "    M = Input[:,:-1]     #(2,m)\n",
    "    H_new = H/2 + np.log(2) + (M*np.log(M) - (M+1)*np.log(M+1))/2  # +1\n",
    "    \n",
    "    \n",
    "    MI = H_new[1,:] - H_new[0,:]\n",
    "#     I_diff = I - (H[1,:] - H[0,:])  #(m, )\n",
    "#     MI_index = np.where(I_diff > 0)[0]\n",
    "#     MI = I[MI_index]\n",
    "    \n",
    "    return MI,H_new"
   ]
  },
  {
   "cell_type": "code",
   "execution_count": 1373,
   "id": "e9c0c095",
   "metadata": {},
   "outputs": [
    {
     "data": {
      "text/plain": [
       "array([[0., 0., 0., 0., 0.],\n",
       "       [0., 0., 0., 0., 0.],\n",
       "       [0., 0., 0., 0., 0.],\n",
       "       [0., 0., 0., 0., 0.],\n",
       "       [0., 0., 0., 0., 0.],\n",
       "       [0., 0., 0., 0., 0.],\n",
       "       [0., 0., 0., 0., 0.],\n",
       "       [0., 0., 0., 0., 0.],\n",
       "       [0., 0., 0., 0., 0.]])"
      ]
     },
     "execution_count": 1373,
     "metadata": {},
     "output_type": "execute_result"
    }
   ],
   "source": [
    "n_x = 3\n",
    "n_y = 2\n",
    "M = init_M(n_x,n_y)\n",
    "M"
   ]
  },
  {
   "cell_type": "code",
   "execution_count": 1292,
   "id": "54d71cbb",
   "metadata": {},
   "outputs": [
    {
     "name": "stderr",
     "output_type": "stream",
     "text": [
      "C:\\Users\\79244\\AppData\\Local\\Temp\\ipykernel_17324\\1705882109.py:16: RuntimeWarning: divide by zero encountered in log\n",
      "  elif np.all(np.abs(M[:,-1] + np.sum(M[:,:-2]*np.log(M[:,:-2]),axis=1)/M[:,-2]-np.log(M[:,-2])) > epsilon):\n",
      "C:\\Users\\79244\\AppData\\Local\\Temp\\ipykernel_17324\\1705882109.py:16: RuntimeWarning: invalid value encountered in multiply\n",
      "  elif np.all(np.abs(M[:,-1] + np.sum(M[:,:-2]*np.log(M[:,:-2]),axis=1)/M[:,-2]-np.log(M[:,-2])) > epsilon):\n"
     ]
    },
    {
     "data": {
      "text/plain": [
       "True"
      ]
     },
     "execution_count": 1292,
     "metadata": {},
     "output_type": "execute_result"
    }
   ],
   "source": [
    "check_M(M)"
   ]
  },
  {
   "cell_type": "code",
   "execution_count": 1076,
   "id": "246fc051",
   "metadata": {},
   "outputs": [
    {
     "data": {
      "text/plain": [
       "array([[1.00000000e-10, 1.00000000e+00, 1.00000000e-10, 1.00000000e-10,\n",
       "        1.00000000e+00, 6.65323756e-09],\n",
       "       [8.00000000e-10, 1.00000000e+00, 1.00000000e+00, 1.00000000e+00,\n",
       "        3.00000000e+00, 1.09861229e+00]])"
      ]
     },
     "execution_count": 1076,
     "metadata": {},
     "output_type": "execute_result"
    }
   ],
   "source": [
    "cat_x = 2\n",
    "Input = M[[cat_x,-1],:]\n",
    "Input"
   ]
  },
  {
   "cell_type": "code",
   "execution_count": 1077,
   "id": "151a505f",
   "metadata": {},
   "outputs": [
    {
     "data": {
      "text/plain": [
       "array([[6.93147183e-01, 3.43059081e-09, 6.93147183e-01, 6.93147183e-01],\n",
       "       [1.38629436e+00, 1.03972077e+00, 1.03972077e+00, 1.03972077e+00]])"
      ]
     },
     "execution_count": 1077,
     "metadata": {},
     "output_type": "execute_result"
    }
   ],
   "source": [
    "s = Input[:,-2:-1]   #(2,1)\n",
    "H = Input[:,-1:]     #(2,1)\n",
    "C = s*(H - np.log(s)) + (s+1)*np.log(s+1)   #(2,1)\n",
    "Mtx = Input[:,:-2]     #(2,m)\n",
    "D = Mtx*np.log(Mtx) - (Mtx+1)*np.log(Mtx+1)     #(2,m)\n",
    "H_new = (C + D)/(s+1)      #(2,m)\n",
    "H_new"
   ]
  },
  {
   "cell_type": "code",
   "execution_count": 1078,
   "id": "59556564",
   "metadata": {},
   "outputs": [
    {
     "data": {
      "text/plain": [
       "array([0.69314718, 1.03972077, 0.34657359, 0.34657359])"
      ]
     },
     "execution_count": 1078,
     "metadata": {},
     "output_type": "execute_result"
    }
   ],
   "source": [
    "I = H_new[1,:] - H_new[0,:]\n",
    "I"
   ]
  },
  {
   "cell_type": "code",
   "execution_count": 1079,
   "id": "84a09e73",
   "metadata": {},
   "outputs": [
    {
     "data": {
      "text/plain": [
       "array([-0.40546511, -0.05889152, -0.75203869, -0.75203869])"
      ]
     },
     "execution_count": 1079,
     "metadata": {},
     "output_type": "execute_result"
    }
   ],
   "source": [
    "I_diff = I - (H[1,:] - H[0,:])  #(m, )\n",
    "I_diff"
   ]
  },
  {
   "cell_type": "code",
   "execution_count": 1080,
   "id": "e7783d27",
   "metadata": {},
   "outputs": [
    {
     "data": {
      "text/plain": [
       "array([], dtype=int64)"
      ]
     },
     "execution_count": 1080,
     "metadata": {},
     "output_type": "execute_result"
    }
   ],
   "source": [
    "MI_index = np.where(I_diff > 0)[0]\n",
    "MI_index"
   ]
  },
  {
   "cell_type": "code",
   "execution_count": 1070,
   "id": "cf00a044",
   "metadata": {},
   "outputs": [
    {
     "data": {
      "text/plain": [
       "array([1.09861229, 1.09861229])"
      ]
     },
     "execution_count": 1070,
     "metadata": {},
     "output_type": "execute_result"
    }
   ],
   "source": [
    "MI = I[MI_index]\n",
    "MI"
   ]
  },
  {
   "cell_type": "code",
   "execution_count": 1071,
   "id": "5effa761",
   "metadata": {},
   "outputs": [
    {
     "data": {
      "text/plain": [
       "array([0, 1, 2, 3])"
      ]
     },
     "execution_count": 1071,
     "metadata": {},
     "output_type": "execute_result"
    }
   ],
   "source": [
    "precision = 0.2\n",
    "q = np.array([[0.5],[0.5]])\n",
    "var_index = np.where(np.abs(q.reshape(-1,) - 0.5) < precision)[0]\n",
    "num = len(var_index)\n",
    "comb = binarilize(np.arange(2**num),num)   #(num, 2**num)\n",
    "prob = q[var_index]\n",
    "probability = np.prod(prob**comb * (1-prob)**(1-comb),axis=0)  #(2**num, )\n",
    "z = (q+0.5).astype(int)\n",
    "z_all = np.repeat(z, 2**num, axis=1)  #(n_q, 2**num)\n",
    "z_all[var_index,:] = comb\n",
    "p_index = decimalize(z_all)   #(2**num, )\n",
    "p_index"
   ]
  },
  {
   "cell_type": "code",
   "execution_count": 1072,
   "id": "25f5b189",
   "metadata": {},
   "outputs": [
    {
     "data": {
      "text/plain": [
       "array([0, 1], dtype=int64)"
      ]
     },
     "execution_count": 1072,
     "metadata": {},
     "output_type": "execute_result"
    }
   ],
   "source": [
    "intersect, p_i, MI_i = np.intersect1d(p_index, MI_index,return_indices=True)\n",
    "intersect"
   ]
  },
  {
   "cell_type": "code",
   "execution_count": 1073,
   "id": "a2e8ee81",
   "metadata": {},
   "outputs": [
    {
     "data": {
      "text/plain": [
       "1"
      ]
     },
     "execution_count": 1073,
     "metadata": {},
     "output_type": "execute_result"
    }
   ],
   "source": [
    "ind = np.argsort(probability[p_i] * MI[MI_i])[::-1][0]  # the best y's index\n",
    "cat_y = p_index[p_i[ind]]    # the best y's category\n",
    "cat_y"
   ]
  },
  {
   "cell_type": "code",
   "execution_count": 1074,
   "id": "e462b791",
   "metadata": {},
   "outputs": [],
   "source": [
    "M[cat_x,-1] = entropy(M[cat_x,-1],M[cat_x,-2],M[cat_x,cat_y])\n",
    "M[-1,-1] = entropy(M[-1,-1],M[-1,-2],M[-1,cat_y])\n",
    "M[cat_x,cat_y] += 1\n",
    "M[-1,cat_y] += 1\n",
    "M[cat_x,-2] += 1\n",
    "M[-1,-2] += 1  "
   ]
  },
  {
   "cell_type": "code",
   "execution_count": 1075,
   "id": "cc9496ca",
   "metadata": {},
   "outputs": [
    {
     "data": {
      "text/plain": [
       "array([[1.00000000e-10, 1.00000000e-10, 1.00000000e-10, 1.00000000e+00,\n",
       "        1.00000000e+00, 6.65323756e-09],\n",
       "       [1.00000000e-10, 1.00000000e-10, 1.00000000e+00, 1.00000000e-10,\n",
       "        1.00000000e+00, 6.65323756e-09],\n",
       "       [1.00000000e-10, 1.00000000e+00, 1.00000000e-10, 1.00000000e-10,\n",
       "        1.00000000e+00, 6.65323756e-09],\n",
       "       [1.00000000e-10, 1.00000000e-10, 1.00000000e-10, 1.00000000e-10,\n",
       "        4.00000000e-10, 0.00000000e+00],\n",
       "       [1.00000000e-10, 1.00000000e-10, 1.00000000e-10, 1.00000000e-10,\n",
       "        4.00000000e-10, 0.00000000e+00],\n",
       "       [1.00000000e-10, 1.00000000e-10, 1.00000000e-10, 1.00000000e-10,\n",
       "        4.00000000e-10, 0.00000000e+00],\n",
       "       [1.00000000e-10, 1.00000000e-10, 1.00000000e-10, 1.00000000e-10,\n",
       "        4.00000000e-10, 0.00000000e+00],\n",
       "       [1.00000000e-10, 1.00000000e-10, 1.00000000e-10, 1.00000000e-10,\n",
       "        4.00000000e-10, 0.00000000e+00],\n",
       "       [8.00000000e-10, 1.00000000e+00, 1.00000000e+00, 1.00000000e+00,\n",
       "        3.00000000e+00, 1.09861229e+00]])"
      ]
     },
     "execution_count": 1075,
     "metadata": {},
     "output_type": "execute_result"
    }
   ],
   "source": [
    "M"
   ]
  },
  {
   "cell_type": "code",
   "execution_count": 1052,
   "id": "7942ea71",
   "metadata": {},
   "outputs": [
    {
     "data": {
      "text/plain": [
       "3"
      ]
     },
     "execution_count": 1052,
     "metadata": {},
     "output_type": "execute_result"
    }
   ],
   "source": [
    "p_index[np.argsort(probability)[::-1][0]]"
   ]
  },
  {
   "cell_type": "code",
   "execution_count": 1109,
   "id": "25bc1111",
   "metadata": {},
   "outputs": [
    {
     "data": {
      "text/plain": [
       "1"
      ]
     },
     "execution_count": 1109,
     "metadata": {},
     "output_type": "execute_result"
    }
   ],
   "source": [
    "np.argsort(MI)[::-1][0]"
   ]
  },
  {
   "cell_type": "code",
   "execution_count": 1628,
   "id": "7b8677ae",
   "metadata": {},
   "outputs": [],
   "source": [
    "def top_samples(q,precision):\n",
    "    \"\"\"\n",
    "    Arguments:\n",
    "    q -- sigmoid output of a given layer\n",
    "    precision -- a decimal number in [0,0.5)\n",
    "    \n",
    "    Returns:\n",
    "    p_index -- numpy array of shape (2**num, ), categorical number of possible y's\n",
    "    probability -- numpy array of shape (2**num, ), probability of each category\n",
    "    num -- max number of neurons being changed\n",
    "    \"\"\"\n",
    "    \n",
    "    var_index = np.where(np.abs(q.reshape(-1,) - 0.5) < precision)[0]\n",
    "    num = len(var_index)\n",
    "    comb = binarilize(np.arange(2**num),num)   #(num, 2**num)\n",
    "    prob = q[var_index]\n",
    "    probability = np.prod(prob**comb * (1-prob)**(1-comb),axis=0)  #(2**num, )\n",
    "    \n",
    "    z = (q+0.5).astype(int)\n",
    "    z_all = np.repeat(z, 2**num, axis=1)  #(n_q, 2**num)\n",
    "    z_all[var_index,:] = comb\n",
    "    p_index = decimalize(z_all)   #(2**num, )\n",
    "        \n",
    "    return p_index,probability,num"
   ]
  },
  {
   "cell_type": "code",
   "execution_count": 1762,
   "id": "378f5242",
   "metadata": {},
   "outputs": [],
   "source": [
    "def determine_y(M,cat_x,q,precision=0.2):\n",
    "    \"\"\"\n",
    "    Arguments:\n",
    "    M -- count matrix, numpy array of shape (2**n_x+1, 2**n_y+2), last row: summation; -2 column: summation; last column: entropy\n",
    "    cat_x -- categorical number of given x\n",
    "    q -- sigmoid output of input x\n",
    "    precision -- a decimal number in [0,0.5)\n",
    "    \n",
    "    Returns:\n",
    "    M -- updated count matrix\n",
    "    \"\"\"\n",
    "    M_pick = M[[cat_x,-1],:]\n",
    "    MI,H_new = mutual_info(M_pick)\n",
    "    p_index,probability,num = top_samples(q,precision)\n",
    "\n",
    "#     intersect, p_i, MI_i = np.intersect1d(p_index, MI_index,return_indices=True)\n",
    "#     if intersect.size > 0:\n",
    "#         ind = np.argsort(probability[p_i] * MI[MI_i])[::-1][0]  # the best y's index\n",
    "#         cat_y = p_index[p_i[ind]]    # the best y's category\n",
    "#     else:\n",
    "#     if MI_index.size == 0:\n",
    "#         cat_y = p_index[np.argsort(probability)[::-1][0]]\n",
    "#     else:\n",
    "\n",
    "#     cat_y = np.argsort(MI)[::-1][0]\n",
    "\n",
    "    ind = np.argsort(MI[p_index] * np.log(1+probability))[::-1][0]\n",
    "    cat_y = p_index[ind]\n",
    "    \n",
    "#     p_ind = np.argsort(MI)[::-1][0:5]      # top 5 max MI\n",
    "#     comb = binarilize(p_ind,width=len(q))  # (2**n_y,5)\n",
    "#     probability = np.prod(q**comb * (1-q)**(1-comb),axis=0)  #(5, )\n",
    "#     ii = np.argsort(probability * MI[p_ind])[::-1][0]\n",
    "#     cat_y = p_ind[ii]\n",
    "        \n",
    "#     # update count matrix\n",
    "#     M[cat_x,-1] = entropy(M[cat_x,-1],M[cat_x,-2],M[cat_x,cat_y])\n",
    "#     M[-1,-1] = entropy(M[-1,-1],M[-1,-2],M[-1,cat_y])\n",
    "#     M[cat_x,cat_y] += 1\n",
    "#     M[-1,cat_y] += 1\n",
    "#     M[cat_x,-2] += 1\n",
    "#     M[-1,-2] += 1    \n",
    "    \n",
    "    return cat_y"
   ]
  },
  {
   "cell_type": "code",
   "execution_count": 1763,
   "id": "39f984bf",
   "metadata": {},
   "outputs": [],
   "source": [
    "def check_M(M):\n",
    "    \"\"\"\n",
    "    Arguments:\n",
    "    M -- count matrix, numpy array of shape (2**n_x+1, 2**n_y+1), last row: summation; last column: entropy\n",
    "    \n",
    "    Returns:\n",
    "    \"\"\"\n",
    "    flag = True\n",
    "    epsilon = 1e-8\n",
    "    if np.all(np.abs(M[-1,:-1] - np.mean(M[:-1,:-1],axis=0)) > epsilon):\n",
    "        flag = False\n",
    "        raise Exception(\"row addition wrong\")\n",
    "    elif np.all(np.abs(np.sum(M[:,:-1],axis=1) - 1) > epsilon):\n",
    "        flag = False\n",
    "        raise Exception(\"column addition wrong\")\n",
    "    elif np.all(np.abs(M[:,-1] + np.sum(M[:,:-1]*np.log(M[:,:-1]),axis=1)) > epsilon):\n",
    "        flag = False\n",
    "        raise Exception(\"entropy computation wrong\")\n",
    "    return flag"
   ]
  },
  {
   "cell_type": "code",
   "execution_count": 1764,
   "id": "15ed00f5",
   "metadata": {},
   "outputs": [],
   "source": [
    "class Helmholtz_machine:\n",
    "\n",
    "    def __init__(self, n_dz, activation_type, init_lr = 0.1):\n",
    "        \"\"\"\n",
    "        Arguments:\n",
    "        n_dz -- number of neurons for each layer, numpy array of shape (n+1,m), where m is the number of instantiation layers, \n",
    "        n is the maximum number of inserted layers between adjacent instantiation layers\n",
    "        activation_type -- we provide 2 choices of activation functions: tanh(x) and sigmoid(x)\n",
    "        init_lr -- initial learning rate, decimal number\n",
    "        \n",
    "        Returns:\n",
    "        n_layer -- number of instantiation layers\n",
    "        lr -- different learning rate for each submodule, numpy array of shape (2,m-1)\n",
    "        \"\"\"\n",
    "        self.n_dz = n_dz\n",
    "        self.n_layer = self.n_dz.shape[1]\n",
    "        self.n_d = n_dz[0,0]\n",
    "        self.ac = activation_type\n",
    "        self.lr = np.ones((2,self.n_layer-1))*init_lr\n",
    "        \n",
    "    def parameter_init(self,init_type,value_set):\n",
    "        \"\"\"\n",
    "        Arguments:\n",
    "        init_type -- \"zero\" or \"random\", \"zero\" assigns 0 to all parameters, \"random\" samples from standard Gaussian\n",
    "        value_set -- numpy array [a,b], binary outcomes as {positive, negative}\n",
    "\n",
    "        Returns:\n",
    "        Phi, Theta -- -2 column bias, -1 column scale. \n",
    "        Eg. {Phi_01:{Phi_01,Phi_12}, Phi_12:{Phi_01,Phi_12,Phi_23}}, dictionary of dictionary\n",
    "        Norm_wake, Norm_sleep -- statistical mean and variance of each pre-activation layer. Norm_wake's last dic is idle.\n",
    "        Dictionary of dictionary, numpy array of shape (n_neuron+1,3), \n",
    "        last row is counts, column 1: sum(z_i); column 2: sum(z_i**2); column 3: bias placeholder\n",
    "        Scalar -- numpy array of shape (n_layer,2), binary outcomes of every sample layer, shared between wake and sleep phases\n",
    "        \"\"\"\n",
    "        Phi = {}\n",
    "        Theta = {}\n",
    "        Norm_wake = {}\n",
    "        Norm_sleep = {}\n",
    "        \n",
    "        for i in range(self.n_layer-1):\n",
    "            Phi[\"Phi_\"+str(i)+str(i+1)],Theta[\"Theta_\"+str(i+1)+str(i)],Norm_wake['sl_'+str(i+1)], Norm_sleep['sl_'+str(i)] \\\n",
    "            = one_step_para_init(self.n_dz[:,i:i+2],init_type)\n",
    "            \n",
    "        self.Phi = Phi\n",
    "        self.Theta = Theta\n",
    "        self.Norm_wake = Norm_wake\n",
    "        self.Norm_sleep = Norm_sleep\n",
    "        self.Scalar = np.repeat(value_set.reshape(1,-1),self.n_layer,axis=0)\n",
    "          \n",
    "    def MI_mtx_init(self):\n",
    "        MI_matrix = {}\n",
    "        for i in range(self.n_layer-2):\n",
    "            MI_matrix[\"MI_\"+str(i)+str(i+1)] = init_M(self.n_dz[0,i],self.n_dz[0,i+1])\n",
    "        return MI_matrix\n",
    "    \n",
    "    def set_control(self,Fz_binary,fz_scale=True,fz_W=False,layer_norm=False,layer_norm_rate=2):\n",
    "        \"\"\"\n",
    "        Arguments:\n",
    "        Fz_binary -- Boolean list of size n_layer, with last entry always as True\n",
    "        True or Flase. If True, last 2 columns of phi are fixed; if False, update adaptive scale and bias\n",
    "        fz_W -- True or Flase. If True, freeze weights; if False, update weights\n",
    "        layer_norm -- True or Flase, whether to adjust row distribution of W (more evenly distributed) by adjusting the \n",
    "        updating rate \"layer_norm_rate\" of dW\n",
    "        \"\"\"\n",
    "        self.Fz_binary = Fz_binary\n",
    "        self.fz_scale = fz_scale\n",
    "        self.fz_W = fz_W\n",
    "        self.layer_norm = layer_norm\n",
    "        self.ln_rate = layer_norm_rate\n",
    "        if fz_scale == False:\n",
    "            self.Scalar = self.Scalar.astype(float)\n",
    "    \n",
    "    def wake_sample(self,d0,add_norm=True):\n",
    "        \"\"\"\n",
    "        Stochastic sample in wake phase\n",
    "        Arguments:\n",
    "        d0 -- input pattern in {0,1}, numpy array of shape (n_d, 1)\n",
    "\n",
    "        Returns:\n",
    "        Alpha_Q -- assignment of each neuron (binary value), Python dictionary of length m with each key-value pair being \n",
    "        a numpy array of shape (n_dz[0,i], 1),i = 0,...m-1\n",
    "        Norm -- updated mean and variance on every sampling\n",
    "        \"\"\"\n",
    "        a = self.Scalar[0,0]\n",
    "        b = self.Scalar[0,1]\n",
    "        S = d0*(a-b)+b  # input layer\n",
    "        Alpha_Q = {\"z0\":S}\n",
    "        for i in range(self.n_layer-2):\n",
    "            G,q = one_step_forward(S,self.ac,self.Phi[\"Phi_\"+str(i)+str(i+1)],self.Norm_wake['sl_'+str(i+1)],add_norm)\n",
    "            a = self.Scalar[i+1,0]\n",
    "            b = self.Scalar[i+1,1]\n",
    "            S = ((q > np.random.rand(len(q),1)).astype(int))*(a-b)+b\n",
    "            Alpha_Q[\"z\"+str(i+1)] = S\n",
    "        Alpha_Q[\"z\"+str(self.n_layer-1)] = [[1]]\n",
    "        return Alpha_Q\n",
    "    \n",
    "    def sleep_sample(self,add_norm=True):\n",
    "        \"\"\"\n",
    "        Stochastic sample in sleep phase\n",
    "        Returns:\n",
    "        Alpha_P -- assignment of each neuron (binary value), Python dictionary of length m with each key-value pair being \n",
    "        a numpy array of shape (n_dz[0,i], 1),i = m-1,...,0\n",
    "        \"\"\"\n",
    "        S = [[1]]\n",
    "        Alpha_P = {\"z\"+str(self.n_layer-1):S}\n",
    "        for i in range(self.n_layer-1,0,-1):\n",
    "            G,p = one_step_forward(S,self.ac,self.Theta[\"Theta_\"+str(i)+str(i-1)],self.Norm_sleep['sl_'+str(i-1)],add_norm)\n",
    "            a = self.Scalar[i-1,0]\n",
    "            b = self.Scalar[i-1,1]\n",
    "            S = ((p > np.random.rand(len(p),1)).astype(int))*(a-b)+b   # rejection sampling as a or b\n",
    "            Alpha_P[\"z\"+str(i-1)] = S\n",
    "        return Alpha_P\n",
    "    \n",
    "    def wake_update(self,Alpha_P,add_norm=True,check_lr=False):\n",
    "        \"\"\"\n",
    "        Arguments:\n",
    "        Alpha_P -- assignment of each neuron (binary value), Python dictionary of length m with each key-value pair being \n",
    "        a numpy array of shape (n_dz[0,i], 1),i = m-1,...,0\n",
    "\n",
    "        Returns:\n",
    "        Phi, [a_x,b_x]\n",
    "        Loss -- numpy array of length m-1; the first m-2 values are layer loss, the last term is the total loss\n",
    "        Grad_set -- gradients of parameters\n",
    "        \"\"\"\n",
    "        Loss = np.zeros(self.n_layer)\n",
    "        Grad_set = {}\n",
    "        for i in range(self.n_layer-2):\n",
    "            x = Alpha_P['z'+str(i)]\n",
    "            y = Alpha_P['z'+str(i+1)]\n",
    "            G,q = one_step_forward(x,self.ac,self.Phi[\"Phi_\"+str(i)+str(i+1)],self.Norm_wake['sl_'+str(i+1)],add_norm)    \n",
    "            \n",
    "            self.lr[0,i],loss,Grad_set[\"grad_Phi_\"+str(i)+str(i+1)] = one_step_update(x,y,G,self.ac,\\\n",
    "             self.Phi[\"Phi_\"+str(i)+str(i+1)],self.Scalar[[i,i+1],:],self.Norm_wake['sl_'+str(i+1)],self.lr[0,i],\\\n",
    "                self.Fz_binary[i],self.fz_scale,self.fz_W,self.layer_norm,self.ln_rate,check_lr)\n",
    "            Loss[i] = loss\n",
    "            Loss[-1] += loss\n",
    "        return Loss,Grad_set\n",
    "    \n",
    "    def sleep_update(self,Alpha_Q,add_norm=True,check_lr=False):\n",
    "        \"\"\"\n",
    "        Arguments:\n",
    "        Alpha_Q -- assignment of each neuron (binary value), Python dictionary of length m with each key-value pair being \n",
    "        a numpy array of shape (n_dz[0,i], 1),i = m-1,...,0\n",
    "\n",
    "        Returns:\n",
    "        Theta, [a_x,b_x]\n",
    "        Loss -- numpy array of length m-1; the first m-2 values are layer loss, the last term is the total loss\n",
    "        Grad_set -- gradients of parameters\n",
    "        \"\"\"\n",
    "        Loss = np.zeros(self.n_layer)\n",
    "        Grad_set = {}\n",
    "        for i in range(self.n_layer-1,0,-1):\n",
    "            x = Alpha_Q['z'+str(i)]\n",
    "            y = Alpha_Q['z'+str(i-1)]\n",
    "            G,p = one_step_forward(x,self.ac,self.Theta[\"Theta_\"+str(i)+str(i-1)],self.Norm_sleep['sl_'+str(i-1)],add_norm)\n",
    "            \n",
    "            self.lr[1,i-1],loss,Grad_set[\"grad_Theta_\"+str(i)+str(i-1)] = one_step_update(x,y,G,self.ac,\\\n",
    "                self.Theta[\"Theta_\"+str(i)+str(i-1)],self.Scalar[[i,i-1],:],self.Norm_sleep['sl_'+str(i-1)],self.lr[1,i-1],\\\n",
    "                self.Fz_binary[i],self.fz_scale,self.fz_W,self.layer_norm,self.ln_rate,check_lr)\n",
    "            Loss[i-1] = loss\n",
    "            Loss[-1] += loss\n",
    "        return Loss,Grad_set\n",
    "    \n",
    "    # update statistics\n",
    "    def norm_update(self):\n",
    "        \"\"\"\n",
    "        After eg.1000 steps,\n",
    "        Normalize layer pre-activation linear term to mean 0, variance 1 and offset norm matrices to count 0\n",
    "        Check current learning rate, and update it if needed\n",
    "        Check parameters, see if each matrix rows are evenly distributed, consider turning layer_norm on\n",
    "        \n",
    "        After enough training,\n",
    "        For last 2 columns of parameter matrix, adaptive scale and bias, may turn it on\n",
    "        For Scalar, binary values for each layer, could modify it by training\n",
    "        \"\"\"\n",
    "        for i in range(self.n_layer-2):\n",
    "            one_step_norm_update(self.Phi[\"Phi_\"+str(i)+str(i+1)],self.Norm_wake['sl_'+str(i+1)])\n",
    "        for i in range(self.n_layer-1,0,-1):\n",
    "            one_step_norm_update(self.Theta[\"Theta_\"+str(i)+str(i-1)],self.Norm_sleep['sl_'+str(i-1)])\n",
    "            \n",
    "    def check_learning_rate(self,Alpha_P,Alpha_Q):\n",
    "        self.wake_update(Alpha_P,add_norm=False,check_lr=True) # see self.lr\n",
    "        self.sleep_update(Alpha_Q,add_norm=False,check_lr=True)\n",
    "    \n",
    "    # Compute latent statistics\n",
    "    def wake_sample_batch(self,D,add_norm=False):\n",
    "        \"\"\"\n",
    "        Arguments:\n",
    "        D -- data distriution represented in {0,1}, numpy array of shape (n_d, n_data)\n",
    "        Returns:\n",
    "        Alpha_Q_bnr -- assignment of each neuron as {1,0}, Python dictionary of length m with each key-value pair being \n",
    "        a numpy array of shape (n_dz[0,i], n_data),i = 0,...m-1\n",
    "        Norm -- updated mean and variance on every sampling\n",
    "        \"\"\"\n",
    "        n_data = D.shape[1]\n",
    "        a = self.Scalar[0,0]\n",
    "        b = self.Scalar[0,1]\n",
    "        S = D*(a-b)+b  # input layer\n",
    "        Alpha_Q_bnr = {\"z0\":D}\n",
    "        for i in range(self.n_layer-2):\n",
    "            G,q = one_step_forward(S,self.ac,self.Phi[\"Phi_\"+str(i)+str(i+1)],self.Norm_wake['sl_'+str(i+1)],add_norm)\n",
    "            a = self.Scalar[i+1,0]\n",
    "            b = self.Scalar[i+1,1]\n",
    "            S_bnr = (q > np.random.rand(len(q),n_data)).astype(int)\n",
    "            S = S_bnr*(a-b)+b\n",
    "            Alpha_Q_bnr[\"z\"+str(i+1)] = S_bnr\n",
    "        return Alpha_Q_bnr\n",
    "    \n",
    "    def sleep_sample_batch(self,n_sample,add_norm=False):\n",
    "        \"\"\"\n",
    "        Returns:\n",
    "        Alpha_P_bnr -- assignment of each neuron (binary value) as {1,0}, Python dictionary of length m with each key-value pair \n",
    "        being a numpy array of shape (n_dz[0,i], n_data),i = m-1,...,0\n",
    "        \"\"\"\n",
    "        S = np.ones((1,n_sample))\n",
    "        Alpha_P_bnr = {\"z\"+str(self.n_layer-1):S}\n",
    "        for i in range(self.n_layer-1,0,-1):\n",
    "            G,p = one_step_forward(S,self.ac,self.Theta[\"Theta_\"+str(i)+str(i-1)],self.Norm_sleep['sl_'+str(i-1)],add_norm)\n",
    "            a = self.Scalar[i-1,0]\n",
    "            b = self.Scalar[i-1,1]\n",
    "            S_bnr = (p > np.random.rand(len(p),n_sample)).astype(int)\n",
    "            S = S_bnr*(a-b)+b   # rejection sampling as a or b\n",
    "            Alpha_P_bnr[\"z\"+str(i-1)] = S_bnr\n",
    "        return Alpha_P_bnr\n",
    "    \n",
    "    # Compute latent distribution\n",
    "    def prob_matrix(self):\n",
    "        self.Prob_mtx_wake = {}\n",
    "        self.Prob_mtx_sleep = {}\n",
    "        for i in range(self.n_layer-2):\n",
    "            self.Prob_mtx_wake[\"Prob_\"+str(i)+str(i+1)] = one_step_prob_matrix(\\\n",
    "                self.ac,self.n_dz[0,i],self.Phi[\"Phi_\"+str(i)+str(i+1)],self.Norm_wake['sl_'+str(i+1)])\n",
    "        for i in range(self.n_layer-1,0,-1):\n",
    "            self.Prob_mtx_sleep[\"Prob_\"+str(i)+str(i-1)] = one_step_prob_matrix(\\\n",
    "                self.ac,self.n_dz[0,i],self.Theta[\"Theta_\"+str(i)+str(i-1)],self.Norm_sleep['sl_'+str(i-1)])\n",
    "            \n",
    "    def MI_wake(self,d0,MI_matrix,precision=0.2,add_norm=True):\n",
    "        \"\"\"\n",
    "        Sample wake phase by maximize layer-wise mutual information\n",
    "        Arguments:\n",
    "        d0 -- input pattern in {0,1}, numpy array of shape (n_d, 1)\n",
    "\n",
    "        Returns:\n",
    "        Alpha_Q -- assignment of each neuron (binary value), Python dictionary of length m with each key-value pair being \n",
    "        a numpy array of shape (n_dz[0,i], 1),i = 0,...m-1\n",
    "        Norm_wake, Phi, [a_x,b_x]\n",
    "        Loss -- numpy array of length m-1; the first m-2 values are layer loss, the last term is the total loss\n",
    "        Grad_set -- gradients of parameters\n",
    "        Nums -- numpy array of shape (3,m-2), row1: number of picked probabilities; row2: number of MI increase; \n",
    "        row3: number of intersection of two sets\n",
    "        \"\"\"\n",
    "        a = self.Scalar[0,0]\n",
    "        b = self.Scalar[0,1]\n",
    "        cat_x = decimalize(d0)[0]\n",
    "        x = d0*(a-b)+b  # input layer\n",
    "        Alpha_Q = {\"z0\":x}\n",
    "        \n",
    "        Loss = np.zeros(self.n_layer)\n",
    "        Grad_set = {}\n",
    "        Num = np.zeros(self.n_layer-2)\n",
    "        keys = [*MI_matrix]\n",
    "        for i in range(self.n_layer-2):\n",
    "            G,q = one_step_forward(x,self.ac,self.Phi[\"Phi_\"+str(i)+str(i+1)],self.Norm_wake['sl_'+str(i+1)],add_norm)\n",
    "            \n",
    "            cat_y = determine_y(MI_matrix[keys[i]],cat_x,q,precision)\n",
    "            y_bnr = binarilize([cat_y],width=self.n_dz[0,i+1])\n",
    "            a = self.Scalar[i+1,0]\n",
    "            b = self.Scalar[i+1,1]\n",
    "            y = y_bnr*(a-b)+b\n",
    "            \n",
    "            self.lr[0,i],loss,Grad_set[\"grad_Phi_\"+str(i)+str(i+1)] = one_step_update(x,y,G,self.ac,\\\n",
    "             self.Phi[\"Phi_\"+str(i)+str(i+1)],self.Scalar[[i,i+1],:],self.Norm_wake['sl_'+str(i+1)],self.lr[0,i],\\\n",
    "                self.Fz_binary[i],self.fz_scale,self.fz_W,self.layer_norm,self.ln_rate,check_lr=False)\n",
    "            Loss[i] = loss\n",
    "            Loss[-1] += loss\n",
    "            \n",
    "            Alpha_Q[\"z\"+str(i+1)] = y\n",
    "            cat_x = cat_y\n",
    "            x = y\n",
    "        Alpha_Q[\"z\"+str(self.n_layer-1)] = [[1]]\n",
    "        \n",
    "        return Alpha_Q,Loss,Grad_set\n",
    "    "
   ]
  },
  {
   "cell_type": "markdown",
   "id": "363c7acd",
   "metadata": {},
   "source": [
    "#### Initialize model"
   ]
  },
  {
   "cell_type": "code",
   "execution_count": 1765,
   "id": "c3094409",
   "metadata": {},
   "outputs": [
    {
     "data": {
      "text/plain": [
       "array([[10,  8,  6,  3,  1],\n",
       "       [ 0,  0,  0,  0,  0],\n",
       "       [ 0,  0,  0,  0,  0]])"
      ]
     },
     "execution_count": 1765,
     "metadata": {},
     "output_type": "execute_result"
    }
   ],
   "source": [
    "structure = [[10,8,6,3,1],\n",
    "             [0, 0,0,0,0],\n",
    "             [0, 0,0,0,0]]\n",
    "n_dz = np.array(structure)\n",
    "n_dz"
   ]
  },
  {
   "cell_type": "code",
   "execution_count": 1766,
   "id": "5b4fbc43",
   "metadata": {},
   "outputs": [],
   "source": [
    "HM = Helmholtz_machine(n_dz,'sigmoid',init_lr=0.1)"
   ]
  },
  {
   "cell_type": "code",
   "execution_count": 1767,
   "id": "303a8f72",
   "metadata": {},
   "outputs": [
    {
     "data": {
      "text/plain": [
       "array([1, 0])"
      ]
     },
     "execution_count": 1767,
     "metadata": {},
     "output_type": "execute_result"
    }
   ],
   "source": [
    "value_set = np.array([1,0])\n",
    "value_set"
   ]
  },
  {
   "cell_type": "code",
   "execution_count": 1768,
   "id": "21d59290",
   "metadata": {},
   "outputs": [],
   "source": [
    "HM.parameter_init('random',value_set)"
   ]
  },
  {
   "cell_type": "code",
   "execution_count": 1769,
   "id": "6a2594d9",
   "metadata": {},
   "outputs": [
    {
     "data": {
      "text/plain": [
       "[True, True, True, True, True]"
      ]
     },
     "execution_count": 1769,
     "metadata": {},
     "output_type": "execute_result"
    }
   ],
   "source": [
    "Fz_binary = [True]*HM.n_layer\n",
    "Fz_binary"
   ]
  },
  {
   "cell_type": "code",
   "execution_count": 1770,
   "id": "84375bb6",
   "metadata": {},
   "outputs": [],
   "source": [
    "HM.set_control(Fz_binary,fz_scale=True,fz_W=False,layer_norm=False,layer_norm_rate=2)"
   ]
  },
  {
   "cell_type": "markdown",
   "id": "678f8f97",
   "metadata": {},
   "source": [
    "#### Dataset"
   ]
  },
  {
   "cell_type": "code",
   "execution_count": 607,
   "id": "ffb7ba0c",
   "metadata": {},
   "outputs": [],
   "source": [
    "def well_formed_generate(n_d):\n",
    "    \"\"\"\n",
    "    Well-formedness rules:\n",
    "        1. Start with 1\n",
    "        2. Forbid 00100 (no 100, 001 on the boundary)\n",
    "        3. Forbid 0000\n",
    "        \n",
    "    Arguments:\n",
    "    n_d -- length of input layer (single data point)\n",
    "    \n",
    "    Returns:\n",
    "    well_formed_set -- a dataset obeys the well-formedness rules, numpy array of shape (n_d,n_data) in {0,1}\n",
    "    n_data is the number of datapoints in the generated dataset\n",
    "    \"\"\"\n",
    "    well_formed_set = np.zeros([1,n_d],dtype=int)\n",
    "    well_formed_set[0,0] = 1\n",
    "\n",
    "    for i in range(1,n_d):\n",
    "        for j in range(np.shape(well_formed_set)[0]):\n",
    "            if i == 2 and np.array_equal(well_formed_set[j,i-2:i], [1,0]):\n",
    "                well_formed_set[j,i] = 1\n",
    "            elif i > 3 and np.array_equal(well_formed_set[j,i-3:i], [0,0,0]):\n",
    "                well_formed_set[j,i] = 1\n",
    "            elif i > 3 and np.array_equal(well_formed_set[j,i-4:i], [0,0,1,0]):\n",
    "                well_formed_set[j,i] = 1\n",
    "            else:\n",
    "                well_formed_set = np.append(well_formed_set, well_formed_set[j:j+1,:], axis=0)\n",
    "                well_formed_set[j,i] = 1\n",
    "\n",
    "    ind = np.array([], dtype=np.int8)\n",
    "    for i in range(well_formed_set.shape[0]):\n",
    "        if np.array_equal(well_formed_set[i,-3:], [0,0,1]):\n",
    "            ind = np.append(ind,i)\n",
    "\n",
    "    well_formed_set = np.delete(well_formed_set,ind,0)\n",
    "    well_formed_set = np.transpose(well_formed_set)\n",
    "    \n",
    "    return well_formed_set"
   ]
  },
  {
   "cell_type": "code",
   "execution_count": 608,
   "id": "0f08793e",
   "metadata": {},
   "outputs": [
    {
     "data": {
      "text/plain": [
       "array([[1, 1, 1, ..., 1, 1, 1],\n",
       "       [1, 0, 1, ..., 1, 0, 1],\n",
       "       [1, 1, 0, ..., 1, 1, 0],\n",
       "       ...,\n",
       "       [1, 1, 1, ..., 0, 0, 0],\n",
       "       [1, 1, 1, ..., 0, 0, 0],\n",
       "       [1, 1, 1, ..., 0, 0, 0]])"
      ]
     },
     "execution_count": 608,
     "metadata": {},
     "output_type": "execute_result"
    }
   ],
   "source": [
    "well_formed_set = well_formed_generate(HM.n_d)\n",
    "well_formed_set"
   ]
  },
  {
   "cell_type": "code",
   "execution_count": 609,
   "id": "77a9d814",
   "metadata": {},
   "outputs": [
    {
     "data": {
      "text/plain": [
       "(10, 256)"
      ]
     },
     "execution_count": 609,
     "metadata": {},
     "output_type": "execute_result"
    }
   ],
   "source": [
    "well_formed_set.shape"
   ]
  },
  {
   "cell_type": "code",
   "execution_count": 859,
   "id": "5fdca947",
   "metadata": {},
   "outputs": [
    {
     "data": {
      "text/plain": [
       "array([[1],\n",
       "       [0],\n",
       "       [1],\n",
       "       [0],\n",
       "       [1],\n",
       "       [1],\n",
       "       [1],\n",
       "       [1],\n",
       "       [1],\n",
       "       [1]])"
      ]
     },
     "execution_count": 859,
     "metadata": {},
     "output_type": "execute_result"
    }
   ],
   "source": [
    "d0 = well_formed_set[:,4:5]\n",
    "d0"
   ]
  },
  {
   "cell_type": "code",
   "execution_count": 611,
   "id": "b5f20588",
   "metadata": {},
   "outputs": [
    {
     "data": {
      "text/plain": [
       "array([[0, 0, 0, ..., 1, 1, 1],\n",
       "       [0, 0, 0, ..., 1, 1, 1],\n",
       "       [0, 0, 0, ..., 1, 1, 1],\n",
       "       ...,\n",
       "       [0, 0, 0, ..., 1, 1, 1],\n",
       "       [0, 0, 1, ..., 0, 1, 1],\n",
       "       [0, 1, 0, ..., 1, 0, 1]])"
      ]
     },
     "execution_count": 611,
     "metadata": {},
     "output_type": "execute_result"
    }
   ],
   "source": [
    "entire_set = binarilize(np.arange(2**HM.n_d),HM.n_d)\n",
    "entire_set"
   ]
  },
  {
   "cell_type": "code",
   "execution_count": 1232,
   "id": "1ac35ff9",
   "metadata": {},
   "outputs": [],
   "source": [
    "def random_generate(k,n,n_data):\n",
    "    \"\"\"\n",
    "    The dataset is generated in a favor of Bayesian mixure of Gaussians. Given k mixture Gaussian components, we sample their \n",
    "    means u_1...u_k uniformly from [0,1]. Then we randomly assign each data to one of the components, and sample from its \n",
    "    Gaussian distribution (u_k, sigma). sigma is a hyperparameter, we default it to 1.\n",
    "    \n",
    "    The \"Bayesian mixure of Gaussians\" generation is just a way to generate dataset with non-singular distributions. The \n",
    "    generated data distribution is not identified with the mixure of Gaussian distributions that generated it. In other words, \n",
    "    the data is treated as sole evidence without any prior on how it's been generated thus its reconstruction is not convolved \n",
    "    with it's generative distributions, which is a major difference from varietional inference.\n",
    "        \n",
    "    Arguments:\n",
    "    k -- number of Gaussian components\n",
    "    n -- length of input layer (single data point)\n",
    "    n_data -- number of datapoints to generate\n",
    "    value_set -- list or array [a,b], where a is the positive outcome and b is the negative outcome of a Bernoulli experiment\n",
    "    \n",
    "    Returns:\n",
    "    random_set -- generated dataset, numpy array of shape (n,n_data), n_data is the number of datapoints in the generated dataset\n",
    "    \"\"\"\n",
    "    u = np.random.rand(n,k)\n",
    "    c = np.random.randint(k, size=(n_data,))\n",
    "    data_mean = u[:,c]\n",
    "    prob = np.random.randn(n,n_data) + data_mean\n",
    "    random_set = (prob>0.5).astype(int)\n",
    "    \n",
    "    return random_set"
   ]
  },
  {
   "cell_type": "code",
   "execution_count": 1233,
   "id": "9a6cc913",
   "metadata": {},
   "outputs": [
    {
     "data": {
      "text/plain": [
       "array([[1, 0, 0, ..., 0, 1, 0],\n",
       "       [1, 1, 0, ..., 0, 1, 1],\n",
       "       [0, 0, 0, ..., 1, 0, 0],\n",
       "       ...,\n",
       "       [0, 1, 0, ..., 0, 0, 1],\n",
       "       [0, 1, 0, ..., 0, 0, 0],\n",
       "       [0, 1, 1, ..., 0, 1, 0]])"
      ]
     },
     "execution_count": 1233,
     "metadata": {},
     "output_type": "execute_result"
    }
   ],
   "source": [
    "k = 3\n",
    "n_data = 300\n",
    "random_set = random_generate(k,HM.n_d,n_data)\n",
    "random_set"
   ]
  },
  {
   "cell_type": "code",
   "execution_count": 1235,
   "id": "12eadddc",
   "metadata": {},
   "outputs": [
    {
     "data": {
      "text/plain": [
       "(10, 250)"
      ]
     },
     "execution_count": 1235,
     "metadata": {},
     "output_type": "execute_result"
    }
   ],
   "source": [
    "np.unique(random_set,axis=1).shape"
   ]
  },
  {
   "cell_type": "markdown",
   "id": "f7f2dcd7",
   "metadata": {},
   "source": [
    "#### Train the model"
   ]
  },
  {
   "cell_type": "code",
   "execution_count": 1587,
   "id": "6efc5c16",
   "metadata": {},
   "outputs": [],
   "source": [
    "dataset = random_set\n",
    "n_data = dataset.shape[1]\n",
    "epoch = 100"
   ]
  },
  {
   "cell_type": "code",
   "execution_count": 1725,
   "id": "3cd23238",
   "metadata": {},
   "outputs": [
    {
     "name": "stdout",
     "output_type": "stream",
     "text": [
      "Loss_Q: [3.23 3.19 0.72 0.   7.14] Loss_P: [4.1  2.01 2.15 1.3  9.57]\n",
      "Loss_Q: [2.66 2.16 0.53 0.   5.36] Loss_P: [4.17 2.13 2.32 1.19 9.82]\n",
      "Loss_Q: [2.28 2.12 0.49 0.   4.89] Loss_P: [4.21 2.04 2.07 1.27 9.6 ]\n",
      "Loss_Q: [2.47 1.99 0.35 0.   4.81] Loss_P: [4.23 1.93 2.29 1.26 9.72]\n",
      "Loss_Q: [1.93 2.01 0.5  0.   4.43] Loss_P: [4.22 1.77 2.19 1.31 9.48]\n",
      "Loss_Q: [1.98 2.19 0.4  0.   4.57] Loss_P: [4.36 1.69 2.26 1.29 9.6 ]\n",
      "Loss_Q: [2.04 1.78 0.33 0.   4.15] Loss_P: [4.32 1.66 2.38 1.27 9.64]\n",
      "Loss_Q: [1.96 1.94 0.31 0.   4.2 ] Loss_P: [4.19 1.71 2.26 1.22 9.38]\n",
      "Loss_Q: [1.96 2.06 0.49 0.   4.51] Loss_P: [4.35 1.7  2.3  1.3  9.65]\n",
      "Loss_Q: [1.81 1.6  0.44 0.   3.84] Loss_P: [4.41 1.71 2.28 1.28 9.68]\n",
      "Loss_Q: [1.74 1.63 0.34 0.   3.7 ] Loss_P: [4.25 1.72 2.28 1.23 9.49]\n",
      "Loss_Q: [1.59 1.7  0.35 0.   3.63] Loss_P: [4.29 1.7  2.33 1.22 9.54]\n",
      "Loss_Q: [1.41 1.43 0.36 0.   3.2 ] Loss_P: [4.34 1.66 2.36 1.16 9.53]\n",
      "Loss_Q: [1.7  1.45 0.27 0.   3.43] Loss_P: [4.38 1.66 2.32 1.15 9.51]\n",
      "Loss_Q: [1.52 1.41 0.27 0.   3.2 ] Loss_P: [4.56 1.72 2.3  1.13 9.71]\n",
      "Loss_Q: [1.39 1.45 0.31 0.   3.16] Loss_P: [4.68 1.5  2.35 1.14 9.67]\n",
      "Loss_Q: [1.39 1.65 0.37 0.   3.41] Loss_P: [4.42 1.6  2.3  1.19 9.5 ]\n",
      "Loss_Q: [1.67 1.61 0.37 0.   3.64] Loss_P: [4.6  1.54 2.39 1.17 9.71]\n",
      "Loss_Q: [1.32 1.51 0.41 0.   3.24] Loss_P: [4.6  1.38 2.46 1.15 9.59]\n",
      "Loss_Q: [1.64 1.6  0.51 0.   3.75] Loss_P: [4.61 1.46 2.36 1.22 9.65]\n",
      "Loss_Q: [1.45 1.68 0.4  0.   3.53] Loss_P: [4.54 1.57 2.42 1.12 9.66]\n",
      "Loss_Q: [1.42 1.65 0.26 0.   3.34] Loss_P: [4.61 1.6  2.34 1.22 9.77]\n",
      "Loss_Q: [1.57 1.67 0.36 0.   3.6 ] Loss_P: [4.57 1.54 2.33 1.13 9.57]\n",
      "Loss_Q: [1.35 1.59 0.34 0.   3.28] Loss_P: [4.41 1.58 2.48 1.21 9.68]\n",
      "Loss_Q: [1.39 1.66 0.34 0.   3.39] Loss_P: [4.56 1.57 2.33 1.26 9.71]\n",
      "Loss_Q: [1.44 1.57 0.4  0.   3.41] Loss_P: [4.58 1.58 2.33 1.19 9.68]\n",
      "Loss_Q: [1.47 1.74 0.31 0.   3.52] Loss_P: [4.76 1.52 2.36 1.23 9.88]\n",
      "Loss_Q: [1.39 1.68 0.41 0.   3.47] Loss_P: [4.7  1.48 2.57 1.09 9.84]\n",
      "Loss_Q: [1.39 1.71 0.3  0.   3.4 ] Loss_P: [4.8  1.56 2.46 1.17 9.99]\n",
      "Loss_Q: [1.37 1.4  0.31 0.   3.08] Loss_P: [4.63 1.46 2.22 1.24 9.54]\n",
      "Loss_Q: [1.61 1.68 0.4  0.   3.68] Loss_P: [4.85 1.63 2.25 1.21 9.94]\n",
      "Loss_Q: [1.49 1.51 0.43 0.   3.43] Loss_P: [4.85 1.66 2.04 1.35 9.9 ]\n",
      "Loss_Q: [1.41 1.46 0.4  0.   3.28] Loss_P: [4.66 1.65 2.14 1.23 9.68]\n",
      "Loss_Q: [1.52 1.39 0.33 0.   3.23] Loss_P: [4.87 1.55 2.3  1.23 9.95]\n",
      "Loss_Q: [1.35 1.76 0.28 0.   3.39] Loss_P: [4.88 1.42 2.51 1.08 9.89]\n",
      "Loss_Q: [1.27 1.42 0.35 0.   3.04] Loss_P: [4.79 1.58 2.23 1.26 9.86]\n",
      "Loss_Q: [1.61 1.84 0.37 0.   3.82] Loss_P: [4.86 1.45 2.48 1.19 9.98]\n",
      "Loss_Q: [1.6  1.65 0.4  0.   3.65] Loss_P: [ 4.74  1.83  2.42  1.13 10.12]\n",
      "Loss_Q: [1.39 1.79 0.38 0.   3.56] Loss_P: [4.65 1.69 2.32 1.25 9.9 ]\n",
      "Loss_Q: [1.48 1.69 0.39 0.   3.55] Loss_P: [ 4.79  1.76  2.46  1.1  10.11]\n",
      "Loss_Q: [1.59 1.59 0.41 0.   3.59] Loss_P: [4.66 1.61 2.28 1.23 9.78]\n",
      "Loss_Q: [1.34 1.43 0.36 0.   3.14] Loss_P: [ 5.01  1.63  2.34  1.18 10.16]\n",
      "Loss_Q: [1.4  1.43 0.32 0.   3.16] Loss_P: [4.92 1.52 2.28 1.25 9.97]\n",
      "Loss_Q: [1.61 1.73 0.35 0.   3.69] Loss_P: [4.89 1.67 2.31 1.11 9.98]\n",
      "Loss_Q: [1.63 1.71 0.35 0.   3.69] Loss_P: [ 4.85  1.76  2.4   1.25 10.25]\n",
      "Loss_Q: [1.53 1.73 0.33 0.   3.58] Loss_P: [ 4.75  1.72  2.58  1.08 10.13]\n",
      "Loss_Q: [1.48 1.45 0.4  0.   3.33] Loss_P: [4.91 1.59 2.34 1.1  9.94]\n",
      "Loss_Q: [1.59 1.79 0.34 0.   3.72] Loss_P: [ 4.87  1.61  2.58  1.17 10.22]\n",
      "Loss_Q: [1.31 1.74 0.31 0.   3.36] Loss_P: [ 5.    1.55  2.46  1.12 10.12]\n",
      "Loss_Q: [1.53 1.76 0.42 0.   3.71] Loss_P: [ 5.01  1.69  2.5   1.14 10.33]\n",
      "Loss_Q: [1.57 1.9  0.4  0.   3.87] Loss_P: [ 5.01  1.57  2.59  1.17 10.34]\n",
      "Loss_Q: [1.56 1.6  0.42 0.   3.57] Loss_P: [ 4.86  1.79  2.37  1.18 10.19]\n",
      "Loss_Q: [1.53 1.49 0.37 0.   3.39] Loss_P: [ 4.86  1.75  2.39  1.18 10.18]\n",
      "Loss_Q: [1.34 1.56 0.28 0.   3.18] Loss_P: [ 4.95  1.87  2.36  1.21 10.39]\n",
      "Loss_Q: [1.76 1.55 0.48 0.   3.78] Loss_P: [ 4.79  1.94  2.42  1.13 10.29]\n",
      "Loss_Q: [1.83 1.62 0.48 0.   3.94] Loss_P: [ 4.73  2.14  2.45  1.19 10.51]\n",
      "Loss_Q: [1.73 1.4  0.42 0.   3.55] Loss_P: [ 4.81  1.84  2.26  1.19 10.1 ]\n",
      "Loss_Q: [1.52 1.69 0.43 0.   3.64] Loss_P: [ 4.71  2.04  2.44  1.18 10.37]\n",
      "Loss_Q: [1.62 1.52 0.41 0.   3.55] Loss_P: [ 4.83  2.06  2.37  1.15 10.4 ]\n",
      "Loss_Q: [1.57 1.36 0.45 0.   3.38] Loss_P: [ 5.05  2.02  2.34  1.17 10.58]\n",
      "Loss_Q: [1.64 1.68 0.38 0.   3.7 ] Loss_P: [ 4.87  2.    2.34  1.25 10.46]\n",
      "Loss_Q: [1.93 1.71 0.41 0.   4.04] Loss_P: [ 4.81  1.97  2.41  1.28 10.47]\n",
      "Loss_Q: [1.78 1.91 0.47 0.   4.16] Loss_P: [ 4.88  1.95  2.63  1.17 10.64]\n",
      "Loss_Q: [1.73 1.83 0.33 0.   3.89] Loss_P: [ 4.83  1.99  2.64  1.14 10.59]\n",
      "Loss_Q: [1.94 1.8  0.34 0.   4.08] Loss_P: [ 4.9   1.97  2.68  1.12 10.67]\n",
      "Loss_Q: [2.12 2.09 0.42 0.   4.63] Loss_P: [ 4.97  2.17  2.56  1.22 10.92]\n",
      "Loss_Q: [2.06 1.98 0.36 0.   4.4 ] Loss_P: [ 5.    2.07  2.81  1.06 10.94]\n",
      "Loss_Q: [1.88 1.95 0.41 0.   4.23] Loss_P: [ 5.07  2.02  2.42  1.2  10.7 ]\n",
      "Loss_Q: [2.   1.73 0.38 0.   4.12] Loss_P: [ 4.95  2.09  2.61  1.08 10.73]\n",
      "Loss_Q: [1.99 1.98 0.39 0.   4.36] Loss_P: [ 5.03  2.01  2.55  1.17 10.77]\n",
      "Loss_Q: [1.93 1.79 0.35 0.   4.07] Loss_P: [ 5.14  2.03  2.42  1.16 10.74]\n",
      "Loss_Q: [1.88 1.7  0.35 0.   3.93] Loss_P: [ 5.08  2.02  2.29  1.11 10.5 ]\n",
      "Loss_Q: [1.98 1.93 0.32 0.   4.23] Loss_P: [ 5.18  2.1   2.55  1.08 10.91]\n",
      "Loss_Q: [1.9  2.1  0.31 0.   4.32] Loss_P: [ 5.19  1.94  2.66  1.11 10.9 ]\n",
      "Loss_Q: [2.   1.72 0.33 0.   4.06] Loss_P: [ 5.1   2.13  2.52  1.13 10.88]\n",
      "Loss_Q: [2.05 1.52 0.51 0.   4.08] Loss_P: [ 5.12  2.14  2.46  1.22 10.94]\n",
      "Loss_Q: [2.08 1.74 0.44 0.   4.26] Loss_P: [ 4.97  2.24  2.25  1.26 10.72]\n",
      "Loss_Q: [1.96 1.52 0.46 0.   3.94] Loss_P: [ 5.14  2.18  2.01  1.25 10.58]\n",
      "Loss_Q: [1.99 1.62 0.41 0.   4.01] Loss_P: [ 5.21  2.22  2.25  1.3  10.98]\n",
      "Loss_Q: [2.07 1.84 0.48 0.   4.39] Loss_P: [ 5.16  2.11  2.42  1.24 10.93]\n",
      "Loss_Q: [1.87 1.98 0.37 0.   4.22] Loss_P: [ 5.21  1.99  2.71  1.21 11.12]\n",
      "Loss_Q: [1.84 2.03 0.49 0.   4.36] Loss_P: [ 5.37  1.72  2.59  1.24 10.93]\n",
      "Loss_Q: [1.86 2.2  0.44 0.   4.51] Loss_P: [ 5.3   1.66  2.83  1.23 11.02]\n",
      "Loss_Q: [1.74 2.13 0.55 0.   4.42] Loss_P: [ 5.45  1.6   2.68  1.29 11.03]\n",
      "Loss_Q: [1.67 2.01 0.46 0.   4.14] Loss_P: [ 5.34  1.72  2.32  1.3  10.69]\n",
      "Loss_Q: [1.65 1.72 0.48 0.   3.86] Loss_P: [ 5.58  1.84  2.06  1.26 10.73]\n",
      "Loss_Q: [1.85 1.79 0.49 0.   4.13] Loss_P: [ 5.36  1.74  2.51  1.27 10.88]\n",
      "Loss_Q: [1.87 1.74 0.43 0.   4.04] Loss_P: [ 5.34  1.88  2.18  1.35 10.75]\n",
      "Loss_Q: [1.76 2.01 0.38 0.   4.16] Loss_P: [ 5.43  1.77  2.78  1.04 11.02]\n",
      "Loss_Q: [1.85 2.18 0.44 0.   4.47] Loss_P: [ 5.27  1.84  2.81  1.21 11.13]\n",
      "Loss_Q: [1.89 2.1  0.36 0.   4.34] Loss_P: [ 5.35  1.74  2.5   1.2  10.79]\n",
      "Loss_Q: [1.93 2.03 0.42 0.   4.37] Loss_P: [ 5.44  2.11  2.62  1.27 11.44]\n",
      "Loss_Q: [1.77 1.87 0.45 0.   4.08] Loss_P: [ 5.42  1.75  2.24  1.23 10.64]\n",
      "Loss_Q: [1.64 1.45 0.42 0.   3.52] Loss_P: [ 5.54  1.68  2.05  1.21 10.48]\n",
      "Loss_Q: [2.08 2.2  0.42 0.   4.71] Loss_P: [ 5.36  2.    2.74  1.21 11.31]\n",
      "Loss_Q: [1.92 2.31 0.4  0.   4.63] Loss_P: [ 5.35  2.02  2.89  1.17 11.42]\n",
      "Loss_Q: [1.85 2.29 0.41 0.   4.55] Loss_P: [ 5.44  2.    2.58  1.2  11.22]\n",
      "Loss_Q: [2.05 2.11 0.34 0.   4.51] Loss_P: [ 5.48  2.1   2.72  1.17 11.47]\n",
      "Loss_Q: [2.07 2.25 0.41 0.   4.73] Loss_P: [ 5.38  2.33  2.71  1.15 11.57]\n",
      "Loss_Q: [2.42 2.39 0.47 0.   5.28] Loss_P: [ 5.59  2.3   2.8   1.27 11.96]\n"
     ]
    }
   ],
   "source": [
    "for e in range (epoch):\n",
    "    index = np.random.permutation(n_data)\n",
    "    Loss_Q_total = np.zeros(HM.n_layer)\n",
    "    Loss_P_total = np.zeros(HM.n_layer)\n",
    "    for i in range(n_data):\n",
    "        d0 = dataset[:,index[i]:index[i]+1]\n",
    "        Alpha_Q = HM.wake_sample(d0)\n",
    "        Loss_P,Grad_P = HM.sleep_update(Alpha_Q)\n",
    "        Alpha_P = HM.sleep_sample()\n",
    "        Loss_Q,Grad_Q = HM.wake_update(Alpha_P)\n",
    "        \n",
    "        Loss_Q_total += Loss_Q\n",
    "        Loss_P_total += Loss_P\n",
    "    Loss_Q_total = Loss_Q_total/n_data\n",
    "    Loss_P_total = Loss_P_total/n_data\n",
    "    print('Loss_Q: '+ str(np.around(Loss_Q_total,2)), 'Loss_P: '+ str(np.around(Loss_P_total,2)))"
   ]
  },
  {
   "cell_type": "code",
   "execution_count": 1746,
   "id": "09865248",
   "metadata": {},
   "outputs": [],
   "source": [
    "epoch = 50"
   ]
  },
  {
   "cell_type": "code",
   "execution_count": 1771,
   "id": "5adac9d5",
   "metadata": {},
   "outputs": [
    {
     "name": "stdout",
     "output_type": "stream",
     "text": [
      "Loss_Q: [2.62 1.62 0.71 0.   4.95] Loss_P: [ 6.51  4.33  3.71  1.44 15.99]\n",
      "Loss_Q: [1.78 1.1  0.41 0.   3.28] Loss_P: [ 5.3   2.79  2.55  1.35 11.99]\n",
      "Loss_Q: [1.45 0.8  0.25 0.   2.5 ] Loss_P: [ 4.88  2.76  2.19  1.29 11.12]\n",
      "Loss_Q: [1.23 0.58 0.18 0.   1.99] Loss_P: [ 4.63  2.64  2.06  1.25 10.58]\n",
      "Loss_Q: [1.05 0.47 0.15 0.   1.67] Loss_P: [ 4.44  2.4   2.03  1.27 10.15]\n",
      "Loss_Q: [0.9  0.39 0.1  0.   1.4 ] Loss_P: [ 4.35  2.37  2.04  1.23 10.  ]\n",
      "Loss_Q: [0.85 0.35 0.07 0.   1.26] Loss_P: [4.28 2.29 2.01 1.28 9.85]\n",
      "Loss_Q: [0.77 0.31 0.05 0.   1.13] Loss_P: [4.25 2.23 1.95 1.28 9.71]\n",
      "Loss_Q: [0.73 0.28 0.04 0.   1.05] Loss_P: [4.18 2.25 1.93 1.26 9.62]\n",
      "Loss_Q: [0.68 0.24 0.04 0.   0.96] Loss_P: [4.14 2.24 1.97 1.28 9.63]\n",
      "Loss_Q: [0.65 0.22 0.03 0.   0.9 ] Loss_P: [4.08 2.14 1.94 1.3  9.46]\n",
      "Loss_Q: [0.62 0.2  0.03 0.   0.86] Loss_P: [4.03 2.25 1.97 1.29 9.54]\n",
      "Loss_Q: [0.62 0.19 0.03 0.   0.84] Loss_P: [3.98 2.26 1.99 1.29 9.52]\n",
      "Loss_Q: [0.57 0.18 0.03 0.   0.78] Loss_P: [3.94 2.21 1.94 1.31 9.39]\n",
      "Loss_Q: [0.55 0.17 0.02 0.   0.74] Loss_P: [3.91 2.19 1.9  1.3  9.3 ]\n",
      "Loss_Q: [0.53 0.16 0.02 0.   0.71] Loss_P: [3.95 2.19 1.91 1.3  9.35]\n",
      "Loss_Q: [0.51 0.15 0.02 0.   0.69] Loss_P: [3.92 2.24 1.93 1.28 9.37]\n",
      "Loss_Q: [0.48 0.15 0.02 0.   0.64] Loss_P: [3.88 2.22 1.93 1.29 9.32]\n",
      "Loss_Q: [0.47 0.14 0.02 0.   0.63] Loss_P: [3.85 2.24 1.94 1.29 9.31]\n",
      "Loss_Q: [0.45 0.14 0.02 0.   0.61] Loss_P: [3.89 2.25 1.92 1.29 9.35]\n",
      "Loss_Q: [0.44 0.14 0.02 0.   0.59] Loss_P: [3.85 2.27 1.94 1.29 9.35]\n",
      "Loss_Q: [0.43 0.13 0.01 0.   0.57] Loss_P: [3.82 2.25 1.94 1.29 9.3 ]\n",
      "Loss_Q: [0.42 0.12 0.01 0.   0.55] Loss_P: [3.84 2.24 1.92 1.3  9.3 ]\n",
      "Loss_Q: [0.4  0.12 0.01 0.   0.53] Loss_P: [3.85 2.24 1.91 1.29 9.28]\n",
      "Loss_Q: [0.39 0.12 0.01 0.   0.51] Loss_P: [3.79 2.24 1.97 1.31 9.3 ]\n",
      "Loss_Q: [0.38 0.11 0.01 0.   0.5 ] Loss_P: [3.79 2.26 1.95 1.3  9.29]\n",
      "Loss_Q: [0.37 0.1  0.01 0.   0.49] Loss_P: [3.83 2.25 1.94 1.31 9.32]\n",
      "Loss_Q: [0.36 0.1  0.01 0.   0.47] Loss_P: [3.8  2.24 1.98 1.31 9.33]\n",
      "Loss_Q: [0.35 0.1  0.01 0.   0.46] Loss_P: [3.78 2.23 1.95 1.32 9.28]\n",
      "Loss_Q: [0.34 0.09 0.01 0.   0.44] Loss_P: [3.75 2.22 1.94 1.32 9.22]\n",
      "Loss_Q: [0.33 0.09 0.01 0.   0.43] Loss_P: [3.8  2.23 1.95 1.32 9.3 ]\n",
      "Loss_Q: [0.33 0.09 0.01 0.   0.43] Loss_P: [3.76 2.22 1.98 1.32 9.27]\n",
      "Loss_Q: [0.32 0.09 0.01 0.   0.42] Loss_P: [3.74 2.21 1.97 1.31 9.23]\n",
      "Loss_Q: [0.32 0.09 0.01 0.   0.41] Loss_P: [3.75 2.19 1.98 1.32 9.24]\n",
      "Loss_Q: [0.31 0.08 0.01 0.   0.4 ] Loss_P: [3.75 2.2  2.01 1.32 9.28]\n",
      "Loss_Q: [0.3  0.08 0.01 0.   0.39] Loss_P: [3.73 2.19 1.94 1.32 9.18]\n",
      "Loss_Q: [0.29 0.08 0.01 0.   0.38] Loss_P: [3.7  2.23 1.93 1.33 9.18]\n",
      "Loss_Q: [0.29 0.08 0.01 0.   0.38] Loss_P: [3.74 2.23 1.98 1.32 9.28]\n",
      "Loss_Q: [0.28 0.08 0.01 0.   0.37] Loss_P: [3.72 2.21 1.96 1.33 9.21]\n",
      "Loss_Q: [0.28 0.07 0.01 0.   0.36] Loss_P: [3.69 2.22 1.93 1.33 9.17]\n",
      "Loss_Q: [0.28 0.07 0.01 0.   0.35] Loss_P: [3.72 2.22 1.94 1.32 9.21]\n",
      "Loss_Q: [0.27 0.07 0.01 0.   0.34] Loss_P: [3.69 2.21 1.93 1.33 9.15]\n",
      "Loss_Q: [0.26 0.06 0.01 0.   0.33] Loss_P: [3.69 2.22 1.92 1.32 9.16]\n",
      "Loss_Q: [0.26 0.06 0.01 0.   0.32] Loss_P: [3.73 2.18 1.93 1.32 9.15]\n",
      "Loss_Q: [0.26 0.06 0.01 0.   0.32] Loss_P: [3.72 2.25 1.94 1.32 9.23]\n",
      "Loss_Q: [0.26 0.06 0.01 0.   0.32] Loss_P: [3.71 2.22 1.94 1.32 9.19]\n",
      "Loss_Q: [0.25 0.05 0.01 0.   0.31] Loss_P: [3.71 2.22 1.92 1.32 9.17]\n",
      "Loss_Q: [0.25 0.05 0.01 0.   0.3 ] Loss_P: [3.74 2.2  1.92 1.32 9.18]\n",
      "Loss_Q: [0.24 0.05 0.01 0.   0.3 ] Loss_P: [3.7  2.21 1.92 1.32 9.15]\n",
      "Loss_Q: [0.24 0.05 0.01 0.   0.3 ] Loss_P: [3.75 2.21 1.92 1.32 9.2 ]\n",
      "Loss_Q: [0.24 0.05 0.01 0.   0.29] Loss_P: [3.72 2.19 1.92 1.32 9.15]\n",
      "Loss_Q: [0.23 0.05 0.01 0.   0.29] Loss_P: [3.71 2.22 1.92 1.32 9.16]\n",
      "Loss_Q: [0.23 0.05 0.01 0.   0.28] Loss_P: [3.72 2.23 1.92 1.32 9.19]\n",
      "Loss_Q: [0.23 0.05 0.01 0.   0.28] Loss_P: [3.72 2.19 1.94 1.32 9.17]\n",
      "Loss_Q: [0.23 0.04 0.01 0.   0.28] Loss_P: [3.71 2.22 1.93 1.32 9.18]\n",
      "Loss_Q: [0.23 0.04 0.01 0.   0.28] Loss_P: [3.66 2.23 1.93 1.33 9.15]\n",
      "Loss_Q: [0.22 0.04 0.01 0.   0.27] Loss_P: [3.68 2.21 1.92 1.32 9.14]\n",
      "Loss_Q: [0.22 0.04 0.01 0.   0.27] Loss_P: [3.69 2.2  1.92 1.32 9.13]\n",
      "Loss_Q: [0.22 0.04 0.01 0.   0.26] Loss_P: [3.69 2.22 1.92 1.33 9.15]\n",
      "Loss_Q: [0.22 0.04 0.01 0.   0.26] Loss_P: [3.74 2.22 1.93 1.32 9.21]\n",
      "Loss_Q: [0.22 0.04 0.01 0.   0.26] Loss_P: [3.7  2.21 1.93 1.33 9.17]\n",
      "Loss_Q: [0.21 0.04 0.   0.   0.26] Loss_P: [3.71 2.21 1.94 1.33 9.19]\n",
      "Loss_Q: [0.21 0.04 0.   0.   0.25] Loss_P: [3.7  2.23 1.93 1.32 9.19]\n",
      "Loss_Q: [0.21 0.04 0.   0.   0.25] Loss_P: [3.72 2.22 1.94 1.33 9.2 ]\n",
      "Loss_Q: [0.21 0.04 0.   0.   0.25] Loss_P: [3.73 2.21 1.93 1.33 9.19]\n",
      "Loss_Q: [0.21 0.04 0.   0.   0.25] Loss_P: [3.7  2.21 1.94 1.32 9.18]\n",
      "Loss_Q: [0.21 0.04 0.   0.   0.25] Loss_P: [3.7  2.21 1.92 1.32 9.16]\n",
      "Loss_Q: [0.2  0.04 0.   0.   0.24] Loss_P: [3.7  2.19 1.94 1.32 9.16]\n",
      "Loss_Q: [0.2  0.03 0.   0.   0.24] Loss_P: [3.73 2.2  1.94 1.32 9.19]\n",
      "Loss_Q: [0.2  0.03 0.   0.   0.24] Loss_P: [3.72 2.2  1.94 1.32 9.18]\n",
      "Loss_Q: [0.2  0.03 0.   0.   0.24] Loss_P: [3.72 2.19 1.95 1.32 9.18]\n",
      "Loss_Q: [0.2  0.03 0.   0.   0.24] Loss_P: [3.72 2.22 1.94 1.32 9.2 ]\n",
      "Loss_Q: [0.2  0.03 0.   0.   0.23] Loss_P: [3.73 2.2  1.93 1.32 9.19]\n",
      "Loss_Q: [0.19 0.03 0.   0.   0.23] Loss_P: [3.71 2.22 1.93 1.33 9.19]\n",
      "Loss_Q: [0.19 0.03 0.   0.   0.23] Loss_P: [3.71 2.2  1.94 1.32 9.17]\n",
      "Loss_Q: [0.19 0.03 0.   0.   0.23] Loss_P: [3.69 2.2  1.93 1.31 9.14]\n",
      "Loss_Q: [0.19 0.03 0.   0.   0.22] Loss_P: [3.69 2.22 1.94 1.33 9.18]\n",
      "Loss_Q: [0.19 0.03 0.   0.   0.22] Loss_P: [3.72 2.2  1.94 1.32 9.18]\n",
      "Loss_Q: [0.18 0.03 0.   0.   0.22] Loss_P: [3.72 2.2  1.94 1.32 9.18]\n",
      "Loss_Q: [0.18 0.03 0.   0.   0.22] Loss_P: [3.7  2.22 1.94 1.32 9.17]\n",
      "Loss_Q: [0.18 0.03 0.   0.   0.22] Loss_P: [3.73 2.19 1.94 1.32 9.18]\n",
      "Loss_Q: [0.18 0.03 0.   0.   0.21] Loss_P: [3.7  2.21 1.94 1.32 9.17]\n",
      "Loss_Q: [0.18 0.03 0.   0.   0.21] Loss_P: [3.71 2.2  1.92 1.33 9.16]\n",
      "Loss_Q: [0.18 0.03 0.   0.   0.21] Loss_P: [3.72 2.21 1.94 1.33 9.2 ]\n",
      "Loss_Q: [0.18 0.03 0.   0.   0.21] Loss_P: [3.71 2.19 1.94 1.32 9.15]\n",
      "Loss_Q: [0.18 0.03 0.   0.   0.21] Loss_P: [3.71 2.2  1.94 1.33 9.18]\n",
      "Loss_Q: [0.18 0.03 0.   0.   0.21] Loss_P: [3.71 2.22 1.93 1.32 9.17]\n",
      "Loss_Q: [0.18 0.03 0.   0.   0.21] Loss_P: [3.69 2.22 1.95 1.32 9.18]\n",
      "Loss_Q: [0.17 0.03 0.   0.   0.2 ] Loss_P: [3.7  2.21 1.93 1.32 9.16]\n",
      "Loss_Q: [0.17 0.03 0.   0.   0.2 ] Loss_P: [3.68 2.19 1.94 1.33 9.15]\n",
      "Loss_Q: [0.17 0.03 0.   0.   0.2 ] Loss_P: [3.68 2.2  1.94 1.32 9.13]\n",
      "Loss_Q: [0.17 0.03 0.   0.   0.2 ] Loss_P: [3.69 2.2  1.93 1.32 9.15]\n",
      "Loss_Q: [0.17 0.02 0.   0.   0.2 ] Loss_P: [3.69 2.22 1.92 1.32 9.15]\n",
      "Loss_Q: [0.16 0.02 0.   0.   0.19] Loss_P: [3.71 2.21 1.93 1.32 9.17]\n",
      "Loss_Q: [0.16 0.02 0.   0.   0.19] Loss_P: [3.69 2.21 1.94 1.32 9.15]\n",
      "Loss_Q: [0.17 0.02 0.   0.   0.19] Loss_P: [3.7  2.2  1.95 1.32 9.17]\n",
      "Loss_Q: [0.16 0.02 0.   0.   0.19] Loss_P: [3.7  2.2  1.93 1.33 9.16]\n",
      "Loss_Q: [0.16 0.02 0.   0.   0.19] Loss_P: [3.71 2.17 1.93 1.33 9.14]\n",
      "Loss_Q: [0.16 0.02 0.   0.   0.19] Loss_P: [3.7  2.18 1.94 1.33 9.14]\n",
      "Loss_Q: [0.16 0.02 0.   0.   0.19] Loss_P: [3.72 2.2  1.94 1.32 9.19]\n",
      "Loss_Q: [0.16 0.02 0.   0.   0.18] Loss_P: [3.71 2.19 1.93 1.32 9.16]\n",
      "Loss_Q: [0.16 0.02 0.   0.   0.18] Loss_P: [3.71 2.18 1.94 1.32 9.16]\n",
      "Loss_Q: [0.16 0.02 0.   0.   0.18] Loss_P: [3.68 2.19 1.94 1.33 9.13]\n",
      "Loss_Q: [0.16 0.02 0.   0.   0.18] Loss_P: [3.69 2.21 1.93 1.32 9.15]\n",
      "Loss_Q: [0.16 0.02 0.   0.   0.19] Loss_P: [3.71 2.21 1.93 1.32 9.17]\n",
      "Loss_Q: [0.15 0.02 0.   0.   0.18] Loss_P: [3.7  2.2  1.93 1.33 9.16]\n",
      "Loss_Q: [0.16 0.02 0.   0.   0.18] Loss_P: [3.71 2.22 1.93 1.33 9.19]\n",
      "Loss_Q: [0.15 0.02 0.   0.   0.18] Loss_P: [3.68 2.19 1.93 1.32 9.13]\n",
      "Loss_Q: [0.15 0.02 0.   0.   0.17] Loss_P: [3.7  2.18 1.93 1.31 9.12]\n",
      "Loss_Q: [0.15 0.02 0.   0.   0.17] Loss_P: [3.71 2.2  1.93 1.32 9.17]\n",
      "Loss_Q: [0.15 0.02 0.   0.   0.17] Loss_P: [3.7  2.22 1.94 1.32 9.18]\n",
      "Loss_Q: [0.15 0.02 0.   0.   0.17] Loss_P: [3.67 2.21 1.94 1.31 9.13]\n",
      "Loss_Q: [0.15 0.02 0.   0.   0.17] Loss_P: [3.71 2.21 1.93 1.32 9.17]\n",
      "Loss_Q: [0.15 0.02 0.   0.   0.17] Loss_P: [3.71 2.2  1.94 1.33 9.17]\n",
      "Loss_Q: [0.15 0.02 0.   0.   0.17] Loss_P: [3.68 2.19 1.94 1.32 9.13]\n",
      "Loss_Q: [0.15 0.02 0.   0.   0.17] Loss_P: [3.71 2.21 1.94 1.33 9.17]\n",
      "Loss_Q: [0.15 0.02 0.   0.   0.17] Loss_P: [3.69 2.2  1.93 1.32 9.14]\n"
     ]
    },
    {
     "name": "stdout",
     "output_type": "stream",
     "text": [
      "Loss_Q: [0.15 0.02 0.   0.   0.17] Loss_P: [3.69 2.21 1.94 1.32 9.16]\n",
      "Loss_Q: [0.14 0.02 0.   0.   0.17] Loss_P: [3.68 2.19 1.93 1.31 9.12]\n",
      "Loss_Q: [0.14 0.02 0.   0.   0.16] Loss_P: [3.7  2.21 1.94 1.32 9.16]\n",
      "Loss_Q: [0.14 0.02 0.   0.   0.16] Loss_P: [3.7  2.19 1.93 1.32 9.14]\n",
      "Loss_Q: [0.15 0.02 0.   0.   0.17] Loss_P: [3.73 2.22 1.93 1.32 9.2 ]\n",
      "Loss_Q: [0.14 0.02 0.   0.   0.16] Loss_P: [3.72 2.2  1.94 1.32 9.18]\n",
      "Loss_Q: [0.14 0.02 0.   0.   0.16] Loss_P: [3.72 2.19 1.93 1.33 9.17]\n",
      "Loss_Q: [0.14 0.02 0.   0.   0.16] Loss_P: [3.71 2.22 1.94 1.33 9.2 ]\n",
      "Loss_Q: [0.14 0.02 0.   0.   0.16] Loss_P: [3.69 2.19 1.93 1.32 9.14]\n",
      "Loss_Q: [0.14 0.02 0.   0.   0.16] Loss_P: [3.69 2.21 1.93 1.33 9.16]\n",
      "Loss_Q: [0.14 0.02 0.   0.   0.16] Loss_P: [3.67 2.21 1.94 1.32 9.14]\n",
      "Loss_Q: [0.14 0.02 0.   0.   0.16] Loss_P: [3.71 2.21 1.93 1.33 9.18]\n",
      "Loss_Q: [0.14 0.02 0.   0.   0.16] Loss_P: [3.73 2.22 1.93 1.32 9.21]\n",
      "Loss_Q: [0.14 0.02 0.   0.   0.16] Loss_P: [3.7  2.21 1.94 1.33 9.18]\n",
      "Loss_Q: [0.14 0.02 0.   0.   0.16] Loss_P: [3.66 2.21 1.94 1.32 9.12]\n",
      "Loss_Q: [0.13 0.02 0.   0.   0.15] Loss_P: [3.7  2.18 1.93 1.32 9.13]\n",
      "Loss_Q: [0.13 0.02 0.   0.   0.15] Loss_P: [3.69 2.22 1.94 1.33 9.19]\n",
      "Loss_Q: [0.13 0.02 0.   0.   0.15] Loss_P: [3.68 2.21 1.93 1.32 9.14]\n",
      "Loss_Q: [0.13 0.02 0.   0.   0.15] Loss_P: [3.7  2.21 1.94 1.33 9.18]\n",
      "Loss_Q: [0.13 0.02 0.   0.   0.15] Loss_P: [3.7  2.22 1.94 1.33 9.19]\n",
      "Loss_Q: [0.13 0.02 0.   0.   0.15] Loss_P: [3.7  2.2  1.94 1.33 9.17]\n",
      "Loss_Q: [0.13 0.02 0.   0.   0.15] Loss_P: [3.69 2.22 1.94 1.32 9.17]\n",
      "Loss_Q: [0.13 0.02 0.   0.   0.15] Loss_P: [3.7  2.21 1.93 1.33 9.16]\n",
      "Loss_Q: [0.13 0.02 0.   0.   0.15] Loss_P: [3.66 2.21 1.94 1.32 9.14]\n",
      "Loss_Q: [0.13 0.02 0.   0.   0.15] Loss_P: [3.71 2.2  1.94 1.32 9.18]\n",
      "Loss_Q: [0.13 0.02 0.   0.   0.15] Loss_P: [3.71 2.24 1.94 1.33 9.21]\n",
      "Loss_Q: [0.13 0.02 0.   0.   0.15] Loss_P: [3.71 2.22 1.93 1.33 9.19]\n",
      "Loss_Q: [0.13 0.02 0.   0.   0.15] Loss_P: [3.69 2.2  1.94 1.32 9.14]\n",
      "Loss_Q: [0.13 0.02 0.   0.   0.15] Loss_P: [3.69 2.2  1.94 1.33 9.15]\n",
      "Loss_Q: [0.13 0.02 0.   0.   0.14] Loss_P: [3.69 2.19 1.94 1.33 9.16]\n",
      "Loss_Q: [0.13 0.02 0.   0.   0.14] Loss_P: [3.7  2.21 1.94 1.32 9.17]\n",
      "Loss_Q: [0.13 0.02 0.   0.   0.14] Loss_P: [3.69 2.19 1.94 1.33 9.15]\n",
      "Loss_Q: [0.13 0.02 0.   0.   0.14] Loss_P: [3.71 2.22 1.94 1.33 9.19]\n"
     ]
    }
   ],
   "source": [
    "for e in range (epoch):\n",
    "    index = np.random.permutation(n_data)\n",
    "    Loss_Q_total = np.zeros(HM.n_layer)\n",
    "    Loss_P_total = np.zeros(HM.n_layer)\n",
    "    Nums_total = np.zeros((HM.n_layer-2))\n",
    "    \n",
    "    HM.prob_matrix()\n",
    "    for i in range(n_data):\n",
    "        d0 = dataset[:,index[i]:index[i]+1]\n",
    "        Alpha_Q,Loss_Q,Grad_Q = HM.MI_wake(d0,HM.Prob_mtx_wake,precision=0.2)\n",
    "        Loss_P,Grad_P = HM.sleep_update(Alpha_Q)\n",
    "        \n",
    "        Loss_Q_total += Loss_Q\n",
    "        Loss_P_total += Loss_P\n",
    "        \n",
    "    Loss_Q_total = Loss_Q_total/n_data\n",
    "    Loss_P_total = Loss_P_total/n_data\n",
    "    \n",
    "    print('Loss_Q: '+ str(np.around(Loss_Q_total,2)), 'Loss_P: '+ str(np.around(Loss_P_total,2)))"
   ]
  },
  {
   "cell_type": "code",
   "execution_count": 1772,
   "id": "fe694d4b",
   "metadata": {},
   "outputs": [
    {
     "data": {
      "text/plain": [
       "{'Prob_01': array([[ 3.90625000e-03,  3.90625000e-03,  3.90625000e-03, ...,\n",
       "          3.90625000e-03,  3.90625000e-03,  5.54517744e+00],\n",
       "        [ 5.64872661e-19,  7.43147839e-18,  1.67497628e-12, ...,\n",
       "          8.18540456e-03,  1.07687380e-01,  2.69445327e+00],\n",
       "        [ 5.35041386e-03,  1.33271960e-01,  1.19128492e-04, ...,\n",
       "          4.06556111e-11,  1.00000000e+00, -5.44142472e-01],\n",
       "        ...,\n",
       "        [ 3.89971472e-21,  2.73729427e-10,  1.52925728e-29, ...,\n",
       "          4.97995319e-36,  3.49553706e-25,  3.87518289e-01],\n",
       "        [ 1.55019459e-29,  1.43150621e-17,  1.80256960e-31, ...,\n",
       "          2.86858837e-28,  1.00000000e+00, -1.37623947e+00],\n",
       "        [ 9.30426375e-06,  1.00205431e+00,  5.29388339e-06, ...,\n",
       "          1.40079374e-05,  3.01009836e+02,  4.04834871e+00]]),\n",
       " 'Prob_12': array([[ 1.56250000e-02,  1.56250000e-02,  1.56250000e-02, ...,\n",
       "          1.56250000e-02,  1.56250000e-02,  4.15888308e+00],\n",
       "        [ 4.60960899e-09,  7.16100356e-07,  7.74429587e-11, ...,\n",
       "          2.82138758e-06,  1.00043830e+00, -1.32758196e+00],\n",
       "        [ 2.89857798e-08,  3.06141307e-08,  3.88618975e-08, ...,\n",
       "          1.44078094e-06,  1.52172053e-06,  2.42239218e+00],\n",
       "        ...,\n",
       "        [ 8.76307897e-17,  1.29715885e-15,  3.48737863e-12, ...,\n",
       "          1.19283220e-06,  1.76569544e-05,  3.90281654e-01],\n",
       "        [ 1.04823815e-19,  2.41049481e-16,  7.00842105e-17, ...,\n",
       "          8.73335782e-07,  1.00200829e+00, -1.35303763e+00],\n",
       "        [ 1.23106601e-04,  5.27279542e-04,  1.71711061e-04, ...,\n",
       "          2.75932137e-02,  3.00002943e+02,  2.48616752e+00]]),\n",
       " 'Prob_23': array([[ 1.25000000e-01,  1.25000000e-01,  1.25000000e-01,\n",
       "          1.25000000e-01,  1.25000000e-01,  1.25000000e-01,\n",
       "          1.25000000e-01,  1.25000000e-01,  2.07944154e+00],\n",
       "        [ 1.33707128e-03,  6.69099017e-05,  1.04364935e-02,\n",
       "          5.22264418e-04,  1.06816249e-01,  5.34531318e-03,\n",
       "          8.33752922e-01,  4.17227765e-02,  6.12060553e-01],\n",
       "        [ 3.37198876e-02,  1.04063306e-02,  3.07539899e-01,\n",
       "          9.49102173e-02,  4.17876684e-02,  1.28961371e-02,\n",
       "          3.81121535e-01,  1.17618325e-01,  1.55611511e+00],\n",
       "        [ 1.36414716e-04,  2.10672843e-06,  9.71128319e-03,\n",
       "          1.49976754e-04,  1.35053551e-02,  2.08570720e-04,\n",
       "          9.61438266e-01,  1.48480266e-02,  2.07789558e-01],\n",
       "        [ 2.71832231e-01,  7.57582191e-02,  5.10214146e-01,\n",
       "          1.42194010e-01,  3.78781158e-07,  1.05564325e-07,\n",
       "          7.10951399e-07,  1.98138431e-07,  1.17026706e+00],\n",
       "        [ 6.30099607e-02,  8.78767219e-04,  9.23125611e-01,\n",
       "          1.28743538e-02,  7.01422010e-06,  9.78236871e-08,\n",
       "          1.02761629e-04,  1.43316311e-06,  3.11296963e-01],\n",
       "        [ 5.08209464e-02,  4.37102263e-03,  8.69980749e-01,\n",
       "          7.48255555e-02,  8.77591054e-08,  7.54801048e-09,\n",
       "          1.50230835e-06,  1.29210971e-07,  4.90355759e-01],\n",
       "        [ 7.39553829e-03,  3.18306809e-05,  9.88181525e-01,\n",
       "          4.25317125e-03,  1.02023917e-06,  4.39114857e-09,\n",
       "          1.36322937e-04,  5.86739156e-07,  7.28255936e-02],\n",
       "        [ 2.26611260e-02,  5.57464855e-03,  3.68845471e-01,\n",
       "          9.07361740e-02,  2.37929879e-02,  5.85308716e-03,\n",
       "          3.87268305e-01,  9.52682003e-02,  1.41077136e+00],\n",
       "        [ 9.08910202e-05,  1.11890398e-06,  1.15473943e-02,\n",
       "          1.42152936e-04,  7.62379552e-03,  9.38519020e-05,\n",
       "          9.68577231e-01,  1.19235642e-02,  1.75420553e-01],\n",
       "        [ 2.70259169e-03,  2.05176654e-04,  4.01197996e-01,\n",
       "          3.04583423e-02,  3.51649462e-03,  2.66966928e-04,\n",
       "          5.22021363e-01,  3.96310687e-02,  9.79819449e-01],\n",
       "        [ 8.18521008e-06,  3.10966188e-08,  9.48436361e-03,\n",
       "          3.60322626e-05,  8.50828666e-04,  3.23240264e-06,\n",
       "          9.85871878e-01,  3.74544840e-03,  8.56543739e-02],\n",
       "        [ 2.96618529e-02,  2.03358856e-03,  9.06176493e-01,\n",
       "          6.21266027e-02,  4.33963489e-08,  2.97521261e-09,\n",
       "          1.32576854e-06,  9.08934361e-08,  3.78872918e-01],\n",
       "        [ 4.16130735e-03,  1.42767857e-05,  9.92303116e-01,\n",
       "          3.40443464e-03,  4.86370776e-07,  1.66866101e-09,\n",
       "          1.15979714e-04,  3.97908008e-07,  5.10487377e-02],\n",
       "        [ 3.50203505e-03,  7.40963478e-05,  9.75776496e-01,\n",
       "          2.06455600e-02,  6.34946928e-09,  1.34342597e-10,\n",
       "          1.76916073e-06,  3.74320493e-08,  1.24568563e-01],\n",
       "        [ 4.59037283e-04,  4.86026676e-07,  9.98338617e-01,\n",
       "          1.05703658e-03,  6.64886723e-08,  7.03979167e-11,\n",
       "          1.44603089e-04,  1.53105121e-07,  1.37205325e-02],\n",
       "        [ 3.39595162e-01,  2.03307501e-01,  6.98676739e-07,\n",
       "          4.18281051e-07,  2.85921135e-01,  1.71174144e-01,\n",
       "          5.88248799e-07,  3.52170485e-07,  1.35078845e+00],\n",
       "        [ 1.42231662e-02,  4.26112253e-04,  2.28407900e-07,\n",
       "          6.84287896e-09,  9.56673649e-01,  2.86610139e-02,\n",
       "          1.53630926e-05,  4.60263341e-07,  2.08161118e-01],\n",
       "        [ 4.13057825e-01,  7.63157647e-02,  7.75070116e-06,\n",
       "          1.43200455e-06,  4.30980520e-01,  7.96271271e-02,\n",
       "          8.08700626e-06,  1.49413963e-06,  1.12603024e+00],\n",
       "        [ 1.17443976e-02,  1.08585037e-04,  1.72012865e-06,\n",
       "          1.59037730e-08,  9.78949513e-01,  9.05106186e-03,\n",
       "          1.43380628e-04,  1.32565257e-06,  1.17909145e-01],\n",
       "        [ 8.57005421e-01,  1.42989544e-01,  3.30940489e-06,\n",
       "          5.52167215e-07,  1.00543906e-06,  1.67755383e-07,\n",
       "          3.88259496e-12,  6.47802768e-13,  4.10423955e-01],\n",
       "        [ 9.91596883e-01,  8.27926336e-03,  2.98883220e-05,\n",
       "          2.49550290e-07,  9.29373099e-05,  7.75973058e-07,\n",
       "          2.80127973e-09,  2.33890738e-11,  4.92474474e-02],\n",
       "        [ 9.50995518e-01,  4.89678102e-02,  3.34934708e-05,\n",
       "          1.72461583e-06,  1.38265132e-06,  7.11942448e-08,\n",
       "          4.86961199e-11,  2.50741703e-12,  1.95887400e-01],\n",
       "        [ 9.97039969e-01,  2.56909766e-03,  2.74090699e-04,\n",
       "          7.06256315e-07,  1.15805593e-04,  2.98399150e-07,\n",
       "          3.18354700e-08,  8.20312465e-11,  2.15910181e-02],\n",
       "        [ 4.62633602e-01,  6.81341882e-02,  1.54922656e-05,\n",
       "          2.28161753e-06,  4.08968102e-01,  6.02306221e-02,\n",
       "          1.36951627e-05,  2.01694989e-06,  1.07490367e+00],\n",
       "        [ 1.38565778e-02,  1.02122098e-04,  3.62187777e-06,\n",
       "          2.66930091e-08,  9.78568001e-01,  7.21198401e-03,\n",
       "          2.55781315e-04,  1.88509205e-06,  1.19187232e-01],\n",
       "        [ 4.56325998e-01,  2.07402805e-02,  1.39369686e-04,\n",
       "          6.33443282e-06,  4.99907321e-01,  2.27210768e-02,\n",
       "          1.52680160e-04,  6.93940156e-06,  8.73718535e-01],\n",
       "        [ 1.12447030e-02,  2.55754470e-05,  2.68065635e-05,\n",
       "          6.09700272e-08,  9.84113153e-01,  2.23831024e-03,\n",
       "          2.34605501e-03,  5.33597070e-06,  9.47066823e-02],\n",
       "        [ 9.60512024e-01,  3.94238947e-02,  6.03715201e-05,\n",
       "          2.47792884e-06,  1.18315730e-06,  4.85622954e-08,\n",
       "          7.43655495e-11,  3.05230910e-12,  1.66805875e-01],\n",
       "        [ 9.97362744e-01,  2.04854587e-03,  4.89308199e-04,\n",
       "          1.00502079e-06,  9.81466736e-05,  2.01589606e-07,\n",
       "          4.81509584e-08,  9.89002724e-11,  1.99689166e-02],\n",
       "        [ 9.86924341e-01,  1.25012109e-02,  5.65755148e-04,\n",
       "          7.16632888e-06,  1.50655698e-06,  1.90833134e-08,\n",
       "          8.63634966e-10,  1.09395243e-11,  7.21050213e-02],\n",
       "        [ 9.94793462e-01,  6.30575328e-04,  4.45120527e-03,\n",
       "          2.82151053e-06,  1.21315806e-04,  7.68991324e-08,\n",
       "          5.42827808e-07,  3.44085317e-10,  3.50800723e-02],\n",
       "        [ 1.53317684e-02,  1.05358627e-04,  8.49337883e-02,\n",
       "          5.83657870e-04,  1.36536224e-01,  9.38265484e-04,\n",
       "          7.56373204e-01,  5.19773323e-03,  7.95740968e-01],\n",
       "        [ 3.17164518e-05,  1.09068233e-08,  1.37142760e-03,\n",
       "          4.71613870e-07,  2.25643588e-02,  7.75955258e-06,\n",
       "          9.75688730e-01,  3.35525067e-04,  1.21714838e-01],\n",
       "        [ 1.60907752e-03,  3.41245017e-06,  8.12981310e-02,\n",
       "          1.72412962e-04,  1.77580236e-02,  3.76603178e-05,\n",
       "          8.97218507e-01,  1.90277560e-03,  3.97108369e-01],\n",
       "        [ 2.86521817e-06,  3.04076515e-10,  1.12995549e-03,\n",
       "          1.19918592e-07,  2.52614410e-03,  2.68091660e-07,\n",
       "          1.99962349e+01,  1.90001057e+01, -2.08295215e-01],\n",
       "        [ 8.75677418e-02,  1.67706852e-04,  9.10508367e-01,\n",
       "          1.74377561e-03,  1.08664380e-06,  2.08110439e-09,\n",
       "          1.12986615e-05,  2.16388240e-08,  3.11297521e-01],\n",
       "        [ 1.21582145e-02,  1.16523170e-06,  9.86755685e-01,\n",
       "          9.45697252e-05,  1.20530129e-05,  1.15514928e-09,\n",
       "          9.78217565e-04,  9.37514399e-08,  7.45800148e-02],\n",
       "        [ 1.04285981e-02,  6.16373686e-06,  9.88965340e-01,\n",
       "          5.84519804e-04,  1.60372910e-07,  9.47870852e-11,\n",
       "          1.52084919e-05,  8.98885362e-09,  6.31582944e-02],\n",
       "        [ 1.34744929e-03,  3.98534955e-08,  1.59973960e+01,\n",
       "          2.94999721e-05,  1.65538978e-06,  4.89614488e-11,\n",
       "          1.22533674e-03,  1.50000000e+01, -2.48896182e-01],\n",
       "        [ 1.05797271e-03,  1.78849744e-06,  9.53950149e-02,\n",
       "          1.61264784e-04,  9.89230738e-03,  1.67228949e-05,\n",
       "          8.91967063e-01,  1.50786575e-03,  3.90451517e-01],\n",
       "        [ 1.89674284e-06,  1.60456806e-10,  1.33493376e-03,\n",
       "          1.12930020e-07,  1.41681894e-03,  1.19857177e-07,\n",
       "          2.69971618e+01,  2.60000844e+01, -1.64098499e-01],\n",
       "        [ 9.64370417e-05,  5.03117284e-08,  7.93068031e-02,\n",
       "          4.13747899e-05,  1.11745242e-03,  5.82980995e-07,\n",
       "          9.18957874e-01,  4.79425314e-04,  2.91241094e-01],\n",
       "        [ 1.68080594e-07,  4.38812272e-12,  1.07890743e-03,\n",
       "          2.81673101e-08,  1.55591367e-04,  4.06206331e-09,\n",
       "          4.89987392e+01,  4.80000261e+01, -1.01588197e-01],\n",
       "        [ 5.87122094e-03,  2.76612046e-06,  4.99364485e+00,\n",
       "          4.68137950e-04,  7.64960445e-08,  3.60397395e-11,\n",
       "          1.29461829e-05,  4.00000001e+00, -6.22941890e-01],\n",
       "        [ 7.55625336e-04,  1.78149664e-08,  2.09981810e+01,\n",
       "          2.35335700e-05,  7.86501996e-07,  1.85429286e-11,\n",
       "          1.03896911e-03,  2.00000000e+01, -2.00739288e-01],\n",
       "        [ 6.47337053e-04,  9.41205880e-08,  2.59991911e+01,\n",
       "          1.45278966e-04,  1.04520877e-08,  1.51969771e-12,\n",
       "          1.61332236e-05,  2.50000000e+01, -1.69439147e-01],\n",
       "        [ 8.28863098e-05,  6.03077050e-10,  4.69986216e+01,\n",
       "          7.26592578e-06,  1.06914878e-07,  7.77907828e-13,\n",
       "          1.28811993e-03,  4.60000000e+01, -1.05089672e-01],\n",
       "        [ 1.17192473e-01,  4.82135906e-04,  1.33568102e-06,\n",
       "          5.49506091e-09,  8.78698981e-01,  3.61501314e-03,\n",
       "          1.00148202e-05,  4.12014893e-08,  3.89022818e-01],\n",
       "        [ 1.66618939e-03,  3.43028301e-07,  1.48227043e-07,\n",
       "          3.05163814e-11,  9.98039042e-01,  2.05472223e-04,\n",
       "          8.87872513e-05,  1.82791586e-08,  1.51985916e-02],\n",
       "        [ 9.70309199e-02,  1.23194525e-04,  1.00862222e-05,\n",
       "          1.28058907e-08,  9.01597242e-01,  1.14470567e-03,\n",
       "          9.37197149e-05,  1.18990480e-07,  3.29589644e-01],\n",
       "        [ 1.34415801e-03,  8.54018766e-08,  1.09060819e-06,\n",
       "          6.92924383e-11,  2.19977817e+01,  6.33946491e-05,\n",
       "          8.09569136e-04,  2.10000001e+01, -1.93385826e-01],\n",
       "        [ 9.98822946e-01,  1.14521512e-03,  2.13669774e-05,\n",
       "          2.44986219e-08,  1.04355738e-05,  1.19650604e-08,\n",
       "          2.23239434e-10,  2.55958453e-13,  9.28206950e-03],\n",
       "        [ 9.98941909e-01,  5.73158358e-05,  1.66799544e-04,\n",
       "          9.57038162e-09,  8.33778742e-04,  4.78393438e-08,\n",
       "          1.39221223e-07,  7.98803281e-12,  8.98256391e-03],\n",
       "        [ 2.29994383e+01,  3.53643819e-04,  1.94996105e-04,\n",
       "          6.89979203e-08,  1.29403449e-05,  4.57884471e-09,\n",
       "          2.52473488e-09,  2.20000000e+01, -1.86894171e-01],\n",
       "        [ 2.09974300e+01,  1.76615306e-05,  1.51898127e-03,\n",
       "          2.68966576e-08,  1.03170384e-03,  1.82684182e-08,\n",
       "          1.57117668e-06,  2.00000000e+01, -2.00624913e-01],\n",
       "        [ 1.12574066e-01,  1.13931579e-04,  2.08835516e-05,\n",
       "          2.11353830e-08,  8.86229610e-01,  8.96916514e-04,\n",
       "          1.64403955e-04,  1.66386477e-07,  3.61904323e-01],\n",
       "        [ 1.58514480e-03,  8.02805866e-08,  2.29527640e-06,\n",
       "          1.16245617e-10,  1.19969184e+01,  5.04895154e-05,\n",
       "          1.44352948e-03,  1.10000001e+01, -3.12215313e-01],\n",
       "        [ 9.27857118e-02,  2.89799991e-05,  1.56986555e-04,\n",
       "          4.90320129e-08,  9.05213512e-01,  2.82727656e-04,\n",
       "          1.53155424e-03,  4.78354261e-07,  3.24662338e-01],\n",
       "        [ 1.26469491e-03,  1.97669138e-08,  1.67019497e-05,\n",
       "          2.61047938e-10,  2.98568571e+00,  1.54060589e-05,\n",
       "          1.30172684e-02,  2.00000020e+00, -9.46872110e-01],\n",
       "        [ 7.99935909e+00,  2.81874726e-04,  3.47967848e-04,\n",
       "          9.81462449e-08,  1.09626838e-05,  3.09208524e-09,\n",
       "          3.81710790e-09,  7.00000000e+00, -4.30404054e-01],\n",
       "        [ 1.49964023e+01,  1.40638790e-05,  2.70802278e-03,\n",
       "          3.82228192e-08,  8.73198137e-04,  1.23248943e-08,\n",
       "          2.37317845e-06,  1.40000000e+01, -2.61728684e-01],\n",
       "        [ 9.96734089e-01,  8.67611666e-05,  3.16528056e-03,\n",
       "          2.75523269e-07,  1.35499176e-05,  1.17945866e-09,\n",
       "          4.30298223e-08,  3.74555022e-12,  2.24466073e-02],\n",
       "        [ 9.74749194e-01,  4.24594914e-06,  2.41616078e-02,\n",
       "          1.05246517e-07,  1.05860268e-03,  4.61120991e-09,\n",
       "          2.62401271e-05,  1.14300423e-10,  1.22466090e-01],\n",
       "        [ 6.32906207e+01,  1.33435439e-02,  1.10260400e+02,\n",
       "          1.04284363e-02,  3.42123970e+01,  8.40406243e-03,\n",
       "          9.31972283e+01,  3.00007178e+02,  1.28443173e+00]])}"
      ]
     },
     "execution_count": 1772,
     "metadata": {},
     "output_type": "execute_result"
    }
   ],
   "source": [
    "HM.Prob_mtx_wake"
   ]
  },
  {
   "cell_type": "code",
   "execution_count": 1721,
   "id": "afcdf12d",
   "metadata": {},
   "outputs": [
    {
     "data": {
      "text/plain": [
       "-2.680781374717379"
      ]
     },
     "execution_count": 1721,
     "metadata": {},
     "output_type": "execute_result"
    }
   ],
   "source": [
    "HM.prob_matrix()\n",
    "(HM.Prob_mtx_wake['Prob_12'][-1,:-1] * np.log(HM.Prob_mtx_wake['Prob_12'][-1,:-1])).sum()"
   ]
  },
  {
   "cell_type": "code",
   "execution_count": 1722,
   "id": "3636af63",
   "metadata": {},
   "outputs": [
    {
     "data": {
      "text/plain": [
       "-2.6730563979879642"
      ]
     },
     "execution_count": 1722,
     "metadata": {},
     "output_type": "execute_result"
    }
   ],
   "source": [
    "HM.Prob_mtx_wake['Prob_12'][-1,1] += 1\n",
    "(HM.Prob_mtx_wake['Prob_12'][-1,:-1] * np.log(HM.Prob_mtx_wake['Prob_12'][-1,:-1])).sum()"
   ]
  },
  {
   "cell_type": "code",
   "execution_count": 1724,
   "id": "7daabdbe",
   "metadata": {},
   "outputs": [
    {
     "data": {
      "text/plain": [
       "-2.0296753795539275"
      ]
     },
     "execution_count": 1724,
     "metadata": {},
     "output_type": "execute_result"
    }
   ],
   "source": [
    "(HM.Prob_mtx_wake['Prob_12'][-1,:-1]/2 * np.log(HM.Prob_mtx_wake['Prob_12'][-1,:-1]/2)).sum()"
   ]
  },
  {
   "cell_type": "code",
   "execution_count": 1703,
   "id": "b253d22c",
   "metadata": {},
   "outputs": [
    {
     "data": {
      "text/plain": [
       "True"
      ]
     },
     "execution_count": 1703,
     "metadata": {},
     "output_type": "execute_result"
    }
   ],
   "source": [
    "check_M(HM.Prob_mtx_wake['Prob_12'])"
   ]
  },
  {
   "cell_type": "code",
   "execution_count": 1704,
   "id": "e7dfce9e",
   "metadata": {},
   "outputs": [
    {
     "data": {
      "text/plain": [
       "(array([0.51255143, 0.60690873, 0.58530356, 0.60263829, 0.31615883,\n",
       "        0.60088686, 0.58888015, 0.6028854 , 0.68880302, 0.90463516,\n",
       "        0.60575849, 0.60799333, 0.3792804 , 0.60056428, 0.59771875,\n",
       "        0.60299595, 0.46592698, 0.59916467, 0.58955471, 0.60271819,\n",
       "        0.45651492, 0.59413038, 0.5990413 , 0.60261077, 0.52892298,\n",
       "        0.60405236, 0.6027437 , 0.60292358, 0.58786925, 0.60296805,\n",
       "        0.60298119, 0.6029953 , 0.54215891, 0.5792465 , 0.52543661,\n",
       "        0.6026024 , 0.57745008, 0.59080641, 0.58294648, 0.60286382,\n",
       "        0.85983496, 0.9199371 , 0.58945983, 0.60821857, 0.6027992 ,\n",
       "        0.60302442, 0.60289193, 0.60299469, 0.58858301, 0.55734297,\n",
       "        0.58188582, 0.60164367, 0.56383163, 0.53485548, 0.58529454,\n",
       "        0.59787462, 0.59940603, 0.59159166, 0.58728942, 0.59749926,\n",
       "        0.60295692, 0.60278075, 0.60280302, 0.60295215]),\n",
       " array([[1.42350526, 1.42276665, 1.43015122, 1.4301437 , 1.43021466,\n",
       "         1.43021462, 1.430215  , 1.430215  , 1.14782335, 1.1246182 ,\n",
       "         1.42562312, 1.42511281, 1.43018556, 1.43018207, 1.43021478,\n",
       "         1.43021475, 1.43020004, 1.43019826, 1.43021489, 1.43021488,\n",
       "         1.430215  , 1.430215  , 1.43021501, 1.43021501, 1.42906386,\n",
       "         1.42893252, 1.43020504, 1.43020385, 1.43021495, 1.43021495,\n",
       "         1.430215  , 1.430215  , 1.42256066, 1.4217211 , 1.43014159,\n",
       "         1.43013295, 1.43021461, 1.43021456, 1.430215  , 1.430215  ,\n",
       "         1.1183047 , 1.09323457, 1.42497038, 1.42438939, 1.43018109,\n",
       "         1.43017707, 1.43021474, 1.43021471, 1.43019776, 1.43019571,\n",
       "         1.43021487, 1.43021486, 1.430215  , 1.430215  , 1.43021501,\n",
       "         1.43021501, 1.42889578, 1.42874558, 1.43020352, 1.43020215,\n",
       "         1.43021495, 1.43021494, 1.430215  , 1.430215  ],\n",
       "        [1.93605669, 2.02967538, 2.01545477, 2.03278199, 1.74637349,\n",
       "         2.03110148, 2.01909515, 2.03310041, 1.83662637, 2.02925336,\n",
       "         2.0313816 , 2.03310614, 1.80946596, 2.03074635, 2.02793353,\n",
       "         2.0332107 , 1.89612702, 2.02936292, 2.0197696 , 2.03293307,\n",
       "         1.88672993, 2.02434538, 2.02925631, 2.03282578, 1.95798684,\n",
       "         2.03298488, 2.03294874, 2.03312743, 2.01808421, 2.033183  ,\n",
       "         2.0331962 , 2.0332103 , 1.96471957, 2.0009676 , 1.9555782 ,\n",
       "         2.03273535, 2.00766469, 2.02102097, 2.01316148, 2.03307882,\n",
       "         1.97813966, 2.01317167, 2.01443021, 2.03260796, 2.03298028,\n",
       "         2.03320149, 2.03310667, 2.0332094 , 2.01878077, 1.98753868,\n",
       "         2.01210069, 2.03185853, 1.99404663, 1.96507049, 2.01550954,\n",
       "         2.02808963, 2.02830181, 2.02033723, 2.01749294, 2.02770141,\n",
       "         2.03317187, 2.03299569, 2.03301803, 2.03316715]]))"
      ]
     },
     "execution_count": 1704,
     "metadata": {},
     "output_type": "execute_result"
    }
   ],
   "source": [
    "mutual_info(HM.Prob_mtx_wake['Prob_12'][[1,-1],:])"
   ]
  },
  {
   "cell_type": "markdown",
   "id": "f58fcf86",
   "metadata": {},
   "source": [
    "#### Generation"
   ]
  },
  {
   "cell_type": "code",
   "execution_count": 1773,
   "id": "526b91c2",
   "metadata": {},
   "outputs": [
    {
     "data": {
      "text/plain": [
       "array([[1, 0, 1, ..., 1, 1, 0],\n",
       "       [1, 1, 0, ..., 1, 1, 1],\n",
       "       [0, 1, 1, ..., 0, 1, 1],\n",
       "       ...,\n",
       "       [0, 0, 1, ..., 1, 0, 0],\n",
       "       [0, 1, 0, ..., 0, 1, 1],\n",
       "       [1, 1, 1, ..., 1, 0, 1]])"
      ]
     },
     "execution_count": 1773,
     "metadata": {},
     "output_type": "execute_result"
    }
   ],
   "source": [
    "n_sample = 10000\n",
    "Alpha_P_bnr = HM.sleep_sample_batch(n_sample)\n",
    "generation = Alpha_P_bnr['z0']\n",
    "generation"
   ]
  },
  {
   "cell_type": "code",
   "execution_count": 1774,
   "id": "4fada9bb",
   "metadata": {},
   "outputs": [
    {
     "data": {
      "text/plain": [
       "array([1658, 4171, 1172, 2998,    1], dtype=int64)"
      ]
     },
     "execution_count": 1774,
     "metadata": {},
     "output_type": "execute_result"
    }
   ],
   "source": [
    "values, counts = np.unique(Alpha_P_bnr['z3'],axis=1, return_counts=True) #[10,8,6,3,1]\n",
    "counts"
   ]
  },
  {
   "cell_type": "code",
   "execution_count": 1775,
   "id": "79d3b94e",
   "metadata": {},
   "outputs": [],
   "source": [
    "Alpha_Q_bnr = HM.wake_sample_batch(np.repeat(dataset,30,axis=1),n_sample)"
   ]
  },
  {
   "cell_type": "code",
   "execution_count": 1776,
   "id": "90182fb9",
   "metadata": {},
   "outputs": [
    {
     "data": {
      "text/plain": [
       "array([1871,    1, 3325, 1021, 2782], dtype=int64)"
      ]
     },
     "execution_count": 1776,
     "metadata": {},
     "output_type": "execute_result"
    }
   ],
   "source": [
    "values, counts = np.unique(Alpha_Q_bnr['z3'],axis=1, return_counts=True) #[10,8,6,3,1]\n",
    "counts"
   ]
  },
  {
   "cell_type": "code",
   "execution_count": 1777,
   "id": "ef02b2ad",
   "metadata": {},
   "outputs": [],
   "source": [
    "data_dcm = decimalize(dataset)\n",
    "gen_dcm = decimalize(generation)\n",
    "values_d, counts_d = np.unique(data_dcm, return_counts=True)\n",
    "values_g, counts_g = np.unique(gen_dcm, return_counts=True)\n",
    "values_dg = np.unique(np.append(values_d,values_g))\n",
    "dist_d = counts_d\n",
    "dist_g = counts_g/n_sample*n_data\n",
    "dist = np.zeros((2,values_dg.size))"
   ]
  },
  {
   "cell_type": "code",
   "execution_count": 1778,
   "id": "f7d6675b",
   "metadata": {},
   "outputs": [],
   "source": [
    "xy, d_ind, dg_ind_d = np.intersect1d(values_d, values_dg, return_indices=True)\n",
    "xy, g_ind, dg_ind_g = np.intersect1d(values_g, values_dg, return_indices=True)"
   ]
  },
  {
   "cell_type": "code",
   "execution_count": 1779,
   "id": "65896d6e",
   "metadata": {},
   "outputs": [],
   "source": [
    "dist[0,dg_ind_d] = dist_d\n",
    "dist[1,dg_ind_g] = dist_g"
   ]
  },
  {
   "cell_type": "code",
   "execution_count": 1780,
   "id": "63376188",
   "metadata": {},
   "outputs": [
    {
     "data": {
      "text/plain": [
       "425.63199999999995"
      ]
     },
     "execution_count": 1780,
     "metadata": {},
     "output_type": "execute_result"
    }
   ],
   "source": [
    "MSE = np.sum((dist[0,:] - dist[1,:])**2)\n",
    "MSE"
   ]
  },
  {
   "cell_type": "code",
   "execution_count": 1781,
   "id": "4a399104",
   "metadata": {},
   "outputs": [
    {
     "data": {
      "text/plain": [
       "0.4003"
      ]
     },
     "execution_count": 1781,
     "metadata": {},
     "output_type": "execute_result"
    }
   ],
   "source": [
    "# statistics\n",
    "percent = np.in1d(gen_dcm,values_d).sum()/gen_dcm.size\n",
    "percent"
   ]
  },
  {
   "cell_type": "code",
   "execution_count": 1715,
   "id": "7841985a",
   "metadata": {},
   "outputs": [
    {
     "data": {
      "text/plain": [
       "662"
      ]
     },
     "execution_count": 1715,
     "metadata": {},
     "output_type": "execute_result"
    }
   ],
   "source": [
    "outlier_n = np.in1d(values_g,values_d,invert=True).sum()\n",
    "outlier_n"
   ]
  },
  {
   "cell_type": "code",
   "execution_count": 1716,
   "id": "517043fe",
   "metadata": {},
   "outputs": [
    {
     "data": {
      "text/plain": [
       "0.595"
      ]
     },
     "execution_count": 1716,
     "metadata": {},
     "output_type": "execute_result"
    }
   ],
   "source": [
    "outlier_index = np.where(np.in1d(values_g,values_d,invert=True))\n",
    "outlier = np.array([values_g[outlier_index],counts_g[outlier_index]])\n",
    "counts_g[outlier_index].sum()/n_sample"
   ]
  },
  {
   "cell_type": "code",
   "execution_count": 1717,
   "id": "36c886dd",
   "metadata": {},
   "outputs": [
    {
     "data": {
      "text/plain": [
       "19"
      ]
     },
     "execution_count": 1717,
     "metadata": {},
     "output_type": "execute_result"
    }
   ],
   "source": [
    "fp_n = np.in1d(values_d,values_g,invert=True).sum()\n",
    "fp_n"
   ]
  },
  {
   "cell_type": "code",
   "execution_count": 1718,
   "id": "6a79d932",
   "metadata": {},
   "outputs": [
    {
     "data": {
      "text/plain": [
       "0.002"
      ]
     },
     "execution_count": 1718,
     "metadata": {},
     "output_type": "execute_result"
    }
   ],
   "source": [
    "fp_index = np.where(np.in1d(values_d,values_g,invert=True))\n",
    "fp = np.array([values_d[fp_index],counts_d[fp_index]])\n",
    "counts_d[fp_index].sum()/n_sample"
   ]
  },
  {
   "cell_type": "code",
   "execution_count": 1719,
   "id": "1061516b",
   "metadata": {},
   "outputs": [
    {
     "data": {
      "text/plain": [
       "<matplotlib.legend.Legend at 0x21a679f1d90>"
      ]
     },
     "execution_count": 1719,
     "metadata": {},
     "output_type": "execute_result"
    },
    {
     "data": {
      "image/png": "[encoded data removed]",
      "text/plain": [
       "<Figure size 1800x1000 with 1 Axes>"
      ]
     },
     "metadata": {},
     "output_type": "display_data"
    }
   ],
   "source": [
    "# visualization (original order)\n",
    "x_lim = 2**HM.n_d\n",
    "fig, ax = plt.subplots(figsize=(18, 10))\n",
    "ax.bar(values_d, dist_d,label = \"Ground Truth\")\n",
    "ax.bar(values_g,dist_g,label = \"Generation\")\n",
    "ax.set(xlim=(0, x_lim))\n",
    "plt.legend()"
   ]
  },
  {
   "cell_type": "code",
   "execution_count": 1021,
   "id": "78c001e2",
   "metadata": {},
   "outputs": [
    {
     "data": {
      "text/plain": [
       "array([ 650,  651,  652, ..., 1008, 1009, 1017], dtype=int64)"
      ]
     },
     "execution_count": 1021,
     "metadata": {},
     "output_type": "execute_result"
    }
   ],
   "source": [
    "reordered_set = np.append(values_d,np.where(np.in1d(np.arange(0,x_lim),values_d,invert=True)))\n",
    "reordered_set"
   ]
  },
  {
   "cell_type": "code",
   "execution_count": 1022,
   "id": "f6093a3f",
   "metadata": {},
   "outputs": [],
   "source": [
    "xy, g_ind, re_ind = np.intersect1d(values_g, reordered_set, return_indices=True)"
   ]
  },
  {
   "cell_type": "code",
   "execution_count": 1023,
   "id": "d7367dff",
   "metadata": {},
   "outputs": [
    {
     "data": {
      "text/plain": [
       "<matplotlib.legend.Legend at 0x21a5a41a1d0>"
      ]
     },
     "execution_count": 1023,
     "metadata": {},
     "output_type": "execute_result"
    },
    {
     "data": {
      "image/png": "[encoded data removed]",
      "text/plain": [
       "<Figure size 1800x1000 with 1 Axes>"
      ]
     },
     "metadata": {},
     "output_type": "display_data"
    }
   ],
   "source": [
    "# visualization (re-order)\n",
    "x_lim = 2**HM.n_d\n",
    "n_ticks = 8\n",
    "xtick = np.arange(0,x_lim,int(x_lim/n_ticks/100+0.5)*100)\n",
    "xtick[np.argmin(np.abs(xtick - counts_d.size))] = counts_d.size\n",
    "xtick[-1] = x_lim\n",
    "\n",
    "fig, ax = plt.subplots(figsize=(18, 10))\n",
    "ax.bar(np.arange(counts_d.size),dist_d,label = \"Ground Truth\")\n",
    "ax.bar(np.sort(re_ind),dist_g[np.argsort(re_ind)],label = \"Generation\")\n",
    "ax.set(xlim=(0, x_lim), xticks=xtick)\n",
    "plt.legend()"
   ]
  },
  {
   "cell_type": "code",
   "execution_count": null,
   "id": "482919c4",
   "metadata": {},
   "outputs": [],
   "source": []
  },
  {
   "cell_type": "code",
   "execution_count": null,
   "id": "63cda822",
   "metadata": {},
   "outputs": [],
   "source": []
  },
  {
   "cell_type": "markdown",
   "id": "65f984a1",
   "metadata": {},
   "source": [
    "#### Post-processing"
   ]
  },
  {
   "cell_type": "code",
   "execution_count": 560,
   "id": "e2b4d439",
   "metadata": {},
   "outputs": [],
   "source": [
    "# HM.Norm_wake\n",
    "# HM.Norm_sleep\n",
    "# HM.norm_update()"
   ]
  },
  {
   "cell_type": "code",
   "execution_count": 685,
   "id": "d04bcac4",
   "metadata": {},
   "outputs": [
    {
     "name": "stdout",
     "output_type": "stream",
     "text": [
      "delta_loss: 0.05438910316629375 delta_f: 0.05638372414047777\n",
      "learning rate change: 0.06804622607667567\n",
      "delta_loss: 0.016245949003610094 delta_f: 0.016597544835692143\n",
      "learning rate change: 0.08256297998449529\n",
      "delta_loss: 0.00100050853950151 delta_f: 0.0010051795081557305\n",
      "learning rate change: 0.09664104923354642\n",
      "delta_loss: 0.07150847706109653 delta_f: 0.07195960043278823\n",
      "learning rate change: 0.09632229959867626\n",
      "delta_loss: 0.1887106331828612 delta_f: 0.18983020678770893\n",
      "learning rate change: 0.09626077653282775\n",
      "delta_loss: 0.15021801480739239 delta_f: 0.15449018873574802\n",
      "learning rate change: 0.08361333660640764\n",
      "delta_loss: 0.16437682773261697 delta_f: 0.1691848956994138\n",
      "learning rate change: 0.0792985805094706\n"
     ]
    }
   ],
   "source": [
    "HM.check_learning_rate(Alpha_P,Alpha_Q)"
   ]
  },
  {
   "cell_type": "code",
   "execution_count": 679,
   "id": "a3b67cd6",
   "metadata": {},
   "outputs": [
    {
     "data": {
      "text/plain": [
       "array([[0.09223127, 0.0965636 , 0.0994897 , 0.1       ],\n",
       "       [0.09640789, 0.09784066, 0.09949712, 0.09955754]])"
      ]
     },
     "execution_count": 679,
     "metadata": {},
     "output_type": "execute_result"
    }
   ],
   "source": [
    "HM.lr"
   ]
  },
  {
   "cell_type": "code",
   "execution_count": 686,
   "id": "328501be",
   "metadata": {},
   "outputs": [
    {
     "name": "stdout",
     "output_type": "stream",
     "text": [
      "mean:  [[ 0.20505972]\n",
      " [-2.34546241]\n",
      " [-1.12998377]\n",
      " [-2.20587891]\n",
      " [ 4.23259693]\n",
      " [ 1.67613006]\n",
      " [-2.53318631]\n",
      " [-3.15303168]]\n",
      "variance:  [[ 9.5840907 ]\n",
      " [ 4.93115383]\n",
      " [10.75898034]\n",
      " [ 6.57241381]\n",
      " [ 3.01927054]\n",
      " [ 4.29380434]\n",
      " [ 7.21834511]\n",
      " [ 3.81451885]]\n",
      "mean:  [[ 0.49790018]\n",
      " [-3.28049798]\n",
      " [-1.78900284]\n",
      " [-3.09031354]\n",
      " [ 2.10576247]\n",
      " [ 3.13281887]]\n",
      "variance:  [[9.62717795]\n",
      " [4.15156993]\n",
      " [2.48673745]\n",
      " [2.60442977]\n",
      " [5.24644926]\n",
      " [2.02691862]]\n",
      "mean:  [[ 3.59183105]\n",
      " [ 1.9120008 ]\n",
      " [-2.38617924]]\n",
      "variance:  [[2.8296228 ]\n",
      " [2.07283743]\n",
      " [6.51634957]]\n",
      "mean:  [[ 2.99705049]\n",
      " [ 1.7650585 ]\n",
      " [-1.96320875]]\n",
      "variance:  [[0.9919234 ]\n",
      " [1.26148602]\n",
      " [3.85914269]]\n",
      "mean:  [[ 0.72382662]\n",
      " [-3.0462023 ]\n",
      " [-1.64544818]\n",
      " [-2.93320947]\n",
      " [ 1.89010369]\n",
      " [ 3.11356005]]\n",
      "variance:  [[3.88699664]\n",
      " [3.0803616 ]\n",
      " [1.78767406]\n",
      " [1.89114895]\n",
      " [2.90990065]\n",
      " [1.8444683 ]]\n",
      "mean:  [[ 0.17705639]\n",
      " [-1.9474096 ]\n",
      " [-0.53805177]\n",
      " [-1.58487726]\n",
      " [ 4.1729943 ]\n",
      " [ 1.66812241]\n",
      " [-1.99651384]\n",
      " [-2.99240441]]\n",
      "variance:  [[2.43091329]\n",
      " [2.82521496]\n",
      " [1.72365973]\n",
      " [2.08910757]\n",
      " [2.73762018]\n",
      " [4.05643603]\n",
      " [3.21044353]\n",
      " [2.92046643]]\n",
      "mean:  [[ 8.19592861]\n",
      " [ 1.2615309 ]\n",
      " [ 1.52692769]\n",
      " [ 0.2135285 ]\n",
      " [ 0.32017369]\n",
      " [ 0.3893867 ]\n",
      " [ 0.53681853]\n",
      " [ 1.11457551]\n",
      " [ 0.65643367]\n",
      " [-0.17140047]]\n",
      "variance:  [[5.62011878]\n",
      " [5.23870987]\n",
      " [4.97706821]\n",
      " [0.57307119]\n",
      " [0.84012025]\n",
      " [0.94002901]\n",
      " [0.84558964]\n",
      " [4.05409048]\n",
      " [3.02124629]\n",
      " [1.56779384]]\n"
     ]
    }
   ],
   "source": [
    "HM.norm_update()"
   ]
  },
  {
   "cell_type": "code",
   "execution_count": 1261,
   "id": "8a2d1396",
   "metadata": {},
   "outputs": [],
   "source": [
    "HM.prob_matrix()"
   ]
  },
  {
   "cell_type": "code",
   "execution_count": 1498,
   "id": "6c6ad259",
   "metadata": {},
   "outputs": [
    {
     "data": {
      "text/plain": [
       "array([4.15888308, 1.6026435 , 1.54191883, 4.05182657, 1.13117255,\n",
       "       2.47574146, 0.84914124, 1.11057367, 1.42324828, 2.11913664,\n",
       "       1.87224667, 1.56805419, 1.96717821, 1.6683238 , 0.50787017,\n",
       "       1.80186696, 2.943097  , 1.6153151 , 2.06727769, 3.15733438,\n",
       "       2.30347043, 2.56520868, 1.1098868 , 2.141564  , 1.20750777,\n",
       "       1.8468537 , 1.63167354, 1.22179728, 1.56914046, 1.3551652 ,\n",
       "       1.17200027, 1.67760733, 1.48653911, 1.42668707, 2.1046045 ,\n",
       "       1.20204613, 2.05460493, 0.70418627, 0.59523651, 2.09278418,\n",
       "       2.65223476, 2.07489558, 1.07142565, 2.45381939, 0.9846837 ,\n",
       "       2.62191631, 0.10535773, 0.9085679 , 2.24637625, 2.16353798,\n",
       "       1.71804373, 1.87125311, 1.82330209, 1.23389537, 0.79127325,\n",
       "       1.72415463, 2.2365382 , 1.24615391, 1.96149212, 2.35461751,\n",
       "       1.38964204, 3.14904622, 0.25074432, 1.23946851, 2.28819933,\n",
       "       2.70275918, 1.15374625, 2.43416832, 1.0384842 , 1.96811814,\n",
       "       0.47524835, 0.81290594, 0.90915943, 1.82412822, 0.97362833,\n",
       "       0.89405671, 0.62642521, 1.1777669 , 0.6229906 , 0.74206245,\n",
       "       2.10825501, 2.65376469, 1.15414031, 2.2994013 , 1.27623781,\n",
       "       2.20661078, 0.95987203, 1.14248126, 1.20427369, 1.34000694,\n",
       "       1.32220812, 1.19215793, 0.53972757, 1.15534424, 0.79222504,\n",
       "       0.60975217, 1.8260951 , 1.31147306, 1.71303313, 1.52949991,\n",
       "       0.95191775, 2.07011648, 0.18477178, 0.97277384, 1.67527196,\n",
       "       1.45330167, 0.82069571, 1.84861987, 0.55834819, 1.87224061,\n",
       "       0.09322486, 0.43720461, 2.27998727, 1.20509987, 1.74599056,\n",
       "       2.061342  , 1.06601374, 2.11671906, 0.38865726, 1.02103561,\n",
       "       1.48990747, 1.63306576, 1.27875605, 1.58419034, 0.91393492,\n",
       "       1.60535553, 0.27269282, 0.84025265, 0.07082675, 0.28009743,\n",
       "       0.51463171, 0.08397037, 0.22232218, 0.0722201 , 1.00843217,\n",
       "       0.32266027, 0.13833083, 0.04187443, 0.65670036, 0.17532437,\n",
       "       0.04975165, 0.00880547, 0.63942311, 0.06932499, 0.13233079,\n",
       "       0.36494135, 0.8493735 , 0.13774689, 0.06964158, 0.04325213,\n",
       "       0.54250661, 0.10482335, 0.34640986, 0.07274793, 0.37001968,\n",
       "       0.41490622, 0.07150867, 0.00718842, 0.73611683, 0.09383954,\n",
       "       0.57545421, 1.35819995, 1.71271762, 0.7376744 , 1.30993772,\n",
       "       0.80243607, 1.07088585, 1.33877835, 0.46756443, 0.3826778 ,\n",
       "       0.52230715, 0.56001046, 0.45634223, 0.12145176, 1.94710287,\n",
       "       0.61378757, 0.61765428, 1.06718074, 1.15339557, 0.73297283,\n",
       "       0.71195772, 0.48883825, 1.76352492, 0.90863532, 0.73971367,\n",
       "       0.54236229, 0.18205704, 0.77837272, 0.33280583, 0.07725248,\n",
       "       1.07764553, 0.43509423, 0.46219013, 0.1148657 , 0.8498844 ,\n",
       "       0.54597428, 0.69374097, 0.2226348 , 1.48694649, 0.7795334 ,\n",
       "       0.62486628, 0.2055751 , 0.1470067 , 0.56417138, 0.69200593,\n",
       "       0.07716613, 0.86454479, 0.79516296, 0.70946769, 0.16830315,\n",
       "       0.47902665, 0.74326038, 0.43170452, 0.07123705, 1.29108919,\n",
       "       0.52204469, 0.32310786, 0.46297678, 0.04850053, 0.26462913,\n",
       "       0.74427752, 0.10748327, 0.34216415, 0.74570428, 1.40739629,\n",
       "       0.94161633, 0.93178883, 1.50724594, 0.96719904, 0.8821027 ,\n",
       "       1.2087594 , 1.13114345, 0.49494379, 0.66160568, 0.68125769,\n",
       "       0.48130317, 1.42770952, 0.559019  , 0.67835166, 1.42020525,\n",
       "       0.99543168, 0.97108334, 0.85161824, 0.99217053, 1.33255062,\n",
       "       0.62940442, 1.0819565 , 1.46948756, 0.17271247, 0.85171242,\n",
       "       0.29520791, 0.16452797, 0.9271929 , 0.45782881, 0.78353932,\n",
       "       0.91486664, 2.62223577])"
      ]
     },
     "execution_count": 1498,
     "metadata": {},
     "output_type": "execute_result"
    }
   ],
   "source": [
    "HM.Prob_mtx_wake['Prob_12'][:,-1]"
   ]
  },
  {
   "cell_type": "code",
   "execution_count": 1227,
   "id": "067673e5",
   "metadata": {},
   "outputs": [
    {
     "data": {
      "text/plain": [
       "4.1588830833596715"
      ]
     },
     "execution_count": 1227,
     "metadata": {},
     "output_type": "execute_result"
    }
   ],
   "source": [
    "np.log(2**6)"
   ]
  },
  {
   "cell_type": "code",
   "execution_count": 1263,
   "id": "b4605c51",
   "metadata": {},
   "outputs": [
    {
     "data": {
      "text/plain": [
       "array([4.15888308, 1.46899102, 2.39385178, 1.67337806, 2.9677934 ,\n",
       "       1.01966291, 2.12550257, 1.01882204])"
      ]
     },
     "execution_count": 1263,
     "metadata": {},
     "output_type": "execute_result"
    }
   ],
   "source": [
    "HM.Prob_mtx_sleep['Prob_32'][:,-1]"
   ]
  },
  {
   "cell_type": "code",
   "execution_count": 1265,
   "id": "ded669e8",
   "metadata": {},
   "outputs": [
    {
     "data": {
      "text/plain": [
       "array([3.70050677e-02, 5.00777871e-03, 2.35999519e-03, 3.19370681e-04,\n",
       "       6.54096777e-01, 8.85168469e-02, 4.17149688e-02, 5.64515472e-03,\n",
       "       2.41645666e-03, 3.27011433e-04, 1.54109328e-04, 2.08551276e-05,\n",
       "       4.27129745e-02, 5.78021167e-03, 2.72401648e-03, 3.68632530e-04,\n",
       "       2.21056629e-03, 2.99148941e-04, 1.40978686e-04, 1.90781994e-05,\n",
       "       3.90736830e-02, 5.28771786e-03, 2.49192096e-03, 3.37223778e-04,\n",
       "       1.44351516e-04, 1.95346339e-05, 9.20600624e-06, 1.24581969e-06,\n",
       "       2.55153868e-03, 3.45291655e-04, 1.62724172e-04, 2.20209472e-05,\n",
       "       2.26650134e-03, 3.06718454e-04, 1.44545939e-04, 1.95609445e-05,\n",
       "       4.00623837e-02, 5.42151560e-03, 2.55497527e-03, 3.45756718e-04,\n",
       "       1.48004114e-04, 2.00289284e-05, 9.43895037e-06, 1.27734328e-06,\n",
       "       2.61610152e-03, 3.54028740e-04, 1.66841662e-04, 2.25781542e-05,\n",
       "       1.35393657e-04, 1.83223952e-05, 8.63471950e-06, 1.16850927e-06,\n",
       "       2.39320072e-03, 3.23864280e-04, 1.52626182e-04, 2.06544182e-05,\n",
       "       8.84130000e-06, 1.19646515e-06, 5.63853190e-07, 7.63044679e-08,\n",
       "       1.56277672e-04, 2.11485628e-05, 9.96659583e-06, 1.34874787e-06,\n",
       "       1.46899102e+00])"
      ]
     },
     "execution_count": 1265,
     "metadata": {},
     "output_type": "execute_result"
    }
   ],
   "source": [
    "HM.Prob_mtx_sleep['Prob_32'][1,:]"
   ]
  },
  {
   "cell_type": "code",
   "execution_count": null,
   "id": "c19ec544",
   "metadata": {},
   "outputs": [],
   "source": []
  }
 ],
 "metadata": {
  "kernelspec": {
   "display_name": "Python 3 (ipykernel)",
   "language": "python",
   "name": "python3"
  },
  "language_info": {
   "codemirror_mode": {
    "name": "ipython",
    "version": 3
   },
   "file_extension": ".py",
   "mimetype": "text/x-python",
   "name": "python",
   "nbconvert_exporter": "python",
   "pygments_lexer": "ipython3",
   "version": "3.11.5"
  }
 },
 "nbformat": 4,
 "nbformat_minor": 5
}
