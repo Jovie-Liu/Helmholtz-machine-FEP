{
 "cells": [
  {
   "cell_type": "code",
   "execution_count": 2,
   "id": "a76200bf",
   "metadata": {},
   "outputs": [],
   "source": [
    "from PIL import Image\n",
    "import numpy as np\n",
    "import matplotlib.pyplot as plt\n",
    "import matplotlib.cm as cm\n",
    "import matplotlib.animation as animation\n",
    "import os \n",
    "import cv2"
   ]
  },
  {
   "cell_type": "code",
   "execution_count": 3,
   "id": "bac98a9d",
   "metadata": {},
   "outputs": [
    {
     "data": {
      "text/plain": [
       "['s0.png',\n",
       " 's1.png',\n",
       " 's2.png',\n",
       " 's5.png',\n",
       " 's6.png',\n",
       " 's7.png',\n",
       " 's8.png',\n",
       " 's9.png']"
      ]
     },
     "execution_count": 3,
     "metadata": {},
     "output_type": "execute_result"
    }
   ],
   "source": [
    "image_folder = 'D:/Qualification/Helmholtz/animation/sampling/selected'\n",
    "images = [img for img in os.listdir(image_folder)if img.endswith(\".jpg\") or\n",
    "                 img.endswith(\".jpeg\") or\n",
    "                 img.endswith(\"png\")]\n",
    "images"
   ]
  },
  {
   "cell_type": "code",
   "execution_count": 4,
   "id": "d7841257",
   "metadata": {},
   "outputs": [],
   "source": [
    "frame = cv2.imread(os.path.join(image_folder, images[0]))"
   ]
  },
  {
   "cell_type": "code",
   "execution_count": 5,
   "id": "62dded15",
   "metadata": {},
   "outputs": [],
   "source": [
    "height, width, layers = frame.shape"
   ]
  },
  {
   "cell_type": "code",
   "execution_count": 6,
   "id": "d6c03861",
   "metadata": {},
   "outputs": [],
   "source": [
    "video_name = 'D:/Qualification/Helmholtz/animation/sampling/active_sampling_sel.avi'\n",
    "video = cv2.VideoWriter(video_name, 0, 1, (width, height))"
   ]
  },
  {
   "cell_type": "code",
   "execution_count": 7,
   "id": "f1004e06",
   "metadata": {},
   "outputs": [],
   "source": [
    "for image in images:  \n",
    "    video.write(cv2.imread(os.path.join(image_folder, image)))"
   ]
  },
  {
   "cell_type": "code",
   "execution_count": 8,
   "id": "45b5f0ac",
   "metadata": {},
   "outputs": [],
   "source": [
    "cv2.destroyAllWindows()  \n",
    "video.release()"
   ]
  },
  {
   "cell_type": "code",
   "execution_count": null,
   "id": "44199bb8",
   "metadata": {},
   "outputs": [],
   "source": []
  }
 ],
 "metadata": {
  "kernelspec": {
   "display_name": "Python 3 (ipykernel)",
   "language": "python",
   "name": "python3"
  },
  "language_info": {
   "codemirror_mode": {
    "name": "ipython",
    "version": 3
   },
   "file_extension": ".py",
   "mimetype": "text/x-python",
   "name": "python",
   "nbconvert_exporter": "python",
   "pygments_lexer": "ipython3",
   "version": "3.11.5"
  }
 },
 "nbformat": 4,
 "nbformat_minor": 5
}
